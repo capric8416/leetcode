{
    "nbformat": 4,
    "nbformat_minor": 2,
    "metadata": {
        "kernelspec": {
            "display_name": "Python 3",
            "language": "python",
            "name": "python3"
        },
        "language_info": {
            "codemirror_mode": {
                "name": "ipython",
                "version": 3
            },
            "file_extension": ".py",
            "mimetype": "text/x-python",
            "name": "python",
            "nbconvert_exporter": "python",
            "pygments_lexer": "ipython3",
            "version": "3.7.2"
        }
    },
    "cells": [
        {
            "cell_type": "markdown",
            "source": [
                "<h1>Self Crossing</h1>",
                "<p>You are given an array <i>x</i> of <code>n</code> positive numbers. You start at point <code>(0,0)</code> and moves <code>x[0]</code> metres to the north, then <code>x[1]</code> metres to the west, <code>x[2]</code> metres to the south, <code>x[3]</code> metres to the east and so on. In other words, after each move your direction changes counter-clockwise.</p><div></div>",
                "<div></div>",
                "<p>Write a one-pass algorithm with <code>O(1)</code> extra space to determine, if your path crosses itself, or not.</p><div></div>",
                "<div></div>",
                "<p><b>Example 1:</b></p><div></div>",
                "<div></div>",
                "<pre><div></div>",
                "<strong>Input: </strong><code>[2,1,1,2]</code><div></div>",
                "<div></div>",
                "?????<div></div>",
                "?   ?<div></div>",
                "???????&gt;<div></div>",
                "    ?<div></div>",
                "<div></div>",
                "<strong>Input: </strong>true <div></div>",
                "<strong>Explanation:</strong>&nbsp;self crossing<div></div>",
                "</pre><div></div>",
                "<div></div>",
                "<p><b>Example 2:</b></p><div></div>",
                "<div></div>",
                "<pre><div></div>",
                "<strong>Input:</strong> <code>[1,2,3,4]</code><div></div>",
                "<div></div>",
                "????????<div></div>",
                "?      ?<div></div>",
                "?<div></div>",
                "?<div></div>",
                "?????????????&gt;<div></div>",
                "<div></div>",
                "<strong>Output: </strong>false <div></div>",
                "<strong>Explanation: </strong>not self crossing<div></div>",
                "</pre><div></div>",
                "<div></div>",
                "<p><b>Example 3:</b></p><div></div>",
                "<div></div>",
                "<pre><div></div>",
                "<strong>Input:</strong> <code>[1,1,1,1]</code><div></div>",
                "<div></div>",
                "?????<div></div>",
                "?   ?<div></div>",
                "?????&gt;<div></div>",
                "<div></div>",
                "<strong>Output:</strong> true <div></div>",
                "<strong>Explanation:</strong>&nbsp;self crossing<div></div>",
                "</pre><div></div>"
            ],
            "metadata": {}
        },
        {
            "cell_type": "code",
            "metadata": {},
            "execution_count": null,
            "source": "%%writefile self_crossing.py\nclass Solution:\n    def isSelfCrossing(self, x):\n        \"\"\"\n        :type x: List[int]\n        :rtype: bool\n        \"\"\"",
            "outputs": []
        },
        {
            "cell_type": "code",
            "metadata": {},
            "execution_count": null,
            "source": "# submit\n%run ../../cli.py push --method=submit --path=self_crossing.py --clean=True",
            "outputs": []
        }
    ]
}