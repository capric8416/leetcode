{
    "nbformat": 4,
    "nbformat_minor": 2,
    "metadata": {
        "kernelspec": {
            "display_name": "Python 3",
            "language": "python",
            "name": "python3"
        },
        "language_info": {
            "codemirror_mode": {
                "name": "ipython",
                "version": 3
            },
            "file_extension": ".py",
            "mimetype": "text/x-python",
            "name": "python",
            "nbconvert_exporter": "python",
            "pygments_lexer": "ipython3",
            "version": "3.7.2"
        }
    },
    "cells": [
        {
            "cell_type": "markdown",
            "source": [
                "<h1>Excel Sheet Column Number</h1>",
                "<p>Given a column title as appear in an Excel sheet, return its corresponding column number.</p><div></div>",
                "<div></div>",
                "<p>For example:</p><div></div>",
                "<div></div>",
                "<pre><div></div>",
                "    A -&gt; 1<div></div>",
                "    B -&gt; 2<div></div>",
                "    C -&gt; 3<div></div>",
                "    ...<div></div>",
                "    Z -&gt; 26<div></div>",
                "    AA -&gt; 27<div></div>",
                "    AB -&gt; 28 <div></div>",
                "    ...<div></div>",
                "</pre><div></div>",
                "<div></div>",
                "<p><strong>Example 1:</strong></p><div></div>",
                "<div></div>",
                "<pre><div></div>",
                "<strong>Input:</strong> &quot;A&quot;<div></div>",
                "<strong>Output:</strong> 1<div></div>",
                "</pre><div></div>",
                "<div></div>",
                "<p><strong>Example 2:</strong></p><div></div>",
                "<div></div>",
                "<pre><div></div>",
                "<strong>Input: </strong>&quot;AB&quot;<div></div>",
                "<strong>Output:</strong> 28<div></div>",
                "</pre><div></div>",
                "<div></div>",
                "<p><strong>Example 3:</strong></p><div></div>",
                "<div></div>",
                "<pre><div></div>",
                "<strong>Input: </strong>&quot;ZY&quot;<div></div>",
                "<strong>Output:</strong> 701<div></div>",
                "</pre><div></div>"
            ],
            "metadata": {}
        },
        {
            "cell_type": "code",
            "metadata": {},
            "execution_count": null,
            "source": "%%writefile excel_sheet_column_number.py\nclass Solution:\n    def titleToNumber(self, s):\n        \"\"\"\n        :type s: str\n        :rtype: int\n        \"\"\"",
            "outputs": []
        },
        {
            "cell_type": "code",
            "metadata": {},
            "execution_count": null,
            "source": "# submit\n%run ../../cli.py push --method=submit --path=excel_sheet_column_number.py --clean=True",
            "outputs": []
        }
    ]
}