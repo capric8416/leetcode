{
    "nbformat": 4,
    "nbformat_minor": 2,
    "metadata": {
        "kernelspec": {
            "display_name": "Python 3",
            "language": "python",
            "name": "python3"
        },
        "language_info": {
            "codemirror_mode": {
                "name": "ipython",
                "version": 3
            },
            "file_extension": ".py",
            "mimetype": "text/x-python",
            "name": "python",
            "nbconvert_exporter": "python",
            "pygments_lexer": "ipython3",
            "version": "3.7.2"
        }
    },
    "cells": [
        {
            "cell_type": "markdown",
            "source": [
                "<h1>Longest Substring Without Repeating Characters</h1>",
                "<p>Given a string, find the length of the <b>longest substring</b> without repeating characters.</p><div></div>",
                "<div></div>",
                "<div><div></div>",
                "<p><strong>Example 1:</strong></p><div></div>",
                "<div></div>",
                "<pre><div></div>",
                "<strong>Input: </strong><span id=\"example-input-1-1\">&quot;abcabcbb&quot;</span><div></div>",
                "<strong>Output: </strong><span id=\"example-output-1\">3 <div></div>",
                "<strong>Explanation:</strong></span> The answer is <code>&quot;abc&quot;</code>, with the length of 3. <div></div>",
                "</pre><div></div>",
                "<div></div>",
                "<div><div></div>",
                "<p><strong>Example 2:</strong></p><div></div>",
                "<div></div>",
                "<pre><div></div>",
                "<strong>Input: </strong><span id=\"example-input-2-1\">&quot;bbbbb&quot;</span><div></div>",
                "<strong>Output: </strong><span id=\"example-output-2\">1<div></div>",
                "</span><span id=\"example-output-1\"><strong>Explanation: </strong>T</span>he answer is <code>&quot;b&quot;</code>, with the length of 1.<div></div>",
                "</pre><div></div>",
                "<div></div>",
                "<div><div></div>",
                "<p><strong>Example 3:</strong></p><div></div>",
                "<div></div>",
                "<pre><div></div>",
                "<strong>Input: </strong><span id=\"example-input-3-1\">&quot;pwwkew&quot;</span><div></div>",
                "<strong>Output: </strong><span id=\"example-output-3\">3<div></div>",
                "</span><span id=\"example-output-1\"><strong>Explanation: </strong></span>The answer is <code>&quot;wke&quot;</code>, with the length of 3. <div></div>",
                "             Note that the answer must be a <b>substring</b>, <code>&quot;pwke&quot;</code> is a <i>subsequence</i> and not a substring.<div></div>",
                "</pre><div></div>",
                "</div><div></div>",
                "</div><div></div>",
                "</div><div></div>",
                "<div></div>"
            ],
            "metadata": {}
        },
        {
            "cell_type": "code",
            "metadata": {},
            "execution_count": null,
            "source": "%%writefile longest_substring_without_repeating_characters.py\nclass Solution:\n    def lengthOfLongestSubstring(self, s):\n        \"\"\"\n        :type s: str\n        :rtype: int\n        \"\"\"",
            "outputs": []
        },
        {
            "cell_type": "code",
            "metadata": {},
            "execution_count": null,
            "source": "# submit\n%run ../../cli.py push --method=submit --path=longest_substring_without_repeating_characters.py --clean=True",
            "outputs": []
        }
    ]
}