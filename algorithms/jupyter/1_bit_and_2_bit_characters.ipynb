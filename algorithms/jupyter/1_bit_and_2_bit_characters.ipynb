{
    "nbformat": 4,
    "nbformat_minor": 2,
    "metadata": {
        "kernelspec": {
            "display_name": "Python 3",
            "language": "python",
            "name": "python3"
        },
        "language_info": {
            "codemirror_mode": {
                "name": "ipython",
                "version": 3
            },
            "file_extension": ".py",
            "mimetype": "text/x-python",
            "name": "python",
            "nbconvert_exporter": "python",
            "pygments_lexer": "ipython3",
            "version": "3.7.2"
        }
    },
    "cells": [
        {
            "cell_type": "markdown",
            "source": [
                "<h1>1-bit and 2-bit Characters</h1>",
                "<p>We have two special characters. The first character can be represented by one bit <code>0</code>. The second character can be represented by two bits (<code>10</code> or <code>11</code>).  </p><div></div>",
                "<div></div>",
                "<p>Now given a string represented by several bits. Return whether the last character must be a one-bit character or not. The given string will always end with a zero.</p><div></div>",
                "<div></div>",
                "<p><b>Example 1:</b><br /><div></div>",
                "<pre><div></div>",
                "<b>Input:</b> <div></div>",
                "bits = [1, 0, 0]<div></div>",
                "<b>Output:</b> True<div></div>",
                "<b>Explanation:</b> <div></div>",
                "The only way to decode it is two-bit character and one-bit character. So the last character is one-bit character.<div></div>",
                "</pre><div></div>",
                "</p><div></div>",
                "<div></div>",
                "<p><b>Example 2:</b><br /><div></div>",
                "<pre><div></div>",
                "<b>Input:</b> <div></div>",
                "bits = [1, 1, 1, 0]<div></div>",
                "<b>Output:</b> False<div></div>",
                "<b>Explanation:</b> <div></div>",
                "The only way to decode it is two-bit character and two-bit character. So the last character is NOT one-bit character.<div></div>",
                "</pre><div></div>",
                "</p><div></div>",
                "<div></div>",
                "<p><b>Note:</b><div></div>",
                "<li><code>1 <= len(bits) <= 1000</code>.</li><div></div>",
                "<li><code>bits[i]</code> is always <code>0</code> or <code>1</code>.</li><div></div>",
                "</p><div></div>"
            ],
            "metadata": {}
        },
        {
            "cell_type": "code",
            "metadata": {},
            "execution_count": null,
            "source": "%%writefile 1_bit_and_2_bit_characters.py\nclass Solution:\n    def isOneBitCharacter(self, bits):\n        \"\"\"\n        :type bits: List[int]\n        :rtype: bool\n        \"\"\"",
            "outputs": []
        },
        {
            "cell_type": "code",
            "metadata": {},
            "execution_count": null,
            "source": "# submit\n%run ../../cli.py push --method=submit --path=1_bit_and_2_bit_characters.py --clean=True",
            "outputs": []
        }
    ]
}