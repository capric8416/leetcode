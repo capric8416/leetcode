{
    "nbformat": 4,
    "nbformat_minor": 2,
    "metadata": {
        "kernelspec": {
            "display_name": "Python 3",
            "language": "python",
            "name": "python3"
        },
        "language_info": {
            "codemirror_mode": {
                "name": "ipython",
                "version": 3
            },
            "file_extension": ".py",
            "mimetype": "text/x-python",
            "name": "python",
            "nbconvert_exporter": "python",
            "pygments_lexer": "ipython3",
            "version": "3.7.2"
        }
    },
    "cells": [
        {
            "cell_type": "markdown",
            "source": [
                "<h1>Array Nesting</h1>",
                "<p>A zero-indexed array A of length N contains all integers from 0 to N-1. Find and return the longest length of set S, where S[i] = {A[i], A[A[i]], A[A[A[i]]], ... } subjected to the rule below.</p><div></div>",
                "<div></div>",
                "<p>Suppose the first element in S starts with the selection of element A[i] of index = i, the next element in S should be A[A[i]], and then A[A[A[i]]]&hellip; By that analogy, we stop adding right before a duplicate element occurs in S.</p><div></div>",
                "<div></div>",
                "<p>&nbsp;</p><div></div>",
                "<div></div>",
                "<p><b>Example 1:</b></p><div></div>",
                "<div></div>",
                "<pre><div></div>",
                "<b>Input:</b> A = [5,4,0,3,1,6,2]<div></div>",
                "<b>Output:</b> 4<div></div>",
                "<b>Explanation:</b> <div></div>",
                "A[0] = 5, A[1] = 4, A[2] = 0, A[3] = 3, A[4] = 1, A[5] = 6, A[6] = 2.<div></div>",
                "<div></div>",
                "One of the longest S[K]:<div></div>",
                "S[0] = {A[0], A[5], A[6], A[2]} = {5, 6, 2, 0}<div></div>",
                "</pre><div></div>",
                "<div></div>",
                "<p>&nbsp;</p><div></div>",
                "<div></div>",
                "<p><b>Note:</b></p><div></div>",
                "<div></div>",
                "<ol><div></div>",
                "\t<li>N is an integer within the range [1, 20,000].</li><div></div>",
                "\t<li>The elements of A are all distinct.</li><div></div>",
                "\t<li>Each element of A is an integer within the range [0, N-1].</li><div></div>",
                "</ol><div></div>",
                "<div></div>"
            ],
            "metadata": {}
        },
        {
            "cell_type": "code",
            "metadata": {},
            "execution_count": null,
            "source": "%%writefile array_nesting.py\nclass Solution:\n    def arrayNesting(self, nums):\n        \"\"\"\n        :type nums: List[int]\n        :rtype: int\n        \"\"\"",
            "outputs": []
        },
        {
            "cell_type": "code",
            "metadata": {},
            "execution_count": null,
            "source": "# submit\n%run ../../cli.py push --method=submit --path=array_nesting.py --clean=True",
            "outputs": []
        }
    ]
}