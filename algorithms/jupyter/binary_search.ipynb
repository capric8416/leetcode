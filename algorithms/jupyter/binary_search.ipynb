{
    "nbformat": 4,
    "nbformat_minor": 2,
    "metadata": {
        "kernelspec": {
            "display_name": "Python 3",
            "language": "python",
            "name": "python3"
        },
        "language_info": {
            "codemirror_mode": {
                "name": "ipython",
                "version": 3
            },
            "file_extension": ".py",
            "mimetype": "text/x-python",
            "name": "python",
            "nbconvert_exporter": "python",
            "pygments_lexer": "ipython3",
            "version": "3.7.2"
        }
    },
    "cells": [
        {
            "cell_type": "markdown",
            "source": [
                "<h1>Binary Search</h1>",
                "<p>Given a <strong>sorted</strong> (in ascending order) integer array <code>nums</code> of <code>n</code> elements and a <code>target</code> value, write a function to search <code>target</code> in <code>nums</code>. If <code>target</code> exists, then return its index, otherwise return <code>-1</code>.</p><div></div>",
                "<div></div>",
                "<p><br /><div></div>",
                "<strong>Example 1:</strong></p><div></div>",
                "<div></div>",
                "<pre><div></div>",
                "<strong>Input:</strong> <code>nums</code> = [-1,0,3,5,9,12], <code>target</code> = 9<div></div>",
                "<strong>Output:</strong> 4<div></div>",
                "<strong>Explanation:</strong> 9 exists in <code>nums</code> and its index is 4<div></div>",
                "<div></div>",
                "</pre><div></div>",
                "<div></div>",
                "<p><strong>Example 2:</strong></p><div></div>",
                "<div></div>",
                "<pre><div></div>",
                "<strong>Input:</strong> <code>nums</code> = [-1,0,3,5,9,12], <code>target</code> = 2<div></div>",
                "<strong>Output:</strong> -1<div></div>",
                "<strong>Explanation:</strong> 2 does not exist in <code>nums</code> so return -1<div></div>",
                "</pre><div></div>",
                "<div></div>",
                "<p>&nbsp;</p><div></div>",
                "<div></div>",
                "<p><strong>Note:</strong></p><div></div>",
                "<div></div>",
                "<ol><div></div>",
                "\t<li>You may assume that all elements in <code>nums</code> are unique.</li><div></div>",
                "\t<li><code>n</code> will be in the range <code>[1, 10000]</code>.</li><div></div>",
                "\t<li>The value of each element in <code>nums</code> will be in the range <code>[-9999, 9999]</code>.</li><div></div>",
                "</ol><div></div>",
                "<div></div>"
            ],
            "metadata": {}
        },
        {
            "cell_type": "code",
            "metadata": {},
            "execution_count": null,
            "source": "%%writefile binary_search.py\nclass Solution:\n    def search(self, nums, target):\n        \"\"\"\n        :type nums: List[int]\n        :type target: int\n        :rtype: int\n        \"\"\"",
            "outputs": []
        },
        {
            "cell_type": "code",
            "metadata": {},
            "execution_count": null,
            "source": "# submit\n%run ../../cli.py push --method=submit --path=binary_search.py --clean=True",
            "outputs": []
        }
    ]
}