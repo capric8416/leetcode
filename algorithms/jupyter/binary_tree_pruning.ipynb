{
    "nbformat": 4,
    "nbformat_minor": 2,
    "metadata": {
        "kernelspec": {
            "display_name": "Python 3",
            "language": "python",
            "name": "python3"
        },
        "language_info": {
            "codemirror_mode": {
                "name": "ipython",
                "version": 3
            },
            "file_extension": ".py",
            "mimetype": "text/x-python",
            "name": "python",
            "nbconvert_exporter": "python",
            "pygments_lexer": "ipython3",
            "version": "3.7.2"
        }
    },
    "cells": [
        {
            "cell_type": "markdown",
            "source": [
                "<h1>Binary Tree Pruning</h1>",
                "<p>We are given the head node <code>root</code>&nbsp;of a binary tree, where additionally every node&#39;s value is either a 0 or a 1.</p><div></div>",
                "<div></div>",
                "<p>Return the same tree where every subtree (of the given tree) not containing a 1 has been removed.</p><div></div>",
                "<div></div>",
                "<p>(Recall that the subtree of a node X is X, plus every node that is a descendant of X.)</p><div></div>",
                "<div></div>",
                "<pre><div></div>",
                "<strong>Example 1:</strong><div></div>",
                "<strong>Input:</strong> [1,null,0,0,1]<div></div>",
                "<strong>Output: </strong>[1,null,0,null,1]<div></div>",
                " <div></div>",
                "<strong>Explanation:</strong> <div></div>",
                "Only the red nodes satisfy the property &quot;every subtree not containing a 1&quot;.<div></div>",
                "The diagram on the right represents the answer.<div></div>",
                "<div></div>",
                "<img alt=\"\" src=\"https://s3-lc-upload.s3.amazonaws.com/uploads/2018/04/06/1028_2.png\" style=\"width:450px\" /><div></div>",
                "</pre><div></div>",
                "<div></div>",
                "<pre><div></div>",
                "<strong>Example 2:</strong><div></div>",
                "<strong>Input:</strong> [1,0,1,0,0,0,1]<div></div>",
                "<strong>Output: </strong>[1,null,1,null,1]<div></div>",
                "<div></div>",
                "<div></div>",
                "<img alt=\"\" src=\"https://s3-lc-upload.s3.amazonaws.com/uploads/2018/04/06/1028_1.png\" style=\"width:450px\" /><div></div>",
                "</pre><div></div>",
                "<div></div>",
                "<pre><div></div>",
                "<strong>Example 3:</strong><div></div>",
                "<strong>Input:</strong> [1,1,0,1,1,0,1,0]<div></div>",
                "<strong>Output: </strong>[1,1,0,1,1,null,1]<div></div>",
                "<div></div>",
                "<div></div>",
                "<img alt=\"\" src=\"https://s3-lc-upload.s3.amazonaws.com/uploads/2018/04/05/1028.png\" style=\"width:450px\" /><div></div>",
                "</pre><div></div>",
                "<div></div>",
                "<p><strong>Note: </strong></p><div></div>",
                "<div></div>",
                "<ul><div></div>",
                "\t<li>The binary tree&nbsp;will&nbsp;have&nbsp;at&nbsp;most <code>100 nodes</code>.</li><div></div>",
                "\t<li>The value of each node will only be <code>0</code> or <code>1</code>.</li><div></div>",
                "</ul><div></div>",
                "<div></div>"
            ],
            "metadata": {}
        },
        {
            "cell_type": "code",
            "metadata": {},
            "execution_count": null,
            "source": "%%writefile binary_tree_pruning.py\n# Definition for a binary tree node.\n# class TreeNode:\n#     def __init__(self, x):\n#         self.val = x\n#         self.left = None\n#         self.right = None\n\nclass Solution:\n    def pruneTree(self, root):\n        \"\"\"\n        :type root: TreeNode\n        :rtype: TreeNode\n        \"\"\"",
            "outputs": []
        },
        {
            "cell_type": "code",
            "metadata": {},
            "execution_count": null,
            "source": "# submit\n%run ../../cli.py push --method=submit --path=binary_tree_pruning.py --clean=True",
            "outputs": []
        }
    ]
}