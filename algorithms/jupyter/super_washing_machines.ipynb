{
    "nbformat": 4,
    "nbformat_minor": 2,
    "metadata": {
        "kernelspec": {
            "display_name": "Python 3",
            "language": "python",
            "name": "python3"
        },
        "language_info": {
            "codemirror_mode": {
                "name": "ipython",
                "version": 3
            },
            "file_extension": ".py",
            "mimetype": "text/x-python",
            "name": "python",
            "nbconvert_exporter": "python",
            "pygments_lexer": "ipython3",
            "version": "3.7.2"
        }
    },
    "cells": [
        {
            "cell_type": "markdown",
            "source": [
                "<h1>Super Washing Machines</h1>",
                "<p>You have <b>n</b> super washing machines on a line. Initially, each washing machine has some dresses or is empty. <div></div>",
                "</p><div></div>",
                "<div></div>",
                "<p>For each <b>move</b>, you could choose <b>any m</b> (1 &le; m &le; n) washing machines, and pass <b>one dress</b> of each washing machine to one of its adjacent washing machines <b> at the same time </b>.  </p><div></div>",
                "<div></div>",
                "<p>Given an integer array representing the number of dresses in each washing machine from left to right on the line, you should find the <b>minimum number of moves</b> to make all the washing machines have the same number of dresses. If it is not possible to do it, return -1.</p><div></div>",
                "<div></div>",
                "<p><b>Example1</b><div></div>",
                "<pre><div></div>",
                "<b>Input:</b> [1,0,5]<div></div>",
                "<div></div>",
                "<b>Output:</b> 3<div></div>",
                "<div></div>",
                "<b>Explanation:</b> <div></div>",
                "1st move:    1     0 <-- 5    =>    1     1     4<div></div>",
                "2nd move:    1 <-- 1 <-- 4    =>    2     1     3    <div></div>",
                "3rd move:    2     1 <-- 3    =>    2     2     2   <div></div>",
                "</pre><div></div>",
                "<div></div>",
                "<p><b>Example2</b><div></div>",
                "<pre><div></div>",
                "<b>Input:</b> [0,3,0]<div></div>",
                "<div></div>",
                "<b>Output:</b> 2<div></div>",
                "<div></div>",
                "<b>Explanation:</b> <div></div>",
                "1st move:    0 <-- 3     0    =>    1     2     0    <div></div>",
                "2nd move:    1     2 --> 0    =>    1     1     1     <div></div>",
                "</pre><div></div>",
                "<div></div>",
                "<p><b>Example3</b><div></div>",
                "<pre><div></div>",
                "<b>Input:</b> [0,2,0]<div></div>",
                "<div></div>",
                "<b>Output:</b> -1<div></div>",
                "<div></div>",
                "<b>Explanation:</b> <div></div>",
                "It's impossible to make all the three washing machines have the same number of dresses. <div></div>",
                "</pre><div></div>",
                "<div></div>",
                "</p><div></div>",
                "<div></div>",
                "<p><b>Note:</b><br><div></div>",
                "<ol><div></div>",
                "<li>The range of n is [1, 10000].</li><div></div>",
                "<li>The range of dresses number in a super washing machine is [0, 1e5].</li><div></div>",
                "</ol><div></div>",
                "</p><div></div>"
            ],
            "metadata": {}
        },
        {
            "cell_type": "code",
            "metadata": {},
            "execution_count": null,
            "source": "%%writefile super_washing_machines.py\nclass Solution:\n    def findMinMoves(self, machines):\n        \"\"\"\n        :type machines: List[int]\n        :rtype: int\n        \"\"\"",
            "outputs": []
        },
        {
            "cell_type": "code",
            "metadata": {},
            "execution_count": null,
            "source": "# submit\n%run ../../cli.py push --method=submit --path=super_washing_machines.py --clean=True",
            "outputs": []
        }
    ]
}