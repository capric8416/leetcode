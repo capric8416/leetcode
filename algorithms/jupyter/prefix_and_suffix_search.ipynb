{
    "nbformat": 4,
    "nbformat_minor": 2,
    "metadata": {
        "kernelspec": {
            "display_name": "Python 3",
            "language": "python",
            "name": "python3"
        },
        "language_info": {
            "codemirror_mode": {
                "name": "ipython",
                "version": 3
            },
            "file_extension": ".py",
            "mimetype": "text/x-python",
            "name": "python",
            "nbconvert_exporter": "python",
            "pygments_lexer": "ipython3",
            "version": "3.7.2"
        }
    },
    "cells": [
        {
            "cell_type": "markdown",
            "source": [
                "<h1>Prefix and Suffix Search</h1>",
                "<p><div></div>",
                "Given many <code>words</code>, <code>words[i]</code> has weight <code>i</code>.<div></div>",
                "</p><p><div></div>",
                "Design a class <code>WordFilter</code> that supports one function, <code>WordFilter.f(String prefix, String suffix)</code>.<div></div>",
                "It will return the word with given <code>prefix</code> and <code>suffix</code> with maximum weight.  If no word exists, return -1.<div></div>",
                "</p><div></div>",
                "<div></div>",
                "<p><b>Examples:</b><br /><div></div>",
                "<pre><div></div>",
                "<b>Input:</b><div></div>",
                "WordFilter([\"apple\"])<div></div>",
                "WordFilter.f(\"a\", \"e\") // returns 0<div></div>",
                "WordFilter.f(\"b\", \"\") // returns -1<div></div>",
                "</pre></p><div></div>",
                "<div></div>",
                "<p><b>Note:</b><br><div></div>",
                "<ol><div></div>",
                "<li><code>words</code> has length in range <code>[1, 15000]</code>.</li><div></div>",
                "<li>For each test case, up to <code>words.length</code> queries <code>WordFilter.f</code> may be made.</li><div></div>",
                "<li><code>words[i]</code> has length in range <code>[1, 10]</code>.</li><div></div>",
                "<li><code>prefix, suffix</code> have lengths in range <code>[0, 10]</code>.</li><div></div>",
                "<li><code>words[i]</code> and <code>prefix, suffix</code> queries consist of lowercase letters only.</li><div></div>",
                "</ol><div></div>",
                "</p><div></div>"
            ],
            "metadata": {}
        },
        {
            "cell_type": "code",
            "metadata": {},
            "execution_count": null,
            "source": "%%writefile prefix_and_suffix_search.py\nclass WordFilter:\n\n    def __init__(self, words):\n        \"\"\"\n        :type words: List[str]\n        \"\"\"\n        \n\n    def f(self, prefix, suffix):\n        \"\"\"\n        :type prefix: str\n        :type suffix: str\n        :rtype: int\n        \"\"\"\n        \n\n\n# Your WordFilter object will be instantiated and called as such:\n# obj = WordFilter(words)\n# param_1 = obj.f(prefix,suffix)",
            "outputs": []
        },
        {
            "cell_type": "code",
            "metadata": {},
            "execution_count": null,
            "source": "# submit\n%run ../../cli.py push --method=submit --path=prefix_and_suffix_search.py --clean=True",
            "outputs": []
        }
    ]
}