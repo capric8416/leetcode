{
    "nbformat": 4,
    "nbformat_minor": 2,
    "metadata": {
        "kernelspec": {
            "display_name": "Python 3",
            "language": "python",
            "name": "python3"
        },
        "language_info": {
            "codemirror_mode": {
                "name": "ipython",
                "version": 3
            },
            "file_extension": ".py",
            "mimetype": "text/x-python",
            "name": "python",
            "nbconvert_exporter": "python",
            "pygments_lexer": "ipython3",
            "version": "3.7.2"
        }
    },
    "cells": [
        {
            "cell_type": "markdown",
            "source": [
                "<h1>Dungeon Game</h1>",
                "<style type=\"text/css\">table.dungeon, .dungeon th, .dungeon td {<div></div>",
                "  border:3px solid black;<div></div>",
                "}<div></div>",
                "<div></div>",
                " .dungeon th, .dungeon td {<div></div>",
                "    text-align: center;<div></div>",
                "    height: 70px;<div></div>",
                "    width: 70px;<div></div>",
                "}<div></div>",
                "</style><div></div>",
                "<p>The demons had captured the princess (<strong>P</strong>) and imprisoned her in the bottom-right corner of a dungeon. The dungeon consists of M x N rooms laid out in a 2D grid. Our valiant knight (<strong>K</strong>) was initially positioned in the top-left room and must fight his way through the dungeon to rescue the princess.</p><div></div>",
                "<div></div>",
                "<p>The knight has an initial health point represented by a positive integer. If at any point his health point drops to 0 or below, he dies immediately.</p><div></div>",
                "<div></div>",
                "<p>Some of the rooms are guarded by demons, so the knight loses health (<em>negative</em> integers) upon entering these rooms; other rooms are either empty (<em>0&#39;s</em>) or contain magic orbs that increase the knight&#39;s health (<em>positive</em> integers).</p><div></div>",
                "<div></div>",
                "<p>In order to reach the princess as quickly as possible, the knight decides to move only rightward or downward in each step.</p><div></div>",
                "<div></div>",
                "<p>&nbsp;</p><div></div>",
                "<div></div>",
                "<p><strong>Write a function to determine the knight&#39;s minimum initial health so that he is able to rescue the princess.</strong></p><div></div>",
                "<div></div>",
                "<p>For example, given the dungeon below, the initial health of the knight must be at least <strong>7</strong> if he follows the optimal path <code>RIGHT-&gt; RIGHT -&gt; DOWN -&gt; DOWN</code>.</p><div></div>",
                "<div></div>",
                "<table class=\"dungeon\"><div></div>",
                "\t<tbody><div></div>",
                "\t\t<tr><div></div>",
                "\t\t\t<td>-2 (K)</td><div></div>",
                "\t\t\t<td>-3</td><div></div>",
                "\t\t\t<td>3</td><div></div>",
                "\t\t</tr><div></div>",
                "\t\t<tr><div></div>",
                "\t\t\t<td>-5</td><div></div>",
                "\t\t\t<td>-10</td><div></div>",
                "\t\t\t<td>1</td><div></div>",
                "\t\t</tr><div></div>",
                "\t\t<tr><div></div>",
                "\t\t\t<td>10</td><div></div>",
                "\t\t\t<td>30</td><div></div>",
                "\t\t\t<td>-5 (P)</td><div></div>",
                "\t\t</tr><div></div>",
                "\t</tbody><div></div>",
                "</table><div></div>",
                "<div></div>",
                "<p>&nbsp;</p><div></div>",
                "<div></div>",
                "<p><strong>Note:</strong></p><div></div>",
                "<div></div>",
                "<ul><div></div>",
                "\t<li>The knight&#39;s health has no upper bound.</li><div></div>",
                "\t<li>Any room can contain threats or power-ups, even the first room the knight enters and the bottom-right room where the princess is imprisoned.</li><div></div>",
                "</ul><div></div>",
                "<div></div>"
            ],
            "metadata": {}
        },
        {
            "cell_type": "code",
            "metadata": {},
            "execution_count": null,
            "source": "%%writefile dungeon_game.py\nclass Solution:\n    def calculateMinimumHP(self, dungeon):\n        \"\"\"\n        :type dungeon: List[List[int]]\n        :rtype: int\n        \"\"\"",
            "outputs": []
        },
        {
            "cell_type": "code",
            "metadata": {},
            "execution_count": null,
            "source": "# submit\n%run ../../cli.py push --method=submit --path=dungeon_game.py --clean=True",
            "outputs": []
        }
    ]
}