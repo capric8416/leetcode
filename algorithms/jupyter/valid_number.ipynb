{
    "nbformat": 4,
    "nbformat_minor": 2,
    "metadata": {
        "kernelspec": {
            "display_name": "Python 3",
            "language": "python",
            "name": "python3"
        },
        "language_info": {
            "codemirror_mode": {
                "name": "ipython",
                "version": 3
            },
            "file_extension": ".py",
            "mimetype": "text/x-python",
            "name": "python",
            "nbconvert_exporter": "python",
            "pygments_lexer": "ipython3",
            "version": "3.7.2"
        }
    },
    "cells": [
        {
            "cell_type": "markdown",
            "source": [
                "<h1>Valid Number</h1>",
                "<p>Validate if a given string can be interpreted as&nbsp;a decimal number.</p><div></div>",
                "<div></div>",
                "<p>Some examples:<br /><div></div>",
                "<code>&quot;0&quot;</code> =&gt; <code>true</code><br /><div></div>",
                "<code>&quot; 0.1 &quot;</code> =&gt; <code>true</code><br /><div></div>",
                "<code>&quot;abc&quot;</code> =&gt; <code>false</code><br /><div></div>",
                "<code>&quot;1 a&quot;</code> =&gt; <code>false</code><br /><div></div>",
                "<code>&quot;2e10&quot;</code> =&gt; <code>true</code><br /><div></div>",
                "<code>&quot; -90e3&nbsp; &nbsp;&quot;</code> =&gt; <code>true</code><br /><div></div>",
                "<code>&quot; 1e&quot;</code> =&gt; <code>false</code><br /><div></div>",
                "<code>&quot;e3&quot;</code> =&gt; <code>false</code><br /><div></div>",
                "<code>&quot; 6e-1&quot;</code> =&gt; <code>true</code><br /><div></div>",
                "<code>&quot; 99e2.5&nbsp;&quot;</code> =&gt; <code>false</code><br /><div></div>",
                "<code>&quot;53.5e93&quot;</code> =&gt; <code>true</code><br /><div></div>",
                "<code>&quot; --6 &quot;</code> =&gt; <code>false</code><br /><div></div>",
                "<code>&quot;-+3&quot;</code> =&gt; <code>false</code><br /><div></div>",
                "<code>&quot;95a54e53&quot;</code> =&gt; <code>false</code></p><div></div>",
                "<div></div>",
                "<p><strong>Note:</strong> It is intended for the problem statement to be ambiguous. You should gather all requirements up front before implementing one. However, here is a list of characters that can be in a valid decimal number:</p><div></div>",
                "<div></div>",
                "<ul><div></div>",
                "\t<li>Numbers 0-9</li><div></div>",
                "\t<li>Exponent - &quot;e&quot;</li><div></div>",
                "\t<li>Positive/negative sign - &quot;+&quot;/&quot;-&quot;</li><div></div>",
                "\t<li>Decimal point - &quot;.&quot;</li><div></div>",
                "</ul><div></div>",
                "<div></div>",
                "<p>Of course, the context of these characters also matters in the input.</p><div></div>",
                "<div></div>",
                "<p><strong>Update (2015-02-10):</strong><br /><div></div>",
                "The signature of the <code>C++</code> function had been updated. If you still see your function signature accepts a <code>const char *</code> argument, please click the reload button to reset your code definition.</p><div></div>",
                "<div></div>"
            ],
            "metadata": {}
        },
        {
            "cell_type": "code",
            "metadata": {},
            "execution_count": null,
            "source": "%%writefile valid_number.py\nclass Solution:\n    def isNumber(self, s):\n        \"\"\"\n        :type s: str\n        :rtype: bool\n        \"\"\"",
            "outputs": []
        },
        {
            "cell_type": "code",
            "metadata": {},
            "execution_count": null,
            "source": "# submit\n%run ../../cli.py push --method=submit --path=valid_number.py --clean=True",
            "outputs": []
        }
    ]
}