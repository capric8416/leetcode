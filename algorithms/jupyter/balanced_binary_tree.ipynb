{
    "nbformat": 4,
    "nbformat_minor": 2,
    "metadata": {
        "kernelspec": {
            "display_name": "Python 3",
            "language": "python",
            "name": "python3"
        },
        "language_info": {
            "codemirror_mode": {
                "name": "ipython",
                "version": 3
            },
            "file_extension": ".py",
            "mimetype": "text/x-python",
            "name": "python",
            "nbconvert_exporter": "python",
            "pygments_lexer": "ipython3",
            "version": "3.7.2"
        }
    },
    "cells": [
        {
            "cell_type": "markdown",
            "source": [
                "<h1>Balanced Binary Tree</h1>",
                "<p>Given a binary tree, determine if it is height-balanced.</p><div></div>",
                "<div></div>",
                "<p>For this problem, a height-balanced binary tree is defined as:</p><div></div>",
                "<div></div>",
                "<blockquote><div></div>",
                "<p>a binary tree in which the depth of the two subtrees of <em>every</em> node never differ by more than 1.</p><div></div>",
                "</blockquote><div></div>",
                "<div></div>",
                "<p><strong>Example 1:</strong></p><div></div>",
                "<div></div>",
                "<p>Given the following tree <code>[3,9,20,null,null,15,7]</code>:</p><div></div>",
                "<div></div>",
                "<pre><div></div>",
                "    3<div></div>",
                "   / \\<div></div>",
                "  9  20<div></div>",
                "    /  \\<div></div>",
                "   15   7</pre><div></div>",
                "<div></div>",
                "<p>Return true.<br /><div></div>",
                "<br /><div></div>",
                "<strong>Example 2:</strong></p><div></div>",
                "<div></div>",
                "<p>Given the following tree <code>[1,2,2,3,3,null,null,4,4]</code>:</p><div></div>",
                "<div></div>",
                "<pre><div></div>",
                "       1<div></div>",
                "      / \\<div></div>",
                "     2   2<div></div>",
                "    / \\<div></div>",
                "   3   3<div></div>",
                "  / \\<div></div>",
                " 4   4<div></div>",
                "</pre><div></div>",
                "<div></div>",
                "<p>Return false.</p><div></div>",
                "<div></div>"
            ],
            "metadata": {}
        },
        {
            "cell_type": "code",
            "metadata": {},
            "execution_count": null,
            "source": "%%writefile balanced_binary_tree.py\n# Definition for a binary tree node.\n# class TreeNode:\n#     def __init__(self, x):\n#         self.val = x\n#         self.left = None\n#         self.right = None\n\nclass Solution:\n    def isBalanced(self, root):\n        \"\"\"\n        :type root: TreeNode\n        :rtype: bool\n        \"\"\"",
            "outputs": []
        },
        {
            "cell_type": "code",
            "metadata": {},
            "execution_count": null,
            "source": "# submit\n%run ../../cli.py push --method=submit --path=balanced_binary_tree.py --clean=True",
            "outputs": []
        }
    ]
}