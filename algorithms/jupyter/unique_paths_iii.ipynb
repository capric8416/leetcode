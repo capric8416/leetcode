{
    "nbformat": 4,
    "nbformat_minor": 2,
    "metadata": {
        "kernelspec": {
            "display_name": "Python 3",
            "language": "python",
            "name": "python3"
        },
        "language_info": {
            "codemirror_mode": {
                "name": "ipython",
                "version": 3
            },
            "file_extension": ".py",
            "mimetype": "text/x-python",
            "name": "python",
            "nbconvert_exporter": "python",
            "pygments_lexer": "ipython3",
            "version": "3.7.2"
        }
    },
    "cells": [
        {
            "cell_type": "markdown",
            "source": [
                "<h1>Unique Paths III</h1>",
                "<p>On a 2-dimensional&nbsp;<code>grid</code>, there are 4 types of squares:</p><div></div>",
                "<div></div>",
                "<ul><div></div>",
                "\t<li><code>1</code> represents the starting square.&nbsp; There is exactly one starting square.</li><div></div>",
                "\t<li><code>2</code> represents the ending square.&nbsp; There is exactly one ending square.</li><div></div>",
                "\t<li><code>0</code> represents empty squares we can walk over.</li><div></div>",
                "\t<li><code>-1</code> represents obstacles that we cannot walk over.</li><div></div>",
                "</ul><div></div>",
                "<div></div>",
                "<p>Return the number of 4-directional walks&nbsp;from the starting square to the ending square, that <strong>walk over every non-obstacle square&nbsp;exactly once</strong>.</p><div></div>",
                "<div></div>",
                "<p>&nbsp;</p><div></div>",
                "<div></div>",
                "<div><div></div>",
                "<p><strong>Example 1:</strong></p><div></div>",
                "<div></div>",
                "<pre><div></div>",
                "<strong>Input: </strong><span id=\"example-input-1-1\">[[1,0,0,0],[0,0,0,0],[0,0,2,-1]]</span><div></div>",
                "<strong>Output: </strong><span id=\"example-output-1\">2</span><div></div>",
                "<strong>Explanation: </strong>We have the following two paths: <div></div>",
                "1. (0,0),(0,1),(0,2),(0,3),(1,3),(1,2),(1,1),(1,0),(2,0),(2,1),(2,2)<div></div>",
                "2. (0,0),(1,0),(2,0),(2,1),(1,1),(0,1),(0,2),(0,3),(1,3),(1,2),(2,2)</pre><div></div>",
                "<div></div>",
                "<div><div></div>",
                "<p><strong>Example 2:</strong></p><div></div>",
                "<div></div>",
                "<pre><div></div>",
                "<strong>Input: </strong><span id=\"example-input-2-1\">[[1,0,0,0],[0,0,0,0],[0,0,0,2]]</span><div></div>",
                "<strong>Output: </strong><span id=\"example-output-2\">4</span><div></div>",
                "<strong>Explanation: </strong>We have the following four paths: <div></div>",
                "1. (0,0),(0,1),(0,2),(0,3),(1,3),(1,2),(1,1),(1,0),(2,0),(2,1),(2,2),(2,3)<div></div>",
                "2. (0,0),(0,1),(1,1),(1,0),(2,0),(2,1),(2,2),(1,2),(0,2),(0,3),(1,3),(2,3)<div></div>",
                "3. (0,0),(1,0),(2,0),(2,1),(2,2),(1,2),(1,1),(0,1),(0,2),(0,3),(1,3),(2,3)<div></div>",
                "4. (0,0),(1,0),(2,0),(2,1),(1,1),(0,1),(0,2),(0,3),(1,3),(1,2),(2,2),(2,3)</pre><div></div>",
                "<div></div>",
                "<div><div></div>",
                "<p><strong>Example 3:</strong></p><div></div>",
                "<div></div>",
                "<pre><div></div>",
                "<strong>Input: </strong><span id=\"example-input-3-1\">[[0,1],[2,0]]</span><div></div>",
                "<strong>Output: </strong><span id=\"example-output-3\">0</span><div></div>",
                "<strong>Explanation: </strong><div></div>",
                "There is no path that walks over every empty square exactly once.<div></div>",
                "Note that the starting and ending square can be anywhere in the grid.<div></div>",
                "</pre><div></div>",
                "</div><div></div>",
                "</div><div></div>",
                "</div><div></div>",
                "<div></div>",
                "<p>&nbsp;</p><div></div>",
                "<div></div>",
                "<p><strong>Note:</strong></p><div></div>",
                "<div></div>",
                "<ol><div></div>",
                "\t<li><code>1 &lt;= grid.length * grid[0].length &lt;= 20</code></li><div></div>",
                "</ol><div></div>",
                "<div></div>"
            ],
            "metadata": {}
        },
        {
            "cell_type": "code",
            "metadata": {},
            "execution_count": null,
            "source": "%%writefile unique_paths_iii.py\nclass Solution:\n    def uniquePathsIII(self, grid):\n        \"\"\"\n        :type grid: List[List[int]]\n        :rtype: int\n        \"\"\"",
            "outputs": []
        },
        {
            "cell_type": "code",
            "metadata": {},
            "execution_count": null,
            "source": "# submit\n%run ../../cli.py push --method=submit --path=unique_paths_iii.py --clean=True",
            "outputs": []
        }
    ]
}