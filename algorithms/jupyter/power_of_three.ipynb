{
    "nbformat": 4,
    "nbformat_minor": 2,
    "metadata": {
        "kernelspec": {
            "display_name": "Python 3",
            "language": "python",
            "name": "python3"
        },
        "language_info": {
            "codemirror_mode": {
                "name": "ipython",
                "version": 3
            },
            "file_extension": ".py",
            "mimetype": "text/x-python",
            "name": "python",
            "nbconvert_exporter": "python",
            "pygments_lexer": "ipython3",
            "version": "3.7.2"
        }
    },
    "cells": [
        {
            "cell_type": "markdown",
            "source": [
                "<h1>Power of Three</h1>",
                "<p>Given an integer, write a function to determine if it is a power of three.</p><div></div>",
                "<div></div>",
                "<p><b>Example 1:</b></p><div></div>",
                "<div></div>",
                "<pre><div></div>",
                "<strong>Input:</strong> 27<div></div>",
                "<strong>Output:</strong> true<div></div>",
                "</pre><div></div>",
                "<div></div>",
                "<p><b>Example 2:</b></p><div></div>",
                "<div></div>",
                "<pre><div></div>",
                "<strong>Input:</strong> 0<div></div>",
                "<strong>Output:</strong> false</pre><div></div>",
                "<div></div>",
                "<p><b>Example 3:</b></p><div></div>",
                "<div></div>",
                "<pre><div></div>",
                "<strong>Input:</strong> 9<div></div>",
                "<strong>Output:</strong> true</pre><div></div>",
                "<div></div>",
                "<p><b>Example 4:</b></p><div></div>",
                "<div></div>",
                "<pre><div></div>",
                "<strong>Input:</strong> 45<div></div>",
                "<strong>Output:</strong> false</pre><div></div>",
                "<div></div>",
                "<p><b>Follow up:</b><br /><div></div>",
                "Could you do it without using any loop / recursion?</p><div></div>"
            ],
            "metadata": {}
        },
        {
            "cell_type": "code",
            "metadata": {},
            "execution_count": null,
            "source": "%%writefile power_of_three.py\nclass Solution:\n    def isPowerOfThree(self, n):\n        \"\"\"\n        :type n: int\n        :rtype: bool\n        \"\"\"",
            "outputs": []
        },
        {
            "cell_type": "code",
            "metadata": {},
            "execution_count": null,
            "source": "# submit\n%run ../../cli.py push --method=submit --path=power_of_three.py --clean=True",
            "outputs": []
        }
    ]
}