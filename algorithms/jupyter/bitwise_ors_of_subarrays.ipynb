{
    "nbformat": 4,
    "nbformat_minor": 2,
    "metadata": {
        "kernelspec": {
            "display_name": "Python 3",
            "language": "python",
            "name": "python3"
        },
        "language_info": {
            "codemirror_mode": {
                "name": "ipython",
                "version": 3
            },
            "file_extension": ".py",
            "mimetype": "text/x-python",
            "name": "python",
            "nbconvert_exporter": "python",
            "pygments_lexer": "ipython3",
            "version": "3.7.2"
        }
    },
    "cells": [
        {
            "cell_type": "markdown",
            "source": [
                "<h1>Bitwise ORs of Subarrays</h1>",
                "<p>We have an array <code>A</code> of non-negative integers.</p><div></div>",
                "<div></div>",
                "<p>For every (contiguous) subarray <code>B =&nbsp;[A[i], A[i+1], ..., A[j]]</code> (with <code>i &lt;= j</code>), we take the bitwise OR of all the elements in <code>B</code>, obtaining a result <font face=\"monospace\"><code>A[i] | A[i+1] | ... | A[j]</code>.</font></p><div></div>",
                "<div></div>",
                "<p>Return the number of possible&nbsp;results.&nbsp; (Results that occur more than once are only counted once in the final answer.)</p><div></div>",
                "<div></div>",
                "<p>&nbsp;</p><div></div>",
                "<div></div>",
                "<div><div></div>",
                "<p><strong>Example 1:</strong></p><div></div>",
                "<div></div>",
                "<pre><div></div>",
                "<strong>Input: </strong><span id=\"example-input-1-1\">[0]</span><div></div>",
                "<strong>Output: </strong><span id=\"example-output-1\">1</span><div></div>",
                "<strong>Explanation: </strong><div></div>",
                "There is only one possible result: 0.<div></div>",
                "</pre><div></div>",
                "<div></div>",
                "<div><div></div>",
                "<p><strong>Example 2:</strong></p><div></div>",
                "<div></div>",
                "<pre><div></div>",
                "<strong>Input: </strong><span id=\"example-input-2-1\">[1,1,2]</span><div></div>",
                "<strong>Output: </strong><span id=\"example-output-2\">3</span><div></div>",
                "<strong>Explanation: </strong><div></div>",
                "The possible subarrays are [1], [1], [2], [1, 1], [1, 2], [1, 1, 2].<div></div>",
                "These yield the results 1, 1, 2, 1, 3, 3.<div></div>",
                "There are 3 unique values, so the answer is 3.<div></div>",
                "</pre><div></div>",
                "<div></div>",
                "<div><div></div>",
                "<p><strong>Example 3:</strong></p><div></div>",
                "<div></div>",
                "<pre><div></div>",
                "<strong>Input: </strong><span id=\"example-input-3-1\">[1,2,4]</span><div></div>",
                "<strong>Output: </strong><span id=\"example-output-3\">6</span><div></div>",
                "<strong>Explanation: </strong><div></div>",
                "The possible results are 1, 2, 3, 4, 6, and 7.<div></div>",
                "</pre><div></div>",
                "</div><div></div>",
                "</div><div></div>",
                "</div><div></div>",
                "<div></div>",
                "<p>&nbsp;</p><div></div>",
                "<div></div>",
                "<p><strong>Note:</strong></p><div></div>",
                "<div></div>",
                "<ol><div></div>",
                "\t<li><code>1 &lt;= A.length &lt;= 50000</code></li><div></div>",
                "\t<li><code>0 &lt;= A[i] &lt;= 10^9</code></li><div></div>",
                "</ol><div></div>",
                "<div></div>"
            ],
            "metadata": {}
        },
        {
            "cell_type": "code",
            "metadata": {},
            "execution_count": null,
            "source": "%%writefile bitwise_ors_of_subarrays.py\nclass Solution:\n    def subarrayBitwiseORs(self, A):\n        \"\"\"\n        :type A: List[int]\n        :rtype: int\n        \"\"\"",
            "outputs": []
        },
        {
            "cell_type": "code",
            "metadata": {},
            "execution_count": null,
            "source": "# submit\n%run ../../cli.py push --method=submit --path=bitwise_ors_of_subarrays.py --clean=True",
            "outputs": []
        }
    ]
}