{
    "nbformat": 4,
    "nbformat_minor": 2,
    "metadata": {
        "kernelspec": {
            "display_name": "Python 3",
            "language": "python",
            "name": "python3"
        },
        "language_info": {
            "codemirror_mode": {
                "name": "ipython",
                "version": 3
            },
            "file_extension": ".py",
            "mimetype": "text/x-python",
            "name": "python",
            "nbconvert_exporter": "python",
            "pygments_lexer": "ipython3",
            "version": "3.7.2"
        }
    },
    "cells": [
        {
            "cell_type": "markdown",
            "source": [
                "<h1>Minimum Height Trees</h1>",
                "<p>For an undirected graph with tree characteristics, we can choose any node as the root. The result graph is then a rooted tree. Among all possible rooted trees, those with minimum height are called minimum height trees (MHTs). Given such a graph, write a function to find all the MHTs and return a list of their root labels.</p><div></div>",
                "<div></div>",
                "<p><b>Format</b><br /><div></div>",
                "The graph contains <code>n</code> nodes which are labeled from <code>0</code> to <code>n - 1</code>. You will be given the number <code>n</code> and a list of undirected <code>edges</code> (each edge is a pair of labels).</p><div></div>",
                "<div></div>",
                "<p>You can assume that no duplicate edges will appear in <code>edges</code>. Since all edges are undirected, <code>[0, 1]</code> is the same as <code>[1, 0]</code> and thus will not appear together in <code>edges</code>.</p><div></div>",
                "<div></div>",
                "<p><b>Example 1 :</b></p><div></div>",
                "<div></div>",
                "<pre><div></div>",
                "<strong>Input:</strong> <code>n = 4</code>, <code>edges = [[1, 0], [1, 2], [1, 3]]</code><div></div>",
                "<div></div>",
                "        0<div></div>",
                "        |<div></div>",
                "        1<div></div>",
                "       / \\<div></div>",
                "      2   3 <div></div>",
                "<div></div>",
                "<strong>Output:</strong> <code>[1]</code><div></div>",
                "</pre><div></div>",
                "<div></div>",
                "<p><b>Example 2 :</b></p><div></div>",
                "<div></div>",
                "<pre><div></div>",
                "<strong>Input:</strong> <code>n = 6</code>, <code>edges = [[0, 3], [1, 3], [2, 3], [4, 3], [5, 4]]</code><div></div>",
                "<div></div>",
                "     0  1  2<div></div>",
                "      \\ | /<div></div>",
                "        3<div></div>",
                "        |<div></div>",
                "        4<div></div>",
                "        |<div></div>",
                "        5 <div></div>",
                "<div></div>",
                "<strong>Output:</strong> <code>[3, 4]</code></pre><div></div>",
                "<div></div>",
                "<p><b>Note</b>:</p><div></div>",
                "<div></div>",
                "<ul><div></div>",
                "\t<li>According to the <a href=\"https://en.wikipedia.org/wiki/Tree_(graph_theory)\" target=\"_blank\">definition of tree on Wikipedia</a>: &ldquo;a tree is an undirected graph in which any two vertices are connected by <i>exactly</i> one path. In other words, any connected graph without simple cycles is a tree.&rdquo;</li><div></div>",
                "\t<li>The height of a rooted tree is the number of edges on the longest downward path between the root and a leaf.</li><div></div>",
                "</ul><div></div>",
                "<div></div>"
            ],
            "metadata": {}
        },
        {
            "cell_type": "code",
            "metadata": {},
            "execution_count": null,
            "source": "%%writefile minimum_height_trees.py\nclass Solution:\n    def findMinHeightTrees(self, n, edges):\n        \"\"\"\n        :type n: int\n        :type edges: List[List[int]]\n        :rtype: List[int]\n        \"\"\"",
            "outputs": []
        },
        {
            "cell_type": "code",
            "metadata": {},
            "execution_count": null,
            "source": "# submit\n%run ../../cli.py push --method=submit --path=minimum_height_trees.py --clean=True",
            "outputs": []
        }
    ]
}