{
    "nbformat": 4,
    "nbformat_minor": 2,
    "metadata": {
        "kernelspec": {
            "display_name": "Python 3",
            "language": "python",
            "name": "python3"
        },
        "language_info": {
            "codemirror_mode": {
                "name": "ipython",
                "version": 3
            },
            "file_extension": ".py",
            "mimetype": "text/x-python",
            "name": "python",
            "nbconvert_exporter": "python",
            "pygments_lexer": "ipython3",
            "version": "3.7.2"
        }
    },
    "cells": [
        {
            "cell_type": "markdown",
            "source": [
                "<h1>01 Matrix</h1>",
                "<p><div></div>",
                "Given a matrix consists of 0 and 1, find the distance of the nearest 0 for each cell.<div></div>",
                "</p><div></div>",
                "The distance between two adjacent cells is 1.<div></div>",
                "<div></div>",
                "<p><b>Example 1: </b><br><div></div>",
                "Input:<div></div>",
                "<pre><div></div>",
                "0 0 0<div></div>",
                "0 1 0<div></div>",
                "0 0 0<div></div>",
                "</pre><div></div>",
                "Output:<div></div>",
                "<pre><div></div>",
                "0 0 0<div></div>",
                "0 1 0<div></div>",
                "0 0 0<div></div>",
                "</pre><div></div>",
                "</p><div></div>",
                "<div></div>",
                "<p><b>Example 2: </b><br><div></div>",
                "Input:<div></div>",
                "<pre><div></div>",
                "0 0 0<div></div>",
                "0 1 0<div></div>",
                "1 1 1<div></div>",
                "</pre><div></div>",
                "Output:<div></div>",
                "<pre><div></div>",
                "0 0 0<div></div>",
                "0 1 0<div></div>",
                "1 2 1<div></div>",
                "</pre><div></div>",
                "</p><div></div>",
                "<div></div>",
                "<p><b>Note:</b><br><div></div>",
                "<ol><div></div>",
                "<li>The number of elements of the given matrix will not exceed 10,000.</li><div></div>",
                "<li>There are at least one 0 in the given matrix.</li><div></div>",
                "<li>The cells are adjacent in only four directions: up, down, left and right.</li><div></div>",
                "</ol><div></div>",
                "</p><div></div>",
                "<div></div>"
            ],
            "metadata": {}
        },
        {
            "cell_type": "code",
            "metadata": {},
            "execution_count": null,
            "source": "%%writefile 01_matrix.py\nclass Solution:\n    def updateMatrix(self, matrix):\n        \"\"\"\n        :type matrix: List[List[int]]\n        :rtype: List[List[int]]\n        \"\"\"",
            "outputs": []
        },
        {
            "cell_type": "code",
            "metadata": {},
            "execution_count": null,
            "source": "# submit\n%run ../../cli.py push --method=submit --path=01_matrix.py --clean=True",
            "outputs": []
        }
    ]
}