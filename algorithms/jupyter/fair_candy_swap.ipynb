{
    "nbformat": 4,
    "nbformat_minor": 2,
    "metadata": {
        "kernelspec": {
            "display_name": "Python 3",
            "language": "python",
            "name": "python3"
        },
        "language_info": {
            "codemirror_mode": {
                "name": "ipython",
                "version": 3
            },
            "file_extension": ".py",
            "mimetype": "text/x-python",
            "name": "python",
            "nbconvert_exporter": "python",
            "pygments_lexer": "ipython3",
            "version": "3.7.2"
        }
    },
    "cells": [
        {
            "cell_type": "markdown",
            "source": [
                "<h1>Fair Candy Swap</h1>",
                "<p>Alice and Bob have candy bars of different sizes: <code>A[i]</code> is the size of the <code>i</code>-th bar of candy that Alice has, and <code>B[j]</code> is the size of the <code>j</code>-th bar of candy that Bob has.</p><div></div>",
                "<div></div>",
                "<p>Since they are friends, they would like to exchange one candy bar each so that after the exchange, they both have the same total&nbsp;amount of candy.&nbsp; (<em>The total amount of candy&nbsp;a person has is the sum of the sizes of candy&nbsp;bars they have.</em>)</p><div></div>",
                "<div></div>",
                "<p>Return an integer array <code>ans</code>&nbsp;where <code>ans[0]</code> is the size of the candy bar that Alice must exchange, and <code>ans[1]</code> is the size of the candy bar that Bob must exchange.</p><div></div>",
                "<div></div>",
                "<p>If there are multiple answers, you may return any one of them.&nbsp; It is guaranteed an answer exists.</p><div></div>",
                "<div></div>",
                "<p>&nbsp;</p><div></div>",
                "<div></div>",
                "<div><div></div>",
                "<p><strong>Example 1:</strong></p><div></div>",
                "<div></div>",
                "<pre><div></div>",
                "<strong>Input: </strong>A = <span id=\"example-input-1-1\">[1,1]</span>, B = <span id=\"example-input-1-2\">[2,2]</span><div></div>",
                "<strong>Output: </strong><span id=\"example-output-1\">[1,2]</span><div></div>",
                "</pre><div></div>",
                "<div></div>",
                "<div><div></div>",
                "<p><strong>Example 2:</strong></p><div></div>",
                "<div></div>",
                "<pre><div></div>",
                "<strong>Input: </strong>A = <span id=\"example-input-2-1\">[1,2]</span>, B = <span id=\"example-input-2-2\">[2,3]</span><div></div>",
                "<strong>Output: </strong><span id=\"example-output-2\">[1,2]</span><div></div>",
                "</pre><div></div>",
                "<div></div>",
                "<div><div></div>",
                "<p><strong>Example 3:</strong></p><div></div>",
                "<div></div>",
                "<pre><div></div>",
                "<strong>Input: </strong>A = <span id=\"example-input-3-1\">[2]</span>, B = <span id=\"example-input-3-2\">[1,3]</span><div></div>",
                "<strong>Output: </strong><span id=\"example-output-3\">[2,3]</span><div></div>",
                "</pre><div></div>",
                "<div></div>",
                "<div><div></div>",
                "<p><strong>Example 4:</strong></p><div></div>",
                "<div></div>",
                "<pre><div></div>",
                "<strong>Input: </strong>A = <span id=\"example-input-4-1\">[1,2,5]</span>, B = <span id=\"example-input-4-2\">[2,4]</span><div></div>",
                "<strong>Output: </strong><span id=\"example-output-4\">[5,4]</span><div></div>",
                "</pre><div></div>",
                "<div></div>",
                "<p>&nbsp;</p><div></div>",
                "<div></div>",
                "<p><strong><span>Note:</span></strong></p><div></div>",
                "<div></div>",
                "<ul><div></div>",
                "\t<li><span><code>1 &lt;= A.length &lt;= 10000</code></span></li><div></div>",
                "\t<li><span><code>1 &lt;= B.length &lt;= 10000</code></span></li><div></div>",
                "\t<li><code><span>1 &lt;= A[i] &lt;= 100000</span></code></li><div></div>",
                "\t<li><code><span>1 &lt;= B[i] &lt;= 100000</span></code></li><div></div>",
                "\t<li>It is guaranteed that Alice and Bob have different total amounts of&nbsp;candy.</li><div></div>",
                "\t<li>It is guaranteed there exists an&nbsp;answer.</li><div></div>",
                "</ul><div></div>",
                "</div><div></div>",
                "</div><div></div>",
                "</div><div></div>",
                "</div><div></div>",
                "<div></div>"
            ],
            "metadata": {}
        },
        {
            "cell_type": "code",
            "metadata": {},
            "execution_count": null,
            "source": "%%writefile fair_candy_swap.py\nclass Solution:\n    def fairCandySwap(self, A, B):\n        \"\"\"\n        :type A: List[int]\n        :type B: List[int]\n        :rtype: List[int]\n        \"\"\"",
            "outputs": []
        },
        {
            "cell_type": "code",
            "metadata": {},
            "execution_count": null,
            "source": "# submit\n%run ../../cli.py push --method=submit --path=fair_candy_swap.py --clean=True",
            "outputs": []
        }
    ]
}