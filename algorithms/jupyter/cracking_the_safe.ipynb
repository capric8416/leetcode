{
    "nbformat": 4,
    "nbformat_minor": 2,
    "metadata": {
        "kernelspec": {
            "display_name": "Python 3",
            "language": "python",
            "name": "python3"
        },
        "language_info": {
            "codemirror_mode": {
                "name": "ipython",
                "version": 3
            },
            "file_extension": ".py",
            "mimetype": "text/x-python",
            "name": "python",
            "nbconvert_exporter": "python",
            "pygments_lexer": "ipython3",
            "version": "3.7.2"
        }
    },
    "cells": [
        {
            "cell_type": "markdown",
            "source": [
                "<h1>Cracking the Safe</h1>",
                "<p><div></div>",
                "There is a box protected by a password.  The password is <code>n</code> digits, where each letter can be one of the first <code>k</code> digits <code>0, 1, ..., k-1</code>.<div></div>",
                "</p><p><div></div>",
                "You can keep inputting the password, the password will automatically be matched against the last <code>n</code> digits entered.<div></div>",
                "</p><p><div></div>",
                "For example, assuming the password is <code>\"345\"</code>, I can open it when I type <code>\"012345\"</code>, but I enter a total of 6 digits.<div></div>",
                "</p><p><div></div>",
                "Please return any string of minimum length that is guaranteed to open the box after the entire string is inputted.<div></div>",
                "</p><div></div>",
                "<div></div>",
                "<p><b>Example 1:</b><br /><div></div>",
                "<pre><div></div>",
                "<b>Input:</b> n = 1, k = 2<div></div>",
                "<b>Output:</b> \"01\"<div></div>",
                "<b>Note:</b> \"10\" will be accepted too.<div></div>",
                "</pre><div></div>",
                "</p><div></div>",
                "<div></div>",
                "<p><b>Example 2:</b><br /><div></div>",
                "<pre><div></div>",
                "<b>Input:</b> n = 2, k = 2<div></div>",
                "<b>Output:</b> \"00110\"<div></div>",
                "<b>Note:</b> \"01100\", \"10011\", \"11001\" will be accepted too.<div></div>",
                "</pre><div></div>",
                "</p><div></div>",
                "<div></div>",
                "<p><b>Note:</b><br><div></div>",
                "<ol><div></div>",
                "<li><code>n</code> will be in the range <code>[1, 4]</code>.</li><div></div>",
                "<li><code>k</code> will be in the range <code>[1, 10]</code>.</li><div></div>",
                "<li><code>k^n</code> will be at most <code>4096</code>.</li><div></div>",
                "</ol><div></div>",
                "</p><div></div>"
            ],
            "metadata": {}
        },
        {
            "cell_type": "code",
            "metadata": {},
            "execution_count": null,
            "source": "%%writefile cracking_the_safe.py\nclass Solution:\n    def crackSafe(self, n, k):\n        \"\"\"\n        :type n: int\n        :type k: int\n        :rtype: str\n        \"\"\"",
            "outputs": []
        },
        {
            "cell_type": "code",
            "metadata": {},
            "execution_count": null,
            "source": "# submit\n%run ../../cli.py push --method=submit --path=cracking_the_safe.py --clean=True",
            "outputs": []
        }
    ]
}