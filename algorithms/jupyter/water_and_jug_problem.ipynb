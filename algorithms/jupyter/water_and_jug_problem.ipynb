{
    "nbformat": 4,
    "nbformat_minor": 2,
    "metadata": {
        "kernelspec": {
            "display_name": "Python 3",
            "language": "python",
            "name": "python3"
        },
        "language_info": {
            "codemirror_mode": {
                "name": "ipython",
                "version": 3
            },
            "file_extension": ".py",
            "mimetype": "text/x-python",
            "name": "python",
            "nbconvert_exporter": "python",
            "pygments_lexer": "ipython3",
            "version": "3.7.2"
        }
    },
    "cells": [
        {
            "cell_type": "markdown",
            "source": [
                "<h1>Water and Jug Problem</h1>",
                "<p>You are given two jugs with capacities <i>x</i> and <i>y</i> litres. There is an infinite amount of water supply available. You need to determine whether it is possible to measure exactly <i>z</i> litres using these two jugs.</p><div></div>",
                "<div></div>",
                "<p>If <i>z</i> liters of water is measurable, you must have <i>z</i> liters of water contained within <b>one or both buckets</b> by the end.</p><div></div>",
                "<div></div>",
                "<p>Operations allowed:</p><div></div>",
                "<div></div>",
                "<ul><div></div>",
                "\t<li>Fill any of the jugs completely with water.</li><div></div>",
                "\t<li>Empty any of the jugs.</li><div></div>",
                "\t<li>Pour water from one jug into another till the other jug is completely full or the first jug itself is empty.</li><div></div>",
                "</ul><div></div>",
                "<div></div>",
                "<p><b>Example 1:</b> (From the famous <a href=\"https://www.youtube.com/watch?v=BVtQNK_ZUJg\" target=\"_blank\"><i>&quot;Die Hard&quot;</i> example</a>)</p><div></div>",
                "<div></div>",
                "<pre><div></div>",
                "Input: x = 3, y = 5, z = 4<div></div>",
                "Output: True<div></div>",
                "</pre><div></div>",
                "<div></div>",
                "<p><b>Example 2:</b></p><div></div>",
                "<div></div>",
                "<pre><div></div>",
                "Input: x = 2, y = 6, z = 5<div></div>",
                "Output: False<div></div>",
                "</pre><div></div>"
            ],
            "metadata": {}
        },
        {
            "cell_type": "code",
            "metadata": {},
            "execution_count": null,
            "source": "%%writefile water_and_jug_problem.py\nclass Solution:\n    def canMeasureWater(self, x, y, z):\n        \"\"\"\n        :type x: int\n        :type y: int\n        :type z: int\n        :rtype: bool\n        \"\"\"",
            "outputs": []
        },
        {
            "cell_type": "code",
            "metadata": {},
            "execution_count": null,
            "source": "# submit\n%run ../../cli.py push --method=submit --path=water_and_jug_problem.py --clean=True",
            "outputs": []
        }
    ]
}