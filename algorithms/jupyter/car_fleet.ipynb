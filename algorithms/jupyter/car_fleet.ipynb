{
    "nbformat": 4,
    "nbformat_minor": 2,
    "metadata": {
        "kernelspec": {
            "display_name": "Python 3",
            "language": "python",
            "name": "python3"
        },
        "language_info": {
            "codemirror_mode": {
                "name": "ipython",
                "version": 3
            },
            "file_extension": ".py",
            "mimetype": "text/x-python",
            "name": "python",
            "nbconvert_exporter": "python",
            "pygments_lexer": "ipython3",
            "version": "3.7.2"
        }
    },
    "cells": [
        {
            "cell_type": "markdown",
            "source": [
                "<h1>Car Fleet</h1>",
                "<p><code>N</code> cars are going to the same destination along a one lane road.&nbsp; The destination is <code>target</code>&nbsp;miles away.</p><div></div>",
                "<div></div>",
                "<p>Each car <code>i</code>&nbsp;has a constant speed <code>speed[i]</code>&nbsp;(in miles per hour), and initial position <code>position[i]</code>&nbsp;miles towards the target along the road.</p><div></div>",
                "<div></div>",
                "<p>A car can never pass another car ahead of it, but it can catch up to it, and drive bumper to bumper at the same speed.</p><div></div>",
                "<div></div>",
                "<p>The distance between these two cars is ignored - they are assumed to have the same position.</p><div></div>",
                "<div></div>",
                "<p>A <em>car fleet</em> is some non-empty set of cars driving&nbsp;at the same position and same speed.&nbsp; Note that a single car is also a car fleet.</p><div></div>",
                "<div></div>",
                "<p>If a car catches up to a car fleet right at the destination point, it will&nbsp;still be&nbsp;considered as one car fleet.</p><div></div>",
                "<div></div>",
                "<p><br /><div></div>",
                "How many car fleets will arrive at the destination?</p><div></div>",
                "<div></div>",
                "<p>&nbsp;</p><div></div>",
                "<div></div>",
                "<p><strong>Example 1:</strong></p><div></div>",
                "<div></div>",
                "<pre><div></div>",
                "<strong>Input: </strong>target = <span id=\"example-input-1-1\">12</span>, position = <span id=\"example-input-1-2\">[10,8,0,5,3]</span>, speed = <span id=\"example-input-1-3\">[2,4,1,1,3]</span><div></div>",
                "<strong>Output: </strong><span id=\"example-output-1\">3</span><div></div>",
                "<strong>Explanation</strong>:<div></div>",
                "The cars starting at 10 and 8 become a fleet, meeting each other at 12.<div></div>",
                "The car starting at 0 doesn&#39;t catch up to any other car, so it is a fleet by itself.<div></div>",
                "The cars starting at 5 and 3 become a fleet, meeting each other at 6.<div></div>",
                "Note that no other cars meet these fleets before the destination, so the answer is 3.<div></div>",
                "</pre><div></div>",
                "<div></div>",
                "<p><br /><div></div>",
                "<strong>Note:</strong></p><div></div>",
                "<div></div>",
                "<ol><div></div>",
                "\t<li><code>0 &lt;= N &lt;= 10 ^ 4</code></li><div></div>",
                "\t<li><code>0 &lt; target&nbsp;&lt;= 10 ^ 6</code></li><div></div>",
                "\t<li><code>0 &lt;&nbsp;speed[i] &lt;= 10 ^ 6</code></li><div></div>",
                "\t<li><code>0 &lt;= position[i] &lt; target</code></li><div></div>",
                "\t<li>All initial positions are different.</li><div></div>",
                "</ol><div></div>",
                "<div></div>"
            ],
            "metadata": {}
        },
        {
            "cell_type": "code",
            "metadata": {},
            "execution_count": null,
            "source": "%%writefile car_fleet.py\nclass Solution:\n    def carFleet(self, target, position, speed):\n        \"\"\"\n        :type target: int\n        :type position: List[int]\n        :type speed: List[int]\n        :rtype: int\n        \"\"\"",
            "outputs": []
        },
        {
            "cell_type": "code",
            "metadata": {},
            "execution_count": null,
            "source": "# submit\n%run ../../cli.py push --method=submit --path=car_fleet.py --clean=True",
            "outputs": []
        }
    ]
}