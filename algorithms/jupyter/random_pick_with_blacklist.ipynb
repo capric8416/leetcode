{
    "nbformat": 4,
    "nbformat_minor": 2,
    "metadata": {
        "kernelspec": {
            "display_name": "Python 3",
            "language": "python",
            "name": "python3"
        },
        "language_info": {
            "codemirror_mode": {
                "name": "ipython",
                "version": 3
            },
            "file_extension": ".py",
            "mimetype": "text/x-python",
            "name": "python",
            "nbconvert_exporter": "python",
            "pygments_lexer": "ipython3",
            "version": "3.7.2"
        }
    },
    "cells": [
        {
            "cell_type": "markdown",
            "source": [
                "<h1>Random Pick with Blacklist</h1>",
                "<p>Given a blacklist&nbsp;<code>B</code> containing unique integers&nbsp;from <code>[0, N)</code>, write a function to return a uniform random integer from <code>[0, N)</code> which is <strong>NOT</strong>&nbsp;in <code>B</code>.</p><div></div>",
                "<div></div>",
                "<p>Optimize it such that it minimizes the call to system&rsquo;s <code>Math.random()</code>.</p><div></div>",
                "<div></div>",
                "<p><strong>Note:</strong></p><div></div>",
                "<div></div>",
                "<ol><div></div>",
                "\t<li><code>1 &lt;= N &lt;= 1000000000</code></li><div></div>",
                "\t<li><code>0 &lt;= B.length &lt; min(100000, N)</code></li><div></div>",
                "\t<li><code>[0, N)</code>&nbsp;does NOT include N. See <a href=\"https://en.wikipedia.org/wiki/Interval_(mathematics)\" target=\"_blank\">interval notation</a>.</li><div></div>",
                "</ol><div></div>",
                "<div></div>",
                "<p><strong>Example 1:</strong></p><div></div>",
                "<div></div>",
                "<pre><div></div>",
                "<strong>Input: <div></div>",
                "</strong><span id=\"example-input-1-1\">[&quot;Solution&quot;,&quot;pick&quot;,&quot;pick&quot;,&quot;pick&quot;]<div></div>",
                "</span><span id=\"example-input-1-2\">[[1,[]],[],[],[]]</span><div></div>",
                "<strong>Output: </strong><span id=\"example-output-1\">[null,0,0,0]</span><div></div>",
                "</pre><div></div>",
                "<div></div>",
                "<p><strong>Example 2:</strong></p><div></div>",
                "<div></div>",
                "<pre><div></div>",
                "<strong>Input: <div></div>",
                "</strong><span id=\"example-input-2-1\">[&quot;Solution&quot;,&quot;pick&quot;,&quot;pick&quot;,&quot;pick&quot;]<div></div>",
                "</span><span id=\"example-input-2-2\">[[2,[]],[],[],[]]</span><div></div>",
                "<strong>Output: </strong><span id=\"example-output-2\">[null,1,1,1]</span><div></div>",
                "</pre><div></div>",
                "<div></div>",
                "<p><strong>Example 3:</strong></p><div></div>",
                "<div></div>",
                "<pre><div></div>",
                "<strong>Input: <div></div>",
                "</strong><span id=\"example-input-3-1\">[&quot;Solution&quot;,&quot;pick&quot;,&quot;pick&quot;,&quot;pick&quot;]<div></div>",
                "</span><span id=\"example-input-3-2\">[[3,[1]],[],[],[]]</span><div></div>",
                "<strong>Output: </strong><span id=\"example-output-3\">[null,0,0,2]</span><div></div>",
                "</pre><div></div>",
                "<div></div>",
                "<p><strong>Example 4:</strong></p><div></div>",
                "<div></div>",
                "<pre><div></div>",
                "<strong>Input: <div></div>",
                "</strong><span id=\"example-input-4-1\">[&quot;Solution&quot;,&quot;pick&quot;,&quot;pick&quot;,&quot;pick&quot;]<div></div>",
                "</span><span id=\"example-input-4-2\">[[4,[2]],[],[],[]]</span><div></div>",
                "<strong>Output: </strong><span id=\"example-output-4\">[null,1,3,1]</span><div></div>",
                "</pre><div></div>",
                "<div></div>",
                "<p><strong>Explanation of Input Syntax:</strong></p><div></div>",
                "<div></div>",
                "<p>The input is two lists:&nbsp;the subroutines called&nbsp;and their&nbsp;arguments.&nbsp;<code>Solution</code>&#39;s&nbsp;constructor has two arguments,&nbsp;<code>N</code> and the blacklist <code>B</code>. <code>pick</code> has no arguments.&nbsp;Arguments&nbsp;are&nbsp;always wrapped with a list, even if there aren&#39;t any.</p><div></div>",
                "<div></div>"
            ],
            "metadata": {}
        },
        {
            "cell_type": "code",
            "metadata": {},
            "execution_count": null,
            "source": "%%writefile random_pick_with_blacklist.py\nclass Solution:\n\n    def __init__(self, N, blacklist):\n        \"\"\"\n        :type N: int\n        :type blacklist: List[int]\n        \"\"\"\n        \n\n    def pick(self):\n        \"\"\"\n        :rtype: int\n        \"\"\"\n        \n\n\n# Your Solution object will be instantiated and called as such:\n# obj = Solution(N, blacklist)\n# param_1 = obj.pick()",
            "outputs": []
        },
        {
            "cell_type": "code",
            "metadata": {},
            "execution_count": null,
            "source": "# submit\n%run ../../cli.py push --method=submit --path=random_pick_with_blacklist.py --clean=True",
            "outputs": []
        }
    ]
}