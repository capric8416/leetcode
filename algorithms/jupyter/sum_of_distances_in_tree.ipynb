{
    "nbformat": 4,
    "nbformat_minor": 2,
    "metadata": {
        "kernelspec": {
            "display_name": "Python 3",
            "language": "python",
            "name": "python3"
        },
        "language_info": {
            "codemirror_mode": {
                "name": "ipython",
                "version": 3
            },
            "file_extension": ".py",
            "mimetype": "text/x-python",
            "name": "python",
            "nbconvert_exporter": "python",
            "pygments_lexer": "ipython3",
            "version": "3.7.2"
        }
    },
    "cells": [
        {
            "cell_type": "markdown",
            "source": [
                "<h1>Sum of Distances in Tree</h1>",
                "<p>An undirected, connected&nbsp;tree with <code>N</code> nodes labelled <code>0...N-1</code> and <code>N-1</code> <code>edges</code>&nbsp;are&nbsp;given.</p><div></div>",
                "<div></div>",
                "<p>The <code>i</code>th edge connects nodes&nbsp;<code>edges[i][0] </code>and<code>&nbsp;edges[i][1]</code>&nbsp;together.</p><div></div>",
                "<div></div>",
                "<p>Return a list <code>ans</code>, where <code>ans[i]</code> is the sum of the distances between node <code>i</code> and all other nodes.</p><div></div>",
                "<div></div>",
                "<p><strong>Example 1:</strong></p><div></div>",
                "<div></div>",
                "<pre><div></div>",
                "<strong>Input: </strong>N = 6, edges = [[0,1],[0,2],[2,3],[2,4],[2,5]]<div></div>",
                "<strong>Output: </strong>[8,12,6,10,10,10]<div></div>",
                "<strong>Explanation: </strong><div></div>",
                "Here is a diagram of the given tree:<div></div>",
                "  0<div></div>",
                " / \\<div></div>",
                "1   2<div></div>",
                "   /|\\<div></div>",
                "  3 4 5<div></div>",
                "We can see that dist(0,1) + dist(0,2) + dist(0,3) + dist(0,4) + dist(0,5)<div></div>",
                "equals 1 + 1 + 2 + 2 + 2 = 8.  Hence, answer[0] = 8, and so on.<div></div>",
                "</pre><div></div>",
                "<div></div>",
                "<p>Note:<font face=\"monospace\">&nbsp;<code>1 &lt;= N &lt;= 10000</code></font></p><div></div>",
                "<div></div>"
            ],
            "metadata": {}
        },
        {
            "cell_type": "code",
            "metadata": {},
            "execution_count": null,
            "source": "%%writefile sum_of_distances_in_tree.py\nclass Solution:\n    def sumOfDistancesInTree(self, N, edges):\n        \"\"\"\n        :type N: int\n        :type edges: List[List[int]]\n        :rtype: List[int]\n        \"\"\"",
            "outputs": []
        },
        {
            "cell_type": "code",
            "metadata": {},
            "execution_count": null,
            "source": "# submit\n%run ../../cli.py push --method=submit --path=sum_of_distances_in_tree.py --clean=True",
            "outputs": []
        }
    ]
}