{
    "nbformat": 4,
    "nbformat_minor": 2,
    "metadata": {
        "kernelspec": {
            "display_name": "Python 3",
            "language": "python",
            "name": "python3"
        },
        "language_info": {
            "codemirror_mode": {
                "name": "ipython",
                "version": 3
            },
            "file_extension": ".py",
            "mimetype": "text/x-python",
            "name": "python",
            "nbconvert_exporter": "python",
            "pygments_lexer": "ipython3",
            "version": "3.7.2"
        }
    },
    "cells": [
        {
            "cell_type": "markdown",
            "source": [
                "<h1>Swim in Rising Water</h1>",
                "<p>On an N x N <code>grid</code>, each square <code>grid[i][j]</code> represents the elevation at that point <code>(i,j)</code>.</p><div></div>",
                "<div></div>",
                "<p>Now rain starts to fall. At time <code>t</code>, the depth of the water everywhere is <code>t</code>. You can swim from a square to another 4-directionally adjacent square if and only if the elevation of both squares individually are&nbsp;at most&nbsp;<code>t</code>. You can swim infinite distance in zero time. Of course, you must stay within the boundaries of the grid during your swim.</p><div></div>",
                "<div></div>",
                "<p>You start at the top left square <code>(0, 0)</code>. What is the least time until you can reach the bottom right square <code>(N-1, N-1)</code>?</p><div></div>",
                "<div></div>",
                "<p><strong>Example 1:</strong></p><div></div>",
                "<div></div>",
                "<pre><div></div>",
                "<strong>Input:</strong> [[0,2],[1,3]]<div></div>",
                "<strong>Output:</strong> 3<div></div>",
                "<strong>Explanation:</strong><div></div>",
                "At time <code>0</code>, you are in grid location <code>(0, 0)</code>.<div></div>",
                "You cannot go anywhere else because 4-directionally adjacent neighbors have a higher elevation than t = 0.<div></div>",
                "<div></div>",
                "You cannot reach point <code>(1, 1)</code> until time <code>3</code>.<div></div>",
                "When the depth of water is <code>3</code>, we can swim anywhere inside the grid.<div></div>",
                "</pre><div></div>",
                "<div></div>",
                "<p><strong>Example 2:</strong></p><div></div>",
                "<div></div>",
                "<pre><div></div>",
                "<strong>Input:</strong> [[0,1,2,3,4],[24,23,22,21,5],[12,13,14,15,16],[11,17,18,19,20],[10,9,8,7,6]]<div></div>",
                "<strong>Output:</strong> 16<div></div>",
                "<strong>Explanation:</strong><div></div>",
                "<strong> 0  1  2  3  4</strong><div></div>",
                "24 23 22 21  <strong>5</strong><div></div>",
                "<strong>12 13 14 15 16</strong><div></div>",
                "<strong>11</strong> 17 18 19 20<div></div>",
                "<strong>10  9  8  7  6</strong><div></div>",
                "<div></div>",
                "The final route is marked in bold.<div></div>",
                "We need to wait until time 16 so that (0, 0) and (4, 4) are connected.<div></div>",
                "</pre><div></div>",
                "<div></div>",
                "<p><strong>Note:</strong></p><div></div>",
                "<div></div>",
                "<ol><div></div>",
                "\t<li><code>2 &lt;= N &lt;= 50</code>.</li><div></div>",
                "\t<li>grid[i][j] is a permutation of [0, ..., N*N - 1].</li><div></div>",
                "</ol><div></div>",
                "<div></div>"
            ],
            "metadata": {}
        },
        {
            "cell_type": "code",
            "metadata": {},
            "execution_count": null,
            "source": "%%writefile swim_in_rising_water.py\nclass Solution:\n    def swimInWater(self, grid):\n        \"\"\"\n        :type grid: List[List[int]]\n        :rtype: int\n        \"\"\"",
            "outputs": []
        },
        {
            "cell_type": "code",
            "metadata": {},
            "execution_count": null,
            "source": "# submit\n%run ../../cli.py push --method=submit --path=swim_in_rising_water.py --clean=True",
            "outputs": []
        }
    ]
}