{
    "nbformat": 4,
    "nbformat_minor": 2,
    "metadata": {
        "kernelspec": {
            "display_name": "Python 3",
            "language": "python",
            "name": "python3"
        },
        "language_info": {
            "codemirror_mode": {
                "name": "ipython",
                "version": 3
            },
            "file_extension": ".py",
            "mimetype": "text/x-python",
            "name": "python",
            "nbconvert_exporter": "python",
            "pygments_lexer": "ipython3",
            "version": "3.7.2"
        }
    },
    "cells": [
        {
            "cell_type": "markdown",
            "source": [
                "<h1>Implement Magic Dictionary</h1>",
                "<p><div></div>",
                "Implement a magic directory with <code>buildDict</code>, and <code>search</code> methods.<div></div>",
                "</p><div></div>",
                "<div></div>",
                "<p><div></div>",
                "For the method <code>buildDict</code>, you'll be given a list of non-repetitive words to build a dictionary.<div></div>",
                "</p><div></div>",
                "<div></div>",
                "<p><div></div>",
                "For the method <code>search</code>, you'll be given a word, and judge whether if you modify <b>exactly</b> one character into <b>another</b> character in this word, the modified word is in the dictionary you just built.<div></div>",
                "</p><div></div>",
                "<div></div>",
                "<p><b>Example 1:</b><br /><div></div>",
                "<pre><div></div>",
                "Input: buildDict([\"hello\", \"leetcode\"]), Output: Null<div></div>",
                "Input: search(\"hello\"), Output: False<div></div>",
                "Input: search(\"hhllo\"), Output: True<div></div>",
                "Input: search(\"hell\"), Output: False<div></div>",
                "Input: search(\"leetcoded\"), Output: False<div></div>",
                "</pre><div></div>",
                "</p><div></div>",
                "<div></div>",
                "<p><b>Note:</b><br><div></div>",
                "<ol><div></div>",
                "<li>You may assume that all the inputs are consist of lowercase letters <code>a-z</code>.</li><div></div>",
                "<li>For contest purpose, the test data is rather small by now. You could think about highly efficient algorithm after the contest.</li><div></div>",
                "<li>Please remember to <b>RESET</b> your class variables declared in class MagicDictionary, as static/class variables are <b>persisted across multiple test cases</b>. Please see <a href=\"https://leetcode.com/faq/#different-output\">here</a> for more details.</li><div></div>",
                "</ol><div></div>",
                "</p><div></div>"
            ],
            "metadata": {}
        },
        {
            "cell_type": "code",
            "metadata": {},
            "execution_count": null,
            "source": "%%writefile implement_magic_dictionary.py\nclass MagicDictionary:\n\n    def __init__(self):\n        \"\"\"\n        Initialize your data structure here.\n        \"\"\"\n        \n\n    def buildDict(self, dict):\n        \"\"\"\n        Build a dictionary through a list of words\n        :type dict: List[str]\n        :rtype: void\n        \"\"\"\n        \n\n    def search(self, word):\n        \"\"\"\n        Returns if there is any word in the trie that equals to the given word after modifying exactly one character\n        :type word: str\n        :rtype: bool\n        \"\"\"\n        \n\n\n# Your MagicDictionary object will be instantiated and called as such:\n# obj = MagicDictionary()\n# obj.buildDict(dict)\n# param_2 = obj.search(word)",
            "outputs": []
        },
        {
            "cell_type": "code",
            "metadata": {},
            "execution_count": null,
            "source": "# submit\n%run ../../cli.py push --method=submit --path=implement_magic_dictionary.py --clean=True",
            "outputs": []
        }
    ]
}