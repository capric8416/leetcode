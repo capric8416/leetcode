{
    "nbformat": 4,
    "nbformat_minor": 2,
    "metadata": {
        "kernelspec": {
            "display_name": "Python 3",
            "language": "python",
            "name": "python3"
        },
        "language_info": {
            "codemirror_mode": {
                "name": "ipython",
                "version": 3
            },
            "file_extension": ".py",
            "mimetype": "text/x-python",
            "name": "python",
            "nbconvert_exporter": "python",
            "pygments_lexer": "ipython3",
            "version": "3.7.2"
        }
    },
    "cells": [
        {
            "cell_type": "markdown",
            "source": [
                "<h1>Non-negative Integers without Consecutive Ones</h1>",
                "<p>Given a positive integer n, find the number of <b>non-negative</b> integers less than or equal to n, whose binary representations do NOT contain <b>consecutive ones</b>.</p><div></div>",
                "<div></div>",
                "<p><b>Example 1:</b><br /><div></div>",
                "<pre><div></div>",
                "<b>Input:</b> 5<div></div>",
                "<b>Output:</b> 5<div></div>",
                "<b>Explanation:</b> <div></div>",
                "Here are the non-negative integers <= 5 with their corresponding binary representations:<div></div>",
                "0 : 0<div></div>",
                "1 : 1<div></div>",
                "2 : 10<div></div>",
                "3 : 11<div></div>",
                "4 : 100<div></div>",
                "5 : 101<div></div>",
                "Among them, only integer 3 disobeys the rule (two consecutive ones) and the other 5 satisfy the rule. <div></div>",
                "</pre><div></div>",
                "</p><div></div>",
                "<div></div>",
                "<p><b>Note:</b><div></div>",
                "1 <= n <= 10<sup>9</sup><div></div>",
                "</p><div></div>",
                "<div></div>"
            ],
            "metadata": {}
        },
        {
            "cell_type": "code",
            "metadata": {},
            "execution_count": null,
            "source": "%%writefile non_negative_integers_without_consecutive_ones.py\nclass Solution:\n    def findIntegers(self, num):\n        \"\"\"\n        :type num: int\n        :rtype: int\n        \"\"\"",
            "outputs": []
        },
        {
            "cell_type": "code",
            "metadata": {},
            "execution_count": null,
            "source": "# submit\n%run ../../cli.py push --method=submit --path=non_negative_integers_without_consecutive_ones.py --clean=True",
            "outputs": []
        }
    ]
}