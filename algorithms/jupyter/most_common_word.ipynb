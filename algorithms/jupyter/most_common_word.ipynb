{
    "nbformat": 4,
    "nbformat_minor": 2,
    "metadata": {
        "kernelspec": {
            "display_name": "Python 3",
            "language": "python",
            "name": "python3"
        },
        "language_info": {
            "codemirror_mode": {
                "name": "ipython",
                "version": 3
            },
            "file_extension": ".py",
            "mimetype": "text/x-python",
            "name": "python",
            "nbconvert_exporter": "python",
            "pygments_lexer": "ipython3",
            "version": "3.7.2"
        }
    },
    "cells": [
        {
            "cell_type": "markdown",
            "source": [
                "<h1>Most Common Word</h1>",
                "<p>Given a paragraph&nbsp;and a list of banned words, return the most frequent word that is not in the list of banned words.&nbsp; It is guaranteed there is at least one word that isn&#39;t banned, and that the answer is unique.</p><div></div>",
                "<div></div>",
                "<p>Words in the list of banned words are given in lowercase, and free of punctuation.&nbsp; Words in the paragraph are not case sensitive.&nbsp; The answer is in lowercase.</p><div></div>",
                "<div></div>",
                "<p>&nbsp;</p><div></div>",
                "<div></div>",
                "<p><strong>Example:</strong></p><div></div>",
                "<div></div>",
                "<pre><div></div>",
                "<strong>Input:</strong> <div></div>",
                "paragraph = &quot;Bob hit a ball, the hit BALL flew far after it was hit.&quot;<div></div>",
                "banned = [&quot;hit&quot;]<div></div>",
                "<strong>Output:</strong> &quot;ball&quot;<div></div>",
                "<strong>Explanation:</strong> <div></div>",
                "&quot;hit&quot; occurs 3 times, but it is a banned word.<div></div>",
                "&quot;ball&quot; occurs twice (and no other word does), so it is the most frequent non-banned word in the paragraph. <div></div>",
                "Note that words in the paragraph are not case sensitive,<div></div>",
                "that punctuation is ignored (even if adjacent to words, such as &quot;ball,&quot;), <div></div>",
                "and that &quot;hit&quot; isn&#39;t the answer even though it occurs more because it is banned.<div></div>",
                "</pre><div></div>",
                "<div></div>",
                "<p>&nbsp;</p><div></div>",
                "<div></div>",
                "<p><strong>Note: </strong></p><div></div>",
                "<div></div>",
                "<ul><div></div>",
                "\t<li><code>1 &lt;= paragraph.length &lt;= 1000</code>.</li><div></div>",
                "\t<li><code>1 &lt;= banned.length &lt;= 100</code>.</li><div></div>",
                "\t<li><code>1 &lt;= banned[i].length &lt;= 10</code>.</li><div></div>",
                "\t<li>The answer is unique, and written in lowercase (even if its occurrences in <code>paragraph</code>&nbsp;may have&nbsp;uppercase symbols, and even if it is a proper noun.)</li><div></div>",
                "\t<li><code>paragraph</code> only consists of letters, spaces, or the punctuation symbols <code>!?&#39;,;.</code></li><div></div>",
                "\t<li>There are no hyphens or hyphenated words.</li><div></div>",
                "\t<li>Words only consist of letters, never apostrophes or other punctuation symbols.</li><div></div>",
                "</ul><div></div>",
                "<div></div>"
            ],
            "metadata": {}
        },
        {
            "cell_type": "code",
            "metadata": {},
            "execution_count": null,
            "source": "%%writefile most_common_word.py\nclass Solution:\n    def mostCommonWord(self, paragraph, banned):\n        \"\"\"\n        :type paragraph: str\n        :type banned: List[str]\n        :rtype: str\n        \"\"\"",
            "outputs": []
        },
        {
            "cell_type": "code",
            "metadata": {},
            "execution_count": null,
            "source": "# submit\n%run ../../cli.py push --method=submit --path=most_common_word.py --clean=True",
            "outputs": []
        }
    ]
}