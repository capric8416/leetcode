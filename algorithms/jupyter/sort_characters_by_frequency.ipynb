{
    "nbformat": 4,
    "nbformat_minor": 2,
    "metadata": {
        "kernelspec": {
            "display_name": "Python 3",
            "language": "python",
            "name": "python3"
        },
        "language_info": {
            "codemirror_mode": {
                "name": "ipython",
                "version": 3
            },
            "file_extension": ".py",
            "mimetype": "text/x-python",
            "name": "python",
            "nbconvert_exporter": "python",
            "pygments_lexer": "ipython3",
            "version": "3.7.2"
        }
    },
    "cells": [
        {
            "cell_type": "markdown",
            "source": [
                "<h1>Sort Characters By Frequency</h1>",
                "<p>Given a string, sort it in decreasing order based on the frequency of characters.</p><div></div>",
                "<div></div>",
                "<p><b>Example 1:</b><div></div>",
                "<pre><div></div>",
                "<b>Input:</b><div></div>",
                "\"tree\"<div></div>",
                "<div></div>",
                "<b>Output:</b><div></div>",
                "\"eert\"<div></div>",
                "<div></div>",
                "<b>Explanation:</b><div></div>",
                "'e' appears twice while 'r' and 't' both appear once.<div></div>",
                "So 'e' must appear before both 'r' and 't'. Therefore \"eetr\" is also a valid answer.<div></div>",
                "</pre><div></div>",
                "</p><div></div>",
                "<div></div>",
                "<p><b>Example 2:</b><div></div>",
                "<pre><div></div>",
                "<b>Input:</b><div></div>",
                "\"cccaaa\"<div></div>",
                "<div></div>",
                "<b>Output:</b><div></div>",
                "\"cccaaa\"<div></div>",
                "<div></div>",
                "<b>Explanation:</b><div></div>",
                "Both 'c' and 'a' appear three times, so \"aaaccc\" is also a valid answer.<div></div>",
                "Note that \"cacaca\" is incorrect, as the same characters must be together.<div></div>",
                "</pre><div></div>",
                "</p><div></div>",
                "<div></div>",
                "<p><b>Example 3:</b><div></div>",
                "<pre><div></div>",
                "<b>Input:</b><div></div>",
                "\"Aabb\"<div></div>",
                "<div></div>",
                "<b>Output:</b><div></div>",
                "\"bbAa\"<div></div>",
                "<div></div>",
                "<b>Explanation:</b><div></div>",
                "\"bbaA\" is also a valid answer, but \"Aabb\" is incorrect.<div></div>",
                "Note that 'A' and 'a' are treated as two different characters.<div></div>",
                "</pre><div></div>",
                "</p><div></div>"
            ],
            "metadata": {}
        },
        {
            "cell_type": "code",
            "metadata": {},
            "execution_count": null,
            "source": "%%writefile sort_characters_by_frequency.py\nclass Solution:\n    def frequencySort(self, s):\n        \"\"\"\n        :type s: str\n        :rtype: str\n        \"\"\"",
            "outputs": []
        },
        {
            "cell_type": "code",
            "metadata": {},
            "execution_count": null,
            "source": "# submit\n%run ../../cli.py push --method=submit --path=sort_characters_by_frequency.py --clean=True",
            "outputs": []
        }
    ]
}