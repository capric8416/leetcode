{
    "nbformat": 4,
    "nbformat_minor": 2,
    "metadata": {
        "kernelspec": {
            "display_name": "Python 3",
            "language": "python",
            "name": "python3"
        },
        "language_info": {
            "codemirror_mode": {
                "name": "ipython",
                "version": 3
            },
            "file_extension": ".py",
            "mimetype": "text/x-python",
            "name": "python",
            "nbconvert_exporter": "python",
            "pygments_lexer": "ipython3",
            "version": "3.7.2"
        }
    },
    "cells": [
        {
            "cell_type": "markdown",
            "source": [
                "<h1>Cheapest Flights Within K Stops</h1>",
                "<p>There are <code>n</code> cities connected by&nbsp;<code>m</code> flights. Each fight starts from city&nbsp;<code>u </code>and arrives at&nbsp;<code>v</code> with a price <code>w</code>.</p><div></div>",
                "<div></div>",
                "<p>Now given all the cities and flights, together with starting city <code>src</code> and the destination&nbsp;<code>dst</code>, your task is to find the cheapest price from <code>src</code> to <code>dst</code> with up to <code>k</code> stops. If there is no such route, output <code>-1</code>.</p><div></div>",
                "<div></div>",
                "<pre><div></div>",
                "<strong>Example 1:</strong><div></div>",
                "<strong>Input:</strong> <div></div>",
                "n = 3, edges = [[0,1,100],[1,2,100],[0,2,500]]<div></div>",
                "src = 0, dst = 2, k = 1<div></div>",
                "<strong>Output:</strong> 200<div></div>",
                "<strong>Explanation:</strong> <div></div>",
                "The graph looks like this:<div></div>",
                "<img alt=\"\" src=\"https://s3-lc-upload.s3.amazonaws.com/uploads/2018/02/16/995.png\" style=\"height:180px; width:246px\" /><div></div>",
                "<div></div>",
                "The cheapest price from city <code>0</code> to city <code>2</code> with at most 1 stop costs 200, as marked red in the picture.</pre><div></div>",
                "<div></div>",
                "<pre><div></div>",
                "<strong>Example 2:</strong><div></div>",
                "<strong>Input:</strong> <div></div>",
                "n = 3, edges = [[0,1,100],[1,2,100],[0,2,500]]<div></div>",
                "src = 0, dst = 2, k = 0<div></div>",
                "<strong>Output:</strong> 500<div></div>",
                "<strong>Explanation:</strong> <div></div>",
                "The graph looks like this:<div></div>",
                "<img alt=\"\" src=\"https://s3-lc-upload.s3.amazonaws.com/uploads/2018/02/16/995.png\" style=\"height:180px; width:246px\" /><div></div>",
                "<div></div>",
                "The cheapest price from city <code>0</code> to city <code>2</code> with at most 0 stop costs 500, as marked blue in the picture.</pre><div></div>",
                "<div></div>",
                "<p><strong>Note:</strong></p><div></div>",
                "<div></div>",
                "<ul><div></div>",
                "\t<li>The number of&nbsp;nodes&nbsp;<code>n</code> will be&nbsp;in range <code>[1, 100]</code>, with nodes labeled from <code>0</code> to <code>n</code><code> - 1</code>.</li><div></div>",
                "\t<li>The&nbsp;size of <code>flights</code> will be&nbsp;in range <code>[0, n * (n - 1) / 2]</code>.</li><div></div>",
                "\t<li>The format of each flight will be <code>(src, </code><code>dst</code><code>, price)</code>.</li><div></div>",
                "\t<li>The price of each flight will be in the range <code>[1, 10000]</code>.</li><div></div>",
                "\t<li><code>k</code> is in the range of <code>[0, n - 1]</code>.</li><div></div>",
                "\t<li>There&nbsp;will&nbsp;not&nbsp;be&nbsp;any&nbsp;duplicated&nbsp;flights or&nbsp;self&nbsp;cycles.</li><div></div>",
                "</ul><div></div>",
                "<div></div>"
            ],
            "metadata": {}
        },
        {
            "cell_type": "code",
            "metadata": {},
            "execution_count": null,
            "source": "%%writefile cheapest_flights_within_k_stops.py\nclass Solution:\n    def findCheapestPrice(self, n, flights, src, dst, K):\n        \"\"\"\n        :type n: int\n        :type flights: List[List[int]]\n        :type src: int\n        :type dst: int\n        :type K: int\n        :rtype: int\n        \"\"\"",
            "outputs": []
        },
        {
            "cell_type": "code",
            "metadata": {},
            "execution_count": null,
            "source": "# submit\n%run ../../cli.py push --method=submit --path=cheapest_flights_within_k_stops.py --clean=True",
            "outputs": []
        }
    ]
}