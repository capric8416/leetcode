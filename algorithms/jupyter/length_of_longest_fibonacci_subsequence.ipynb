{
    "nbformat": 4,
    "nbformat_minor": 2,
    "metadata": {
        "kernelspec": {
            "display_name": "Python 3",
            "language": "python",
            "name": "python3"
        },
        "language_info": {
            "codemirror_mode": {
                "name": "ipython",
                "version": 3
            },
            "file_extension": ".py",
            "mimetype": "text/x-python",
            "name": "python",
            "nbconvert_exporter": "python",
            "pygments_lexer": "ipython3",
            "version": "3.7.2"
        }
    },
    "cells": [
        {
            "cell_type": "markdown",
            "source": [
                "<h1>Length of Longest Fibonacci Subsequence</h1>",
                "<p>A sequence <code>X_1, X_2, ..., X_n</code>&nbsp;is <em>fibonacci-like</em> if:</p><div></div>",
                "<div></div>",
                "<ul><div></div>",
                "\t<li><code>n &gt;= 3</code></li><div></div>",
                "\t<li><code>X_i + X_{i+1} = X_{i+2}</code>&nbsp;for all&nbsp;<code>i + 2 &lt;= n</code></li><div></div>",
                "</ul><div></div>",
                "<div></div>",
                "<p>Given a <b>strictly increasing</b>&nbsp;array&nbsp;<code>A</code> of positive integers forming a sequence, find the <strong>length</strong> of the longest fibonacci-like subsequence of <code>A</code>.&nbsp; If one does not exist, return 0.</p><div></div>",
                "<div></div>",
                "<p>(<em>Recall that a subsequence is derived from another sequence <code>A</code> by&nbsp;deleting any number of&nbsp;elements (including none)&nbsp;from <code>A</code>, without changing the order of the remaining elements.&nbsp; For example, <code>[3, 5, 8]</code> is a subsequence of <code>[3, 4, 5, 6, 7, 8]</code>.</em>)</p><div></div>",
                "<div></div>",
                "<p>&nbsp;</p><div></div>",
                "<div></div>",
                "<ul><div></div>",
                "</ul><div></div>",
                "<div></div>",
                "<p><strong>Example 1:</strong></p><div></div>",
                "<div></div>",
                "<pre><div></div>",
                "<strong>Input: </strong>[1,2,3,4,5,6,7,8]<div></div>",
                "<strong>Output: </strong>5<div></div>",
                "<strong>Explanation:<div></div>",
                "</strong>The longest subsequence that is fibonacci-like: [1,2,3,5,8].<div></div>",
                "</pre><div></div>",
                "<div></div>",
                "<p><strong>Example 2:</strong></p><div></div>",
                "<div></div>",
                "<pre><div></div>",
                "<strong>Input: </strong>[1,3,7,11,12,14,18]<div></div>",
                "<strong>Output: </strong>3<div></div>",
                "<strong>Explanation</strong>:<div></div>",
                "The longest subsequence that is fibonacci-like:<div></div>",
                "[1,11,12], [3,11,14] or [7,11,18].<div></div>",
                "</pre><div></div>",
                "<div></div>",
                "<p>&nbsp;</p><div></div>",
                "<div></div>",
                "<p><strong>Note:</strong></p><div></div>",
                "<div></div>",
                "<ul><div></div>",
                "\t<li><code>3 &lt;= A.length &lt;= 1000</code></li><div></div>",
                "\t<li><code>1 &lt;= A[0] &lt; A[1] &lt; ... &lt; A[A.length - 1] &lt;= 10^9</code></li><div></div>",
                "\t<li><em>(The time limit has been reduced by 50% for submissions in Java, C, and C++.)</em></li><div></div>",
                "</ul><div></div>",
                "<div></div>"
            ],
            "metadata": {}
        },
        {
            "cell_type": "code",
            "metadata": {},
            "execution_count": null,
            "source": "%%writefile length_of_longest_fibonacci_subsequence.py\nclass Solution:\n    def lenLongestFibSubseq(self, A):\n        \"\"\"\n        :type A: List[int]\n        :rtype: int\n        \"\"\"",
            "outputs": []
        },
        {
            "cell_type": "code",
            "metadata": {},
            "execution_count": null,
            "source": "# submit\n%run ../../cli.py push --method=submit --path=length_of_longest_fibonacci_subsequence.py --clean=True",
            "outputs": []
        }
    ]
}