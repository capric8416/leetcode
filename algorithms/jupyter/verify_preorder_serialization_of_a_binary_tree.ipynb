{
    "nbformat": 4,
    "nbformat_minor": 2,
    "metadata": {
        "kernelspec": {
            "display_name": "Python 3",
            "language": "python",
            "name": "python3"
        },
        "language_info": {
            "codemirror_mode": {
                "name": "ipython",
                "version": 3
            },
            "file_extension": ".py",
            "mimetype": "text/x-python",
            "name": "python",
            "nbconvert_exporter": "python",
            "pygments_lexer": "ipython3",
            "version": "3.7.2"
        }
    },
    "cells": [
        {
            "cell_type": "markdown",
            "source": [
                "<h1>Verify Preorder Serialization of a Binary Tree</h1>",
                "<p>One way to serialize a binary tree is to use pre-order traversal. When we encounter a non-null node, we record the node&#39;s value. If it is a null node, we record using a sentinel value such as <code>#</code>.</p><div></div>",
                "<div></div>",
                "<pre><div></div>",
                "     _9_<div></div>",
                "    /   \\<div></div>",
                "   3     2<div></div>",
                "  / \\   / \\<div></div>",
                " 4   1  #  6<div></div>",
                "/ \\ / \\   / \\<div></div>",
                "# # # #   # #<div></div>",
                "</pre><div></div>",
                "<div></div>",
                "<p>For example, the above binary tree can be serialized to the string <code>&quot;9,3,4,#,#,1,#,#,2,#,6,#,#&quot;</code>, where <code>#</code> represents a null node.</p><div></div>",
                "<div></div>",
                "<p>Given a string of comma separated values, verify whether it is a correct preorder traversal serialization of a binary tree. Find an algorithm without reconstructing the tree.</p><div></div>",
                "<div></div>",
                "<p>Each comma separated value in the string must be either an integer or a character <code>&#39;#&#39;</code> representing <code>null</code> pointer.</p><div></div>",
                "<div></div>",
                "<p>You may assume that the input format is always valid, for example it could never contain two consecutive commas such as <code>&quot;1,,3&quot;</code>.</p><div></div>",
                "<div></div>",
                "<p><b>Example 1:</b></p><div></div>",
                "<div></div>",
                "<pre><div></div>",
                "<strong>Input: </strong><code>&quot;9,3,4,#,#,1,#,#,2,#,6,#,#&quot;</code><div></div>",
                "<strong>Output: </strong><code>true</code></pre><div></div>",
                "<div></div>",
                "<p><b>Example 2:</b></p><div></div>",
                "<div></div>",
                "<pre><div></div>",
                "<strong>Input: </strong><code>&quot;1,#&quot;</code><div></div>",
                "<strong>Output: </strong><code>false</code><div></div>",
                "</pre><div></div>",
                "<div></div>",
                "<p><b>Example 3:</b></p><div></div>",
                "<div></div>",
                "<pre><div></div>",
                "<strong>Input: </strong><code>&quot;9,#,#,1&quot;</code><div></div>",
                "<strong>Output: </strong><code>false</code></pre><div></div>"
            ],
            "metadata": {}
        },
        {
            "cell_type": "code",
            "metadata": {},
            "execution_count": null,
            "source": "%%writefile verify_preorder_serialization_of_a_binary_tree.py\nclass Solution:\n    def isValidSerialization(self, preorder):\n        \"\"\"\n        :type preorder: str\n        :rtype: bool\n        \"\"\"",
            "outputs": []
        },
        {
            "cell_type": "code",
            "metadata": {},
            "execution_count": null,
            "source": "# submit\n%run ../../cli.py push --method=submit --path=verify_preorder_serialization_of_a_binary_tree.py --clean=True",
            "outputs": []
        }
    ]
}