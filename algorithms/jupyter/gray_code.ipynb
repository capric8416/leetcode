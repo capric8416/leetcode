{
    "nbformat": 4,
    "nbformat_minor": 2,
    "metadata": {
        "kernelspec": {
            "display_name": "Python 3",
            "language": "python",
            "name": "python3"
        },
        "language_info": {
            "codemirror_mode": {
                "name": "ipython",
                "version": 3
            },
            "file_extension": ".py",
            "mimetype": "text/x-python",
            "name": "python",
            "nbconvert_exporter": "python",
            "pygments_lexer": "ipython3",
            "version": "3.7.2"
        }
    },
    "cells": [
        {
            "cell_type": "markdown",
            "source": [
                "<h1>Gray Code</h1>",
                "<p>The gray code is a binary numeral system where two successive values differ in only one bit.</p><div></div>",
                "<div></div>",
                "<p>Given a non-negative integer <em>n</em> representing the total number of bits in the code, print the sequence of gray code. A gray code sequence must begin with 0.</p><div></div>",
                "<div></div>",
                "<p><strong>Example 1:</strong></p><div></div>",
                "<div></div>",
                "<pre><div></div>",
                "<strong>Input:</strong>&nbsp;2<div></div>",
                "<strong>Output:</strong>&nbsp;<code>[0,1,3,2]</code><div></div>",
                "<strong>Explanation:</strong><div></div>",
                "00 - 0<div></div>",
                "01 - 1<div></div>",
                "11 - 3<div></div>",
                "10 - 2<div></div>",
                "<div></div>",
                "For a given&nbsp;<em>n</em>, a gray code sequence may not be uniquely defined.<div></div>",
                "For example, [0,2,3,1] is also a valid gray code sequence.<div></div>",
                "<div></div>",
                "00 - 0<div></div>",
                "10 - 2<div></div>",
                "11 - 3<div></div>",
                "01 - 1<div></div>",
                "</pre><div></div>",
                "<div></div>",
                "<p><strong>Example 2:</strong></p><div></div>",
                "<div></div>",
                "<pre><div></div>",
                "<strong>Input:</strong>&nbsp;0<div></div>",
                "<strong>Output:</strong>&nbsp;<code>[0]<div></div>",
                "<strong>Explanation:</strong> We define the gray code sequence to begin with 0.<div></div>",
                "&nbsp;            A gray code sequence of <em>n</em> has size = 2<sup>n</sup>, which for <em>n</em> = 0 the size is 2<sup>0</sup> = 1.<div></div>",
                "&nbsp;            Therefore, for <em>n</em> = 0 the gray code sequence is [0].</code><div></div>",
                "</pre><div></div>",
                "<div></div>"
            ],
            "metadata": {}
        },
        {
            "cell_type": "code",
            "metadata": {},
            "execution_count": null,
            "source": "%%writefile gray_code.py\nclass Solution:\n    def grayCode(self, n):\n        \"\"\"\n        :type n: int\n        :rtype: List[int]\n        \"\"\"",
            "outputs": []
        },
        {
            "cell_type": "code",
            "metadata": {},
            "execution_count": null,
            "source": "# submit\n%run ../../cli.py push --method=submit --path=gray_code.py --clean=True",
            "outputs": []
        }
    ]
}