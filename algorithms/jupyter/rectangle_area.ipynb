{
    "nbformat": 4,
    "nbformat_minor": 2,
    "metadata": {
        "kernelspec": {
            "display_name": "Python 3",
            "language": "python",
            "name": "python3"
        },
        "language_info": {
            "codemirror_mode": {
                "name": "ipython",
                "version": 3
            },
            "file_extension": ".py",
            "mimetype": "text/x-python",
            "name": "python",
            "nbconvert_exporter": "python",
            "pygments_lexer": "ipython3",
            "version": "3.7.2"
        }
    },
    "cells": [
        {
            "cell_type": "markdown",
            "source": [
                "<h1>Rectangle Area</h1>",
                "<p>Find the total area covered by two <strong>rectilinear</strong> rectangles in a <strong>2D</strong> plane.</p><div></div>",
                "<div></div>",
                "<p>Each rectangle is defined by its bottom left corner and top right corner as shown in the figure.</p><div></div>",
                "<div></div>",
                "<p><img alt=\"Rectangle Area\" src=\"https://assets.leetcode.com/uploads/2018/10/22/rectangle_area.png\" style=\"width: 542px; height: 304px;\" /></p><div></div>",
                "<div></div>",
                "<p><strong>Example:</strong></p><div></div>",
                "<div></div>",
                "<pre><div></div>",
                "<strong>Input: </strong>A = <span id=\"example-input-1-1\">-3</span>, B = <span id=\"example-input-1-2\">0</span>, C = <span id=\"example-input-1-3\">3</span>, D = <span id=\"example-input-1-4\">4</span>, E = <span id=\"example-input-1-5\">0</span>, F = <span id=\"example-input-1-6\">-1</span>, G = <span id=\"example-input-1-7\">9</span>, H = <span id=\"example-input-1-8\">2</span><div></div>",
                "<strong>Output: </strong><span id=\"example-output-1\">45</span></pre><div></div>",
                "<div></div>",
                "<p><strong>Note:</strong></p><div></div>",
                "<div></div>",
                "<p>Assume that the total area is never beyond the maximum possible value of <strong>int</strong>.</p><div></div>",
                "<div></div>"
            ],
            "metadata": {}
        },
        {
            "cell_type": "code",
            "metadata": {},
            "execution_count": null,
            "source": "%%writefile rectangle_area.py\nclass Solution:\n    def computeArea(self, A, B, C, D, E, F, G, H):\n        \"\"\"\n        :type A: int\n        :type B: int\n        :type C: int\n        :type D: int\n        :type E: int\n        :type F: int\n        :type G: int\n        :type H: int\n        :rtype: int\n        \"\"\"",
            "outputs": []
        },
        {
            "cell_type": "code",
            "metadata": {},
            "execution_count": null,
            "source": "# submit\n%run ../../cli.py push --method=submit --path=rectangle_area.py --clean=True",
            "outputs": []
        }
    ]
}