{
    "nbformat": 4,
    "nbformat_minor": 2,
    "metadata": {
        "kernelspec": {
            "display_name": "Python 3",
            "language": "python",
            "name": "python3"
        },
        "language_info": {
            "codemirror_mode": {
                "name": "ipython",
                "version": 3
            },
            "file_extension": ".py",
            "mimetype": "text/x-python",
            "name": "python",
            "nbconvert_exporter": "python",
            "pygments_lexer": "ipython3",
            "version": "3.7.2"
        }
    },
    "cells": [
        {
            "cell_type": "markdown",
            "source": [
                "<h1>Complete Binary Tree Inserter</h1>",
                "<p>A <em>complete</em> binary tree is a binary tree in which every level, except possibly the last, is completely filled, and all nodes are as far left as possible.</p><div></div>",
                "<div></div>",
                "<p>Write a data structure&nbsp;<code>CBTInserter</code>&nbsp;that is initialized with a complete binary tree and supports the following operations:</p><div></div>",
                "<div></div>",
                "<ul><div></div>",
                "\t<li><code>CBTInserter(TreeNode root)</code> initializes the data structure on a given tree&nbsp;with head node <code>root</code>;</li><div></div>",
                "\t<li><code>CBTInserter.insert(int v)</code> will insert a <code>TreeNode</code>&nbsp;into the tree with value <code>node.val =&nbsp;v</code>&nbsp;so that the tree remains complete, <strong>and returns the value of the parent of the inserted <code>TreeNode</code></strong>;</li><div></div>",
                "\t<li><code>CBTInserter.get_root()</code> will return the head node of the tree.</li><div></div>",
                "</ul><div></div>",
                "<div></div>",
                "<ol><div></div>",
                "</ol><div></div>",
                "<div></div>",
                "<div><div></div>",
                "<p>&nbsp;</p><div></div>",
                "<div></div>",
                "<p><strong>Example 1:</strong></p><div></div>",
                "<div></div>",
                "<pre><div></div>",
                "<strong>Input: </strong>inputs = <span id=\"example-input-1-1\">[&quot;CBTInserter&quot;,&quot;insert&quot;,&quot;get_root&quot;]</span>, inputs = <span id=\"example-input-1-2\">[[[1]],[2],[]]</span><div></div>",
                "<strong>Output: </strong><span id=\"example-output-1\">[null,1,[1,2]]</span><div></div>",
                "</pre><div></div>",
                "<div></div>",
                "<div><div></div>",
                "<p><strong>Example 2:</strong></p><div></div>",
                "<div></div>",
                "<pre><div></div>",
                "<strong>Input: </strong>inputs = <span id=\"example-input-2-1\">[&quot;CBTInserter&quot;,&quot;insert&quot;,&quot;insert&quot;,&quot;get_root&quot;]</span>, inputs = <span id=\"example-input-2-2\">[[[1,2,3,4,5,6]],[7],[8],[]]</span><div></div>",
                "<strong>Output: </strong><span id=\"example-output-2\">[null,3,4,[1,2,3,4,5,6,7,8]]</span></pre><div></div>",
                "</div><div></div>",
                "<div></div>",
                "<div><div></div>",
                "<p>&nbsp;</p><div></div>",
                "<div></div>",
                "<p><strong>Note:</strong></p><div></div>",
                "<div></div>",
                "<ol><div></div>",
                "\t<li>The initial given tree is complete and contains between <code>1</code> and <code>1000</code> nodes.</li><div></div>",
                "\t<li><code>CBTInserter.insert</code> is called at most <code>10000</code> times per test case.</li><div></div>",
                "\t<li>Every value of a given or inserted node is between <code>0</code> and <code>5000</code>.</li><div></div>",
                "</ol><div></div>",
                "</div><div></div>",
                "</div><div></div>",
                "<div></div>",
                "<div><div></div>",
                "<p>&nbsp;</p><div></div>",
                "<div></div>",
                "<div>&nbsp;</div><div></div>",
                "</div><div></div>",
                "<div></div>"
            ],
            "metadata": {}
        },
        {
            "cell_type": "code",
            "metadata": {},
            "execution_count": null,
            "source": "%%writefile complete_binary_tree_inserter.py\n# Definition for a binary tree node.\n# class TreeNode:\n#     def __init__(self, x):\n#         self.val = x\n#         self.left = None\n#         self.right = None\n\nclass CBTInserter:\n\n    def __init__(self, root):\n        \"\"\"\n        :type root: TreeNode\n        \"\"\"\n        \n\n    def insert(self, v):\n        \"\"\"\n        :type v: int\n        :rtype: int\n        \"\"\"\n        \n\n    def get_root(self):\n        \"\"\"\n        :rtype: TreeNode\n        \"\"\"\n        \n\n\n# Your CBTInserter object will be instantiated and called as such:\n# obj = CBTInserter(root)\n# param_1 = obj.insert(v)\n# param_2 = obj.get_root()",
            "outputs": []
        },
        {
            "cell_type": "code",
            "metadata": {},
            "execution_count": null,
            "source": "# submit\n%run ../../cli.py push --method=submit --path=complete_binary_tree_inserter.py --clean=True",
            "outputs": []
        }
    ]
}