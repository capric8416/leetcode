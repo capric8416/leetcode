{
    "nbformat": 4,
    "nbformat_minor": 2,
    "metadata": {
        "kernelspec": {
            "display_name": "Python 3",
            "language": "python",
            "name": "python3"
        },
        "language_info": {
            "codemirror_mode": {
                "name": "ipython",
                "version": 3
            },
            "file_extension": ".py",
            "mimetype": "text/x-python",
            "name": "python",
            "nbconvert_exporter": "python",
            "pygments_lexer": "ipython3",
            "version": "3.7.2"
        }
    },
    "cells": [
        {
            "cell_type": "markdown",
            "source": [
                "<h1>Is Graph Bipartite?</h1>",
                "<p>Given an undirected&nbsp;<code>graph</code>, return <code>true</code> if and only if it is bipartite.</p><div></div>",
                "<div></div>",
                "<p>Recall that a graph is <em>bipartite</em> if we can split it&#39;s set of nodes into two independent&nbsp;subsets A and B such that every edge in the graph has one node in A and another node in B.</p><div></div>",
                "<div></div>",
                "<p>The graph is given in the following form: <code>graph[i]</code> is a list of indexes <code>j</code> for which the edge between nodes <code>i</code> and <code>j</code> exists.&nbsp; Each node is an integer between <code>0</code> and <code>graph.length - 1</code>.&nbsp; There are no self edges or parallel edges: <code>graph[i]</code> does not contain <code>i</code>, and it doesn&#39;t contain any element twice.</p><div></div>",
                "<div></div>",
                "<pre><div></div>",
                "<strong>Example 1:</strong><div></div>",
                "<strong>Input:</strong> [[1,3], [0,2], [1,3], [0,2]]<div></div>",
                "<strong>Output:</strong> true<div></div>",
                "<strong>Explanation:</strong> <div></div>",
                "The graph looks like this:<div></div>",
                "0----1<div></div>",
                "|    |<div></div>",
                "|    |<div></div>",
                "3----2<div></div>",
                "We can divide the vertices into two groups: {0, 2} and {1, 3}.<div></div>",
                "</pre><div></div>",
                "<div></div>",
                "<pre><div></div>",
                "<strong>Example 2:</strong><div></div>",
                "<strong>Input:</strong> [[1,2,3], [0,2], [0,1,3], [0,2]]<div></div>",
                "<strong>Output:</strong> false<div></div>",
                "<strong>Explanation:</strong> <div></div>",
                "The graph looks like this:<div></div>",
                "0----1<div></div>",
                "| \\  |<div></div>",
                "|  \\ |<div></div>",
                "3----2<div></div>",
                "We cannot find a way to divide the set of nodes into two independent subsets.<div></div>",
                "</pre><div></div>",
                "<div></div>",
                "<p>&nbsp;</p><div></div>",
                "<div></div>",
                "<p><strong>Note:</strong></p><div></div>",
                "<div></div>",
                "<ul><div></div>",
                "\t<li><code>graph</code> will have length in range <code>[1, 100]</code>.</li><div></div>",
                "\t<li><code>graph[i]</code> will contain integers in range <code>[0, graph.length - 1]</code>.</li><div></div>",
                "\t<li><code>graph[i]</code> will not contain <code>i</code> or duplicate values.</li><div></div>",
                "\t<li>The graph is undirected: if any element <code>j</code> is in <code>graph[i]</code>, then <code>i</code> will be in <code>graph[j]</code>.</li><div></div>",
                "</ul><div></div>",
                "<div></div>"
            ],
            "metadata": {}
        },
        {
            "cell_type": "code",
            "metadata": {},
            "execution_count": null,
            "source": "%%writefile is_graph_bipartite.py\nclass Solution:\n    def isBipartite(self, graph):\n        \"\"\"\n        :type graph: List[List[int]]\n        :rtype: bool\n        \"\"\"",
            "outputs": []
        },
        {
            "cell_type": "code",
            "metadata": {},
            "execution_count": null,
            "source": "# submit\n%run ../../cli.py push --method=submit --path=is_graph_bipartite.py --clean=True",
            "outputs": []
        }
    ]
}