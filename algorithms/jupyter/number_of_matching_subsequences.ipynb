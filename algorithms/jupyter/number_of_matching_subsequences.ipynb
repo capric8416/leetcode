{
    "nbformat": 4,
    "nbformat_minor": 2,
    "metadata": {
        "kernelspec": {
            "display_name": "Python 3",
            "language": "python",
            "name": "python3"
        },
        "language_info": {
            "codemirror_mode": {
                "name": "ipython",
                "version": 3
            },
            "file_extension": ".py",
            "mimetype": "text/x-python",
            "name": "python",
            "nbconvert_exporter": "python",
            "pygments_lexer": "ipython3",
            "version": "3.7.2"
        }
    },
    "cells": [
        {
            "cell_type": "markdown",
            "source": [
                "<h1>Number of Matching Subsequences</h1>",
                "<p>Given string <code>S</code> and a&nbsp;dictionary of words <code>words</code>, find the number of <code>words[i]</code> that is a subsequence of <code>S</code>.</p><div></div>",
                "<div></div>",
                "<pre><div></div>",
                "<strong>Example :</strong><div></div>",
                "<strong>Input:</strong> <div></div>",
                "S = &quot;abcde&quot;<div></div>",
                "words = [&quot;a&quot;, &quot;bb&quot;, &quot;acd&quot;, &quot;ace&quot;]<div></div>",
                "<strong>Output:</strong> 3<div></div>",
                "<strong>Explanation:</strong> There are three words in <code>words</code> that are a subsequence of <code>S</code>: &quot;a&quot;, &quot;acd&quot;, &quot;ace&quot;.<div></div>",
                "</pre><div></div>",
                "<div></div>",
                "<p><strong>Note:</strong></p><div></div>",
                "<div></div>",
                "<ul><div></div>",
                "\t<li>All words in <code>words</code> and <code>S</code> will only consists of lowercase letters.</li><div></div>",
                "\t<li>The length of <code>S</code> will be in the range of <code>[1, 50000]</code>.</li><div></div>",
                "\t<li>The length of <code>words</code> will be in the range of&nbsp;<code>[1, 5000]</code>.</li><div></div>",
                "\t<li>The length of <code>words[i]</code> will be in the range of <code>[1, 50]</code>.</li><div></div>",
                "</ul><div></div>",
                "<div></div>"
            ],
            "metadata": {}
        },
        {
            "cell_type": "code",
            "metadata": {},
            "execution_count": null,
            "source": "%%writefile number_of_matching_subsequences.py\nclass Solution:\n    def numMatchingSubseq(self, S, words):\n        \"\"\"\n        :type S: str\n        :type words: List[str]\n        :rtype: int\n        \"\"\"",
            "outputs": []
        },
        {
            "cell_type": "code",
            "metadata": {},
            "execution_count": null,
            "source": "# submit\n%run ../../cli.py push --method=submit --path=number_of_matching_subsequences.py --clean=True",
            "outputs": []
        }
    ]
}