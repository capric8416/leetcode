{
    "nbformat": 4,
    "nbformat_minor": 2,
    "metadata": {
        "kernelspec": {
            "display_name": "Python 3",
            "language": "python",
            "name": "python3"
        },
        "language_info": {
            "codemirror_mode": {
                "name": "ipython",
                "version": 3
            },
            "file_extension": ".py",
            "mimetype": "text/x-python",
            "name": "python",
            "nbconvert_exporter": "python",
            "pygments_lexer": "ipython3",
            "version": "3.7.2"
        }
    },
    "cells": [
        {
            "cell_type": "markdown",
            "source": [
                "<h1>Heaters</h1>",
                "<p>Winter is coming! Your first job during the contest is to design a standard heater with fixed warm radius to warm all the houses.</p><div></div>",
                "<div></div>",
                "<p>Now, you are given positions of houses and heaters on a horizontal line, find out minimum radius of heaters so that all houses could be covered by those heaters.</p><div></div>",
                "<div></div>",
                "<p>So, your input will be the positions of houses and heaters seperately, and your expected output will be the minimum radius standard of heaters.</p><div></div>",
                "<div></div>",
                "<p><b>Note:</b><br><div></div>",
                "<ol><div></div>",
                "<li>Numbers of houses and heaters you are given are non-negative and will not exceed 25000.</li><div></div>",
                "<li>Positions of houses and heaters you are given are non-negative and will not exceed 10^9.</li><div></div>",
                "<li>As long as a house is in the heaters' warm radius range, it can be warmed.</li><div></div>",
                "<li>All the heaters follow your radius standard and the warm radius will the same.</li><div></div>",
                "</ol><div></div>",
                "</p><div></div>",
                "<div></div>",
                "<p><b>Example 1:</b><br /><div></div>",
                "<pre><div></div>",
                "<b>Input:</b> [1,2,3],[2]<div></div>",
                "<b>Output:</b> 1<div></div>",
                "<b>Explanation:</b> The only heater was placed in the position 2, and if we use the radius 1 standard, then all the houses can be warmed.<div></div>",
                "</pre><div></div>",
                "</p><div></div>",
                "<div></div>",
                "<p><b>Example 2:</b><br /><div></div>",
                "<pre><div></div>",
                "<b>Input:</b> [1,2,3,4],[1,4]<div></div>",
                "<b>Output:</b> 1<div></div>",
                "<b>Explanation:</b> The two heater was placed in the position 1 and 4. We need to use radius 1 standard, then all the houses can be warmed.<div></div>",
                "</pre><div></div>",
                "</p><div></div>"
            ],
            "metadata": {}
        },
        {
            "cell_type": "code",
            "metadata": {},
            "execution_count": null,
            "source": "%%writefile heaters.py\nclass Solution:\n    def findRadius(self, houses, heaters):\n        \"\"\"\n        :type houses: List[int]\n        :type heaters: List[int]\n        :rtype: int\n        \"\"\"",
            "outputs": []
        },
        {
            "cell_type": "code",
            "metadata": {},
            "execution_count": null,
            "source": "# submit\n%run ../../cli.py push --method=submit --path=heaters.py --clean=True",
            "outputs": []
        }
    ]
}