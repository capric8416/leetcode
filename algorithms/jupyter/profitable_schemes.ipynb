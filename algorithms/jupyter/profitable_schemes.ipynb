{
    "nbformat": 4,
    "nbformat_minor": 2,
    "metadata": {
        "kernelspec": {
            "display_name": "Python 3",
            "language": "python",
            "name": "python3"
        },
        "language_info": {
            "codemirror_mode": {
                "name": "ipython",
                "version": 3
            },
            "file_extension": ".py",
            "mimetype": "text/x-python",
            "name": "python",
            "nbconvert_exporter": "python",
            "pygments_lexer": "ipython3",
            "version": "3.7.2"
        }
    },
    "cells": [
        {
            "cell_type": "markdown",
            "source": [
                "<h1>Profitable Schemes</h1>",
                "<p>There are G people in a gang, and a list of various crimes they could commit.</p><div></div>",
                "<div></div>",
                "<p>The <code>i</code>-th crime generates a <code>profit[i]</code> and requires <code>group[i]</code> gang members to participate.</p><div></div>",
                "<div></div>",
                "<p>If a gang member participates in one crime, that member can&#39;t participate in another crime.</p><div></div>",
                "<div></div>",
                "<p>Let&#39;s call a <em>profitable&nbsp;scheme</em>&nbsp;any subset of these crimes that generates at least <code>P</code> profit, and the total number of gang members participating in that subset of crimes is at most G.</p><div></div>",
                "<div></div>",
                "<p>How many schemes can be chosen?&nbsp; Since the answer may be very&nbsp;large, <strong>return it modulo</strong> <code>10^9 + 7</code>.</p><div></div>",
                "<div></div>",
                "<p>&nbsp;</p><div></div>",
                "<div></div>",
                "<p><strong>Example 1:</strong></p><div></div>",
                "<div></div>",
                "<pre><div></div>",
                "<strong>Input: </strong>G = <span id=\"example-input-1-1\">5</span>, P = <span id=\"example-input-1-2\">3</span>, group = <span id=\"example-input-1-3\">[2,2]</span>, profit = <span id=\"example-input-1-4\">[2,3]</span><div></div>",
                "<strong>Output: </strong><span id=\"example-output-1\">2</span><div></div>",
                "<strong>Explanation: </strong><div></div>",
                "To make a profit of at least 3, the gang could either commit crimes 0 and 1, or just crime 1.<div></div>",
                "In total, there are 2 schemes.<div></div>",
                "</pre><div></div>",
                "<div></div>",
                "<div><div></div>",
                "<p><strong>Example 2:</strong></p><div></div>",
                "<div></div>",
                "<pre><div></div>",
                "<strong>Input: </strong>G = <span id=\"example-input-2-1\">10</span>, P = <span id=\"example-input-2-2\">5</span>, group = <span id=\"example-input-2-3\">[2,3,5]</span>, profit = <span id=\"example-input-2-4\">[6,7,8]</span><div></div>",
                "<strong>Output: </strong><span id=\"example-output-2\">7</span><div></div>",
                "<strong>Explanation: </strong><div></div>",
                "To make a profit of at least 5, the gang could commit any crimes, as long as they commit one.<div></div>",
                "There are 7 possible schemes: (0), (1), (2), (0,1), (0,2), (1,2), and (0,1,2).<div></div>",
                "</pre><div></div>",
                "<div></div>",
                "<p>&nbsp;</p><div></div>",
                "</div><div></div>",
                "<div></div>",
                "<p><strong>Note:</strong></p><div></div>",
                "<div></div>",
                "<ol><div></div>",
                "\t<li><code>1 &lt;= G &lt;= 100</code></li><div></div>",
                "\t<li><code>0 &lt;= P &lt;= 100</code></li><div></div>",
                "\t<li><code>1 &lt;= group[i] &lt;= 100</code></li><div></div>",
                "\t<li><code>0 &lt;= profit[i] &lt;= 100</code></li><div></div>",
                "\t<li><code>1 &lt;= group.length = profit.length &lt;= 100</code></li><div></div>",
                "</ol><div></div>",
                "<div></div>",
                "<div><div></div>",
                "<div>&nbsp;</div><div></div>",
                "</div><div></div>",
                "<div></div>"
            ],
            "metadata": {}
        },
        {
            "cell_type": "code",
            "metadata": {},
            "execution_count": null,
            "source": "%%writefile profitable_schemes.py\nclass Solution:\n    def profitableSchemes(self, G, P, group, profit):\n        \"\"\"\n        :type G: int\n        :type P: int\n        :type group: List[int]\n        :type profit: List[int]\n        :rtype: int\n        \"\"\"",
            "outputs": []
        },
        {
            "cell_type": "code",
            "metadata": {},
            "execution_count": null,
            "source": "# submit\n%run ../../cli.py push --method=submit --path=profitable_schemes.py --clean=True",
            "outputs": []
        }
    ]
}