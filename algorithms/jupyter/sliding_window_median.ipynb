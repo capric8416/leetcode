{
    "nbformat": 4,
    "nbformat_minor": 2,
    "metadata": {
        "kernelspec": {
            "display_name": "Python 3",
            "language": "python",
            "name": "python3"
        },
        "language_info": {
            "codemirror_mode": {
                "name": "ipython",
                "version": 3
            },
            "file_extension": ".py",
            "mimetype": "text/x-python",
            "name": "python",
            "nbconvert_exporter": "python",
            "pygments_lexer": "ipython3",
            "version": "3.7.2"
        }
    },
    "cells": [
        {
            "cell_type": "markdown",
            "source": [
                "<h1>Sliding Window Median</h1>",
                "<p>Median is the middle value in an ordered integer list. If the size of the list is even, there is no middle value. So the median is the mean of the two middle value.</p><div></div>",
                "Examples: <br /><div></div>",
                "<p><code>[2,3,4]</code> , the median is <code>3</code></p><div></div>",
                "<p><code>[2,3]</code>, the median is <code>(2 + 3) / 2 = 2.5</code> </p><div></div>",
                "<div></div>",
                "<p>Given an array <i>nums</i>, there is a sliding window of size <i>k</i> which is moving from the very left of the array to the very right. You can only see the <i>k</i> numbers in the window. Each time the sliding window moves right by one position. Your job is to output the median array for each window in the original array.</p><div></div>",
                "<div></div>",
                "<p>For example,<br><div></div>",
                "Given <i>nums</i> = <code>[1,3,-1,-3,5,3,6,7]</code>, and <i>k</i> = 3.</p><div></div>",
                "<div></div>",
                "<pre><div></div>",
                "Window position                Median<div></div>",
                "---------------               -----<div></div>",
                "[1  3  -1] -3  5  3  6  7       1<div></div>",
                " 1 [3  -1  -3] 5  3  6  7       -1<div></div>",
                " 1  3 [-1  -3  5] 3  6  7       -1<div></div>",
                " 1  3  -1 [-3  5  3] 6  7       3<div></div>",
                " 1  3  -1  -3 [5  3  6] 7       5<div></div>",
                " 1  3  -1  -3  5 [3  6  7]      6<div></div>",
                "</pre><div></div>",
                "<div></div>",
                "<p>Therefore, return the median sliding window as <code>[1,-1,-1,3,5,6]</code>.</p><div></div>",
                "<div></div>",
                "<p><b>Note: </b><br><div></div>",
                "You may assume <code>k</code> is always valid, ie: <code>k</code> is always smaller than input array's size for non-empty array.</p><div></div>"
            ],
            "metadata": {}
        },
        {
            "cell_type": "code",
            "metadata": {},
            "execution_count": null,
            "source": "%%writefile sliding_window_median.py\nclass Solution:\n    def medianSlidingWindow(self, nums, k):\n        \"\"\"\n        :type nums: List[int]\n        :type k: int\n        :rtype: List[float]\n        \"\"\"",
            "outputs": []
        },
        {
            "cell_type": "code",
            "metadata": {},
            "execution_count": null,
            "source": "# submit\n%run ../../cli.py push --method=submit --path=sliding_window_median.py --clean=True",
            "outputs": []
        }
    ]
}