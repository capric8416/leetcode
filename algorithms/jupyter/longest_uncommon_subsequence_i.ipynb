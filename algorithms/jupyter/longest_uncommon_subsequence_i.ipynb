{
    "nbformat": 4,
    "nbformat_minor": 2,
    "metadata": {
        "kernelspec": {
            "display_name": "Python 3",
            "language": "python",
            "name": "python3"
        },
        "language_info": {
            "codemirror_mode": {
                "name": "ipython",
                "version": 3
            },
            "file_extension": ".py",
            "mimetype": "text/x-python",
            "name": "python",
            "nbconvert_exporter": "python",
            "pygments_lexer": "ipython3",
            "version": "3.7.2"
        }
    },
    "cells": [
        {
            "cell_type": "markdown",
            "source": [
                "<h1>Longest Uncommon Subsequence I </h1>",
                "<p><div></div>",
                "Given a group of two strings, you need to find the longest uncommon subsequence of this group of two strings.<div></div>",
                "The longest uncommon subsequence is defined as the longest subsequence of one of these strings and this subsequence should not be <b>any</b> subsequence of the other strings.<div></div>",
                "</p><div></div>",
                "<div></div>",
                "<p><div></div>",
                "A <b>subsequence</b> is a sequence that can be derived from one sequence by deleting some characters without changing the order of the remaining elements. Trivially, any string is a subsequence of itself and an empty string is a subsequence of any string.<div></div>",
                "</p><div></div>",
                "<div></div>",
                "<p><div></div>",
                "The input will be two strings, and the output needs to be the length of the longest uncommon subsequence. If the longest uncommon subsequence doesn't exist, return -1.<div></div>",
                "</p><div></div>",
                "<div></div>",
                "<p><b>Example 1:</b><br /><div></div>",
                "<pre><div></div>",
                "<b>Input:</b> \"aba\", \"cdc\"<div></div>",
                "<b>Output:</b> 3<div></div>",
                "<b>Explanation:</b> The longest uncommon subsequence is \"aba\" (or \"cdc\"), <br/>because \"aba\" is a subsequence of \"aba\", <br/>but not a subsequence of any other strings in the group of two strings. <div></div>",
                "</pre><div></div>",
                "</p><div></div>",
                "<div></div>",
                "<p><b>Note:</b><div></div>",
                "<ol><div></div>",
                "<li>Both strings' lengths will not exceed 100.</li><div></div>",
                "<li>Only letters from a ~ z will appear in input strings. </li><div></div>",
                "</ol><div></div>",
                "</p><div></div>"
            ],
            "metadata": {}
        },
        {
            "cell_type": "code",
            "metadata": {},
            "execution_count": null,
            "source": "%%writefile longest_uncommon_subsequence_i.py\nclass Solution:\n    def findLUSlength(self, a, b):\n        \"\"\"\n        :type a: str\n        :type b: str\n        :rtype: int\n        \"\"\"",
            "outputs": []
        },
        {
            "cell_type": "code",
            "metadata": {},
            "execution_count": null,
            "source": "# submit\n%run ../../cli.py push --method=submit --path=longest_uncommon_subsequence_i.py --clean=True",
            "outputs": []
        }
    ]
}