{
    "nbformat": 4,
    "nbformat_minor": 2,
    "metadata": {
        "kernelspec": {
            "display_name": "Python 3",
            "language": "python",
            "name": "python3"
        },
        "language_info": {
            "codemirror_mode": {
                "name": "ipython",
                "version": 3
            },
            "file_extension": ".py",
            "mimetype": "text/x-python",
            "name": "python",
            "nbconvert_exporter": "python",
            "pygments_lexer": "ipython3",
            "version": "3.7.2"
        }
    },
    "cells": [
        {
            "cell_type": "markdown",
            "source": [
                "<h1>Set Matrix Zeroes</h1>",
                "<p>Given a <em>m</em> x <em>n</em> matrix, if an element is 0, set its entire row and column to 0. Do it <a href=\"https://en.wikipedia.org/wiki/In-place_algorithm\" target=\"_blank\"><strong>in-place</strong></a>.</p><div></div>",
                "<div></div>",
                "<p><strong>Example 1:</strong></p><div></div>",
                "<div></div>",
                "<pre><div></div>",
                "<strong>Input:</strong> <div></div>",
                "[<div></div>",
                "&nbsp; [1,1,1],<div></div>",
                "&nbsp; [1,0,1],<div></div>",
                "&nbsp; [1,1,1]<div></div>",
                "]<div></div>",
                "<strong>Output:</strong> <div></div>",
                "[<div></div>",
                "&nbsp; [1,0,1],<div></div>",
                "&nbsp; [0,0,0],<div></div>",
                "&nbsp; [1,0,1]<div></div>",
                "]<div></div>",
                "</pre><div></div>",
                "<div></div>",
                "<p><strong>Example 2:</strong></p><div></div>",
                "<div></div>",
                "<pre><div></div>",
                "<strong>Input:</strong> <div></div>",
                "[<div></div>",
                "&nbsp; [0,1,2,0],<div></div>",
                "&nbsp; [3,4,5,2],<div></div>",
                "&nbsp; [1,3,1,5]<div></div>",
                "]<div></div>",
                "<strong>Output:</strong> <div></div>",
                "[<div></div>",
                "&nbsp; [0,0,0,0],<div></div>",
                "&nbsp; [0,4,5,0],<div></div>",
                "&nbsp; [0,3,1,0]<div></div>",
                "]<div></div>",
                "</pre><div></div>",
                "<div></div>",
                "<p><strong>Follow up:</strong></p><div></div>",
                "<div></div>",
                "<ul><div></div>",
                "\t<li>A straight forward solution using O(<em>m</em><em>n</em>) space is probably a bad idea.</li><div></div>",
                "\t<li>A simple improvement uses O(<em>m</em> + <em>n</em>) space, but still not the best solution.</li><div></div>",
                "\t<li>Could you devise a constant space solution?</li><div></div>",
                "</ul><div></div>",
                "<div></div>"
            ],
            "metadata": {}
        },
        {
            "cell_type": "code",
            "metadata": {},
            "execution_count": null,
            "source": "%%writefile set_matrix_zeroes.py\nclass Solution:\n    def setZeroes(self, matrix):\n        \"\"\"\n        :type matrix: List[List[int]]\n        :rtype: void Do not return anything, modify matrix in-place instead.\n        \"\"\"",
            "outputs": []
        },
        {
            "cell_type": "code",
            "metadata": {},
            "execution_count": null,
            "source": "# submit\n%run ../../cli.py push --method=submit --path=set_matrix_zeroes.py --clean=True",
            "outputs": []
        }
    ]
}