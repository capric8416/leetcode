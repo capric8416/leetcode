{
    "nbformat": 4,
    "nbformat_minor": 2,
    "metadata": {
        "kernelspec": {
            "display_name": "Python 3",
            "language": "python",
            "name": "python3"
        },
        "language_info": {
            "codemirror_mode": {
                "name": "ipython",
                "version": 3
            },
            "file_extension": ".py",
            "mimetype": "text/x-python",
            "name": "python",
            "nbconvert_exporter": "python",
            "pygments_lexer": "ipython3",
            "version": "3.7.2"
        }
    },
    "cells": [
        {
            "cell_type": "markdown",
            "source": [
                "<h1>Exam Room</h1>",
                "<p>In an exam room, there are <code>N</code> seats in a single row, numbered <code>0, 1, 2, ..., N-1</code>.</p><div></div>",
                "<div></div>",
                "<p>When a student enters the room, they must sit in the seat that maximizes the distance to the closest person.&nbsp; If there are multiple such seats, they sit in the seat with the lowest number.&nbsp; (Also, if no one is in the room, then the student sits at seat number 0.)</p><div></div>",
                "<div></div>",
                "<p>Return a class <code>ExamRoom(int N)</code>&nbsp;that exposes two functions: <code>ExamRoom.seat()</code>&nbsp;returning an <code>int</code>&nbsp;representing what seat the student sat in, and <code>ExamRoom.leave(int p)</code>&nbsp;representing that the student in seat number <code>p</code>&nbsp;now leaves the room.&nbsp; It is guaranteed that any calls to <code>ExamRoom.leave(p)</code> have a student sitting in seat <code>p</code>.</p><div></div>",
                "<div></div>",
                "<p>&nbsp;</p><div></div>",
                "<div></div>",
                "<p><strong>Example 1:</strong></p><div></div>",
                "<div></div>",
                "<pre><div></div>",
                "<strong>Input: </strong><span id=\"example-input-1-1\">[&quot;ExamRoom&quot;,&quot;seat&quot;,&quot;seat&quot;,&quot;seat&quot;,&quot;seat&quot;,&quot;leave&quot;,&quot;seat&quot;]</span>, <span id=\"example-input-1-2\">[[10],[],[],[],[],[4],[]]</span><div></div>",
                "<strong>Output: </strong><span id=\"example-output-1\">[null,0,9,4,2,null,5]</span><div></div>",
                "<span><strong>Explanation</strong>:<div></div>",
                "ExamRoom(10) -&gt; null<div></div>",
                "seat() -&gt; 0, no one is in the room, then the student sits at seat number 0.<div></div>",
                "seat() -&gt; 9, the student sits at the last seat number 9.<div></div>",
                "seat() -&gt; 4, the student sits at the last seat number 4.<div></div>",
                "seat() -&gt; 2, the student sits at the last seat number 2.<div></div>",
                "leave(4) -&gt; null<div></div>",
                "seat() -&gt; 5, the student sits at the last seat number 5.</span><div></div>",
                "</pre><div></div>",
                "<div></div>",
                "<p><span>\u200b\u200b\u200b\u200b\u200b\u200b\u200b</span></p><div></div>",
                "<div></div>",
                "<p><strong>Note:</strong></p><div></div>",
                "<div></div>",
                "<ol><div></div>",
                "\t<li><code>1 &lt;= N &lt;= 10^9</code></li><div></div>",
                "\t<li><code>ExamRoom.seat()</code> and <code>ExamRoom.leave()</code> will be called at most <code>10^4</code> times across all test cases.</li><div></div>",
                "\t<li>Calls to <code>ExamRoom.leave(p)</code> are guaranteed to have a student currently sitting in seat number <code>p</code>.</li><div></div>",
                "</ol><div></div>",
                "<div></div>"
            ],
            "metadata": {}
        },
        {
            "cell_type": "code",
            "metadata": {},
            "execution_count": null,
            "source": "%%writefile exam_room.py\nclass ExamRoom:\n\n    def __init__(self, N):\n        \"\"\"\n        :type N: int\n        \"\"\"\n        \n\n    def seat(self):\n        \"\"\"\n        :rtype: int\n        \"\"\"\n        \n\n    def leave(self, p):\n        \"\"\"\n        :type p: int\n        :rtype: void\n        \"\"\"\n        \n\n\n# Your ExamRoom object will be instantiated and called as such:\n# obj = ExamRoom(N)\n# param_1 = obj.seat()\n# obj.leave(p)",
            "outputs": []
        },
        {
            "cell_type": "code",
            "metadata": {},
            "execution_count": null,
            "source": "# submit\n%run ../../cli.py push --method=submit --path=exam_room.py --clean=True",
            "outputs": []
        }
    ]
}