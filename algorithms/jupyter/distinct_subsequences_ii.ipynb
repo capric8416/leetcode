{
    "nbformat": 4,
    "nbformat_minor": 2,
    "metadata": {
        "kernelspec": {
            "display_name": "Python 3",
            "language": "python",
            "name": "python3"
        },
        "language_info": {
            "codemirror_mode": {
                "name": "ipython",
                "version": 3
            },
            "file_extension": ".py",
            "mimetype": "text/x-python",
            "name": "python",
            "nbconvert_exporter": "python",
            "pygments_lexer": "ipython3",
            "version": "3.7.2"
        }
    },
    "cells": [
        {
            "cell_type": "markdown",
            "source": [
                "<h1>Distinct Subsequences II</h1>",
                "<p>Given a string <code>S</code>, count the number of distinct, non-empty subsequences of <code>S</code> .</p><div></div>",
                "<div></div>",
                "<p>Since the result may be large, <strong>return the answer modulo <code>10^9 + 7</code></strong>.</p><div></div>",
                "<div></div>",
                "<p>&nbsp;</p><div></div>",
                "<div></div>",
                "<p><strong>Example 1:</strong></p><div></div>",
                "<div></div>",
                "<pre><div></div>",
                "<strong>Input: </strong><span id=\"example-input-1-1\">&quot;abc&quot;</span><div></div>",
                "<strong>Output: </strong><span id=\"example-output-1\">7</span><div></div>",
                "<span><strong>Explanation</strong>: The 7 distinct subsequences are &quot;a&quot;, &quot;b&quot;, &quot;c&quot;, &quot;ab&quot;, &quot;ac&quot;, &quot;bc&quot;, and &quot;abc&quot;.</span><div></div>",
                "</pre><div></div>",
                "<div></div>",
                "<div><div></div>",
                "<p><strong>Example 2:</strong></p><div></div>",
                "<div></div>",
                "<pre><div></div>",
                "<strong>Input: </strong><span id=\"example-input-2-1\">&quot;aba&quot;</span><div></div>",
                "<strong>Output: </strong><span id=\"example-output-2\">6<div></div>",
                "</span><strong>Explanation</strong>: The 6 distinct subsequences are &quot;a&quot;, &quot;b&quot;, &quot;ab&quot;, &quot;ba&quot;, &quot;aa&quot; and &quot;aba&quot;.<div></div>",
                "</pre><div></div>",
                "<div></div>",
                "<div><div></div>",
                "<p><strong>Example 3:</strong></p><div></div>",
                "<div></div>",
                "<pre><div></div>",
                "<strong>Input: </strong><span id=\"example-input-3-1\">&quot;aaa&quot;</span><div></div>",
                "<strong>Output: </strong><span id=\"example-output-3\">3<div></div>",
                "</span><strong>Explanation</strong>: The 3 distinct subsequences are &quot;a&quot;, &quot;aa&quot; and &quot;aaa&quot;.<div></div>",
                "</pre><div></div>",
                "</div><div></div>",
                "</div><div></div>",
                "<div></div>",
                "<p>&nbsp;</p><div></div>",
                "<div></div>",
                "<p>&nbsp;</p><div></div>",
                "<div></div>",
                "<p><strong>Note:</strong></p><div></div>",
                "<div></div>",
                "<ol><div></div>",
                "\t<li><code>S</code> contains only lowercase letters.</li><div></div>",
                "\t<li><code>1 &lt;= S.length &lt;= 2000</code></li><div></div>",
                "</ol><div></div>",
                "<div></div>",
                "<div><div></div>",
                "<p>&nbsp;</p><div></div>",
                "<div></div>",
                "<div><div></div>",
                "<div>&nbsp;</div><div></div>",
                "</div><div></div>",
                "</div><div></div>"
            ],
            "metadata": {}
        },
        {
            "cell_type": "code",
            "metadata": {},
            "execution_count": null,
            "source": "%%writefile distinct_subsequences_ii.py\nclass Solution:\n    def distinctSubseqII(self, S):\n        \"\"\"\n        :type S: str\n        :rtype: int\n        \"\"\"",
            "outputs": []
        },
        {
            "cell_type": "code",
            "metadata": {},
            "execution_count": null,
            "source": "# submit\n%run ../../cli.py push --method=submit --path=distinct_subsequences_ii.py --clean=True",
            "outputs": []
        }
    ]
}