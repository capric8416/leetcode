{
    "nbformat": 4,
    "nbformat_minor": 2,
    "metadata": {
        "kernelspec": {
            "display_name": "Python 3",
            "language": "python",
            "name": "python3"
        },
        "language_info": {
            "codemirror_mode": {
                "name": "ipython",
                "version": 3
            },
            "file_extension": ".py",
            "mimetype": "text/x-python",
            "name": "python",
            "nbconvert_exporter": "python",
            "pygments_lexer": "ipython3",
            "version": "3.7.2"
        }
    },
    "cells": [
        {
            "cell_type": "markdown",
            "source": [
                "<h1>Implement Queue using Stacks</h1>",
                "<p>Implement the following operations of a queue using stacks.</p><div></div>",
                "<div></div>",
                "<ul><div></div>",
                "\t<li>push(x) -- Push element x to the back of queue.</li><div></div>",
                "\t<li>pop() -- Removes the element from in front of queue.</li><div></div>",
                "\t<li>peek() -- Get the front element.</li><div></div>",
                "\t<li>empty() -- Return whether the queue is empty.</li><div></div>",
                "</ul><div></div>",
                "<div></div>",
                "<p><b>Example:</b></p><div></div>",
                "<div></div>",
                "<pre><div></div>",
                "MyQueue queue = new MyQueue();<div></div>",
                "<div></div>",
                "queue.push(1);<div></div>",
                "queue.push(2);  <div></div>",
                "queue.peek();  // returns 1<div></div>",
                "queue.pop();   // returns 1<div></div>",
                "queue.empty(); // returns false</pre><div></div>",
                "<div></div>",
                "<p><b>Notes:</b></p><div></div>",
                "<div></div>",
                "<ul><div></div>",
                "\t<li>You must use <i>only</i> standard operations of a stack -- which means only <code>push to top</code>, <code>peek/pop from top</code>, <code>size</code>, and <code>is empty</code> operations are valid.</li><div></div>",
                "\t<li>Depending on your language, stack may not be supported natively. You may simulate a stack by using a list or deque (double-ended queue), as long as you use only standard operations of a stack.</li><div></div>",
                "\t<li>You may assume that all operations are valid (for example, no pop or peek operations will be called on an empty queue).</li><div></div>",
                "</ul><div></div>",
                "<div></div>"
            ],
            "metadata": {}
        },
        {
            "cell_type": "code",
            "metadata": {},
            "execution_count": null,
            "source": "%%writefile implement_queue_using_stacks.py\nclass MyQueue:\n\n    def __init__(self):\n        \"\"\"\n        Initialize your data structure here.\n        \"\"\"\n        \n\n    def push(self, x):\n        \"\"\"\n        Push element x to the back of queue.\n        :type x: int\n        :rtype: void\n        \"\"\"\n        \n\n    def pop(self):\n        \"\"\"\n        Removes the element from in front of queue and returns that element.\n        :rtype: int\n        \"\"\"\n        \n\n    def peek(self):\n        \"\"\"\n        Get the front element.\n        :rtype: int\n        \"\"\"\n        \n\n    def empty(self):\n        \"\"\"\n        Returns whether the queue is empty.\n        :rtype: bool\n        \"\"\"\n        \n\n\n# Your MyQueue object will be instantiated and called as such:\n# obj = MyQueue()\n# obj.push(x)\n# param_2 = obj.pop()\n# param_3 = obj.peek()\n# param_4 = obj.empty()",
            "outputs": []
        },
        {
            "cell_type": "code",
            "metadata": {},
            "execution_count": null,
            "source": "# submit\n%run ../../cli.py push --method=submit --path=implement_queue_using_stacks.py --clean=True",
            "outputs": []
        }
    ]
}