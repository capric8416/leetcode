{
    "nbformat": 4,
    "nbformat_minor": 2,
    "metadata": {
        "kernelspec": {
            "display_name": "Python 3",
            "language": "python",
            "name": "python3"
        },
        "language_info": {
            "codemirror_mode": {
                "name": "ipython",
                "version": 3
            },
            "file_extension": ".py",
            "mimetype": "text/x-python",
            "name": "python",
            "nbconvert_exporter": "python",
            "pygments_lexer": "ipython3",
            "version": "3.7.2"
        }
    },
    "cells": [
        {
            "cell_type": "markdown",
            "source": [
                "<h1>2 Keys Keyboard</h1>",
                "<p><div></div>",
                "Initially on a notepad only one character 'A' is present. You can perform two operations on this notepad for each step: <div></div>",
                "<ol><div></div>",
                "<li><code>Copy All</code>: You can copy all the characters present on the notepad (partial copy is not allowed).</li><div></div>",
                "<li><code>Paste</code>: You can paste the characters which are copied <b>last time</b>.</li><div></div>",
                "</ol><div></div>",
                "</p><div></div>",
                "<div></div>",
                "<p><div></div>",
                "Given a number <code>n</code>. You have to get <b>exactly</b> <code>n</code> 'A' on the notepad by performing the minimum number of steps permitted. Output the minimum number of steps to get <code>n</code> 'A'. <div></div>",
                "</p><div></div>",
                "<div></div>",
                "<p><b>Example 1:</b><br /><div></div>",
                "<pre><div></div>",
                "<b>Input:</b> 3<div></div>",
                "<b>Output:</b> 3<div></div>",
                "<b>Explanation:</b><div></div>",
                "Intitally, we have one character 'A'.<div></div>",
                "In step 1, we use <b>Copy All</b> operation.<div></div>",
                "In step 2, we use <b>Paste</b> operation to get 'AA'.<div></div>",
                "In step 3, we use <b>Paste</b> operation to get 'AAA'.<div></div>",
                "</pre><div></div>",
                "</p><div></div>",
                "<div></div>",
                "<div></div>",
                "<p><b>Note:</b><br><div></div>",
                "<ol><div></div>",
                "<li>The <code>n</code> will be in the range [1, 1000].</li><div></div>",
                "</ol><div></div>",
                "</p><div></div>"
            ],
            "metadata": {}
        },
        {
            "cell_type": "code",
            "metadata": {},
            "execution_count": null,
            "source": "%%writefile 2_keys_keyboard.py\nclass Solution:\n    def minSteps(self, n):\n        \"\"\"\n        :type n: int\n        :rtype: int\n        \"\"\"",
            "outputs": []
        },
        {
            "cell_type": "code",
            "metadata": {},
            "execution_count": null,
            "source": "# submit\n%run ../../cli.py push --method=submit --path=2_keys_keyboard.py --clean=True",
            "outputs": []
        }
    ]
}