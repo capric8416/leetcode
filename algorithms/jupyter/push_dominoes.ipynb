{
    "nbformat": 4,
    "nbformat_minor": 2,
    "metadata": {
        "kernelspec": {
            "display_name": "Python 3",
            "language": "python",
            "name": "python3"
        },
        "language_info": {
            "codemirror_mode": {
                "name": "ipython",
                "version": 3
            },
            "file_extension": ".py",
            "mimetype": "text/x-python",
            "name": "python",
            "nbconvert_exporter": "python",
            "pygments_lexer": "ipython3",
            "version": "3.7.2"
        }
    },
    "cells": [
        {
            "cell_type": "markdown",
            "source": [
                "<h1>Push Dominoes</h1>",
                "<p>There are<font face=\"monospace\">&nbsp;<code>N</code></font> dominoes in a line, and we place each domino vertically upright.</p><div></div>",
                "<div></div>",
                "<p>In the beginning, we simultaneously push&nbsp;some of the dominoes either to the left or to the right.</p><div></div>",
                "<div></div>",
                "<p><img alt=\"\" src=\"https://s3-lc-upload.s3.amazonaws.com/uploads/2018/05/18/domino.png\" style=\"height: 160px;\" /></p><div></div>",
                "<div></div>",
                "<p>After each second, each domino that is falling to the left pushes the adjacent domino on the left.</p><div></div>",
                "<div></div>",
                "<p>Similarly, the dominoes falling to the right push their adjacent dominoes standing on the right.</p><div></div>",
                "<div></div>",
                "<p>When a vertical domino has dominoes falling on it from both sides, it stays still due to the balance of the forces.</p><div></div>",
                "<div></div>",
                "<p>For the purposes of this question, we will consider that a falling domino&nbsp;expends no additional force to a falling or already fallen domino.</p><div></div>",
                "<div></div>",
                "<p>Given a string &quot;S&quot; representing the initial state.&nbsp;<code>S[i] = &#39;L&#39;</code>, if the i-th domino has been pushed to the left; <code>S[i] = &#39;R&#39;</code>, if the i-th domino has been pushed to the right; <code>S[i] = &#39;.&#39;</code>,&nbsp;if the <code>i</code>-th domino has not been pushed.</p><div></div>",
                "<div></div>",
                "<p>Return a string representing the final state.&nbsp;</p><div></div>",
                "<div></div>",
                "<p><strong>Example 1:</strong></p><div></div>",
                "<div></div>",
                "<pre><div></div>",
                "<strong>Input: </strong>&quot;.L.R...LR..L..&quot;<div></div>",
                "<strong>Output: </strong>&quot;LL.RR.LLRRLL..&quot;<div></div>",
                "</pre><div></div>",
                "<div></div>",
                "<p><strong>Example 2:</strong></p><div></div>",
                "<div></div>",
                "<pre><div></div>",
                "<strong>Input: </strong>&quot;RR.L&quot;<div></div>",
                "<strong>Output: </strong>&quot;RR.L&quot;<div></div>",
                "<strong>Explanation: </strong>The first domino expends no additional force on the second domino.<div></div>",
                "</pre><div></div>",
                "<div></div>",
                "<p><strong>Note:</strong></p><div></div>",
                "<div></div>",
                "<ol><div></div>",
                "\t<li><code>0 &lt;= N&nbsp;&lt;= 10^5</code></li><div></div>",
                "\t<li>String&nbsp;<code>dominoes</code> contains only&nbsp;<code>&#39;L</code>&#39;, <code>&#39;R&#39;</code> and <code>&#39;.&#39;</code></li><div></div>",
                "</ol><div></div>",
                "<div></div>"
            ],
            "metadata": {}
        },
        {
            "cell_type": "code",
            "metadata": {},
            "execution_count": null,
            "source": "%%writefile push_dominoes.py\nclass Solution:\n    def pushDominoes(self, dominoes):\n        \"\"\"\n        :type dominoes: str\n        :rtype: str\n        \"\"\"",
            "outputs": []
        },
        {
            "cell_type": "code",
            "metadata": {},
            "execution_count": null,
            "source": "# submit\n%run ../../cli.py push --method=submit --path=push_dominoes.py --clean=True",
            "outputs": []
        }
    ]
}