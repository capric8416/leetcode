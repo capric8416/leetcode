{
    "nbformat": 4,
    "nbformat_minor": 2,
    "metadata": {
        "kernelspec": {
            "display_name": "Python 3",
            "language": "python",
            "name": "python3"
        },
        "language_info": {
            "codemirror_mode": {
                "name": "ipython",
                "version": 3
            },
            "file_extension": ".py",
            "mimetype": "text/x-python",
            "name": "python",
            "nbconvert_exporter": "python",
            "pygments_lexer": "ipython3",
            "version": "3.7.2"
        }
    },
    "cells": [
        {
            "cell_type": "markdown",
            "source": [
                "<h1>Course Schedule III</h1>",
                "<p><div></div>",
                "There are <code>n</code> different online courses numbered from <code>1</code> to <code>n</code>. Each course has some duration(course length)  <code>t</code> and closed on <code>d<sub>th</sub></code> day. A course should be taken <b>continuously</b> for <code>t</code> days and must be finished before or on the <code>d<sub>th</sub></code> day. You will start at the <code>1<sub>st</sub></code> day.<div></div>",
                "</p><div></div>",
                "<div></div>",
                "<p><div></div>",
                "Given <code>n</code> online courses represented by pairs <code>(t,d)</code>, your task is to find the maximal number of courses that can be taken.<div></div>",
                "</p><div></div>",
                "<div></div>",
                "<div></div>",
                "<p><b>Example:</b><br /><div></div>",
                "<pre><div></div>",
                "<b>Input:</b> [[100, 200], [200, 1300], [1000, 1250], [2000, 3200]]<div></div>",
                "<b>Output:</b> 3<div></div>",
                "<b>Explanation:</b> <div></div>",
                "There're totally 4 courses, but you can take 3 courses at most:<div></div>",
                "First, take the 1st course, it costs 100 days so you will finish it on the 100th day, and ready to take the next course on the 101st day.<div></div>",
                "Second, take the 3rd course, it costs 1000 days so you will finish it on the 1100th day, and ready to take the next course on the 1101st day. <div></div>",
                "Third, take the 2nd course, it costs 200 days so you will finish it on the 1300th day. <div></div>",
                "The 4th course cannot be taken now, since you will finish it on the 3300th day, which exceeds the closed date.<div></div>",
                "</pre><div></div>",
                "</p><div></div>",
                "<div></div>",
                "<div></div>",
                "<p><b>Note:</b><br><div></div>",
                "<ol><div></div>",
                "<li>The integer 1 <= d, t, n <= 10,000. </li><div></div>",
                "<li>You can't take two courses simultaneously.</li><div></div>",
                "</ol><div></div>",
                "</p><div></div>"
            ],
            "metadata": {}
        },
        {
            "cell_type": "code",
            "metadata": {},
            "execution_count": null,
            "source": "%%writefile course_schedule_iii.py\nclass Solution:\n    def scheduleCourse(self, courses):\n        \"\"\"\n        :type courses: List[List[int]]\n        :rtype: int\n        \"\"\"",
            "outputs": []
        },
        {
            "cell_type": "code",
            "metadata": {},
            "execution_count": null,
            "source": "# submit\n%run ../../cli.py push --method=submit --path=course_schedule_iii.py --clean=True",
            "outputs": []
        }
    ]
}