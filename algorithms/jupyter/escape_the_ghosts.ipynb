{
    "nbformat": 4,
    "nbformat_minor": 2,
    "metadata": {
        "kernelspec": {
            "display_name": "Python 3",
            "language": "python",
            "name": "python3"
        },
        "language_info": {
            "codemirror_mode": {
                "name": "ipython",
                "version": 3
            },
            "file_extension": ".py",
            "mimetype": "text/x-python",
            "name": "python",
            "nbconvert_exporter": "python",
            "pygments_lexer": "ipython3",
            "version": "3.7.2"
        }
    },
    "cells": [
        {
            "cell_type": "markdown",
            "source": [
                "<h1>Escape The Ghosts</h1>",
                "<p>You are playing a simplified Pacman game. You&nbsp;start at the point <code>(0, 0)</code>, and your destination is<code> (target[0], target[1])</code>. There are several ghosts on the map, the i-th ghost starts at<code> (ghosts[i][0], ghosts[i][1])</code>.</p><div></div>",
                "<div></div>",
                "<p>Each turn, you and all ghosts simultaneously *may* move in one of 4 cardinal directions: north, east, west, or south, going from the previous point to a new point 1 unit of distance away.</p><div></div>",
                "<div></div>",
                "<p>You escape if and only if you can reach the target before any ghost reaches you (for any given moves the ghosts may take.)&nbsp; If you reach any square (including the target) at the same time as a ghost, it doesn&#39;t count as an escape.</p><div></div>",
                "<div></div>",
                "<p>Return True if and only if it is possible to escape.</p><div></div>",
                "<div></div>",
                "<pre><div></div>",
                "<strong>Example 1:</strong><div></div>",
                "<strong>Input:</strong> <div></div>",
                "ghosts = [[1, 0], [0, 3]]<div></div>",
                "target = [0, 1]<div></div>",
                "<strong>Output:</strong> true<div></div>",
                "<strong>Explanation:</strong> <div></div>",
                "You can directly reach the destination (0, 1) at time 1, while the ghosts located at (1, 0) or (0, 3) have no way to catch up with you.<div></div>",
                "</pre><div></div>",
                "<div></div>",
                "<pre><div></div>",
                "<strong>Example 2:</strong><div></div>",
                "<strong>Input:</strong> <div></div>",
                "ghosts = [[1, 0]]<div></div>",
                "target = [2, 0]<div></div>",
                "<strong>Output:</strong> false<div></div>",
                "<strong>Explanation:</strong> <div></div>",
                "You need to reach the destination (2, 0), but the ghost at (1, 0) lies between you and the destination.<div></div>",
                "</pre><div></div>",
                "<div></div>",
                "<pre><div></div>",
                "<strong>Example 3:</strong><div></div>",
                "<strong>Input:</strong> <div></div>",
                "ghosts = [[2, 0]]<div></div>",
                "target = [1, 0]<div></div>",
                "<strong>Output:</strong> false<div></div>",
                "<strong>Explanation:</strong> <div></div>",
                "The ghost can reach the target at the same time as you.<div></div>",
                "</pre><div></div>",
                "<div></div>",
                "<p><strong>Note:</strong></p><div></div>",
                "<div></div>",
                "<ul><div></div>",
                "\t<li>All points have coordinates with absolute value &lt;= <code>10000</code>.</li><div></div>",
                "\t<li>The number of ghosts will not exceed <code>100</code>.</li><div></div>",
                "</ul><div></div>",
                "<div></div>"
            ],
            "metadata": {}
        },
        {
            "cell_type": "code",
            "metadata": {},
            "execution_count": null,
            "source": "%%writefile escape_the_ghosts.py\nclass Solution:\n    def escapeGhosts(self, ghosts, target):\n        \"\"\"\n        :type ghosts: List[List[int]]\n        :type target: List[int]\n        :rtype: bool\n        \"\"\"",
            "outputs": []
        },
        {
            "cell_type": "code",
            "metadata": {},
            "execution_count": null,
            "source": "# submit\n%run ../../cli.py push --method=submit --path=escape_the_ghosts.py --clean=True",
            "outputs": []
        }
    ]
}