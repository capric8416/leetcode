{
    "nbformat": 4,
    "nbformat_minor": 2,
    "metadata": {
        "kernelspec": {
            "display_name": "Python 3",
            "language": "python",
            "name": "python3"
        },
        "language_info": {
            "codemirror_mode": {
                "name": "ipython",
                "version": 3
            },
            "file_extension": ".py",
            "mimetype": "text/x-python",
            "name": "python",
            "nbconvert_exporter": "python",
            "pygments_lexer": "ipython3",
            "version": "3.7.2"
        }
    },
    "cells": [
        {
            "cell_type": "markdown",
            "source": [
                "<h1>Range Sum Query 2D - Immutable</h1>",
                "<p>Given a 2D matrix <i>matrix</i>, find the sum of the elements inside the rectangle defined by its upper left corner (<i>row</i>1, <i>col</i>1) and lower right corner (<i>row</i>2, <i>col</i>2).</p><div></div>",
                "<div></div>",
                "<p><div></div>",
                "<img src=\"/static/images/courses/range_sum_query_2d.png\" border=\"0\" alt=\"Range Sum Query 2D\" /><br /><div></div>",
                "<small>The above rectangle (with the red border) is defined by (row1, col1) = <b>(2, 1)</b> and (row2, col2) = <b>(4, 3)</b>, which contains sum = <b>8</b>.</small><div></div>",
                "</p><div></div>",
                "<div></div>",
                "<p><b>Example:</b><br><div></div>",
                "<pre><div></div>",
                "Given matrix = [<div></div>",
                "  [3, 0, 1, 4, 2],<div></div>",
                "  [5, 6, 3, 2, 1],<div></div>",
                "  [1, 2, 0, 1, 5],<div></div>",
                "  [4, 1, 0, 1, 7],<div></div>",
                "  [1, 0, 3, 0, 5]<div></div>",
                "]<div></div>",
                "<div></div>",
                "sumRegion(2, 1, 4, 3) -> 8<div></div>",
                "sumRegion(1, 1, 2, 2) -> 11<div></div>",
                "sumRegion(1, 2, 2, 4) -> 12<div></div>",
                "</pre><div></div>",
                "</p><div></div>",
                "<div></div>",
                "<p><b>Note:</b><br><div></div>",
                "<ol><div></div>",
                "<li>You may assume that the matrix does not change.</li><div></div>",
                "<li>There are many calls to <i>sumRegion</i> function.</li><div></div>",
                "<li>You may assume that <i>row</i>1 &le; <i>row</i>2 and <i>col</i>1 &le; <i>col</i>2.</li><div></div>",
                "</ol><div></div>",
                "</p><div></div>"
            ],
            "metadata": {}
        },
        {
            "cell_type": "code",
            "metadata": {},
            "execution_count": null,
            "source": "%%writefile range_sum_query_2d_immutable.py\nclass NumMatrix:\n\n    def __init__(self, matrix):\n        \"\"\"\n        :type matrix: List[List[int]]\n        \"\"\"\n        \n\n    def sumRegion(self, row1, col1, row2, col2):\n        \"\"\"\n        :type row1: int\n        :type col1: int\n        :type row2: int\n        :type col2: int\n        :rtype: int\n        \"\"\"\n        \n\n\n# Your NumMatrix object will be instantiated and called as such:\n# obj = NumMatrix(matrix)\n# param_1 = obj.sumRegion(row1,col1,row2,col2)",
            "outputs": []
        },
        {
            "cell_type": "code",
            "metadata": {},
            "execution_count": null,
            "source": "# submit\n%run ../../cli.py push --method=submit --path=range_sum_query_2d_immutable.py --clean=True",
            "outputs": []
        }
    ]
}