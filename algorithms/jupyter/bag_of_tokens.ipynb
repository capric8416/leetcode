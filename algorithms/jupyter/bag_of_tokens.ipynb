{
    "nbformat": 4,
    "nbformat_minor": 2,
    "metadata": {
        "kernelspec": {
            "display_name": "Python 3",
            "language": "python",
            "name": "python3"
        },
        "language_info": {
            "codemirror_mode": {
                "name": "ipython",
                "version": 3
            },
            "file_extension": ".py",
            "mimetype": "text/x-python",
            "name": "python",
            "nbconvert_exporter": "python",
            "pygments_lexer": "ipython3",
            "version": "3.7.2"
        }
    },
    "cells": [
        {
            "cell_type": "markdown",
            "source": [
                "<h1>Bag of Tokens</h1>",
                "<p>You have an initial power <code>P</code>, an initial score of <code>0</code> points, and a bag of tokens.</p><div></div>",
                "<div></div>",
                "<p>Each token can be used at most once, has a value <code>token[i]</code>, and has potentially two ways to use it.</p><div></div>",
                "<div></div>",
                "<ul><div></div>",
                "\t<li>If we have at least <code>token[i]</code> power, we may play the token face up, losing <code>token[i]</code> power, and gaining <code>1</code> point.</li><div></div>",
                "\t<li>If we have at least <code>1</code> point, we may play the token face down, gaining <code>token[i]</code> power, and losing <code>1</code> point.</li><div></div>",
                "</ul><div></div>",
                "<div></div>",
                "<p>Return the largest number of points we can have after playing any number of tokens.</p><div></div>",
                "<div></div>",
                "<p>&nbsp;</p><div></div>",
                "<div></div>",
                "<ol><div></div>",
                "</ol><div></div>",
                "<div></div>",
                "<div><div></div>",
                "<p><strong>Example 1:</strong></p><div></div>",
                "<div></div>",
                "<pre><div></div>",
                "<strong>Input: </strong>tokens = <span id=\"example-input-1-1\">[100]</span>, P = <span id=\"example-input-1-2\">50</span><div></div>",
                "<strong>Output: </strong><span id=\"example-output-1\">0</span><div></div>",
                "</pre><div></div>",
                "<div></div>",
                "<div><div></div>",
                "<p><strong>Example 2:</strong></p><div></div>",
                "<div></div>",
                "<pre><div></div>",
                "<strong>Input: </strong>tokens = <span id=\"example-input-2-1\">[100,200]</span>, P = <span id=\"example-input-2-2\">150</span><div></div>",
                "<strong>Output: </strong><span id=\"example-output-2\">1</span><div></div>",
                "</pre><div></div>",
                "<div></div>",
                "<div><div></div>",
                "<p><strong>Example 3:</strong></p><div></div>",
                "<div></div>",
                "<pre><div></div>",
                "<strong>Input: </strong>tokens = <span id=\"example-input-3-1\">[100,200,300,400]</span>, P = <span id=\"example-input-3-2\">200</span><div></div>",
                "<strong>Output: </strong><span id=\"example-output-3\">2</span><div></div>",
                "</pre><div></div>",
                "<div></div>",
                "<p>&nbsp;</p><div></div>",
                "<div></div>",
                "<p><strong>Note:</strong></p><div></div>",
                "<div></div>",
                "<ol><div></div>",
                "\t<li><code>tokens.length &lt;= 1000</code></li><div></div>",
                "\t<li><code>0 &lt;= tokens[i] &lt; 10000</code></li><div></div>",
                "\t<li><code>0 &lt;= P &lt; 10000</code></li><div></div>",
                "</ol><div></div>",
                "</div><div></div>",
                "</div><div></div>",
                "</div><div></div>",
                "<div></div>"
            ],
            "metadata": {}
        },
        {
            "cell_type": "code",
            "metadata": {},
            "execution_count": null,
            "source": "%%writefile bag_of_tokens.py\nclass Solution:\n    def bagOfTokensScore(self, tokens, P):\n        \"\"\"\n        :type tokens: List[int]\n        :type P: int\n        :rtype: int\n        \"\"\"",
            "outputs": []
        },
        {
            "cell_type": "code",
            "metadata": {},
            "execution_count": null,
            "source": "# submit\n%run ../../cli.py push --method=submit --path=bag_of_tokens.py --clean=True",
            "outputs": []
        }
    ]
}