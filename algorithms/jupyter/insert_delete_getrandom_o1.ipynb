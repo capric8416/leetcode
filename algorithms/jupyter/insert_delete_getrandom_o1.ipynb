{
    "nbformat": 4,
    "nbformat_minor": 2,
    "metadata": {
        "kernelspec": {
            "display_name": "Python 3",
            "language": "python",
            "name": "python3"
        },
        "language_info": {
            "codemirror_mode": {
                "name": "ipython",
                "version": 3
            },
            "file_extension": ".py",
            "mimetype": "text/x-python",
            "name": "python",
            "nbconvert_exporter": "python",
            "pygments_lexer": "ipython3",
            "version": "3.7.2"
        }
    },
    "cells": [
        {
            "cell_type": "markdown",
            "source": [
                "<h1>Insert Delete GetRandom O(1)</h1>",
                "<p>Design a data structure that supports all following operations in <i>average</i> <b>O(1)</b> time.</p><div></div>",
                "<div></div>",
                "<p><div></div>",
                "<ol><div></div>",
                "<li><code>insert(val)</code>: Inserts an item val to the set if not already present.</li><div></div>",
                "<li><code>remove(val)</code>: Removes an item val from the set if present.</li><div></div>",
                "<li><code>getRandom</code>: Returns a random element from current set of elements. Each element must have the <b>same probability</b> of being returned.</li><div></div>",
                "</ol><div></div>",
                "</p><div></div>",
                "<div></div>",
                "<p><b>Example:</b><div></div>",
                "<pre><div></div>",
                "// Init an empty set.<div></div>",
                "RandomizedSet randomSet = new RandomizedSet();<div></div>",
                "<div></div>",
                "// Inserts 1 to the set. Returns true as 1 was inserted successfully.<div></div>",
                "randomSet.insert(1);<div></div>",
                "<div></div>",
                "// Returns false as 2 does not exist in the set.<div></div>",
                "randomSet.remove(2);<div></div>",
                "<div></div>",
                "// Inserts 2 to the set, returns true. Set now contains [1,2].<div></div>",
                "randomSet.insert(2);<div></div>",
                "<div></div>",
                "// getRandom should return either 1 or 2 randomly.<div></div>",
                "randomSet.getRandom();<div></div>",
                "<div></div>",
                "// Removes 1 from the set, returns true. Set now contains [2].<div></div>",
                "randomSet.remove(1);<div></div>",
                "<div></div>",
                "// 2 was already in the set, so return false.<div></div>",
                "randomSet.insert(2);<div></div>",
                "<div></div>",
                "// Since 2 is the only number in the set, getRandom always return 2.<div></div>",
                "randomSet.getRandom();<div></div>",
                "</pre><div></div>",
                "</p><div></div>"
            ],
            "metadata": {}
        },
        {
            "cell_type": "code",
            "metadata": {},
            "execution_count": null,
            "source": "%%writefile insert_delete_getrandom_o1.py\nclass RandomizedSet:\n\n    def __init__(self):\n        \"\"\"\n        Initialize your data structure here.\n        \"\"\"\n        \n\n    def insert(self, val):\n        \"\"\"\n        Inserts a value to the set. Returns true if the set did not already contain the specified element.\n        :type val: int\n        :rtype: bool\n        \"\"\"\n        \n\n    def remove(self, val):\n        \"\"\"\n        Removes a value from the set. Returns true if the set contained the specified element.\n        :type val: int\n        :rtype: bool\n        \"\"\"\n        \n\n    def getRandom(self):\n        \"\"\"\n        Get a random element from the set.\n        :rtype: int\n        \"\"\"\n        \n\n\n# Your RandomizedSet object will be instantiated and called as such:\n# obj = RandomizedSet()\n# param_1 = obj.insert(val)\n# param_2 = obj.remove(val)\n# param_3 = obj.getRandom()",
            "outputs": []
        },
        {
            "cell_type": "code",
            "metadata": {},
            "execution_count": null,
            "source": "# submit\n%run ../../cli.py push --method=submit --path=insert_delete_getrandom_o1.py --clean=True",
            "outputs": []
        }
    ]
}