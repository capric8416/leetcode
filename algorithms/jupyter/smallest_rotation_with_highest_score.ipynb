{
    "nbformat": 4,
    "nbformat_minor": 2,
    "metadata": {
        "kernelspec": {
            "display_name": "Python 3",
            "language": "python",
            "name": "python3"
        },
        "language_info": {
            "codemirror_mode": {
                "name": "ipython",
                "version": 3
            },
            "file_extension": ".py",
            "mimetype": "text/x-python",
            "name": "python",
            "nbconvert_exporter": "python",
            "pygments_lexer": "ipython3",
            "version": "3.7.2"
        }
    },
    "cells": [
        {
            "cell_type": "markdown",
            "source": [
                "<h1>Smallest Rotation with Highest Score</h1>",
                "<p>&nbsp;Given an array <code>A</code>, we may rotate it by a non-negative integer <code>K</code> so that the array becomes <code>A[K], A[K+1], A{K+2], ... A[A.length - 1], A[0], A[1], ..., A[K-1]</code>.&nbsp; Afterward, any entries that are less than or equal to their index are worth 1 point.&nbsp;</p><div></div>",
                "<div></div>",
                "<p>For example, if we have <code>[2, 4, 1, 3, 0]</code>, and we rotate by <code>K = 2</code>, it becomes <code>[1, 3, 0, 2, 4]</code>.&nbsp; This is worth 3 points because 1 &gt; 0 [no points], 3 &gt; 1 [no points], 0 &lt;= 2 [one point], 2 &lt;= 3 [one point], 4 &lt;= 4 [one point].</p><div></div>",
                "<div></div>",
                "<p>Over all possible rotations, return the rotation index K that corresponds to the highest score we could receive.&nbsp; If there are multiple answers, return the smallest such index K.</p><div></div>",
                "<div></div>",
                "<pre><div></div>",
                "<strong>Example 1:</strong><div></div>",
                "<strong>Input:</strong> [2, 3, 1, 4, 0]<div></div>",
                "<strong>Output:</strong> 3<div></div>",
                "<strong>Explanation: </strong> <div></div>",
                "Scores for each K are listed below: <div></div>",
                "K = 0,  A = [2,3,1,4,0],    score 2<div></div>",
                "K = 1,  A = [3,1,4,0,2],    score 3<div></div>",
                "K = 2,  A = [1,4,0,2,3],    score 3<div></div>",
                "K = 3,  A = [4,0,2,3,1],    score 4<div></div>",
                "K = 4,  A = [0,2,3,1,4],    score 3<div></div>",
                "</pre><div></div>",
                "<div></div>",
                "<p>So we should choose K = 3, which has the highest score.</p><div></div>",
                "<div></div>",
                "<p>&nbsp;</p><div></div>",
                "<div></div>",
                "<pre><div></div>",
                "<strong>Example 2:</strong><div></div>",
                "<strong>Input:</strong> [1, 3, 0, 2, 4]<div></div>",
                "<strong>Output:</strong> 0<div></div>",
                "<strong>Explanation: </strong> A will always have 3 points no matter how it shifts.<div></div>",
                "So we will choose the smallest K, which is 0.<div></div>",
                "</pre><div></div>",
                "<div></div>",
                "<p><strong>Note:</strong></p><div></div>",
                "<div></div>",
                "<ul><div></div>",
                "\t<li><code>A</code>&nbsp;will have&nbsp;length at most <code>20000</code>.</li><div></div>",
                "\t<li><code>A[i]</code> will be in the range <code>[0, A.length]</code>.</li><div></div>",
                "</ul><div></div>",
                "<div></div>"
            ],
            "metadata": {}
        },
        {
            "cell_type": "code",
            "metadata": {},
            "execution_count": null,
            "source": "%%writefile smallest_rotation_with_highest_score.py\nclass Solution:\n    def bestRotation(self, A):\n        \"\"\"\n        :type A: List[int]\n        :rtype: int\n        \"\"\"",
            "outputs": []
        },
        {
            "cell_type": "code",
            "metadata": {},
            "execution_count": null,
            "source": "# submit\n%run ../../cli.py push --method=submit --path=smallest_rotation_with_highest_score.py --clean=True",
            "outputs": []
        }
    ]
}