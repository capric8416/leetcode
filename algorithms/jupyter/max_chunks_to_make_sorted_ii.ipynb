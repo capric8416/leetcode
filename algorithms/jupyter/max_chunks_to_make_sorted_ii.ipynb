{
    "nbformat": 4,
    "nbformat_minor": 2,
    "metadata": {
        "kernelspec": {
            "display_name": "Python 3",
            "language": "python",
            "name": "python3"
        },
        "language_info": {
            "codemirror_mode": {
                "name": "ipython",
                "version": 3
            },
            "file_extension": ".py",
            "mimetype": "text/x-python",
            "name": "python",
            "nbconvert_exporter": "python",
            "pygments_lexer": "ipython3",
            "version": "3.7.2"
        }
    },
    "cells": [
        {
            "cell_type": "markdown",
            "source": [
                "<h1>Max Chunks To Make Sorted II</h1>",
                "<p><em>This question is the same as &quot;Max Chunks to Make Sorted&quot; except the integers of the given array are not necessarily distinct, the input array could be up to length <code>2000</code>, and the elements could be up to <code>10**8</code>.</em></p><div></div>",
                "<div></div>",
                "<hr /><div></div>",
                "<div></div>",
                "<p>Given an array <code>arr</code> of integers (<strong>not necessarily distinct</strong>), we split the array into some number of &quot;chunks&quot; (partitions), and individually sort each chunk.&nbsp; After concatenating them,&nbsp;the result equals the sorted array.</p><div></div>",
                "<div></div>",
                "<p>What is the most number of chunks we could have made?</p><div></div>",
                "<div></div>",
                "<p><strong>Example 1:</strong></p><div></div>",
                "<div></div>",
                "<pre><div></div>",
                "<strong>Input:</strong> arr = [5,4,3,2,1]<div></div>",
                "<strong>Output:</strong> 1<div></div>",
                "<strong>Explanation:</strong><div></div>",
                "Splitting into two or more chunks will not return the required result.<div></div>",
                "For example, splitting into [5, 4], [3, 2, 1] will result in [4, 5, 1, 2, 3], which isn&#39;t sorted.<div></div>",
                "</pre><div></div>",
                "<div></div>",
                "<p><strong>Example 2:</strong></p><div></div>",
                "<div></div>",
                "<pre><div></div>",
                "<strong>Input:</strong> arr = [2,1,3,4,4]<div></div>",
                "<strong>Output:</strong> 4<div></div>",
                "<strong>Explanation:</strong><div></div>",
                "We can split into two chunks, such as [2, 1], [3, 4, 4].<div></div>",
                "However, splitting into [2, 1], [3], [4], [4] is the highest number of chunks possible.<div></div>",
                "</pre><div></div>",
                "<div></div>",
                "<p><strong>Note:</strong></p><div></div>",
                "<div></div>",
                "<ul><div></div>",
                "\t<li><code>arr</code> will have length in range <code>[1, 2000]</code>.</li><div></div>",
                "\t<li><code>arr[i]</code> will be an integer in range <code>[0, 10**8]</code>.</li><div></div>",
                "</ul><div></div>",
                "<div></div>",
                "<p>&nbsp;</p><div></div>",
                "<div></div>"
            ],
            "metadata": {}
        },
        {
            "cell_type": "code",
            "metadata": {},
            "execution_count": null,
            "source": "%%writefile max_chunks_to_make_sorted_ii.py\nclass Solution:\n    def maxChunksToSorted(self, arr):\n        \"\"\"\n        :type arr: List[int]\n        :rtype: int\n        \"\"\"",
            "outputs": []
        },
        {
            "cell_type": "code",
            "metadata": {},
            "execution_count": null,
            "source": "# submit\n%run ../../cli.py push --method=submit --path=max_chunks_to_make_sorted_ii.py --clean=True",
            "outputs": []
        }
    ]
}