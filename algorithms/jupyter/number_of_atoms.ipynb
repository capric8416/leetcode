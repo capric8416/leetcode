{
    "nbformat": 4,
    "nbformat_minor": 2,
    "metadata": {
        "kernelspec": {
            "display_name": "Python 3",
            "language": "python",
            "name": "python3"
        },
        "language_info": {
            "codemirror_mode": {
                "name": "ipython",
                "version": 3
            },
            "file_extension": ".py",
            "mimetype": "text/x-python",
            "name": "python",
            "nbconvert_exporter": "python",
            "pygments_lexer": "ipython3",
            "version": "3.7.2"
        }
    },
    "cells": [
        {
            "cell_type": "markdown",
            "source": [
                "<h1>Number of Atoms</h1>",
                "<p>Given a chemical <code>formula</code> (given as a string), return the count of each atom.<div></div>",
                "</p><p><div></div>",
                "An atomic element always starts with an uppercase character, then zero or more lowercase letters, representing the name.<div></div>",
                "</p><p><div></div>",
                "1 or more digits representing the count of that element may follow if the count is greater than 1.  If the count is 1, no digits will follow.  For example, H2O and H2O2 are possible, but H1O2 is impossible.<div></div>",
                "</p><p><div></div>",
                "Two formulas concatenated together produce another formula.  For example, H2O2He3Mg4 is also a formula.  <div></div>",
                "</p><p><div></div>",
                "A formula placed in parentheses, and a count (optionally added) is also a formula.  For example, (H2O2) and (H2O2)3 are formulas.<div></div>",
                "</p><p><div></div>",
                "Given a formula, output the count of all elements as a string in the following form: the first name (in sorted order), followed by its count (if that count is more than 1), followed by the second name (in sorted order), followed by its count (if that count is more than 1), and so on.</p><div></div>",
                "<div></div>",
                "<p><b>Example 1:</b><br /><div></div>",
                "<pre><div></div>",
                "<b>Input:</b> <div></div>",
                "formula = \"H2O\"<div></div>",
                "<b>Output:</b> \"H2O\"<div></div>",
                "<b>Explanation:</b> <div></div>",
                "The count of elements are {'H': 2, 'O': 1}.<div></div>",
                "</pre><div></div>",
                "</p><div></div>",
                "<div></div>",
                "<p><b>Example 2:</b><br /><div></div>",
                "<pre><div></div>",
                "<b>Input:</b> <div></div>",
                "formula = \"Mg(OH)2\"<div></div>",
                "<b>Output:</b> \"H2MgO2\"<div></div>",
                "<b>Explanation:</b> <div></div>",
                "The count of elements are {'H': 2, 'Mg': 1, 'O': 2}.<div></div>",
                "</pre><div></div>",
                "</p><div></div>",
                "<div></div>",
                "<p><b>Example 3:</b><br /><div></div>",
                "<pre><div></div>",
                "<b>Input:</b> <div></div>",
                "formula = \"K4(ON(SO3)2)2\"<div></div>",
                "<b>Output:</b> \"K4N2O14S4\"<div></div>",
                "<b>Explanation:</b> <div></div>",
                "The count of elements are {'K': 4, 'N': 2, 'O': 14, 'S': 4}.<div></div>",
                "</pre><div></div>",
                "</p><div></div>",
                "<div></div>",
                "<p><b>Note:</b><div></div>",
                "<li>All atom names consist of lowercase letters, except for the first character which is uppercase.</li><div></div>",
                "<li>The length of <code>formula</code> will be in the range <code>[1, 1000]</code>.</li><div></div>",
                "<li><code>formula</code> will only consist of letters, digits, and round parentheses, and is a valid formula as defined in the problem.</li><div></div>",
                "</p><div></div>"
            ],
            "metadata": {}
        },
        {
            "cell_type": "code",
            "metadata": {},
            "execution_count": null,
            "source": "%%writefile number_of_atoms.py\nclass Solution:\n    def countOfAtoms(self, formula):\n        \"\"\"\n        :type formula: str\n        :rtype: str\n        \"\"\"",
            "outputs": []
        },
        {
            "cell_type": "code",
            "metadata": {},
            "execution_count": null,
            "source": "# submit\n%run ../../cli.py push --method=submit --path=number_of_atoms.py --clean=True",
            "outputs": []
        }
    ]
}