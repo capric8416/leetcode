{
    "nbformat": 4,
    "nbformat_minor": 2,
    "metadata": {
        "kernelspec": {
            "display_name": "Python 3",
            "language": "python",
            "name": "python3"
        },
        "language_info": {
            "codemirror_mode": {
                "name": "ipython",
                "version": 3
            },
            "file_extension": ".py",
            "mimetype": "text/x-python",
            "name": "python",
            "nbconvert_exporter": "python",
            "pygments_lexer": "ipython3",
            "version": "3.7.2"
        }
    },
    "cells": [
        {
            "cell_type": "markdown",
            "source": [
                "<h1>Longest Increasing Path in a Matrix</h1>",
                "<p>Given an integer matrix, find the length of the longest increasing path.</p><div></div>",
                "<div></div>",
                "<p>From each cell, you can either move to four directions: left, right, up or down. You may NOT move diagonally or move outside of the boundary (i.e. wrap-around is not allowed).</p><div></div>",
                "<div></div>",
                "<p><b>Example 1:</b></p><div></div>",
                "<div></div>",
                "<pre><div></div>",
                "<strong>Input: </strong>nums = <div></div>",
                "[<div></div>",
                "  [<font color=\"red\">9</font>,9,4],<div></div>",
                "  [<font color=\"red\">6</font>,6,8],<div></div>",
                "  [<font color=\"red\">2</font>,<font color=\"red\">1</font>,1]<div></div>",
                "] <div></div>",
                "<strong>Output:</strong> 4 <div></div>",
                "<strong>Explanation:</strong> The longest increasing path is <code>[1, 2, 6, 9]</code>.<div></div>",
                "</pre><div></div>",
                "<div></div>",
                "<p><b>Example 2:</b></p><div></div>",
                "<div></div>",
                "<pre><div></div>",
                "<strong>Input:</strong> nums = <div></div>",
                "[<div></div>",
                "  [<font color=\"red\">3</font>,<font color=\"red\">4</font>,<font color=\"red\">5</font>],<div></div>",
                "  [3,2,<font color=\"red\">6</font>],<div></div>",
                "  [2,2,1]<div></div>",
                "] <div></div>",
                "<strong>Output: </strong>4 <div></div>",
                "<strong>Explanation: </strong>The longest increasing path is <code>[3, 4, 5, 6]</code>. Moving diagonally is not allowed.<div></div>",
                "</pre><div></div>"
            ],
            "metadata": {}
        },
        {
            "cell_type": "code",
            "metadata": {},
            "execution_count": null,
            "source": "%%writefile longest_increasing_path_in_a_matrix.py\nclass Solution:\n    def longestIncreasingPath(self, matrix):\n        \"\"\"\n        :type matrix: List[List[int]]\n        :rtype: int\n        \"\"\"",
            "outputs": []
        },
        {
            "cell_type": "code",
            "metadata": {},
            "execution_count": null,
            "source": "# submit\n%run ../../cli.py push --method=submit --path=longest_increasing_path_in_a_matrix.py --clean=True",
            "outputs": []
        }
    ]
}