{
    "nbformat": 4,
    "nbformat_minor": 2,
    "metadata": {
        "kernelspec": {
            "display_name": "Python 3",
            "language": "python",
            "name": "python3"
        },
        "language_info": {
            "codemirror_mode": {
                "name": "ipython",
                "version": 3
            },
            "file_extension": ".py",
            "mimetype": "text/x-python",
            "name": "python",
            "nbconvert_exporter": "python",
            "pygments_lexer": "ipython3",
            "version": "3.7.2"
        }
    },
    "cells": [
        {
            "cell_type": "markdown",
            "source": [
                "<h1>Integer Replacement</h1>",
                "<p><div></div>",
                "Given a positive integer <i>n</i> and you can do operations as follow:<div></div>",
                "</p><div></div>",
                "<div></div>",
                "<p><div></div>",
                "<ol><div></div>",
                "<li>If <i>n</i> is even, replace <i>n</i> with <code><i>n</i>/2</code>.</li><div></div>",
                "<li>If <i>n</i> is odd, you can replace <i>n</i> with either <code><i>n</i> + 1</code> or <code><i>n</i> - 1</code>.</li><div></div>",
                "</ol><div></div>",
                "</p><div></div>",
                "<div></div>",
                "<p><div></div>",
                "What is the minimum number of replacements needed for <i>n</i> to become 1?<div></div>",
                "</p><div></div>",
                "<div></div>",
                "</p><div></div>",
                "<div></div>",
                "<p><b>Example 1:</b><div></div>",
                "<pre><div></div>",
                "<b>Input:</b><div></div>",
                "8<div></div>",
                "<div></div>",
                "<b>Output:</b><div></div>",
                "3<div></div>",
                "<div></div>",
                "<b>Explanation:</b><div></div>",
                "8 -> 4 -> 2 -> 1<div></div>",
                "</pre><div></div>",
                "</p><div></div>",
                "<div></div>",
                "<p><b>Example 2:</b><div></div>",
                "<pre><div></div>",
                "<b>Input:</b><div></div>",
                "7<div></div>",
                "<div></div>",
                "<b>Output:</b><div></div>",
                "4<div></div>",
                "<div></div>",
                "<b>Explanation:</b><div></div>",
                "7 -> 8 -> 4 -> 2 -> 1<div></div>",
                "or<div></div>",
                "7 -> 6 -> 3 -> 2 -> 1<div></div>",
                "</pre><div></div>",
                "</p><div></div>"
            ],
            "metadata": {}
        },
        {
            "cell_type": "code",
            "metadata": {},
            "execution_count": null,
            "source": "%%writefile integer_replacement.py\nclass Solution:\n    def integerReplacement(self, n):\n        \"\"\"\n        :type n: int\n        :rtype: int\n        \"\"\"",
            "outputs": []
        },
        {
            "cell_type": "code",
            "metadata": {},
            "execution_count": null,
            "source": "# submit\n%run ../../cli.py push --method=submit --path=integer_replacement.py --clean=True",
            "outputs": []
        }
    ]
}