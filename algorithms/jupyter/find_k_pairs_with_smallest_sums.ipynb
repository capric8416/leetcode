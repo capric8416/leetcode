{
    "nbformat": 4,
    "nbformat_minor": 2,
    "metadata": {
        "kernelspec": {
            "display_name": "Python 3",
            "language": "python",
            "name": "python3"
        },
        "language_info": {
            "codemirror_mode": {
                "name": "ipython",
                "version": 3
            },
            "file_extension": ".py",
            "mimetype": "text/x-python",
            "name": "python",
            "nbconvert_exporter": "python",
            "pygments_lexer": "ipython3",
            "version": "3.7.2"
        }
    },
    "cells": [
        {
            "cell_type": "markdown",
            "source": [
                "<h1>Find K Pairs with Smallest Sums</h1>",
                "<p>You are given two integer arrays <b>nums1</b> and <b>nums2</b> sorted in ascending order and an integer <b>k</b>.</p><div></div>",
                "<div></div>",
                "<p>Define a pair <b>(u,v)</b> which consists of one element from the first array and one element from the second array.</p><div></div>",
                "<div></div>",
                "<p>Find the k pairs <b>(u<sub>1</sub>,v<sub>1</sub>),(u<sub>2</sub>,v<sub>2</sub>) ...(u<sub>k</sub>,v<sub>k</sub>)</b> with the smallest sums.</p><div></div>",
                "<div></div>",
                "<p><strong>Example 1:</strong></p><div></div>",
                "<div></div>",
                "<pre><div></div>",
                "<strong>Input: </strong>nums1 = <span id=\"example-input-1-1\">[1,7,11]</span>, nums2 = <span id=\"example-input-1-2\">[2,4,6]</span>, k = <span id=\"example-input-1-3\">3</span><div></div>",
                "<strong>Output: </strong><span id=\"example-output-1\">[[1,2],[1,4],[1,6]] <div></div>",
                "<strong>Explanation: </strong></span>The first 3 pairs are returned from the sequence: <div></div>",
                "&nbsp;            [1,2],[1,4],[1,6],[7,2],[7,4],[11,2],[7,6],[11,4],[11,6]</pre><div></div>",
                "<div></div>",
                "<p><strong>Example 2:</strong></p><div></div>",
                "<div></div>",
                "<pre><div></div>",
                "<strong>Input: </strong>nums1 = [1,1,2], nums2 = [1,2,3], k = 2<div></div>",
                "<strong>Output: </strong>[1,1],[1,1]<span><div></div>",
                "<strong>Explanation: </strong></span>The first 2 pairs are returned from the sequence: <div></div>",
                "&nbsp;            [1,1],[1,1],[1,2],[2,1],[1,2],[2,2],[1,3],[1,3],[2,3]</pre><div></div>",
                "<div></div>",
                "<p><strong>Example 3:</strong></p><div></div>",
                "<div></div>",
                "<pre><div></div>",
                "<strong>Input: </strong>nums1 = [1,2], nums2 = [3], k = 3<div></div>",
                "<strong>Output: </strong>[1,3],[2,3]<span><div></div>",
                "<strong>Explanation: </strong></span>All possible pairs are returned from the sequence: [1,3],[2,3]<div></div>",
                "</pre><div></div>"
            ],
            "metadata": {}
        },
        {
            "cell_type": "code",
            "metadata": {},
            "execution_count": null,
            "source": "%%writefile find_k_pairs_with_smallest_sums.py\nclass Solution:\n    def kSmallestPairs(self, nums1, nums2, k):\n        \"\"\"\n        :type nums1: List[int]\n        :type nums2: List[int]\n        :type k: int\n        :rtype: List[List[int]]\n        \"\"\"",
            "outputs": []
        },
        {
            "cell_type": "code",
            "metadata": {},
            "execution_count": null,
            "source": "# submit\n%run ../../cli.py push --method=submit --path=find_k_pairs_with_smallest_sums.py --clean=True",
            "outputs": []
        }
    ]
}