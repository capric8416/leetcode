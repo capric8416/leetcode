{
    "nbformat": 4,
    "nbformat_minor": 2,
    "metadata": {
        "kernelspec": {
            "display_name": "Python 3",
            "language": "python",
            "name": "python3"
        },
        "language_info": {
            "codemirror_mode": {
                "name": "ipython",
                "version": 3
            },
            "file_extension": ".py",
            "mimetype": "text/x-python",
            "name": "python",
            "nbconvert_exporter": "python",
            "pygments_lexer": "ipython3",
            "version": "3.7.2"
        }
    },
    "cells": [
        {
            "cell_type": "markdown",
            "source": [
                "<h1>Domino and Tromino Tiling</h1>",
                "<p>We have two types of tiles: a 2x1 domino shape, and an &quot;L&quot; tromino shape. These shapes may be rotated.</p><div></div>",
                "<div></div>",
                "<pre><div></div>",
                "XX  &lt;- domino<div></div>",
                "<div></div>",
                "XX  &lt;- &quot;L&quot; tromino<div></div>",
                "X<div></div>",
                "</pre><div></div>",
                "<div></div>",
                "<p>Given N, how many ways are there to tile a 2 x N board? <strong>Return your answer modulo 10^9 + 7</strong>.</p><div></div>",
                "<div></div>",
                "<p>(In a tiling, every square must be covered by a tile. Two tilings are different if and only if there are two 4-directionally adjacent cells on the board such that exactly one of the tilings has both squares occupied by a tile.)</p><div></div>",
                "<div></div>",
                "<div></div>",
                "<pre><div></div>",
                "<strong>Example:</strong><div></div>",
                "<strong>Input:</strong> 3<div></div>",
                "<strong>Output:</strong> 5<div></div>",
                "<strong>Explanation:</strong> <div></div>",
                "The five different ways are listed below, different letters indicates different tiles:<div></div>",
                "XYZ XXZ XYY XXY XYY<div></div>",
                "XYZ YYZ XZZ XYY XXY</pre><div></div>",
                "<div></div>",
                "<p><strong>Note:</strong></p><div></div>",
                "<div></div>",
                "<ul><div></div>",
                "\t<li>N&nbsp; will be in range <code>[1, 1000]</code>.</li><div></div>",
                "</ul><div></div>",
                "<div></div>",
                "<p>&nbsp;</p><div></div>",
                "<div></div>"
            ],
            "metadata": {}
        },
        {
            "cell_type": "code",
            "metadata": {},
            "execution_count": null,
            "source": "%%writefile domino_and_tromino_tiling.py\nclass Solution:\n    def numTilings(self, N):\n        \"\"\"\n        :type N: int\n        :rtype: int\n        \"\"\"",
            "outputs": []
        },
        {
            "cell_type": "code",
            "metadata": {},
            "execution_count": null,
            "source": "# submit\n%run ../../cli.py push --method=submit --path=domino_and_tromino_tiling.py --clean=True",
            "outputs": []
        }
    ]
}