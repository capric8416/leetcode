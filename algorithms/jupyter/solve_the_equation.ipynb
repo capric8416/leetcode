{
    "nbformat": 4,
    "nbformat_minor": 2,
    "metadata": {
        "kernelspec": {
            "display_name": "Python 3",
            "language": "python",
            "name": "python3"
        },
        "language_info": {
            "codemirror_mode": {
                "name": "ipython",
                "version": 3
            },
            "file_extension": ".py",
            "mimetype": "text/x-python",
            "name": "python",
            "nbconvert_exporter": "python",
            "pygments_lexer": "ipython3",
            "version": "3.7.2"
        }
    },
    "cells": [
        {
            "cell_type": "markdown",
            "source": [
                "<h1>Solve the Equation</h1>",
                "<p><div></div>",
                "Solve a given equation and return the value of <code>x</code> in the form of string \"x=#value\". The equation contains only '+', '-' operation, the variable <code>x</code> and its coefficient.<div></div>",
                "</p><div></div>",
                "<div></div>",
                "<p><div></div>",
                "If there is no solution for the equation, return \"No solution\".<div></div>",
                "</p><div></div>",
                "<p><div></div>",
                "If there are infinite solutions for the equation, return \"Infinite solutions\".<div></div>",
                "</p><div></div>",
                "<p><div></div>",
                "If there is exactly one solution for the equation, we ensure that the value of <code>x</code> is an integer.<div></div>",
                "</p><div></div>",
                "<div></div>",
                "<p><b>Example 1:</b><br/><div></div>",
                "<pre><div></div>",
                "<b>Input:</b> \"x+5-3+x=6+x-2\"<div></div>",
                "<b>Output:</b> \"x=2\"<div></div>",
                "</pre><div></div>",
                "</p><div></div>",
                "<div></div>",
                "<p><b>Example 2:</b><br/><div></div>",
                "<pre><div></div>",
                "<b>Input:</b> \"x=x\"<div></div>",
                "<b>Output:</b> \"Infinite solutions\"<div></div>",
                "</pre><div></div>",
                "</p><div></div>",
                "<div></div>",
                "<p><b>Example 3:</b><br/><div></div>",
                "<pre><div></div>",
                "<b>Input:</b> \"2x=x\"<div></div>",
                "<b>Output:</b> \"x=0\"<div></div>",
                "</pre><div></div>",
                "</p><div></div>",
                "<div></div>",
                "<p><b>Example 4:</b><br/><div></div>",
                "<pre><div></div>",
                "<b>Input:</b> \"2x+3x-6x=x+2\"<div></div>",
                "<b>Output:</b> \"x=-1\"<div></div>",
                "</pre><div></div>",
                "</p><div></div>",
                "<div></div>",
                "<p><b>Example 5:</b><br/><div></div>",
                "<pre><div></div>",
                "<b>Input:</b> \"x=x+2\"<div></div>",
                "<b>Output:</b> \"No solution\"<div></div>",
                "</pre><div></div>",
                "</p><div></div>"
            ],
            "metadata": {}
        },
        {
            "cell_type": "code",
            "metadata": {},
            "execution_count": null,
            "source": "%%writefile solve_the_equation.py\nclass Solution:\n    def solveEquation(self, equation):\n        \"\"\"\n        :type equation: str\n        :rtype: str\n        \"\"\"",
            "outputs": []
        },
        {
            "cell_type": "code",
            "metadata": {},
            "execution_count": null,
            "source": "# submit\n%run ../../cli.py push --method=submit --path=solve_the_equation.py --clean=True",
            "outputs": []
        }
    ]
}