{
    "nbformat": 4,
    "nbformat_minor": 2,
    "metadata": {
        "kernelspec": {
            "display_name": "Python 3",
            "language": "python",
            "name": "python3"
        },
        "language_info": {
            "codemirror_mode": {
                "name": "ipython",
                "version": 3
            },
            "file_extension": ".py",
            "mimetype": "text/x-python",
            "name": "python",
            "nbconvert_exporter": "python",
            "pygments_lexer": "ipython3",
            "version": "3.7.2"
        }
    },
    "cells": [
        {
            "cell_type": "markdown",
            "source": [
                "<h1>Generate Random Point in a Circle</h1>",
                "<p>Given the radius and x-y positions of the center of a circle, write a function <code>randPoint</code>&nbsp;which&nbsp;generates a uniform random&nbsp;point in the circle.</p><div></div>",
                "<div></div>",
                "<p>Note:</p><div></div>",
                "<div></div>",
                "<ol><div></div>",
                "\t<li>input and output values are&nbsp;in&nbsp;<a href=\"https://www.webopedia.com/TERM/F/floating_point_number.html\" target=\"_blank\">floating-point</a>.</li><div></div>",
                "\t<li>radius and x-y position of the center of the circle is passed into the class constructor.</li><div></div>",
                "\t<li>a point on the circumference of the circle is considered to be&nbsp;in the circle.</li><div></div>",
                "\t<li><code>randPoint</code>&nbsp;returns&nbsp;a size 2 array containing x-position and y-position of the random point, in that order.</li><div></div>",
                "</ol><div></div>",
                "<div></div>",
                "<div><div></div>",
                "<p><strong>Example 1:</strong></p><div></div>",
                "<div></div>",
                "<pre><div></div>",
                "<strong>Input: <div></div>",
                "</strong><span id=\"example-input-1-1\">[&quot;Solution&quot;,&quot;randPoint&quot;,&quot;randPoint&quot;,&quot;randPoint&quot;]<div></div>",
                "</span><span id=\"example-input-1-2\">[[1,0,0],[],[],[]]</span><div></div>",
                "<strong>Output: </strong><span id=\"example-output-1\">[null,[-0.72939,-0.65505],[-0.78502,-0.28626],[-0.83119,-0.19803]]</span><div></div>",
                "</pre><div></div>",
                "<div></div>",
                "<div><div></div>",
                "<p><strong>Example 2:</strong></p><div></div>",
                "<div></div>",
                "<pre><div></div>",
                "<strong>Input: <div></div>",
                "</strong><span id=\"example-input-2-1\">[&quot;Solution&quot;,&quot;randPoint&quot;,&quot;randPoint&quot;,&quot;randPoint&quot;]<div></div>",
                "</span><span id=\"example-input-2-2\">[[10,5,-7.5],[],[],[]]</span><div></div>",
                "<strong>Output: </strong><span id=\"example-output-2\">[null,[11.52438,-8.33273],[2.46992,-16.21705],[11.13430,-12.42337]]</span></pre><div></div>",
                "</div><div></div>",
                "<div></div>",
                "<p><strong>Explanation of Input Syntax:</strong></p><div></div>",
                "<div></div>",
                "<p>The input is two lists:&nbsp;the subroutines called&nbsp;and their&nbsp;arguments.&nbsp;<code>Solution</code>&#39;s&nbsp;constructor has three arguments, the radius, x-position of the center, and y-position of the center of the circle. <code>randPoint</code> has no arguments.&nbsp;Arguments&nbsp;are&nbsp;always wrapped with a list, even if there aren&#39;t any.</p><div></div>",
                "</div><div></div>",
                "<div></div>"
            ],
            "metadata": {}
        },
        {
            "cell_type": "code",
            "metadata": {},
            "execution_count": null,
            "source": "%%writefile generate_random_point_in_a_circle.py\nclass Solution:\n\n    def __init__(self, radius, x_center, y_center):\n        \"\"\"\n        :type radius: float\n        :type x_center: float\n        :type y_center: float\n        \"\"\"\n        \n\n    def randPoint(self):\n        \"\"\"\n        :rtype: List[float]\n        \"\"\"\n        \n\n\n# Your Solution object will be instantiated and called as such:\n# obj = Solution(radius, x_center, y_center)\n# param_1 = obj.randPoint()",
            "outputs": []
        },
        {
            "cell_type": "code",
            "metadata": {},
            "execution_count": null,
            "source": "# submit\n%run ../../cli.py push --method=submit --path=generate_random_point_in_a_circle.py --clean=True",
            "outputs": []
        }
    ]
}