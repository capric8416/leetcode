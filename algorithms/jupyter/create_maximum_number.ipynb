{
    "nbformat": 4,
    "nbformat_minor": 2,
    "metadata": {
        "kernelspec": {
            "display_name": "Python 3",
            "language": "python",
            "name": "python3"
        },
        "language_info": {
            "codemirror_mode": {
                "name": "ipython",
                "version": 3
            },
            "file_extension": ".py",
            "mimetype": "text/x-python",
            "name": "python",
            "nbconvert_exporter": "python",
            "pygments_lexer": "ipython3",
            "version": "3.7.2"
        }
    },
    "cells": [
        {
            "cell_type": "markdown",
            "source": [
                "<h1>Create Maximum Number</h1>",
                "<p>Given two arrays of length <code>m</code> and <code>n</code> with digits <code>0-9</code> representing two numbers. Create the maximum number of length <code>k &lt;= m + n</code> from digits of the two. The relative order of the digits from the same array must be preserved. Return an array of the <code>k</code> digits.</p><div></div>",
                "<div></div>",
                "<p><strong>Note: </strong>You should try to optimize your time and space complexity.</p><div></div>",
                "<div></div>",
                "<p><b>Example 1:</b></p><div></div>",
                "<div></div>",
                "<pre><div></div>",
                "<strong>Input:</strong><div></div>",
                "nums1 = <code>[3, 4, 6, 5]</code><div></div>",
                "nums2 = <code>[9, 1, 2, 5, 8, 3]</code><div></div>",
                "k = <code>5</code><div></div>",
                "<strong>Output:</strong><div></div>",
                "<code>[9, 8, 6, 5, 3]</code></pre><div></div>",
                "<div></div>",
                "<p><b>Example 2:</b></p><div></div>",
                "<div></div>",
                "<pre><div></div>",
                "<strong>Input:</strong><div></div>",
                "nums1 = <code>[6, 7]</code><div></div>",
                "nums2 = <code>[6, 0, 4]</code><div></div>",
                "k = <code>5</code><div></div>",
                "<strong>Output:</strong><div></div>",
                "<code>[6, 7, 6, 0, 4]</code></pre><div></div>",
                "<div></div>",
                "<p><b>Example 3:</b></p><div></div>",
                "<div></div>",
                "<pre><div></div>",
                "<strong>Input:</strong><div></div>",
                "nums1 = <code>[3, 9]</code><div></div>",
                "nums2 = <code>[8, 9]</code><div></div>",
                "k = <code>3</code><div></div>",
                "<strong>Output:</strong><div></div>",
                "<code>[9, 8, 9]</code><div></div>",
                "</pre><div></div>"
            ],
            "metadata": {}
        },
        {
            "cell_type": "code",
            "metadata": {},
            "execution_count": null,
            "source": "%%writefile create_maximum_number.py\nclass Solution:\n    def maxNumber(self, nums1, nums2, k):\n        \"\"\"\n        :type nums1: List[int]\n        :type nums2: List[int]\n        :type k: int\n        :rtype: List[int]\n        \"\"\"",
            "outputs": []
        },
        {
            "cell_type": "code",
            "metadata": {},
            "execution_count": null,
            "source": "# submit\n%run ../../cli.py push --method=submit --path=create_maximum_number.py --clean=True",
            "outputs": []
        }
    ]
}