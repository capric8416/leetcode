{
    "nbformat": 4,
    "nbformat_minor": 2,
    "metadata": {
        "kernelspec": {
            "display_name": "Python 3",
            "language": "python",
            "name": "python3"
        },
        "language_info": {
            "codemirror_mode": {
                "name": "ipython",
                "version": 3
            },
            "file_extension": ".py",
            "mimetype": "text/x-python",
            "name": "python",
            "nbconvert_exporter": "python",
            "pygments_lexer": "ipython3",
            "version": "3.7.2"
        }
    },
    "cells": [
        {
            "cell_type": "markdown",
            "source": [
                "<h1>Longest Univalue Path</h1>",
                "<p>Given a binary tree, find the length of the longest path where each node in the path has the same value. This path may or may not pass through the root.</p><div></div>",
                "<div></div>",
                "<p><b>Note:</b> The length of path between two nodes is represented by the number of edges between them.</p><div></div>",
                "<div></div>",
                "<p><div></div>",
                "<b>Example 1:</b><div></div>",
                "</p><div></div>",
                "<div></div>",
                "<div></div>",
                "<p><div></div>",
                "Input:<div></div>",
                "<pre><div></div>",
                "              5<div></div>",
                "             / \\<div></div>",
                "            4   5<div></div>",
                "           / \\   \\<div></div>",
                "          1   1   5<div></div>",
                "</pre><div></div>",
                "</p><div></div>",
                "<div></div>",
                "<p><div></div>",
                "Output:<div></div>",
                "<pre><div></div>",
                "2<div></div>",
                "</pre><div></div>",
                "</p><div></div>",
                "<div></div>",
                "<p><div></div>",
                "<b>Example 2:</b><div></div>",
                "</p><div></div>",
                "<div></div>",
                "<div></div>",
                "<p><div></div>",
                "Input:<div></div>",
                "<pre><div></div>",
                "              1<div></div>",
                "             / \\<div></div>",
                "            4   5<div></div>",
                "           / \\   \\<div></div>",
                "          4   4   5<div></div>",
                "</pre><div></div>",
                "</p><div></div>",
                "<div></div>",
                "<p><div></div>",
                "Output:<div></div>",
                "<pre><div></div>",
                "2<div></div>",
                "</pre><div></div>",
                "</p><div></div>",
                "<div></div>",
                "<p><b>Note:</b><div></div>",
                "The given binary tree has not more than 10000 nodes.  The height of the tree is not more than 1000.<div></div>",
                "</p><div></div>"
            ],
            "metadata": {}
        },
        {
            "cell_type": "code",
            "metadata": {},
            "execution_count": null,
            "source": "%%writefile longest_univalue_path.py\n# Definition for a binary tree node.\n# class TreeNode:\n#     def __init__(self, x):\n#         self.val = x\n#         self.left = None\n#         self.right = None\n\nclass Solution:\n    def longestUnivaluePath(self, root):\n        \"\"\"\n        :type root: TreeNode\n        :rtype: int\n        \"\"\"",
            "outputs": []
        },
        {
            "cell_type": "code",
            "metadata": {},
            "execution_count": null,
            "source": "# submit\n%run ../../cli.py push --method=submit --path=longest_univalue_path.py --clean=True",
            "outputs": []
        }
    ]
}