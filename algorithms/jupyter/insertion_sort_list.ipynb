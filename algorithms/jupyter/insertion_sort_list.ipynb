{
    "nbformat": 4,
    "nbformat_minor": 2,
    "metadata": {
        "kernelspec": {
            "display_name": "Python 3",
            "language": "python",
            "name": "python3"
        },
        "language_info": {
            "codemirror_mode": {
                "name": "ipython",
                "version": 3
            },
            "file_extension": ".py",
            "mimetype": "text/x-python",
            "name": "python",
            "nbconvert_exporter": "python",
            "pygments_lexer": "ipython3",
            "version": "3.7.2"
        }
    },
    "cells": [
        {
            "cell_type": "markdown",
            "source": [
                "<h1>Insertion Sort List</h1>",
                "<p>Sort a linked list using insertion sort.</p><div></div>",
                "<div></div>",
                "<ol><div></div>",
                "</ol><div></div>",
                "<div></div>",
                "<p><img alt=\"\" src=\"https://upload.wikimedia.org/wikipedia/commons/0/0f/Insertion-sort-example-300px.gif\" style=\"height:180px; width:300px\" /><br /><div></div>",
                "<small>A graphical example of insertion sort. The partial sorted list (black) initially contains only the first element in the list.<br /><div></div>",
                "With each iteration one element (red) is removed from the input data and inserted in-place into the sorted list</small><br /><div></div>",
                "&nbsp;</p><div></div>",
                "<div></div>",
                "<ol><div></div>",
                "</ol><div></div>",
                "<div></div>",
                "<p><strong>Algorithm of Insertion Sort:</strong></p><div></div>",
                "<div></div>",
                "<ol><div></div>",
                "\t<li>Insertion sort iterates, consuming one input element each repetition, and growing a sorted output list.</li><div></div>",
                "\t<li>At each iteration, insertion sort removes one element from the input data, finds the location it belongs within the sorted list, and inserts it there.</li><div></div>",
                "\t<li>It repeats until no input elements remain.</li><div></div>",
                "</ol><div></div>",
                "<div></div>",
                "<p><br /><div></div>",
                "<strong>Example 1:</strong></p><div></div>",
                "<div></div>",
                "<pre><div></div>",
                "<strong>Input:</strong> 4-&gt;2-&gt;1-&gt;3<div></div>",
                "<strong>Output:</strong> 1-&gt;2-&gt;3-&gt;4<div></div>",
                "</pre><div></div>",
                "<div></div>",
                "<p><strong>Example 2:</strong></p><div></div>",
                "<div></div>",
                "<pre><div></div>",
                "<strong>Input:</strong> -1-&gt;5-&gt;3-&gt;4-&gt;0<div></div>",
                "<strong>Output:</strong> -1-&gt;0-&gt;3-&gt;4-&gt;5<div></div>",
                "</pre><div></div>",
                "<div></div>"
            ],
            "metadata": {}
        },
        {
            "cell_type": "code",
            "metadata": {},
            "execution_count": null,
            "source": "%%writefile insertion_sort_list.py\n# Definition for singly-linked list.\n# class ListNode:\n#     def __init__(self, x):\n#         self.val = x\n#         self.next = None\n\nclass Solution:\n    def insertionSortList(self, head):\n        \"\"\"\n        :type head: ListNode\n        :rtype: ListNode\n        \"\"\"",
            "outputs": []
        },
        {
            "cell_type": "code",
            "metadata": {},
            "execution_count": null,
            "source": "# submit\n%run ../../cli.py push --method=submit --path=insertion_sort_list.py --clean=True",
            "outputs": []
        }
    ]
}