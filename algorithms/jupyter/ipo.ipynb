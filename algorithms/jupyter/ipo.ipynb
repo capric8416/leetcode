{
    "nbformat": 4,
    "nbformat_minor": 2,
    "metadata": {
        "kernelspec": {
            "display_name": "Python 3",
            "language": "python",
            "name": "python3"
        },
        "language_info": {
            "codemirror_mode": {
                "name": "ipython",
                "version": 3
            },
            "file_extension": ".py",
            "mimetype": "text/x-python",
            "name": "python",
            "nbconvert_exporter": "python",
            "pygments_lexer": "ipython3",
            "version": "3.7.2"
        }
    },
    "cells": [
        {
            "cell_type": "markdown",
            "source": [
                "<h1>IPO</h1>",
                "<p><div></div>",
                "Suppose LeetCode will start its IPO soon. In order to sell a good price of its shares to Venture Capital, LeetCode would like to work on some projects to increase its capital before the IPO. Since it has limited resources, it can only finish at most <b>k</b> distinct projects before the IPO. Help LeetCode design the best way to maximize its total capital after finishing at most <b>k</b> distinct projects. <div></div>",
                "</p><div></div>",
                "<div></div>",
                "<p><div></div>",
                "You are given several projects. For each project <b>i</b>, it has a pure profit <b>P<sub>i</sub></b> and a minimum capital of <b>C<sub>i</sub></b> is needed to start the corresponding project. Initially, you have <b>W</b> capital. When you finish a project, you will obtain its pure profit and the profit will be added to your total capital.<div></div>",
                "</p><div></div>",
                "<div></div>",
                "<p><div></div>",
                "To sum up, pick a list of at most <b>k</b> distinct projects from given projects to maximize your final capital, and output your final maximized capital.<div></div>",
                "</p><div></div>",
                "<div></div>",
                "<p><b>Example 1:</b><br /><div></div>",
                "<pre><div></div>",
                "<b>Input:</b> k=2, W=0, Profits=[1,2,3], Capital=[0,1,1].<div></div>",
                "<div></div>",
                "<b>Output:</b> 4<div></div>",
                "<div></div>",
                "<b>Explanation:</b> Since your initial capital is 0, you can only start the project indexed 0.<div></div>",
                "             After finishing it you will obtain profit 1 and your capital becomes 1.<div></div>",
                "             With capital 1, you can either start the project indexed 1 or the project indexed 2.<div></div>",
                "             Since you can choose at most 2 projects, you need to finish the project indexed 2 to get the maximum capital.<div></div>",
                "             Therefore, output the final maximized capital, which is 0 + 1 + 3 = 4.<div></div>",
                "</pre><div></div>",
                "</p><div></div>",
                "<div></div>",
                "<p><b>Note:</b><br><div></div>",
                "<ol><div></div>",
                "<li>You may assume all numbers in the input are non-negative integers.</li><div></div>",
                "<li>The length of Profits array and Capital array will not exceed 50,000.</li><div></div>",
                "<li>The answer is guaranteed to fit in a 32-bit signed integer.</li><div></div>",
                "</ol><div></div>",
                "</p><div></div>"
            ],
            "metadata": {}
        },
        {
            "cell_type": "code",
            "metadata": {},
            "execution_count": null,
            "source": "%%writefile ipo.py\nclass Solution:\n    def findMaximizedCapital(self, k, W, Profits, Capital):\n        \"\"\"\n        :type k: int\n        :type W: int\n        :type Profits: List[int]\n        :type Capital: List[int]\n        :rtype: int\n        \"\"\"",
            "outputs": []
        },
        {
            "cell_type": "code",
            "metadata": {},
            "execution_count": null,
            "source": "# submit\n%run ../../cli.py push --method=submit --path=ipo.py --clean=True",
            "outputs": []
        }
    ]
}