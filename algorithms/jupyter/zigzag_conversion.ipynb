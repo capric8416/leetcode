{
    "nbformat": 4,
    "nbformat_minor": 2,
    "metadata": {
        "kernelspec": {
            "display_name": "Python 3",
            "language": "python",
            "name": "python3"
        },
        "language_info": {
            "codemirror_mode": {
                "name": "ipython",
                "version": 3
            },
            "file_extension": ".py",
            "mimetype": "text/x-python",
            "name": "python",
            "nbconvert_exporter": "python",
            "pygments_lexer": "ipython3",
            "version": "3.7.2"
        }
    },
    "cells": [
        {
            "cell_type": "markdown",
            "source": [
                "<h1>ZigZag Conversion</h1>",
                "<p>The string <code>&quot;PAYPALISHIRING&quot;</code> is written in a zigzag pattern on a given number of rows like this: (you may want to display this pattern in a fixed font for better legibility)</p><div></div>",
                "<div></div>",
                "<pre><div></div>",
                "P   A   H   N<div></div>",
                "A P L S I I G<div></div>",
                "Y   I   R<div></div>",
                "</pre><div></div>",
                "<div></div>",
                "<p>And then read line by line: <code>&quot;PAHNAPLSIIGYIR&quot;</code></p><div></div>",
                "<div></div>",
                "<p>Write the code that will take a string and make this conversion given a number of rows:</p><div></div>",
                "<div></div>",
                "<pre><div></div>",
                "string convert(string s, int numRows);</pre><div></div>",
                "<div></div>",
                "<p><strong>Example 1:</strong></p><div></div>",
                "<div></div>",
                "<pre><div></div>",
                "<strong>Input:</strong> s = &quot;PAYPALISHIRING&quot;, numRows = 3<div></div>",
                "<strong>Output:</strong> &quot;PAHNAPLSIIGYIR&quot;<div></div>",
                "</pre><div></div>",
                "<div></div>",
                "<p><strong>Example 2:</strong></p><div></div>",
                "<div></div>",
                "<pre><div></div>",
                "<strong>Input:</strong> s = &quot;PAYPALISHIRING&quot;, numRows =&nbsp;4<div></div>",
                "<strong>Output:</strong>&nbsp;&quot;PINALSIGYAHRPI&quot;<div></div>",
                "<strong>Explanation:</strong><div></div>",
                "<div></div>",
                "P     I    N<div></div>",
                "A   L S  I G<div></div>",
                "Y A   H R<div></div>",
                "P     I</pre><div></div>",
                "<div></div>"
            ],
            "metadata": {}
        },
        {
            "cell_type": "code",
            "metadata": {},
            "execution_count": null,
            "source": "%%writefile zigzag_conversion.py\nclass Solution:\n    def convert(self, s, numRows):\n        \"\"\"\n        :type s: str\n        :type numRows: int\n        :rtype: str\n        \"\"\"",
            "outputs": []
        },
        {
            "cell_type": "code",
            "metadata": {},
            "execution_count": null,
            "source": "# submit\n%run ../../cli.py push --method=submit --path=zigzag_conversion.py --clean=True",
            "outputs": []
        }
    ]
}