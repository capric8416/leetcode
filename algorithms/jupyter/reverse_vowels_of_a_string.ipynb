{
    "nbformat": 4,
    "nbformat_minor": 2,
    "metadata": {
        "kernelspec": {
            "display_name": "Python 3",
            "language": "python",
            "name": "python3"
        },
        "language_info": {
            "codemirror_mode": {
                "name": "ipython",
                "version": 3
            },
            "file_extension": ".py",
            "mimetype": "text/x-python",
            "name": "python",
            "nbconvert_exporter": "python",
            "pygments_lexer": "ipython3",
            "version": "3.7.2"
        }
    },
    "cells": [
        {
            "cell_type": "markdown",
            "source": [
                "<h1>Reverse Vowels of a String</h1>",
                "<p>Write a function that takes a string as input and reverse only the vowels of a string.</p><div></div>",
                "<div></div>",
                "<p><strong>Example 1:</strong></p><div></div>",
                "<div></div>",
                "<pre><div></div>",
                "<strong>Input: </strong><span id=\"example-input-1-1\">&quot;hello&quot;</span><div></div>",
                "<strong>Output: </strong><span id=\"example-output-1\">&quot;holle&quot;</span><div></div>",
                "</pre><div></div>",
                "<div></div>",
                "<div><div></div>",
                "<p><strong>Example 2:</strong></p><div></div>",
                "<div></div>",
                "<pre><div></div>",
                "<strong>Input: </strong><span id=\"example-input-2-1\">&quot;leetcode&quot;</span><div></div>",
                "<strong>Output: </strong><span id=\"example-output-2\">&quot;leotcede&quot;</span></pre><div></div>",
                "</div><div></div>",
                "<div></div>",
                "<p><b>Note:</b><br /><div></div>",
                "The vowels does not include the letter &quot;y&quot;.</p><div></div>",
                "<div></div>",
                "<p>&nbsp;</p><div></div>",
                "<div></div>"
            ],
            "metadata": {}
        },
        {
            "cell_type": "code",
            "metadata": {},
            "execution_count": null,
            "source": "%%writefile reverse_vowels_of_a_string.py\nclass Solution:\n    def reverseVowels(self, s):\n        \"\"\"\n        :type s: str\n        :rtype: str\n        \"\"\"",
            "outputs": []
        },
        {
            "cell_type": "code",
            "metadata": {},
            "execution_count": null,
            "source": "# submit\n%run ../../cli.py push --method=submit --path=reverse_vowels_of_a_string.py --clean=True",
            "outputs": []
        }
    ]
}