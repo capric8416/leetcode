{
    "nbformat": 4,
    "nbformat_minor": 2,
    "metadata": {
        "kernelspec": {
            "display_name": "Python 3",
            "language": "python",
            "name": "python3"
        },
        "language_info": {
            "codemirror_mode": {
                "name": "ipython",
                "version": 3
            },
            "file_extension": ".py",
            "mimetype": "text/x-python",
            "name": "python",
            "nbconvert_exporter": "python",
            "pygments_lexer": "ipython3",
            "version": "3.7.2"
        }
    },
    "cells": [
        {
            "cell_type": "markdown",
            "source": [
                "<h1>Sum of Subsequence Widths</h1>",
                "<p>Given an array of integers <code>A</code>, consider all non-empty subsequences of <code>A</code>.</p><div></div>",
                "<div></div>",
                "<p>For any sequence S, let the&nbsp;<em>width</em>&nbsp;of S be the difference between the maximum and minimum element of S.</p><div></div>",
                "<div></div>",
                "<p>Return the sum of the widths of all subsequences of A.&nbsp;</p><div></div>",
                "<div></div>",
                "<p>As the answer may be very large, <strong>return the answer modulo 10^9 + 7</strong>.</p><div></div>",
                "<div></div>",
                "<div><div></div>",
                "<p>&nbsp;</p><div></div>",
                "<div></div>",
                "<p><strong>Example 1:</strong></p><div></div>",
                "<div></div>",
                "<pre><div></div>",
                "<strong>Input: </strong><span id=\"example-input-1-1\">[2,1,3]</span><div></div>",
                "<strong>Output: </strong><span id=\"example-output-1\">6</span><div></div>",
                "<strong>Explanation:<div></div>",
                "</strong>Subsequences are [1], [2], [3], [2,1], [2,3], [1,3], [2,1,3].<div></div>",
                "The corresponding widths are 0, 0, 0, 1, 1, 2, 2.<div></div>",
                "The sum of these widths is 6.<div></div>",
                "</pre><div></div>",
                "<div></div>",
                "<p>&nbsp;</p><div></div>",
                "<div></div>",
                "<p><strong>Note:</strong></p><div></div>",
                "<div></div>",
                "<ul><div></div>",
                "\t<li><code>1 &lt;= A.length &lt;= 20000</code></li><div></div>",
                "\t<li><code>1 &lt;= A[i] &lt;= 20000</code></li><div></div>",
                "</ul><div></div>",
                "</div><div></div>",
                "<div></div>"
            ],
            "metadata": {}
        },
        {
            "cell_type": "code",
            "metadata": {},
            "execution_count": null,
            "source": "%%writefile sum_of_subsequence_widths.py\nclass Solution:\n    def sumSubseqWidths(self, A):\n        \"\"\"\n        :type A: List[int]\n        :rtype: int\n        \"\"\"",
            "outputs": []
        },
        {
            "cell_type": "code",
            "metadata": {},
            "execution_count": null,
            "source": "# submit\n%run ../../cli.py push --method=submit --path=sum_of_subsequence_widths.py --clean=True",
            "outputs": []
        }
    ]
}