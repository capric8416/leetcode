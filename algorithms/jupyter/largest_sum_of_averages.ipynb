{
    "nbformat": 4,
    "nbformat_minor": 2,
    "metadata": {
        "kernelspec": {
            "display_name": "Python 3",
            "language": "python",
            "name": "python3"
        },
        "language_info": {
            "codemirror_mode": {
                "name": "ipython",
                "version": 3
            },
            "file_extension": ".py",
            "mimetype": "text/x-python",
            "name": "python",
            "nbconvert_exporter": "python",
            "pygments_lexer": "ipython3",
            "version": "3.7.2"
        }
    },
    "cells": [
        {
            "cell_type": "markdown",
            "source": [
                "<h1>Largest Sum of Averages</h1>",
                "<p>We partition a row of numbers <code>A</code>&nbsp;into at most <code>K</code> adjacent (non-empty) groups, then our score is the sum of the average of each group. What is the largest score we can achieve?</p><div></div>",
                "<div></div>",
                "<p>Note that our partition must use every number in A, and that scores are not necessarily integers.</p><div></div>",
                "<div></div>",
                "<pre><div></div>",
                "<strong>Example:</strong><div></div>",
                "<strong>Input:</strong> <div></div>",
                "A = [9,1,2,3,9]<div></div>",
                "K = 3<div></div>",
                "<strong>Output:</strong> 20<div></div>",
                "<strong>Explanation:</strong> <div></div>",
                "The best choice is to partition A into [9], [1, 2, 3], [9]. The answer is 9 + (1 + 2 + 3) / 3 + 9 = 20.<div></div>",
                "We could have also partitioned A into [9, 1], [2], [3, 9], for example.<div></div>",
                "That partition would lead to a score of 5 + 2 + 6 = 13, which is worse.<div></div>",
                "</pre><div></div>",
                "<div></div>",
                "<p>&nbsp;</p><div></div>",
                "<div></div>",
                "<p><strong>Note: </strong></p><div></div>",
                "<div></div>",
                "<ul><div></div>",
                "\t<li><code>1 &lt;= A.length &lt;= 100</code>.</li><div></div>",
                "\t<li><code>1 &lt;= A[i] &lt;= 10000</code>.</li><div></div>",
                "\t<li><code>1 &lt;= K &lt;= A.length</code>.</li><div></div>",
                "\t<li>Answers within <code>10^-6</code> of the correct answer will be accepted as correct.</li><div></div>",
                "</ul><div></div>",
                "<div></div>"
            ],
            "metadata": {}
        },
        {
            "cell_type": "code",
            "metadata": {},
            "execution_count": null,
            "source": "%%writefile largest_sum_of_averages.py\nclass Solution:\n    def largestSumOfAverages(self, A, K):\n        \"\"\"\n        :type A: List[int]\n        :type K: int\n        :rtype: float\n        \"\"\"",
            "outputs": []
        },
        {
            "cell_type": "code",
            "metadata": {},
            "execution_count": null,
            "source": "# submit\n%run ../../cli.py push --method=submit --path=largest_sum_of_averages.py --clean=True",
            "outputs": []
        }
    ]
}