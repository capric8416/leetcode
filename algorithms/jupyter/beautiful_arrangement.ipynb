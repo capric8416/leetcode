{
    "nbformat": 4,
    "nbformat_minor": 2,
    "metadata": {
        "kernelspec": {
            "display_name": "Python 3",
            "language": "python",
            "name": "python3"
        },
        "language_info": {
            "codemirror_mode": {
                "name": "ipython",
                "version": 3
            },
            "file_extension": ".py",
            "mimetype": "text/x-python",
            "name": "python",
            "nbconvert_exporter": "python",
            "pygments_lexer": "ipython3",
            "version": "3.7.2"
        }
    },
    "cells": [
        {
            "cell_type": "markdown",
            "source": [
                "<h1>Beautiful Arrangement</h1>",
                "<p><div></div>",
                "Suppose you have <b>N</b> integers from 1 to N. We define a beautiful arrangement as an array that is constructed by these <b>N</b> numbers successfully if one of the following is true for the i<sub>th</sub> position (1 <= i <= N) in this array:<div></div>",
                "<ol><div></div>",
                "<li>The number at the i<sub>th</sub> position is divisible by <b>i</b>.</li><div></div>",
                "<li><b>i</b> is divisible by the number at the i<sub>th</sub> position.</li><div></div>",
                "</ol><div></div>",
                "</p><div></div>",
                "<div></div>",
                "<p><div></div>",
                "Now given N, how many beautiful arrangements can you construct?<div></div>",
                "</p><div></div>",
                "<div></div>",
                "<p><b>Example 1:</b><br /><div></div>",
                "<pre><div></div>",
                "<b>Input:</b> 2<div></div>",
                "<b>Output:</b> 2<div></div>",
                "<b>Explanation:</b> <div></div>",
                "<br/>The first beautiful arrangement is [1, 2]:<div></div>",
                "<br/>Number at the 1st position (i=1) is 1, and 1 is divisible by i (i=1).<div></div>",
                "<br/>Number at the 2nd position (i=2) is 2, and 2 is divisible by i (i=2).<div></div>",
                "<br/>The second beautiful arrangement is [2, 1]:<div></div>",
                "<br/>Number at the 1st position (i=1) is 2, and 2 is divisible by i (i=1).<div></div>",
                "<br/>Number at the 2nd position (i=2) is 1, and i (i=2) is divisible by 1.<div></div>",
                "</pre><div></div>",
                "</p><div></div>",
                "<div></div>",
                "<p><b>Note:</b><br><div></div>",
                "<ol><div></div>",
                "<li><b>N</b> is a positive integer and will not exceed 15.</li><div></div>",
                "</ol><div></div>",
                "</p><div></div>"
            ],
            "metadata": {}
        },
        {
            "cell_type": "code",
            "metadata": {},
            "execution_count": null,
            "source": "%%writefile beautiful_arrangement.py\nclass Solution:\n    def countArrangement(self, N):\n        \"\"\"\n        :type N: int\n        :rtype: int\n        \"\"\"",
            "outputs": []
        },
        {
            "cell_type": "code",
            "metadata": {},
            "execution_count": null,
            "source": "# submit\n%run ../../cli.py push --method=submit --path=beautiful_arrangement.py --clean=True",
            "outputs": []
        }
    ]
}