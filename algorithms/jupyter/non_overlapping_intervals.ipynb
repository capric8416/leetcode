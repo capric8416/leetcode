{
    "nbformat": 4,
    "nbformat_minor": 2,
    "metadata": {
        "kernelspec": {
            "display_name": "Python 3",
            "language": "python",
            "name": "python3"
        },
        "language_info": {
            "codemirror_mode": {
                "name": "ipython",
                "version": 3
            },
            "file_extension": ".py",
            "mimetype": "text/x-python",
            "name": "python",
            "nbconvert_exporter": "python",
            "pygments_lexer": "ipython3",
            "version": "3.7.2"
        }
    },
    "cells": [
        {
            "cell_type": "markdown",
            "source": [
                "<h1>Non-overlapping Intervals</h1>",
                "<p><div></div>",
                "Given a collection of intervals, find the minimum number of intervals you need to remove to make the rest of the intervals non-overlapping.<div></div>",
                "</p><div></div>",
                "<div></div>",
                "<p><b>Note:</b><br /><div></div>",
                "<ol><div></div>",
                "<li>You may assume the interval's end point is always bigger than its start point.</li><div></div>",
                "<li>Intervals like [1,2] and [2,3] have borders \"touching\" but they don't overlap each other.</li><div></div>",
                "</ol><div></div>",
                "</p><div></div>",
                "<div></div>",
                "<p><b>Example 1:</b><br /><div></div>",
                "<pre><div></div>",
                "<b>Input:</b> [ [1,2], [2,3], [3,4], [1,3] ]<div></div>",
                "<div></div>",
                "<b>Output:</b> 1<div></div>",
                "<div></div>",
                "<b>Explanation:</b> [1,3] can be removed and the rest of intervals are non-overlapping.<div></div>",
                "</pre><div></div>",
                "</p><div></div>",
                "<div></div>",
                "<p><b>Example 2:</b><br /><div></div>",
                "<pre><div></div>",
                "<b>Input:</b> [ [1,2], [1,2], [1,2] ]<div></div>",
                "<div></div>",
                "<b>Output:</b> 2<div></div>",
                "<div></div>",
                "<b>Explanation:</b> You need to remove two [1,2] to make the rest of intervals non-overlapping.<div></div>",
                "</pre><div></div>",
                "</p><div></div>",
                "<div></div>",
                "<p><b>Example 3:</b><br /><div></div>",
                "<pre><div></div>",
                "<b>Input:</b> [ [1,2], [2,3] ]<div></div>",
                "<div></div>",
                "<b>Output:</b> 0<div></div>",
                "<div></div>",
                "<b>Explanation:</b> You don't need to remove any of the intervals since they're already non-overlapping.<div></div>",
                "</pre><div></div>",
                "</p><div></div>"
            ],
            "metadata": {}
        },
        {
            "cell_type": "code",
            "metadata": {},
            "execution_count": null,
            "source": "%%writefile non_overlapping_intervals.py\n# Definition for an interval.\n# class Interval:\n#     def __init__(self, s=0, e=0):\n#         self.start = s\n#         self.end = e\n\nclass Solution:\n    def eraseOverlapIntervals(self, intervals):\n        \"\"\"\n        :type intervals: List[Interval]\n        :rtype: int\n        \"\"\"",
            "outputs": []
        },
        {
            "cell_type": "code",
            "metadata": {},
            "execution_count": null,
            "source": "# submit\n%run ../../cli.py push --method=submit --path=non_overlapping_intervals.py --clean=True",
            "outputs": []
        }
    ]
}