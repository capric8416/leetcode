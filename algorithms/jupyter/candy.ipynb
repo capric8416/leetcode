{
    "nbformat": 4,
    "nbformat_minor": 2,
    "metadata": {
        "kernelspec": {
            "display_name": "Python 3",
            "language": "python",
            "name": "python3"
        },
        "language_info": {
            "codemirror_mode": {
                "name": "ipython",
                "version": 3
            },
            "file_extension": ".py",
            "mimetype": "text/x-python",
            "name": "python",
            "nbconvert_exporter": "python",
            "pygments_lexer": "ipython3",
            "version": "3.7.2"
        }
    },
    "cells": [
        {
            "cell_type": "markdown",
            "source": [
                "<h1>Candy</h1>",
                "<p>There are <em>N</em> children standing in a line. Each child is assigned a rating value.</p><div></div>",
                "<div></div>",
                "<p>You are giving candies to these children subjected to the following requirements:</p><div></div>",
                "<div></div>",
                "<ul><div></div>",
                "\t<li>Each child must have at least one candy.</li><div></div>",
                "\t<li>Children with a higher rating get more candies than their neighbors.</li><div></div>",
                "</ul><div></div>",
                "<div></div>",
                "<p>What is the minimum candies you must give?</p><div></div>",
                "<div></div>",
                "<p><strong>Example 1:</strong></p><div></div>",
                "<div></div>",
                "<pre><div></div>",
                "<strong>Input:</strong> [1,0,2]<div></div>",
                "<strong>Output:</strong> 5<div></div>",
                "<strong>Explanation:</strong> You can allocate to the first, second and third child with 2, 1, 2 candies respectively.<div></div>",
                "</pre><div></div>",
                "<div></div>",
                "<p><strong>Example 2:</strong></p><div></div>",
                "<div></div>",
                "<pre><div></div>",
                "<strong>Input:</strong> [1,2,2]<div></div>",
                "<strong>Output:</strong> 4<div></div>",
                "<strong>Explanation:</strong> You can allocate to the first, second and third child with 1, 2, 1 candies respectively.<div></div>",
                "             The third child gets 1 candy because it satisfies the above two conditions.<div></div>",
                "</pre><div></div>",
                "<div></div>"
            ],
            "metadata": {}
        },
        {
            "cell_type": "code",
            "metadata": {},
            "execution_count": null,
            "source": "%%writefile candy.py\nclass Solution:\n    def candy(self, ratings):\n        \"\"\"\n        :type ratings: List[int]\n        :rtype: int\n        \"\"\"",
            "outputs": []
        },
        {
            "cell_type": "code",
            "metadata": {},
            "execution_count": null,
            "source": "# submit\n%run ../../cli.py push --method=submit --path=candy.py --clean=True",
            "outputs": []
        }
    ]
}