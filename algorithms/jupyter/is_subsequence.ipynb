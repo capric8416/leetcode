{
    "nbformat": 4,
    "nbformat_minor": 2,
    "metadata": {
        "kernelspec": {
            "display_name": "Python 3",
            "language": "python",
            "name": "python3"
        },
        "language_info": {
            "codemirror_mode": {
                "name": "ipython",
                "version": 3
            },
            "file_extension": ".py",
            "mimetype": "text/x-python",
            "name": "python",
            "nbconvert_exporter": "python",
            "pygments_lexer": "ipython3",
            "version": "3.7.2"
        }
    },
    "cells": [
        {
            "cell_type": "markdown",
            "source": [
                "<h1>Is Subsequence</h1>",
                "<p><div></div>",
                "Given a string <b>s</b> and a string <b>t</b>, check if <b>s</b> is subsequence of <b>t</b>.<div></div>",
                "</p><div></div>",
                "<div></div>",
                "<p><div></div>",
                "You may assume that there is only lower case English letters in both <b>s</b> and <b>t</b>. <b>t</b> is potentially a very long (length ~= 500,000) string, and <b>s</b> is a short string (<=100).<div></div>",
                "</p><div></div>",
                "<div></div>",
                "<p><div></div>",
                "A subsequence of a string is a new string which is formed from the original string by deleting some (can be none) of the characters without disturbing the relative positions of the remaining characters. (ie, <code>\"ace\"</code> is a subsequence of <code>\"abcde\"</code> while <code>\"aec\"</code> is not).<div></div>",
                "</p><div></div>",
                "<div></div>",
                "<p><b>Example 1:</b><br /><div></div>",
                "<b>s</b> = <code>\"abc\"</code>, <b>t</b> = <code>\"ahbgdc\"</code><div></div>",
                "</p><div></div>",
                "<p><div></div>",
                "Return <code>true</code>.<div></div>",
                "</p><div></div>",
                "<div></div>",
                "<p><b>Example 2:</b><br /><div></div>",
                "<b>s</b> = <code>\"axc\"</code>, <b>t</b> = <code>\"ahbgdc\"</code><div></div>",
                "</p><div></div>",
                "<p><div></div>",
                "Return <code>false</code>.<div></div>",
                "</p><div></div>",
                "<div></div>",
                "<p><b>Follow up:</b><br /><div></div>",
                "If there are lots of incoming S, say S1, S2, ... , Sk where k >= 1B, and you want to check one by one to see if T has its subsequence. In this scenario, how would you change your code?</p><div></div>",
                "<div></div>",
                "<p><b>Credits:</b><br />Special thanks to <a href=\"https://leetcode.com/pbrother/\">@pbrother</a> for adding this problem and creating all test cases.</p><div></div>"
            ],
            "metadata": {}
        },
        {
            "cell_type": "code",
            "metadata": {},
            "execution_count": null,
            "source": "%%writefile is_subsequence.py\nclass Solution:\n    def isSubsequence(self, s, t):\n        \"\"\"\n        :type s: str\n        :type t: str\n        :rtype: bool\n        \"\"\"",
            "outputs": []
        },
        {
            "cell_type": "code",
            "metadata": {},
            "execution_count": null,
            "source": "# submit\n%run ../../cli.py push --method=submit --path=is_subsequence.py --clean=True",
            "outputs": []
        }
    ]
}