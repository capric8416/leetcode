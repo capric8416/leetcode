{
    "nbformat": 4,
    "nbformat_minor": 2,
    "metadata": {
        "kernelspec": {
            "display_name": "Python 3",
            "language": "python",
            "name": "python3"
        },
        "language_info": {
            "codemirror_mode": {
                "name": "ipython",
                "version": 3
            },
            "file_extension": ".py",
            "mimetype": "text/x-python",
            "name": "python",
            "nbconvert_exporter": "python",
            "pygments_lexer": "ipython3",
            "version": "3.7.2"
        }
    },
    "cells": [
        {
            "cell_type": "markdown",
            "source": [
                "<h1>Orderly Queue</h1>",
                "<p>A string <code>S</code> of lowercase letters is given.&nbsp; Then, we may make any number of <em>moves</em>.</p><div></div>",
                "<div></div>",
                "<p>In each move, we&nbsp;choose one&nbsp;of the first <code>K</code> letters (starting from the left), remove it,&nbsp;and place it at the end of the string.</p><div></div>",
                "<div></div>",
                "<p>Return the lexicographically smallest string we could have after any number of moves.</p><div></div>",
                "<div></div>",
                "<p>&nbsp;</p><div></div>",
                "<div></div>",
                "<div><div></div>",
                "<p><strong>Example 1:</strong></p><div></div>",
                "<div></div>",
                "<pre><div></div>",
                "<strong>Input: </strong>S = <span id=\"example-input-1-1\">&quot;cba&quot;</span>, K = <span id=\"example-input-1-2\">1</span><div></div>",
                "<strong>Output: </strong><span id=\"example-output-1\">&quot;acb&quot;</span><div></div>",
                "<strong>Explanation: </strong><div></div>",
                "In the first move, we move the 1st character (&quot;c&quot;) to the end, obtaining the string &quot;bac&quot;.<div></div>",
                "In the second move, we move the 1st character (&quot;b&quot;) to the end, obtaining the final result &quot;acb&quot;.<div></div>",
                "</pre><div></div>",
                "<div></div>",
                "<div><div></div>",
                "<p><strong>Example 2:</strong></p><div></div>",
                "<div></div>",
                "<pre><div></div>",
                "<strong>Input: </strong>S = <span id=\"example-input-2-1\">&quot;baaca&quot;</span>, K = <span id=\"example-input-2-2\">3</span><div></div>",
                "<strong>Output: </strong><span id=\"example-output-2\">&quot;aaabc&quot;</span><div></div>",
                "<strong>Explanation: </strong><div></div>",
                "In the first move, we move the 1st character (&quot;b&quot;) to the end, obtaining the string &quot;aacab&quot;.<div></div>",
                "In the second move, we move the 3rd character (&quot;c&quot;) to the end, obtaining the final result &quot;aaabc&quot;.<div></div>",
                "</pre><div></div>",
                "<div></div>",
                "<p>&nbsp;</p><div></div>",
                "<div></div>",
                "<p><strong>Note:</strong></p><div></div>",
                "<div></div>",
                "<ol><div></div>",
                "\t<li><code>1 &lt;= K &lt;= S.length&nbsp;&lt;= 1000</code></li><div></div>",
                "\t<li><code>S</code>&nbsp;consists of lowercase letters only.</li><div></div>",
                "</ol><div></div>",
                "</div><div></div>",
                "</div><div></div>",
                "<div></div>"
            ],
            "metadata": {}
        },
        {
            "cell_type": "code",
            "metadata": {},
            "execution_count": null,
            "source": "%%writefile orderly_queue.py\nclass Solution:\n    def orderlyQueue(self, S, K):\n        \"\"\"\n        :type S: str\n        :type K: int\n        :rtype: str\n        \"\"\"",
            "outputs": []
        },
        {
            "cell_type": "code",
            "metadata": {},
            "execution_count": null,
            "source": "# submit\n%run ../../cli.py push --method=submit --path=orderly_queue.py --clean=True",
            "outputs": []
        }
    ]
}