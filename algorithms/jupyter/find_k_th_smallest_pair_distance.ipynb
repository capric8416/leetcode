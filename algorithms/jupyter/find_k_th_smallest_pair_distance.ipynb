{
    "nbformat": 4,
    "nbformat_minor": 2,
    "metadata": {
        "kernelspec": {
            "display_name": "Python 3",
            "language": "python",
            "name": "python3"
        },
        "language_info": {
            "codemirror_mode": {
                "name": "ipython",
                "version": 3
            },
            "file_extension": ".py",
            "mimetype": "text/x-python",
            "name": "python",
            "nbconvert_exporter": "python",
            "pygments_lexer": "ipython3",
            "version": "3.7.2"
        }
    },
    "cells": [
        {
            "cell_type": "markdown",
            "source": [
                "<h1>Find K-th Smallest Pair Distance</h1>",
                "<p>Given an integer array, return the k-th smallest <b>distance</b> among all the pairs. The distance of a pair (A, B) is defined as the absolute difference between A and B. </p><div></div>",
                "<div></div>",
                "<p><b>Example 1:</b><br /><div></div>",
                "<pre><div></div>",
                "<b>Input:</b><div></div>",
                "nums = [1,3,1]<div></div>",
                "k = 1<div></div>",
                "<b>Output: 0</b> <div></div>",
                "<b>Explanation:</b><div></div>",
                "Here are all the pairs:<div></div>",
                "(1,3) -> 2<div></div>",
                "(1,1) -> 0<div></div>",
                "(3,1) -> 2<div></div>",
                "Then the 1st smallest distance pair is (1,1), and its distance is 0.<div></div>",
                "</pre><div></div>",
                "</p><div></div>",
                "<div></div>",
                "<p><b>Note:</b><br><div></div>",
                "<ol><div></div>",
                "<li><code>2 <= len(nums) <= 10000</code>.</li><div></div>",
                "<li><code>0 <= nums[i] < 1000000</code>.</li><div></div>",
                "<li><code>1 <= k <= len(nums) * (len(nums) - 1) / 2</code>.</li><div></div>",
                "</ol><div></div>",
                "</p><div></div>"
            ],
            "metadata": {}
        },
        {
            "cell_type": "code",
            "metadata": {},
            "execution_count": null,
            "source": "%%writefile find_k_th_smallest_pair_distance.py\nclass Solution:\n    def smallestDistancePair(self, nums, k):\n        \"\"\"\n        :type nums: List[int]\n        :type k: int\n        :rtype: int\n        \"\"\"",
            "outputs": []
        },
        {
            "cell_type": "code",
            "metadata": {},
            "execution_count": null,
            "source": "# submit\n%run ../../cli.py push --method=submit --path=find_k_th_smallest_pair_distance.py --clean=True",
            "outputs": []
        }
    ]
}