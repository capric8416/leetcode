{
    "nbformat": 4,
    "nbformat_minor": 2,
    "metadata": {
        "kernelspec": {
            "display_name": "Python 3",
            "language": "python",
            "name": "python3"
        },
        "language_info": {
            "codemirror_mode": {
                "name": "ipython",
                "version": 3
            },
            "file_extension": ".py",
            "mimetype": "text/x-python",
            "name": "python",
            "nbconvert_exporter": "python",
            "pygments_lexer": "ipython3",
            "version": "3.7.2"
        }
    },
    "cells": [
        {
            "cell_type": "markdown",
            "source": [
                "<h1>Median of Two Sorted Arrays</h1>",
                "<p>There are two sorted arrays <b>nums1</b> and <b>nums2</b> of size m and n respectively.</p><div></div>",
                "<div></div>",
                "<p>Find the median of the two sorted arrays. The overall run time complexity should be O(log (m+n)).</p><div></div>",
                "<div></div>",
                "<p>You may assume <strong>nums1</strong> and <strong>nums2</strong>&nbsp;cannot be both empty.</p><div></div>",
                "<div></div>",
                "<p><b>Example 1:</b></p><div></div>",
                "<div></div>",
                "<pre><div></div>",
                "nums1 = [1, 3]<div></div>",
                "nums2 = [2]<div></div>",
                "<div></div>",
                "The median is 2.0<div></div>",
                "</pre><div></div>",
                "<div></div>",
                "<p><b>Example 2:</b></p><div></div>",
                "<div></div>",
                "<pre><div></div>",
                "nums1 = [1, 2]<div></div>",
                "nums2 = [3, 4]<div></div>",
                "<div></div>",
                "The median is (2 + 3)/2 = 2.5<div></div>",
                "</pre><div></div>",
                "<div></div>"
            ],
            "metadata": {}
        },
        {
            "cell_type": "code",
            "metadata": {},
            "execution_count": null,
            "source": "%%writefile median_of_two_sorted_arrays.py\nclass Solution:\n    def findMedianSortedArrays(self, nums1, nums2):\n        \"\"\"\n        :type nums1: List[int]\n        :type nums2: List[int]\n        :rtype: float\n        \"\"\"",
            "outputs": []
        },
        {
            "cell_type": "code",
            "metadata": {},
            "execution_count": null,
            "source": "# submit\n%run ../../cli.py push --method=submit --path=median_of_two_sorted_arrays.py --clean=True",
            "outputs": []
        }
    ]
}