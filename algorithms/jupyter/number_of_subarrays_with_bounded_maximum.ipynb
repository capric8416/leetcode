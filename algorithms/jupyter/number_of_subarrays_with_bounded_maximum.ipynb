{
    "nbformat": 4,
    "nbformat_minor": 2,
    "metadata": {
        "kernelspec": {
            "display_name": "Python 3",
            "language": "python",
            "name": "python3"
        },
        "language_info": {
            "codemirror_mode": {
                "name": "ipython",
                "version": 3
            },
            "file_extension": ".py",
            "mimetype": "text/x-python",
            "name": "python",
            "nbconvert_exporter": "python",
            "pygments_lexer": "ipython3",
            "version": "3.7.2"
        }
    },
    "cells": [
        {
            "cell_type": "markdown",
            "source": [
                "<h1>Number of Subarrays with Bounded Maximum</h1>",
                "<p>We are given an array <code>A</code> of positive integers, and two positive integers <code>L</code> and <code>R</code> (<code>L &lt;= R</code>).</p><div></div>",
                "<div></div>",
                "<p>Return the number of (contiguous, non-empty) subarrays such that the value of the maximum array element in that subarray is at least <code>L</code> and at most <code>R</code>.</p><div></div>",
                "<div></div>",
                "<pre><div></div>",
                "<strong>Example :</strong><div></div>",
                "<strong>Input:</strong> <div></div>",
                "A = [2, 1, 4, 3]<div></div>",
                "L = 2<div></div>",
                "R = 3<div></div>",
                "<strong>Output:</strong> 3<div></div>",
                "<strong>Explanation:</strong> There are three subarrays that meet the requirements: [2], [2, 1], [3].<div></div>",
                "</pre><div></div>",
                "<div></div>",
                "<p><strong>Note:</strong></p><div></div>",
                "<div></div>",
                "<ul><div></div>",
                "\t<li>L, R&nbsp; and <code>A[i]</code> will be an integer in the range <code>[0, 10^9]</code>.</li><div></div>",
                "\t<li>The length of <code>A</code> will be in the range of <code>[1, 50000]</code>.</li><div></div>",
                "</ul><div></div>",
                "<div></div>"
            ],
            "metadata": {}
        },
        {
            "cell_type": "code",
            "metadata": {},
            "execution_count": null,
            "source": "%%writefile number_of_subarrays_with_bounded_maximum.py\nclass Solution:\n    def numSubarrayBoundedMax(self, A, L, R):\n        \"\"\"\n        :type A: List[int]\n        :type L: int\n        :type R: int\n        :rtype: int\n        \"\"\"",
            "outputs": []
        },
        {
            "cell_type": "code",
            "metadata": {},
            "execution_count": null,
            "source": "# submit\n%run ../../cli.py push --method=submit --path=number_of_subarrays_with_bounded_maximum.py --clean=True",
            "outputs": []
        }
    ]
}