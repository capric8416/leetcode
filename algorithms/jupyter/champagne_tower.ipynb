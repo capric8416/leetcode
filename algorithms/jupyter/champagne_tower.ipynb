{
    "nbformat": 4,
    "nbformat_minor": 2,
    "metadata": {
        "kernelspec": {
            "display_name": "Python 3",
            "language": "python",
            "name": "python3"
        },
        "language_info": {
            "codemirror_mode": {
                "name": "ipython",
                "version": 3
            },
            "file_extension": ".py",
            "mimetype": "text/x-python",
            "name": "python",
            "nbconvert_exporter": "python",
            "pygments_lexer": "ipython3",
            "version": "3.7.2"
        }
    },
    "cells": [
        {
            "cell_type": "markdown",
            "source": [
                "<h1>Champagne Tower</h1>",
                "<p>We stack glasses in a pyramid, where the first row has 1 glass, the second row has 2 glasses, and so on until the 100th row.&nbsp; Each glass holds one cup (250ml) of champagne.</p><div></div>",
                "<div></div>",
                "<p>Then, some champagne is poured in the first glass at the top.&nbsp; When the top most glass is full, any excess liquid poured will fall equally to the glass immediately to the left and right of it.&nbsp; When those glasses become full, any excess champagne will fall equally to the left and right of those glasses, and so on.&nbsp; (A glass at the bottom row has it&#39;s excess champagne fall on the floor.)</p><div></div>",
                "<div></div>",
                "<p>For example, after one cup of champagne is poured, the top most glass is full.&nbsp; After two cups of champagne are poured, the two glasses on the second row are half full.&nbsp; After three cups of champagne are poured, those two cups become full - there are 3 full glasses total now.&nbsp; After four cups of champagne are poured, the third row has the middle glass half full, and the two outside glasses are a quarter full, as pictured below.</p><div></div>",
                "<div></div>",
                "<p><img alt=\"\" src=\"https://s3-lc-upload.s3.amazonaws.com/uploads/2018/03/09/tower.png\" style=\"height:200px; width:290px\" /></p><div></div>",
                "<div></div>",
                "<p>Now after pouring some non-negative integer cups of champagne, return how full the j-th glass in the i-th row is (both i and j are 0 indexed.)</p><div></div>",
                "<div></div>",
                "<p>&nbsp;</p><div></div>",
                "<div></div>",
                "<pre><div></div>",
                "<strong>Example 1:</strong><div></div>",
                "<strong>Input:</strong> poured = 1, query_glass = 1, query_row = 1<div></div>",
                "<strong>Output:</strong> 0.0<div></div>",
                "<strong>Explanation:</strong> We poured 1 cup of champange to the top glass of the tower (which is indexed as (0, 0)). There will be no excess liquid so all the glasses under the top glass will remain empty.<div></div>",
                "<div></div>",
                "<strong>Example 2:</strong><div></div>",
                "<strong>Input:</strong> poured = 2, query_glass = 1, query_row = 1<div></div>",
                "<strong>Output:</strong> 0.5<div></div>",
                "<strong>Explanation:</strong> We poured 2 cups of champange to the top glass of the tower (which is indexed as (0, 0)). There is one cup of excess liquid. The glass indexed as (1, 0) and the glass indexed as (1, 1) will share the excess liquid equally, and each will get half cup of champange.<div></div>",
                "</pre><div></div>",
                "<div></div>",
                "<p>&nbsp;</p><div></div>",
                "<div></div>",
                "<p><strong>Note:</strong></p><div></div>",
                "<div></div>",
                "<ul><div></div>",
                "\t<li><code>poured</code>&nbsp;will&nbsp;be&nbsp;in the range of <code>[0, 10 ^ 9]</code>.</li><div></div>",
                "\t<li><code>query_glass</code> and <code>query_row</code> will be in the range of <code>[0, 99]</code>.</li><div></div>",
                "</ul><div></div>",
                "<div></div>",
                "<p>&nbsp;</p><div></div>",
                "<div></div>"
            ],
            "metadata": {}
        },
        {
            "cell_type": "code",
            "metadata": {},
            "execution_count": null,
            "source": "%%writefile champagne_tower.py\nclass Solution:\n    def champagneTower(self, poured, query_row, query_glass):\n        \"\"\"\n        :type poured: int\n        :type query_row: int\n        :type query_glass: int\n        :rtype: float\n        \"\"\"",
            "outputs": []
        },
        {
            "cell_type": "code",
            "metadata": {},
            "execution_count": null,
            "source": "# submit\n%run ../../cli.py push --method=submit --path=champagne_tower.py --clean=True",
            "outputs": []
        }
    ]
}