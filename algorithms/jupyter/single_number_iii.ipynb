{
    "nbformat": 4,
    "nbformat_minor": 2,
    "metadata": {
        "kernelspec": {
            "display_name": "Python 3",
            "language": "python",
            "name": "python3"
        },
        "language_info": {
            "codemirror_mode": {
                "name": "ipython",
                "version": 3
            },
            "file_extension": ".py",
            "mimetype": "text/x-python",
            "name": "python",
            "nbconvert_exporter": "python",
            "pygments_lexer": "ipython3",
            "version": "3.7.2"
        }
    },
    "cells": [
        {
            "cell_type": "markdown",
            "source": [
                "<h1>Single Number III</h1>",
                "<p>Given an array of numbers <code>nums</code>, in which exactly two elements appear only once and all the other elements appear exactly twice. Find the two elements that appear only once.</p><div></div>",
                "<div></div>",
                "<p><strong>Example:</strong></p><div></div>",
                "<div></div>",
                "<pre><div></div>",
                "<strong>Input:</strong>  <code>[1,2,1,3,2,5]</code><div></div>",
                "<strong>Output:</strong> <code>[3,5]</code></pre><div></div>",
                "<div></div>",
                "<p><b>Note</b>:</p><div></div>",
                "<div></div>",
                "<ol><div></div>",
                "\t<li>The order of the result is not important. So in the above example, <code>[5, 3]</code> is also correct.</li><div></div>",
                "\t<li>Your algorithm should run in linear runtime complexity. Could you implement it using only constant space complexity?</li><div></div>",
                "</ol><div></div>"
            ],
            "metadata": {}
        },
        {
            "cell_type": "code",
            "metadata": {},
            "execution_count": null,
            "source": "%%writefile single_number_iii.py\nclass Solution:\n    def singleNumber(self, nums):\n        \"\"\"\n        :type nums: List[int]\n        :rtype: List[int]\n        \"\"\"",
            "outputs": []
        },
        {
            "cell_type": "code",
            "metadata": {},
            "execution_count": null,
            "source": "# submit\n%run ../../cli.py push --method=submit --path=single_number_iii.py --clean=True",
            "outputs": []
        }
    ]
}