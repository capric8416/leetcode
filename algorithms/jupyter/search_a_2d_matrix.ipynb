{
    "nbformat": 4,
    "nbformat_minor": 2,
    "metadata": {
        "kernelspec": {
            "display_name": "Python 3",
            "language": "python",
            "name": "python3"
        },
        "language_info": {
            "codemirror_mode": {
                "name": "ipython",
                "version": 3
            },
            "file_extension": ".py",
            "mimetype": "text/x-python",
            "name": "python",
            "nbconvert_exporter": "python",
            "pygments_lexer": "ipython3",
            "version": "3.7.2"
        }
    },
    "cells": [
        {
            "cell_type": "markdown",
            "source": [
                "<h1>Search a 2D Matrix</h1>",
                "<p>Write an efficient algorithm that searches for a value in an <em>m</em> x <em>n</em> matrix. This matrix has the following properties:</p><div></div>",
                "<div></div>",
                "<ul><div></div>",
                "\t<li>Integers in each row are sorted from left to right.</li><div></div>",
                "\t<li>The first integer of each row is greater than the last integer of the previous row.</li><div></div>",
                "</ul><div></div>",
                "<div></div>",
                "<p><strong>Example 1:</strong></p><div></div>",
                "<div></div>",
                "<pre><div></div>",
                "<strong>Input:</strong><div></div>",
                "matrix = [<div></div>",
                "  [1,   3,  5,  7],<div></div>",
                "  [10, 11, 16, 20],<div></div>",
                "  [23, 30, 34, 50]<div></div>",
                "]<div></div>",
                "target = 3<div></div>",
                "<strong>Output:</strong> true<div></div>",
                "</pre><div></div>",
                "<div></div>",
                "<p><strong>Example 2:</strong></p><div></div>",
                "<div></div>",
                "<pre><div></div>",
                "<strong>Input:</strong><div></div>",
                "matrix = [<div></div>",
                "  [1,   3,  5,  7],<div></div>",
                "  [10, 11, 16, 20],<div></div>",
                "  [23, 30, 34, 50]<div></div>",
                "]<div></div>",
                "target = 13<div></div>",
                "<strong>Output:</strong> false</pre><div></div>",
                "<div></div>"
            ],
            "metadata": {}
        },
        {
            "cell_type": "code",
            "metadata": {},
            "execution_count": null,
            "source": "%%writefile search_a_2d_matrix.py\nclass Solution:\n    def searchMatrix(self, matrix, target):\n        \"\"\"\n        :type matrix: List[List[int]]\n        :type target: int\n        :rtype: bool\n        \"\"\"",
            "outputs": []
        },
        {
            "cell_type": "code",
            "metadata": {},
            "execution_count": null,
            "source": "# submit\n%run ../../cli.py push --method=submit --path=search_a_2d_matrix.py --clean=True",
            "outputs": []
        }
    ]
}