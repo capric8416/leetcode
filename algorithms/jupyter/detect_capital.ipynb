{
    "nbformat": 4,
    "nbformat_minor": 2,
    "metadata": {
        "kernelspec": {
            "display_name": "Python 3",
            "language": "python",
            "name": "python3"
        },
        "language_info": {
            "codemirror_mode": {
                "name": "ipython",
                "version": 3
            },
            "file_extension": ".py",
            "mimetype": "text/x-python",
            "name": "python",
            "nbconvert_exporter": "python",
            "pygments_lexer": "ipython3",
            "version": "3.7.2"
        }
    },
    "cells": [
        {
            "cell_type": "markdown",
            "source": [
                "<h1>Detect Capital</h1>",
                "<p><div></div>",
                "Given a word, you need to judge whether the usage of capitals in it is right or not.<div></div>",
                "</p><div></div>",
                "<div></div>",
                "<p><div></div>",
                "We define the usage of capitals in a word to be right when one of the following cases holds:<div></div>",
                "<ol><div></div>",
                "<li>All letters in this word are capitals, like \"USA\".</li><div></div>",
                "<li>All letters in this word are not capitals, like \"leetcode\".</li><div></div>",
                "<li>Only the first letter in this word is capital if it has more than one letter, like \"Google\".</li><div></div>",
                "</ol><div></div>",
                "Otherwise, we define that this word doesn't use capitals in a right way.<div></div>",
                "</p><div></div>",
                "<div></div>",
                "<div></div>",
                "<p><b>Example 1:</b><br /><div></div>",
                "<pre><div></div>",
                "<b>Input:</b> \"USA\"<div></div>",
                "<b>Output:</b> True<div></div>",
                "</pre><div></div>",
                "</p><div></div>",
                "<div></div>",
                "<p><b>Example 2:</b><br /><div></div>",
                "<pre><div></div>",
                "<b>Input:</b> \"FlaG\"<div></div>",
                "<b>Output:</b> False<div></div>",
                "</pre><div></div>",
                "</p><div></div>",
                "<div></div>",
                "<p><b>Note:</b><div></div>",
                "The input will be a non-empty word consisting of uppercase and lowercase latin letters.<div></div>",
                "</p><div></div>"
            ],
            "metadata": {}
        },
        {
            "cell_type": "code",
            "metadata": {},
            "execution_count": null,
            "source": "%%writefile detect_capital.py\nclass Solution:\n    def detectCapitalUse(self, word):\n        \"\"\"\n        :type word: str\n        :rtype: bool\n        \"\"\"",
            "outputs": []
        },
        {
            "cell_type": "code",
            "metadata": {},
            "execution_count": null,
            "source": "# submit\n%run ../../cli.py push --method=submit --path=detect_capital.py --clean=True",
            "outputs": []
        }
    ]
}