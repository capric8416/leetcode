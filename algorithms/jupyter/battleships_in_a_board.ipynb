{
    "nbformat": 4,
    "nbformat_minor": 2,
    "metadata": {
        "kernelspec": {
            "display_name": "Python 3",
            "language": "python",
            "name": "python3"
        },
        "language_info": {
            "codemirror_mode": {
                "name": "ipython",
                "version": 3
            },
            "file_extension": ".py",
            "mimetype": "text/x-python",
            "name": "python",
            "nbconvert_exporter": "python",
            "pygments_lexer": "ipython3",
            "version": "3.7.2"
        }
    },
    "cells": [
        {
            "cell_type": "markdown",
            "source": [
                "<h1>Battleships in a Board</h1>",
                "Given an 2D board, count how many battleships are in it. The battleships are represented with <code>'X'</code>s, empty slots are represented with <code>'.'</code>s. You may assume the following rules:<div></div>",
                "<div></div>",
                "<ul><div></div>",
                "<li>You receive a valid board, made of only battleships or empty slots.</li><div></div>",
                "<li>Battleships can only be placed horizontally or vertically. In other words, they can only be made of the shape <code>1xN</code> (1 row, N columns) or <code>Nx1</code> (N rows, 1 column), where N can be of any size.</li><div></div>",
                "<li>At least one horizontal or vertical cell separates between two battleships - there are no adjacent battleships.</li><div></div>",
                "</ul><div></div>",
                "<div></div>",
                "<p><b>Example:</b><br /><div></div>",
                "<pre>X..X<div></div>",
                "...X<div></div>",
                "...X<div></div>",
                "</pre><div></div>",
                "In the above board there are 2 battleships.<div></div>",
                "<div></div>",
                "<p><b>Invalid Example:</b><br /><div></div>",
                "<pre>...X<div></div>",
                "XXXX<div></div>",
                "...X<div></div>",
                "</pre><div></div>",
                "This is an invalid board that you will not receive - as battleships will always have a cell separating between them.<div></div>",
                "<p></p><div></div>",
                "<p><b>Follow up:</b><br>Could you do it in <b>one-pass</b>, using only <b>O(1) extra memory</b> and <b>without modifying</b> the value of the board?</p><div></div>"
            ],
            "metadata": {}
        },
        {
            "cell_type": "code",
            "metadata": {},
            "execution_count": null,
            "source": "%%writefile battleships_in_a_board.py\nclass Solution:\n    def countBattleships(self, board):\n        \"\"\"\n        :type board: List[List[str]]\n        :rtype: int\n        \"\"\"",
            "outputs": []
        },
        {
            "cell_type": "code",
            "metadata": {},
            "execution_count": null,
            "source": "# submit\n%run ../../cli.py push --method=submit --path=battleships_in_a_board.py --clean=True",
            "outputs": []
        }
    ]
}