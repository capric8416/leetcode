{
    "nbformat": 4,
    "nbformat_minor": 2,
    "metadata": {
        "kernelspec": {
            "display_name": "Python 3",
            "language": "python",
            "name": "python3"
        },
        "language_info": {
            "codemirror_mode": {
                "name": "ipython",
                "version": 3
            },
            "file_extension": ".py",
            "mimetype": "text/x-python",
            "name": "python",
            "nbconvert_exporter": "python",
            "pygments_lexer": "ipython3",
            "version": "3.7.2"
        }
    },
    "cells": [
        {
            "cell_type": "markdown",
            "source": [
                "<h1>Arranging Coins</h1>",
                "<p>You have a total of <i>n</i> coins that you want to form in a staircase shape, where every <i>k</i>-th row must have exactly <i>k</i> coins.</p><div></div>",
                " <div></div>",
                "<p>Given <i>n</i>, find the total number of <b>full</b> staircase rows that can be formed.</p><div></div>",
                "<div></div>",
                "<p><i>n</i> is a non-negative integer and fits within the range of a 32-bit signed integer.</p><div></div>",
                "<div></div>",
                "<p><b>Example 1:</b><div></div>",
                "<pre><div></div>",
                "n = 5<div></div>",
                "<div></div>",
                "The coins can form the following rows:<div></div>",
                "\u00a4<div></div>",
                "\u00a4 \u00a4<div></div>",
                "\u00a4 \u00a4<div></div>",
                "<div></div>",
                "Because the 3rd row is incomplete, we return 2.<div></div>",
                "</pre><div></div>",
                "</p><div></div>",
                "<div></div>",
                "<p><b>Example 2:</b><div></div>",
                "<pre><div></div>",
                "n = 8<div></div>",
                "<div></div>",
                "The coins can form the following rows:<div></div>",
                "\u00a4<div></div>",
                "\u00a4 \u00a4<div></div>",
                "\u00a4 \u00a4 \u00a4<div></div>",
                "\u00a4 \u00a4<div></div>",
                "<div></div>",
                "Because the 4th row is incomplete, we return 3.<div></div>",
                "</pre><div></div>",
                "</p><div></div>"
            ],
            "metadata": {}
        },
        {
            "cell_type": "code",
            "metadata": {},
            "execution_count": null,
            "source": "%%writefile arranging_coins.py\nclass Solution:\n    def arrangeCoins(self, n):\n        \"\"\"\n        :type n: int\n        :rtype: int\n        \"\"\"",
            "outputs": []
        },
        {
            "cell_type": "code",
            "metadata": {},
            "execution_count": null,
            "source": "# submit\n%run ../../cli.py push --method=submit --path=arranging_coins.py --clean=True",
            "outputs": []
        }
    ]
}