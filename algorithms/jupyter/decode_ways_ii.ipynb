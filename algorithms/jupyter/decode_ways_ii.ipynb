{
    "nbformat": 4,
    "nbformat_minor": 2,
    "metadata": {
        "kernelspec": {
            "display_name": "Python 3",
            "language": "python",
            "name": "python3"
        },
        "language_info": {
            "codemirror_mode": {
                "name": "ipython",
                "version": 3
            },
            "file_extension": ".py",
            "mimetype": "text/x-python",
            "name": "python",
            "nbconvert_exporter": "python",
            "pygments_lexer": "ipython3",
            "version": "3.7.2"
        }
    },
    "cells": [
        {
            "cell_type": "markdown",
            "source": [
                "<h1>Decode Ways II</h1>",
                "<p><div></div>",
                "A message containing letters from <code>A-Z</code> is being encoded to numbers using the following mapping way:<div></div>",
                "</p><div></div>",
                "<div></div>",
                "<pre><div></div>",
                "'A' -> 1<div></div>",
                "'B' -> 2<div></div>",
                "...<div></div>",
                "'Z' -> 26<div></div>",
                "</pre><div></div>",
                "<div></div>",
                "<p><div></div>",
                "Beyond that, now the encoded string can also contain the character '*', which can be treated as one of the numbers from 1 to 9.<div></div>",
                "</p><div></div>",
                "<div></div>",
                "<div></div>",
                "<p><div></div>",
                "Given the encoded message containing digits and the character '*', return the total number of ways to decode it.<div></div>",
                "</p><div></div>",
                "<div></div>",
                "<p><div></div>",
                "Also, since the answer may be very large, you should return the output mod 10<sup>9</sup> + 7.<div></div>",
                "</p><div></div>",
                "<div></div>",
                "<p><b>Example 1:</b><br /><div></div>",
                "<pre><div></div>",
                "<b>Input:</b> \"*\"<div></div>",
                "<b>Output:</b> 9<div></div>",
                "<b>Explanation:</b> The encoded message can be decoded to the string: \"A\", \"B\", \"C\", \"D\", \"E\", \"F\", \"G\", \"H\", \"I\".<div></div>",
                "</pre><div></div>",
                "</p><div></div>",
                "<div></div>",
                "<p><b>Example 2:</b><br /><div></div>",
                "<pre><div></div>",
                "<b>Input:</b> \"1*\"<div></div>",
                "<b>Output:</b> 9 + 9 = 18<div></div>",
                "</pre><div></div>",
                "</p><div></div>",
                "<div></div>",
                "<p><b>Note:</b><br><div></div>",
                "<ol><div></div>",
                "<li>The length of the input string will fit in range [1, 10<sup>5</sup>].</li><div></div>",
                "<li>The input string will only contain the character '*' and digits '0' - '9'.</li><div></div>",
                "</ol><div></div>",
                "</p><div></div>"
            ],
            "metadata": {}
        },
        {
            "cell_type": "code",
            "metadata": {},
            "execution_count": null,
            "source": "%%writefile decode_ways_ii.py\nclass Solution:\n    def numDecodings(self, s):\n        \"\"\"\n        :type s: str\n        :rtype: int\n        \"\"\"",
            "outputs": []
        },
        {
            "cell_type": "code",
            "metadata": {},
            "execution_count": null,
            "source": "# submit\n%run ../../cli.py push --method=submit --path=decode_ways_ii.py --clean=True",
            "outputs": []
        }
    ]
}