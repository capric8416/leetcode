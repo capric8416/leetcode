{
    "nbformat": 4,
    "nbformat_minor": 2,
    "metadata": {
        "kernelspec": {
            "display_name": "Python 3",
            "language": "python",
            "name": "python3"
        },
        "language_info": {
            "codemirror_mode": {
                "name": "ipython",
                "version": 3
            },
            "file_extension": ".py",
            "mimetype": "text/x-python",
            "name": "python",
            "nbconvert_exporter": "python",
            "pygments_lexer": "ipython3",
            "version": "3.7.2"
        }
    },
    "cells": [
        {
            "cell_type": "markdown",
            "source": [
                "<h1>Delete Columns to Make Sorted III</h1>",
                "<p>We are given an array&nbsp;<code>A</code> of <code>N</code> lowercase letter strings, all of the same length.</p><div></div>",
                "<div></div>",
                "<p>Now, we may choose any set of deletion indices, and for each string, we delete all the characters in those indices.</p><div></div>",
                "<div></div>",
                "<p>For example, if we have an array <code>A = [&quot;babca&quot;,&quot;bbazb&quot;]</code> and deletion indices <code>{0, 1, 4}</code>, then the final array after deletions is <code>[&quot;bc&quot;,&quot;az&quot;]</code>.</p><div></div>",
                "<div></div>",
                "<p>Suppose we chose a set of deletion indices <code>D</code> such that after deletions, the final array has <strong>every element (row) in&nbsp;lexicographic</strong> order.</p><div></div>",
                "<div></div>",
                "<p>For clarity, <code>A[0]</code> is in lexicographic order (ie. <code>A[0][0] &lt;= A[0][1] &lt;= ... &lt;= A[0][A[0].length - 1]</code>), <code>A[1]</code> is in lexicographic order (ie. <code>A[1][0] &lt;= A[1][1] &lt;= ... &lt;= A[1][A[1].length - 1]</code>), and so on.</p><div></div>",
                "<div></div>",
                "<p>Return the minimum possible value of <code>D.length</code>.</p><div></div>",
                "<div></div>",
                "<p>&nbsp;</p><div></div>",
                "<div></div>",
                "<div><div></div>",
                "<p><strong>Example 1:</strong></p><div></div>",
                "<div></div>",
                "<pre><div></div>",
                "<strong>Input: </strong><span id=\"example-input-1-1\">[&quot;babca&quot;,&quot;bbazb&quot;]</span><div></div>",
                "<strong>Output: </strong><span id=\"example-output-1\">3</span><div></div>",
                "<strong>Explanation: </strong>After deleting columns 0, 1, and 4, the final array is A = [&quot;bc&quot;, &quot;az&quot;].<div></div>",
                "Both these rows are individually in lexicographic order (ie. A[0][0] &lt;= A[0][1] and A[1][0] &lt;= A[1][1]).<div></div>",
                "Note that A[0] &gt; A[1] - the array A isn&#39;t necessarily in lexicographic order.<div></div>",
                "</pre><div></div>",
                "<div></div>",
                "<div><div></div>",
                "<p><strong>Example 2:</strong></p><div></div>",
                "<div></div>",
                "<pre><div></div>",
                "<strong>Input: </strong><span id=\"example-input-2-1\">[&quot;edcba&quot;]</span><div></div>",
                "<strong>Output: </strong><span id=\"example-output-2\">4</span><div></div>",
                "<strong>Explanation: </strong>If we delete less than 4 columns, the only row won&#39;t be lexicographically sorted.<div></div>",
                "</pre><div></div>",
                "<div></div>",
                "<div><div></div>",
                "<p><strong>Example 3:</strong></p><div></div>",
                "<div></div>",
                "<pre><div></div>",
                "<strong>Input: </strong><span id=\"example-input-3-1\">[&quot;ghi&quot;,&quot;def&quot;,&quot;abc&quot;]</span><div></div>",
                "<strong>Output: </strong><span id=\"example-output-3\">0</span><div></div>",
                "<strong>Explanation: </strong>All rows are already lexicographically sorted.<div></div>",
                "</pre><div></div>",
                "<div></div>",
                "<p>&nbsp;</p><div></div>",
                "</div><div></div>",
                "</div><div></div>",
                "</div><div></div>",
                "<div></div>",
                "<p><strong>Note:</strong></p><div></div>",
                "<div></div>",
                "<ol><div></div>",
                "\t<li><code>1 &lt;= A.length &lt;= 100</code></li><div></div>",
                "\t<li><code>1 &lt;= A[i].length &lt;= 100</code></li><div></div>",
                "</ol><div></div>"
            ],
            "metadata": {}
        },
        {
            "cell_type": "code",
            "metadata": {},
            "execution_count": null,
            "source": "%%writefile delete_columns_to_make_sorted_iii.py\nclass Solution:\n    def minDeletionSize(self, A):\n        \"\"\"\n        :type A: List[str]\n        :rtype: int\n        \"\"\"",
            "outputs": []
        },
        {
            "cell_type": "code",
            "metadata": {},
            "execution_count": null,
            "source": "# submit\n%run ../../cli.py push --method=submit --path=delete_columns_to_make_sorted_iii.py --clean=True",
            "outputs": []
        }
    ]
}