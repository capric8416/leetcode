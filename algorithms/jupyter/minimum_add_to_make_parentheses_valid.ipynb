{
    "nbformat": 4,
    "nbformat_minor": 2,
    "metadata": {
        "kernelspec": {
            "display_name": "Python 3",
            "language": "python",
            "name": "python3"
        },
        "language_info": {
            "codemirror_mode": {
                "name": "ipython",
                "version": 3
            },
            "file_extension": ".py",
            "mimetype": "text/x-python",
            "name": "python",
            "nbconvert_exporter": "python",
            "pygments_lexer": "ipython3",
            "version": "3.7.2"
        }
    },
    "cells": [
        {
            "cell_type": "markdown",
            "source": [
                "<h1>Minimum Add to Make Parentheses Valid</h1>",
                "<p>Given a string&nbsp;<code>S</code> of <code>&#39;(&#39;</code> and <code>&#39;)&#39;</code> parentheses, we add the minimum number of parentheses ( <code>&#39;(&#39;</code> or <code>&#39;)&#39;</code>, and in any positions ) so that the resulting parentheses string is valid.</p><div></div>",
                "<div></div>",
                "<p>Formally, a parentheses string is valid if and only if:</p><div></div>",
                "<div></div>",
                "<ul><div></div>",
                "\t<li>It is the empty string, or</li><div></div>",
                "\t<li>It can be written as <code>AB</code>&nbsp;(<code>A</code> concatenated with <code>B</code>), where <code>A</code> and <code>B</code> are valid strings, or</li><div></div>",
                "\t<li>It can be written as <code>(A)</code>, where <code>A</code> is a valid string.</li><div></div>",
                "</ul><div></div>",
                "<div></div>",
                "<p>Given a parentheses string, return the minimum number of parentheses we must add to make the resulting string valid.</p><div></div>",
                "<div></div>",
                "<p>&nbsp;</p><div></div>",
                "<div></div>",
                "<p><strong>Example 1:</strong></p><div></div>",
                "<div></div>",
                "<pre><div></div>",
                "<strong>Input: </strong><span id=\"example-input-1-1\">&quot;())&quot;</span><div></div>",
                "<strong>Output: </strong><span id=\"example-output-1\">1</span><div></div>",
                "</pre><div></div>",
                "<div></div>",
                "<div><div></div>",
                "<p><strong>Example 2:</strong></p><div></div>",
                "<div></div>",
                "<pre><div></div>",
                "<strong>Input: </strong><span id=\"example-input-2-1\">&quot;(((&quot;</span><div></div>",
                "<strong>Output: </strong><span id=\"example-output-2\">3</span><div></div>",
                "</pre><div></div>",
                "<div></div>",
                "<div><div></div>",
                "<p><strong>Example 3:</strong></p><div></div>",
                "<div></div>",
                "<pre><div></div>",
                "<strong>Input: </strong><span id=\"example-input-3-1\">&quot;()&quot;</span><div></div>",
                "<strong>Output: </strong><span id=\"example-output-3\">0</span><div></div>",
                "</pre><div></div>",
                "<div></div>",
                "<div><div></div>",
                "<p><strong>Example 4:</strong></p><div></div>",
                "<div></div>",
                "<pre><div></div>",
                "<strong>Input: </strong><span id=\"example-input-4-1\">&quot;()))((&quot;</span><div></div>",
                "<strong>Output: </strong><span id=\"example-output-4\">4</span></pre><div></div>",
                "<div></div>",
                "<p>&nbsp;</p><div></div>",
                "</div><div></div>",
                "</div><div></div>",
                "</div><div></div>",
                "<div></div>",
                "<p><strong>Note:</strong></p><div></div>",
                "<div></div>",
                "<ol><div></div>",
                "\t<li><code>S.length &lt;= 1000</code></li><div></div>",
                "\t<li><code>S</code> only consists of <code>&#39;(&#39;</code> and <code>&#39;)&#39;</code> characters.</li><div></div>",
                "</ol><div></div>",
                "<div></div>",
                "<div><div></div>",
                "<div><div></div>",
                "<div><div></div>",
                "<div>&nbsp;</div><div></div>",
                "</div><div></div>",
                "</div><div></div>",
                "</div><div></div>"
            ],
            "metadata": {}
        },
        {
            "cell_type": "code",
            "metadata": {},
            "execution_count": null,
            "source": "%%writefile minimum_add_to_make_parentheses_valid.py\nclass Solution:\n    def minAddToMakeValid(self, S):\n        \"\"\"\n        :type S: str\n        :rtype: int\n        \"\"\"",
            "outputs": []
        },
        {
            "cell_type": "code",
            "metadata": {},
            "execution_count": null,
            "source": "# submit\n%run ../../cli.py push --method=submit --path=minimum_add_to_make_parentheses_valid.py --clean=True",
            "outputs": []
        }
    ]
}