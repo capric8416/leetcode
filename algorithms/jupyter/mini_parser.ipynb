{
    "nbformat": 4,
    "nbformat_minor": 2,
    "metadata": {
        "kernelspec": {
            "display_name": "Python 3",
            "language": "python",
            "name": "python3"
        },
        "language_info": {
            "codemirror_mode": {
                "name": "ipython",
                "version": 3
            },
            "file_extension": ".py",
            "mimetype": "text/x-python",
            "name": "python",
            "nbconvert_exporter": "python",
            "pygments_lexer": "ipython3",
            "version": "3.7.2"
        }
    },
    "cells": [
        {
            "cell_type": "markdown",
            "source": [
                "<h1>Mini Parser</h1>",
                "<p>Given a nested list of integers represented as a string, implement a parser to deserialize it.</p><div></div>",
                "<div></div>",
                "<p>Each element is either an integer, or a list -- whose elements may also be integers or other lists.</p><div></div>",
                "<div></div>",
                "<p><b>Note:</b><div></div>",
                "You may assume that the string is well-formed:<div></div>",
                "<ul><div></div>",
                "<li>String is non-empty.</li><div></div>",
                "<li>String does not contain white spaces.</li><div></div>",
                "<li>String contains only digits <code>0-9</code>, <code>[</code>, <code>-</code> <code>,</code>, <code>]</code>.</li><div></div>",
                "</ul><div></div>",
                "</p><div></div>",
                "<div></div>",
                "<p><b>Example 1:</b><div></div>",
                "<pre><div></div>",
                "Given s = \"324\",<div></div>",
                "<div></div>",
                "You should return a NestedInteger object which contains a single integer 324.<div></div>",
                "</pre><div></div>",
                "</p><div></div>",
                "<div></div>",
                "<p><b>Example 2:</b><div></div>",
                "<pre><div></div>",
                "Given s = \"[123,[456,[789]]]\",<div></div>",
                "<div></div>",
                "Return a NestedInteger object containing a nested list with 2 elements:<div></div>",
                "<div></div>",
                "1. An integer containing value 123.<div></div>",
                "2. A nested list containing two elements:<div></div>",
                "    i.  An integer containing value 456.<div></div>",
                "    ii. A nested list with one element:<div></div>",
                "         a. An integer containing value 789.<div></div>",
                "</pre><div></div>",
                "</p><div></div>"
            ],
            "metadata": {}
        },
        {
            "cell_type": "code",
            "metadata": {},
            "execution_count": null,
            "source": "%%writefile mini_parser.py\n# \"\"\"\n# This is the interface that allows for creating nested lists.\n# You should not implement it, or speculate about its implementation\n# \"\"\"\n#class NestedInteger:\n#    def __init__(self, value=None):\n#        \"\"\"\n#        If value is not specified, initializes an empty list.\n#        Otherwise initializes a single integer equal to value.\n#        \"\"\"\n#\n#    def isInteger(self):\n#        \"\"\"\n#        @return True if this NestedInteger holds a single integer, rather than a nested list.\n#        :rtype bool\n#        \"\"\"\n#\n#    def add(self, elem):\n#        \"\"\"\n#        Set this NestedInteger to hold a nested list and adds a nested integer elem to it.\n#        :rtype void\n#        \"\"\"\n#\n#    def setInteger(self, value):\n#        \"\"\"\n#        Set this NestedInteger to hold a single integer equal to value.\n#        :rtype void\n#        \"\"\"\n#\n#    def getInteger(self):\n#        \"\"\"\n#        @return the single integer that this NestedInteger holds, if it holds a single integer\n#        Return None if this NestedInteger holds a nested list\n#        :rtype int\n#        \"\"\"\n#\n#    def getList(self):\n#        \"\"\"\n#        @return the nested list that this NestedInteger holds, if it holds a nested list\n#        Return None if this NestedInteger holds a single integer\n#        :rtype List[NestedInteger]\n#        \"\"\"\n\nclass Solution:\n    def deserialize(self, s):\n        \"\"\"\n        :type s: str\n        :rtype: NestedInteger\n        \"\"\"",
            "outputs": []
        },
        {
            "cell_type": "code",
            "metadata": {},
            "execution_count": null,
            "source": "# submit\n%run ../../cli.py push --method=submit --path=mini_parser.py --clean=True",
            "outputs": []
        }
    ]
}