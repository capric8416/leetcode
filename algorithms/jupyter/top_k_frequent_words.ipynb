{
    "nbformat": 4,
    "nbformat_minor": 2,
    "metadata": {
        "kernelspec": {
            "display_name": "Python 3",
            "language": "python",
            "name": "python3"
        },
        "language_info": {
            "codemirror_mode": {
                "name": "ipython",
                "version": 3
            },
            "file_extension": ".py",
            "mimetype": "text/x-python",
            "name": "python",
            "nbconvert_exporter": "python",
            "pygments_lexer": "ipython3",
            "version": "3.7.2"
        }
    },
    "cells": [
        {
            "cell_type": "markdown",
            "source": [
                "<h1>Top K Frequent Words</h1>",
                "<p>Given a non-empty list of words, return the <i>k</i> most frequent elements.</p><div></div>",
                "<p>Your answer should be sorted by frequency from highest to lowest. If two words have the same frequency, then the word with the lower alphabetical order comes first.</p><div></div>",
                "<div></div>",
                "<p><b>Example 1:</b><br /><div></div>",
                "<pre><div></div>",
                "<b>Input:</b> [\"i\", \"love\", \"leetcode\", \"i\", \"love\", \"coding\"], k = 2<div></div>",
                "<b>Output:</b> [\"i\", \"love\"]<div></div>",
                "<b>Explanation:</b> \"i\" and \"love\" are the two most frequent words.<div></div>",
                "    Note that \"i\" comes before \"love\" due to a lower alphabetical order.<div></div>",
                "</pre><div></div>",
                "</p><div></div>",
                "<div></div>",
                "<p><b>Example 2:</b><br /><div></div>",
                "<pre><div></div>",
                "<b>Input:</b> [\"the\", \"day\", \"is\", \"sunny\", \"the\", \"the\", \"the\", \"sunny\", \"is\", \"is\"], k = 4<div></div>",
                "<b>Output:</b> [\"the\", \"is\", \"sunny\", \"day\"]<div></div>",
                "<b>Explanation:</b> \"the\", \"is\", \"sunny\" and \"day\" are the four most frequent words,<div></div>",
                "    with the number of occurrence being 4, 3, 2 and 1 respectively.<div></div>",
                "</pre><div></div>",
                "</p><div></div>",
                "<div></div>",
                "<p><b>Note:</b><br><div></div>",
                "<ol><div></div>",
                "<li>You may assume <i>k</i> is always valid, 1 &le; <i>k</i> &le; number of unique elements.</li><div></div>",
                "<li>Input words contain only lowercase letters.</li><div></div>",
                "</ol><div></div>",
                "</p><div></div>",
                "<div></div>",
                "<p><b>Follow up:</b><br /><div></div>",
                "<ol><div></div>",
                "<li>Try to solve it in <i>O</i>(<i>n</i> log <i>k</i>) time and <i>O</i>(<i>n</i>) extra space.</li><div></div>",
                "</ol><div></div>",
                "</p><div></div>"
            ],
            "metadata": {}
        },
        {
            "cell_type": "code",
            "metadata": {},
            "execution_count": null,
            "source": "%%writefile top_k_frequent_words.py\nclass Solution:\n    def topKFrequent(self, words, k):\n        \"\"\"\n        :type words: List[str]\n        :type k: int\n        :rtype: List[str]\n        \"\"\"",
            "outputs": []
        },
        {
            "cell_type": "code",
            "metadata": {},
            "execution_count": null,
            "source": "# submit\n%run ../../cli.py push --method=submit --path=top_k_frequent_words.py --clean=True",
            "outputs": []
        }
    ]
}