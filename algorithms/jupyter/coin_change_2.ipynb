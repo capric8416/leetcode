{
    "nbformat": 4,
    "nbformat_minor": 2,
    "metadata": {
        "kernelspec": {
            "display_name": "Python 3",
            "language": "python",
            "name": "python3"
        },
        "language_info": {
            "codemirror_mode": {
                "name": "ipython",
                "version": 3
            },
            "file_extension": ".py",
            "mimetype": "text/x-python",
            "name": "python",
            "nbconvert_exporter": "python",
            "pygments_lexer": "ipython3",
            "version": "3.7.2"
        }
    },
    "cells": [
        {
            "cell_type": "markdown",
            "source": [
                "<h1>Coin Change 2</h1>",
                "<p>You are given coins of different denominations and a total amount of money. Write a function to compute the number of combinations that make up that amount. You may assume that you have infinite number of each kind of coin.</p><div></div>",
                "<div></div>",
                "<ul><div></div>",
                "</ul><div></div>",
                "<div></div>",
                "<p>&nbsp;</p><div></div>",
                "<div></div>",
                "<p><b>Example 1:</b></p><div></div>",
                "<div></div>",
                "<pre><div></div>",
                "<b>Input:</b> amount = 5, coins = [1, 2, 5]<div></div>",
                "<b>Output:</b> 4<div></div>",
                "<b>Explanation:</b> there are four ways to make up the amount:<div></div>",
                "5=5<div></div>",
                "5=2+2+1<div></div>",
                "5=2+1+1+1<div></div>",
                "5=1+1+1+1+1<div></div>",
                "</pre><div></div>",
                "<div></div>",
                "<p><b>Example 2:</b></p><div></div>",
                "<div></div>",
                "<pre><div></div>",
                "<b>Input:</b> amount = 3, coins = [2]<div></div>",
                "<b>Output:</b> 0<div></div>",
                "<b>Explanation:</b> the amount of 3 cannot be made up just with coins of 2.<div></div>",
                "</pre><div></div>",
                "<div></div>",
                "<p><b>Example 3:</b></p><div></div>",
                "<div></div>",
                "<pre><div></div>",
                "<b>Input:</b> amount = 10, coins = [10] <div></div>",
                "<b>Output:</b> 1<div></div>",
                "</pre><div></div>",
                "<div></div>",
                "<p>&nbsp;</p><div></div>",
                "<div></div>",
                "<p><b>Note:</b></p><div></div>",
                "<div></div>",
                "<p>You can assume that</p><div></div>",
                "<div></div>",
                "<ul><div></div>",
                "\t<li>0 &lt;= amount &lt;= 5000</li><div></div>",
                "\t<li>1 &lt;= coin &lt;= 5000</li><div></div>",
                "\t<li>the number of coins is less than 500</li><div></div>",
                "\t<li>the answer is guaranteed to fit into signed 32-bit integer</li><div></div>",
                "</ul><div></div>",
                "<div></div>"
            ],
            "metadata": {}
        },
        {
            "cell_type": "code",
            "metadata": {},
            "execution_count": null,
            "source": "%%writefile coin_change_2.py\nclass Solution:\n    def change(self, amount, coins):\n        \"\"\"\n        :type amount: int\n        :type coins: List[int]\n        :rtype: int\n        \"\"\"",
            "outputs": []
        },
        {
            "cell_type": "code",
            "metadata": {},
            "execution_count": null,
            "source": "# submit\n%run ../../cli.py push --method=submit --path=coin_change_2.py --clean=True",
            "outputs": []
        }
    ]
}