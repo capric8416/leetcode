{
    "nbformat": 4,
    "nbformat_minor": 2,
    "metadata": {
        "kernelspec": {
            "display_name": "Python 3",
            "language": "python",
            "name": "python3"
        },
        "language_info": {
            "codemirror_mode": {
                "name": "ipython",
                "version": 3
            },
            "file_extension": ".py",
            "mimetype": "text/x-python",
            "name": "python",
            "nbconvert_exporter": "python",
            "pygments_lexer": "ipython3",
            "version": "3.7.2"
        }
    },
    "cells": [
        {
            "cell_type": "markdown",
            "source": [
                "<h1>Smallest Subtree with all the Deepest Nodes</h1>",
                "<p>Given a binary tree rooted at <code>root</code>, the <em>depth</em> of each node is the shortest distance to the root.</p><div></div>",
                "<div></div>",
                "<p>A node is <em>deepest</em> if it has the largest depth possible among&nbsp;any node in the <u>entire tree</u>.</p><div></div>",
                "<div></div>",
                "<p>The subtree of a node is that node, plus the set of all descendants of that node.</p><div></div>",
                "<div></div>",
                "<p>Return the node with the largest depth such that it contains all the deepest nodes in its subtree.</p><div></div>",
                "<div></div>",
                "<p>&nbsp;</p><div></div>",
                "<div></div>",
                "<p><strong>Example 1:</strong></p><div></div>",
                "<div></div>",
                "<pre><div></div>",
                "<strong>Input: </strong><span id=\"example-input-1-1\">[3,5,1,6,2,0,8,null,null,7,4]</span><div></div>",
                "<strong>Output: </strong><span id=\"example-output-1\">[2,7,4]</span><div></div>",
                "<strong>Explanation:<div></div>",
                "</strong><div></div>",
                "<img alt=\"\" src=\"https://s3-lc-upload.s3.amazonaws.com/uploads/2018/07/01/sketch1.png\" style=\"width: 280px; height: 238px;\" /><div></div>",
                "<div></div>",
                "We return the node with value 2, colored in yellow in the diagram.<div></div>",
                "The nodes colored in blue are the deepest nodes of the tree.<div></div>",
                "The input &quot;[3, 5, 1, 6, 2, 0, 8, null, null, 7, 4]&quot; is a serialization of the given tree.<div></div>",
                "The output &quot;[2, 7, 4]&quot; is a serialization of the subtree rooted at the node with value 2.<div></div>",
                "Both the input and output have TreeNode type.<div></div>",
                "</pre><div></div>",
                "<div></div>",
                "<p>&nbsp;</p><div></div>",
                "<div></div>",
                "<p><strong>Note:</strong></p><div></div>",
                "<div></div>",
                "<ul><div></div>",
                "\t<li>The number of nodes in the tree will be between 1 and 500.</li><div></div>",
                "\t<li>The values of each node are unique.</li><div></div>",
                "</ul><div></div>",
                "<div></div>"
            ],
            "metadata": {}
        },
        {
            "cell_type": "code",
            "metadata": {},
            "execution_count": null,
            "source": "%%writefile smallest_subtree_with_all_the_deepest_nodes.py\n# Definition for a binary tree node.\n# class TreeNode:\n#     def __init__(self, x):\n#         self.val = x\n#         self.left = None\n#         self.right = None\n\nclass Solution:\n    def subtreeWithAllDeepest(self, root):\n        \"\"\"\n        :type root: TreeNode\n        :rtype: TreeNode\n        \"\"\"",
            "outputs": []
        },
        {
            "cell_type": "code",
            "metadata": {},
            "execution_count": null,
            "source": "# submit\n%run ../../cli.py push --method=submit --path=smallest_subtree_with_all_the_deepest_nodes.py --clean=True",
            "outputs": []
        }
    ]
}