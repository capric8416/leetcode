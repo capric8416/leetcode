{
    "nbformat": 4,
    "nbformat_minor": 2,
    "metadata": {
        "kernelspec": {
            "display_name": "Python 3",
            "language": "python",
            "name": "python3"
        },
        "language_info": {
            "codemirror_mode": {
                "name": "ipython",
                "version": 3
            },
            "file_extension": ".py",
            "mimetype": "text/x-python",
            "name": "python",
            "nbconvert_exporter": "python",
            "pygments_lexer": "ipython3",
            "version": "3.7.2"
        }
    },
    "cells": [
        {
            "cell_type": "markdown",
            "source": [
                "<h1>Word Break II</h1>",
                "<p>Given a <strong>non-empty</strong> string <em>s</em> and a dictionary <em>wordDict</em> containing a list of <strong>non-empty</strong> words, add spaces in <em>s</em> to construct a sentence where each word is a valid dictionary word.&nbsp;Return all such possible sentences.</p><div></div>",
                "<div></div>",
                "<p><strong>Note:</strong></p><div></div>",
                "<div></div>",
                "<ul><div></div>",
                "\t<li>The same word in the dictionary may be reused multiple times in the segmentation.</li><div></div>",
                "\t<li>You may assume the dictionary does not contain duplicate words.</li><div></div>",
                "</ul><div></div>",
                "<div></div>",
                "<p><strong>Example 1:</strong></p><div></div>",
                "<div></div>",
                "<pre><div></div>",
                "<strong>Input:<div></div>",
                "</strong>s = &quot;<code>catsanddog</code>&quot;<div></div>",
                "wordDict = <code>[&quot;cat&quot;, &quot;cats&quot;, &quot;and&quot;, &quot;sand&quot;, &quot;dog&quot;]</code><div></div>",
                "<strong>Output:<div></div>",
                "</strong><code>[<div></div>",
                "&nbsp; &quot;cats and dog&quot;,<div></div>",
                "&nbsp; &quot;cat sand dog&quot;<div></div>",
                "]</code><div></div>",
                "</pre><div></div>",
                "<div></div>",
                "<p><strong>Example 2:</strong></p><div></div>",
                "<div></div>",
                "<pre><div></div>",
                "<strong>Input:<div></div>",
                "</strong>s = &quot;pineapplepenapple&quot;<div></div>",
                "wordDict = [&quot;apple&quot;, &quot;pen&quot;, &quot;applepen&quot;, &quot;pine&quot;, &quot;pineapple&quot;]<div></div>",
                "<strong>Output:<div></div>",
                "</strong>[<div></div>",
                "&nbsp; &quot;pine apple pen apple&quot;,<div></div>",
                "&nbsp; &quot;pineapple pen apple&quot;,<div></div>",
                "&nbsp; &quot;pine applepen apple&quot;<div></div>",
                "]<div></div>",
                "<strong>Explanation:</strong> Note that you are allowed to reuse a dictionary word.<div></div>",
                "</pre><div></div>",
                "<div></div>",
                "<p><strong>Example 3:</strong></p><div></div>",
                "<div></div>",
                "<pre><div></div>",
                "<strong>Input:<div></div>",
                "</strong>s = &quot;catsandog&quot;<div></div>",
                "wordDict = [&quot;cats&quot;, &quot;dog&quot;, &quot;sand&quot;, &quot;and&quot;, &quot;cat&quot;]<div></div>",
                "<strong>Output:<div></div>",
                "</strong>[]</pre><div></div>",
                "<div></div>"
            ],
            "metadata": {}
        },
        {
            "cell_type": "code",
            "metadata": {},
            "execution_count": null,
            "source": "%%writefile word_break_ii.py\nclass Solution:\n    def wordBreak(self, s, wordDict):\n        \"\"\"\n        :type s: str\n        :type wordDict: List[str]\n        :rtype: List[str]\n        \"\"\"",
            "outputs": []
        },
        {
            "cell_type": "code",
            "metadata": {},
            "execution_count": null,
            "source": "# submit\n%run ../../cli.py push --method=submit --path=word_break_ii.py --clean=True",
            "outputs": []
        }
    ]
}