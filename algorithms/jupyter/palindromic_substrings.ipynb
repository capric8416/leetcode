{
    "nbformat": 4,
    "nbformat_minor": 2,
    "metadata": {
        "kernelspec": {
            "display_name": "Python 3",
            "language": "python",
            "name": "python3"
        },
        "language_info": {
            "codemirror_mode": {
                "name": "ipython",
                "version": 3
            },
            "file_extension": ".py",
            "mimetype": "text/x-python",
            "name": "python",
            "nbconvert_exporter": "python",
            "pygments_lexer": "ipython3",
            "version": "3.7.2"
        }
    },
    "cells": [
        {
            "cell_type": "markdown",
            "source": [
                "<h1>Palindromic Substrings</h1>",
                "<p><div></div>",
                "Given a string, your task is to count how many palindromic substrings in this string.<div></div>",
                "</p><div></div>",
                "<div></div>",
                "<p><div></div>",
                "The substrings with different start indexes or end indexes are counted as different substrings even they consist of same characters. <div></div>",
                "</p><div></div>",
                "<div></div>",
                "<p><b>Example 1:</b><br /><div></div>",
                "<pre><div></div>",
                "<b>Input:</b> \"abc\"<div></div>",
                "<b>Output:</b> 3<div></div>",
                "<b>Explanation:</b> Three palindromic strings: \"a\", \"b\", \"c\".<div></div>",
                "</pre><div></div>",
                "</p><div></div>",
                "<div></div>",
                "<p><b>Example 2:</b><br /><div></div>",
                "<pre><div></div>",
                "<b>Input:</b> \"aaa\"<div></div>",
                "<b>Output:</b> 6<div></div>",
                "<b>Explanation:</b> Six palindromic strings: \"a\", \"a\", \"a\", \"aa\", \"aa\", \"aaa\".<div></div>",
                "</pre><div></div>",
                "</p><div></div>",
                "<div></div>",
                "<p><b>Note:</b><br><div></div>",
                "<ol><div></div>",
                "<li>The input string length won't exceed 1000.</li><div></div>",
                "</ol><div></div>",
                "</p><div></div>"
            ],
            "metadata": {}
        },
        {
            "cell_type": "code",
            "metadata": {},
            "execution_count": null,
            "source": "%%writefile palindromic_substrings.py\nclass Solution:\n    def countSubstrings(self, s):\n        \"\"\"\n        :type s: str\n        :rtype: int\n        \"\"\"",
            "outputs": []
        },
        {
            "cell_type": "code",
            "metadata": {},
            "execution_count": null,
            "source": "# submit\n%run ../../cli.py push --method=submit --path=palindromic_substrings.py --clean=True",
            "outputs": []
        }
    ]
}