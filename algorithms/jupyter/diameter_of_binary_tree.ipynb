{
    "nbformat": 4,
    "nbformat_minor": 2,
    "metadata": {
        "kernelspec": {
            "display_name": "Python 3",
            "language": "python",
            "name": "python3"
        },
        "language_info": {
            "codemirror_mode": {
                "name": "ipython",
                "version": 3
            },
            "file_extension": ".py",
            "mimetype": "text/x-python",
            "name": "python",
            "nbconvert_exporter": "python",
            "pygments_lexer": "ipython3",
            "version": "3.7.2"
        }
    },
    "cells": [
        {
            "cell_type": "markdown",
            "source": [
                "<h1>Diameter of Binary Tree</h1>",
                "<p><div></div>",
                "Given a binary tree, you need to compute the length of the diameter of the tree. The diameter of a binary tree is the length of the <b>longest</b> path between any two nodes in a tree. This path may or may not pass through the root.<div></div>",
                "</p><div></div>",
                "<div></div>",
                "<p><div></div>",
                "<b>Example:</b><br /><div></div>",
                "Given a binary tree <br /><div></div>",
                "<pre><div></div>",
                "          1<div></div>",
                "         / \\<div></div>",
                "        2   3<div></div>",
                "       / \\     <div></div>",
                "      4   5    <div></div>",
                "</pre><div></div>",
                "</p><div></div>",
                "<p><div></div>",
                "Return <b>3</b>, which is the length of the path [4,2,1,3] or [5,2,1,3].<div></div>",
                "</p><div></div>",
                "<div></div>",
                "<p><b>Note:</b><div></div>",
                "The length of path between two nodes is represented by the number of edges between them.<div></div>",
                "</p><div></div>"
            ],
            "metadata": {}
        },
        {
            "cell_type": "code",
            "metadata": {},
            "execution_count": null,
            "source": "%%writefile diameter_of_binary_tree.py\n# Definition for a binary tree node.\n# class TreeNode:\n#     def __init__(self, x):\n#         self.val = x\n#         self.left = None\n#         self.right = None\n\nclass Solution:\n    def diameterOfBinaryTree(self, root):\n        \"\"\"\n        :type root: TreeNode\n        :rtype: int\n        \"\"\"",
            "outputs": []
        },
        {
            "cell_type": "code",
            "metadata": {},
            "execution_count": null,
            "source": "# submit\n%run ../../cli.py push --method=submit --path=diameter_of_binary_tree.py --clean=True",
            "outputs": []
        }
    ]
}