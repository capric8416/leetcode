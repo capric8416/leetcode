{
    "nbformat": 4,
    "nbformat_minor": 2,
    "metadata": {
        "kernelspec": {
            "display_name": "Python 3",
            "language": "python",
            "name": "python3"
        },
        "language_info": {
            "codemirror_mode": {
                "name": "ipython",
                "version": 3
            },
            "file_extension": ".py",
            "mimetype": "text/x-python",
            "name": "python",
            "nbconvert_exporter": "python",
            "pygments_lexer": "ipython3",
            "version": "3.7.2"
        }
    },
    "cells": [
        {
            "cell_type": "markdown",
            "source": [
                "<h1>Word Search</h1>",
                "<p>Given a 2D board and a word, find if the word exists in the grid.</p><div></div>",
                "<div></div>",
                "<p>The word can be constructed from letters of sequentially adjacent cell, where &quot;adjacent&quot; cells are those horizontally or vertically neighboring. The same letter cell may not be used more than once.</p><div></div>",
                "<div></div>",
                "<p><strong>Example:</strong></p><div></div>",
                "<div></div>",
                "<pre><div></div>",
                "board =<div></div>",
                "[<div></div>",
                "  [&#39;A&#39;,&#39;B&#39;,&#39;C&#39;,&#39;E&#39;],<div></div>",
                "  [&#39;S&#39;,&#39;F&#39;,&#39;C&#39;,&#39;S&#39;],<div></div>",
                "  [&#39;A&#39;,&#39;D&#39;,&#39;E&#39;,&#39;E&#39;]<div></div>",
                "]<div></div>",
                "<div></div>",
                "Given word = &quot;<strong>ABCCED</strong>&quot;, return <strong>true</strong>.<div></div>",
                "Given word = &quot;<strong>SEE</strong>&quot;, return <strong>true</strong>.<div></div>",
                "Given word = &quot;<strong>ABCB</strong>&quot;, return <strong>false</strong>.<div></div>",
                "</pre><div></div>",
                "<div></div>"
            ],
            "metadata": {}
        },
        {
            "cell_type": "code",
            "metadata": {},
            "execution_count": null,
            "source": "%%writefile word_search.py\nclass Solution:\n    def exist(self, board, word):\n        \"\"\"\n        :type board: List[List[str]]\n        :type word: str\n        :rtype: bool\n        \"\"\"",
            "outputs": []
        },
        {
            "cell_type": "code",
            "metadata": {},
            "execution_count": null,
            "source": "# submit\n%run ../../cli.py push --method=submit --path=word_search.py --clean=True",
            "outputs": []
        }
    ]
}