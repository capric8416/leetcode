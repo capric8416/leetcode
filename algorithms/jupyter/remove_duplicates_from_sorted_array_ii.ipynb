{
    "nbformat": 4,
    "nbformat_minor": 2,
    "metadata": {
        "kernelspec": {
            "display_name": "Python 3",
            "language": "python",
            "name": "python3"
        },
        "language_info": {
            "codemirror_mode": {
                "name": "ipython",
                "version": 3
            },
            "file_extension": ".py",
            "mimetype": "text/x-python",
            "name": "python",
            "nbconvert_exporter": "python",
            "pygments_lexer": "ipython3",
            "version": "3.7.2"
        }
    },
    "cells": [
        {
            "cell_type": "markdown",
            "source": [
                "<h1>Remove Duplicates from Sorted Array II</h1>",
                "<p>Given a sorted array <em>nums</em>, remove the duplicates <a href=\"https://en.wikipedia.org/wiki/In-place_algorithm\" target=\"_blank\"><strong>in-place</strong></a> such that duplicates appeared at most&nbsp;<em>twice</em> and return the new length.</p><div></div>",
                "<div></div>",
                "<p>Do not allocate extra space for another array, you must do this by <strong>modifying the input array <a href=\"https://en.wikipedia.org/wiki/In-place_algorithm\" target=\"_blank\">in-place</a></strong> with O(1) extra memory.</p><div></div>",
                "<div></div>",
                "<p><strong>Example 1:</strong></p><div></div>",
                "<div></div>",
                "<pre><div></div>",
                "Given <em>nums</em> = <strong>[1,1,1,2,2,3]</strong>,<div></div>",
                "<div></div>",
                "Your function should return length = <strong><code>5</code></strong>, with the first five elements of <em><code>nums</code></em> being <strong><code>1, 1, 2, 2</code></strong> and <strong>3</strong> respectively.<div></div>",
                "<div></div>",
                "It doesn&#39;t matter what you leave beyond the returned length.</pre><div></div>",
                "<div></div>",
                "<p><strong>Example 2:</strong></p><div></div>",
                "<div></div>",
                "<pre><div></div>",
                "Given <em>nums</em> = <strong>[0,0,1,1,1,1,2,3,3]</strong>,<div></div>",
                "<div></div>",
                "Your function should return length = <strong><code>7</code></strong>, with the first seven elements of <em><code>nums</code></em> being modified to&nbsp;<strong><code>0</code></strong>, <strong>0</strong>, <strong>1</strong>, <strong>1</strong>, <strong>2</strong>, <strong>3</strong> and&nbsp;<strong>3</strong> respectively.<div></div>",
                "<div></div>",
                "It doesn&#39;t matter what values are set beyond&nbsp;the returned length.<div></div>",
                "</pre><div></div>",
                "<div></div>",
                "<p><strong>Clarification:</strong></p><div></div>",
                "<div></div>",
                "<p>Confused why the returned value is an integer but your answer is an array?</p><div></div>",
                "<div></div>",
                "<p>Note that the input array is passed in by <strong>reference</strong>, which means modification to the input array will be known to the caller as well.</p><div></div>",
                "<div></div>",
                "<p>Internally you can think of this:</p><div></div>",
                "<div></div>",
                "<pre><div></div>",
                "// <strong>nums</strong> is passed in by reference. (i.e., without making a copy)<div></div>",
                "int len = removeDuplicates(nums);<div></div>",
                "<div></div>",
                "// any modification to <strong>nums</strong> in your function would be known by the caller.<div></div>",
                "// using the length returned by your function, it prints the first <strong>len</strong> elements.<div></div>",
                "for (int i = 0; i &lt; len; i++) {<div></div>",
                "&nbsp; &nbsp; print(nums[i]);<div></div>",
                "}<div></div>",
                "</pre><div></div>",
                "<div></div>"
            ],
            "metadata": {}
        },
        {
            "cell_type": "code",
            "metadata": {},
            "execution_count": null,
            "source": "%%writefile remove_duplicates_from_sorted_array_ii.py\nclass Solution:\n    def removeDuplicates(self, nums):\n        \"\"\"\n        :type nums: List[int]\n        :rtype: int\n        \"\"\"",
            "outputs": []
        },
        {
            "cell_type": "code",
            "metadata": {},
            "execution_count": null,
            "source": "# submit\n%run ../../cli.py push --method=submit --path=remove_duplicates_from_sorted_array_ii.py --clean=True",
            "outputs": []
        }
    ]
}