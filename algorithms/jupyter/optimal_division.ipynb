{
    "nbformat": 4,
    "nbformat_minor": 2,
    "metadata": {
        "kernelspec": {
            "display_name": "Python 3",
            "language": "python",
            "name": "python3"
        },
        "language_info": {
            "codemirror_mode": {
                "name": "ipython",
                "version": 3
            },
            "file_extension": ".py",
            "mimetype": "text/x-python",
            "name": "python",
            "nbconvert_exporter": "python",
            "pygments_lexer": "ipython3",
            "version": "3.7.2"
        }
    },
    "cells": [
        {
            "cell_type": "markdown",
            "source": [
                "<h1>Optimal Division</h1>",
                "<p>Given a list of <b>positive integers</b>, the adjacent integers will perform the float division. For example, [2,3,4] -> 2 / 3 / 4.</p><div></div>",
                "<div></div>",
                "<p>However, you can add any number of parenthesis at any position to change the priority of operations. You should find out how to add parenthesis to get the <b>maximum</b> result, and return the corresponding expression in string format. <b>Your expression should NOT contain redundant parenthesis.</b></p><div></div>",
                "<div></div>",
                "<p><b>Example:</b><br /><div></div>",
                "<pre><div></div>",
                "<b>Input:</b> [1000,100,10,2]<div></div>",
                "<b>Output:</b> \"1000/(100/10/2)\"<div></div>",
                "<b>Explanation:</b><div></div>",
                "1000/(100/10/2) = 1000/((100/10)/2) = 200<div></div>",
                "However, the bold parenthesis in \"1000/(<b>(</b>100/10<b>)</b>/2)\" are redundant, <br/>since they don't influence the operation priority. So you should return \"1000/(100/10/2)\". <div></div>",
                "<div></div>",
                "Other cases:<div></div>",
                "1000/(100/10)/2 = 50<div></div>",
                "1000/(100/(10/2)) = 50<div></div>",
                "1000/100/10/2 = 0.5<div></div>",
                "1000/100/(10/2) = 2<div></div>",
                "</pre><div></div>",
                "</p><div></div>",
                "<div></div>",
                "<p><b>Note:</b><div></div>",
                "<ol><div></div>",
                "<li>The length of the input array is [1, 10].</li><div></div>",
                "<li>Elements in the given array will be in range [2, 1000].</li><div></div>",
                "<li>There is only one optimal division for each test case.</li><div></div>",
                "</ol><div></div>",
                "</p><div></div>"
            ],
            "metadata": {}
        },
        {
            "cell_type": "code",
            "metadata": {},
            "execution_count": null,
            "source": "%%writefile optimal_division.py\nclass Solution:\n    def optimalDivision(self, nums):\n        \"\"\"\n        :type nums: List[int]\n        :rtype: str\n        \"\"\"",
            "outputs": []
        },
        {
            "cell_type": "code",
            "metadata": {},
            "execution_count": null,
            "source": "# submit\n%run ../../cli.py push --method=submit --path=optimal_division.py --clean=True",
            "outputs": []
        }
    ]
}