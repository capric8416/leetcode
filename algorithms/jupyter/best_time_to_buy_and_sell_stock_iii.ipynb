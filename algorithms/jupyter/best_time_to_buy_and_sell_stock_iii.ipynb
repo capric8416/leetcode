{
    "nbformat": 4,
    "nbformat_minor": 2,
    "metadata": {
        "kernelspec": {
            "display_name": "Python 3",
            "language": "python",
            "name": "python3"
        },
        "language_info": {
            "codemirror_mode": {
                "name": "ipython",
                "version": 3
            },
            "file_extension": ".py",
            "mimetype": "text/x-python",
            "name": "python",
            "nbconvert_exporter": "python",
            "pygments_lexer": "ipython3",
            "version": "3.7.2"
        }
    },
    "cells": [
        {
            "cell_type": "markdown",
            "source": [
                "<h1>Best Time to Buy and Sell Stock III</h1>",
                "<p>Say you have an array for which the <em>i</em><sup>th</sup> element is the price of a given stock on day <em>i</em>.</p><div></div>",
                "<div></div>",
                "<p>Design an algorithm to find the maximum profit. You may complete at most <em>two</em> transactions.</p><div></div>",
                "<div></div>",
                "<p><strong>Note:&nbsp;</strong>You may not engage in multiple transactions at the same time (i.e., you must sell the stock before you buy again).</p><div></div>",
                "<div></div>",
                "<p><strong>Example 1:</strong></p><div></div>",
                "<div></div>",
                "<pre><div></div>",
                "<strong>Input:</strong> [3,3,5,0,0,3,1,4]<div></div>",
                "<strong>Output:</strong> 6<div></div>",
                "<strong>Explanation:</strong> Buy on day 4 (price = 0) and sell on day 6 (price = 3), profit = 3-0 = 3.<div></div>",
                "&nbsp;            Then buy on day 7 (price = 1) and sell on day 8 (price = 4), profit = 4-1 = 3.</pre><div></div>",
                "<div></div>",
                "<p><strong>Example 2:</strong></p><div></div>",
                "<div></div>",
                "<pre><div></div>",
                "<strong>Input:</strong> [1,2,3,4,5]<div></div>",
                "<strong>Output:</strong> 4<div></div>",
                "<strong>Explanation:</strong> Buy on day 1 (price = 1) and sell on day 5 (price = 5), profit = 5-1 = 4.<div></div>",
                "&nbsp;            Note that you cannot buy on day 1, buy on day 2 and sell them later, as you are<div></div>",
                "&nbsp;            engaging multiple transactions at the same time. You must sell before buying again.<div></div>",
                "</pre><div></div>",
                "<div></div>",
                "<p><strong>Example 3:</strong></p><div></div>",
                "<div></div>",
                "<pre><div></div>",
                "<strong>Input:</strong> [7,6,4,3,1]<div></div>",
                "<strong>Output:</strong> 0<div></div>",
                "<strong>Explanation:</strong> In this case, no transaction is done, i.e. max profit = 0.</pre><div></div>",
                "<div></div>"
            ],
            "metadata": {}
        },
        {
            "cell_type": "code",
            "metadata": {},
            "execution_count": null,
            "source": "%%writefile best_time_to_buy_and_sell_stock_iii.py\nclass Solution:\n    def maxProfit(self, prices):\n        \"\"\"\n        :type prices: List[int]\n        :rtype: int\n        \"\"\"",
            "outputs": []
        },
        {
            "cell_type": "code",
            "metadata": {},
            "execution_count": null,
            "source": "# submit\n%run ../../cli.py push --method=submit --path=best_time_to_buy_and_sell_stock_iii.py --clean=True",
            "outputs": []
        }
    ]
}