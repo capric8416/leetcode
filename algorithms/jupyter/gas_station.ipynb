{
    "nbformat": 4,
    "nbformat_minor": 2,
    "metadata": {
        "kernelspec": {
            "display_name": "Python 3",
            "language": "python",
            "name": "python3"
        },
        "language_info": {
            "codemirror_mode": {
                "name": "ipython",
                "version": 3
            },
            "file_extension": ".py",
            "mimetype": "text/x-python",
            "name": "python",
            "nbconvert_exporter": "python",
            "pygments_lexer": "ipython3",
            "version": "3.7.2"
        }
    },
    "cells": [
        {
            "cell_type": "markdown",
            "source": [
                "<h1>Gas Station</h1>",
                "<p>There are <em>N</em> gas stations along a circular route, where the amount of gas at station <em>i</em> is <code>gas[i]</code>.</p><div></div>",
                "<div></div>",
                "<p>You have a car with an unlimited gas tank and it costs <code>cost[i]</code> of gas to travel from station <em>i</em> to its next station (<em>i</em>+1). You begin the journey with an empty tank at one of the gas stations.</p><div></div>",
                "<div></div>",
                "<p>Return the starting gas station&#39;s index if you can travel around the circuit once in the clockwise direction, otherwise return -1.</p><div></div>",
                "<div></div>",
                "<p><strong>Note:</strong></p><div></div>",
                "<div></div>",
                "<ul><div></div>",
                "\t<li>If there exists a&nbsp;solution, it is guaranteed to be unique.</li><div></div>",
                "\t<li>Both input arrays are non-empty and have the same length.</li><div></div>",
                "\t<li>Each element in the input arrays is a non-negative integer.</li><div></div>",
                "</ul><div></div>",
                "<div></div>",
                "<p><strong>Example 1:</strong></p><div></div>",
                "<div></div>",
                "<pre><div></div>",
                "<strong>Input:</strong> <div></div>",
                "gas  = [1,2,3,4,5]<div></div>",
                "cost = [3,4,5,1,2]<div></div>",
                "<div></div>",
                "<strong>Output:</strong> 3<div></div>",
                "<div></div>",
                "<strong>Explanation:<div></div>",
                "</strong>Start at station 3 (index 3) and fill up with 4 unit of gas. Your tank = 0 + 4 = 4<div></div>",
                "Travel to station 4. Your tank = 4 - 1 + 5 = 8<div></div>",
                "Travel to station 0. Your tank = 8 - 2 + 1 = 7<div></div>",
                "Travel to station 1. Your tank = 7 - 3 + 2 = 6<div></div>",
                "Travel to station 2. Your tank = 6 - 4 + 3 = 5<div></div>",
                "Travel to station 3. The cost is 5. Your gas is just enough to travel back to station 3.<div></div>",
                "Therefore, return 3 as the starting index.<div></div>",
                "</pre><div></div>",
                "<div></div>",
                "<p><strong>Example 2:</strong></p><div></div>",
                "<div></div>",
                "<pre><div></div>",
                "<strong>Input:</strong> <div></div>",
                "gas  = [2,3,4]<div></div>",
                "cost = [3,4,3]<div></div>",
                "<div></div>",
                "<strong>Output:</strong> -1<div></div>",
                "<div></div>",
                "<strong>Explanation:<div></div>",
                "</strong>You can&#39;t start at station 0 or 1, as there is not enough gas to travel to the next station.<div></div>",
                "Let&#39;s start at station 2 and fill up with 4 unit of gas. Your tank = 0 + 4 = 4<div></div>",
                "Travel to station 0. Your tank = 4 - 3 + 2 = 3<div></div>",
                "Travel to station 1. Your tank = 3 - 3 + 3 = 3<div></div>",
                "You cannot travel back to station 2, as it requires 4 unit of gas but you only have 3.<div></div>",
                "Therefore, you can&#39;t travel around the circuit once no matter where you start.<div></div>",
                "</pre><div></div>",
                "<div></div>"
            ],
            "metadata": {}
        },
        {
            "cell_type": "code",
            "metadata": {},
            "execution_count": null,
            "source": "%%writefile gas_station.py\nclass Solution:\n    def canCompleteCircuit(self, gas, cost):\n        \"\"\"\n        :type gas: List[int]\n        :type cost: List[int]\n        :rtype: int\n        \"\"\"",
            "outputs": []
        },
        {
            "cell_type": "code",
            "metadata": {},
            "execution_count": null,
            "source": "# submit\n%run ../../cli.py push --method=submit --path=gas_station.py --clean=True",
            "outputs": []
        }
    ]
}