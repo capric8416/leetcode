{
 "cells": [
  {
   "cell_type": "markdown",
   "metadata": {},
   "source": [
    "<h1>Two Sum</h1><p>Given an array of integers, return <strong>indices</strong> of the two numbers such that they add up to a specific target.</p><div></div><div></div><p>You may assume that each input would have <strong><em>exactly</em></strong> one solution, and you may not use the <em>same</em> element twice.</p><div></div><div></div><p><strong>Example:</strong></p><div></div><div></div><pre><div></div>Given nums = [2, 7, 11, 15], target = 9,<div></div><div></div>Because nums[<strong>0</strong>] + nums[<strong>1</strong>] = 2 + 7 = 9,<div></div>return [<strong>0</strong>, <strong>1</strong>].<div></div></pre><div></div><div></div><p>&nbsp;</p><div></div><div></div>"
   ]
  },
  {
   "cell_type": "code",
   "execution_count": null,
   "metadata": {},
   "outputs": [],
   "source": [
    "%%writefile two_sum.py\n",
    "class Solution:\n",
    "    def twoSum(self, nums, target):\n",
    "        \"\"\"\n",
    "        :type nums: List[int]\n",
    "        :type target: int\n",
    "        :rtype: List[int]\n",
    "        \"\"\"\n",
    "\n",
    "        cache = {}\n",
    "        for i, v in enumerate(nums):\n",
    "            sub = target - v\n",
    "            if sub in cache:\n",
    "                return [cache[sub], i]\n",
    "            cache[v] = i"
   ]
  },
  {
   "cell_type": "code",
   "execution_count": null,
   "metadata": {},
   "outputs": [],
   "source": [
    "# submit\n",
    "%run ../../cli.py push --method=submit --path=two_sum.py --clean=True"
   ]
  },
  {
   "cell_type": "code",
   "execution_count": null,
   "metadata": {},
   "outputs": [],
   "source": [
    "sln = Solution()\n",
    "print(sln.twoSum(nums=[2, 7, 11, 15], target=9))\n",
    "print(sln.twoSum(nums=[2, 7, 11, 15, 18, 29, 37], target=26))"
   ]
  }
 ],
 "metadata": {
  "kernelspec": {
   "display_name": "Python 3",
   "language": "python",
   "name": "python3"
  },
  "language_info": {
   "codemirror_mode": {
    "name": "ipython",
    "version": 3
   },
   "file_extension": ".py",
   "mimetype": "text/x-python",
   "name": "python",
   "nbconvert_exporter": "python",
   "pygments_lexer": "ipython3",
   "version": "3.6.5"
  }
 },
 "nbformat": 4,
 "nbformat_minor": 2
}
