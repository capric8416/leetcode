{
    "nbformat": 4,
    "nbformat_minor": 2,
    "metadata": {
        "kernelspec": {
            "display_name": "Python 3",
            "language": "python",
            "name": "python3"
        },
        "language_info": {
            "codemirror_mode": {
                "name": "ipython",
                "version": 3
            },
            "file_extension": ".py",
            "mimetype": "text/x-python",
            "name": "python",
            "nbconvert_exporter": "python",
            "pygments_lexer": "ipython3",
            "version": "3.7.2"
        }
    },
    "cells": [
        {
            "cell_type": "markdown",
            "source": [
                "<h1>Rabbits in Forest</h1>",
                "<p>In a forest, each rabbit has some color. Some subset of rabbits (possibly all of them) tell you how many other rabbits have the same color as them. Those <code>answers</code> are placed in an array.</p><div></div>",
                "<div></div>",
                "<p>Return the minimum number of rabbits that could be in the forest.</p><div></div>",
                "<div></div>",
                "<pre><div></div>",
                "<strong>Examples:</strong><div></div>",
                "<strong>Input:</strong> answers = [1, 1, 2]<div></div>",
                "<strong>Output:</strong> 5<div></div>",
                "<strong>Explanation:</strong><div></div>",
                "The two rabbits that answered &quot;1&quot; could both be the same color, say red.<div></div>",
                "The rabbit than answered &quot;2&quot; can&#39;t be red or the answers would be inconsistent.<div></div>",
                "Say the rabbit that answered &quot;2&quot; was blue.<div></div>",
                "Then there should be 2 other blue rabbits in the forest that didn&#39;t answer into the array.<div></div>",
                "The smallest possible number of rabbits in the forest is therefore 5: 3 that answered plus 2 that didn&#39;t.<div></div>",
                "<div></div>",
                "<strong>Input:</strong> answers = [10, 10, 10]<div></div>",
                "<strong>Output:</strong> 11<div></div>",
                "<div></div>",
                "<strong>Input:</strong> answers = []<div></div>",
                "<strong>Output:</strong> 0<div></div>",
                "</pre><div></div>",
                "<div></div>",
                "<p><strong>Note:</strong></p><div></div>",
                "<div></div>",
                "<ol><div></div>",
                "\t<li><code>answers</code> will have length at most <code>1000</code>.</li><div></div>",
                "\t<li>Each <code>answers[i]</code> will be an integer in the range <code>[0, 999]</code>.</li><div></div>",
                "</ol><div></div>",
                "<div></div>"
            ],
            "metadata": {}
        },
        {
            "cell_type": "code",
            "metadata": {},
            "execution_count": null,
            "source": "%%writefile rabbits_in_forest.py\nclass Solution:\n    def numRabbits(self, answers):\n        \"\"\"\n        :type answers: List[int]\n        :rtype: int\n        \"\"\"",
            "outputs": []
        },
        {
            "cell_type": "code",
            "metadata": {},
            "execution_count": null,
            "source": "# submit\n%run ../../cli.py push --method=submit --path=rabbits_in_forest.py --clean=True",
            "outputs": []
        }
    ]
}