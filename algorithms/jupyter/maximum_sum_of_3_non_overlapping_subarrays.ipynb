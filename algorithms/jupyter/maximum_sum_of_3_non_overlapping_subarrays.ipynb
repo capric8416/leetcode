{
    "nbformat": 4,
    "nbformat_minor": 2,
    "metadata": {
        "kernelspec": {
            "display_name": "Python 3",
            "language": "python",
            "name": "python3"
        },
        "language_info": {
            "codemirror_mode": {
                "name": "ipython",
                "version": 3
            },
            "file_extension": ".py",
            "mimetype": "text/x-python",
            "name": "python",
            "nbconvert_exporter": "python",
            "pygments_lexer": "ipython3",
            "version": "3.7.2"
        }
    },
    "cells": [
        {
            "cell_type": "markdown",
            "source": [
                "<h1>Maximum Sum of 3 Non-Overlapping Subarrays</h1>",
                "<p><div></div>",
                "In a given array <code>nums</code> of positive integers, find three non-overlapping subarrays with maximum sum.<div></div>",
                "</p><div></div>",
                "<p><div></div>",
                "Each subarray will be of size <code>k</code>, and we want to maximize the sum of all <code>3*k</code> entries.<div></div>",
                "</p><div></div>",
                "<p><div></div>",
                "Return the result as a list of indices representing the starting position of each interval (0-indexed).  If there are multiple answers, return the lexicographically smallest one.<div></div>",
                "</p><div></div>",
                "<p><b>Example:</b><br /><div></div>",
                "<pre><div></div>",
                "<b>Input:</b> [1,2,1,2,6,7,5,1], 2<div></div>",
                "<b>Output:</b> [0, 3, 5]<div></div>",
                "<b>Explanation:</b> Subarrays [1, 2], [2, 6], [7, 5] correspond to the starting indices [0, 3, 5].<div></div>",
                "We could have also taken [2, 1], but an answer of [1, 3, 5] would be lexicographically larger.<div></div>",
                "</pre><div></div>",
                "</p><div></div>",
                "<div></div>",
                "<p><b>Note:</b><br /><div></div>",
                "<li><code>nums.length</code> will be between 1 and 20000.</li><div></div>",
                "<li><code>nums[i]</code> will be between 1 and 65535.</li><div></div>",
                "<li><code>k</code> will be between 1 and floor(nums.length / 3).</li><div></div>",
                "</p><div></div>"
            ],
            "metadata": {}
        },
        {
            "cell_type": "code",
            "metadata": {},
            "execution_count": null,
            "source": "%%writefile maximum_sum_of_3_non_overlapping_subarrays.py\nclass Solution:\n    def maxSumOfThreeSubarrays(self, nums, k):\n        \"\"\"\n        :type nums: List[int]\n        :type k: int\n        :rtype: List[int]\n        \"\"\"",
            "outputs": []
        },
        {
            "cell_type": "code",
            "metadata": {},
            "execution_count": null,
            "source": "# submit\n%run ../../cli.py push --method=submit --path=maximum_sum_of_3_non_overlapping_subarrays.py --clean=True",
            "outputs": []
        }
    ]
}