{
    "nbformat": 4,
    "nbformat_minor": 2,
    "metadata": {
        "kernelspec": {
            "display_name": "Python 3",
            "language": "python",
            "name": "python3"
        },
        "language_info": {
            "codemirror_mode": {
                "name": "ipython",
                "version": 3
            },
            "file_extension": ".py",
            "mimetype": "text/x-python",
            "name": "python",
            "nbconvert_exporter": "python",
            "pygments_lexer": "ipython3",
            "version": "3.7.2"
        }
    },
    "cells": [
        {
            "cell_type": "markdown",
            "source": [
                "<h1>Design Circular Queue</h1>",
                "<p>Design your implementation of the circular queue. The circular queue is a linear data structure in which the operations are performed based on FIFO (First In First Out) principle and the last position is connected back to the first position to make a circle. It is also called &quot;Ring Buffer&quot;.</p><div></div>",
                "<div></div>",
                "<p>One of the benefits of the circular queue is that we can make use of the spaces in front of the queue. In a normal queue, once the queue becomes full, we cannot insert the next element even if there is a space in front of the queue. But using the circular queue, we can use the space to store new values.</p><div></div>",
                "<div></div>",
                "<p>Your implementation should support following operations:</p><div></div>",
                "<div></div>",
                "<ul><div></div>",
                "\t<li><code>MyCircularQueue(k)</code>: Constructor, set the size of the queue to be k.</li><div></div>",
                "\t<li><code>Front</code>: Get the front item from the queue. If the queue is empty, return -1.</li><div></div>",
                "\t<li><code>Rear</code>: Get the last item from the queue. If the queue is empty, return -1.</li><div></div>",
                "\t<li><code>enQueue(value)</code>: Insert an element into the circular queue. Return true if the operation is successful.</li><div></div>",
                "\t<li><code>deQueue()</code>: Delete an element from the circular queue. Return true if the operation is successful.</li><div></div>",
                "\t<li><code>isEmpty()</code>: Checks whether the circular queue is empty or not.</li><div></div>",
                "\t<li><code>isFull()</code>: Checks whether the circular queue is full or not.</li><div></div>",
                "</ul><div></div>",
                "<div></div>",
                "<p>&nbsp;</p><div></div>",
                "<div></div>",
                "<p><strong>Example:</strong></p><div></div>",
                "<div></div>",
                "<pre><div></div>",
                "MyCircularQueue circularQueue = new MyCircularQueue(3); // set the size to be 3<div></div>",
                "circularQueue.enQueue(1); &nbsp;// return true<div></div>",
                "circularQueue.enQueue(2); &nbsp;// return true<div></div>",
                "circularQueue.enQueue(3); &nbsp;// return true<div></div>",
                "circularQueue.enQueue(4); &nbsp;// return false, the queue is full<div></div>",
                "circularQueue.Rear(); &nbsp;// return 3<div></div>",
                "circularQueue.isFull(); &nbsp;// return true<div></div>",
                "circularQueue.deQueue(); &nbsp;// return true<div></div>",
                "circularQueue.enQueue(4); &nbsp;// return true<div></div>",
                "circularQueue.Rear(); &nbsp;// return 4<div></div>",
                "</pre><div></div>",
                "&nbsp;<div></div>",
                "<div></div>",
                "<p><strong>Note:</strong></p><div></div>",
                "<div></div>",
                "<ul><div></div>",
                "\t<li>All values will be in the range of [0, 1000].</li><div></div>",
                "\t<li>The number of operations will be in the range of&nbsp;[1, 1000].</li><div></div>",
                "\t<li>Please do not use the built-in Queue library.</li><div></div>",
                "</ul><div></div>",
                "<div></div>"
            ],
            "metadata": {}
        },
        {
            "cell_type": "code",
            "metadata": {},
            "execution_count": null,
            "source": "%%writefile design_circular_queue.py\nclass MyCircularQueue:\n\n    def __init__(self, k):\n        \"\"\"\n        Initialize your data structure here. Set the size of the queue to be k.\n        :type k: int\n        \"\"\"\n        \n\n    def enQueue(self, value):\n        \"\"\"\n        Insert an element into the circular queue. Return true if the operation is successful.\n        :type value: int\n        :rtype: bool\n        \"\"\"\n        \n\n    def deQueue(self):\n        \"\"\"\n        Delete an element from the circular queue. Return true if the operation is successful.\n        :rtype: bool\n        \"\"\"\n        \n\n    def Front(self):\n        \"\"\"\n        Get the front item from the queue.\n        :rtype: int\n        \"\"\"\n        \n\n    def Rear(self):\n        \"\"\"\n        Get the last item from the queue.\n        :rtype: int\n        \"\"\"\n        \n\n    def isEmpty(self):\n        \"\"\"\n        Checks whether the circular queue is empty or not.\n        :rtype: bool\n        \"\"\"\n        \n\n    def isFull(self):\n        \"\"\"\n        Checks whether the circular queue is full or not.\n        :rtype: bool\n        \"\"\"\n        \n\n\n# Your MyCircularQueue object will be instantiated and called as such:\n# obj = MyCircularQueue(k)\n# param_1 = obj.enQueue(value)\n# param_2 = obj.deQueue()\n# param_3 = obj.Front()\n# param_4 = obj.Rear()\n# param_5 = obj.isEmpty()\n# param_6 = obj.isFull()",
            "outputs": []
        },
        {
            "cell_type": "code",
            "metadata": {},
            "execution_count": null,
            "source": "# submit\n%run ../../cli.py push --method=submit --path=design_circular_queue.py --clean=True",
            "outputs": []
        }
    ]
}