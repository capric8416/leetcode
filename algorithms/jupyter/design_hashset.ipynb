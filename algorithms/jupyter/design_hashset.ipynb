{
    "nbformat": 4,
    "nbformat_minor": 2,
    "metadata": {
        "kernelspec": {
            "display_name": "Python 3",
            "language": "python",
            "name": "python3"
        },
        "language_info": {
            "codemirror_mode": {
                "name": "ipython",
                "version": 3
            },
            "file_extension": ".py",
            "mimetype": "text/x-python",
            "name": "python",
            "nbconvert_exporter": "python",
            "pygments_lexer": "ipython3",
            "version": "3.7.2"
        }
    },
    "cells": [
        {
            "cell_type": "markdown",
            "source": [
                "<h1>Design HashSet</h1>",
                "<p>Design a HashSet&nbsp;without using any built-in hash table libraries.</p><div></div>",
                "<div></div>",
                "<p>To be specific, your design should include these functions:</p><div></div>",
                "<div></div>",
                "<ul><div></div>",
                "\t<li><code>add(value)</code>:&nbsp;Insert a value into the HashSet.&nbsp;</li><div></div>",
                "\t<li><code>contains(value)</code> : Return whether the value exists in the HashSet or not.</li><div></div>",
                "\t<li><code>remove(value)</code>: Remove a value in&nbsp;the HashSet. If the value does not exist in the HashSet, do nothing.</li><div></div>",
                "</ul><div></div>",
                "<div></div>",
                "<p><br /><div></div>",
                "<strong>Example:</strong></p><div></div>",
                "<div></div>",
                "<pre><div></div>",
                "MyHashSet hashSet = new MyHashSet();<div></div>",
                "hashSet.add(1); &nbsp; &nbsp; &nbsp; &nbsp; <div></div>",
                "hashSet.add(2); &nbsp; &nbsp; &nbsp; &nbsp; <div></div>",
                "hashSet.contains(1); &nbsp;&nbsp;&nbsp;// returns true<div></div>",
                "hashSet.contains(3); &nbsp;&nbsp;&nbsp;// returns false (not found)<div></div>",
                "hashSet.add(2); &nbsp; &nbsp; &nbsp; &nbsp; &nbsp;<div></div>",
                "hashSet.contains(2); &nbsp;&nbsp;&nbsp;// returns true<div></div>",
                "hashSet.remove(2); &nbsp; &nbsp; &nbsp; &nbsp; &nbsp;<div></div>",
                "hashSet.contains(2); &nbsp;&nbsp;&nbsp;// returns false (already removed)<div></div>",
                "</pre><div></div>",
                "<div></div>",
                "<p><br /><div></div>",
                "<strong>Note:</strong></p><div></div>",
                "<div></div>",
                "<ul><div></div>",
                "\t<li>All values will be in the range of <code>[0, 1000000]</code>.</li><div></div>",
                "\t<li>The number of operations will be in the range of&nbsp;<code>[1, 10000]</code>.</li><div></div>",
                "\t<li>Please do not use the built-in HashSet library.</li><div></div>",
                "</ul><div></div>",
                "<div></div>"
            ],
            "metadata": {}
        },
        {
            "cell_type": "code",
            "metadata": {},
            "execution_count": null,
            "source": "%%writefile design_hashset.py\nclass MyHashSet:\n\n    def __init__(self):\n        \"\"\"\n        Initialize your data structure here.\n        \"\"\"\n        \n\n    def add(self, key):\n        \"\"\"\n        :type key: int\n        :rtype: void\n        \"\"\"\n        \n\n    def remove(self, key):\n        \"\"\"\n        :type key: int\n        :rtype: void\n        \"\"\"\n        \n\n    def contains(self, key):\n        \"\"\"\n        Returns true if this set contains the specified element\n        :type key: int\n        :rtype: bool\n        \"\"\"\n        \n\n\n# Your MyHashSet object will be instantiated and called as such:\n# obj = MyHashSet()\n# obj.add(key)\n# obj.remove(key)\n# param_3 = obj.contains(key)",
            "outputs": []
        },
        {
            "cell_type": "code",
            "metadata": {},
            "execution_count": null,
            "source": "# submit\n%run ../../cli.py push --method=submit --path=design_hashset.py --clean=True",
            "outputs": []
        }
    ]
}