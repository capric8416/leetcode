{
    "nbformat": 4,
    "nbformat_minor": 2,
    "metadata": {
        "kernelspec": {
            "display_name": "Python 3",
            "language": "python",
            "name": "python3"
        },
        "language_info": {
            "codemirror_mode": {
                "name": "ipython",
                "version": 3
            },
            "file_extension": ".py",
            "mimetype": "text/x-python",
            "name": "python",
            "nbconvert_exporter": "python",
            "pygments_lexer": "ipython3",
            "version": "3.7.2"
        }
    },
    "cells": [
        {
            "cell_type": "markdown",
            "source": [
                "<h1>Ambiguous Coordinates</h1>",
                "<p>We had some 2-dimensional coordinates, like <code>&quot;(1, 3)&quot;</code> or <code>&quot;(2, 0.5)&quot;</code>.&nbsp; Then, we removed&nbsp;all commas, decimal points, and spaces, and ended up with the string&nbsp;<code>S</code>.&nbsp; Return a list of strings representing&nbsp;all possibilities for what our original coordinates could have been.</p><div></div>",
                "<div></div>",
                "<p>Our original representation never had extraneous zeroes, so we never started with numbers like &quot;00&quot;, &quot;0.0&quot;, &quot;0.00&quot;, &quot;1.0&quot;, &quot;001&quot;, &quot;00.01&quot;, or any other number that can be represented with&nbsp;less digits.&nbsp; Also, a decimal point within a number never occurs without at least one digit occuring before it, so we never started with numbers like &quot;.1&quot;.</p><div></div>",
                "<div></div>",
                "<p>The final answer list can be returned in any order.&nbsp; Also note that all coordinates in the final answer&nbsp;have exactly one space between them (occurring after the comma.)</p><div></div>",
                "<div></div>",
                "<pre><div></div>",
                "<strong>Example 1:</strong><div></div>",
                "<strong>Input:</strong> &quot;(123)&quot;<div></div>",
                "<strong>Output:</strong> [&quot;(1, 23)&quot;, &quot;(12, 3)&quot;, &quot;(1.2, 3)&quot;, &quot;(1, 2.3)&quot;]<div></div>",
                "</pre><div></div>",
                "<div></div>",
                "<pre><div></div>",
                "<strong>Example 2:</strong><div></div>",
                "<strong>Input:</strong> &quot;(00011)&quot;<div></div>",
                "<strong>Output:</strong> &nbsp;[&quot;(0.001, 1)&quot;, &quot;(0, 0.011)&quot;]<div></div>",
                "<strong>Explanation:</strong> <div></div>",
                "0.0, 00, 0001 or 00.01 are not allowed.<div></div>",
                "</pre><div></div>",
                "<div></div>",
                "<pre><div></div>",
                "<strong>Example 3:</strong><div></div>",
                "<strong>Input:</strong> &quot;(0123)&quot;<div></div>",
                "<strong>Output:</strong> [&quot;(0, 123)&quot;, &quot;(0, 12.3)&quot;, &quot;(0, 1.23)&quot;, &quot;(0.1, 23)&quot;, &quot;(0.1, 2.3)&quot;, &quot;(0.12, 3)&quot;]<div></div>",
                "</pre><div></div>",
                "<div></div>",
                "<pre><div></div>",
                "<strong>Example 4:</strong><div></div>",
                "<strong>Input:</strong> &quot;(100)&quot;<div></div>",
                "<strong>Output:</strong> [(10, 0)]<div></div>",
                "<strong>Explanation:</strong> <div></div>",
                "1.0 is not allowed.<div></div>",
                "</pre><div></div>",
                "<div></div>",
                "<p>&nbsp;</p><div></div>",
                "<div></div>",
                "<p><strong>Note: </strong></p><div></div>",
                "<div></div>",
                "<ul><div></div>",
                "\t<li><code>4 &lt;= S.length &lt;= 12</code>.</li><div></div>",
                "\t<li><code>S[0]</code> = &quot;(&quot;, <code>S[S.length - 1]</code> = &quot;)&quot;, and the other elements in <code>S</code> are digits.</li><div></div>",
                "</ul><div></div>",
                "<div></div>",
                "<p>&nbsp;</p><div></div>",
                "<div></div>"
            ],
            "metadata": {}
        },
        {
            "cell_type": "code",
            "metadata": {},
            "execution_count": null,
            "source": "%%writefile ambiguous_coordinates.py\nclass Solution:\n    def ambiguousCoordinates(self, S):\n        \"\"\"\n        :type S: str\n        :rtype: List[str]\n        \"\"\"",
            "outputs": []
        },
        {
            "cell_type": "code",
            "metadata": {},
            "execution_count": null,
            "source": "# submit\n%run ../../cli.py push --method=submit --path=ambiguous_coordinates.py --clean=True",
            "outputs": []
        }
    ]
}