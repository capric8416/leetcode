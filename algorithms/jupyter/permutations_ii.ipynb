{
    "nbformat": 4,
    "nbformat_minor": 2,
    "metadata": {
        "kernelspec": {
            "display_name": "Python 3",
            "language": "python",
            "name": "python3"
        },
        "language_info": {
            "codemirror_mode": {
                "name": "ipython",
                "version": 3
            },
            "file_extension": ".py",
            "mimetype": "text/x-python",
            "name": "python",
            "nbconvert_exporter": "python",
            "pygments_lexer": "ipython3",
            "version": "3.7.2"
        }
    },
    "cells": [
        {
            "cell_type": "markdown",
            "source": [
                "<h1>Permutations II</h1>",
                "<p>Given a collection of numbers that might contain duplicates, return all possible unique permutations.</p><div></div>",
                "<div></div>",
                "<p><strong>Example:</strong></p><div></div>",
                "<div></div>",
                "<pre><div></div>",
                "<strong>Input:</strong> [1,1,2]<div></div>",
                "<strong>Output:</strong><div></div>",
                "[<div></div>",
                "  [1,1,2],<div></div>",
                "  [1,2,1],<div></div>",
                "  [2,1,1]<div></div>",
                "]<div></div>",
                "</pre><div></div>",
                "<div></div>"
            ],
            "metadata": {}
        },
        {
            "cell_type": "code",
            "metadata": {},
            "execution_count": null,
            "source": "%%writefile permutations_ii.py\nclass Solution:\n    def permuteUnique(self, nums):\n        \"\"\"\n        :type nums: List[int]\n        :rtype: List[List[int]]\n        \"\"\"",
            "outputs": []
        },
        {
            "cell_type": "code",
            "metadata": {},
            "execution_count": null,
            "source": "# submit\n%run ../../cli.py push --method=submit --path=permutations_ii.py --clean=True",
            "outputs": []
        }
    ]
}