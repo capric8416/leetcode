{
    "nbformat": 4,
    "nbformat_minor": 2,
    "metadata": {
        "kernelspec": {
            "display_name": "Python 3",
            "language": "python",
            "name": "python3"
        },
        "language_info": {
            "codemirror_mode": {
                "name": "ipython",
                "version": 3
            },
            "file_extension": ".py",
            "mimetype": "text/x-python",
            "name": "python",
            "nbconvert_exporter": "python",
            "pygments_lexer": "ipython3",
            "version": "3.7.2"
        }
    },
    "cells": [
        {
            "cell_type": "markdown",
            "source": [
                "<h1>Image Smoother</h1>",
                "<p>Given a 2D integer matrix M representing the gray scale of an image, you need to design a smoother to make the gray scale of each cell becomes the average gray scale (rounding down) of all the 8 surrounding cells and itself.  If a cell has less than 8 surrounding cells, then use as many as you can.</p><div></div>",
                "<div></div>",
                "<p><b>Example 1:</b><br /><div></div>",
                "<pre><div></div>",
                "<b>Input:</b><div></div>",
                "[[1,1,1],<div></div>",
                " [1,0,1],<div></div>",
                " [1,1,1]]<div></div>",
                "<b>Output:</b><div></div>",
                "[[0, 0, 0],<div></div>",
                " [0, 0, 0],<div></div>",
                " [0, 0, 0]]<div></div>",
                "<b>Explanation:</b><div></div>",
                "For the point (0,0), (0,2), (2,0), (2,2): floor(3/4) = floor(0.75) = 0<div></div>",
                "For the point (0,1), (1,0), (1,2), (2,1): floor(5/6) = floor(0.83333333) = 0<div></div>",
                "For the point (1,1): floor(8/9) = floor(0.88888889) = 0<div></div>",
                "</pre><div></div>",
                "</p><div></div>",
                "<div></div>",
                "<p><b>Note:</b><br><div></div>",
                "<ol><div></div>",
                "<li>The value in the given matrix is in the range of [0, 255].</li><div></div>",
                "<li>The length and width of the given matrix are in the range of [1, 150].</li><div></div>",
                "</ol><div></div>",
                "</p><div></div>"
            ],
            "metadata": {}
        },
        {
            "cell_type": "code",
            "metadata": {},
            "execution_count": null,
            "source": "%%writefile image_smoother.py\nclass Solution:\n    def imageSmoother(self, M):\n        \"\"\"\n        :type M: List[List[int]]\n        :rtype: List[List[int]]\n        \"\"\"",
            "outputs": []
        },
        {
            "cell_type": "code",
            "metadata": {},
            "execution_count": null,
            "source": "# submit\n%run ../../cli.py push --method=submit --path=image_smoother.py --clean=True",
            "outputs": []
        }
    ]
}