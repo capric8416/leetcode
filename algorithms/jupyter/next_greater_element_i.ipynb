{
    "nbformat": 4,
    "nbformat_minor": 2,
    "metadata": {
        "kernelspec": {
            "display_name": "Python 3",
            "language": "python",
            "name": "python3"
        },
        "language_info": {
            "codemirror_mode": {
                "name": "ipython",
                "version": 3
            },
            "file_extension": ".py",
            "mimetype": "text/x-python",
            "name": "python",
            "nbconvert_exporter": "python",
            "pygments_lexer": "ipython3",
            "version": "3.7.2"
        }
    },
    "cells": [
        {
            "cell_type": "markdown",
            "source": [
                "<h1>Next Greater Element I</h1>",
                "<p><div></div>",
                "You are given two arrays <b>(without duplicates)</b> <code>nums1</code> and <code>nums2</code> where <code>nums1</code>\u2019s elements are subset of <code>nums2</code>. Find all the next greater numbers for <code>nums1</code>'s elements in the corresponding places of <code>nums2</code>. <div></div>",
                "</p><div></div>",
                "<div></div>",
                "<p><div></div>",
                "The Next Greater Number of a number <b>x</b> in <code>nums1</code> is the first greater number to its right in <code>nums2</code>. If it does not exist, output -1 for this number.<div></div>",
                "</p><div></div>",
                "<div></div>",
                "<p><b>Example 1:</b><br /><div></div>",
                "<pre><div></div>",
                "<b>Input:</b> <b>nums1</b> = [4,1,2], <b>nums2</b> = [1,3,4,2].<div></div>",
                "<b>Output:</b> [-1,3,-1]<div></div>",
                "<b>Explanation:</b><div></div>",
                "    For number 4 in the first array, you cannot find the next greater number for it in the second array, so output -1.<div></div>",
                "    For number 1 in the first array, the next greater number for it in the second array is 3.<div></div>",
                "    For number 2 in the first array, there is no next greater number for it in the second array, so output -1.<div></div>",
                "</pre><div></div>",
                "</p><div></div>",
                "<div></div>",
                "<p><b>Example 2:</b><br /><div></div>",
                "<pre><div></div>",
                "<b>Input:</b> <b>nums1</b> = [2,4], <b>nums2</b> = [1,2,3,4].<div></div>",
                "<b>Output:</b> [3,-1]<div></div>",
                "<b>Explanation:</b><div></div>",
                "    For number 2 in the first array, the next greater number for it in the second array is 3.<div></div>",
                "    For number 4 in the first array, there is no next greater number for it in the second array, so output -1.<div></div>",
                "</pre><div></div>",
                "</p><div></div>",
                "<div></div>",
                "<div></div>",
                "<p><b>Note:</b><br><div></div>",
                "<ol><div></div>",
                "<li>All elements in <code>nums1</code> and <code>nums2</code> are unique.</li><div></div>",
                "<li>The length of both <code>nums1</code> and <code>nums2</code> would not exceed 1000.</li><div></div>",
                "</ol><div></div>",
                "</p><div></div>"
            ],
            "metadata": {}
        },
        {
            "cell_type": "code",
            "metadata": {},
            "execution_count": null,
            "source": "%%writefile next_greater_element_i.py\nclass Solution:\n    def nextGreaterElement(self, nums1, nums2):\n        \"\"\"\n        :type nums1: List[int]\n        :type nums2: List[int]\n        :rtype: List[int]\n        \"\"\"",
            "outputs": []
        },
        {
            "cell_type": "code",
            "metadata": {},
            "execution_count": null,
            "source": "# submit\n%run ../../cli.py push --method=submit --path=next_greater_element_i.py --clean=True",
            "outputs": []
        }
    ]
}