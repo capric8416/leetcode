{
    "nbformat": 4,
    "nbformat_minor": 2,
    "metadata": {
        "kernelspec": {
            "display_name": "Python 3",
            "language": "python",
            "name": "python3"
        },
        "language_info": {
            "codemirror_mode": {
                "name": "ipython",
                "version": 3
            },
            "file_extension": ".py",
            "mimetype": "text/x-python",
            "name": "python",
            "nbconvert_exporter": "python",
            "pygments_lexer": "ipython3",
            "version": "3.7.2"
        }
    },
    "cells": [
        {
            "cell_type": "markdown",
            "source": [
                "<h1>Largest Triangle Area</h1>",
                "<p>You have a list of points in the plane. Return the area of the largest triangle that can be formed by any 3 of the points.</p><div></div>",
                "<div></div>",
                "<pre><div></div>",
                "<strong>Example:</strong><div></div>",
                "<strong>Input:</strong> points = [[0,0],[0,1],[1,0],[0,2],[2,0]]<div></div>",
                "<strong>Output:</strong> 2<div></div>",
                "<strong>Explanation:</strong> <div></div>",
                "The five points are show in the figure below. The red triangle is the largest.<div></div>",
                "</pre><div></div>",
                "<div></div>",
                "<p><img alt=\"\" src=\"https://s3-lc-upload.s3.amazonaws.com/uploads/2018/04/04/1027.png\" style=\"height:328px; width:400px\" /></p><div></div>",
                "<div></div>",
                "<p><strong>Notes: </strong></p><div></div>",
                "<div></div>",
                "<ul><div></div>",
                "\t<li><code>3 &lt;= points.length &lt;= 50</code>.</li><div></div>",
                "\t<li>No points will be duplicated.</li><div></div>",
                "\t<li>&nbsp;<code>-50 &lt;= points[i][j] &lt;= 50</code>.</li><div></div>",
                "\t<li>Answers within&nbsp;<code>10^-6</code>&nbsp;of the true value will be accepted as correct.</li><div></div>",
                "</ul><div></div>",
                "<div></div>",
                "<p>&nbsp;</p><div></div>",
                "<div></div>"
            ],
            "metadata": {}
        },
        {
            "cell_type": "code",
            "metadata": {},
            "execution_count": null,
            "source": "%%writefile largest_triangle_area.py\nclass Solution:\n    def largestTriangleArea(self, points):\n        \"\"\"\n        :type points: List[List[int]]\n        :rtype: float\n        \"\"\"",
            "outputs": []
        },
        {
            "cell_type": "code",
            "metadata": {},
            "execution_count": null,
            "source": "# submit\n%run ../../cli.py push --method=submit --path=largest_triangle_area.py --clean=True",
            "outputs": []
        }
    ]
}