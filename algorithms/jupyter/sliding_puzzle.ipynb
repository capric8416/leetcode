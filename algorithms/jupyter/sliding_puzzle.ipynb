{
    "nbformat": 4,
    "nbformat_minor": 2,
    "metadata": {
        "kernelspec": {
            "display_name": "Python 3",
            "language": "python",
            "name": "python3"
        },
        "language_info": {
            "codemirror_mode": {
                "name": "ipython",
                "version": 3
            },
            "file_extension": ".py",
            "mimetype": "text/x-python",
            "name": "python",
            "nbconvert_exporter": "python",
            "pygments_lexer": "ipython3",
            "version": "3.7.2"
        }
    },
    "cells": [
        {
            "cell_type": "markdown",
            "source": [
                "<h1>Sliding Puzzle</h1>",
                "<p>On a 2x3 <code>board</code>, there are 5 tiles represented by the integers 1 through 5, and an empty square represented by 0.</p><div></div>",
                "<div></div>",
                "<p>A move consists of choosing <code>0</code>&nbsp;and a 4-directionally adjacent number and swapping it.</p><div></div>",
                "<div></div>",
                "<p>The state of the board is <em>solved</em> if and only if the <code>board</code> is <code>[[1,2,3],[4,5,0]].</code></p><div></div>",
                "<div></div>",
                "<p>Given a puzzle board, return the least number of moves required so that the state of the board is solved. If it is impossible for the state of the board to be solved, return -1.</p><div></div>",
                "<div></div>",
                "<p><strong>Examples:</strong></p><div></div>",
                "<div></div>",
                "<pre><div></div>",
                "<strong>Input:</strong> board = [[1,2,3],[4,0,5]]<div></div>",
                "<strong>Output:</strong> 1<div></div>",
                "<strong>Explanation:</strong> Swap the 0 and the 5 in one move.<div></div>",
                "</pre><div></div>",
                "<div></div>",
                "<pre><div></div>",
                "<strong>Input:</strong> board = [[1,2,3],[5,4,0]]<div></div>",
                "<strong>Output:</strong> -1<div></div>",
                "<strong>Explanation:</strong> No number of moves will make the board solved.<div></div>",
                "</pre><div></div>",
                "<div></div>",
                "<pre><div></div>",
                "<strong>Input:</strong> board = [[4,1,2],[5,0,3]]<div></div>",
                "<strong>Output:</strong> 5<div></div>",
                "<strong>Explanation:</strong> 5 is the smallest number of moves that solves the board.<div></div>",
                "An example path:<div></div>",
                "After move 0: [[4,1,2],[5,0,3]]<div></div>",
                "After move 1: [[4,1,2],[0,5,3]]<div></div>",
                "After move 2: [[0,1,2],[4,5,3]]<div></div>",
                "After move 3: [[1,0,2],[4,5,3]]<div></div>",
                "After move 4: [[1,2,0],[4,5,3]]<div></div>",
                "After move 5: [[1,2,3],[4,5,0]]<div></div>",
                "</pre><div></div>",
                "<div></div>",
                "<pre><div></div>",
                "<strong>Input:</strong> board = [[3,2,4],[1,5,0]]<div></div>",
                "<strong>Output:</strong> 14<div></div>",
                "</pre><div></div>",
                "<div></div>",
                "<p><strong>Note:</strong></p><div></div>",
                "<div></div>",
                "<ul><div></div>",
                "\t<li><code>board</code> will be a 2 x 3 array as described above.</li><div></div>",
                "\t<li><code>board[i][j]</code> will be a permutation of <code>[0, 1, 2, 3, 4, 5]</code>.</li><div></div>",
                "</ul><div></div>",
                "<div></div>"
            ],
            "metadata": {}
        },
        {
            "cell_type": "code",
            "metadata": {},
            "execution_count": null,
            "source": "%%writefile sliding_puzzle.py\nclass Solution:\n    def slidingPuzzle(self, board):\n        \"\"\"\n        :type board: List[List[int]]\n        :rtype: int\n        \"\"\"",
            "outputs": []
        },
        {
            "cell_type": "code",
            "metadata": {},
            "execution_count": null,
            "source": "# submit\n%run ../../cli.py push --method=submit --path=sliding_puzzle.py --clean=True",
            "outputs": []
        }
    ]
}