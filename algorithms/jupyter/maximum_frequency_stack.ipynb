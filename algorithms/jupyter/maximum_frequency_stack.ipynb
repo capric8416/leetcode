{
    "nbformat": 4,
    "nbformat_minor": 2,
    "metadata": {
        "kernelspec": {
            "display_name": "Python 3",
            "language": "python",
            "name": "python3"
        },
        "language_info": {
            "codemirror_mode": {
                "name": "ipython",
                "version": 3
            },
            "file_extension": ".py",
            "mimetype": "text/x-python",
            "name": "python",
            "nbconvert_exporter": "python",
            "pygments_lexer": "ipython3",
            "version": "3.7.2"
        }
    },
    "cells": [
        {
            "cell_type": "markdown",
            "source": [
                "<h1>Maximum Frequency Stack</h1>",
                "<p>Implement <code>FreqStack</code>, a class which simulates the operation of a stack-like data structure.</p><div></div>",
                "<div></div>",
                "<p><code>FreqStack</code>&nbsp;has two functions:</p><div></div>",
                "<div></div>",
                "<ul><div></div>",
                "\t<li><code>push(int x)</code>, which pushes an integer <code>x</code> onto the stack.</li><div></div>",
                "\t<li><code>pop()</code>, which <strong>removes</strong> and returns the most frequent element in the stack.<div></div>",
                "\t<ul><div></div>",
                "\t\t<li>If there is a tie for most frequent element, the element closest to the top of the stack is removed and returned.</li><div></div>",
                "\t</ul><div></div>",
                "\t</li><div></div>",
                "</ul><div></div>",
                "<div></div>",
                "<p>&nbsp;</p><div></div>",
                "<div></div>",
                "<p><strong>Example 1:</strong></p><div></div>",
                "<div></div>",
                "<pre><div></div>",
                "<strong>Input: </strong><div></div>",
                "<span id=\"example-input-1-1\">[&quot;FreqStack&quot;,&quot;push&quot;,&quot;push&quot;,&quot;push&quot;,&quot;push&quot;,&quot;push&quot;,&quot;push&quot;,&quot;pop&quot;,&quot;pop&quot;,&quot;pop&quot;,&quot;pop&quot;]</span>,<div></div>",
                "<span id=\"example-input-1-2\">[[],[5],[7],[5],[7],[4],[5],[],[],[],[]]</span><div></div>",
                "<strong>Output: </strong><span id=\"example-output-1\">[null,null,null,null,null,null,null,5,7,5,4]</span><div></div>",
                "<strong>Explanation</strong>:<div></div>",
                "After making six .push operations, the stack is [5,7,5,7,4,5] from bottom to top.  Then:<div></div>",
                "<div></div>",
                "pop() -&gt; returns 5, as 5 is the most frequent.<div></div>",
                "The stack becomes [5,7,5,7,4].<div></div>",
                "<div></div>",
                "pop() -&gt; returns 7, as 5 and 7 is the most frequent, but 7 is closest to the top.<div></div>",
                "The stack becomes [5,7,5,4].<div></div>",
                "<div></div>",
                "pop() -&gt; returns 5.<div></div>",
                "The stack becomes [5,7,4].<div></div>",
                "<div></div>",
                "pop() -&gt; returns 4.<div></div>",
                "The stack becomes [5,7].<div></div>",
                "</pre><div></div>",
                "<div></div>",
                "<p>&nbsp;</p><div></div>",
                "<div></div>",
                "<p><strong>Note:</strong></p><div></div>",
                "<div></div>",
                "<ul><div></div>",
                "\t<li>Calls to <code>FreqStack.push(int x)</code>&nbsp;will be such that <code>0 &lt;= x &lt;= 10^9</code>.</li><div></div>",
                "\t<li>It is guaranteed that <code>FreqStack.pop()</code> won&#39;t be called if the stack has zero elements.</li><div></div>",
                "\t<li>The total number of <code>FreqStack.push</code> calls will not exceed <code>10000</code> in a single test case.</li><div></div>",
                "\t<li>The total number of <code>FreqStack.pop</code>&nbsp;calls will not exceed <code>10000</code> in a single test case.</li><div></div>",
                "\t<li>The total number of <code>FreqStack.push</code> and <code>FreqStack.pop</code> calls will not exceed <code>150000</code> across all test cases.</li><div></div>",
                "</ul><div></div>",
                "<div></div>",
                "<div><div></div>",
                "<p>&nbsp;</p><div></div>",
                "</div><div></div>",
                "<div></div>"
            ],
            "metadata": {}
        },
        {
            "cell_type": "code",
            "metadata": {},
            "execution_count": null,
            "source": "%%writefile maximum_frequency_stack.py\nclass FreqStack:\n\n    def __init__(self):\n        \n\n    def push(self, x):\n        \"\"\"\n        :type x: int\n        :rtype: void\n        \"\"\"\n        \n\n    def pop(self):\n        \"\"\"\n        :rtype: int\n        \"\"\"\n        \n\n\n# Your FreqStack object will be instantiated and called as such:\n# obj = FreqStack()\n# obj.push(x)\n# param_2 = obj.pop()",
            "outputs": []
        },
        {
            "cell_type": "code",
            "metadata": {},
            "execution_count": null,
            "source": "# submit\n%run ../../cli.py push --method=submit --path=maximum_frequency_stack.py --clean=True",
            "outputs": []
        }
    ]
}