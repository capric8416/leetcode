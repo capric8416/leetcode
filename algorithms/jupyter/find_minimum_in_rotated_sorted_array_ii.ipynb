{
    "nbformat": 4,
    "nbformat_minor": 2,
    "metadata": {
        "kernelspec": {
            "display_name": "Python 3",
            "language": "python",
            "name": "python3"
        },
        "language_info": {
            "codemirror_mode": {
                "name": "ipython",
                "version": 3
            },
            "file_extension": ".py",
            "mimetype": "text/x-python",
            "name": "python",
            "nbconvert_exporter": "python",
            "pygments_lexer": "ipython3",
            "version": "3.7.2"
        }
    },
    "cells": [
        {
            "cell_type": "markdown",
            "source": [
                "<h1>Find Minimum in Rotated Sorted Array II</h1>",
                "<p>Suppose an array sorted in ascending order is rotated at some pivot unknown to you beforehand.</p><div></div>",
                "<div></div>",
                "<p>(i.e., &nbsp;<code>[0,1,2,4,5,6,7]</code>&nbsp;might become &nbsp;<code>[4,5,6,7,0,1,2]</code>).</p><div></div>",
                "<div></div>",
                "<p>Find the minimum element.</p><div></div>",
                "<div></div>",
                "<p>The array may contain duplicates.</p><div></div>",
                "<div></div>",
                "<p><strong>Example 1:</strong></p><div></div>",
                "<div></div>",
                "<pre><div></div>",
                "<strong>Input:</strong> [1,3,5]<div></div>",
                "<strong>Output:</strong> 1</pre><div></div>",
                "<div></div>",
                "<p><strong>Example 2:</strong></p><div></div>",
                "<div></div>",
                "<pre><div></div>",
                "<strong>Input:</strong> [2,2,2,0,1]<div></div>",
                "<strong>Output:</strong> 0</pre><div></div>",
                "<div></div>",
                "<p><strong>Note:</strong></p><div></div>",
                "<div></div>",
                "<ul><div></div>",
                "\t<li>This is a follow up problem to&nbsp;<a href=\"https://leetcode.com/problems/find-minimum-in-rotated-sorted-array/description/\">Find Minimum in Rotated Sorted Array</a>.</li><div></div>",
                "\t<li>Would allow duplicates affect the run-time complexity? How and why?</li><div></div>",
                "</ul><div></div>",
                "<div></div>"
            ],
            "metadata": {}
        },
        {
            "cell_type": "code",
            "metadata": {},
            "execution_count": null,
            "source": "%%writefile find_minimum_in_rotated_sorted_array_ii.py\nclass Solution:\n    def findMin(self, nums):\n        \"\"\"\n        :type nums: List[int]\n        :rtype: int\n        \"\"\"",
            "outputs": []
        },
        {
            "cell_type": "code",
            "metadata": {},
            "execution_count": null,
            "source": "# submit\n%run ../../cli.py push --method=submit --path=find_minimum_in_rotated_sorted_array_ii.py --clean=True",
            "outputs": []
        }
    ]
}