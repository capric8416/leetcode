{
    "nbformat": 4,
    "nbformat_minor": 2,
    "metadata": {
        "kernelspec": {
            "display_name": "Python 3",
            "language": "python",
            "name": "python3"
        },
        "language_info": {
            "codemirror_mode": {
                "name": "ipython",
                "version": 3
            },
            "file_extension": ".py",
            "mimetype": "text/x-python",
            "name": "python",
            "nbconvert_exporter": "python",
            "pygments_lexer": "ipython3",
            "version": "3.7.2"
        }
    },
    "cells": [
        {
            "cell_type": "markdown",
            "source": [
                "<h1>Validate Stack Sequences</h1>",
                "<p>Given two sequences <code>pushed</code> and <code>popped</code>&nbsp;<strong>with distinct values</strong>,&nbsp;return <code>true</code> if and only if this could have been the result of a sequence of push and pop operations on an initially empty stack.</p><div></div>",
                "<div></div>",
                "<p>&nbsp;</p><div></div>",
                "<div></div>",
                "<div><div></div>",
                "<p><strong>Example 1:</strong></p><div></div>",
                "<div></div>",
                "<pre><div></div>",
                "<strong>Input: </strong>pushed = <span id=\"example-input-1-1\">[1,2,3,4,5]</span>, popped = <span id=\"example-input-1-2\">[4,5,3,2,1]</span><div></div>",
                "<strong>Output: </strong><span id=\"example-output-1\">true</span><div></div>",
                "<strong>Explanation: </strong>We might do the following sequence:<div></div>",
                "push(1), push(2), push(3), push(4), pop() -&gt; 4,<div></div>",
                "push(5), pop() -&gt; 5, pop() -&gt; 3, pop() -&gt; 2, pop() -&gt; 1<div></div>",
                "</pre><div></div>",
                "<div></div>",
                "<div><div></div>",
                "<p><strong>Example 2:</strong></p><div></div>",
                "<div></div>",
                "<pre><div></div>",
                "<strong>Input: </strong>pushed = <span id=\"example-input-2-1\">[1,2,3,4,5]</span>, popped = <span id=\"example-input-2-2\">[4,3,5,1,2]</span><div></div>",
                "<strong>Output: </strong><span id=\"example-output-2\">false</span><div></div>",
                "<strong>Explanation: </strong>1 cannot be popped before 2.<div></div>",
                "</pre><div></div>",
                "<div></div>",
                "<p>&nbsp;</p><div></div>",
                "<div></div>",
                "<p><strong>Note:</strong></p><div></div>",
                "<div></div>",
                "<ol><div></div>",
                "\t<li><code>0 &lt;= pushed.length == popped.length &lt;= 1000</code></li><div></div>",
                "\t<li><code>0 &lt;= pushed[i], popped[i] &lt; 1000</code></li><div></div>",
                "\t<li><code>pushed</code> is a permutation of <code>popped</code>.</li><div></div>",
                "\t<li><code>pushed</code> and <code>popped</code> have distinct values.</li><div></div>",
                "</ol><div></div>",
                "</div><div></div>",
                "</div><div></div>"
            ],
            "metadata": {}
        },
        {
            "cell_type": "code",
            "metadata": {},
            "execution_count": null,
            "source": "%%writefile validate_stack_sequences.py\nclass Solution:\n    def validateStackSequences(self, pushed, popped):\n        \"\"\"\n        :type pushed: List[int]\n        :type popped: List[int]\n        :rtype: bool\n        \"\"\"",
            "outputs": []
        },
        {
            "cell_type": "code",
            "metadata": {},
            "execution_count": null,
            "source": "# submit\n%run ../../cli.py push --method=submit --path=validate_stack_sequences.py --clean=True",
            "outputs": []
        }
    ]
}