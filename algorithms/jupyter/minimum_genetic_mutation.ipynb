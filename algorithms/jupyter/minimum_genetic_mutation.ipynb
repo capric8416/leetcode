{
    "nbformat": 4,
    "nbformat_minor": 2,
    "metadata": {
        "kernelspec": {
            "display_name": "Python 3",
            "language": "python",
            "name": "python3"
        },
        "language_info": {
            "codemirror_mode": {
                "name": "ipython",
                "version": 3
            },
            "file_extension": ".py",
            "mimetype": "text/x-python",
            "name": "python",
            "nbconvert_exporter": "python",
            "pygments_lexer": "ipython3",
            "version": "3.7.2"
        }
    },
    "cells": [
        {
            "cell_type": "markdown",
            "source": [
                "<h1>Minimum Genetic Mutation</h1>",
                "<p>A gene string can be represented by an 8-character long string, with choices from <code>&quot;A&quot;</code>, <code>&quot;C&quot;</code>, <code>&quot;G&quot;</code>, <code>&quot;T&quot;</code>.</p><div></div>",
                "<div></div>",
                "<p>Suppose we need to investigate about a mutation (mutation from &quot;start&quot; to &quot;end&quot;), where ONE mutation is defined as ONE single character changed in the gene string.</p><div></div>",
                "<div></div>",
                "<p>For example, <code>&quot;AACCGGTT&quot;</code> -&gt; <code>&quot;AACCGGTA&quot;</code> is 1 mutation.</p><div></div>",
                "<div></div>",
                "<p>Also, there is a given gene &quot;bank&quot;, which records all the valid gene mutations. A gene must be in the bank to make it a valid gene string.</p><div></div>",
                "<div></div>",
                "<p>Now, given 3 things - start, end, bank, your task is to determine what is the minimum number of mutations needed to mutate from &quot;start&quot; to &quot;end&quot;. If there is no such a mutation, return -1.</p><div></div>",
                "<div></div>",
                "<p><b>Note:</b></p><div></div>",
                "<div></div>",
                "<ol><div></div>",
                "\t<li>Starting point is assumed to be valid, so it might not be included in the bank.</li><div></div>",
                "\t<li>If multiple mutations are needed, all mutations during in the sequence must be valid.</li><div></div>",
                "\t<li>You may assume start and end string is not the same.</li><div></div>",
                "</ol><div></div>",
                "<div></div>",
                "<p>&nbsp;</p><div></div>",
                "<div></div>",
                "<p><b>Example 1:</b></p><div></div>",
                "<div></div>",
                "<pre><div></div>",
                "start: &quot;AACCGGTT&quot;<div></div>",
                "end:   &quot;AACCGGTA&quot;<div></div>",
                "bank: [&quot;AACCGGTA&quot;]<div></div>",
                "<div></div>",
                "return: 1<div></div>",
                "</pre><div></div>",
                "<div></div>",
                "<p>&nbsp;</p><div></div>",
                "<div></div>",
                "<p><b>Example 2:</b></p><div></div>",
                "<div></div>",
                "<pre><div></div>",
                "start: &quot;AACCGGTT&quot;<div></div>",
                "end:   &quot;AAACGGTA&quot;<div></div>",
                "bank: [&quot;AACCGGTA&quot;, &quot;AACCGCTA&quot;, &quot;AAACGGTA&quot;]<div></div>",
                "<div></div>",
                "return: 2<div></div>",
                "</pre><div></div>",
                "<div></div>",
                "<p>&nbsp;</p><div></div>",
                "<div></div>",
                "<p><b>Example 3:</b></p><div></div>",
                "<div></div>",
                "<pre><div></div>",
                "start: &quot;AAAAACCC&quot;<div></div>",
                "end:   &quot;AACCCCCC&quot;<div></div>",
                "bank: [&quot;AAAACCCC&quot;, &quot;AAACCCCC&quot;, &quot;AACCCCCC&quot;]<div></div>",
                "<div></div>",
                "return: 3<div></div>",
                "</pre><div></div>",
                "<div></div>",
                "<p>&nbsp;</p><div></div>",
                "<div></div>"
            ],
            "metadata": {}
        },
        {
            "cell_type": "code",
            "metadata": {},
            "execution_count": null,
            "source": "%%writefile minimum_genetic_mutation.py\nclass Solution:\n    def minMutation(self, start, end, bank):\n        \"\"\"\n        :type start: str\n        :type end: str\n        :type bank: List[str]\n        :rtype: int\n        \"\"\"",
            "outputs": []
        },
        {
            "cell_type": "code",
            "metadata": {},
            "execution_count": null,
            "source": "# submit\n%run ../../cli.py push --method=submit --path=minimum_genetic_mutation.py --clean=True",
            "outputs": []
        }
    ]
}