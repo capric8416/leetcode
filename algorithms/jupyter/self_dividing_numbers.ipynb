{
    "nbformat": 4,
    "nbformat_minor": 2,
    "metadata": {
        "kernelspec": {
            "display_name": "Python 3",
            "language": "python",
            "name": "python3"
        },
        "language_info": {
            "codemirror_mode": {
                "name": "ipython",
                "version": 3
            },
            "file_extension": ".py",
            "mimetype": "text/x-python",
            "name": "python",
            "nbconvert_exporter": "python",
            "pygments_lexer": "ipython3",
            "version": "3.7.2"
        }
    },
    "cells": [
        {
            "cell_type": "markdown",
            "source": [
                "<h1>Self Dividing Numbers</h1>",
                "<p><div></div>",
                "A <i>self-dividing number</i> is a number that is divisible by every digit it contains.<div></div>",
                "</p><p><div></div>",
                "For example, 128 is a self-dividing number because <code>128 % 1 == 0</code>, <code>128 % 2 == 0</code>, and <code>128 % 8 == 0</code>.<div></div>",
                "</p><p><div></div>",
                "Also, a self-dividing number is not allowed to contain the digit zero.<div></div>",
                "</p><p><div></div>",
                "Given a lower and upper number bound, output a list of every possible self dividing number, including the bounds if possible.<div></div>",
                "</p><div></div>",
                "<p><b>Example 1:</b><br /><div></div>",
                "<pre><div></div>",
                "<b>Input:</b> <div></div>",
                "left = 1, right = 22<div></div>",
                "<b>Output:</b> [1, 2, 3, 4, 5, 6, 7, 8, 9, 11, 12, 15, 22]<div></div>",
                "</pre><div></div>",
                "</p><div></div>",
                "<div></div>",
                "<p><b>Note:</b><div></div>",
                "<li>The boundaries of each input argument are <code>1 <= left <= right <= 10000</code>.</li><div></div>",
                "</p><div></div>"
            ],
            "metadata": {}
        },
        {
            "cell_type": "code",
            "metadata": {},
            "execution_count": null,
            "source": "%%writefile self_dividing_numbers.py\nclass Solution:\n    def selfDividingNumbers(self, left, right):\n        \"\"\"\n        :type left: int\n        :type right: int\n        :rtype: List[int]\n        \"\"\"",
            "outputs": []
        },
        {
            "cell_type": "code",
            "metadata": {},
            "execution_count": null,
            "source": "# submit\n%run ../../cli.py push --method=submit --path=self_dividing_numbers.py --clean=True",
            "outputs": []
        }
    ]
}