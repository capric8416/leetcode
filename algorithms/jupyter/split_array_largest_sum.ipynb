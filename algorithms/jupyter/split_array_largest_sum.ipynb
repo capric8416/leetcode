{
    "nbformat": 4,
    "nbformat_minor": 2,
    "metadata": {
        "kernelspec": {
            "display_name": "Python 3",
            "language": "python",
            "name": "python3"
        },
        "language_info": {
            "codemirror_mode": {
                "name": "ipython",
                "version": 3
            },
            "file_extension": ".py",
            "mimetype": "text/x-python",
            "name": "python",
            "nbconvert_exporter": "python",
            "pygments_lexer": "ipython3",
            "version": "3.7.2"
        }
    },
    "cells": [
        {
            "cell_type": "markdown",
            "source": [
                "<h1>Split Array Largest Sum</h1>",
                "<p>Given an array which consists of non-negative integers and an integer <i>m</i>, you can split the array into <i>m</i> non-empty continuous subarrays. Write an algorithm to minimize the largest sum among these <i>m</i> subarrays.<div></div>",
                "</p><div></div>",
                "<div></div>",
                "<p><b>Note:</b><br /><div></div>",
                "If <i>n</i> is the length of array, assume the following constraints are satisfied:<div></div>",
                "<ul><div></div>",
                "<li>1 &le; <i>n</i> &le; 1000</li><div></div>",
                "<li>1 &le; <i>m</i> &le; min(50, <i>n</i>)</li><div></div>",
                "</ul><div></div>",
                "</p><div></div>",
                "<div></div>",
                "<p><b>Examples: </b><div></div>",
                "<pre><div></div>",
                "Input:<div></div>",
                "<b>nums</b> = [7,2,5,10,8]<div></div>",
                "<b>m</b> = 2<div></div>",
                "<div></div>",
                "Output:<div></div>",
                "18<div></div>",
                "<div></div>",
                "Explanation:<div></div>",
                "There are four ways to split <b>nums</b> into two subarrays.<div></div>",
                "The best way is to split it into <b>[7,2,5]</b> and <b>[10,8]</b>,<div></div>",
                "where the largest sum among the two subarrays is only 18.<div></div>",
                "</pre><div></div>",
                "</p><div></div>"
            ],
            "metadata": {}
        },
        {
            "cell_type": "code",
            "metadata": {},
            "execution_count": null,
            "source": "%%writefile split_array_largest_sum.py\nclass Solution:\n    def splitArray(self, nums, m):\n        \"\"\"\n        :type nums: List[int]\n        :type m: int\n        :rtype: int\n        \"\"\"",
            "outputs": []
        },
        {
            "cell_type": "code",
            "metadata": {},
            "execution_count": null,
            "source": "# submit\n%run ../../cli.py push --method=submit --path=split_array_largest_sum.py --clean=True",
            "outputs": []
        }
    ]
}