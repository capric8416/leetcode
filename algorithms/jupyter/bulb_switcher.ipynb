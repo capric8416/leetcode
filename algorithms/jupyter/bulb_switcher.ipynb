{
    "nbformat": 4,
    "nbformat_minor": 2,
    "metadata": {
        "kernelspec": {
            "display_name": "Python 3",
            "language": "python",
            "name": "python3"
        },
        "language_info": {
            "codemirror_mode": {
                "name": "ipython",
                "version": 3
            },
            "file_extension": ".py",
            "mimetype": "text/x-python",
            "name": "python",
            "nbconvert_exporter": "python",
            "pygments_lexer": "ipython3",
            "version": "3.7.2"
        }
    },
    "cells": [
        {
            "cell_type": "markdown",
            "source": [
                "<h1>Bulb Switcher</h1>",
                "<p>There are <i>n</i> bulbs that are initially off. You first turn on all the bulbs. Then, you turn off every second bulb. On the third round, you toggle every third bulb (turning on if it&#39;s off or turning off if it&#39;s on). For the <i>i</i>-th round, you toggle every <i>i</i> bulb. For the <i>n</i>-th round, you only toggle the last bulb. Find how many bulbs are on after <i>n</i> rounds.</p><div></div>",
                "<div></div>",
                "<p><b>Example:</b></p><div></div>",
                "<div></div>",
                "<pre><div></div>",
                "<strong>Input: </strong>3<div></div>",
                "<strong>Output:</strong> 1 <div></div>",
                "<strong>Explanation:</strong> <div></div>",
                "At first, the three bulbs are <b>[off, off, off]</b>.<div></div>",
                "After first round, the three bulbs are <b>[on, on, on]</b>.<div></div>",
                "After second round, the three bulbs are <b>[on, off, on]</b>.<div></div>",
                "After third round, the three bulbs are <b>[on, off, off]</b>. <div></div>",
                "<div></div>",
                "So you should return 1, because there is only one bulb is on.<div></div>",
                "</pre><div></div>",
                "<div></div>"
            ],
            "metadata": {}
        },
        {
            "cell_type": "code",
            "metadata": {},
            "execution_count": null,
            "source": "%%writefile bulb_switcher.py\nclass Solution:\n    def bulbSwitch(self, n):\n        \"\"\"\n        :type n: int\n        :rtype: int\n        \"\"\"",
            "outputs": []
        },
        {
            "cell_type": "code",
            "metadata": {},
            "execution_count": null,
            "source": "# submit\n%run ../../cli.py push --method=submit --path=bulb_switcher.py --clean=True",
            "outputs": []
        }
    ]
}