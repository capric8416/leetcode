{
    "nbformat": 4,
    "nbformat_minor": 2,
    "metadata": {
        "kernelspec": {
            "display_name": "Python 3",
            "language": "python",
            "name": "python3"
        },
        "language_info": {
            "codemirror_mode": {
                "name": "ipython",
                "version": 3
            },
            "file_extension": ".py",
            "mimetype": "text/x-python",
            "name": "python",
            "nbconvert_exporter": "python",
            "pygments_lexer": "ipython3",
            "version": "3.7.2"
        }
    },
    "cells": [
        {
            "cell_type": "markdown",
            "source": [
                "<h1>Ones and Zeroes</h1>",
                "<p>In the computer world, use restricted resource you have to generate maximum benefit is what we always want to pursue.</p><div></div>",
                "<p>For now, suppose you are a dominator of <b>m</b> <code>0s</code> and <b>n</b> <code>1s</code> respectively. On the other hand, there is an array with strings consisting of only <code>0s</code> and <code>1s</code>.</p><div></div>",
                "<div></div>",
                "<p><div></div>",
                "Now your task is to find the maximum number of strings that you can form with given <b>m</b> <code>0s</code> and <b>n</b> <code>1s</code>. Each <code>0</code> and <code>1</code> can be used at most <b>once</b>.<div></div>",
                "</p><div></div>",
                "<div></div>",
                "<div></div>",
                "<p><b>Note:</b><br><div></div>",
                "<ol><div></div>",
                "<li>The given numbers of <code>0s</code> and <code>1s</code> will both not exceed <code>100</code></li><div></div>",
                "<li>The size of given string array won't exceed <code>600</code>.</li><div></div>",
                "</ol><div></div>",
                "</p><div></div>",
                "<div></div>",
                "<p><b>Example 1:</b><br /><div></div>",
                "<pre><div></div>",
                "<b>Input:</b> Array = {\"10\", \"0001\", \"111001\", \"1\", \"0\"}, m = 5, n = 3<div></div>",
                "<b>Output:</b> 4<div></div>",
                "<div></div>",
                "<b>Explanation:</b> This are totally 4 strings can be formed by the using of 5 0s and 3 1s, which are \u201c10,\u201d0001\u201d,\u201d1\u201d,\u201d0\u201d<div></div>",
                "</pre><div></div>",
                "</p><div></div>",
                "<div></div>",
                "<p><b>Example 2:</b><br /><div></div>",
                "<pre><div></div>",
                "<b>Input:</b> Array = {\"10\", \"0\", \"1\"}, m = 1, n = 1<div></div>",
                "<b>Output:</b> 2<div></div>",
                "<div></div>",
                "<b>Explanation:</b> You could form \"10\", but then you'd have nothing left. Better form \"0\" and \"1\".<div></div>",
                "</pre><div></div>",
                "</p><div></div>"
            ],
            "metadata": {}
        },
        {
            "cell_type": "code",
            "metadata": {},
            "execution_count": null,
            "source": "%%writefile ones_and_zeroes.py\nclass Solution:\n    def findMaxForm(self, strs, m, n):\n        \"\"\"\n        :type strs: List[str]\n        :type m: int\n        :type n: int\n        :rtype: int\n        \"\"\"",
            "outputs": []
        },
        {
            "cell_type": "code",
            "metadata": {},
            "execution_count": null,
            "source": "# submit\n%run ../../cli.py push --method=submit --path=ones_and_zeroes.py --clean=True",
            "outputs": []
        }
    ]
}