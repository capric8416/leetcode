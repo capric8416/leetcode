{
    "nbformat": 4,
    "nbformat_minor": 2,
    "metadata": {
        "kernelspec": {
            "display_name": "Python 3",
            "language": "python",
            "name": "python3"
        },
        "language_info": {
            "codemirror_mode": {
                "name": "ipython",
                "version": 3
            },
            "file_extension": ".py",
            "mimetype": "text/x-python",
            "name": "python",
            "nbconvert_exporter": "python",
            "pygments_lexer": "ipython3",
            "version": "3.7.2"
        }
    },
    "cells": [
        {
            "cell_type": "markdown",
            "source": [
                "<h1>Find Duplicate Subtrees</h1>",
                "<p>Given a binary tree, return all duplicate subtrees. For each kind of duplicate subtrees, you only need to return the root node of any <b>one</b> of them.</p><div></div>",
                "<div></div>",
                "<p>Two trees are duplicate if they have the same structure with same node values.</p><div></div>",
                "<div></div>",
                "<p><b>Example 1: </b></p><div></div>",
                "<div></div>",
                "<pre><div></div>",
                "        1<div></div>",
                "       / \\<div></div>",
                "      2   3<div></div>",
                "     /   / \\<div></div>",
                "    4   2   4<div></div>",
                "       /<div></div>",
                "      4<div></div>",
                "</pre><div></div>",
                "<div></div>",
                "<p>The following are two duplicate subtrees:</p><div></div>",
                "<div></div>",
                "<pre><div></div>",
                "      2<div></div>",
                "     /<div></div>",
                "    4<div></div>",
                "</pre><div></div>",
                "<div></div>",
                "<p>and</p><div></div>",
                "<div></div>",
                "<pre><div></div>",
                "    4<div></div>",
                "</pre><div></div>",
                "Therefore, you need to return above trees&#39; root in the form of a list.<div></div>"
            ],
            "metadata": {}
        },
        {
            "cell_type": "code",
            "metadata": {},
            "execution_count": null,
            "source": "%%writefile find_duplicate_subtrees.py\nclass Solution:\n    def findDuplicateSubtrees(self, root):\n        \"\"\"\n        :type root: TreeNode\n        :rtype: List[TreeNode]\n        \"\"\"",
            "outputs": []
        },
        {
            "cell_type": "code",
            "metadata": {},
            "execution_count": null,
            "source": "# submit\n%run ../../cli.py push --method=submit --path=find_duplicate_subtrees.py --clean=True",
            "outputs": []
        }
    ]
}