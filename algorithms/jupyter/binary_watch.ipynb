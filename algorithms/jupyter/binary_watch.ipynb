{
    "nbformat": 4,
    "nbformat_minor": 2,
    "metadata": {
        "kernelspec": {
            "display_name": "Python 3",
            "language": "python",
            "name": "python3"
        },
        "language_info": {
            "codemirror_mode": {
                "name": "ipython",
                "version": 3
            },
            "file_extension": ".py",
            "mimetype": "text/x-python",
            "name": "python",
            "nbconvert_exporter": "python",
            "pygments_lexer": "ipython3",
            "version": "3.7.2"
        }
    },
    "cells": [
        {
            "cell_type": "markdown",
            "source": [
                "<h1>Binary Watch</h1>",
                "<p>A binary watch has 4 LEDs on the top which represent the <b>hours</b> (<b>0-11</b>), and the 6 LEDs on the bottom represent the <b>minutes</b> (<b>0-59</b>).</p><div></div>",
                "<p>Each LED represents a zero or one, with the least significant bit on the right.</p><div></div>",
                "<img src=\"https://upload.wikimedia.org/wikipedia/commons/8/8b/Binary_clock_samui_moon.jpg\" height=\"300\" /><div></div>",
                "<p>For example, the above binary watch reads \"3:25\".</p><div></div>",
                "<div></div>",
                "<p>Given a non-negative integer <i>n</i> which represents the number of LEDs that are currently on, return all possible times the watch could represent.</p><div></div>",
                "<div></div>",
                "<p><b>Example:</b><div></div>",
                "<pre>Input: n = 1<br>Return: [\"1:00\", \"2:00\", \"4:00\", \"8:00\", \"0:01\", \"0:02\", \"0:04\", \"0:08\", \"0:16\", \"0:32\"]</pre><div></div>",
                "</p><div></div>",
                "<div></div>",
                "<p><b>Note:</b><br /><div></div>",
                "<ul><div></div>",
                "<li>The order of output does not matter.</li><div></div>",
                "<li>The hour must not contain a leading zero, for example \"01:00\" is not valid, it should be \"1:00\".</li><div></div>",
                "<li>The minute must be consist of two digits and may contain a leading zero, for example \"10:2\" is not valid, it should be \"10:02\".</li><div></div>",
                "</ul><div></div>",
                "</p><div></div>"
            ],
            "metadata": {}
        },
        {
            "cell_type": "code",
            "metadata": {},
            "execution_count": null,
            "source": "%%writefile binary_watch.py\nclass Solution:\n    def readBinaryWatch(self, num):\n        \"\"\"\n        :type num: int\n        :rtype: List[str]\n        \"\"\"",
            "outputs": []
        },
        {
            "cell_type": "code",
            "metadata": {},
            "execution_count": null,
            "source": "# submit\n%run ../../cli.py push --method=submit --path=binary_watch.py --clean=True",
            "outputs": []
        }
    ]
}