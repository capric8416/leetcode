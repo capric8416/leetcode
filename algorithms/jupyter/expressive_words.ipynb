{
    "nbformat": 4,
    "nbformat_minor": 2,
    "metadata": {
        "kernelspec": {
            "display_name": "Python 3",
            "language": "python",
            "name": "python3"
        },
        "language_info": {
            "codemirror_mode": {
                "name": "ipython",
                "version": 3
            },
            "file_extension": ".py",
            "mimetype": "text/x-python",
            "name": "python",
            "nbconvert_exporter": "python",
            "pygments_lexer": "ipython3",
            "version": "3.7.2"
        }
    },
    "cells": [
        {
            "cell_type": "markdown",
            "source": [
                "<h1>Expressive Words</h1>",
                "<p>Sometimes people repeat letters to represent extra feeling, such as &quot;hello&quot; -&gt; &quot;heeellooo&quot;, &quot;hi&quot; -&gt; &quot;hiiii&quot;.&nbsp; Here, we have&nbsp;groups, of adjacent letters that are all the same character, and adjacent characters to&nbsp;the group are different.&nbsp; A group&nbsp;is extended if that group is length 3 or more, so &quot;e&quot; and &quot;o&quot; would be extended in the first example, and &quot;i&quot; would be extended in the second example.&nbsp; As another example, the groups of &quot;abbcccaaaa&quot; would be &quot;a&quot;, &quot;bb&quot;, &quot;ccc&quot;, and &quot;aaaa&quot;; and &quot;ccc&quot; and &quot;aaaa&quot; are the extended groups of that string.</p><div></div>",
                "<div></div>",
                "<p>For some given string S, a query word is <em>stretchy</em> if it can be made to be equal to S by extending some groups.&nbsp; Formally, we are allowed to repeatedly choose a group&nbsp;(as defined above) of characters <code>c</code>, and add some number of the&nbsp;same character <code>c</code> to it so that the length of the group is 3 or more.&nbsp; Note that we cannot extend a group of size one like &quot;h&quot; to a group of size two like &quot;hh&quot; - all extensions must leave the group extended - ie., at least 3 characters long.</p><div></div>",
                "<div></div>",
                "<p>Given a list of query words, return the number of words that are stretchy.&nbsp;</p><div></div>",
                "<div></div>",
                "<pre><div></div>",
                "<strong>Example:</strong><div></div>",
                "<strong>Input:</strong> <div></div>",
                "S = &quot;heeellooo&quot;<div></div>",
                "words = [&quot;hello&quot;, &quot;hi&quot;, &quot;helo&quot;]<div></div>",
                "<strong>Output:</strong> 1<div></div>",
                "<strong>Explanation:</strong> <div></div>",
                "We can extend &quot;e&quot; and &quot;o&quot; in the word &quot;hello&quot; to get &quot;heeellooo&quot;.<div></div>",
                "We can&#39;t extend &quot;helo&quot; to get &quot;heeellooo&quot; because the group &quot;ll&quot; is not extended.<div></div>",
                "</pre><div></div>",
                "<div></div>",
                "<p><strong>Notes: </strong></p><div></div>",
                "<div></div>",
                "<ul><div></div>",
                "\t<li><code>0 &lt;= len(S) &lt;= 100</code>.</li><div></div>",
                "\t<li><code>0 &lt;= len(words) &lt;= 100</code>.</li><div></div>",
                "\t<li><code>0 &lt;= len(words[i]) &lt;= 100</code>.</li><div></div>",
                "\t<li><code>S</code> and all words in <code>words</code>&nbsp;consist only of&nbsp;lowercase letters</li><div></div>",
                "</ul><div></div>",
                "<div></div>",
                "<p>&nbsp;</p><div></div>",
                "<div></div>"
            ],
            "metadata": {}
        },
        {
            "cell_type": "code",
            "metadata": {},
            "execution_count": null,
            "source": "%%writefile expressive_words.py\nclass Solution:\n    def expressiveWords(self, S, words):\n        \"\"\"\n        :type S: str\n        :type words: List[str]\n        :rtype: int\n        \"\"\"",
            "outputs": []
        },
        {
            "cell_type": "code",
            "metadata": {},
            "execution_count": null,
            "source": "# submit\n%run ../../cli.py push --method=submit --path=expressive_words.py --clean=True",
            "outputs": []
        }
    ]
}