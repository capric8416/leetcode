{
    "nbformat": 4,
    "nbformat_minor": 2,
    "metadata": {
        "kernelspec": {
            "display_name": "Python 3",
            "language": "python",
            "name": "python3"
        },
        "language_info": {
            "codemirror_mode": {
                "name": "ipython",
                "version": 3
            },
            "file_extension": ".py",
            "mimetype": "text/x-python",
            "name": "python",
            "nbconvert_exporter": "python",
            "pygments_lexer": "ipython3",
            "version": "3.7.2"
        }
    },
    "cells": [
        {
            "cell_type": "markdown",
            "source": [
                "<h1>K Closest Points to Origin</h1>",
                "<p>We have a list of <code>points</code>&nbsp;on the plane.&nbsp; Find the <code>K</code> closest points to the origin <code>(0, 0)</code>.</p><div></div>",
                "<div></div>",
                "<p>(Here, the distance between two points on a plane is the Euclidean distance.)</p><div></div>",
                "<div></div>",
                "<p>You may return the answer in any order.&nbsp; The&nbsp;answer is guaranteed to be unique (except for the order that it is in.)</p><div></div>",
                "<div></div>",
                "<p>&nbsp;</p><div></div>",
                "<div></div>",
                "<div><div></div>",
                "<p><strong>Example 1:</strong></p><div></div>",
                "<div></div>",
                "<pre><div></div>",
                "<strong>Input: </strong>points = <span id=\"example-input-1-1\">[[1,3],[-2,2]]</span>, K = <span id=\"example-input-1-2\">1</span><div></div>",
                "<strong>Output: </strong><span id=\"example-output-1\">[[-2,2]]</span><div></div>",
                "<strong>Explanation: </strong><div></div>",
                "The distance between (1, 3) and the origin is sqrt(10).<div></div>",
                "The distance between (-2, 2) and the origin is sqrt(8).<div></div>",
                "Since sqrt(8) &lt; sqrt(10), (-2, 2) is closer to the origin.<div></div>",
                "We only want the closest K = 1 points from the origin, so the answer is just [[-2,2]].<div></div>",
                "</pre><div></div>",
                "<div></div>",
                "<div><div></div>",
                "<p><strong>Example 2:</strong></p><div></div>",
                "<div></div>",
                "<pre><div></div>",
                "<strong>Input: </strong>points = <span id=\"example-input-2-1\">[[3,3],[5,-1],[-2,4]]</span>, K = <span id=\"example-input-2-2\">2</span><div></div>",
                "<strong>Output: </strong><span id=\"example-output-2\">[[3,3],[-2,4]]</span><div></div>",
                "(The answer [[-2,4],[3,3]] would also be accepted.)<div></div>",
                "</pre><div></div>",
                "<div></div>",
                "<p>&nbsp;</p><div></div>",
                "<div></div>",
                "<p><strong>Note:</strong></p><div></div>",
                "<div></div>",
                "<ol><div></div>",
                "\t<li><code>1 &lt;= K &lt;= points.length &lt;= 10000</code></li><div></div>",
                "\t<li><code>-10000 &lt; points[i][0] &lt; 10000</code></li><div></div>",
                "\t<li><code>-10000 &lt; points[i][1] &lt; 10000</code></li><div></div>",
                "</ol><div></div>",
                "</div><div></div>",
                "</div><div></div>",
                "<div></div>"
            ],
            "metadata": {}
        },
        {
            "cell_type": "code",
            "metadata": {},
            "execution_count": null,
            "source": "%%writefile k_closest_points_to_origin.py\nclass Solution:\n    def kClosest(self, points, K):\n        \"\"\"\n        :type points: List[List[int]]\n        :type K: int\n        :rtype: List[List[int]]\n        \"\"\"",
            "outputs": []
        },
        {
            "cell_type": "code",
            "metadata": {},
            "execution_count": null,
            "source": "# submit\n%run ../../cli.py push --method=submit --path=k_closest_points_to_origin.py --clean=True",
            "outputs": []
        }
    ]
}