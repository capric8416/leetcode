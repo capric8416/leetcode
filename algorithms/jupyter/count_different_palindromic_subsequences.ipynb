{
    "nbformat": 4,
    "nbformat_minor": 2,
    "metadata": {
        "kernelspec": {
            "display_name": "Python 3",
            "language": "python",
            "name": "python3"
        },
        "language_info": {
            "codemirror_mode": {
                "name": "ipython",
                "version": 3
            },
            "file_extension": ".py",
            "mimetype": "text/x-python",
            "name": "python",
            "nbconvert_exporter": "python",
            "pygments_lexer": "ipython3",
            "version": "3.7.2"
        }
    },
    "cells": [
        {
            "cell_type": "markdown",
            "source": [
                "<h1>Count Different Palindromic Subsequences</h1>",
                "<p><div></div>",
                "Given a string S, find the number of different non-empty palindromic subsequences in S, and <b>return that number modulo <code>10^9 + 7</code>.</b><div></div>",
                "</p><p><div></div>",
                "A subsequence of a string S is obtained by deleting 0 or more characters from S.<div></div>",
                "</p><p><div></div>",
                "A sequence is palindromic if it is equal to the sequence reversed.<div></div>",
                "</p><p><div></div>",
                "Two sequences <code>A_1, A_2, ...</code> and <code>B_1, B_2, ...</code> are different if there is some <code>i</code> for which <code>A_i != B_i</code>.<div></div>",
                "</p><div></div>",
                "<div></div>",
                "<p><b>Example 1:</b><br /><div></div>",
                "<pre><div></div>",
                "<b>Input:</b> <div></div>",
                "S = 'bccb'<div></div>",
                "<b>Output:</b> 6<div></div>",
                "<b>Explanation:</b> <div></div>",
                "The 6 different non-empty palindromic subsequences are 'b', 'c', 'bb', 'cc', 'bcb', 'bccb'.<div></div>",
                "Note that 'bcb' is counted only once, even though it occurs twice.<div></div>",
                "</pre><div></div>",
                "</p><div></div>",
                "<div></div>",
                "<p><b>Example 2:</b><br /><div></div>",
                "<pre><div></div>",
                "<b>Input:</b> <div></div>",
                "S = 'abcdabcdabcdabcdabcdabcdabcdabcddcbadcbadcbadcbadcbadcbadcbadcba'<div></div>",
                "<b>Output:</b> 104860361<div></div>",
                "<b>Explanation:</b> <div></div>",
                "There are 3104860382 different non-empty palindromic subsequences, which is 104860361 modulo 10^9 + 7.<div></div>",
                "</pre><div></div>",
                "</p><div></div>",
                "<div></div>",
                "<p><b>Note:</b><div></div>",
                "<li>The length of <code>S</code> will be in the range <code>[1, 1000]</code>.</li><div></div>",
                "<li>Each character <code>S[i]</code> will be in the set <code>{'a', 'b', 'c', 'd'}</code>.</li><div></div>",
                "</p><div></div>"
            ],
            "metadata": {}
        },
        {
            "cell_type": "code",
            "metadata": {},
            "execution_count": null,
            "source": "%%writefile count_different_palindromic_subsequences.py\nclass Solution:\n    def countPalindromicSubsequences(self, S):\n        \"\"\"\n        :type S: str\n        :rtype: int\n        \"\"\"",
            "outputs": []
        },
        {
            "cell_type": "code",
            "metadata": {},
            "execution_count": null,
            "source": "# submit\n%run ../../cli.py push --method=submit --path=count_different_palindromic_subsequences.py --clean=True",
            "outputs": []
        }
    ]
}