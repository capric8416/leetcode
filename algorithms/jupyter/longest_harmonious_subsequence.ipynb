{
    "nbformat": 4,
    "nbformat_minor": 2,
    "metadata": {
        "kernelspec": {
            "display_name": "Python 3",
            "language": "python",
            "name": "python3"
        },
        "language_info": {
            "codemirror_mode": {
                "name": "ipython",
                "version": 3
            },
            "file_extension": ".py",
            "mimetype": "text/x-python",
            "name": "python",
            "nbconvert_exporter": "python",
            "pygments_lexer": "ipython3",
            "version": "3.7.2"
        }
    },
    "cells": [
        {
            "cell_type": "markdown",
            "source": [
                "<h1>Longest Harmonious Subsequence</h1>",
                "<p>We define a harmonious array is an array where the difference between its maximum value and its minimum value is <b>exactly</b> 1.</p><div></div>",
                "<div></div>",
                "<p>Now, given an integer array, you need to find the length of its longest harmonious subsequence among all its possible <a href=\"https://en.wikipedia.org/wiki/Subsequence\">subsequences</a>.</p><div></div>",
                "<div></div>",
                "<p><b>Example 1:</b><br /><div></div>",
                "<pre><div></div>",
                "<b>Input:</b> [1,3,2,2,5,2,3,7]<div></div>",
                "<b>Output:</b> 5<div></div>",
                "<b>Explanation:</b> The longest harmonious subsequence is [3,2,2,2,3].<div></div>",
                "</pre><div></div>",
                "</p><div></div>",
                "<div></div>",
                "<p><b>Note:</b><div></div>",
                "The length of the input array will not exceed 20,000.<div></div>",
                "</p><div></div>",
                "<div></div>",
                "<div></div>"
            ],
            "metadata": {}
        },
        {
            "cell_type": "code",
            "metadata": {},
            "execution_count": null,
            "source": "%%writefile longest_harmonious_subsequence.py\nclass Solution:\n    def findLHS(self, nums):\n        \"\"\"\n        :type nums: List[int]\n        :rtype: int\n        \"\"\"",
            "outputs": []
        },
        {
            "cell_type": "code",
            "metadata": {},
            "execution_count": null,
            "source": "# submit\n%run ../../cli.py push --method=submit --path=longest_harmonious_subsequence.py --clean=True",
            "outputs": []
        }
    ]
}