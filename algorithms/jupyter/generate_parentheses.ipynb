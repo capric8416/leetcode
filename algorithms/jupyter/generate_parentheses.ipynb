{
    "nbformat": 4,
    "nbformat_minor": 2,
    "metadata": {
        "kernelspec": {
            "display_name": "Python 3",
            "language": "python",
            "name": "python3"
        },
        "language_info": {
            "codemirror_mode": {
                "name": "ipython",
                "version": 3
            },
            "file_extension": ".py",
            "mimetype": "text/x-python",
            "name": "python",
            "nbconvert_exporter": "python",
            "pygments_lexer": "ipython3",
            "version": "3.7.2"
        }
    },
    "cells": [
        {
            "cell_type": "markdown",
            "source": [
                "<h1>Generate Parentheses</h1>",
                "<p><div></div>",
                "Given <i>n</i> pairs of parentheses, write a function to generate all combinations of well-formed parentheses.<div></div>",
                "</p><div></div>",
                "<div></div>",
                "<p><div></div>",
                "For example, given <i>n</i> = 3, a solution set is:<div></div>",
                "</p><div></div>",
                "<pre><div></div>",
                "[<div></div>",
                "  \"((()))\",<div></div>",
                "  \"(()())\",<div></div>",
                "  \"(())()\",<div></div>",
                "  \"()(())\",<div></div>",
                "  \"()()()\"<div></div>",
                "]<div></div>",
                "</pre><div></div>"
            ],
            "metadata": {}
        },
        {
            "cell_type": "code",
            "metadata": {},
            "execution_count": null,
            "source": "%%writefile generate_parentheses.py\nclass Solution:\n    def generateParenthesis(self, n):\n        \"\"\"\n        :type n: int\n        :rtype: List[str]\n        \"\"\"",
            "outputs": []
        },
        {
            "cell_type": "code",
            "metadata": {},
            "execution_count": null,
            "source": "# submit\n%run ../../cli.py push --method=submit --path=generate_parentheses.py --clean=True",
            "outputs": []
        }
    ]
}