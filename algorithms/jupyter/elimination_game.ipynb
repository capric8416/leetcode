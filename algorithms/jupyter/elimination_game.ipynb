{
    "nbformat": 4,
    "nbformat_minor": 2,
    "metadata": {
        "kernelspec": {
            "display_name": "Python 3",
            "language": "python",
            "name": "python3"
        },
        "language_info": {
            "codemirror_mode": {
                "name": "ipython",
                "version": 3
            },
            "file_extension": ".py",
            "mimetype": "text/x-python",
            "name": "python",
            "nbconvert_exporter": "python",
            "pygments_lexer": "ipython3",
            "version": "3.7.2"
        }
    },
    "cells": [
        {
            "cell_type": "markdown",
            "source": [
                "<h1>Elimination Game</h1>",
                "<p><div></div>",
                "There is a list of sorted integers from 1 to <i>n</i>. Starting from left to right, remove the first number and every other number afterward until you reach the end of the list.</p><div></div>",
                "<div></div>",
                "<p>Repeat the previous step again, but this time from right to left, remove the right most number and every other number from the remaining numbers.</p><div></div>",
                "<div></div>",
                "<p>We keep repeating the steps again, alternating left to right and right to left, until a single number remains.</p><div></div>",
                "<div></div>",
                "<p>Find the last number that remains starting with a list of length <i>n</i>.</p><div></div>",
                "<div></div>",
                "<p><b>Example:</b><div></div>",
                "<pre><div></div>",
                "Input:<div></div>",
                "n = 9,<div></div>",
                "<u>1</u> 2 <u>3</u> 4 <u>5</u> 6 <u>7</u> 8 <u>9</u><div></div>",
                "2 <u>4</u> 6 <u>8</u><div></div>",
                "<u>2</u> 6<div></div>",
                "6<div></div>",
                "<div></div>",
                "Output:<div></div>",
                "6<div></div>",
                "</pre><div></div>",
                "</p><div></div>"
            ],
            "metadata": {}
        },
        {
            "cell_type": "code",
            "metadata": {},
            "execution_count": null,
            "source": "%%writefile elimination_game.py\nclass Solution:\n    def lastRemaining(self, n):\n        \"\"\"\n        :type n: int\n        :rtype: int\n        \"\"\"",
            "outputs": []
        },
        {
            "cell_type": "code",
            "metadata": {},
            "execution_count": null,
            "source": "# submit\n%run ../../cli.py push --method=submit --path=elimination_game.py --clean=True",
            "outputs": []
        }
    ]
}