{
    "nbformat": 4,
    "nbformat_minor": 2,
    "metadata": {
        "kernelspec": {
            "display_name": "Python 3",
            "language": "python",
            "name": "python3"
        },
        "language_info": {
            "codemirror_mode": {
                "name": "ipython",
                "version": 3
            },
            "file_extension": ".py",
            "mimetype": "text/x-python",
            "name": "python",
            "nbconvert_exporter": "python",
            "pygments_lexer": "ipython3",
            "version": "3.7.2"
        }
    },
    "cells": [
        {
            "cell_type": "markdown",
            "source": [
                "<h1>RLE Iterator</h1>",
                "<p>Write an iterator that iterates through a run-length encoded sequence.</p><div></div>",
                "<div></div>",
                "<p>The iterator is initialized by <code>RLEIterator(int[] A)</code>, where <code>A</code> is a run-length encoding of some&nbsp;sequence.&nbsp; More specifically,&nbsp;for all even <code>i</code>,&nbsp;<code>A[i]</code> tells us the number of times that the non-negative integer value <code>A[i+1]</code> is repeated in the sequence.</p><div></div>",
                "<div></div>",
                "<p>The iterator supports one function:&nbsp;<code>next(int n)</code>, which exhausts the next <code>n</code> elements&nbsp;(<code>n &gt;= 1</code>) and returns the last element exhausted in this way.&nbsp; If there is no element left to exhaust, <code>next</code>&nbsp;returns <code>-1</code> instead.</p><div></div>",
                "<div></div>",
                "<p>For example, we start with <code>A = [3,8,0,9,2,5]</code>, which is a run-length encoding of the sequence <code>[8,8,8,5,5]</code>.&nbsp; This is because the sequence can be read as&nbsp;&quot;three eights, zero nines, two fives&quot;.</p><div></div>",
                "<div></div>",
                "<p>&nbsp;</p><div></div>",
                "<div></div>",
                "<p><strong>Example 1:</strong></p><div></div>",
                "<div></div>",
                "<pre><div></div>",
                "<strong>Input: </strong><span id=\"example-input-1-1\">[&quot;RLEIterator&quot;,&quot;next&quot;,&quot;next&quot;,&quot;next&quot;,&quot;next&quot;]</span>, <span id=\"example-input-1-2\">[[[3,8,0,9,2,5]],[2],[1],[1],[2]]</span><div></div>",
                "<strong>Output: </strong><span id=\"example-output-1\">[null,8,8,5,-1]</span><div></div>",
                "<strong>Explanation: </strong><div></div>",
                "RLEIterator is initialized with RLEIterator([3,8,0,9,2,5]).<div></div>",
                "This maps to the sequence [8,8,8,5,5].<div></div>",
                "RLEIterator.next is then called 4 times:<div></div>",
                "<div></div>",
                ".next(2) exhausts 2 terms of the sequence, returning 8.  The remaining sequence is now [8, 5, 5].<div></div>",
                "<div></div>",
                ".next(1) exhausts 1 term of the sequence, returning 8.  The remaining sequence is now [5, 5].<div></div>",
                "<div></div>",
                ".next(1) exhausts 1 term of the sequence, returning 5.  The remaining sequence is now [5].<div></div>",
                "<div></div>",
                ".next(2) exhausts 2 terms, returning -1.  This is because the first term exhausted was 5,<div></div>",
                "but the second term did not exist.  Since the last term exhausted does not exist, we return -1.<div></div>",
                "<div></div>",
                "</pre><div></div>",
                "<div></div>",
                "<p><strong>Note:</strong></p><div></div>",
                "<div></div>",
                "<ol><div></div>",
                "\t<li><code>0 &lt;= A.length &lt;= 1000</code></li><div></div>",
                "\t<li><code>A.length</code>&nbsp;is an even integer.</li><div></div>",
                "\t<li><code>0 &lt;= A[i] &lt;= 10^9</code></li><div></div>",
                "\t<li>There are at most <code>1000</code> calls to <code>RLEIterator.next(int n)</code> per test case.</li><div></div>",
                "\t<li>Each call to&nbsp;<code>RLEIterator.next(int n)</code>&nbsp;will have <code>1 &lt;= n &lt;= 10^9</code>.</li><div></div>",
                "</ol><div></div>",
                "<div></div>"
            ],
            "metadata": {}
        },
        {
            "cell_type": "code",
            "metadata": {},
            "execution_count": null,
            "source": "%%writefile rle_iterator.py\nclass RLEIterator:\n\n    def __init__(self, A):\n        \"\"\"\n        :type A: List[int]\n        \"\"\"\n        \n\n    def next(self, n):\n        \"\"\"\n        :type n: int\n        :rtype: int\n        \"\"\"\n        \n\n\n# Your RLEIterator object will be instantiated and called as such:\n# obj = RLEIterator(A)\n# param_1 = obj.next(n)",
            "outputs": []
        },
        {
            "cell_type": "code",
            "metadata": {},
            "execution_count": null,
            "source": "# submit\n%run ../../cli.py push --method=submit --path=rle_iterator.py --clean=True",
            "outputs": []
        }
    ]
}