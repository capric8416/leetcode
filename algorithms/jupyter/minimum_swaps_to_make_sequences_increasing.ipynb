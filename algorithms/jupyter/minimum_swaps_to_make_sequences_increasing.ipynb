{
    "nbformat": 4,
    "nbformat_minor": 2,
    "metadata": {
        "kernelspec": {
            "display_name": "Python 3",
            "language": "python",
            "name": "python3"
        },
        "language_info": {
            "codemirror_mode": {
                "name": "ipython",
                "version": 3
            },
            "file_extension": ".py",
            "mimetype": "text/x-python",
            "name": "python",
            "nbconvert_exporter": "python",
            "pygments_lexer": "ipython3",
            "version": "3.7.2"
        }
    },
    "cells": [
        {
            "cell_type": "markdown",
            "source": [
                "<h1>Minimum Swaps To Make Sequences Increasing</h1>",
                "<p>We have two integer sequences <code>A</code> and <code>B</code> of the same non-zero length.</p><div></div>",
                "<div></div>",
                "<p>We are allowed to swap elements <code>A[i]</code> and <code>B[i]</code>.&nbsp; Note that both elements are in the same index position in their respective sequences.</p><div></div>",
                "<div></div>",
                "<p>At the end of some number of swaps, <code>A</code> and <code>B</code> are both strictly increasing.&nbsp; (A sequence is <em>strictly increasing</em> if and only if <code>A[0] &lt; A[1] &lt; A[2] &lt; ... &lt; A[A.length - 1]</code>.)</p><div></div>",
                "<div></div>",
                "<p>Given A and B, return the minimum number of swaps to make both sequences strictly increasing.&nbsp; It is guaranteed that the given input always makes it possible.</p><div></div>",
                "<div></div>",
                "<pre><div></div>",
                "<strong>Example:</strong><div></div>",
                "<strong>Input:</strong> A = [1,3,5,4], B = [1,2,3,7]<div></div>",
                "<strong>Output:</strong> 1<div></div>",
                "<strong>Explanation: </strong><div></div>",
                "Swap A[3] and B[3].  Then the sequences are:<div></div>",
                "A = [1, 3, 5, 7] and B = [1, 2, 3, 4]<div></div>",
                "which are both strictly increasing.<div></div>",
                "</pre><div></div>",
                "<div></div>",
                "<p><strong>Note:</strong></p><div></div>",
                "<div></div>",
                "<ul><div></div>",
                "\t<li><code>A, B</code> are arrays with the same length, and that length will be in the range <code>[1, 1000]</code>.</li><div></div>",
                "\t<li><code>A[i], B[i]</code> are integer values in the range <code>[0, 2000]</code>.</li><div></div>",
                "</ul><div></div>",
                "<div></div>"
            ],
            "metadata": {}
        },
        {
            "cell_type": "code",
            "metadata": {},
            "execution_count": null,
            "source": "%%writefile minimum_swaps_to_make_sequences_increasing.py\nclass Solution:\n    def minSwap(self, A, B):\n        \"\"\"\n        :type A: List[int]\n        :type B: List[int]\n        :rtype: int\n        \"\"\"",
            "outputs": []
        },
        {
            "cell_type": "code",
            "metadata": {},
            "execution_count": null,
            "source": "# submit\n%run ../../cli.py push --method=submit --path=minimum_swaps_to_make_sequences_increasing.py --clean=True",
            "outputs": []
        }
    ]
}