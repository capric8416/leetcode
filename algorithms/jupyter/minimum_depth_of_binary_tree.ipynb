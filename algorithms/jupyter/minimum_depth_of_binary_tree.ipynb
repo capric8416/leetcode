{
    "nbformat": 4,
    "nbformat_minor": 2,
    "metadata": {
        "kernelspec": {
            "display_name": "Python 3",
            "language": "python",
            "name": "python3"
        },
        "language_info": {
            "codemirror_mode": {
                "name": "ipython",
                "version": 3
            },
            "file_extension": ".py",
            "mimetype": "text/x-python",
            "name": "python",
            "nbconvert_exporter": "python",
            "pygments_lexer": "ipython3",
            "version": "3.7.2"
        }
    },
    "cells": [
        {
            "cell_type": "markdown",
            "source": [
                "<h1>Minimum Depth of Binary Tree</h1>",
                "<p>Given a binary tree, find its minimum depth.</p><div></div>",
                "<div></div>",
                "<p>The minimum depth is the number of nodes along the shortest path from the root node down to the nearest leaf node.</p><div></div>",
                "<div></div>",
                "<p><strong>Note:</strong>&nbsp;A leaf is a node with no children.</p><div></div>",
                "<div></div>",
                "<p><strong>Example:</strong></p><div></div>",
                "<div></div>",
                "<p>Given binary tree <code>[3,9,20,null,null,15,7]</code>,</p><div></div>",
                "<div></div>",
                "<pre><div></div>",
                "    3<div></div>",
                "   / \\<div></div>",
                "  9  20<div></div>",
                "    /  \\<div></div>",
                "   15   7</pre><div></div>",
                "<div></div>",
                "<p>return its minimum&nbsp;depth = 2.</p><div></div>",
                "<div></div>"
            ],
            "metadata": {}
        },
        {
            "cell_type": "code",
            "metadata": {},
            "execution_count": null,
            "source": "%%writefile minimum_depth_of_binary_tree.py\n# Definition for a binary tree node.\n# class TreeNode:\n#     def __init__(self, x):\n#         self.val = x\n#         self.left = None\n#         self.right = None\n\nclass Solution:\n    def minDepth(self, root):\n        \"\"\"\n        :type root: TreeNode\n        :rtype: int\n        \"\"\"",
            "outputs": []
        },
        {
            "cell_type": "code",
            "metadata": {},
            "execution_count": null,
            "source": "# submit\n%run ../../cli.py push --method=submit --path=minimum_depth_of_binary_tree.py --clean=True",
            "outputs": []
        }
    ]
}