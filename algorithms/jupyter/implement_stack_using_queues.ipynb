{
    "nbformat": 4,
    "nbformat_minor": 2,
    "metadata": {
        "kernelspec": {
            "display_name": "Python 3",
            "language": "python",
            "name": "python3"
        },
        "language_info": {
            "codemirror_mode": {
                "name": "ipython",
                "version": 3
            },
            "file_extension": ".py",
            "mimetype": "text/x-python",
            "name": "python",
            "nbconvert_exporter": "python",
            "pygments_lexer": "ipython3",
            "version": "3.7.2"
        }
    },
    "cells": [
        {
            "cell_type": "markdown",
            "source": [
                "<h1>Implement Stack using Queues</h1>",
                "<p>Implement the following operations of a stack using queues.</p><div></div>",
                "<div></div>",
                "<ul><div></div>",
                "\t<li>push(x) -- Push element x onto stack.</li><div></div>",
                "\t<li>pop() -- Removes the element on top of the stack.</li><div></div>",
                "\t<li>top() -- Get the top element.</li><div></div>",
                "\t<li>empty() -- Return whether the stack is empty.</li><div></div>",
                "</ul><div></div>",
                "<div></div>",
                "<p><b>Example:</b></p><div></div>",
                "<div></div>",
                "<pre><div></div>",
                "MyStack stack = new MyStack();<div></div>",
                "<div></div>",
                "stack.push(1);<div></div>",
                "stack.push(2);  <div></div>",
                "stack.top();   // returns 2<div></div>",
                "stack.pop();   // returns 2<div></div>",
                "stack.empty(); // returns false</pre><div></div>",
                "<div></div>",
                "<p><b>Notes:</b></p><div></div>",
                "<div></div>",
                "<ul><div></div>",
                "\t<li>You must use <i>only</i> standard operations of a queue -- which means only <code>push to back</code>, <code>peek/pop from front</code>, <code>size</code>, and <code>is empty</code> operations are valid.</li><div></div>",
                "\t<li>Depending on your language, queue may not be supported natively. You may simulate a queue by using a list or deque (double-ended queue), as long as you use only standard operations of a queue.</li><div></div>",
                "\t<li>You may assume that all operations are valid (for example, no pop or top operations will be called on an empty stack).</li><div></div>",
                "</ul><div></div>",
                "<div></div>"
            ],
            "metadata": {}
        },
        {
            "cell_type": "code",
            "metadata": {},
            "execution_count": null,
            "source": "%%writefile implement_stack_using_queues.py\nclass MyStack:\n\n    def __init__(self):\n        \"\"\"\n        Initialize your data structure here.\n        \"\"\"\n        \n\n    def push(self, x):\n        \"\"\"\n        Push element x onto stack.\n        :type x: int\n        :rtype: void\n        \"\"\"\n        \n\n    def pop(self):\n        \"\"\"\n        Removes the element on top of the stack and returns that element.\n        :rtype: int\n        \"\"\"\n        \n\n    def top(self):\n        \"\"\"\n        Get the top element.\n        :rtype: int\n        \"\"\"\n        \n\n    def empty(self):\n        \"\"\"\n        Returns whether the stack is empty.\n        :rtype: bool\n        \"\"\"\n        \n\n\n# Your MyStack object will be instantiated and called as such:\n# obj = MyStack()\n# obj.push(x)\n# param_2 = obj.pop()\n# param_3 = obj.top()\n# param_4 = obj.empty()",
            "outputs": []
        },
        {
            "cell_type": "code",
            "metadata": {},
            "execution_count": null,
            "source": "# submit\n%run ../../cli.py push --method=submit --path=implement_stack_using_queues.py --clean=True",
            "outputs": []
        }
    ]
}