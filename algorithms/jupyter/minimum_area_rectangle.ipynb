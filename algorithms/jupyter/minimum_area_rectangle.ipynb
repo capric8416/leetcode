{
    "nbformat": 4,
    "nbformat_minor": 2,
    "metadata": {
        "kernelspec": {
            "display_name": "Python 3",
            "language": "python",
            "name": "python3"
        },
        "language_info": {
            "codemirror_mode": {
                "name": "ipython",
                "version": 3
            },
            "file_extension": ".py",
            "mimetype": "text/x-python",
            "name": "python",
            "nbconvert_exporter": "python",
            "pygments_lexer": "ipython3",
            "version": "3.7.2"
        }
    },
    "cells": [
        {
            "cell_type": "markdown",
            "source": [
                "<h1>Minimum Area Rectangle</h1>",
                "<p>Given a set of points in the xy-plane, determine the minimum area of a rectangle formed from these points, with sides parallel to the x and y axes.</p><div></div>",
                "<div></div>",
                "<p>If there isn&#39;t any rectangle, return 0.</p><div></div>",
                "<div></div>",
                "<p>&nbsp;</p><div></div>",
                "<div></div>",
                "<div><div></div>",
                "<p><strong>Example 1:</strong></p><div></div>",
                "<div></div>",
                "<pre><div></div>",
                "<strong>Input: </strong><span id=\"example-input-1-1\">[[1,1],[1,3],[3,1],[3,3],[2,2]]</span><div></div>",
                "<strong>Output: </strong><span id=\"example-output-1\">4</span><div></div>",
                "</pre><div></div>",
                "<div></div>",
                "<div><div></div>",
                "<p><strong>Example 2:</strong></p><div></div>",
                "<div></div>",
                "<pre><div></div>",
                "<strong>Input: </strong><span id=\"example-input-2-1\">[[1,1],[1,3],[3,1],[3,3],[4,1],[4,3]]</span><div></div>",
                "<strong>Output: </strong><span id=\"example-output-2\">2</span><div></div>",
                "</pre><div></div>",
                "<div></div>",
                "<p>&nbsp;</p><div></div>",
                "<div></div>",
                "<p><strong>Note</strong>:</p><div></div>",
                "<div></div>",
                "<ol><div></div>",
                "\t<li><code>1 &lt;= points.length &lt;= 500</code></li><div></div>",
                "\t<li><code>0 &lt;=&nbsp;points[i][0] &lt;=&nbsp;40000</code></li><div></div>",
                "\t<li><code>0 &lt;=&nbsp;points[i][1] &lt;=&nbsp;40000</code></li><div></div>",
                "\t<li>All points are distinct.</li><div></div>",
                "</ol><div></div>",
                "</div><div></div>",
                "</div><div></div>"
            ],
            "metadata": {}
        },
        {
            "cell_type": "code",
            "metadata": {},
            "execution_count": null,
            "source": "%%writefile minimum_area_rectangle.py\nclass Solution:\n    def minAreaRect(self, points):\n        \"\"\"\n        :type points: List[List[int]]\n        :rtype: int\n        \"\"\"",
            "outputs": []
        },
        {
            "cell_type": "code",
            "metadata": {},
            "execution_count": null,
            "source": "# submit\n%run ../../cli.py push --method=submit --path=minimum_area_rectangle.py --clean=True",
            "outputs": []
        }
    ]
}