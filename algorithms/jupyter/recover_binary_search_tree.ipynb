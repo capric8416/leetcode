{
    "nbformat": 4,
    "nbformat_minor": 2,
    "metadata": {
        "kernelspec": {
            "display_name": "Python 3",
            "language": "python",
            "name": "python3"
        },
        "language_info": {
            "codemirror_mode": {
                "name": "ipython",
                "version": 3
            },
            "file_extension": ".py",
            "mimetype": "text/x-python",
            "name": "python",
            "nbconvert_exporter": "python",
            "pygments_lexer": "ipython3",
            "version": "3.7.2"
        }
    },
    "cells": [
        {
            "cell_type": "markdown",
            "source": [
                "<h1>Recover Binary Search Tree</h1>",
                "<p>Two elements of a binary search tree (BST) are swapped by mistake.</p><div></div>",
                "<div></div>",
                "<p>Recover the tree without changing its structure.</p><div></div>",
                "<div></div>",
                "<p><strong>Example 1:</strong></p><div></div>",
                "<div></div>",
                "<pre><div></div>",
                "<strong>Input:</strong> [1,3,null,null,2]<div></div>",
                "<div></div>",
                "&nbsp;  1<div></div>",
                "&nbsp; /<div></div>",
                "&nbsp;3<div></div>",
                "&nbsp; \\<div></div>",
                "&nbsp;  2<div></div>",
                "<div></div>",
                "<strong>Output:</strong> [3,1,null,null,2]<div></div>",
                "<div></div>",
                "&nbsp;  3<div></div>",
                "&nbsp; /<div></div>",
                "&nbsp;1<div></div>",
                "&nbsp; \\<div></div>",
                "&nbsp;  2<div></div>",
                "</pre><div></div>",
                "<div></div>",
                "<p><strong>Example 2:</strong></p><div></div>",
                "<div></div>",
                "<pre><div></div>",
                "<strong>Input:</strong> [3,1,4,null,null,2]<div></div>",
                "<div></div>",
                "  3<div></div>",
                " / \\<div></div>",
                "1   4<div></div>",
                "&nbsp;  /<div></div>",
                "&nbsp; 2<div></div>",
                "<div></div>",
                "<strong>Output:</strong> [2,1,4,null,null,3]<div></div>",
                "<div></div>",
                "  2<div></div>",
                " / \\<div></div>",
                "1   4<div></div>",
                "&nbsp;  /<div></div>",
                " &nbsp;3<div></div>",
                "</pre><div></div>",
                "<div></div>",
                "<p><strong>Follow up:</strong></p><div></div>",
                "<div></div>",
                "<ul><div></div>",
                "\t<li>A solution using O(<em>n</em>) space is pretty straight forward.</li><div></div>",
                "\t<li>Could you devise a constant space solution?</li><div></div>",
                "</ul><div></div>",
                "<div></div>"
            ],
            "metadata": {}
        },
        {
            "cell_type": "code",
            "metadata": {},
            "execution_count": null,
            "source": "%%writefile recover_binary_search_tree.py\n# Definition for a binary tree node.\n# class TreeNode:\n#     def __init__(self, x):\n#         self.val = x\n#         self.left = None\n#         self.right = None\n\nclass Solution:\n    def recoverTree(self, root):\n        \"\"\"\n        :type root: TreeNode\n        :rtype: void Do not return anything, modify root in-place instead.\n        \"\"\"",
            "outputs": []
        },
        {
            "cell_type": "code",
            "metadata": {},
            "execution_count": null,
            "source": "# submit\n%run ../../cli.py push --method=submit --path=recover_binary_search_tree.py --clean=True",
            "outputs": []
        }
    ]
}