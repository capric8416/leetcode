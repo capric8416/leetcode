{
    "nbformat": 4,
    "nbformat_minor": 2,
    "metadata": {
        "kernelspec": {
            "display_name": "Python 3",
            "language": "python",
            "name": "python3"
        },
        "language_info": {
            "codemirror_mode": {
                "name": "ipython",
                "version": 3
            },
            "file_extension": ".py",
            "mimetype": "text/x-python",
            "name": "python",
            "nbconvert_exporter": "python",
            "pygments_lexer": "ipython3",
            "version": "3.7.2"
        }
    },
    "cells": [
        {
            "cell_type": "markdown",
            "source": [
                "<h1>Longest Repeating Character Replacement</h1>",
                "<p>Given a string that consists of only uppercase English letters, you can replace any letter in the string with another letter at most <i>k</i> times. Find the length of a longest substring containing all repeating letters you can get after performing the above operations.</p><div></div>",
                "<div></div>",
                "<p><b>Note:</b><br /><div></div>",
                "Both the string's length and <i>k</i> will not exceed 10<sup>4</sup>.<div></div>",
                "</p><div></div>",
                "<div></div>",
                "<p><div></div>",
                "<b>Example 1:</b><div></div>",
                "<pre><div></div>",
                "<b>Input:</b><div></div>",
                "s = \"ABAB\", k = 2<div></div>",
                "<div></div>",
                "<b>Output:</b><div></div>",
                "4<div></div>",
                "<div></div>",
                "<b>Explanation:</b><div></div>",
                "Replace the two 'A's with two 'B's or vice versa.<div></div>",
                "</pre><div></div>",
                "</p><div></div>",
                "<div></div>",
                "<p><div></div>",
                "<b>Example 2:</b><div></div>",
                "<pre><div></div>",
                "<b>Input:</b><div></div>",
                "s = \"AABABBA\", k = 1<div></div>",
                "<div></div>",
                "<b>Output:</b><div></div>",
                "4<div></div>",
                "<div></div>",
                "<b>Explanation:</b><div></div>",
                "Replace the one 'A' in the middle with 'B' and form \"AABBBBA\".<div></div>",
                "The substring \"BBBB\" has the longest repeating letters, which is 4.<div></div>",
                "</pre><div></div>",
                "</p><div></div>"
            ],
            "metadata": {}
        },
        {
            "cell_type": "code",
            "metadata": {},
            "execution_count": null,
            "source": "%%writefile longest_repeating_character_replacement.py\nclass Solution:\n    def characterReplacement(self, s, k):\n        \"\"\"\n        :type s: str\n        :type k: int\n        :rtype: int\n        \"\"\"",
            "outputs": []
        },
        {
            "cell_type": "code",
            "metadata": {},
            "execution_count": null,
            "source": "# submit\n%run ../../cli.py push --method=submit --path=longest_repeating_character_replacement.py --clean=True",
            "outputs": []
        }
    ]
}