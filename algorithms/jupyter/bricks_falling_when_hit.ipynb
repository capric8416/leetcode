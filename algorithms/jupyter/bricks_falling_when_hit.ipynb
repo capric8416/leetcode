{
    "nbformat": 4,
    "nbformat_minor": 2,
    "metadata": {
        "kernelspec": {
            "display_name": "Python 3",
            "language": "python",
            "name": "python3"
        },
        "language_info": {
            "codemirror_mode": {
                "name": "ipython",
                "version": 3
            },
            "file_extension": ".py",
            "mimetype": "text/x-python",
            "name": "python",
            "nbconvert_exporter": "python",
            "pygments_lexer": "ipython3",
            "version": "3.7.2"
        }
    },
    "cells": [
        {
            "cell_type": "markdown",
            "source": [
                "<h1>Bricks Falling When Hit</h1>",
                "<p>We have a grid of 1s and 0s; the 1s in a cell represent bricks.&nbsp; A brick will not drop if and only if it is directly connected to the top of the grid, or at least one of its (4-way) adjacent bricks will not drop.</p><div></div>",
                "<div></div>",
                "<p>We will do some erasures&nbsp;sequentially. Each time we want to do the erasure at the location (i, j), the brick (if it exists) on that location will disappear, and then some other bricks may&nbsp;drop because of that&nbsp;erasure.</p><div></div>",
                "<div></div>",
                "<p>Return an array representing the number of bricks that will drop after each erasure in sequence.</p><div></div>",
                "<div></div>",
                "<pre><div></div>",
                "<strong>Example 1:</strong><div></div>",
                "<strong>Input:</strong> <div></div>",
                "grid = [[1,0,0,0],[1,1,1,0]]<div></div>",
                "hits = [[1,0]]<div></div>",
                "<strong>Output:</strong> [2]<div></div>",
                "<strong>Explanation: </strong><div></div>",
                "If we erase the brick at (1, 0), the brick at (1, 1) and (1, 2) will drop. So we should return 2.</pre><div></div>",
                "<div></div>",
                "<pre><div></div>",
                "<strong>Example 2:</strong><div></div>",
                "<strong>Input:</strong> <div></div>",
                "grid = [[1,0,0,0],[1,1,0,0]]<div></div>",
                "hits = [[1,1],[1,0]]<div></div>",
                "<strong>Output:</strong> [0,0]<div></div>",
                "<strong>Explanation: </strong><div></div>",
                "When we erase the brick at (1, 0), the brick at (1, 1) has already disappeared due to the last move. So each erasure will cause no bricks dropping.  Note that the erased brick (1, 0) will not be counted as a dropped brick.</pre><div></div>",
                "<div></div>",
                "<p>&nbsp;</p><div></div>",
                "<div></div>",
                "<p><strong>Note:</strong></p><div></div>",
                "<div></div>",
                "<ul><div></div>",
                "\t<li>The number of rows and columns in the grid will be in the range&nbsp;[1, 200].</li><div></div>",
                "\t<li>The number of erasures will not exceed the area of the grid.</li><div></div>",
                "\t<li>It is guaranteed that each erasure will be different from any other erasure, and located inside the grid.</li><div></div>",
                "\t<li>An erasure may refer to a location with no brick - if it does, no bricks drop.</li><div></div>",
                "</ul><div></div>",
                "<div></div>"
            ],
            "metadata": {}
        },
        {
            "cell_type": "code",
            "metadata": {},
            "execution_count": null,
            "source": "%%writefile bricks_falling_when_hit.py\nclass Solution:\n    def hitBricks(self, grid, hits):\n        \"\"\"\n        :type grid: List[List[int]]\n        :type hits: List[List[int]]\n        :rtype: List[int]\n        \"\"\"",
            "outputs": []
        },
        {
            "cell_type": "code",
            "metadata": {},
            "execution_count": null,
            "source": "# submit\n%run ../../cli.py push --method=submit --path=bricks_falling_when_hit.py --clean=True",
            "outputs": []
        }
    ]
}