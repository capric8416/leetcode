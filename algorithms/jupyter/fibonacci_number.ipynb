{
    "nbformat": 4,
    "nbformat_minor": 2,
    "metadata": {
        "kernelspec": {
            "display_name": "Python 3",
            "language": "python",
            "name": "python3"
        },
        "language_info": {
            "codemirror_mode": {
                "name": "ipython",
                "version": 3
            },
            "file_extension": ".py",
            "mimetype": "text/x-python",
            "name": "python",
            "nbconvert_exporter": "python",
            "pygments_lexer": "ipython3",
            "version": "3.7.2"
        }
    },
    "cells": [
        {
            "cell_type": "markdown",
            "source": [
                "<h1>Fibonacci Number</h1>",
                "<p>The&nbsp;<b>Fibonacci numbers</b>, commonly denoted&nbsp;<code>F(n)</code>&nbsp;form a sequence, called the&nbsp;<b>Fibonacci sequence</b>, such that each number is the sum of the two preceding ones, starting from <code>0</code> and <code>1</code>. That is,</p><div></div>",
                "<div></div>",
                "<pre><div></div>",
                "F(0) = 0,&nbsp; &nbsp;F(1)&nbsp;= 1<div></div>",
                "F(N) = F(N - 1) + F(N - 2), for N &gt; 1.<div></div>",
                "</pre><div></div>",
                "<div></div>",
                "<p>Given <code>N</code>, calculate <code>F(N)</code>.</p><div></div>",
                "<div></div>",
                "<p>&nbsp;</p><div></div>",
                "<div></div>",
                "<p><strong>Example 1:</strong></p><div></div>",
                "<div></div>",
                "<pre><div></div>",
                "<strong>Input:</strong> 2<div></div>",
                "<strong>Output:</strong> 1<div></div>",
                "<strong>Explanation:</strong> F(2) = F(1) + F(0) = 1 + 0 = 1.<div></div>",
                "</pre><div></div>",
                "<div></div>",
                "<p><strong>Example 2:</strong></p><div></div>",
                "<div></div>",
                "<pre><div></div>",
                "<strong>Input:</strong> 3<div></div>",
                "<strong>Output:</strong> 2<div></div>",
                "<strong>Explanation:</strong> F(3) = F(2) + F(1) = 1 + 1 = 2.<div></div>",
                "</pre><div></div>",
                "<div></div>",
                "<p><strong>Example 3:</strong></p><div></div>",
                "<div></div>",
                "<pre><div></div>",
                "<strong>Input:</strong> 4<div></div>",
                "<strong>Output:</strong> 3<div></div>",
                "<strong>Explanation:</strong> F(4) = F(3) + F(2) = 2 + 1 = 3.<div></div>",
                "</pre><div></div>",
                "<div></div>",
                "<p>&nbsp;</p><div></div>",
                "<div></div>",
                "<p><strong>Note:</strong></p><div></div>",
                "<div></div>",
                "<p>0 &le; <code>N</code> &le; 30.</p><div></div>",
                "<div></div>"
            ],
            "metadata": {}
        },
        {
            "cell_type": "code",
            "metadata": {},
            "execution_count": null,
            "source": "%%writefile fibonacci_number.py\nclass Solution:\n    def fib(self, N):\n        \"\"\"\n        :type N: int\n        :rtype: int\n        \"\"\"",
            "outputs": []
        },
        {
            "cell_type": "code",
            "metadata": {},
            "execution_count": null,
            "source": "# submit\n%run ../../cli.py push --method=submit --path=fibonacci_number.py --clean=True",
            "outputs": []
        }
    ]
}