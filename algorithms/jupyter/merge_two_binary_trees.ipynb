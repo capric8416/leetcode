{
    "nbformat": 4,
    "nbformat_minor": 2,
    "metadata": {
        "kernelspec": {
            "display_name": "Python 3",
            "language": "python",
            "name": "python3"
        },
        "language_info": {
            "codemirror_mode": {
                "name": "ipython",
                "version": 3
            },
            "file_extension": ".py",
            "mimetype": "text/x-python",
            "name": "python",
            "nbconvert_exporter": "python",
            "pygments_lexer": "ipython3",
            "version": "3.7.2"
        }
    },
    "cells": [
        {
            "cell_type": "markdown",
            "source": [
                "<h1>Merge Two Binary Trees</h1>",
                "<p>Given two binary trees and imagine that when you put one of them to cover the other, some nodes of the two trees are overlapped while the others are not.</p><div></div>",
                "<div></div>",
                "<p>You need to merge them into a new binary tree. The merge rule is that if two nodes overlap, then sum node values up as the new value of the merged node. Otherwise, the NOT null node will be used as the node of new tree.</p><div></div>",
                "<div></div>",
                "<p><b>Example 1:</b></p><div></div>",
                "<div></div>",
                "<pre><div></div>",
                "<b>Input:</b> <div></div>",
                "\tTree 1                     Tree 2                  <div></div>",
                "          1                         2                             <div></div>",
                "         / \\                       / \\                            <div></div>",
                "        3   2                     1   3                        <div></div>",
                "       /                           \\   \\                      <div></div>",
                "      5                             4   7                  <div></div>",
                "<b>Output:</b> <div></div>",
                "Merged tree:<div></div>",
                "\t     3<div></div>",
                "\t    / \\<div></div>",
                "\t   4   5<div></div>",
                "\t  / \\   \\ <div></div>",
                "\t 5   4   7<div></div>",
                "</pre><div></div>",
                "<div></div>",
                "<p>&nbsp;</p><div></div>",
                "<div></div>",
                "<p><b>Note:</b> The merging process must start from the root nodes of both trees.</p><div></div>",
                "<div></div>"
            ],
            "metadata": {}
        },
        {
            "cell_type": "code",
            "metadata": {},
            "execution_count": null,
            "source": "%%writefile merge_two_binary_trees.py\n# Definition for a binary tree node.\n# class TreeNode:\n#     def __init__(self, x):\n#         self.val = x\n#         self.left = None\n#         self.right = None\n\nclass Solution:\n    def mergeTrees(self, t1, t2):\n        \"\"\"\n        :type t1: TreeNode\n        :type t2: TreeNode\n        :rtype: TreeNode\n        \"\"\"",
            "outputs": []
        },
        {
            "cell_type": "code",
            "metadata": {},
            "execution_count": null,
            "source": "# submit\n%run ../../cli.py push --method=submit --path=merge_two_binary_trees.py --clean=True",
            "outputs": []
        }
    ]
}