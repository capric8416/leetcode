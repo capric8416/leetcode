{
    "nbformat": 4,
    "nbformat_minor": 2,
    "metadata": {
        "kernelspec": {
            "display_name": "Python 3",
            "language": "python",
            "name": "python3"
        },
        "language_info": {
            "codemirror_mode": {
                "name": "ipython",
                "version": 3
            },
            "file_extension": ".py",
            "mimetype": "text/x-python",
            "name": "python",
            "nbconvert_exporter": "python",
            "pygments_lexer": "ipython3",
            "version": "3.7.2"
        }
    },
    "cells": [
        {
            "cell_type": "markdown",
            "source": [
                "<h1>Add Strings</h1>",
                "<p>Given two non-negative integers <code>num1</code> and <code>num2</code> represented as string, return the sum of <code>num1</code> and <code>num2</code>.</p><div></div>",
                "<div></div>",
                "<p><b>Note:</b><div></div>",
                "<ol><div></div>",
                "<li>The length of both <code>num1</code> and <code>num2</code> is < 5100.</li><div></div>",
                "<li>Both <code>num1</code> and <code>num2</code> contains only digits <code>0-9</code>.</li><div></div>",
                "<li>Both <code>num1</code> and <code>num2</code> does not contain any leading zero.</li><div></div>",
                "<li>You <b>must not use any built-in BigInteger library</b> or <b>convert the inputs to integer</b> directly.</li><div></div>",
                "</ol><div></div>",
                "</p><div></div>"
            ],
            "metadata": {}
        },
        {
            "cell_type": "code",
            "metadata": {},
            "execution_count": null,
            "source": "%%writefile add_strings.py\nclass Solution:\n    def addStrings(self, num1, num2):\n        \"\"\"\n        :type num1: str\n        :type num2: str\n        :rtype: str\n        \"\"\"",
            "outputs": []
        },
        {
            "cell_type": "code",
            "metadata": {},
            "execution_count": null,
            "source": "# submit\n%run ../../cli.py push --method=submit --path=add_strings.py --clean=True",
            "outputs": []
        }
    ]
}