{
    "nbformat": 4,
    "nbformat_minor": 2,
    "metadata": {
        "kernelspec": {
            "display_name": "Python 3",
            "language": "python",
            "name": "python3"
        },
        "language_info": {
            "codemirror_mode": {
                "name": "ipython",
                "version": 3
            },
            "file_extension": ".py",
            "mimetype": "text/x-python",
            "name": "python",
            "nbconvert_exporter": "python",
            "pygments_lexer": "ipython3",
            "version": "3.7.2"
        }
    },
    "cells": [
        {
            "cell_type": "markdown",
            "source": [
                "<h1>Koko Eating Bananas</h1>",
                "<p>Koko loves to eat bananas.&nbsp; There are <code>N</code>&nbsp;piles of bananas, the <code>i</code>-th&nbsp;pile has <code>piles[i]</code> bananas.&nbsp; The guards have gone and will come back in <code>H</code> hours.</p><div></div>",
                "<div></div>",
                "<p>Koko can decide her bananas-per-hour eating speed of <code>K</code>.&nbsp; Each hour, she chooses some pile of bananas, and eats K bananas from that pile.&nbsp; If the pile has less than <code>K</code> bananas, she eats all of them instead, and won&#39;t eat any more bananas during this hour.</p><div></div>",
                "<div></div>",
                "<p>Koko likes to eat slowly, but still wants to finish eating all the bananas before the guards come back.</p><div></div>",
                "<div></div>",
                "<p>Return the minimum integer <code>K</code> such that she can eat all the bananas within <code>H</code> hours.</p><div></div>",
                "<div></div>",
                "<p>&nbsp;</p><div></div>",
                "<div></div>",
                "<ul><div></div>",
                "</ul><div></div>",
                "<div></div>",
                "<div><div></div>",
                "<p><strong>Example 1:</strong></p><div></div>",
                "<div></div>",
                "<pre><div></div>",
                "<strong>Input: </strong>piles = <span id=\"example-input-1-1\">[3,6,7,11]</span>, H = <span id=\"example-input-1-2\">8</span><div></div>",
                "<strong>Output: </strong><span id=\"example-output-1\">4</span><div></div>",
                "</pre><div></div>",
                "<div></div>",
                "<div><div></div>",
                "<p><strong>Example 2:</strong></p><div></div>",
                "<div></div>",
                "<pre><div></div>",
                "<strong>Input: </strong>piles = <span id=\"example-input-2-1\">[30,11,23,4,20]</span>, H = <span id=\"example-input-2-2\">5</span><div></div>",
                "<strong>Output: </strong><span id=\"example-output-2\">30</span><div></div>",
                "</pre><div></div>",
                "<div></div>",
                "<div><div></div>",
                "<p><strong>Example 3:</strong></p><div></div>",
                "<div></div>",
                "<pre><div></div>",
                "<strong>Input: </strong>piles = <span id=\"example-input-3-1\">[30,11,23,4,20]</span>, H = <span id=\"example-input-3-2\">6</span><div></div>",
                "<strong>Output: </strong><span id=\"example-output-3\">23</span><div></div>",
                "</pre><div></div>",
                "<div></div>",
                "<p>&nbsp;</p><div></div>",
                "<div></div>",
                "<p><strong>Note:</strong></p><div></div>",
                "<div></div>",
                "<ul><div></div>",
                "\t<li><code>1 &lt;= piles.length &lt;= 10^4</code></li><div></div>",
                "\t<li><code>piles.length &lt;= H &lt;= 10^9</code></li><div></div>",
                "\t<li><code>1 &lt;= piles[i] &lt;= 10^9</code></li><div></div>",
                "</ul><div></div>",
                "</div><div></div>",
                "</div><div></div>",
                "</div><div></div>",
                "<div></div>"
            ],
            "metadata": {}
        },
        {
            "cell_type": "code",
            "metadata": {},
            "execution_count": null,
            "source": "%%writefile koko_eating_bananas.py\nclass Solution:\n    def minEatingSpeed(self, piles, H):\n        \"\"\"\n        :type piles: List[int]\n        :type H: int\n        :rtype: int\n        \"\"\"",
            "outputs": []
        },
        {
            "cell_type": "code",
            "metadata": {},
            "execution_count": null,
            "source": "# submit\n%run ../../cli.py push --method=submit --path=koko_eating_bananas.py --clean=True",
            "outputs": []
        }
    ]
}