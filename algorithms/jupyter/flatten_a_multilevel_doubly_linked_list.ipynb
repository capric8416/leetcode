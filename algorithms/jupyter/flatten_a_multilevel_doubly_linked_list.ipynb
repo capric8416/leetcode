{
    "nbformat": 4,
    "nbformat_minor": 2,
    "metadata": {
        "kernelspec": {
            "display_name": "Python 3",
            "language": "python",
            "name": "python3"
        },
        "language_info": {
            "codemirror_mode": {
                "name": "ipython",
                "version": 3
            },
            "file_extension": ".py",
            "mimetype": "text/x-python",
            "name": "python",
            "nbconvert_exporter": "python",
            "pygments_lexer": "ipython3",
            "version": "3.7.2"
        }
    },
    "cells": [
        {
            "cell_type": "markdown",
            "source": [
                "<h1>Flatten a Multilevel Doubly Linked List</h1>",
                "<p>You are given a doubly linked list which in addition to the next and previous pointers, it could have a child pointer, which may or may not point to a separate doubly linked list. These child lists may have one or more children of their own, and so on, to produce a multilevel data structure, as shown in the example below.</p><div></div>",
                "<div></div>",
                "<p>Flatten the list so that all the nodes appear in a single-level, doubly linked list. You are given the head of the first level of the list.</p><div></div>",
                "<div></div>",
                "<p>&nbsp;</p><div></div>",
                "<div></div>",
                "<p><strong>Example:</strong></p><div></div>",
                "<div></div>",
                "<pre><div></div>",
                "<strong>Input:</strong><div></div>",
                " 1---2---3---4---5---6--NULL<div></div>",
                "         |<div></div>",
                "         7---8---9---10--NULL<div></div>",
                "             |<div></div>",
                "             11--12--NULL<div></div>",
                "<div></div>",
                "<strong>Output:</strong><div></div>",
                "1-2-3-7-8-11-12-9-10-4-5-6-NULL<div></div>",
                "</pre><div></div>",
                "<div></div>",
                "<p>&nbsp;</p><div></div>",
                "<div></div>",
                "<p><strong>Explanation for the above example:</strong></p><div></div>",
                "<div></div>",
                "<p>Given the following multilevel doubly linked list:</p><div></div>",
                "<div></div>",
                "<pre><div></div>",
                "<img src=\"https://assets.leetcode.com/uploads/2018/10/12/multilevellinkedlist.png\" style=\"width: 640px;\" /></pre><div></div>",
                "<div></div>",
                "<p>&nbsp;</p><div></div>",
                "<div></div>",
                "<p>We should return the following flattened doubly linked list:</p><div></div>",
                "<div></div>",
                "<pre><div></div>",
                "<img src=\"https://assets.leetcode.com/uploads/2018/10/12/multilevellinkedlistflattened.png\" style=\"width: 1100px;\" /></pre><div></div>",
                "<div></div>"
            ],
            "metadata": {}
        },
        {
            "cell_type": "code",
            "metadata": {},
            "execution_count": null,
            "source": "%%writefile flatten_a_multilevel_doubly_linked_list.py\n\"\"\"\n# Definition for a Node.\nclass Node:\n    def __init__(self, val, prev, next, child):\n        self.val = val\n        self.prev = prev\n        self.next = next\n        self.child = child\n\"\"\"\nclass Solution:\n    def flatten(self, head):\n        \"\"\"\n        :type head: Node\n        :rtype: Node\n        \"\"\"",
            "outputs": []
        },
        {
            "cell_type": "code",
            "metadata": {},
            "execution_count": null,
            "source": "# submit\n%run ../../cli.py push --method=submit --path=flatten_a_multilevel_doubly_linked_list.py --clean=True",
            "outputs": []
        }
    ]
}