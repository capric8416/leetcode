{
    "nbformat": 4,
    "nbformat_minor": 2,
    "metadata": {
        "kernelspec": {
            "display_name": "Python 3",
            "language": "python",
            "name": "python3"
        },
        "language_info": {
            "codemirror_mode": {
                "name": "ipython",
                "version": 3
            },
            "file_extension": ".py",
            "mimetype": "text/x-python",
            "name": "python",
            "nbconvert_exporter": "python",
            "pygments_lexer": "ipython3",
            "version": "3.7.2"
        }
    },
    "cells": [
        {
            "cell_type": "markdown",
            "source": [
                "<h1>Maximum Depth of N-ary Tree</h1>",
                "<p>Given a n-ary tree, find its maximum depth.</p><div></div>",
                "<div></div>",
                "<p>The maximum depth is the number of nodes along the longest path from the root node down to the farthest leaf node.</p><div></div>",
                "<div></div>",
                "<p>For example, given a <code>3-ary</code> tree:</p><div></div>",
                "&nbsp;<div></div>",
                "<div></div>",
                "<p><img src=\"https://assets.leetcode.com/uploads/2018/10/12/narytreeexample.png\" style=\"width: 100%; max-width: 300px;\" /></p><div></div>",
                "<div></div>",
                "<p>&nbsp;</p><div></div>",
                "<div></div>",
                "<p>We should return its max depth, which is 3.</p><div></div>",
                "<div></div>",
                "<p>&nbsp;</p><div></div>",
                "<div></div>",
                "<p><b>Note:</b></p><div></div>",
                "<div></div>",
                "<ol><div></div>",
                "\t<li>The depth of the tree is at most <code>1000</code>.</li><div></div>",
                "\t<li>The total number of nodes is at most <code>5000</code>.</li><div></div>",
                "</ol><div></div>",
                "<div></div>"
            ],
            "metadata": {}
        },
        {
            "cell_type": "code",
            "metadata": {},
            "execution_count": null,
            "source": "%%writefile maximum_depth_of_n_ary_tree.py\n\"\"\"\n# Definition for a Node.\nclass Node:\n    def __init__(self, val, children):\n        self.val = val\n        self.children = children\n\"\"\"\nclass Solution:\n    def maxDepth(self, root):\n        \"\"\"\n        :type root: Node\n        :rtype: int\n        \"\"\"",
            "outputs": []
        },
        {
            "cell_type": "code",
            "metadata": {},
            "execution_count": null,
            "source": "# submit\n%run ../../cli.py push --method=submit --path=maximum_depth_of_n_ary_tree.py --clean=True",
            "outputs": []
        }
    ]
}