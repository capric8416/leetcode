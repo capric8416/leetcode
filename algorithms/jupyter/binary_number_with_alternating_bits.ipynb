{
    "nbformat": 4,
    "nbformat_minor": 2,
    "metadata": {
        "kernelspec": {
            "display_name": "Python 3",
            "language": "python",
            "name": "python3"
        },
        "language_info": {
            "codemirror_mode": {
                "name": "ipython",
                "version": 3
            },
            "file_extension": ".py",
            "mimetype": "text/x-python",
            "name": "python",
            "nbconvert_exporter": "python",
            "pygments_lexer": "ipython3",
            "version": "3.7.2"
        }
    },
    "cells": [
        {
            "cell_type": "markdown",
            "source": [
                "<h1>Binary Number with Alternating Bits</h1>",
                "<p>Given a positive integer, check whether it has alternating bits: namely, if two adjacent bits will always have different values.</p><div></div>",
                "<div></div>",
                "<p><b>Example 1:</b><br /><div></div>",
                "<pre><div></div>",
                "<b>Input:</b> 5<div></div>",
                "<b>Output:</b> True<div></div>",
                "<b>Explanation:</b><div></div>",
                "The binary representation of 5 is: 101<div></div>",
                "</pre><div></div>",
                "</p><div></div>",
                "<div></div>",
                "<p><b>Example 2:</b><br /><div></div>",
                "<pre><div></div>",
                "<b>Input:</b> 7<div></div>",
                "<b>Output:</b> False<div></div>",
                "<b>Explanation:</b><div></div>",
                "The binary representation of 7 is: 111.<div></div>",
                "</pre><div></div>",
                "</p><div></div>",
                "<div></div>",
                "<p><b>Example 3:</b><br /><div></div>",
                "<pre><div></div>",
                "<b>Input:</b> 11<div></div>",
                "<b>Output:</b> False<div></div>",
                "<b>Explanation:</b><div></div>",
                "The binary representation of 11 is: 1011.<div></div>",
                "</pre><div></div>",
                "</p><div></div>",
                "<div></div>",
                "<p><b>Example 4:</b><br /><div></div>",
                "<pre><div></div>",
                "<b>Input:</b> 10<div></div>",
                "<b>Output:</b> True<div></div>",
                "<b>Explanation:</b><div></div>",
                "The binary representation of 10 is: 1010.<div></div>",
                "</pre><div></div>",
                "</p><div></div>"
            ],
            "metadata": {}
        },
        {
            "cell_type": "code",
            "metadata": {},
            "execution_count": null,
            "source": "%%writefile binary_number_with_alternating_bits.py\nclass Solution:\n    def hasAlternatingBits(self, n):\n        \"\"\"\n        :type n: int\n        :rtype: bool\n        \"\"\"",
            "outputs": []
        },
        {
            "cell_type": "code",
            "metadata": {},
            "execution_count": null,
            "source": "# submit\n%run ../../cli.py push --method=submit --path=binary_number_with_alternating_bits.py --clean=True",
            "outputs": []
        }
    ]
}