{
    "nbformat": 4,
    "nbformat_minor": 2,
    "metadata": {
        "kernelspec": {
            "display_name": "Python 3",
            "language": "python",
            "name": "python3"
        },
        "language_info": {
            "codemirror_mode": {
                "name": "ipython",
                "version": 3
            },
            "file_extension": ".py",
            "mimetype": "text/x-python",
            "name": "python",
            "nbconvert_exporter": "python",
            "pygments_lexer": "ipython3",
            "version": "3.7.2"
        }
    },
    "cells": [
        {
            "cell_type": "markdown",
            "source": [
                "<h1>Distribute Candies</h1>",
                "Given an integer array with <b>even</b> length, where different numbers in this array represent different <b>kinds</b> of candies. Each number means one candy of the corresponding kind. You need to distribute these candies <b>equally</b> in number to brother and sister. Return the maximum number of <b>kinds</b> of candies the sister could gain. <div></div>",
                "<div></div>",
                "<p><b>Example 1:</b><br /><div></div>",
                "<pre><div></div>",
                "<b>Input:</b> candies = [1,1,2,2,3,3]<div></div>",
                "<b>Output:</b> 3<div></div>",
                "<b>Explanation:</b><div></div>",
                "There are three different kinds of candies (1, 2 and 3), and two candies for each kind.<div></div>",
                "Optimal distribution: The sister has candies [1,2,3] and the brother has candies [1,2,3], too. <div></div>",
                "The sister has three different kinds of candies. <div></div>",
                "</pre><div></div>",
                "</p><div></div>",
                "<div></div>",
                "<p><b>Example 2:</b><br /><div></div>",
                "<pre><div></div>",
                "<b>Input:</b> candies = [1,1,2,3]<div></div>",
                "<b>Output:</b> 2<div></div>",
                "<b>Explanation:</b> For example, the sister has candies [2,3] and the brother has candies [1,1]. <div></div>",
                "The sister has two different kinds of candies, the brother has only one kind of candies. <div></div>",
                "</pre><div></div>",
                "</p><div></div>",
                "<div></div>",
                "<p><b>Note:</b><div></div>",
                "<ol><div></div>",
                "<li>The length of the given array is in range [2, 10,000], and will be even.</li><div></div>",
                "<li>The number in given array is in range [-100,000, 100,000].</li><div></div>",
                "<ol><div></div>",
                "</p><div></div>"
            ],
            "metadata": {}
        },
        {
            "cell_type": "code",
            "metadata": {},
            "execution_count": null,
            "source": "%%writefile distribute_candies.py\nclass Solution:\n    def distributeCandies(self, candies):\n        \"\"\"\n        :type candies: List[int]\n        :rtype: int\n        \"\"\"",
            "outputs": []
        },
        {
            "cell_type": "code",
            "metadata": {},
            "execution_count": null,
            "source": "# submit\n%run ../../cli.py push --method=submit --path=distribute_candies.py --clean=True",
            "outputs": []
        }
    ]
}