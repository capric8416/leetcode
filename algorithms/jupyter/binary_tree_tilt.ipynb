{
    "nbformat": 4,
    "nbformat_minor": 2,
    "metadata": {
        "kernelspec": {
            "display_name": "Python 3",
            "language": "python",
            "name": "python3"
        },
        "language_info": {
            "codemirror_mode": {
                "name": "ipython",
                "version": 3
            },
            "file_extension": ".py",
            "mimetype": "text/x-python",
            "name": "python",
            "nbconvert_exporter": "python",
            "pygments_lexer": "ipython3",
            "version": "3.7.2"
        }
    },
    "cells": [
        {
            "cell_type": "markdown",
            "source": [
                "<h1>Binary Tree Tilt</h1>",
                "<p>Given a binary tree, return the tilt of the <b>whole tree</b>.</p><div></div>",
                "<div></div>",
                "<p>The tilt of a <b>tree node</b> is defined as the <b>absolute difference</b> between the sum of all left subtree node values and the sum of all right subtree node values. Null node has tilt 0.</p><div></div>",
                "<div></div>",
                "<p>The tilt of the <b>whole tree</b> is defined as the sum of all nodes' tilt.</p><div></div>",
                "<div></div>",
                "<p><b>Example:</b><br /><div></div>",
                "<pre><div></div>",
                "<b>Input:</b> <div></div>",
                "         1<div></div>",
                "       /   \\<div></div>",
                "      2     3<div></div>",
                "<b>Output:</b> 1<div></div>",
                "<b>Explanation:</b> <div></div>",
                "Tilt of node 2 : 0<div></div>",
                "Tilt of node 3 : 0<div></div>",
                "Tilt of node 1 : |2-3| = 1<div></div>",
                "Tilt of binary tree : 0 + 0 + 1 = 1<div></div>",
                "</pre><div></div>",
                "</p><div></div>",
                "<div></div>",
                "<p><b>Note:</b><div></div>",
                "<ol><div></div>",
                "<li>The sum of node values in any subtree won't exceed the range of 32-bit integer. </li><div></div>",
                "<li>All the tilt values won't exceed the range of 32-bit integer.</li><div></div>",
                "</ol><div></div>",
                "</p><div></div>"
            ],
            "metadata": {}
        },
        {
            "cell_type": "code",
            "metadata": {},
            "execution_count": null,
            "source": "%%writefile binary_tree_tilt.py\n# Definition for a binary tree node.\n# class TreeNode:\n#     def __init__(self, x):\n#         self.val = x\n#         self.left = None\n#         self.right = None\n\nclass Solution:\n    def findTilt(self, root):\n        \"\"\"\n        :type root: TreeNode\n        :rtype: int\n        \"\"\"",
            "outputs": []
        },
        {
            "cell_type": "code",
            "metadata": {},
            "execution_count": null,
            "source": "# submit\n%run ../../cli.py push --method=submit --path=binary_tree_tilt.py --clean=True",
            "outputs": []
        }
    ]
}