{
    "nbformat": 4,
    "nbformat_minor": 2,
    "metadata": {
        "kernelspec": {
            "display_name": "Python 3",
            "language": "python",
            "name": "python3"
        },
        "language_info": {
            "codemirror_mode": {
                "name": "ipython",
                "version": 3
            },
            "file_extension": ".py",
            "mimetype": "text/x-python",
            "name": "python",
            "nbconvert_exporter": "python",
            "pygments_lexer": "ipython3",
            "version": "3.7.2"
        }
    },
    "cells": [
        {
            "cell_type": "markdown",
            "source": [
                "<h1>Lexicographical Numbers</h1>",
                "<p>Given an integer <i>n</i>, return 1 - <i>n</i> in lexicographical order.</p><div></div>",
                "<div></div>",
                "<p>For example, given 13, return: [1,10,11,12,13,2,3,4,5,6,7,8,9].</p><div></div>",
                "<div></div>",
                "<p>Please optimize your algorithm to use less time and space. The input size may be as large as 5,000,000.</p><div></div>",
                "<div></div>"
            ],
            "metadata": {}
        },
        {
            "cell_type": "code",
            "metadata": {},
            "execution_count": null,
            "source": "%%writefile lexicographical_numbers.py\nclass Solution:\n    def lexicalOrder(self, n):\n        \"\"\"\n        :type n: int\n        :rtype: List[int]\n        \"\"\"",
            "outputs": []
        },
        {
            "cell_type": "code",
            "metadata": {},
            "execution_count": null,
            "source": "# submit\n%run ../../cli.py push --method=submit --path=lexicographical_numbers.py --clean=True",
            "outputs": []
        }
    ]
}