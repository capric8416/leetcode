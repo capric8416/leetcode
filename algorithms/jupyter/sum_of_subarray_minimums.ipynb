{
    "nbformat": 4,
    "nbformat_minor": 2,
    "metadata": {
        "kernelspec": {
            "display_name": "Python 3",
            "language": "python",
            "name": "python3"
        },
        "language_info": {
            "codemirror_mode": {
                "name": "ipython",
                "version": 3
            },
            "file_extension": ".py",
            "mimetype": "text/x-python",
            "name": "python",
            "nbconvert_exporter": "python",
            "pygments_lexer": "ipython3",
            "version": "3.7.2"
        }
    },
    "cells": [
        {
            "cell_type": "markdown",
            "source": [
                "<h1>Sum of Subarray Minimums</h1>",
                "<p>Given an array of integers <code>A</code>, find the sum of <code>min(B)</code>, where <code>B</code> ranges over&nbsp;every (contiguous) subarray of <code>A</code>.</p><div></div>",
                "<div></div>",
                "<p>Since the answer may be large, <strong>return the answer modulo <code>10^9 + 7</code>.</strong></p><div></div>",
                "<div></div>",
                "<p>&nbsp;</p><div></div>",
                "<div></div>",
                "<p><strong>Example 1:</strong></p><div></div>",
                "<div></div>",
                "<pre><div></div>",
                "<strong>Input: </strong><span id=\"example-input-1-1\">[3,1,2,4]</span><div></div>",
                "<strong>Output: </strong><span id=\"example-output-1\">17</span><div></div>",
                "<strong>Explanation:</strong> Subarrays are [3], [1], [2], [4], [3,1], [1,2], [2,4], [3,1,2], [1,2,4], [3,1,2,4]. <div></div>",
                "Minimums are 3, 1, 2, 4, 1, 1, 2, 1, 1, 1.&nbsp; Sum is 17.</pre><div></div>",
                "<div></div>",
                "<p>&nbsp;</p><div></div>",
                "<div></div>",
                "<p><strong>Note:</strong></p><div></div>",
                "<div></div>",
                "<ol><div></div>",
                "\t<li><code>1 &lt;= A.length &lt;= 30000</code></li><div></div>",
                "\t<li><code>1 &lt;= A[i] &lt;= 30000</code></li><div></div>",
                "</ol><div></div>",
                "<div></div>",
                "<div><div></div>",
                "<p>&nbsp;</p><div></div>",
                "</div><div></div>",
                "<div></div>"
            ],
            "metadata": {}
        },
        {
            "cell_type": "code",
            "metadata": {},
            "execution_count": null,
            "source": "%%writefile sum_of_subarray_minimums.py\nclass Solution:\n    def sumSubarrayMins(self, A):\n        \"\"\"\n        :type A: List[int]\n        :rtype: int\n        \"\"\"",
            "outputs": []
        },
        {
            "cell_type": "code",
            "metadata": {},
            "execution_count": null,
            "source": "# submit\n%run ../../cli.py push --method=submit --path=sum_of_subarray_minimums.py --clean=True",
            "outputs": []
        }
    ]
}