{
    "nbformat": 4,
    "nbformat_minor": 2,
    "metadata": {
        "kernelspec": {
            "display_name": "Python 3",
            "language": "python",
            "name": "python3"
        },
        "language_info": {
            "codemirror_mode": {
                "name": "ipython",
                "version": 3
            },
            "file_extension": ".py",
            "mimetype": "text/x-python",
            "name": "python",
            "nbconvert_exporter": "python",
            "pygments_lexer": "ipython3",
            "version": "3.7.2"
        }
    },
    "cells": [
        {
            "cell_type": "markdown",
            "source": [
                "<h1>Insert into a Binary Search Tree</h1>",
                "<p>Given the root node of a binary search tree (BST) and a value to be inserted into the tree,&nbsp;insert the value into the BST. Return the root node of the BST after the insertion. It is guaranteed that the new value does not exist in the original BST.</p><div></div>",
                "<div></div>",
                "<p>Note that there may exist&nbsp;multiple valid ways for the&nbsp;insertion, as long as the tree remains a BST after insertion. You can return any of them.</p><div></div>",
                "<div></div>",
                "<p>For example,&nbsp;</p><div></div>",
                "<div></div>",
                "<pre><div></div>",
                "Given the tree:<div></div>",
                "        4<div></div>",
                "       / \\<div></div>",
                "      2   7<div></div>",
                "     / \\<div></div>",
                "    1   3<div></div>",
                "And the value to insert: 5<div></div>",
                "</pre><div></div>",
                "<div></div>",
                "<p>You can return this binary search tree:</p><div></div>",
                "<div></div>",
                "<pre><div></div>",
                "         4<div></div>",
                "       /   \\<div></div>",
                "      2     7<div></div>",
                "     / \\   /<div></div>",
                "    1   3 5<div></div>",
                "</pre><div></div>",
                "<div></div>",
                "<p>This tree is also valid:</p><div></div>",
                "<div></div>",
                "<pre><div></div>",
                "         5<div></div>",
                "       /   \\<div></div>",
                "      2     7<div></div>",
                "     / \\   <div></div>",
                "    1   3<div></div>",
                "         \\<div></div>",
                "          4<div></div>",
                "</pre><div></div>",
                "<div></div>"
            ],
            "metadata": {}
        },
        {
            "cell_type": "code",
            "metadata": {},
            "execution_count": null,
            "source": "%%writefile insert_into_a_binary_search_tree.py\n# Definition for a binary tree node.\n# class TreeNode:\n#     def __init__(self, x):\n#         self.val = x\n#         self.left = None\n#         self.right = None\n\nclass Solution:\n    def insertIntoBST(self, root, val):\n        \"\"\"\n        :type root: TreeNode\n        :type val: int\n        :rtype: TreeNode\n        \"\"\"",
            "outputs": []
        },
        {
            "cell_type": "code",
            "metadata": {},
            "execution_count": null,
            "source": "# submit\n%run ../../cli.py push --method=submit --path=insert_into_a_binary_search_tree.py --clean=True",
            "outputs": []
        }
    ]
}