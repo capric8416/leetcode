{
    "nbformat": 4,
    "nbformat_minor": 2,
    "metadata": {
        "kernelspec": {
            "display_name": "Python 3",
            "language": "python",
            "name": "python3"
        },
        "language_info": {
            "codemirror_mode": {
                "name": "ipython",
                "version": 3
            },
            "file_extension": ".py",
            "mimetype": "text/x-python",
            "name": "python",
            "nbconvert_exporter": "python",
            "pygments_lexer": "ipython3",
            "version": "3.7.2"
        }
    },
    "cells": [
        {
            "cell_type": "markdown",
            "source": [
                "<h1>Find K Closest Elements</h1>",
                "<p><div></div>",
                "Given a sorted array, two integers <code>k</code> and <code>x</code>, find the <code>k</code> closest elements to <code>x</code> in the array.  The result should also be sorted in ascending order.<div></div>",
                "If there is a tie,  the smaller elements are always preferred.<div></div>",
                "</p><div></div>",
                "<div></div>",
                "<p><b>Example 1:</b><br /><div></div>",
                "<pre><div></div>",
                "<b>Input:</b> [1,2,3,4,5], k=4, x=3<div></div>",
                "<b>Output:</b> [1,2,3,4]<div></div>",
                "</pre><div></div>",
                "</p><div></div>",
                "<div></div>",
                "<div></div>",
                "<p><b>Example 2:</b><br /><div></div>",
                "<pre><div></div>",
                "<b>Input:</b> [1,2,3,4,5], k=4, x=-1<div></div>",
                "<b>Output:</b> [1,2,3,4]<div></div>",
                "</pre><div></div>",
                "</p><div></div>",
                "<div></div>",
                "<p><b>Note:</b><br><div></div>",
                "<ol><div></div>",
                "<li>The value k is positive and will always be smaller than the length of the sorted array.</li><div></div>",
                "<li> Length of the given array is positive and will not exceed 10<sup>4</sup></li><div></div>",
                "<li> Absolute value of elements in the array and x will not exceed 10<sup>4</sup></li><div></div>",
                "</ol><div></div>",
                "</p><div></div>",
                "<div></div>",
                "<hr /><div></div>",
                "<div></div>",
                "<p><div></div>",
                "<b><font color=\"red\">UPDATE (2017/9/19):</font></b><br /><div></div>",
                "The <i>arr</i> parameter had been changed to an <b>array of integers</b> (instead of a list of integers). <b><i>Please reload the code definition to get the latest changes</i></b>.<div></div>",
                "</p><div></div>"
            ],
            "metadata": {}
        },
        {
            "cell_type": "code",
            "metadata": {},
            "execution_count": null,
            "source": "%%writefile find_k_closest_elements.py\nclass Solution:\n    def findClosestElements(self, arr, k, x):\n        \"\"\"\n        :type arr: List[int]\n        :type k: int\n        :type x: int\n        :rtype: List[int]\n        \"\"\"",
            "outputs": []
        },
        {
            "cell_type": "code",
            "metadata": {},
            "execution_count": null,
            "source": "# submit\n%run ../../cli.py push --method=submit --path=find_k_closest_elements.py --clean=True",
            "outputs": []
        }
    ]
}