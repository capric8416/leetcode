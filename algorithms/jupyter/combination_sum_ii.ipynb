{
    "nbformat": 4,
    "nbformat_minor": 2,
    "metadata": {
        "kernelspec": {
            "display_name": "Python 3",
            "language": "python",
            "name": "python3"
        },
        "language_info": {
            "codemirror_mode": {
                "name": "ipython",
                "version": 3
            },
            "file_extension": ".py",
            "mimetype": "text/x-python",
            "name": "python",
            "nbconvert_exporter": "python",
            "pygments_lexer": "ipython3",
            "version": "3.7.2"
        }
    },
    "cells": [
        {
            "cell_type": "markdown",
            "source": [
                "<h1>Combination Sum II</h1>",
                "<p>Given a collection of candidate numbers (<code>candidates</code>) and a target number (<code>target</code>), find all unique combinations in <code>candidates</code>&nbsp;where the candidate numbers sums to <code>target</code>.</p><div></div>",
                "<div></div>",
                "<p>Each number in <code>candidates</code>&nbsp;may only be used <strong>once</strong> in the combination.</p><div></div>",
                "<div></div>",
                "<p><strong>Note:</strong></p><div></div>",
                "<div></div>",
                "<ul><div></div>",
                "\t<li>All numbers (including <code>target</code>) will be positive integers.</li><div></div>",
                "\t<li>The solution set must not contain duplicate combinations.</li><div></div>",
                "</ul><div></div>",
                "<div></div>",
                "<p><strong>Example 1:</strong></p><div></div>",
                "<div></div>",
                "<pre><div></div>",
                "<strong>Input:</strong> candidates =&nbsp;<code>[10,1,2,7,6,1,5]</code>, target =&nbsp;<code>8</code>,<div></div>",
                "<strong>A solution set is:</strong><div></div>",
                "[<div></div>",
                "  [1, 7],<div></div>",
                "  [1, 2, 5],<div></div>",
                "  [2, 6],<div></div>",
                "  [1, 1, 6]<div></div>",
                "]<div></div>",
                "</pre><div></div>",
                "<div></div>",
                "<p><strong>Example 2:</strong></p><div></div>",
                "<div></div>",
                "<pre><div></div>",
                "<strong>Input:</strong> candidates =&nbsp;[2,5,2,1,2], target =&nbsp;5,<div></div>",
                "<strong>A solution set is:</strong><div></div>",
                "[<div></div>",
                "&nbsp; [1,2,2],<div></div>",
                "&nbsp; [5]<div></div>",
                "]<div></div>",
                "</pre><div></div>",
                "<div></div>"
            ],
            "metadata": {}
        },
        {
            "cell_type": "code",
            "metadata": {},
            "execution_count": null,
            "source": "%%writefile combination_sum_ii.py\nclass Solution:\n    def combinationSum2(self, candidates, target):\n        \"\"\"\n        :type candidates: List[int]\n        :type target: int\n        :rtype: List[List[int]]\n        \"\"\"",
            "outputs": []
        },
        {
            "cell_type": "code",
            "metadata": {},
            "execution_count": null,
            "source": "# submit\n%run ../../cli.py push --method=submit --path=combination_sum_ii.py --clean=True",
            "outputs": []
        }
    ]
}