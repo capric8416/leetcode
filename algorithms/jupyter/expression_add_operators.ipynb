{
    "nbformat": 4,
    "nbformat_minor": 2,
    "metadata": {
        "kernelspec": {
            "display_name": "Python 3",
            "language": "python",
            "name": "python3"
        },
        "language_info": {
            "codemirror_mode": {
                "name": "ipython",
                "version": 3
            },
            "file_extension": ".py",
            "mimetype": "text/x-python",
            "name": "python",
            "nbconvert_exporter": "python",
            "pygments_lexer": "ipython3",
            "version": "3.7.2"
        }
    },
    "cells": [
        {
            "cell_type": "markdown",
            "source": [
                "<h1>Expression Add Operators</h1>",
                "<p>Given a string that contains only digits <code>0-9</code> and a target value, return all possibilities to add <b>binary</b> operators (not unary) <code>+</code>, <code>-</code>, or <code>*</code> between the digits so they evaluate to the target value.</p><div></div>",
                "<div></div>",
                "<p><b>Example 1:</b></p><div></div>",
                "<div></div>",
                "<pre><div></div>",
                "<b>Input:</b> <code><em>num</em> = </code>&quot;123&quot;, <em>target</em> = 6<div></div>",
                "<b>Output: </b>[&quot;1+2+3&quot;, &quot;1*2*3&quot;] <div></div>",
                "</pre><div></div>",
                "<div></div>",
                "<p><b>Example 2:</b></p><div></div>",
                "<div></div>",
                "<pre><div></div>",
                "<b>Input:</b> <code><em>num</em> = </code>&quot;232&quot;, <em>target</em> = 8<div></div>",
                "<b>Output: </b>[&quot;2*3+2&quot;, &quot;2+3*2&quot;]</pre><div></div>",
                "<div></div>",
                "<p><b>Example 3:</b></p><div></div>",
                "<div></div>",
                "<pre><div></div>",
                "<b>Input:</b> <code><em>num</em> = </code>&quot;105&quot;, <em>target</em> = 5<div></div>",
                "<b>Output: </b>[&quot;1*0+5&quot;,&quot;10-5&quot;]</pre><div></div>",
                "<div></div>",
                "<p><b>Example 4:</b></p><div></div>",
                "<div></div>",
                "<pre><div></div>",
                "<b>Input:</b> <code><em>num</em> = </code>&quot;00&quot;, <em>target</em> = 0<div></div>",
                "<b>Output: </b>[&quot;0+0&quot;, &quot;0-0&quot;, &quot;0*0&quot;]<div></div>",
                "</pre><div></div>",
                "<div></div>",
                "<p><b>Example 5:</b></p><div></div>",
                "<div></div>",
                "<pre><div></div>",
                "<b>Input:</b> <code><em>num</em> = </code>&quot;3456237490&quot;, <em>target</em> = 9191<div></div>",
                "<b>Output: </b>[]<div></div>",
                "</pre><div></div>"
            ],
            "metadata": {}
        },
        {
            "cell_type": "code",
            "metadata": {},
            "execution_count": null,
            "source": "%%writefile expression_add_operators.py\nclass Solution:\n    def addOperators(self, num, target):\n        \"\"\"\n        :type num: str\n        :type target: int\n        :rtype: List[str]\n        \"\"\"",
            "outputs": []
        },
        {
            "cell_type": "code",
            "metadata": {},
            "execution_count": null,
            "source": "# submit\n%run ../../cli.py push --method=submit --path=expression_add_operators.py --clean=True",
            "outputs": []
        }
    ]
}