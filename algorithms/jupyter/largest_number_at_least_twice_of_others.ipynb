{
    "nbformat": 4,
    "nbformat_minor": 2,
    "metadata": {
        "kernelspec": {
            "display_name": "Python 3",
            "language": "python",
            "name": "python3"
        },
        "language_info": {
            "codemirror_mode": {
                "name": "ipython",
                "version": 3
            },
            "file_extension": ".py",
            "mimetype": "text/x-python",
            "name": "python",
            "nbconvert_exporter": "python",
            "pygments_lexer": "ipython3",
            "version": "3.7.2"
        }
    },
    "cells": [
        {
            "cell_type": "markdown",
            "source": [
                "<h1>Largest Number At Least Twice of Others</h1>",
                "<p>In a given integer array <code>nums</code>, there is always exactly one largest element.</p><div></div>",
                "<div></div>",
                "<p>Find whether the largest element in the array is at least twice as much as every other number in the array.</p><div></div>",
                "<div></div>",
                "<p>If it is, return the <strong>index</strong> of the largest element, otherwise return -1.</p><div></div>",
                "<div></div>",
                "<p><strong>Example 1:</strong></p><div></div>",
                "<div></div>",
                "<pre><div></div>",
                "<strong>Input:</strong> nums = [3, 6, 1, 0]<div></div>",
                "<strong>Output:</strong> 1<div></div>",
                "<strong>Explanation:</strong> 6 is the largest integer, and for every other number in the array x,<div></div>",
                "6 is more than twice as big as x.  The index of value 6 is 1, so we return 1.<div></div>",
                "</pre><div></div>",
                "<div></div>",
                "<p>&nbsp;</p><div></div>",
                "<div></div>",
                "<p><strong>Example 2:</strong></p><div></div>",
                "<div></div>",
                "<pre><div></div>",
                "<strong>Input:</strong> nums = [1, 2, 3, 4]<div></div>",
                "<strong>Output:</strong> -1<div></div>",
                "<strong>Explanation:</strong> 4 isn&#39;t at least as big as twice the value of 3, so we return -1.<div></div>",
                "</pre><div></div>",
                "<div></div>",
                "<p>&nbsp;</p><div></div>",
                "<div></div>",
                "<p><strong>Note:</strong></p><div></div>",
                "<div></div>",
                "<ol><div></div>",
                "\t<li><code>nums</code> will have a length in the range <code>[1, 50]</code>.</li><div></div>",
                "\t<li>Every <code>nums[i]</code> will be an integer in the range <code>[0, 99]</code>.</li><div></div>",
                "</ol><div></div>",
                "<div></div>",
                "<p>&nbsp;</p><div></div>",
                "<div></div>"
            ],
            "metadata": {}
        },
        {
            "cell_type": "code",
            "metadata": {},
            "execution_count": null,
            "source": "%%writefile largest_number_at_least_twice_of_others.py\nclass Solution:\n    def dominantIndex(self, nums):\n        \"\"\"\n        :type nums: List[int]\n        :rtype: int\n        \"\"\"",
            "outputs": []
        },
        {
            "cell_type": "code",
            "metadata": {},
            "execution_count": null,
            "source": "# submit\n%run ../../cli.py push --method=submit --path=largest_number_at_least_twice_of_others.py --clean=True",
            "outputs": []
        }
    ]
}