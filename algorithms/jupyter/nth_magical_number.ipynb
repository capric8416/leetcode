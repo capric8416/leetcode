{
    "nbformat": 4,
    "nbformat_minor": 2,
    "metadata": {
        "kernelspec": {
            "display_name": "Python 3",
            "language": "python",
            "name": "python3"
        },
        "language_info": {
            "codemirror_mode": {
                "name": "ipython",
                "version": 3
            },
            "file_extension": ".py",
            "mimetype": "text/x-python",
            "name": "python",
            "nbconvert_exporter": "python",
            "pygments_lexer": "ipython3",
            "version": "3.7.2"
        }
    },
    "cells": [
        {
            "cell_type": "markdown",
            "source": [
                "<h1>Nth Magical Number</h1>",
                "<p>A positive integer&nbsp;is <em>magical</em>&nbsp;if it is divisible by either <font face=\"monospace\">A</font>&nbsp;or <font face=\"monospace\">B</font>.</p><div></div>",
                "<div></div>",
                "<p>Return the <font face=\"monospace\">N</font>-th magical number.&nbsp; Since the answer may be very large, <strong>return it modulo </strong><code>10^9 + 7</code>.</p><div></div>",
                "<div></div>",
                "<p>&nbsp;</p><div></div>",
                "<div></div>",
                "<ol><div></div>",
                "</ol><div></div>",
                "<div></div>",
                "<div><div></div>",
                "<p><strong>Example 1:</strong></p><div></div>",
                "<div></div>",
                "<pre><div></div>",
                "<strong>Input: </strong>N = <span id=\"example-input-1-1\">1</span>, A = <span id=\"example-input-1-2\">2</span>, B = <span id=\"example-input-1-3\">3</span><div></div>",
                "<strong>Output: </strong><span id=\"example-output-1\">2</span><div></div>",
                "</pre><div></div>",
                "<div></div>",
                "<div><div></div>",
                "<p><strong>Example 2:</strong></p><div></div>",
                "<div></div>",
                "<pre><div></div>",
                "<strong>Input: </strong>N = <span id=\"example-input-2-1\">4</span>, A = <span id=\"example-input-2-2\">2</span>, B = <span id=\"example-input-2-3\">3</span><div></div>",
                "<strong>Output: </strong><span id=\"example-output-2\">6</span><div></div>",
                "</pre><div></div>",
                "<div></div>",
                "<div><div></div>",
                "<p><strong>Example 3:</strong></p><div></div>",
                "<div></div>",
                "<pre><div></div>",
                "<strong>Input: </strong>N = <span id=\"example-input-3-1\">5</span>, A = <span id=\"example-input-3-2\">2</span>, B = <span id=\"example-input-3-3\">4</span><div></div>",
                "<strong>Output: </strong><span id=\"example-output-3\">10</span><div></div>",
                "</pre><div></div>",
                "<div></div>",
                "<div><div></div>",
                "<p><strong>Example 4:</strong></p><div></div>",
                "<div></div>",
                "<pre><div></div>",
                "<strong>Input: </strong>N = <span id=\"example-input-4-1\">3</span>, A = <span id=\"example-input-4-2\">6</span>, B = <span id=\"example-input-4-3\">4</span><div></div>",
                "<strong>Output: </strong><span id=\"example-output-4\">8</span><div></div>",
                "</pre><div></div>",
                "<div></div>",
                "<p>&nbsp;</p><div></div>",
                "<div></div>",
                "<p><strong>Note:</strong></p><div></div>",
                "<div></div>",
                "<ol><div></div>",
                "\t<li><code>1 &lt;= N&nbsp;&lt;= 10^9</code></li><div></div>",
                "\t<li><code>2 &lt;= A&nbsp;&lt;= 40000</code></li><div></div>",
                "\t<li><code>2 &lt;= B&nbsp;&lt;= 40000</code></li><div></div>",
                "</ol><div></div>",
                "</div><div></div>",
                "</div><div></div>",
                "</div><div></div>",
                "</div><div></div>",
                "<div></div>"
            ],
            "metadata": {}
        },
        {
            "cell_type": "code",
            "metadata": {},
            "execution_count": null,
            "source": "%%writefile nth_magical_number.py\nclass Solution:\n    def nthMagicalNumber(self, N, A, B):\n        \"\"\"\n        :type N: int\n        :type A: int\n        :type B: int\n        :rtype: int\n        \"\"\"",
            "outputs": []
        },
        {
            "cell_type": "code",
            "metadata": {},
            "execution_count": null,
            "source": "# submit\n%run ../../cli.py push --method=submit --path=nth_magical_number.py --clean=True",
            "outputs": []
        }
    ]
}