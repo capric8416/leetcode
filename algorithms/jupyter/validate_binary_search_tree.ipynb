{
    "nbformat": 4,
    "nbformat_minor": 2,
    "metadata": {
        "kernelspec": {
            "display_name": "Python 3",
            "language": "python",
            "name": "python3"
        },
        "language_info": {
            "codemirror_mode": {
                "name": "ipython",
                "version": 3
            },
            "file_extension": ".py",
            "mimetype": "text/x-python",
            "name": "python",
            "nbconvert_exporter": "python",
            "pygments_lexer": "ipython3",
            "version": "3.7.2"
        }
    },
    "cells": [
        {
            "cell_type": "markdown",
            "source": [
                "<h1>Validate Binary Search Tree</h1>",
                "<p>Given a binary tree, determine if it is a valid binary search tree (BST).</p><div></div>",
                "<div></div>",
                "<p>Assume a BST is defined as follows:</p><div></div>",
                "<div></div>",
                "<ul><div></div>",
                "\t<li>The left subtree of a node contains only nodes with keys <strong>less than</strong> the node&#39;s key.</li><div></div>",
                "\t<li>The right subtree of a node contains only nodes with keys <strong>greater than</strong> the node&#39;s key.</li><div></div>",
                "\t<li>Both the left and right subtrees must also be binary search trees.</li><div></div>",
                "</ul><div></div>",
                "<div></div>",
                "<p><strong>Example 1:</strong></p><div></div>",
                "<div></div>",
                "<pre><div></div>",
                "<strong>Input:</strong><div></div>",
                "    2<div></div>",
                "   / \\<div></div>",
                "  1   3<div></div>",
                "<strong>Output:</strong> true<div></div>",
                "</pre><div></div>",
                "<div></div>",
                "<p><strong>Example 2:</strong></p><div></div>",
                "<div></div>",
                "<pre><div></div>",
                "    5<div></div>",
                "   / \\<div></div>",
                "  1   4<div></div>",
                "&nbsp;    / \\<div></div>",
                "&nbsp;   3   6<div></div>",
                "<strong>Output:</strong> false<div></div>",
                "<strong>Explanation:</strong> The input is: [5,1,4,null,null,3,6]. The root node&#39;s value<div></div>",
                "&nbsp;            is 5 but its right child&#39;s value is 4.<div></div>",
                "</pre><div></div>",
                "<div></div>"
            ],
            "metadata": {}
        },
        {
            "cell_type": "code",
            "metadata": {},
            "execution_count": null,
            "source": "%%writefile validate_binary_search_tree.py\n# Definition for a binary tree node.\n# class TreeNode:\n#     def __init__(self, x):\n#         self.val = x\n#         self.left = None\n#         self.right = None\n\nclass Solution:\n    def isValidBST(self, root):\n        \"\"\"\n        :type root: TreeNode\n        :rtype: bool\n        \"\"\"",
            "outputs": []
        },
        {
            "cell_type": "code",
            "metadata": {},
            "execution_count": null,
            "source": "# submit\n%run ../../cli.py push --method=submit --path=validate_binary_search_tree.py --clean=True",
            "outputs": []
        }
    ]
}