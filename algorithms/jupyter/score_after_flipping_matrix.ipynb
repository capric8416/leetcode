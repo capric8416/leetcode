{
    "nbformat": 4,
    "nbformat_minor": 2,
    "metadata": {
        "kernelspec": {
            "display_name": "Python 3",
            "language": "python",
            "name": "python3"
        },
        "language_info": {
            "codemirror_mode": {
                "name": "ipython",
                "version": 3
            },
            "file_extension": ".py",
            "mimetype": "text/x-python",
            "name": "python",
            "nbconvert_exporter": "python",
            "pygments_lexer": "ipython3",
            "version": "3.7.2"
        }
    },
    "cells": [
        {
            "cell_type": "markdown",
            "source": [
                "<h1>Score After Flipping Matrix</h1>",
                "<p>We have a two dimensional matrix&nbsp;<code>A</code> where each value is <code>0</code> or <code>1</code>.</p><div></div>",
                "<div></div>",
                "<p>A move consists of choosing any row or column, and toggling each value in that row or column: changing all <code>0</code>s to <code>1</code>s, and all <code>1</code>s to <code>0</code>s.</p><div></div>",
                "<div></div>",
                "<p>After making any number of moves, every row of this matrix is interpreted as a binary number, and the score of the matrix is the sum of these numbers.</p><div></div>",
                "<div></div>",
                "<p>Return the highest possible&nbsp;score.</p><div></div>",
                "<div></div>",
                "<p>&nbsp;</p><div></div>",
                "<div></div>",
                "<ol><div></div>",
                "</ol><div></div>",
                "<div></div>",
                "<div><div></div>",
                "<p><strong>Example 1:</strong></p><div></div>",
                "<div></div>",
                "<pre><div></div>",
                "<strong>Input: </strong><span id=\"example-input-1-1\">[[0,0,1,1],[1,0,1,0],[1,1,0,0]]</span><div></div>",
                "<strong>Output: </strong><span id=\"example-output-1\">39</span><div></div>",
                "<strong>Explanation:<div></div>",
                "</strong>Toggled to <span id=\"example-input-1-1\">[[1,1,1,1],[1,0,0,1],[1,1,1,1]].<div></div>",
                "0b1111 + 0b1001 + 0b1111 = 15 + 9 + 15 = 39</span></pre><div></div>",
                "<div></div>",
                "<p>&nbsp;</p><div></div>",
                "<div></div>",
                "<p><strong>Note:</strong></p><div></div>",
                "<div></div>",
                "<ol><div></div>",
                "\t<li><code>1 &lt;= A.length &lt;= 20</code></li><div></div>",
                "\t<li><code>1 &lt;= A[0].length &lt;= 20</code></li><div></div>",
                "\t<li><code>A[i][j]</code>&nbsp;is <code>0</code> or <code>1</code>.</li><div></div>",
                "</ol><div></div>",
                "</div><div></div>",
                "<div></div>"
            ],
            "metadata": {}
        },
        {
            "cell_type": "code",
            "metadata": {},
            "execution_count": null,
            "source": "%%writefile score_after_flipping_matrix.py\nclass Solution:\n    def matrixScore(self, A):\n        \"\"\"\n        :type A: List[List[int]]\n        :rtype: int\n        \"\"\"",
            "outputs": []
        },
        {
            "cell_type": "code",
            "metadata": {},
            "execution_count": null,
            "source": "# submit\n%run ../../cli.py push --method=submit --path=score_after_flipping_matrix.py --clean=True",
            "outputs": []
        }
    ]
}