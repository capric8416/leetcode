{
    "nbformat": 4,
    "nbformat_minor": 2,
    "metadata": {
        "kernelspec": {
            "display_name": "Python 3",
            "language": "python",
            "name": "python3"
        },
        "language_info": {
            "codemirror_mode": {
                "name": "ipython",
                "version": 3
            },
            "file_extension": ".py",
            "mimetype": "text/x-python",
            "name": "python",
            "nbconvert_exporter": "python",
            "pygments_lexer": "ipython3",
            "version": "3.7.2"
        }
    },
    "cells": [
        {
            "cell_type": "markdown",
            "source": [
                "<h1>Binary Tree Maximum Path Sum</h1>",
                "<p>Given a <strong>non-empty</strong> binary tree, find the maximum path sum.</p><div></div>",
                "<div></div>",
                "<p>For this problem, a path is defined as any sequence of nodes from some starting node to any node in the tree along the parent-child connections. The path must contain <strong>at least one node</strong> and does not need to go through the root.</p><div></div>",
                "<div></div>",
                "<p><strong>Example 1:</strong></p><div></div>",
                "<div></div>",
                "<pre><div></div>",
                "<strong>Input:</strong> [1,2,3]<div></div>",
                "<div></div>",
                "       <strong>1</strong><div></div>",
                "      <strong>/ \\</strong><div></div>",
                "     <strong>2</strong>   <strong>3</strong><div></div>",
                "<div></div>",
                "<strong>Output:</strong> 6<div></div>",
                "</pre><div></div>",
                "<div></div>",
                "<p><strong>Example 2:</strong></p><div></div>",
                "<div></div>",
                "<pre><div></div>",
                "<strong>Input:</strong> [-10,9,20,null,null,15,7]<div></div>",
                "<div></div>",
                "&nbsp;  -10<div></div>",
                "&nbsp; &nbsp;/ \\<div></div>",
                "&nbsp; 9 &nbsp;<strong>20</strong><div></div>",
                "&nbsp; &nbsp; <strong>/ &nbsp;\\</strong><div></div>",
                "&nbsp; &nbsp;<strong>15 &nbsp; 7</strong><div></div>",
                "<div></div>",
                "<strong>Output:</strong> 42<div></div>",
                "</pre><div></div>",
                "<div></div>"
            ],
            "metadata": {}
        },
        {
            "cell_type": "code",
            "metadata": {},
            "execution_count": null,
            "source": "%%writefile binary_tree_maximum_path_sum.py\n# Definition for a binary tree node.\n# class TreeNode:\n#     def __init__(self, x):\n#         self.val = x\n#         self.left = None\n#         self.right = None\n\nclass Solution:\n    def maxPathSum(self, root):\n        \"\"\"\n        :type root: TreeNode\n        :rtype: int\n        \"\"\"",
            "outputs": []
        },
        {
            "cell_type": "code",
            "metadata": {},
            "execution_count": null,
            "source": "# submit\n%run ../../cli.py push --method=submit --path=binary_tree_maximum_path_sum.py --clean=True",
            "outputs": []
        }
    ]
}