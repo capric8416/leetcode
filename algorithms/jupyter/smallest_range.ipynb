{
    "nbformat": 4,
    "nbformat_minor": 2,
    "metadata": {
        "kernelspec": {
            "display_name": "Python 3",
            "language": "python",
            "name": "python3"
        },
        "language_info": {
            "codemirror_mode": {
                "name": "ipython",
                "version": 3
            },
            "file_extension": ".py",
            "mimetype": "text/x-python",
            "name": "python",
            "nbconvert_exporter": "python",
            "pygments_lexer": "ipython3",
            "version": "3.7.2"
        }
    },
    "cells": [
        {
            "cell_type": "markdown",
            "source": [
                "<h1>Smallest Range</h1>",
                "<p>You have <code>k</code> lists of sorted integers in ascending order. Find the <b>smallest</b> range that includes at least one number from each of the <code>k</code> lists. </p><div></div>",
                "<div></div>",
                "<p>We define the range [a,b] is smaller than range [c,d] if <code>b-a < d-c</code> or <code>a < c</code> if <code>b-a == d-c</code>.</p><div></div>",
                "<div></div>",
                "<p><b>Example 1:</b><br /><div></div>",
                "<pre><div></div>",
                "<b>Input:</b>[[4,10,15,24,26], [0,9,12,20], [5,18,22,30]]<div></div>",
                "<b>Output:</b> [20,24]<div></div>",
                "<b>Explanation:</b> <div></div>",
                "List 1: [4, 10, 15, 24,26], 24 is in range [20,24].<div></div>",
                "List 2: [0, 9, 12, 20], 20 is in range [20,24].<div></div>",
                "List 3: [5, 18, 22, 30], 22 is in range [20,24].<div></div>",
                "</pre><div></div>",
                "</p><div></div>",
                "<div></div>",
                "<p><div></div>",
                "<b>Note:</b><br/><div></div>",
                "<ol><div></div>",
                "<li>The given list may contain duplicates, so ascending order means >= here.</li><div></div>",
                "<li>1 <= <code>k</code> <= 3500</li><div></div>",
                "<li> -10<sup>5</sup> <= <code>value of elements</code> <= 10<sup>5</sup>.</li><div></div>",
                "<li><b>For Java users, please note that the input type has been changed to List&lt;List&lt;Integer&gt;&gt;. And after you reset the code template, you'll see this point.</b></li><div></div>",
                "</ol><div></div>",
                "<br/><div></div>",
                "</p><div></div>"
            ],
            "metadata": {}
        },
        {
            "cell_type": "code",
            "metadata": {},
            "execution_count": null,
            "source": "%%writefile smallest_range.py\nclass Solution:\n    def smallestRange(self, nums):\n        \"\"\"\n        :type nums: List[List[int]]\n        :rtype: List[int]\n        \"\"\"",
            "outputs": []
        },
        {
            "cell_type": "code",
            "metadata": {},
            "execution_count": null,
            "source": "# submit\n%run ../../cli.py push --method=submit --path=smallest_range.py --clean=True",
            "outputs": []
        }
    ]
}