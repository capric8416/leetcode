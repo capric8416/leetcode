{
    "nbformat": 4,
    "nbformat_minor": 2,
    "metadata": {
        "kernelspec": {
            "display_name": "Python 3",
            "language": "python",
            "name": "python3"
        },
        "language_info": {
            "codemirror_mode": {
                "name": "ipython",
                "version": 3
            },
            "file_extension": ".py",
            "mimetype": "text/x-python",
            "name": "python",
            "nbconvert_exporter": "python",
            "pygments_lexer": "ipython3",
            "version": "3.7.2"
        }
    },
    "cells": [
        {
            "cell_type": "markdown",
            "source": [
                "<h1>Implement Trie (Prefix Tree)</h1>",
                "<p>Implement a trie with <code>insert</code>, <code>search</code>, and <code>startsWith</code> methods.</p><div></div>",
                "<div></div>",
                "<p><b>Example:</b></p><div></div>",
                "<div></div>",
                "<pre><div></div>",
                "Trie trie = new Trie();<div></div>",
                "<div></div>",
                "trie.insert(&quot;apple&quot;);<div></div>",
                "trie.search(&quot;apple&quot;);   // returns true<div></div>",
                "trie.search(&quot;app&quot;);     // returns false<div></div>",
                "trie.startsWith(&quot;app&quot;); // returns true<div></div>",
                "trie.insert(&quot;app&quot;);   <div></div>",
                "trie.search(&quot;app&quot;);     // returns true<div></div>",
                "</pre><div></div>",
                "<div></div>",
                "<p><b>Note:</b></p><div></div>",
                "<div></div>",
                "<ul><div></div>",
                "\t<li>You may assume that all inputs are consist of lowercase letters <code>a-z</code>.</li><div></div>",
                "\t<li>All inputs are guaranteed to be non-empty strings.</li><div></div>",
                "</ul><div></div>",
                "<div></div>"
            ],
            "metadata": {}
        },
        {
            "cell_type": "code",
            "metadata": {},
            "execution_count": null,
            "source": "%%writefile implement_trie_prefix_tree.py\nclass Trie:\n\n    def __init__(self):\n        \"\"\"\n        Initialize your data structure here.\n        \"\"\"\n        \n\n    def insert(self, word):\n        \"\"\"\n        Inserts a word into the trie.\n        :type word: str\n        :rtype: void\n        \"\"\"\n        \n\n    def search(self, word):\n        \"\"\"\n        Returns if the word is in the trie.\n        :type word: str\n        :rtype: bool\n        \"\"\"\n        \n\n    def startsWith(self, prefix):\n        \"\"\"\n        Returns if there is any word in the trie that starts with the given prefix.\n        :type prefix: str\n        :rtype: bool\n        \"\"\"\n        \n\n\n# Your Trie object will be instantiated and called as such:\n# obj = Trie()\n# obj.insert(word)\n# param_2 = obj.search(word)\n# param_3 = obj.startsWith(prefix)",
            "outputs": []
        },
        {
            "cell_type": "code",
            "metadata": {},
            "execution_count": null,
            "source": "# submit\n%run ../../cli.py push --method=submit --path=implement_trie_prefix_tree.py --clean=True",
            "outputs": []
        }
    ]
}