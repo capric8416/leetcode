{
    "nbformat": 4,
    "nbformat_minor": 2,
    "metadata": {
        "kernelspec": {
            "display_name": "Python 3",
            "language": "python",
            "name": "python3"
        },
        "language_info": {
            "codemirror_mode": {
                "name": "ipython",
                "version": 3
            },
            "file_extension": ".py",
            "mimetype": "text/x-python",
            "name": "python",
            "nbconvert_exporter": "python",
            "pygments_lexer": "ipython3",
            "version": "3.7.2"
        }
    },
    "cells": [
        {
            "cell_type": "markdown",
            "source": [
                "<h1>Linked List Random Node</h1>",
                "<p>Given a singly linked list, return a random node's value from the linked list. Each node must have the <b>same probability</b> of being chosen.</p><div></div>",
                "<div></div>",
                "<p><b>Follow up:</b><br /><div></div>",
                "What if the linked list is extremely large and its length is unknown to you? Could you solve this efficiently without using extra space?<div></div>",
                "</p><div></div>",
                "<div></div>",
                "<p><b>Example:</b><div></div>",
                "<pre><div></div>",
                "// Init a singly linked list [1,2,3].<div></div>",
                "ListNode head = new ListNode(1);<div></div>",
                "head.next = new ListNode(2);<div></div>",
                "head.next.next = new ListNode(3);<div></div>",
                "Solution solution = new Solution(head);<div></div>",
                "<div></div>",
                "// getRandom() should return either 1, 2, or 3 randomly. Each element should have equal probability of returning.<div></div>",
                "solution.getRandom();<div></div>",
                "</pre><div></div>",
                "</p><div></div>"
            ],
            "metadata": {}
        },
        {
            "cell_type": "code",
            "metadata": {},
            "execution_count": null,
            "source": "%%writefile linked_list_random_node.py\n# Definition for singly-linked list.\n# class ListNode:\n#     def __init__(self, x):\n#         self.val = x\n#         self.next = None\n\nclass Solution:\n\n    def __init__(self, head):\n        \"\"\"\n        @param head The linked list's head.\n        Note that the head is guaranteed to be not null, so it contains at least one node.\n        :type head: ListNode\n        \"\"\"\n        \n\n    def getRandom(self):\n        \"\"\"\n        Returns a random node's value.\n        :rtype: int\n        \"\"\"\n        \n\n\n# Your Solution object will be instantiated and called as such:\n# obj = Solution(head)\n# param_1 = obj.getRandom()",
            "outputs": []
        },
        {
            "cell_type": "code",
            "metadata": {},
            "execution_count": null,
            "source": "# submit\n%run ../../cli.py push --method=submit --path=linked_list_random_node.py --clean=True",
            "outputs": []
        }
    ]
}