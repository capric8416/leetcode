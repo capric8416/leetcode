{
    "nbformat": 4,
    "nbformat_minor": 2,
    "metadata": {
        "kernelspec": {
            "display_name": "Python 3",
            "language": "python",
            "name": "python3"
        },
        "language_info": {
            "codemirror_mode": {
                "name": "ipython",
                "version": 3
            },
            "file_extension": ".py",
            "mimetype": "text/x-python",
            "name": "python",
            "nbconvert_exporter": "python",
            "pygments_lexer": "ipython3",
            "version": "3.7.2"
        }
    },
    "cells": [
        {
            "cell_type": "markdown",
            "source": [
                "<h1>Simplify Path</h1>",
                "<p>Given an <strong>absolute path</strong> for a file (Unix-style), simplify it. Or in other words, convert it to the <strong>canonical path</strong>.</p><div></div>",
                "<div></div>",
                "<p>In a UNIX-style file system, a period <code>.</code>&nbsp;refers to the current directory. Furthermore, a double period <code>..</code>&nbsp;moves the directory up a level. For more information, see:&nbsp;<a href=\"https://www.linuxnix.com/abslute-path-vs-relative-path-in-linuxunix/\" target=\"_blank\">Absolute path&nbsp;vs&nbsp;relative&nbsp;path&nbsp;in&nbsp;Linux/Unix</a></p><div></div>",
                "<div></div>",
                "<p>Note that the returned canonical path must always begin&nbsp;with a slash <code>/</code>, and there must be only a single slash <code>/</code>&nbsp;between two directory names.&nbsp;The last directory name (if it exists) <b>must not</b>&nbsp;end with a trailing <code>/</code>. Also, the canonical path must be the <strong>shortest</strong> string&nbsp;representing the absolute path.</p><div></div>",
                "<div></div>",
                "<p>&nbsp;</p><div></div>",
                "<div></div>",
                "<p><strong>Example 1:</strong></p><div></div>",
                "<div></div>",
                "<pre><div></div>",
                "<strong>Input: &quot;</strong><span id=\"example-input-1-1\">/home/&quot;</span><div></div>",
                "<strong>Output: &quot;</strong><span id=\"example-output-1\">/home&quot;<div></div>",
                "<strong>Explanation:</strong> Note that there is no trailing slash after the last directory name.</span><div></div>",
                "</pre><div></div>",
                "<div></div>",
                "<p><strong>Example 2:</strong></p><div></div>",
                "<div></div>",
                "<pre><div></div>",
                "<strong>Input: &quot;</strong><span id=\"example-input-1-1\">/../&quot;</span><div></div>",
                "<strong>Output: &quot;</strong><span id=\"example-output-1\">/&quot;</span><div></div>",
                "<strong>Explanation:</strong> Going one level up from the root directory is a no-op, as the root level is the highest level you can go.<div></div>",
                "</pre><div></div>",
                "<div></div>",
                "<p><strong>Example 3:</strong></p><div></div>",
                "<div></div>",
                "<pre><div></div>",
                "<strong>Input: &quot;</strong><span id=\"example-input-1-1\">/home//foo/&quot;</span><div></div>",
                "<strong>Output: &quot;</strong><span id=\"example-output-1\">/home/foo&quot;</span><div></div>",
                "<strong>Explanation: </strong>In the canonical path, multiple consecutive slashes are replaced by a single one.<div></div>",
                "</pre><div></div>",
                "<div></div>",
                "<p><strong>Example 4:</strong></p><div></div>",
                "<div></div>",
                "<pre><div></div>",
                "<strong>Input: &quot;</strong><span id=\"example-input-1-1\">/a/./b/../../c/&quot;</span><div></div>",
                "<strong>Output: &quot;</strong><span id=\"example-output-1\">/c&quot;</span><div></div>",
                "</pre><div></div>",
                "<div></div>",
                "<p><strong>Example 5:</strong></p><div></div>",
                "<div></div>",
                "<pre><div></div>",
                "<strong>Input: &quot;</strong><span id=\"example-input-1-1\">/a/../../b/../c//.//&quot;</span><div></div>",
                "<strong>Output: &quot;</strong><span id=\"example-output-1\">/c&quot;</span><div></div>",
                "</pre><div></div>",
                "<div></div>",
                "<p><strong>Example 6:</strong></p><div></div>",
                "<div></div>",
                "<pre><div></div>",
                "<strong>Input: &quot;</strong><span id=\"example-input-1-1\">/a//b////c/d//././/..&quot;</span><div></div>",
                "<strong>Output: &quot;</strong><span id=\"example-output-1\">/a/b/c&quot;</span><div></div>",
                "</pre><div></div>",
                "<div></div>"
            ],
            "metadata": {}
        },
        {
            "cell_type": "code",
            "metadata": {},
            "execution_count": null,
            "source": "%%writefile simplify_path.py\nclass Solution:\n    def simplifyPath(self, path):\n        \"\"\"\n        :type path: str\n        :rtype: str\n        \"\"\"",
            "outputs": []
        },
        {
            "cell_type": "code",
            "metadata": {},
            "execution_count": null,
            "source": "# submit\n%run ../../cli.py push --method=submit --path=simplify_path.py --clean=True",
            "outputs": []
        }
    ]
}