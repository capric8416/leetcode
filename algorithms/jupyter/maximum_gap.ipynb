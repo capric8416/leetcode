{
    "nbformat": 4,
    "nbformat_minor": 2,
    "metadata": {
        "kernelspec": {
            "display_name": "Python 3",
            "language": "python",
            "name": "python3"
        },
        "language_info": {
            "codemirror_mode": {
                "name": "ipython",
                "version": 3
            },
            "file_extension": ".py",
            "mimetype": "text/x-python",
            "name": "python",
            "nbconvert_exporter": "python",
            "pygments_lexer": "ipython3",
            "version": "3.7.2"
        }
    },
    "cells": [
        {
            "cell_type": "markdown",
            "source": [
                "<h1>Maximum Gap</h1>",
                "<p>Given an unsorted array, find the maximum difference between the successive elements in its sorted form.</p><div></div>",
                "<div></div>",
                "<p>Return 0 if the array contains less than 2 elements.</p><div></div>",
                "<div></div>",
                "<p><strong>Example 1:</strong></p><div></div>",
                "<div></div>",
                "<pre><div></div>",
                "<strong>Input:</strong> [3,6,9,1]<div></div>",
                "<strong>Output:</strong> 3<div></div>",
                "<strong>Explanation:</strong> The sorted form of the array is [1,3,6,9], either<div></div>",
                "&nbsp;            (3,6) or (6,9) has the maximum difference 3.</pre><div></div>",
                "<div></div>",
                "<p><strong>Example 2:</strong></p><div></div>",
                "<div></div>",
                "<pre><div></div>",
                "<strong>Input:</strong> [10]<div></div>",
                "<strong>Output:</strong> 0<div></div>",
                "<strong>Explanation:</strong> The array contains less than 2 elements, therefore return 0.</pre><div></div>",
                "<div></div>",
                "<p><b>Note:</b></p><div></div>",
                "<div></div>",
                "<ul><div></div>",
                "\t<li>You may assume all elements in the array are non-negative integers and fit in the 32-bit signed integer range.</li><div></div>",
                "\t<li>Try to solve it in linear time/space.</li><div></div>",
                "</ul><div></div>",
                "<div></div>"
            ],
            "metadata": {}
        },
        {
            "cell_type": "code",
            "metadata": {},
            "execution_count": null,
            "source": "%%writefile maximum_gap.py\nclass Solution:\n    def maximumGap(self, nums):\n        \"\"\"\n        :type nums: List[int]\n        :rtype: int\n        \"\"\"",
            "outputs": []
        },
        {
            "cell_type": "code",
            "metadata": {},
            "execution_count": null,
            "source": "# submit\n%run ../../cli.py push --method=submit --path=maximum_gap.py --clean=True",
            "outputs": []
        }
    ]
}