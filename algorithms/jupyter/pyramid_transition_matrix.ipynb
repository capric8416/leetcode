{
    "nbformat": 4,
    "nbformat_minor": 2,
    "metadata": {
        "kernelspec": {
            "display_name": "Python 3",
            "language": "python",
            "name": "python3"
        },
        "language_info": {
            "codemirror_mode": {
                "name": "ipython",
                "version": 3
            },
            "file_extension": ".py",
            "mimetype": "text/x-python",
            "name": "python",
            "nbconvert_exporter": "python",
            "pygments_lexer": "ipython3",
            "version": "3.7.2"
        }
    },
    "cells": [
        {
            "cell_type": "markdown",
            "source": [
                "<h1>Pyramid Transition Matrix</h1>",
                "<p><div></div>",
                "We are stacking blocks to form a pyramid.  Each block has a color which is a one letter string, like `'Z'`.<div></div>",
                "</p><p><div></div>",
                "For every block of color `C` we place not in the bottom row, we are placing it on top of a left block of color `A` and right block of color `B`.  We are allowed to place the block there only if `(A, B, C)` is an allowed triple.<div></div>",
                "</p><p><div></div>",
                "We start with a bottom row of <code>bottom</code>, represented as a single string.  We also start with a list of allowed triples <code>allowed</code>.  Each allowed triple is represented as a string of length 3.<div></div>",
                "</p><p><div></div>",
                "Return true if we can build the pyramid all the way to the top, otherwise false.<div></div>",
                "</p><div></div>",
                "<div></div>",
                "<p><b>Example 1:</b><br /><div></div>",
                "<pre><div></div>",
                "<b>Input:</b> bottom = \"XYZ\", allowed = [\"XYD\", \"YZE\", \"DEA\", \"FFF\"]<div></div>",
                "<b>Output:</b> true<div></div>",
                "<b>Explanation:</b><div></div>",
                "We can stack the pyramid like this:<div></div>",
                "    A<div></div>",
                "   / \\<div></div>",
                "  D   E<div></div>",
                " / \\ / \\<div></div>",
                "X   Y   Z<div></div>",
                "<div></div>",
                "This works because ('X', 'Y', 'D'), ('Y', 'Z', 'E'), and ('D', 'E', 'A') are allowed triples.<div></div>",
                "</pre><div></div>",
                "</p><div></div>",
                "<div></div>",
                "<p><b>Example 2:</b><br /><div></div>",
                "<pre><div></div>",
                "<b>Input:</b> bottom = \"XXYX\", allowed = [\"XXX\", \"XXY\", \"XYX\", \"XYY\", \"YXZ\"]<div></div>",
                "<b>Output:</b> false<div></div>",
                "<b>Explanation:</b><div></div>",
                "We can't stack the pyramid to the top.<div></div>",
                "Note that there could be allowed triples (A, B, C) and (A, B, D) with C != D.<div></div>",
                "</pre><div></div>",
                "</p><div></div>",
                "<div></div>",
                "<p><b>Note:</b><br><div></div>",
                "<ol><div></div>",
                "<li><code>bottom</code> will be a string with length in range <code>[2, 8]</code>.</li><div></div>",
                "<li><code>allowed</code> will have length in range <code>[0, 200]</code>.</li><div></div>",
                "<li>Letters in all strings will be chosen from the set <code>{'A', 'B', 'C', 'D', 'E', 'F', 'G'}</code>.</li><div></div>",
                "</ol><div></div>",
                "</p><div></div>"
            ],
            "metadata": {}
        },
        {
            "cell_type": "code",
            "metadata": {},
            "execution_count": null,
            "source": "%%writefile pyramid_transition_matrix.py\nclass Solution:\n    def pyramidTransition(self, bottom, allowed):\n        \"\"\"\n        :type bottom: str\n        :type allowed: List[str]\n        :rtype: bool\n        \"\"\"",
            "outputs": []
        },
        {
            "cell_type": "code",
            "metadata": {},
            "execution_count": null,
            "source": "# submit\n%run ../../cli.py push --method=submit --path=pyramid_transition_matrix.py --clean=True",
            "outputs": []
        }
    ]
}