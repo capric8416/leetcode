{
    "nbformat": 4,
    "nbformat_minor": 2,
    "metadata": {
        "kernelspec": {
            "display_name": "Python 3",
            "language": "python",
            "name": "python3"
        },
        "language_info": {
            "codemirror_mode": {
                "name": "ipython",
                "version": 3
            },
            "file_extension": ".py",
            "mimetype": "text/x-python",
            "name": "python",
            "nbconvert_exporter": "python",
            "pygments_lexer": "ipython3",
            "version": "3.7.2"
        }
    },
    "cells": [
        {
            "cell_type": "markdown",
            "source": [
                "<h1>Maximum XOR of Two Numbers in an Array</h1>",
                "<p>Given a <b>non-empty</b> array of numbers, a<sub>0</sub>, a<sub>1</sub>, a<sub>2</sub>, \u2026 , a<sub>n-1</sub>, where 0 &le; a<sub>i</sub> < 2<sup>31</sup>.</p><div></div>",
                "<div></div>",
                "<p>Find the maximum result of a<sub>i</sub> XOR a<sub>j</sub>, where 0 &le; <i>i</i>, <i>j</i> &lt; <i>n</i>.</p><div></div>",
                "<div></div>",
                "<p>Could you do this in O(<i>n</i>) runtime?</p><div></div>",
                "<div></div>",
                "<p><b>Example:</b><div></div>",
                "<pre><div></div>",
                "<b>Input:</b> [3, 10, 5, 25, 2, 8]<div></div>",
                "<div></div>",
                "<b>Output:</b> 28<div></div>",
                "<div></div>",
                "<b>Explanation:</b> The maximum result is <b>5</b> ^ <b>25</b> = 28.<div></div>",
                "</pre><div></div>",
                "</p><div></div>"
            ],
            "metadata": {}
        },
        {
            "cell_type": "code",
            "metadata": {},
            "execution_count": null,
            "source": "%%writefile maximum_xor_of_two_numbers_in_an_array.py\nclass Solution:\n    def findMaximumXOR(self, nums):\n        \"\"\"\n        :type nums: List[int]\n        :rtype: int\n        \"\"\"",
            "outputs": []
        },
        {
            "cell_type": "code",
            "metadata": {},
            "execution_count": null,
            "source": "# submit\n%run ../../cli.py push --method=submit --path=maximum_xor_of_two_numbers_in_an_array.py --clean=True",
            "outputs": []
        }
    ]
}