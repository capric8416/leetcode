{
    "nbformat": 4,
    "nbformat_minor": 2,
    "metadata": {
        "kernelspec": {
            "display_name": "Python 3",
            "language": "python",
            "name": "python3"
        },
        "language_info": {
            "codemirror_mode": {
                "name": "ipython",
                "version": 3
            },
            "file_extension": ".py",
            "mimetype": "text/x-python",
            "name": "python",
            "nbconvert_exporter": "python",
            "pygments_lexer": "ipython3",
            "version": "3.7.2"
        }
    },
    "cells": [
        {
            "cell_type": "markdown",
            "source": [
                "<h1>Shopping Offers</h1>",
                "<p><div></div>",
                "In LeetCode Store, there are some kinds of items to sell. Each item has a price.<div></div>",
                "</p><div></div>",
                "<div></div>",
                "<p><div></div>",
                "However, there are some special offers, and a special offer consists of one or more different kinds of items with a sale price.<div></div>",
                "</p><div></div>",
                "<div></div>",
                "<p><div></div>",
                "You are given the each item's price, a set of special offers, and the number we need to buy for each item.<div></div>",
                "The job is to output the lowest price you have to pay for <b>exactly</b> certain items as given, where you could make optimal use of the special offers.<div></div>",
                "</p><div></div>",
                "<div></div>",
                "<p><div></div>",
                "Each special offer is represented in the form of an array, the last number represents the price you need to pay for this special offer, other numbers represents how many specific items you could get if you buy this offer.<div></div>",
                "</p><div></div>",
                "<div></div>",
                "<p>You could use any of special offers as many times as you want.</p><div></div>",
                "<div></div>",
                "<p><b>Example 1:</b><br /><div></div>",
                "<pre><div></div>",
                "<b>Input:</b> [2,5], [[3,0,5],[1,2,10]], [3,2]<div></div>",
                "<b>Output:</b> 14<div></div>",
                "<b>Explanation:</b> <div></div>",
                "There are two kinds of items, A and B. Their prices are $2 and $5 respectively. <div></div>",
                "In special offer 1, you can pay $5 for 3A and 0B<div></div>",
                "In special offer 2, you can pay $10 for 1A and 2B. <div></div>",
                "You need to buy 3A and 2B, so you may pay $10 for 1A and 2B (special offer #2), and $4 for 2A.<div></div>",
                "</pre><div></div>",
                "</p><div></div>",
                "<div></div>",
                "<p><b>Example 2:</b><br /><div></div>",
                "<pre><div></div>",
                "<b>Input:</b> [2,3,4], [[1,1,0,4],[2,2,1,9]], [1,2,1]<div></div>",
                "<b>Output:</b> 11<div></div>",
                "<b>Explanation:</b> <div></div>",
                "The price of A is $2, and $3 for B, $4 for C. <div></div>",
                "You may pay $4 for 1A and 1B, and $9 for 2A ,2B and 1C. <div></div>",
                "You need to buy 1A ,2B and 1C, so you may pay $4 for 1A and 1B (special offer #1), and $3 for 1B, $4 for 1C. <div></div>",
                "You cannot add more items, though only $9 for 2A ,2B and 1C.<div></div>",
                "</pre><div></div>",
                "</p><div></div>",
                "<div></div>",
                "<p><b>Note:</b><br /><div></div>",
                "<ol><div></div>",
                "<li>There are at most 6 kinds of items, 100 special offers.</li><div></div>",
                "<li>For each item, you need to buy at most 6 of them.</li><div></div>",
                "<li>You are <b>not</b> allowed to buy more items than you want, even if that would lower the overall price.</li><div></div>",
                "</ol><div></div>",
                "</p><div></div>"
            ],
            "metadata": {}
        },
        {
            "cell_type": "code",
            "metadata": {},
            "execution_count": null,
            "source": "%%writefile shopping_offers.py\nclass Solution:\n    def shoppingOffers(self, price, special, needs):\n        \"\"\"\n        :type price: List[int]\n        :type special: List[List[int]]\n        :type needs: List[int]\n        :rtype: int\n        \"\"\"",
            "outputs": []
        },
        {
            "cell_type": "code",
            "metadata": {},
            "execution_count": null,
            "source": "# submit\n%run ../../cli.py push --method=submit --path=shopping_offers.py --clean=True",
            "outputs": []
        }
    ]
}