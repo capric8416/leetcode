{
    "nbformat": 4,
    "nbformat_minor": 2,
    "metadata": {
        "kernelspec": {
            "display_name": "Python 3",
            "language": "python",
            "name": "python3"
        },
        "language_info": {
            "codemirror_mode": {
                "name": "ipython",
                "version": 3
            },
            "file_extension": ".py",
            "mimetype": "text/x-python",
            "name": "python",
            "nbconvert_exporter": "python",
            "pygments_lexer": "ipython3",
            "version": "3.7.2"
        }
    },
    "cells": [
        {
            "cell_type": "markdown",
            "source": [
                "<h1>Kth Smallest Element in a Sorted Matrix</h1>",
                "<p>Given a <i>n</i> x <i>n</i> matrix where each of the rows and columns are sorted in ascending order, find the kth smallest element in the matrix.</p><div></div>",
                "<div></div>",
                "<p><div></div>",
                "Note that it is the kth smallest element in the sorted order, not the kth distinct element.<div></div>",
                "</p><div></div>",
                "<div></div>",
                "<p><b>Example:</b><div></div>",
                "<pre><div></div>",
                "matrix = [<div></div>",
                "   [ 1,  5,  9],<div></div>",
                "   [10, 11, 13],<div></div>",
                "   [12, 13, 15]<div></div>",
                "],<div></div>",
                "k = 8,<div></div>",
                "<div></div>",
                "return 13.<div></div>",
                "</pre><div></div>",
                "</p><div></div>",
                "<div></div>",
                "<p><b>Note: </b><br><div></div>",
                "You may assume k is always valid, 1 &le; k &le; n<sup>2</sup>.</p><div></div>"
            ],
            "metadata": {}
        },
        {
            "cell_type": "code",
            "metadata": {},
            "execution_count": null,
            "source": "%%writefile kth_smallest_element_in_a_sorted_matrix.py\nclass Solution:\n    def kthSmallest(self, matrix, k):\n        \"\"\"\n        :type matrix: List[List[int]]\n        :type k: int\n        :rtype: int\n        \"\"\"",
            "outputs": []
        },
        {
            "cell_type": "code",
            "metadata": {},
            "execution_count": null,
            "source": "# submit\n%run ../../cli.py push --method=submit --path=kth_smallest_element_in_a_sorted_matrix.py --clean=True",
            "outputs": []
        }
    ]
}