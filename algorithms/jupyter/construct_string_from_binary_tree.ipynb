{
    "nbformat": 4,
    "nbformat_minor": 2,
    "metadata": {
        "kernelspec": {
            "display_name": "Python 3",
            "language": "python",
            "name": "python3"
        },
        "language_info": {
            "codemirror_mode": {
                "name": "ipython",
                "version": 3
            },
            "file_extension": ".py",
            "mimetype": "text/x-python",
            "name": "python",
            "nbconvert_exporter": "python",
            "pygments_lexer": "ipython3",
            "version": "3.7.2"
        }
    },
    "cells": [
        {
            "cell_type": "markdown",
            "source": [
                "<h1>Construct String from Binary Tree</h1>",
                "<p>You need to construct a string consists of parenthesis and integers from a binary tree with the preorder traversing way.</p><div></div>",
                "<div></div>",
                "<p>The null node needs to be represented by empty parenthesis pair \"()\". And you need to omit all the empty parenthesis pairs that don't affect the one-to-one mapping relationship between the string and the original binary tree.</p><div></div>",
                "<div></div>",
                "<p><b>Example 1:</b><br /><div></div>",
                "<pre><div></div>",
                "<b>Input:</b> Binary tree: [1,2,3,4]<div></div>",
                "       1<div></div>",
                "     /   \\<div></div>",
                "    2     3<div></div>",
                "   /    <div></div>",
                "  4     <div></div>",
                "<div></div>",
                "<b>Output:</b> \"1(2(4))(3)\"<div></div>",
                "<br/><b>Explanation:</b> Originallay it needs to be \"1(2(4)())(3()())\", <br/>but you need to omit all the unnecessary empty parenthesis pairs. <br/>And it will be \"1(2(4))(3)\".<div></div>",
                "</pre><div></div>",
                "</p><div></div>",
                "<div></div>",
                "<p><b>Example 2:</b><br /><div></div>",
                "<pre><div></div>",
                "<b>Input:</b> Binary tree: [1,2,3,null,4]<div></div>",
                "       1<div></div>",
                "     /   \\<div></div>",
                "    2     3<div></div>",
                "     \\  <div></div>",
                "      4 <div></div>",
                "<div></div>",
                "<b>Output:</b> \"1(2()(4))(3)\"<div></div>",
                "<br/><b>Explanation:</b> Almost the same as the first example, <br/>except we can't omit the first parenthesis pair to break the one-to-one mapping relationship between the input and the output.<div></div>",
                "</pre><div></div>",
                "</p><div></div>"
            ],
            "metadata": {}
        },
        {
            "cell_type": "code",
            "metadata": {},
            "execution_count": null,
            "source": "%%writefile construct_string_from_binary_tree.py\nclass Solution:\n    def tree2str(self, t):\n        \"\"\"\n        :type t: TreeNode\n        :rtype: str\n        \"\"\"",
            "outputs": []
        },
        {
            "cell_type": "code",
            "metadata": {},
            "execution_count": null,
            "source": "# submit\n%run ../../cli.py push --method=submit --path=construct_string_from_binary_tree.py --clean=True",
            "outputs": []
        }
    ]
}