{
    "nbformat": 4,
    "nbformat_minor": 2,
    "metadata": {
        "kernelspec": {
            "display_name": "Python 3",
            "language": "python",
            "name": "python3"
        },
        "language_info": {
            "codemirror_mode": {
                "name": "ipython",
                "version": 3
            },
            "file_extension": ".py",
            "mimetype": "text/x-python",
            "name": "python",
            "nbconvert_exporter": "python",
            "pygments_lexer": "ipython3",
            "version": "3.7.2"
        }
    },
    "cells": [
        {
            "cell_type": "markdown",
            "source": [
                "<h1>Student Attendance Record II</h1>",
                "<p>Given a positive integer <b>n</b>, return the number of all possible attendance records with length n, which will be regarded as rewardable. The answer may be very large, return it after mod 10<sup>9</sup> + 7.</p><div></div>",
                "<div></div>",
                "<p>A student attendance record is a string that only contains the following three characters:</p><div></div>",
                "<div></div>",
                "<p><div></div>",
                "<ol><div></div>",
                "<li><b>'A'</b> : Absent. </li><div></div>",
                "<li><b>'L'</b> : Late.</li><div></div>",
                "<li> <b>'P'</b> : Present. </li><div></div>",
                "</ol><div></div>",
                "</p><div></div>",
                "<div></div>",
                "<p><div></div>",
                "A record is regarded as rewardable if it doesn't contain <b>more than one 'A' (absent)</b> or <b>more than two continuous 'L' (late)</b>.</p><div></div>",
                "<div></div>",
                "<p><b>Example 1:</b><br /><div></div>",
                "<pre><div></div>",
                "<b>Input:</b> n = 2<div></div>",
                "<b>Output:</b> 8 <div></div>",
                "<b>Explanation:</b><div></div>",
                "There are 8 records with length 2 will be regarded as rewardable:<div></div>",
                "\"PP\" , \"AP\", \"PA\", \"LP\", \"PL\", \"AL\", \"LA\", \"LL\"<div></div>",
                "Only \"AA\" won't be regarded as rewardable owing to more than one absent times. <div></div>",
                "</pre><div></div>",
                "</p><div></div>",
                "<div></div>",
                "<p><b>Note:</b><div></div>",
                "The value of <b>n</b> won't exceed 100,000.<div></div>",
                "</p><div></div>",
                "<div></div>",
                "<div></div>",
                "<div></div>"
            ],
            "metadata": {}
        },
        {
            "cell_type": "code",
            "metadata": {},
            "execution_count": null,
            "source": "%%writefile student_attendance_record_ii.py\nclass Solution:\n    def checkRecord(self, n):\n        \"\"\"\n        :type n: int\n        :rtype: int\n        \"\"\"",
            "outputs": []
        },
        {
            "cell_type": "code",
            "metadata": {},
            "execution_count": null,
            "source": "# submit\n%run ../../cli.py push --method=submit --path=student_attendance_record_ii.py --clean=True",
            "outputs": []
        }
    ]
}