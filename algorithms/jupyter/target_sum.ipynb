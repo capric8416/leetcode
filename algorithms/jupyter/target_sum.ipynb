{
    "nbformat": 4,
    "nbformat_minor": 2,
    "metadata": {
        "kernelspec": {
            "display_name": "Python 3",
            "language": "python",
            "name": "python3"
        },
        "language_info": {
            "codemirror_mode": {
                "name": "ipython",
                "version": 3
            },
            "file_extension": ".py",
            "mimetype": "text/x-python",
            "name": "python",
            "nbconvert_exporter": "python",
            "pygments_lexer": "ipython3",
            "version": "3.7.2"
        }
    },
    "cells": [
        {
            "cell_type": "markdown",
            "source": [
                "<h1>Target Sum</h1>",
                "<p><div></div>",
                "You are given a list of non-negative integers, a1, a2, ..., an, and a target, S. Now you have 2 symbols <code>+</code> and <code>-</code>. For each integer, you should choose one from <code>+</code> and <code>-</code> as its new symbol.<div></div>",
                "</p> <div></div>",
                "<div></div>",
                "<p>Find out how many ways to assign symbols to make sum of integers equal to target S.  <div></div>",
                "</p><div></div>",
                "<div></div>",
                "<p><b>Example 1:</b><br /><div></div>",
                "<pre><div></div>",
                "<b>Input:</b> nums is [1, 1, 1, 1, 1], S is 3. <div></div>",
                "<b>Output:</b> 5<div></div>",
                "<b>Explanation:</b> <div></div>",
                "<div></div>",
                "-1+1+1+1+1 = 3<div></div>",
                "+1-1+1+1+1 = 3<div></div>",
                "+1+1-1+1+1 = 3<div></div>",
                "+1+1+1-1+1 = 3<div></div>",
                "+1+1+1+1-1 = 3<div></div>",
                "<div></div>",
                "There are 5 ways to assign symbols to make the sum of nums be target 3.<div></div>",
                "</pre><div></div>",
                "</p><div></div>",
                "<div></div>",
                "<p><b>Note:</b><br><div></div>",
                "<ol><div></div>",
                "<li>The length of the given array is positive and will not exceed 20. </li><div></div>",
                "<li>The sum of elements in the given array will not exceed 1000.</li><div></div>",
                "<li>Your output answer is guaranteed to be fitted in a 32-bit integer.</li><div></div>",
                "</ol><div></div>",
                "</p><div></div>"
            ],
            "metadata": {}
        },
        {
            "cell_type": "code",
            "metadata": {},
            "execution_count": null,
            "source": "%%writefile target_sum.py\nclass Solution:\n    def findTargetSumWays(self, nums, S):\n        \"\"\"\n        :type nums: List[int]\n        :type S: int\n        :rtype: int\n        \"\"\"",
            "outputs": []
        },
        {
            "cell_type": "code",
            "metadata": {},
            "execution_count": null,
            "source": "# submit\n%run ../../cli.py push --method=submit --path=target_sum.py --clean=True",
            "outputs": []
        }
    ]
}