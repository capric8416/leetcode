{
    "nbformat": 4,
    "nbformat_minor": 2,
    "metadata": {
        "kernelspec": {
            "display_name": "Python 3",
            "language": "python",
            "name": "python3"
        },
        "language_info": {
            "codemirror_mode": {
                "name": "ipython",
                "version": 3
            },
            "file_extension": ".py",
            "mimetype": "text/x-python",
            "name": "python",
            "nbconvert_exporter": "python",
            "pygments_lexer": "ipython3",
            "version": "3.7.2"
        }
    },
    "cells": [
        {
            "cell_type": "markdown",
            "source": [
                "<h1>Find the Shortest Superstring</h1>",
                "<p>Given an array A of strings, find any&nbsp;smallest string that contains each string in <code>A</code> as a&nbsp;substring.</p><div></div>",
                "<div></div>",
                "<p>We may assume that no string in <code>A</code> is substring of another string in <code>A</code>.</p><div></div>",
                "<div></div>",
                "<div>&nbsp;</div><div></div>",
                "<div></div>",
                "<div><div></div>",
                "<p><strong>Example 1:</strong></p><div></div>",
                "<div></div>",
                "<pre><div></div>",
                "<strong>Input: </strong><span id=\"example-input-1-1\">[&quot;alex&quot;,&quot;loves&quot;,&quot;leetcode&quot;]</span><div></div>",
                "<strong>Output: </strong><span id=\"example-output-1\">&quot;alexlovesleetcode&quot;</span><div></div>",
                "<strong>Explanation: </strong>All permutations of &quot;alex&quot;,&quot;loves&quot;,&quot;leetcode&quot; would also be accepted.<div></div>",
                "</pre><div></div>",
                "<div></div>",
                "<div><div></div>",
                "<p><strong>Example 2:</strong></p><div></div>",
                "<div></div>",
                "<pre><div></div>",
                "<strong>Input: </strong><span id=\"example-input-2-1\">[&quot;catg&quot;,&quot;ctaagt&quot;,&quot;gcta&quot;,&quot;ttca&quot;,&quot;atgcatc&quot;]</span><div></div>",
                "<strong>Output: </strong><span id=\"example-output-2\">&quot;gctaagttcatgcatc&quot;</span></pre><div></div>",
                "<div></div>",
                "<p>&nbsp;</p><div></div>",
                "</div><div></div>",
                "</div><div></div>",
                "<div></div>",
                "<p><strong>Note:</strong></p><div></div>",
                "<div></div>",
                "<ol><div></div>",
                "\t<li><code>1 &lt;= A.length &lt;= 12</code></li><div></div>",
                "\t<li><code>1 &lt;= A[i].length &lt;= 20</code></li><div></div>",
                "</ol><div></div>",
                "<div></div>",
                "<div><div></div>",
                "<div>&nbsp;</div><div></div>",
                "</div><div></div>"
            ],
            "metadata": {}
        },
        {
            "cell_type": "code",
            "metadata": {},
            "execution_count": null,
            "source": "%%writefile find_the_shortest_superstring.py\nclass Solution:\n    def shortestSuperstring(self, A):\n        \"\"\"\n        :type A: List[str]\n        :rtype: str\n        \"\"\"",
            "outputs": []
        },
        {
            "cell_type": "code",
            "metadata": {},
            "execution_count": null,
            "source": "# submit\n%run ../../cli.py push --method=submit --path=find_the_shortest_superstring.py --clean=True",
            "outputs": []
        }
    ]
}