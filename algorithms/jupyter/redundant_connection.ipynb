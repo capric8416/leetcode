{
    "nbformat": 4,
    "nbformat_minor": 2,
    "metadata": {
        "kernelspec": {
            "display_name": "Python 3",
            "language": "python",
            "name": "python3"
        },
        "language_info": {
            "codemirror_mode": {
                "name": "ipython",
                "version": 3
            },
            "file_extension": ".py",
            "mimetype": "text/x-python",
            "name": "python",
            "nbconvert_exporter": "python",
            "pygments_lexer": "ipython3",
            "version": "3.7.2"
        }
    },
    "cells": [
        {
            "cell_type": "markdown",
            "source": [
                "<h1>Redundant Connection</h1>",
                "<p><div></div>",
                "In this problem, a tree is an <b>undirected</b> graph that is connected and has no cycles.<div></div>",
                "</p><p><div></div>",
                "The given input is a graph that started as a tree with N nodes (with distinct values 1, 2, ..., N), with one additional edge added.  The added edge has two different vertices chosen from 1 to N, and was not an edge that already existed.<div></div>",
                "</p><p><div></div>",
                "The resulting graph is given as a 2D-array of <code>edges</code>.  Each element of <code>edges</code> is a pair <code>[u, v]</code> with <code>u < v</code>, that represents an <b>undirected</b> edge connecting nodes <code>u</code> and <code>v</code>.<div></div>",
                "</p><p><div></div>",
                "Return an edge that can be removed so that the resulting graph is a tree of N nodes.  If there are multiple answers, return the answer that occurs last in the given 2D-array.  The answer edge <code>[u, v]</code> should be in the same format, with <code>u < v</code>.<div></div>",
                "</p><p><b>Example 1:</b><br /><div></div>",
                "<pre><div></div>",
                "<b>Input:</b> [[1,2], [1,3], [2,3]]<div></div>",
                "<b>Output:</b> [2,3]<div></div>",
                "<b>Explanation:</b> The given undirected graph will be like this:<div></div>",
                "  1<div></div>",
                " / \\<div></div>",
                "2 - 3<div></div>",
                "</pre><div></div>",
                "</p><div></div>",
                "<p><b>Example 2:</b><br /><div></div>",
                "<pre><div></div>",
                "<b>Input:</b> [[1,2], [2,3], [3,4], [1,4], [1,5]]<div></div>",
                "<b>Output:</b> [1,4]<div></div>",
                "<b>Explanation:</b> The given undirected graph will be like this:<div></div>",
                "5 - 1 - 2<div></div>",
                "    |   |<div></div>",
                "    4 - 3<div></div>",
                "</pre><div></div>",
                "</p><div></div>",
                "<p><b>Note:</b><br /><div></div>",
                "<li>The size of the input 2D-array will be between 3 and 1000.</li><div></div>",
                "<li>Every integer represented in the 2D-array will be between 1 and N, where N is the size of the input array.</li><div></div>",
                "</p><div></div>",
                "<div></div>",
                "<br /><div></div>",
                "<div></div>",
                "<p><div></div>",
                "<b><font color=\"red\">Update (2017-09-26):</font></b><br><div></div>",
                "We have overhauled the problem description + test cases and specified clearly the graph is an <b><i>undirected</i></b> graph. For the <b><i>directed</i></b> graph follow up please see <b><a href=\"https://leetcode.com/problems/redundant-connection-ii/description/\">Redundant Connection II</a></b>). We apologize for any inconvenience caused.<div></div>",
                "</p><div></div>"
            ],
            "metadata": {}
        },
        {
            "cell_type": "code",
            "metadata": {},
            "execution_count": null,
            "source": "%%writefile redundant_connection.py\nclass Solution:\n    def findRedundantConnection(self, edges):\n        \"\"\"\n        :type edges: List[List[int]]\n        :rtype: List[int]\n        \"\"\"",
            "outputs": []
        },
        {
            "cell_type": "code",
            "metadata": {},
            "execution_count": null,
            "source": "# submit\n%run ../../cli.py push --method=submit --path=redundant_connection.py --clean=True",
            "outputs": []
        }
    ]
}