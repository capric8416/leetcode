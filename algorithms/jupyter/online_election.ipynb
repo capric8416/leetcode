{
    "nbformat": 4,
    "nbformat_minor": 2,
    "metadata": {
        "kernelspec": {
            "display_name": "Python 3",
            "language": "python",
            "name": "python3"
        },
        "language_info": {
            "codemirror_mode": {
                "name": "ipython",
                "version": 3
            },
            "file_extension": ".py",
            "mimetype": "text/x-python",
            "name": "python",
            "nbconvert_exporter": "python",
            "pygments_lexer": "ipython3",
            "version": "3.7.2"
        }
    },
    "cells": [
        {
            "cell_type": "markdown",
            "source": [
                "<h1>Online Election</h1>",
                "<p>In an election, the <code>i</code>-th&nbsp;vote was cast for <code>persons[i]</code> at time <code>times[i]</code>.</p><div></div>",
                "<div></div>",
                "<p>Now, we would like to implement the following query function: <code>TopVotedCandidate.q(int t)</code> will return the number of the person that was leading the election at time <code>t</code>.&nbsp;&nbsp;</p><div></div>",
                "<div></div>",
                "<p>Votes cast at time <code>t</code> will count towards our query.&nbsp; In the case of a tie, the most recent vote (among tied candidates) wins.</p><div></div>",
                "<div></div>",
                "<p>&nbsp;</p><div></div>",
                "<div></div>",
                "<div><div></div>",
                "<p><strong>Example 1:</strong></p><div></div>",
                "<div></div>",
                "<pre><div></div>",
                "<strong>Input: </strong><span id=\"example-input-1-1\">[&quot;TopVotedCandidate&quot;,&quot;q&quot;,&quot;q&quot;,&quot;q&quot;,&quot;q&quot;,&quot;q&quot;,&quot;q&quot;]</span>, <span id=\"example-input-1-2\">[[[0,1,1,0,0,1,0],[0,5,10,15,20,25,30]],[3],[12],[25],[15],[24],[8]]</span><div></div>",
                "<strong>Output: </strong><span id=\"example-output-1\">[null,0,1,1,0,0,1]</span><div></div>",
                "<strong>Explanation: </strong><div></div>",
                "At time 3, the votes are [0], and 0 is leading.<div></div>",
                "At time 12, the votes are [0,1,1], and 1 is leading.<div></div>",
                "At time 25, the votes are [0,1,1,0,0,1], and 1 is leading (as ties go to the most recent vote.)<div></div>",
                "This continues for 3 more queries at time 15, 24, and 8.<div></div>",
                "</pre><div></div>",
                "<div></div>",
                "<p>&nbsp;</p><div></div>",
                "<div></div>",
                "<p><strong>Note:</strong></p><div></div>",
                "<div></div>",
                "<ol><div></div>",
                "\t<li><code>1 &lt;= persons.length = times.length &lt;= 5000</code></li><div></div>",
                "\t<li><code>0 &lt;= persons[i] &lt;= persons.length</code></li><div></div>",
                "\t<li><code>times</code>&nbsp;is a strictly increasing array with all elements in <code>[0, 10^9]</code>.</li><div></div>",
                "\t<li><code>TopVotedCandidate.q</code> is called at most <code>10000</code> times per test case.</li><div></div>",
                "\t<li><code>TopVotedCandidate.q(int t)</code> is always called with <code>t &gt;= times[0]</code>.</li><div></div>",
                "</ol><div></div>",
                "</div><div></div>"
            ],
            "metadata": {}
        },
        {
            "cell_type": "code",
            "metadata": {},
            "execution_count": null,
            "source": "%%writefile online_election.py\nclass TopVotedCandidate:\n\n    def __init__(self, persons, times):\n        \"\"\"\n        :type persons: List[int]\n        :type times: List[int]\n        \"\"\"\n        \n\n    def q(self, t):\n        \"\"\"\n        :type t: int\n        :rtype: int\n        \"\"\"\n        \n\n\n# Your TopVotedCandidate object will be instantiated and called as such:\n# obj = TopVotedCandidate(persons, times)\n# param_1 = obj.q(t)",
            "outputs": []
        },
        {
            "cell_type": "code",
            "metadata": {},
            "execution_count": null,
            "source": "# submit\n%run ../../cli.py push --method=submit --path=online_election.py --clean=True",
            "outputs": []
        }
    ]
}