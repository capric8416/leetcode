{
    "nbformat": 4,
    "nbformat_minor": 2,
    "metadata": {
        "kernelspec": {
            "display_name": "Python 3",
            "language": "python",
            "name": "python3"
        },
        "language_info": {
            "codemirror_mode": {
                "name": "ipython",
                "version": 3
            },
            "file_extension": ".py",
            "mimetype": "text/x-python",
            "name": "python",
            "nbconvert_exporter": "python",
            "pygments_lexer": "ipython3",
            "version": "3.7.2"
        }
    },
    "cells": [
        {
            "cell_type": "markdown",
            "source": [
                "<h1>Delete Node in a Linked List</h1>",
                "<p>Write a function to delete a node (except the tail) in a singly linked list, given only access to that node.</p><div></div>",
                "<div></div>",
                "<p>Given linked list --&nbsp;head =&nbsp;[4,5,1,9], which looks like following:</p><div></div>",
                "<div></div>",
                "<p><img alt=\"\" src=\"https://assets.leetcode.com/uploads/2018/12/28/237_example.png\" style=\"margin-top: 5px; margin-bottom: 5px; width: 300px; height: 49px;\" /></p><div></div>",
                "<div></div>",
                "<p>&nbsp;</p><div></div>",
                "<div></div>",
                "<p><strong>Example 1:</strong></p><div></div>",
                "<div></div>",
                "<pre><div></div>",
                "<strong>Input:</strong> head = [4,5,1,9], node = 5<div></div>",
                "<strong>Output:</strong> [4,1,9]<div></div>",
                "<strong>Explanation: </strong>You are given the second node with value 5, the linked list should become 4 -&gt; 1 -&gt; 9 after calling your function.<div></div>",
                "</pre><div></div>",
                "<div></div>",
                "<p><strong>Example 2:</strong></p><div></div>",
                "<div></div>",
                "<pre><div></div>",
                "<strong>Input:</strong> head = [4,5,1,9], node = 1<div></div>",
                "<strong>Output:</strong> [4,5,9]<div></div>",
                "<strong>Explanation: </strong>You are given the third node with value 1, the linked list should become 4 -&gt; 5 -&gt; 9 after calling your function.<div></div>",
                "</pre><div></div>",
                "<div></div>",
                "<p>&nbsp;</p><div></div>",
                "<div></div>",
                "<p><strong>Note:</strong></p><div></div>",
                "<div></div>",
                "<ul><div></div>",
                "\t<li>The linked list will have at least two elements.</li><div></div>",
                "\t<li>All of the nodes&#39; values will be unique.</li><div></div>",
                "\t<li>The given node&nbsp;will not be the tail and it will always be a valid node of the linked list.</li><div></div>",
                "\t<li>Do not return anything from your function.</li><div></div>",
                "</ul><div></div>",
                "<div></div>"
            ],
            "metadata": {}
        },
        {
            "cell_type": "code",
            "metadata": {},
            "execution_count": null,
            "source": "%%writefile delete_node_in_a_linked_list.py\n# Definition for singly-linked list.\n# class ListNode:\n#     def __init__(self, x):\n#         self.val = x\n#         self.next = None\n\nclass Solution:\n    def deleteNode(self, node):\n        \"\"\"\n        :type node: ListNode\n        :rtype: void Do not return anything, modify node in-place instead.\n        \"\"\"",
            "outputs": []
        },
        {
            "cell_type": "code",
            "metadata": {},
            "execution_count": null,
            "source": "# submit\n%run ../../cli.py push --method=submit --path=delete_node_in_a_linked_list.py --clean=True",
            "outputs": []
        }
    ]
}