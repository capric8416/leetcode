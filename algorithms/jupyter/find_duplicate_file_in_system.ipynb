{
    "nbformat": 4,
    "nbformat_minor": 2,
    "metadata": {
        "kernelspec": {
            "display_name": "Python 3",
            "language": "python",
            "name": "python3"
        },
        "language_info": {
            "codemirror_mode": {
                "name": "ipython",
                "version": 3
            },
            "file_extension": ".py",
            "mimetype": "text/x-python",
            "name": "python",
            "nbconvert_exporter": "python",
            "pygments_lexer": "ipython3",
            "version": "3.7.2"
        }
    },
    "cells": [
        {
            "cell_type": "markdown",
            "source": [
                "<h1>Find Duplicate File in System</h1>",
                "<p>Given a list of directory info including directory path, and all the files with contents in this directory, you need to find out all the groups of duplicate files in the file system in terms of their paths.</p><div></div>",
                "<div></div>",
                "<p>A group of duplicate files consists of at least <b>two</b> files that have exactly the same content.</p><div></div>",
                "<div></div>",
                "<p>A single directory info string in the <b>input</b> list has the following format: </p><div></div>",
                "<p><code>\"root/d1/d2/.../dm f1.txt(f1_content) f2.txt(f2_content) ... fn.txt(fn_content)\"</code><br></p><div></div>",
                "<p>It means there are <b>n</b> files (<code>f1.txt</code>, <code>f2.txt</code> ... <code>fn.txt</code> with content <code>f1_content</code>, <code>f2_content</code> ... <code>fn_content</code>, respectively) in directory <code>root/d1/d2/.../dm</code>. Note that n >= 1 and m >= 0. If m = 0, it means the directory is just the root directory.</p><div></div>",
                "<div></div>",
                "<p>The <b>output</b> is a list of group of duplicate file paths. For each group, it contains all the file paths of the files that have the same content. A file path is a string that has the following format: </p><div></div>",
                "<p><code>\"directory_path/file_name.txt\"</code></p><div></div>",
                "<div></div>",
                "<div></div>",
                "<p><b>Example 1:</b><br /><div></div>",
                "<pre><div></div>",
                "<b>Input:</b><div></div>",
                "[\"root/a 1.txt(abcd) 2.txt(efgh)\", \"root/c 3.txt(abcd)\", \"root/c/d 4.txt(efgh)\", \"root 4.txt(efgh)\"]<div></div>",
                "<b>Output:</b>  <div></div>",
                "[[\"root/a/2.txt\",\"root/c/d/4.txt\",\"root/4.txt\"],[\"root/a/1.txt\",\"root/c/3.txt\"]]<div></div>",
                "</pre><div></div>",
                "</p><div></div>",
                "<div></div>",
                "<div></div>",
                "<p><b>Note:</b><br><div></div>",
                "<ol><div></div>",
                "<li>No order is required for the final output.</li><div></div>",
                "<li>You may assume the directory name, file name and file content only has letters and digits, and the length of file content is in the range of [1,50].</li><div></div>",
                "<li>The number of files given is in the range of [1,20000].</li><div></div>",
                "<li>You may assume no files or directories share the same name in the same directory.</li><div></div>",
                "<li>You may assume each given directory info represents a unique directory. Directory path and file info are separated by a single blank space.</li><div></div>",
                "</ol><div></div>",
                "</p><div></div>",
                "<div></div>",
                "<div></div>",
                "<b>Follow-up beyond contest:</b> <div></div>",
                "<ol><div></div>",
                "<li> Imagine you are given a real file system, how will you search files? DFS or BFS?</li><div></div>",
                "<li> If the file content is very large (GB level), how will you modify your solution?</li><div></div>",
                "<li> If you can only read the file by 1kb each time, how will you modify your solution?</li><div></div>",
                "<li> What is the time complexity of your modified solution? What is the most time-consuming part and memory consuming part of it? How to optimize?</li><div></div>",
                "<li> How to make sure the duplicated files you find are not false positive?</li><div></div>",
                "</ol><div></div>"
            ],
            "metadata": {}
        },
        {
            "cell_type": "code",
            "metadata": {},
            "execution_count": null,
            "source": "%%writefile find_duplicate_file_in_system.py\nclass Solution:\n    def findDuplicate(self, paths):\n        \"\"\"\n        :type paths: List[str]\n        :rtype: List[List[str]]\n        \"\"\"",
            "outputs": []
        },
        {
            "cell_type": "code",
            "metadata": {},
            "execution_count": null,
            "source": "# submit\n%run ../../cli.py push --method=submit --path=find_duplicate_file_in_system.py --clean=True",
            "outputs": []
        }
    ]
}