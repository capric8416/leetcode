{
    "nbformat": 4,
    "nbformat_minor": 2,
    "metadata": {
        "kernelspec": {
            "display_name": "Python 3",
            "language": "python",
            "name": "python3"
        },
        "language_info": {
            "codemirror_mode": {
                "name": "ipython",
                "version": 3
            },
            "file_extension": ".py",
            "mimetype": "text/x-python",
            "name": "python",
            "nbconvert_exporter": "python",
            "pygments_lexer": "ipython3",
            "version": "3.7.2"
        }
    },
    "cells": [
        {
            "cell_type": "markdown",
            "source": [
                "<h1>LRU Cache</h1>",
                "<p><div></div>",
                "Design and implement a data structure for <a href=\"https://en.wikipedia.org/wiki/Cache_replacement_policies#LRU\" target=\"_blank\">Least Recently Used (LRU) cache</a>. It should support the following operations: <code>get</code> and <code>put</code>.<div></div>",
                "</p><div></div>",
                "<div></div>",
                "<p><div></div>",
                "<code>get(key)</code> - Get the value (will always be positive) of the key if the key exists in the cache, otherwise return -1.<br><div></div>",
                "<code>put(key, value)</code> - Set or insert the value if the key is not already present. When the cache reached its capacity, it should invalidate the least recently used item before inserting a new item.<div></div>",
                "</p><div></div>",
                "<div></div>",
                "<p><b>Follow up:</b><br /><div></div>",
                "Could you do both operations in <b>O(1)</b> time complexity?</p><div></div>",
                "<div></div>",
                "<p><b>Example:</b><div></div>",
                "<pre><div></div>",
                "LRUCache cache = new LRUCache( 2 /* capacity */ );<div></div>",
                "<div></div>",
                "cache.put(1, 1);<div></div>",
                "cache.put(2, 2);<div></div>",
                "cache.get(1);       // returns 1<div></div>",
                "cache.put(3, 3);    // evicts key 2<div></div>",
                "cache.get(2);       // returns -1 (not found)<div></div>",
                "cache.put(4, 4);    // evicts key 1<div></div>",
                "cache.get(1);       // returns -1 (not found)<div></div>",
                "cache.get(3);       // returns 3<div></div>",
                "cache.get(4);       // returns 4<div></div>",
                "</pre><div></div>",
                "</p><div></div>"
            ],
            "metadata": {}
        },
        {
            "cell_type": "code",
            "metadata": {},
            "execution_count": null,
            "source": "%%writefile lru_cache.py\nclass LRUCache:\n\n    def __init__(self, capacity):\n        \"\"\"\n        :type capacity: int\n        \"\"\"\n        \n\n    def get(self, key):\n        \"\"\"\n        :type key: int\n        :rtype: int\n        \"\"\"\n        \n\n    def put(self, key, value):\n        \"\"\"\n        :type key: int\n        :type value: int\n        :rtype: void\n        \"\"\"\n        \n\n\n# Your LRUCache object will be instantiated and called as such:\n# obj = LRUCache(capacity)\n# param_1 = obj.get(key)\n# obj.put(key,value)",
            "outputs": []
        },
        {
            "cell_type": "code",
            "metadata": {},
            "execution_count": null,
            "source": "# submit\n%run ../../cli.py push --method=submit --path=lru_cache.py --clean=True",
            "outputs": []
        }
    ]
}