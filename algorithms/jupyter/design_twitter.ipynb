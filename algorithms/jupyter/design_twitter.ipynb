{
    "nbformat": 4,
    "nbformat_minor": 2,
    "metadata": {
        "kernelspec": {
            "display_name": "Python 3",
            "language": "python",
            "name": "python3"
        },
        "language_info": {
            "codemirror_mode": {
                "name": "ipython",
                "version": 3
            },
            "file_extension": ".py",
            "mimetype": "text/x-python",
            "name": "python",
            "nbconvert_exporter": "python",
            "pygments_lexer": "ipython3",
            "version": "3.7.2"
        }
    },
    "cells": [
        {
            "cell_type": "markdown",
            "source": [
                "<h1>Design Twitter</h1>",
                "<p>Design a simplified version of Twitter where users can post tweets, follow/unfollow another user and is able to see the 10 most recent tweets in the user's news feed. Your design should support the following methods:</p><div></div>",
                "<div></div>",
                "<p><div></div>",
                "<ol><div></div>",
                "<li><b>postTweet(userId, tweetId)</b>: Compose a new tweet.</li><div></div>",
                "<li><b>getNewsFeed(userId)</b>: Retrieve the 10 most recent tweet ids in the user's news feed. Each item in the news feed must be posted by users who the user followed or by the user herself. Tweets must be ordered from most recent to least recent.</li><div></div>",
                "<li><b>follow(followerId, followeeId)</b>: Follower follows a followee.</li><div></div>",
                "<li><b>unfollow(followerId, followeeId)</b>: Follower unfollows a followee.</li><div></div>",
                "</ol><div></div>",
                "</p><div></div>",
                "<div></div>",
                "<p><b>Example:</b><div></div>",
                "<pre><div></div>",
                "Twitter twitter = new Twitter();<div></div>",
                "<div></div>",
                "// User 1 posts a new tweet (id = 5).<div></div>",
                "twitter.postTweet(1, 5);<div></div>",
                "<div></div>",
                "// User 1's news feed should return a list with 1 tweet id -> [5].<div></div>",
                "twitter.getNewsFeed(1);<div></div>",
                "<div></div>",
                "// User 1 follows user 2.<div></div>",
                "twitter.follow(1, 2);<div></div>",
                "<div></div>",
                "// User 2 posts a new tweet (id = 6).<div></div>",
                "twitter.postTweet(2, 6);<div></div>",
                "<div></div>",
                "// User 1's news feed should return a list with 2 tweet ids -> [6, 5].<div></div>",
                "// Tweet id 6 should precede tweet id 5 because it is posted after tweet id 5.<div></div>",
                "twitter.getNewsFeed(1);<div></div>",
                "<div></div>",
                "// User 1 unfollows user 2.<div></div>",
                "twitter.unfollow(1, 2);<div></div>",
                "<div></div>",
                "// User 1's news feed should return a list with 1 tweet id -> [5],<div></div>",
                "// since user 1 is no longer following user 2.<div></div>",
                "twitter.getNewsFeed(1);<div></div>",
                "</pre><div></div>",
                "</p><div></div>"
            ],
            "metadata": {}
        },
        {
            "cell_type": "code",
            "metadata": {},
            "execution_count": null,
            "source": "%%writefile design_twitter.py\nclass Twitter:\n\n    def __init__(self):\n        \"\"\"\n        Initialize your data structure here.\n        \"\"\"\n        \n\n    def postTweet(self, userId, tweetId):\n        \"\"\"\n        Compose a new tweet.\n        :type userId: int\n        :type tweetId: int\n        :rtype: void\n        \"\"\"\n        \n\n    def getNewsFeed(self, userId):\n        \"\"\"\n        Retrieve the 10 most recent tweet ids in the user's news feed. Each item in the news feed must be posted by users who the user followed or by the user herself. Tweets must be ordered from most recent to least recent.\n        :type userId: int\n        :rtype: List[int]\n        \"\"\"\n        \n\n    def follow(self, followerId, followeeId):\n        \"\"\"\n        Follower follows a followee. If the operation is invalid, it should be a no-op.\n        :type followerId: int\n        :type followeeId: int\n        :rtype: void\n        \"\"\"\n        \n\n    def unfollow(self, followerId, followeeId):\n        \"\"\"\n        Follower unfollows a followee. If the operation is invalid, it should be a no-op.\n        :type followerId: int\n        :type followeeId: int\n        :rtype: void\n        \"\"\"\n        \n\n\n# Your Twitter object will be instantiated and called as such:\n# obj = Twitter()\n# obj.postTweet(userId,tweetId)\n# param_2 = obj.getNewsFeed(userId)\n# obj.follow(followerId,followeeId)\n# obj.unfollow(followerId,followeeId)",
            "outputs": []
        },
        {
            "cell_type": "code",
            "metadata": {},
            "execution_count": null,
            "source": "# submit\n%run ../../cli.py push --method=submit --path=design_twitter.py --clean=True",
            "outputs": []
        }
    ]
}