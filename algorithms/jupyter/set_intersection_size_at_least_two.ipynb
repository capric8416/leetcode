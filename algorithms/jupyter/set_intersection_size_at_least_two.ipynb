{
    "nbformat": 4,
    "nbformat_minor": 2,
    "metadata": {
        "kernelspec": {
            "display_name": "Python 3",
            "language": "python",
            "name": "python3"
        },
        "language_info": {
            "codemirror_mode": {
                "name": "ipython",
                "version": 3
            },
            "file_extension": ".py",
            "mimetype": "text/x-python",
            "name": "python",
            "nbconvert_exporter": "python",
            "pygments_lexer": "ipython3",
            "version": "3.7.2"
        }
    },
    "cells": [
        {
            "cell_type": "markdown",
            "source": [
                "<h1>Set Intersection Size At Least Two</h1>",
                "<p><div></div>",
                "An integer interval <code>[a, b]</code> (for integers <code>a < b</code>) is a set of all consecutive integers from <code>a</code> to <code>b</code>, including <code>a</code> and <code>b</code>.<div></div>",
                "</p><p><div></div>",
                "Find the minimum size of a set S such that for every integer interval A in <code>intervals</code>, the intersection of S with A has size at least 2.<div></div>",
                "</p><div></div>",
                "<div></div>",
                "<p><b>Example 1:</b><br /><div></div>",
                "<pre><div></div>",
                "<b>Input:</b> intervals = [[1, 3], [1, 4], [2, 5], [3, 5]]<div></div>",
                "<b>Output:</b> 3<div></div>",
                "<b>Explanation:</b><div></div>",
                "Consider the set S = {2, 3, 4}.  For each interval, there are at least 2 elements from S in the interval.<div></div>",
                "Also, there isn't a smaller size set that fulfills the above condition.<div></div>",
                "Thus, we output the size of this set, which is 3.<div></div>",
                "</pre><div></div>",
                "</p><div></div>",
                "<div></div>",
                "<p><b>Example 2:</b><br /><div></div>",
                "<pre><div></div>",
                "<b>Input:</b> intervals = [[1, 2], [2, 3], [2, 4], [4, 5]]<div></div>",
                "<b>Output:</b> 5<div></div>",
                "<b>Explanation:</b><div></div>",
                "An example of a minimum sized set is {1, 2, 3, 4, 5}.<div></div>",
                "</pre><div></div>",
                "</p><div></div>",
                "<div></div>",
                "<p><b>Note:</b><br><ol><div></div>",
                "<li><code>intervals</code> will have length in range <code>[1, 3000]</code>.</li><div></div>",
                "<li><code>intervals[i]</code> will have length <code>2</code>, representing some integer interval.</li><div></div>",
                "<li><code>intervals[i][j]</code> will be an integer in <code>[0, 10^8]</code>.</li><div></div>",
                "</ol></p><div></div>"
            ],
            "metadata": {}
        },
        {
            "cell_type": "code",
            "metadata": {},
            "execution_count": null,
            "source": "%%writefile set_intersection_size_at_least_two.py\nclass Solution:\n    def intersectionSizeTwo(self, intervals):\n        \"\"\"\n        :type intervals: List[List[int]]\n        :rtype: int\n        \"\"\"",
            "outputs": []
        },
        {
            "cell_type": "code",
            "metadata": {},
            "execution_count": null,
            "source": "# submit\n%run ../../cli.py push --method=submit --path=set_intersection_size_at_least_two.py --clean=True",
            "outputs": []
        }
    ]
}