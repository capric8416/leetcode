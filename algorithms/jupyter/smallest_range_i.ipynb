{
    "nbformat": 4,
    "nbformat_minor": 2,
    "metadata": {
        "kernelspec": {
            "display_name": "Python 3",
            "language": "python",
            "name": "python3"
        },
        "language_info": {
            "codemirror_mode": {
                "name": "ipython",
                "version": 3
            },
            "file_extension": ".py",
            "mimetype": "text/x-python",
            "name": "python",
            "nbconvert_exporter": "python",
            "pygments_lexer": "ipython3",
            "version": "3.7.2"
        }
    },
    "cells": [
        {
            "cell_type": "markdown",
            "source": [
                "<h1>Smallest Range I</h1>",
                "<p>Given an array <code>A</code> of integers, for each integer <code>A[i]</code> we may choose any <code>x</code> with <code>-K &lt;= x &lt;= K</code>, and add <code>x</code> to <code>A[i]</code>.</p><div></div>",
                "<div></div>",
                "<p>After this process, we have some array <code>B</code>.</p><div></div>",
                "<div></div>",
                "<p>Return the smallest possible difference between the maximum value of <code>B</code>&nbsp;and the minimum value of <code>B</code>.</p><div></div>",
                "<div></div>",
                "<p>&nbsp;</p><div></div>",
                "<div></div>",
                "<ol><div></div>",
                "</ol><div></div>",
                "<div></div>",
                "<div><div></div>",
                "<p><strong>Example 1:</strong></p><div></div>",
                "<div></div>",
                "<pre><div></div>",
                "<strong>Input: </strong>A = <span id=\"example-input-1-1\">[1]</span>, K = <span id=\"example-input-1-2\">0</span><div></div>",
                "<strong>Output: </strong><span id=\"example-output-1\">0<div></div>",
                "<strong>Explanation</strong>: B = [1]</span><div></div>",
                "</pre><div></div>",
                "<div></div>",
                "<div><div></div>",
                "<p><strong>Example 2:</strong></p><div></div>",
                "<div></div>",
                "<pre><div></div>",
                "<strong>Input: </strong>A = <span id=\"example-input-2-1\">[0,10]</span>, K = <span id=\"example-input-2-2\">2</span><div></div>",
                "<strong>Output: </strong><span id=\"example-output-2\">6<div></div>",
                "</span><span id=\"example-output-1\"><strong>Explanation</strong>: B = [2,8]</span><div></div>",
                "</pre><div></div>",
                "<div></div>",
                "<div><div></div>",
                "<p><strong>Example 3:</strong></p><div></div>",
                "<div></div>",
                "<pre><div></div>",
                "<strong>Input: </strong>A = <span id=\"example-input-3-1\">[1,3,6]</span>, K = <span id=\"example-input-3-2\">3</span><div></div>",
                "<strong>Output: </strong><span id=\"example-output-3\">0<div></div>",
                "</span><span id=\"example-output-1\"><strong>Explanation</strong>: B = [3,3,3] or B = [4,4,4]</span><div></div>",
                "</pre><div></div>",
                "<div></div>",
                "<p>&nbsp;</p><div></div>",
                "<div></div>",
                "<p><strong>Note:</strong></p><div></div>",
                "<div></div>",
                "<ol><div></div>",
                "\t<li><code>1 &lt;= A.length &lt;= 10000</code></li><div></div>",
                "\t<li><code>0 &lt;= A[i] &lt;= 10000</code></li><div></div>",
                "\t<li><code>0 &lt;= K &lt;= 10000</code></li><div></div>",
                "</ol><div></div>",
                "</div><div></div>",
                "</div><div></div>",
                "</div><div></div>"
            ],
            "metadata": {}
        },
        {
            "cell_type": "code",
            "metadata": {},
            "execution_count": null,
            "source": "%%writefile smallest_range_i.py\nclass Solution:\n    def smallestRangeI(self, A, K):\n        \"\"\"\n        :type A: List[int]\n        :type K: int\n        :rtype: int\n        \"\"\"",
            "outputs": []
        },
        {
            "cell_type": "code",
            "metadata": {},
            "execution_count": null,
            "source": "# submit\n%run ../../cli.py push --method=submit --path=smallest_range_i.py --clean=True",
            "outputs": []
        }
    ]
}