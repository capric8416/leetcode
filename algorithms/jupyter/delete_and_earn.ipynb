{
    "nbformat": 4,
    "nbformat_minor": 2,
    "metadata": {
        "kernelspec": {
            "display_name": "Python 3",
            "language": "python",
            "name": "python3"
        },
        "language_info": {
            "codemirror_mode": {
                "name": "ipython",
                "version": 3
            },
            "file_extension": ".py",
            "mimetype": "text/x-python",
            "name": "python",
            "nbconvert_exporter": "python",
            "pygments_lexer": "ipython3",
            "version": "3.7.2"
        }
    },
    "cells": [
        {
            "cell_type": "markdown",
            "source": [
                "<h1>Delete and Earn</h1>",
                "<p><div></div>",
                "Given an array <code>nums</code> of integers, you can perform operations on the array.<div></div>",
                "</p><p><div></div>",
                "In each operation, you pick any <code>nums[i]</code> and delete it to earn <code>nums[i]</code> points.  After, you must delete <b>every</b> element equal to <code>nums[i] - 1</code> or <code>nums[i] + 1</code>.<div></div>",
                "</p><p><div></div>",
                "You start with 0 points.  Return the maximum number of points you can earn by applying such operations.<div></div>",
                "</p><div></div>",
                "<div></div>",
                "<p><b>Example 1:</b><br /><div></div>",
                "<pre><div></div>",
                "<b>Input:</b> nums = [3, 4, 2]<div></div>",
                "<b>Output:</b> 6<div></div>",
                "<b>Explanation:</b> <div></div>",
                "Delete 4 to earn 4 points, consequently 3 is also deleted.<div></div>",
                "Then, delete 2 to earn 2 points. 6 total points are earned.<div></div>",
                "</pre><div></div>",
                "</p><div></div>",
                "<div></div>",
                "<p><b>Example 2:</b><br /><div></div>",
                "<pre><div></div>",
                "<b>Input:</b> nums = [2, 2, 3, 3, 3, 4]<div></div>",
                "<b>Output:</b> 9<div></div>",
                "<b>Explanation:</b> <div></div>",
                "Delete 3 to earn 3 points, deleting both 2's and the 4.<div></div>",
                "Then, delete 3 again to earn 3 points, and 3 again to earn 3 points.<div></div>",
                "9 total points are earned.<div></div>",
                "</pre><div></div>",
                "</p><div></div>",
                "<div></div>",
                "<p><b>Note:</b><div></div>",
                "<li>The length of <code>nums</code> is at most <code>20000</code>.</li><div></div>",
                "<li>Each element <code>nums[i]</code> is an integer in the range <code>[1, 10000]</code>.</li><div></div>",
                "</p><div></div>"
            ],
            "metadata": {}
        },
        {
            "cell_type": "code",
            "metadata": {},
            "execution_count": null,
            "source": "%%writefile delete_and_earn.py\nclass Solution:\n    def deleteAndEarn(self, nums):\n        \"\"\"\n        :type nums: List[int]\n        :rtype: int\n        \"\"\"",
            "outputs": []
        },
        {
            "cell_type": "code",
            "metadata": {},
            "execution_count": null,
            "source": "# submit\n%run ../../cli.py push --method=submit --path=delete_and_earn.py --clean=True",
            "outputs": []
        }
    ]
}