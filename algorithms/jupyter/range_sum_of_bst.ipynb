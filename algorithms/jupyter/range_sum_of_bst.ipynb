{
    "nbformat": 4,
    "nbformat_minor": 2,
    "metadata": {
        "kernelspec": {
            "display_name": "Python 3",
            "language": "python",
            "name": "python3"
        },
        "language_info": {
            "codemirror_mode": {
                "name": "ipython",
                "version": 3
            },
            "file_extension": ".py",
            "mimetype": "text/x-python",
            "name": "python",
            "nbconvert_exporter": "python",
            "pygments_lexer": "ipython3",
            "version": "3.7.2"
        }
    },
    "cells": [
        {
            "cell_type": "markdown",
            "source": [
                "<h1>Range Sum of BST</h1>",
                "<p>Given the <code>root</code> node of a binary search tree, return the sum of values of all nodes with value between <code>L</code> and <code>R</code> (inclusive).</p><div></div>",
                "<div></div>",
                "<p>The binary search tree is guaranteed to have unique values.</p><div></div>",
                "<div></div>",
                "<p>&nbsp;</p><div></div>",
                "<div></div>",
                "<div><div></div>",
                "<p><strong>Example 1:</strong></p><div></div>",
                "<div></div>",
                "<pre><div></div>",
                "<strong>Input: </strong>root = <span id=\"example-input-1-1\">[10,5,15,3,7,null,18]</span>, L = <span id=\"example-input-1-2\">7</span>, R = <span id=\"example-input-1-3\">15</span><div></div>",
                "<strong>Output: </strong><span id=\"example-output-1\">32</span><div></div>",
                "</pre><div></div>",
                "<div></div>",
                "<div><div></div>",
                "<p><strong>Example 2:</strong></p><div></div>",
                "<div></div>",
                "<pre><div></div>",
                "<strong>Input: </strong>root = <span id=\"example-input-2-1\">[10,5,15,3,7,13,18,1,null,6]</span>, L = <span id=\"example-input-2-2\">6</span>, R = <span id=\"example-input-2-3\">10</span><div></div>",
                "<strong>Output: </strong><span id=\"example-output-2\">23</span><div></div>",
                "</pre><div></div>",
                "<div></div>",
                "<p>&nbsp;</p><div></div>",
                "<div></div>",
                "<p><strong>Note:</strong></p><div></div>",
                "<div></div>",
                "<ol><div></div>",
                "\t<li>The number of nodes in the tree is at most <code>10000</code>.</li><div></div>",
                "\t<li>The final answer is guaranteed to be less than <code>2^31</code>.</li><div></div>",
                "</ol><div></div>",
                "</div><div></div>",
                "</div><div></div>"
            ],
            "metadata": {}
        },
        {
            "cell_type": "code",
            "metadata": {},
            "execution_count": null,
            "source": "%%writefile range_sum_of_bst.py\n# Definition for a binary tree node.\n# class TreeNode:\n#     def __init__(self, x):\n#         self.val = x\n#         self.left = None\n#         self.right = None\n\nclass Solution:\n    def rangeSumBST(self, root, L, R):\n        \"\"\"\n        :type root: TreeNode\n        :type L: int\n        :type R: int\n        :rtype: int\n        \"\"\"",
            "outputs": []
        },
        {
            "cell_type": "code",
            "metadata": {},
            "execution_count": null,
            "source": "# submit\n%run ../../cli.py push --method=submit --path=range_sum_of_bst.py --clean=True",
            "outputs": []
        }
    ]
}