{
    "nbformat": 4,
    "nbformat_minor": 2,
    "metadata": {
        "kernelspec": {
            "display_name": "Python 3",
            "language": "python",
            "name": "python3"
        },
        "language_info": {
            "codemirror_mode": {
                "name": "ipython",
                "version": 3
            },
            "file_extension": ".py",
            "mimetype": "text/x-python",
            "name": "python",
            "nbconvert_exporter": "python",
            "pygments_lexer": "ipython3",
            "version": "3.7.2"
        }
    },
    "cells": [
        {
            "cell_type": "markdown",
            "source": [
                "<h1>Number of Recent Calls</h1>",
                "<p>Write a class <code>RecentCounter</code> to count recent requests.</p><div></div>",
                "<div></div>",
                "<p>It has only one method:&nbsp;<code>ping(int t)</code>, where t represents some time in milliseconds.</p><div></div>",
                "<div></div>",
                "<p>Return the number of <code>ping</code>s that have been made from 3000 milliseconds ago until now.</p><div></div>",
                "<div></div>",
                "<p>Any ping with time in <code>[t - 3000, t]</code> will count, including the current ping.</p><div></div>",
                "<div></div>",
                "<p>It is guaranteed that every call to <code>ping</code> uses a strictly larger value of&nbsp;<code>t</code> than before.</p><div></div>",
                "<div></div>",
                "<p>&nbsp;</p><div></div>",
                "<div></div>",
                "<p><strong>Example 1:</strong></p><div></div>",
                "<div></div>",
                "<pre><div></div>",
                "<strong>Input: </strong>inputs = <span id=\"example-input-1-1\">[&quot;RecentCounter&quot;,&quot;ping&quot;,&quot;ping&quot;,&quot;ping&quot;,&quot;ping&quot;]</span>, inputs = <span id=\"example-input-1-2\">[[],[1],[100],[3001],[3002]]</span><div></div>",
                "<strong>Output: </strong><span id=\"example-output-1\">[null,1,2,3,3]</span></pre><div></div>",
                "<div></div>",
                "<p>&nbsp;</p><div></div>",
                "<div></div>",
                "<p><strong>Note:</strong></p><div></div>",
                "<div></div>",
                "<ol><div></div>",
                "\t<li>Each test case will have at most <code>10000</code> calls to <code>ping</code>.</li><div></div>",
                "\t<li>Each test case will call&nbsp;<code>ping</code> with strictly increasing values of <code>t</code>.</li><div></div>",
                "\t<li>Each call to ping will have <code>1 &lt;= t &lt;= 10^9</code>.</li><div></div>",
                "</ol><div></div>",
                "<div></div>",
                "<div><div></div>",
                "<p>&nbsp;</p><div></div>",
                "</div><div></div>"
            ],
            "metadata": {}
        },
        {
            "cell_type": "code",
            "metadata": {},
            "execution_count": null,
            "source": "%%writefile number_of_recent_calls.py\nclass RecentCounter:\n\n    def __init__(self):\n        \n\n    def ping(self, t):\n        \"\"\"\n        :type t: int\n        :rtype: int\n        \"\"\"\n        \n\n\n# Your RecentCounter object will be instantiated and called as such:\n# obj = RecentCounter()\n# param_1 = obj.ping(t)",
            "outputs": []
        },
        {
            "cell_type": "code",
            "metadata": {},
            "execution_count": null,
            "source": "# submit\n%run ../../cli.py push --method=submit --path=number_of_recent_calls.py --clean=True",
            "outputs": []
        }
    ]
}