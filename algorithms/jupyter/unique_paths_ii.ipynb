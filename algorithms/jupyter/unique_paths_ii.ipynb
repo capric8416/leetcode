{
    "nbformat": 4,
    "nbformat_minor": 2,
    "metadata": {
        "kernelspec": {
            "display_name": "Python 3",
            "language": "python",
            "name": "python3"
        },
        "language_info": {
            "codemirror_mode": {
                "name": "ipython",
                "version": 3
            },
            "file_extension": ".py",
            "mimetype": "text/x-python",
            "name": "python",
            "nbconvert_exporter": "python",
            "pygments_lexer": "ipython3",
            "version": "3.7.2"
        }
    },
    "cells": [
        {
            "cell_type": "markdown",
            "source": [
                "<h1>Unique Paths II</h1>",
                "<p>A robot is located at the top-left corner of a <em>m</em> x <em>n</em> grid (marked &#39;Start&#39; in the diagram below).</p><div></div>",
                "<div></div>",
                "<p>The robot can only move either down or right at any point in time. The robot is trying to reach the bottom-right corner of the grid (marked &#39;Finish&#39; in the diagram below).</p><div></div>",
                "<div></div>",
                "<p>Now consider if some obstacles are added to the grids. How many unique paths would there be?</p><div></div>",
                "<div></div>",
                "<p><img src=\"https://assets.leetcode.com/uploads/2018/10/22/robot_maze.png\" style=\"width: 400px; height: 183px;\" /></p><div></div>",
                "<div></div>",
                "<p>An obstacle and empty space is marked as <code>1</code> and <code>0</code> respectively in the grid.</p><div></div>",
                "<div></div>",
                "<p><strong>Note:</strong> <em>m</em> and <em>n</em> will be at most 100.</p><div></div>",
                "<div></div>",
                "<p><strong>Example 1:</strong></p><div></div>",
                "<div></div>",
                "<pre><div></div>",
                "<strong>Input:<div></div>",
                "</strong>[<div></div>",
                "&nbsp; [0,0,0],<div></div>",
                "&nbsp; [0,1,0],<div></div>",
                "&nbsp; [0,0,0]<div></div>",
                "]<div></div>",
                "<strong>Output:</strong> 2<div></div>",
                "<strong>Explanation:</strong><div></div>",
                "There is one obstacle in the middle of the 3x3 grid above.<div></div>",
                "There are two ways to reach the bottom-right corner:<div></div>",
                "1. Right -&gt; Right -&gt; Down -&gt; Down<div></div>",
                "2. Down -&gt; Down -&gt; Right -&gt; Right<div></div>",
                "</pre><div></div>",
                "<div></div>"
            ],
            "metadata": {}
        },
        {
            "cell_type": "code",
            "metadata": {},
            "execution_count": null,
            "source": "%%writefile unique_paths_ii.py\nclass Solution:\n    def uniquePathsWithObstacles(self, obstacleGrid):\n        \"\"\"\n        :type obstacleGrid: List[List[int]]\n        :rtype: int\n        \"\"\"",
            "outputs": []
        },
        {
            "cell_type": "code",
            "metadata": {},
            "execution_count": null,
            "source": "# submit\n%run ../../cli.py push --method=submit --path=unique_paths_ii.py --clean=True",
            "outputs": []
        }
    ]
}