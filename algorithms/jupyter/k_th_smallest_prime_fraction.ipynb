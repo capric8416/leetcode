{
    "nbformat": 4,
    "nbformat_minor": 2,
    "metadata": {
        "kernelspec": {
            "display_name": "Python 3",
            "language": "python",
            "name": "python3"
        },
        "language_info": {
            "codemirror_mode": {
                "name": "ipython",
                "version": 3
            },
            "file_extension": ".py",
            "mimetype": "text/x-python",
            "name": "python",
            "nbconvert_exporter": "python",
            "pygments_lexer": "ipython3",
            "version": "3.7.2"
        }
    },
    "cells": [
        {
            "cell_type": "markdown",
            "source": [
                "<h1>K-th Smallest Prime Fraction</h1>",
                "<p>A sorted list <code>A</code> contains 1, plus some number of primes.&nbsp; Then, for every p &lt; q in the list, we consider the fraction p/q.</p><div></div>",
                "<div></div>",
                "<p>What is the <code>K</code>-th smallest fraction considered?&nbsp; Return your answer as an array of ints, where <code>answer[0] = p</code> and <code>answer[1] = q</code>.</p><div></div>",
                "<div></div>",
                "<pre><div></div>",
                "<strong>Examples:</strong><div></div>",
                "<strong>Input:</strong> A = [1, 2, 3, 5], K = 3<div></div>",
                "<strong>Output:</strong> [2, 5]<div></div>",
                "<strong>Explanation:</strong><div></div>",
                "The fractions to be considered in sorted order are:<div></div>",
                "1/5, 1/3, 2/5, 1/2, 3/5, 2/3.<div></div>",
                "The third fraction is 2/5.<div></div>",
                "<div></div>",
                "<strong>Input:</strong> A = [1, 7], K = 1<div></div>",
                "<strong>Output:</strong> [1, 7]<div></div>",
                "</pre><div></div>",
                "<div></div>",
                "<p><strong>Note:</strong></p><div></div>",
                "<div></div>",
                "<ul><div></div>",
                "\t<li><code>A</code> will have length between <code>2</code> and <code>2000</code>.</li><div></div>",
                "\t<li>Each <code>A[i]</code> will be between <code>1</code> and <code>30000</code>.</li><div></div>",
                "\t<li><code>K</code> will be between <code>1</code> and <code>A.length * (A.length - 1) / 2</code>.</li><div></div>",
                "</ul><div></div>"
            ],
            "metadata": {}
        },
        {
            "cell_type": "code",
            "metadata": {},
            "execution_count": null,
            "source": "%%writefile k_th_smallest_prime_fraction.py\nclass Solution:\n    def kthSmallestPrimeFraction(self, A, K):\n        \"\"\"\n        :type A: List[int]\n        :type K: int\n        :rtype: List[int]\n        \"\"\"",
            "outputs": []
        },
        {
            "cell_type": "code",
            "metadata": {},
            "execution_count": null,
            "source": "# submit\n%run ../../cli.py push --method=submit --path=k_th_smallest_prime_fraction.py --clean=True",
            "outputs": []
        }
    ]
}