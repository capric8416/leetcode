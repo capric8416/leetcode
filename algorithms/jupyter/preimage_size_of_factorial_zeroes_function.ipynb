{
    "nbformat": 4,
    "nbformat_minor": 2,
    "metadata": {
        "kernelspec": {
            "display_name": "Python 3",
            "language": "python",
            "name": "python3"
        },
        "language_info": {
            "codemirror_mode": {
                "name": "ipython",
                "version": 3
            },
            "file_extension": ".py",
            "mimetype": "text/x-python",
            "name": "python",
            "nbconvert_exporter": "python",
            "pygments_lexer": "ipython3",
            "version": "3.7.2"
        }
    },
    "cells": [
        {
            "cell_type": "markdown",
            "source": [
                "<h1>Preimage Size of Factorial Zeroes Function</h1>",
                "<p>Let <code>f(x)</code> be the number of zeroes at the end of <code>x!</code>. (Recall that <code>x! = 1 * 2 * 3 * ... * x</code>, and by convention, <code>0! = 1</code>.)</p><div></div>",
                "<div></div>",
                "<p>For example, <code>f(3) = 0</code> because 3! = 6 has no zeroes at the end, while <code>f(11) = 2</code> because 11! = 39916800 has 2 zeroes at the end. Given <code>K</code>, find how many non-negative integers <code>x</code> have the property that <code>f(x) = K</code>.</p><div></div>",
                "<div></div>",
                "<pre><div></div>",
                "<strong>Example 1:</strong><div></div>",
                "<strong>Input:</strong> K = 0<div></div>",
                "<strong>Output:</strong> 5<div></div>",
                "<strong>Explanation:</strong> 0!, 1!, 2!, 3!, and 4! end with K = 0 zeroes.<div></div>",
                "<div></div>",
                "<strong>Example 2:</strong><div></div>",
                "<strong>Input:</strong> K = 5<div></div>",
                "<strong>Output:</strong> 0<div></div>",
                "<strong>Explanation:</strong> There is no x such that x! ends in K = 5 zeroes.<div></div>",
                "</pre><div></div>",
                "<div></div>",
                "<p><strong>Note:</strong></p><div></div>",
                "<div></div>",
                "<ul><div></div>",
                "\t<li><code>K</code> will be an integer in the range <code>[0, 10^9]</code>.</li><div></div>",
                "</ul><div></div>",
                "<div></div>"
            ],
            "metadata": {}
        },
        {
            "cell_type": "code",
            "metadata": {},
            "execution_count": null,
            "source": "%%writefile preimage_size_of_factorial_zeroes_function.py\nclass Solution:\n    def preimageSizeFZF(self, K):\n        \"\"\"\n        :type K: int\n        :rtype: int\n        \"\"\"",
            "outputs": []
        },
        {
            "cell_type": "code",
            "metadata": {},
            "execution_count": null,
            "source": "# submit\n%run ../../cli.py push --method=submit --path=preimage_size_of_factorial_zeroes_function.py --clean=True",
            "outputs": []
        }
    ]
}