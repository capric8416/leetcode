{
    "nbformat": 4,
    "nbformat_minor": 2,
    "metadata": {
        "kernelspec": {
            "display_name": "Python 3",
            "language": "python",
            "name": "python3"
        },
        "language_info": {
            "codemirror_mode": {
                "name": "ipython",
                "version": 3
            },
            "file_extension": ".py",
            "mimetype": "text/x-python",
            "name": "python",
            "nbconvert_exporter": "python",
            "pygments_lexer": "ipython3",
            "version": "3.7.2"
        }
    },
    "cells": [
        {
            "cell_type": "markdown",
            "source": [
                "<h1>Out of Boundary Paths</h1>",
                "<p>There is an <b>m</b> by <b>n</b> grid with a ball. Given the start coordinate <b>(i,j)</b> of the ball, you can move the ball to <b>adjacent</b> cell or cross the grid boundary in four directions (up, down, left, right). However, you can <b>at most</b> move <b>N</b> times. Find out the number of paths to move the ball out of grid boundary. The answer may be very large, return it after mod 10<sup>9</sup> + 7.</p><div></div>",
                "<div></div>",
                "<p>&nbsp;</p><div></div>",
                "<div></div>",
                "<p><b>Example 1:</b></p><div></div>",
                "<div></div>",
                "<pre><div></div>",
                "<b>Input: </b>m = 2, n = 2, N = 2, i = 0, j = 0<div></div>",
                "<b>Output:</b> 6<div></div>",
                "<b>Explanation:</b><div></div>",
                "<img src=\"https://assets.leetcode.com/uploads/2018/10/13/out_of_boundary_paths_1.png\" style=\"width: 100%; max-width: 400px\" /><div></div>",
                "</pre><div></div>",
                "<div></div>",
                "<p><b>Example 2:</b></p><div></div>",
                "<div></div>",
                "<pre><div></div>",
                "<b>Input: </b>m = 1, n = 3, N = 3, i = 0, j = 1<div></div>",
                "<b>Output:</b> 12<div></div>",
                "<b>Explanation:</b><div></div>",
                "<img src=\"https://assets.leetcode.com/uploads/2018/10/12/out_of_boundary_paths_2.png\" style=\"width: 100%; max-width: 400px\" /><div></div>",
                "</pre><div></div>",
                "<div></div>",
                "<p>&nbsp;</p><div></div>",
                "<div></div>",
                "<p><b>Note:</b></p><div></div>",
                "<div></div>",
                "<ol><div></div>",
                "\t<li>Once you move the ball out of boundary, you cannot move it back.</li><div></div>",
                "\t<li>The length and height of the grid is in range [1,50].</li><div></div>",
                "\t<li>N is in range [0,50].</li><div></div>",
                "</ol><div></div>",
                "<div></div>"
            ],
            "metadata": {}
        },
        {
            "cell_type": "code",
            "metadata": {},
            "execution_count": null,
            "source": "%%writefile out_of_boundary_paths.py\nclass Solution:\n    def findPaths(self, m, n, N, i, j):\n        \"\"\"\n        :type m: int\n        :type n: int\n        :type N: int\n        :type i: int\n        :type j: int\n        :rtype: int\n        \"\"\"",
            "outputs": []
        },
        {
            "cell_type": "code",
            "metadata": {},
            "execution_count": null,
            "source": "# submit\n%run ../../cli.py push --method=submit --path=out_of_boundary_paths.py --clean=True",
            "outputs": []
        }
    ]
}