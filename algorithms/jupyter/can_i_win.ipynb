{
    "nbformat": 4,
    "nbformat_minor": 2,
    "metadata": {
        "kernelspec": {
            "display_name": "Python 3",
            "language": "python",
            "name": "python3"
        },
        "language_info": {
            "codemirror_mode": {
                "name": "ipython",
                "version": 3
            },
            "file_extension": ".py",
            "mimetype": "text/x-python",
            "name": "python",
            "nbconvert_exporter": "python",
            "pygments_lexer": "ipython3",
            "version": "3.7.2"
        }
    },
    "cells": [
        {
            "cell_type": "markdown",
            "source": [
                "<h1>Can I Win</h1>",
                "<p>In the \"100 game,\" two players take turns adding, to a running total, any integer from 1..10. The player who first causes the running total to reach or exceed 100 wins. </p><div></div>",
                "<div></div>",
                "<p>What if we change the game so that players cannot re-use integers? </p><div></div>",
                "<div></div>",
                "<p>For example, two players might take turns drawing from a common pool of numbers of 1..15 without replacement until they reach a total >= 100.</p><div></div>",
                "<div></div>",
                "<p>Given an integer <code>maxChoosableInteger</code> and another integer <code>desiredTotal</code>, determine if the first player to move can force a win, assuming both players play optimally. </p><div></div>",
                "<div></div>",
                "<p>You can always assume that <code>maxChoosableInteger</code> will not be larger than 20 and <code>desiredTotal</code> will not be larger than 300.<div></div>",
                "</p><div></div>",
                "<div></div>",
                "<p><b>Example</b><div></div>",
                "<pre><div></div>",
                "<b>Input:</b><div></div>",
                "maxChoosableInteger = 10<div></div>",
                "desiredTotal = 11<div></div>",
                "<div></div>",
                "<b>Output:</b><div></div>",
                "false<div></div>",
                "<div></div>",
                "<b>Explanation:</b><div></div>",
                "No matter which integer the first player choose, the first player will lose.<div></div>",
                "The first player can choose an integer from 1 up to 10.<div></div>",
                "If the first player choose 1, the second player can only choose integers from 2 up to 10.<div></div>",
                "The second player will win by choosing 10 and get a total = 11, which is >= desiredTotal.<div></div>",
                "Same with other integers chosen by the first player, the second player will always win.<div></div>",
                "</pre><div></div>",
                "</p><div></div>"
            ],
            "metadata": {}
        },
        {
            "cell_type": "code",
            "metadata": {},
            "execution_count": null,
            "source": "%%writefile can_i_win.py\nclass Solution:\n    def canIWin(self, maxChoosableInteger, desiredTotal):\n        \"\"\"\n        :type maxChoosableInteger: int\n        :type desiredTotal: int\n        :rtype: bool\n        \"\"\"",
            "outputs": []
        },
        {
            "cell_type": "code",
            "metadata": {},
            "execution_count": null,
            "source": "# submit\n%run ../../cli.py push --method=submit --path=can_i_win.py --clean=True",
            "outputs": []
        }
    ]
}