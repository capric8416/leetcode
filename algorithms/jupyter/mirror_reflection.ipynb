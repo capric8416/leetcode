{
    "nbformat": 4,
    "nbformat_minor": 2,
    "metadata": {
        "kernelspec": {
            "display_name": "Python 3",
            "language": "python",
            "name": "python3"
        },
        "language_info": {
            "codemirror_mode": {
                "name": "ipython",
                "version": 3
            },
            "file_extension": ".py",
            "mimetype": "text/x-python",
            "name": "python",
            "nbconvert_exporter": "python",
            "pygments_lexer": "ipython3",
            "version": "3.7.2"
        }
    },
    "cells": [
        {
            "cell_type": "markdown",
            "source": [
                "<h1>Mirror Reflection</h1>",
                "<p>There is&nbsp;a special square room with mirrors on each of the four&nbsp;walls.&nbsp; Except for the southwest&nbsp;corner, there are receptors on each of the remaining corners, numbered <code>0</code>, <code>1</code>, and <code>2</code>.</p><div></div>",
                "<div></div>",
                "<p>The square room has walls of length <code>p</code>, and a laser ray from the southwest corner&nbsp;first meets the east wall at a distance <code>q</code>&nbsp;from the <code>0</code>th receptor.</p><div></div>",
                "<div></div>",
                "<p>Return the number of the receptor that the ray meets first.&nbsp; (It is guaranteed that the ray will meet&nbsp;a receptor eventually.)</p><div></div>",
                "<div></div>",
                "<p>&nbsp;</p><div></div>",
                "<div></div>",
                "<div><div></div>",
                "<p><strong>Example 1:</strong></p><div></div>",
                "<div></div>",
                "<pre><div></div>",
                "<strong>Input: </strong>p = <span id=\"example-input-1-1\">2</span>, q = <span id=\"example-input-1-2\">1</span><div></div>",
                "<strong>Output: </strong><span id=\"example-output-1\">2</span><div></div>",
                "<strong>Explanation: </strong>The ray meets receptor 2 the first time it gets reflected back to the left wall.<div></div>",
                "<p><img alt=\"\" src=\"https://ibb.co/mYSFJT\" /><img alt=\"\" src=\"https://s3-lc-upload.s3.amazonaws.com/uploads/2018/06/18/reflection.png\" style=\"width: 218px; height: 217px;\" /></p><div></div>",
                "</pre><div></div>",
                "<div></div>",
                "<div></div>",
                "<p><strong>Note:</strong></p><div></div>",
                "<div></div>",
                "<ol><div></div>",
                "\t<li><code>1 &lt;= p &lt;= 1000</code></li><div></div>",
                "\t<li><code>0 &lt;= q &lt;= p</code></li><div></div>",
                "</ol><div></div>",
                "</div><div></div>",
                "<div></div>"
            ],
            "metadata": {}
        },
        {
            "cell_type": "code",
            "metadata": {},
            "execution_count": null,
            "source": "%%writefile mirror_reflection.py\nclass Solution:\n    def mirrorReflection(self, p, q):\n        \"\"\"\n        :type p: int\n        :type q: int\n        :rtype: int\n        \"\"\"",
            "outputs": []
        },
        {
            "cell_type": "code",
            "metadata": {},
            "execution_count": null,
            "source": "# submit\n%run ../../cli.py push --method=submit --path=mirror_reflection.py --clean=True",
            "outputs": []
        }
    ]
}