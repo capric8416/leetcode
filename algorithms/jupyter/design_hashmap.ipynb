{
    "nbformat": 4,
    "nbformat_minor": 2,
    "metadata": {
        "kernelspec": {
            "display_name": "Python 3",
            "language": "python",
            "name": "python3"
        },
        "language_info": {
            "codemirror_mode": {
                "name": "ipython",
                "version": 3
            },
            "file_extension": ".py",
            "mimetype": "text/x-python",
            "name": "python",
            "nbconvert_exporter": "python",
            "pygments_lexer": "ipython3",
            "version": "3.7.2"
        }
    },
    "cells": [
        {
            "cell_type": "markdown",
            "source": [
                "<h1>Design HashMap</h1>",
                "<p>Design a HashMap&nbsp;without using any built-in hash table libraries.</p><div></div>",
                "<div></div>",
                "<p>To be specific, your design should include these functions:</p><div></div>",
                "<div></div>",
                "<ul><div></div>",
                "\t<li><code>put(key, value)</code> :&nbsp;Insert a (key, value) pair into the HashMap. If the value already exists in the HashMap, update the value.</li><div></div>",
                "\t<li><code>get(key)</code>: Returns the value to which the specified key is mapped, or -1 if this map contains no mapping for the key.</li><div></div>",
                "\t<li><code>remove(key)</code> :&nbsp;Remove the mapping for the value key if this map contains the mapping for the key.</li><div></div>",
                "</ul><div></div>",
                "<div></div>",
                "<p><br /><div></div>",
                "<strong>Example:</strong></p><div></div>",
                "<div></div>",
                "<pre><div></div>",
                "MyHashMap hashMap = new MyHashMap();<div></div>",
                "hashMap.put(1, 1); &nbsp; &nbsp; &nbsp; &nbsp; &nbsp;<div></div>",
                "hashMap.put(2, 2); &nbsp; &nbsp; &nbsp; &nbsp; <div></div>",
                "hashMap.get(1); &nbsp; &nbsp; &nbsp; &nbsp; &nbsp; &nbsp;// returns 1<div></div>",
                "hashMap.get(3); &nbsp; &nbsp; &nbsp; &nbsp; &nbsp; &nbsp;// returns -1 (not found)<div></div>",
                "hashMap.put(2, 1); &nbsp; &nbsp; &nbsp; &nbsp; &nbsp;// update the existing value<div></div>",
                "hashMap.get(2); &nbsp; &nbsp; &nbsp; &nbsp; &nbsp; &nbsp;// returns 1 <div></div>",
                "hashMap.remove(2); &nbsp; &nbsp; &nbsp; &nbsp; &nbsp;// remove the mapping for 2<div></div>",
                "hashMap.get(2); &nbsp; &nbsp; &nbsp; &nbsp; &nbsp; &nbsp;// returns -1 (not found) <div></div>",
                "</pre><div></div>",
                "<div></div>",
                "<p><br /><div></div>",
                "<strong>Note:</strong></p><div></div>",
                "<div></div>",
                "<ul><div></div>",
                "\t<li>All keys and values will be in the range of <code>[0, 1000000]</code>.</li><div></div>",
                "\t<li>The number of operations will be in the range of&nbsp;<code>[1, 10000]</code>.</li><div></div>",
                "\t<li>Please do not use the built-in HashMap library.</li><div></div>",
                "</ul><div></div>",
                "<div></div>"
            ],
            "metadata": {}
        },
        {
            "cell_type": "code",
            "metadata": {},
            "execution_count": null,
            "source": "%%writefile design_hashmap.py\nclass MyHashMap:\n\n    def __init__(self):\n        \"\"\"\n        Initialize your data structure here.\n        \"\"\"\n        \n\n    def put(self, key, value):\n        \"\"\"\n        value will always be non-negative.\n        :type key: int\n        :type value: int\n        :rtype: void\n        \"\"\"\n        \n\n    def get(self, key):\n        \"\"\"\n        Returns the value to which the specified key is mapped, or -1 if this map contains no mapping for the key\n        :type key: int\n        :rtype: int\n        \"\"\"\n        \n\n    def remove(self, key):\n        \"\"\"\n        Removes the mapping of the specified value key if this map contains a mapping for the key\n        :type key: int\n        :rtype: void\n        \"\"\"\n        \n\n\n# Your MyHashMap object will be instantiated and called as such:\n# obj = MyHashMap()\n# obj.put(key,value)\n# param_2 = obj.get(key)\n# obj.remove(key)",
            "outputs": []
        },
        {
            "cell_type": "code",
            "metadata": {},
            "execution_count": null,
            "source": "# submit\n%run ../../cli.py push --method=submit --path=design_hashmap.py --clean=True",
            "outputs": []
        }
    ]
}