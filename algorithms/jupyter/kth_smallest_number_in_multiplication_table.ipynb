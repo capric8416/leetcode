{
    "nbformat": 4,
    "nbformat_minor": 2,
    "metadata": {
        "kernelspec": {
            "display_name": "Python 3",
            "language": "python",
            "name": "python3"
        },
        "language_info": {
            "codemirror_mode": {
                "name": "ipython",
                "version": 3
            },
            "file_extension": ".py",
            "mimetype": "text/x-python",
            "name": "python",
            "nbconvert_exporter": "python",
            "pygments_lexer": "ipython3",
            "version": "3.7.2"
        }
    },
    "cells": [
        {
            "cell_type": "markdown",
            "source": [
                "<h1>Kth Smallest Number in Multiplication Table</h1>",
                "<p><div></div>",
                "Nearly every one have used the <a href=\"https://en.wikipedia.org/wiki/Multiplication_table\">Multiplication Table</a>. But could you find out the <code>k-th</code> smallest number quickly from the multiplication table?<div></div>",
                "</p><div></div>",
                "<div></div>",
                "<p><div></div>",
                "Given the height <code>m</code> and the length <code>n</code> of a <code>m * n</code> Multiplication Table, and a positive integer <code>k</code>, you need to return the <code>k-th</code> smallest number in this table.<div></div>",
                "</p><div></div>",
                "<div></div>",
                "<p><b>Example 1:</b><br /><div></div>",
                "<pre><div></div>",
                "<b>Input:</b> m = 3, n = 3, k = 5<div></div>",
                "<b>Output:</b> <div></div>",
                "<b>Explanation:</b> <div></div>",
                "The Multiplication Table:<div></div>",
                "1\t2\t3<div></div>",
                "2\t4\t6<div></div>",
                "3\t6\t9<div></div>",
                "<div></div>",
                "The 5-th smallest number is 3 (1, 2, 2, 3, 3).<div></div>",
                "</pre><div></div>",
                "</p><div></div>",
                "<div></div>",
                "<div></div>",
                "<p><b>Example 2:</b><br /><div></div>",
                "<pre><div></div>",
                "<b>Input:</b> m = 2, n = 3, k = 6<div></div>",
                "<b>Output:</b> <div></div>",
                "<b>Explanation:</b> <div></div>",
                "The Multiplication Table:<div></div>",
                "1\t2\t3<div></div>",
                "2\t4\t6<div></div>",
                "<div></div>",
                "The 6-th smallest number is 6 (1, 2, 2, 3, 4, 6).<div></div>",
                "</pre><div></div>",
                "</p><div></div>",
                "<div></div>",
                "<div></div>",
                "<p><b>Note:</b><br><div></div>",
                "<ol><div></div>",
                "<li>The <code>m</code> and <code>n</code> will be in the range [1, 30000].</li><div></div>",
                "<li>The <code>k</code> will be in the range [1, m * n]</li><div></div>",
                "</ol><div></div>",
                "</p><div></div>"
            ],
            "metadata": {}
        },
        {
            "cell_type": "code",
            "metadata": {},
            "execution_count": null,
            "source": "%%writefile kth_smallest_number_in_multiplication_table.py\nclass Solution:\n    def findKthNumber(self, m, n, k):\n        \"\"\"\n        :type m: int\n        :type n: int\n        :type k: int\n        :rtype: int\n        \"\"\"",
            "outputs": []
        },
        {
            "cell_type": "code",
            "metadata": {},
            "execution_count": null,
            "source": "# submit\n%run ../../cli.py push --method=submit --path=kth_smallest_number_in_multiplication_table.py --clean=True",
            "outputs": []
        }
    ]
}