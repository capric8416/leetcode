{
    "nbformat": 4,
    "nbformat_minor": 2,
    "metadata": {
        "kernelspec": {
            "display_name": "Python 3",
            "language": "python",
            "name": "python3"
        },
        "language_info": {
            "codemirror_mode": {
                "name": "ipython",
                "version": 3
            },
            "file_extension": ".py",
            "mimetype": "text/x-python",
            "name": "python",
            "nbconvert_exporter": "python",
            "pygments_lexer": "ipython3",
            "version": "3.7.2"
        }
    },
    "cells": [
        {
            "cell_type": "markdown",
            "source": [
                "<h1>Open the Lock</h1>",
                "<p><div></div>",
                "You have a lock in front of you with 4 circular wheels.  Each wheel has 10 slots: <code>'0', '1', '2', '3', '4', '5', '6', '7', '8', '9'</code>.  The wheels can rotate freely and wrap around: for example we can turn <code>'9'</code> to be <code>'0'</code>, or <code>'0'</code> to be <code>'9'</code>.  Each move consists of turning one wheel one slot.<div></div>",
                "</p><p><div></div>",
                "The lock initially starts at <code>'0000'</code>, a string representing the state of the 4 wheels.<div></div>",
                "</p><p><div></div>",
                "You are given a list of <code>deadends</code> dead ends, meaning if the lock displays any of these codes, the wheels of the lock will stop turning and you will be unable to open it.<div></div>",
                "</p><p><div></div>",
                "Given a <code>target</code> representing the value of the wheels that will unlock the lock, return the minimum total number of turns required to open the lock, or -1 if it is impossible.<div></div>",
                "</p><div></div>",
                "<div></div>",
                "<p><b>Example 1:</b><br /><div></div>",
                "<pre><div></div>",
                "<b>Input:</b> deadends = [\"0201\",\"0101\",\"0102\",\"1212\",\"2002\"], target = \"0202\"<div></div>",
                "<b>Output:</b> 6<div></div>",
                "<b>Explanation:</b><div></div>",
                "A sequence of valid moves would be \"0000\" -> \"1000\" -> \"1100\" -> \"1200\" -> \"1201\" -> \"1202\" -> \"0202\".<div></div>",
                "Note that a sequence like \"0000\" -> \"0001\" -> \"0002\" -> \"0102\" -> \"0202\" would be invalid,<div></div>",
                "because the wheels of the lock become stuck after the display becomes the dead end \"0102\".<div></div>",
                "</pre><div></div>",
                "</p><div></div>",
                "<div></div>",
                "<p><b>Example 2:</b><br /><div></div>",
                "<pre><div></div>",
                "<b>Input:</b> deadends = [\"8888\"], target = \"0009\"<div></div>",
                "<b>Output:</b> 1<div></div>",
                "<b>Explanation:</b><div></div>",
                "We can turn the last wheel in reverse to move from \"0000\" -> \"0009\".<div></div>",
                "</pre><div></div>",
                "</p><div></div>",
                "<div></div>",
                "<p><b>Example 3:</b><br /><div></div>",
                "<pre><div></div>",
                "<b>Input:</b> deadends = [\"8887\",\"8889\",\"8878\",\"8898\",\"8788\",\"8988\",\"7888\",\"9888\"], target = \"8888\"<div></div>",
                "<b>Output:</b> -1<div></div>",
                "<b>Explanation:</b><div></div>",
                "We can't reach the target without getting stuck.<div></div>",
                "</pre><div></div>",
                "</p><div></div>",
                "<div></div>",
                "<p><b>Example 4:</b><br /><div></div>",
                "<pre><div></div>",
                "<b>Input:</b> deadends = [\"0000\"], target = \"8888\"<div></div>",
                "<b>Output:</b> -1<div></div>",
                "</pre><div></div>",
                "</p><div></div>",
                "<div></div>",
                "<p><b>Note:</b><br><div></div>",
                "<ol><div></div>",
                "<li>The length of <code>deadends</code> will be in the range <code>[1, 500]</code>.</li><div></div>",
                "<li><code>target</code> will not be in the list <code>deadends</code>.</li><div></div>",
                "<li>Every string in <code>deadends</code> and the string <code>target</code> will be a string of 4 digits from the 10,000 possibilities <code>'0000'</code> to <code>'9999'</code>.</li><div></div>",
                "</ol><div></div>",
                "</p><div></div>"
            ],
            "metadata": {}
        },
        {
            "cell_type": "code",
            "metadata": {},
            "execution_count": null,
            "source": "%%writefile open_the_lock.py\nclass Solution:\n    def openLock(self, deadends, target):\n        \"\"\"\n        :type deadends: List[str]\n        :type target: str\n        :rtype: int\n        \"\"\"",
            "outputs": []
        },
        {
            "cell_type": "code",
            "metadata": {},
            "execution_count": null,
            "source": "# submit\n%run ../../cli.py push --method=submit --path=open_the_lock.py --clean=True",
            "outputs": []
        }
    ]
}