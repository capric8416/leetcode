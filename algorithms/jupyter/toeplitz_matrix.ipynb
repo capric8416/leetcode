{
    "nbformat": 4,
    "nbformat_minor": 2,
    "metadata": {
        "kernelspec": {
            "display_name": "Python 3",
            "language": "python",
            "name": "python3"
        },
        "language_info": {
            "codemirror_mode": {
                "name": "ipython",
                "version": 3
            },
            "file_extension": ".py",
            "mimetype": "text/x-python",
            "name": "python",
            "nbconvert_exporter": "python",
            "pygments_lexer": "ipython3",
            "version": "3.7.2"
        }
    },
    "cells": [
        {
            "cell_type": "markdown",
            "source": [
                "<h1>Toeplitz Matrix</h1>",
                "<p>A matrix is <em>Toeplitz</em> if every diagonal from top-left to bottom-right has the same element.</p><div></div>",
                "<div></div>",
                "<p>Now given an <code>M x N</code> matrix, return&nbsp;<code>True</code>&nbsp;if and only if the matrix is <em>Toeplitz</em>.<br /><div></div>",
                "&nbsp;</p><div></div>",
                "<div></div>",
                "<p><strong>Example 1:</strong></p><div></div>",
                "<div></div>",
                "<pre><div></div>",
                "<strong>Input:<div></div>",
                "</strong>matrix = [<div></div>",
                "&nbsp; [1,2,3,4],<div></div>",
                "&nbsp; [5,1,2,3],<div></div>",
                "&nbsp; [9,5,1,2]<div></div>",
                "]<div></div>",
                "<strong>Output:</strong> True<div></div>",
                "<strong>Explanation:</strong><div></div>",
                "In the above grid, the&nbsp;diagonals are:<div></div>",
                "&quot;[9]&quot;, &quot;[5, 5]&quot;, &quot;[1, 1, 1]&quot;, &quot;[2, 2, 2]&quot;, &quot;[3, 3]&quot;, &quot;[4]&quot;.<div></div>",
                "In each diagonal all elements are the same, so the answer is True.<div></div>",
                "</pre><div></div>",
                "<div></div>",
                "<p><strong>Example 2:</strong></p><div></div>",
                "<div></div>",
                "<pre><div></div>",
                "<strong>Input:<div></div>",
                "</strong>matrix = [<div></div>",
                "&nbsp; [1,2],<div></div>",
                "&nbsp; [2,2]<div></div>",
                "]<div></div>",
                "<strong>Output:</strong> False<div></div>",
                "<strong>Explanation:</strong><div></div>",
                "The diagonal &quot;[1, 2]&quot; has different elements.<div></div>",
                "</pre><div></div>",
                "<div></div>",
                "<p><br /><div></div>",
                "<strong>Note:</strong></p><div></div>",
                "<div></div>",
                "<ol><div></div>",
                "\t<li><code>matrix</code> will be a 2D array of integers.</li><div></div>",
                "\t<li><code>matrix</code> will have a number of rows and columns in range <code>[1, 20]</code>.</li><div></div>",
                "\t<li><code>matrix[i][j]</code> will be integers in range <code>[0, 99]</code>.</li><div></div>",
                "</ol><div></div>",
                "<div></div>",
                "<p><br /><div></div>",
                "<strong>Follow up:</strong></p><div></div>",
                "<div></div>",
                "<ol><div></div>",
                "\t<li>What if the matrix is stored on disk, and the memory is limited such that you can only load at most one row of the matrix into the memory at once?</li><div></div>",
                "\t<li>What if the matrix is so large that you can only load up a partial row into the memory at once?</li><div></div>",
                "</ol><div></div>",
                "<div></div>"
            ],
            "metadata": {}
        },
        {
            "cell_type": "code",
            "metadata": {},
            "execution_count": null,
            "source": "%%writefile toeplitz_matrix.py\nclass Solution:\n    def isToeplitzMatrix(self, matrix):\n        \"\"\"\n        :type matrix: List[List[int]]\n        :rtype: bool\n        \"\"\"",
            "outputs": []
        },
        {
            "cell_type": "code",
            "metadata": {},
            "execution_count": null,
            "source": "# submit\n%run ../../cli.py push --method=submit --path=toeplitz_matrix.py --clean=True",
            "outputs": []
        }
    ]
}