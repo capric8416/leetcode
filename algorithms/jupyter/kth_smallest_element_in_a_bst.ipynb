{
    "nbformat": 4,
    "nbformat_minor": 2,
    "metadata": {
        "kernelspec": {
            "display_name": "Python 3",
            "language": "python",
            "name": "python3"
        },
        "language_info": {
            "codemirror_mode": {
                "name": "ipython",
                "version": 3
            },
            "file_extension": ".py",
            "mimetype": "text/x-python",
            "name": "python",
            "nbconvert_exporter": "python",
            "pygments_lexer": "ipython3",
            "version": "3.7.2"
        }
    },
    "cells": [
        {
            "cell_type": "markdown",
            "source": [
                "<h1>Kth Smallest Element in a BST</h1>",
                "<p>Given a binary search tree, write a function <code>kthSmallest</code> to find the <b>k</b>th smallest element in it.</p><div></div>",
                "<div></div>",
                "<p><b>Note: </b><br /><div></div>",
                "You may assume k is always valid, 1 &le; k &le; BST&#39;s total elements.</p><div></div>",
                "<div></div>",
                "<p><strong>Example 1:</strong></p><div></div>",
                "<div></div>",
                "<pre><div></div>",
                "<strong>Input:</strong> root = [3,1,4,null,2], k = 1<div></div>",
                "   3<div></div>",
                "  / \\<div></div>",
                " 1   4<div></div>",
                "  \\<div></div>",
                "&nbsp;  2<div></div>",
                "<strong>Output:</strong> 1</pre><div></div>",
                "<div></div>",
                "<p><strong>Example 2:</strong></p><div></div>",
                "<div></div>",
                "<pre><div></div>",
                "<strong>Input:</strong> root = [5,3,6,2,4,null,null,1], k = 3<div></div>",
                "       5<div></div>",
                "      / \\<div></div>",
                "     3   6<div></div>",
                "    / \\<div></div>",
                "   2   4<div></div>",
                "  /<div></div>",
                " 1<div></div>",
                "<strong>Output:</strong> 3<div></div>",
                "</pre><div></div>",
                "<div></div>",
                "<p><b>Follow up:</b><br /><div></div>",
                "What if the BST is modified (insert/delete operations) often and you need to find the kth smallest frequently? How would you optimize the kthSmallest routine?</p><div></div>",
                "<div></div>"
            ],
            "metadata": {}
        },
        {
            "cell_type": "code",
            "metadata": {},
            "execution_count": null,
            "source": "%%writefile kth_smallest_element_in_a_bst.py\n# Definition for a binary tree node.\n# class TreeNode:\n#     def __init__(self, x):\n#         self.val = x\n#         self.left = None\n#         self.right = None\n\nclass Solution:\n    def kthSmallest(self, root, k):\n        \"\"\"\n        :type root: TreeNode\n        :type k: int\n        :rtype: int\n        \"\"\"",
            "outputs": []
        },
        {
            "cell_type": "code",
            "metadata": {},
            "execution_count": null,
            "source": "# submit\n%run ../../cli.py push --method=submit --path=kth_smallest_element_in_a_bst.py --clean=True",
            "outputs": []
        }
    ]
}