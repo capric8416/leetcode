{
    "nbformat": 4,
    "nbformat_minor": 2,
    "metadata": {
        "kernelspec": {
            "display_name": "Python 3",
            "language": "python",
            "name": "python3"
        },
        "language_info": {
            "codemirror_mode": {
                "name": "ipython",
                "version": 3
            },
            "file_extension": ".py",
            "mimetype": "text/x-python",
            "name": "python",
            "nbconvert_exporter": "python",
            "pygments_lexer": "ipython3",
            "version": "3.7.2"
        }
    },
    "cells": [
        {
            "cell_type": "markdown",
            "source": [
                "<h1>Boats to Save People</h1>",
                "<p>The <code>i</code>-th person has weight <code>people[i]</code>, and each boat can carry a maximum weight of <code>limit</code>.</p><div></div>",
                "<div></div>",
                "<p>Each boat carries at most 2 people at the same time, provided the sum of the&nbsp;weight of those people is at most <code>limit</code>.</p><div></div>",
                "<div></div>",
                "<p>Return the minimum number of boats to carry every given person.&nbsp; (It is guaranteed each person can be carried by a boat.)</p><div></div>",
                "<div></div>",
                "<p>&nbsp;</p><div></div>",
                "<div></div>",
                "<div><div></div>",
                "<p><strong>Example 1:</strong></p><div></div>",
                "<div></div>",
                "<pre><div></div>",
                "<strong>Input: </strong>people = <span id=\"example-input-1-1\">[1,2]</span>, limit = <span id=\"example-input-1-2\">3</span><div></div>",
                "<strong>Output: </strong><span id=\"example-output-1\">1</span><div></div>",
                "<strong>Explanation: </strong>1 boat (1, 2)<div></div>",
                "</pre><div></div>",
                "<div></div>",
                "<div><div></div>",
                "<p><strong>Example 2:</strong></p><div></div>",
                "<div></div>",
                "<pre><div></div>",
                "<strong>Input: </strong>people = <span id=\"example-input-2-1\">[3,2,2,1]</span>, limit = <span id=\"example-input-2-2\">3</span><div></div>",
                "<strong>Output: </strong><span id=\"example-output-2\">3</span><div></div>",
                "<strong>Explanation</strong>: 3 boats (1, 2), (2) and (3)<div></div>",
                "</pre><div></div>",
                "<div></div>",
                "<div><div></div>",
                "<p><strong>Example 3:</strong></p><div></div>",
                "<div></div>",
                "<pre><div></div>",
                "<strong>Input: </strong>people = <span id=\"example-input-3-1\">[3,5,3,4]</span>, limit = <span id=\"example-input-3-2\">5</span><div></div>",
                "<strong>Output: </strong><span id=\"example-output-3\">4</span><div></div>",
                "<strong>Explanation</strong>: 4 boats (3), (3), (4), (5)</pre><div></div>",
                "<div></div>",
                "<p><strong>Note</strong>:</p><div></div>",
                "<div></div>",
                "<ul><div></div>",
                "\t<li><code>1 &lt;=&nbsp;people.length &lt;= 50000</code></li><div></div>",
                "\t<li><code>1 &lt;= people[i] &lt;=&nbsp;limit &lt;= 30000</code></li><div></div>",
                "</ul><div></div>",
                "</div><div></div>",
                "</div><div></div>",
                "</div><div></div>",
                "<div></div>"
            ],
            "metadata": {}
        },
        {
            "cell_type": "code",
            "metadata": {},
            "execution_count": null,
            "source": "%%writefile boats_to_save_people.py\nclass Solution:\n    def numRescueBoats(self, people, limit):\n        \"\"\"\n        :type people: List[int]\n        :type limit: int\n        :rtype: int\n        \"\"\"",
            "outputs": []
        },
        {
            "cell_type": "code",
            "metadata": {},
            "execution_count": null,
            "source": "# submit\n%run ../../cli.py push --method=submit --path=boats_to_save_people.py --clean=True",
            "outputs": []
        }
    ]
}