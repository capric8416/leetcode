{
    "nbformat": 4,
    "nbformat_minor": 2,
    "metadata": {
        "kernelspec": {
            "display_name": "Python 3",
            "language": "python",
            "name": "python3"
        },
        "language_info": {
            "codemirror_mode": {
                "name": "ipython",
                "version": 3
            },
            "file_extension": ".py",
            "mimetype": "text/x-python",
            "name": "python",
            "nbconvert_exporter": "python",
            "pygments_lexer": "ipython3",
            "version": "3.7.2"
        }
    },
    "cells": [
        {
            "cell_type": "markdown",
            "source": [
                "<h1>Maximize Distance to Closest Person</h1>",
                "<p>In a row of <code>seats</code>, <code>1</code> represents a person sitting in that seat, and <code>0</code> represents that the seat is empty.&nbsp;</p><div></div>",
                "<div></div>",
                "<p>There is at least one empty seat, and at least one person sitting.</p><div></div>",
                "<div></div>",
                "<p>Alex wants to sit in the seat such that the distance between him and the closest person to him is maximized.&nbsp;</p><div></div>",
                "<div></div>",
                "<p>Return that maximum distance to closest person.</p><div></div>",
                "<div></div>",
                "<div><div></div>",
                "<p><strong>Example 1:</strong></p><div></div>",
                "<div></div>",
                "<pre><div></div>",
                "<strong>Input: </strong><span id=\"example-input-1-1\">[1,0,0,0,1,0,1]</span><div></div>",
                "<strong>Output: </strong><span id=\"example-output-1\">2</span><div></div>",
                "<strong>Explanation: </strong><div></div>",
                "If Alex sits in the second open seat (seats[2]), then the closest person has distance 2.<div></div>",
                "If Alex sits in any other open seat, the closest person has distance 1.<div></div>",
                "Thus, the maximum distance to the closest person is 2.</pre><div></div>",
                "<div></div>",
                "<div><div></div>",
                "<p><strong>Example 2:</strong></p><div></div>",
                "<div></div>",
                "<pre><div></div>",
                "<strong>Input: </strong><span id=\"example-input-2-1\">[1,0,0,0]</span><div></div>",
                "<strong>Output: </strong><span id=\"example-output-2\">3</span><div></div>",
                "<strong>Explanation: </strong><div></div>",
                "If Alex sits in the last seat, the closest person is 3 seats away.<div></div>",
                "This is the maximum distance possible, so the answer is 3.<div></div>",
                "</pre><div></div>",
                "<div></div>",
                "<p><strong>Note:</strong></p><div></div>",
                "<div></div>",
                "<ol><div></div>",
                "\t<li><code>1 &lt;= seats.length &lt;= 20000</code></li><div></div>",
                "\t<li><code>seats</code>&nbsp;contains only 0s or 1s, at least one <code>0</code>, and at least one <code>1</code>.</li><div></div>",
                "</ol><div></div>",
                "</div><div></div>",
                "</div><div></div>",
                "<div></div>"
            ],
            "metadata": {}
        },
        {
            "cell_type": "code",
            "metadata": {},
            "execution_count": null,
            "source": "%%writefile maximize_distance_to_closest_person.py\nclass Solution:\n    def maxDistToClosest(self, seats):\n        \"\"\"\n        :type seats: List[int]\n        :rtype: int\n        \"\"\"",
            "outputs": []
        },
        {
            "cell_type": "code",
            "metadata": {},
            "execution_count": null,
            "source": "# submit\n%run ../../cli.py push --method=submit --path=maximize_distance_to_closest_person.py --clean=True",
            "outputs": []
        }
    ]
}