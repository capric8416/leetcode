{
    "nbformat": 4,
    "nbformat_minor": 2,
    "metadata": {
        "kernelspec": {
            "display_name": "Python 3",
            "language": "python",
            "name": "python3"
        },
        "language_info": {
            "codemirror_mode": {
                "name": "ipython",
                "version": 3
            },
            "file_extension": ".py",
            "mimetype": "text/x-python",
            "name": "python",
            "nbconvert_exporter": "python",
            "pygments_lexer": "ipython3",
            "version": "3.7.2"
        }
    },
    "cells": [
        {
            "cell_type": "markdown",
            "source": [
                "<h1>Making A Large Island</h1>",
                "<p>In a 2D grid of <code>0</code>s and <code>1</code>s, we change at most one <code>0</code> to a <code>1</code>.</p><div></div>",
                "<div></div>",
                "<p>After, what is the size of the largest island?&nbsp;(An island is a 4-directionally connected group of <code>1</code>s).</p><div></div>",
                "<div></div>",
                "<p><strong>Example 1:</strong></p><div></div>",
                "<div></div>",
                "<pre><div></div>",
                "<strong>Input: </strong>[[1, 0], [0, 1]]<div></div>",
                "<strong>Output:</strong> 3<div></div>",
                "<strong>Explanation:</strong> Change one 0 to 1 and connect two 1s, then we get an island with area = 3.<div></div>",
                "</pre><div></div>",
                "<div></div>",
                "<p><strong>Example 2:</strong></p><div></div>",
                "<div></div>",
                "<pre><div></div>",
                "<strong>Input: </strong>[[1, 1], [1, 0]]<div></div>",
                "<strong>Output:</strong> 4<div></div>",
                "<strong>Explanation: </strong>Change the 0 to 1 and make the island bigger, only one island with area = 4.</pre><div></div>",
                "<div></div>",
                "<p><strong>Example 3:</strong></p><div></div>",
                "<div></div>",
                "<pre><div></div>",
                "<strong>Input: </strong>[[1, 1], [1, 1]]<div></div>",
                "<strong>Output:</strong> 4<div></div>",
                "<strong>Explanation:</strong> Can&#39;t change any 0 to 1, only one island with area = 4.</pre><div></div>",
                "<div></div>",
                "<p>&nbsp;</p><div></div>",
                "<div></div>",
                "<p>Notes:</p><div></div>",
                "<div></div>",
                "<ul><div></div>",
                "\t<li><code>1 &lt;= grid.length = grid[0].length &lt;= 50</code>.</li><div></div>",
                "\t<li><code>0 &lt;= grid[i][j] &lt;= 1</code>.</li><div></div>",
                "</ul><div></div>",
                "<div></div>",
                "<p>&nbsp;</p><div></div>",
                "<div></div>"
            ],
            "metadata": {}
        },
        {
            "cell_type": "code",
            "metadata": {},
            "execution_count": null,
            "source": "%%writefile making_a_large_island.py\nclass Solution:\n    def largestIsland(self, grid):\n        \"\"\"\n        :type grid: List[List[int]]\n        :rtype: int\n        \"\"\"",
            "outputs": []
        },
        {
            "cell_type": "code",
            "metadata": {},
            "execution_count": null,
            "source": "# submit\n%run ../../cli.py push --method=submit --path=making_a_large_island.py --clean=True",
            "outputs": []
        }
    ]
}