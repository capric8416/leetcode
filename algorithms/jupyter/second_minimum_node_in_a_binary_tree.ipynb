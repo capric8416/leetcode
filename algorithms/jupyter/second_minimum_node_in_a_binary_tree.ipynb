{
    "nbformat": 4,
    "nbformat_minor": 2,
    "metadata": {
        "kernelspec": {
            "display_name": "Python 3",
            "language": "python",
            "name": "python3"
        },
        "language_info": {
            "codemirror_mode": {
                "name": "ipython",
                "version": 3
            },
            "file_extension": ".py",
            "mimetype": "text/x-python",
            "name": "python",
            "nbconvert_exporter": "python",
            "pygments_lexer": "ipython3",
            "version": "3.7.2"
        }
    },
    "cells": [
        {
            "cell_type": "markdown",
            "source": [
                "<h1>Second Minimum Node In a Binary Tree</h1>",
                "<p><div></div>",
                "Given a non-empty special binary tree consisting of nodes with the non-negative value, where each node in this tree has exactly <code>two</code> or <code>zero</code> sub-node. If the node has two sub-nodes, then this node's value is the smaller value among its two sub-nodes. <div></div>",
                "</p><div></div>",
                "<div></div>",
                "<p><div></div>",
                "Given such a binary tree, you need to output the <b>second minimum</b> value in the set made of all the nodes' value in the whole tree. <div></div>",
                "</p><div></div>",
                "<div></div>",
                "<p><div></div>",
                "If no such second minimum value exists, output -1 instead.<div></div>",
                "</p><div></div>",
                "<div></div>",
                "<p><b>Example 1:</b><br /><div></div>",
                "<pre><div></div>",
                "<b>Input:</b> <div></div>",
                "    2<div></div>",
                "   / \\<div></div>",
                "  2   5<div></div>",
                "     / \\<div></div>",
                "    5   7<div></div>",
                "<div></div>",
                "<b>Output:</b> 5<div></div>",
                "<b>Explanation:</b> The smallest value is 2, the second smallest value is 5.<div></div>",
                "</pre><div></div>",
                "</p><div></div>",
                "<div></div>",
                "<p><b>Example 2:</b><br /><div></div>",
                "<pre><div></div>",
                "<b>Input:</b> <div></div>",
                "    2<div></div>",
                "   / \\<div></div>",
                "  2   2<div></div>",
                "<div></div>",
                "<b>Output:</b> -1<div></div>",
                "<b>Explanation:</b> The smallest value is 2, but there isn't any second smallest value.<div></div>",
                "</pre><div></div>",
                "</p><div></div>"
            ],
            "metadata": {}
        },
        {
            "cell_type": "code",
            "metadata": {},
            "execution_count": null,
            "source": "%%writefile second_minimum_node_in_a_binary_tree.py\n# Definition for a binary tree node.\n# class TreeNode:\n#     def __init__(self, x):\n#         self.val = x\n#         self.left = None\n#         self.right = None\n\nclass Solution:\n    def findSecondMinimumValue(self, root):\n        \"\"\"\n        :type root: TreeNode\n        :rtype: int\n        \"\"\"",
            "outputs": []
        },
        {
            "cell_type": "code",
            "metadata": {},
            "execution_count": null,
            "source": "# submit\n%run ../../cli.py push --method=submit --path=second_minimum_node_in_a_binary_tree.py --clean=True",
            "outputs": []
        }
    ]
}