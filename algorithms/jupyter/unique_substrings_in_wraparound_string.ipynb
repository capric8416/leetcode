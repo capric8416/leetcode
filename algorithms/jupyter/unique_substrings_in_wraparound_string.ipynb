{
    "nbformat": 4,
    "nbformat_minor": 2,
    "metadata": {
        "kernelspec": {
            "display_name": "Python 3",
            "language": "python",
            "name": "python3"
        },
        "language_info": {
            "codemirror_mode": {
                "name": "ipython",
                "version": 3
            },
            "file_extension": ".py",
            "mimetype": "text/x-python",
            "name": "python",
            "nbconvert_exporter": "python",
            "pygments_lexer": "ipython3",
            "version": "3.7.2"
        }
    },
    "cells": [
        {
            "cell_type": "markdown",
            "source": [
                "<h1>Unique Substrings in Wraparound String</h1>",
                "<p>Consider the string <code>s</code> to be the infinite wraparound string of \"abcdefghijklmnopqrstuvwxyz\", so <code>s</code> will look like this: \"...zabcdefghijklmnopqrstuvwxyzabcdefghijklmnopqrstuvwxyzabcd....\".</p><div></div>",
                "<div></div>",
                "<p>Now we have another string <code>p</code>. Your job is to find out how many unique non-empty substrings of <code>p</code> are present in <code>s</code>. In particular, your input is the string <code>p</code> and you need to output the number of different non-empty substrings of <code>p</code> in the string <code>s</code>.</p><div></div>",
                "<div></div>",
                "<p><b>Note:</b> <code>p</code> consists of only lowercase English letters and the size of p might be over 10000.</p><div></div>",
                "<div></div>",
                "<p><b>Example 1:</b><br /><div></div>",
                "<pre><div></div>",
                "<b>Input:</b> \"a\"<div></div>",
                "<b>Output:</b> 1<div></div>",
                "<div></div>",
                "<b>Explanation:</b> Only the substring \"a\" of string \"a\" is in the string \u0010s.<div></div>",
                "</pre><div></div>",
                "</p><div></div>",
                "<div></div>",
                "<p><b>Example 2:</b><br /><div></div>",
                "<pre><div></div>",
                "<b>Input:</b> \"cac\"<div></div>",
                "<b>Output:</b> 2<div></div>",
                "<b>Explanation:</b> There are two substrings \"a\", \"c\" of string \"cac\" in the string s.<div></div>",
                "</pre><div></div>",
                "</p><div></div>",
                "<div></div>",
                "<p><b>Example 3:</b><br /><div></div>",
                "<pre><div></div>",
                "<b>Input:</b> \"zab\"<div></div>",
                "<b>Output:</b> 6<div></div>",
                "<b>Explanation:</b> There are six substrings \"z\", \"a\", \"b\", \"za\", \"ab\", \"zab\" of string \"zab\" in the string s.<div></div>",
                "</pre><div></div>",
                "</p><div></div>"
            ],
            "metadata": {}
        },
        {
            "cell_type": "code",
            "metadata": {},
            "execution_count": null,
            "source": "%%writefile unique_substrings_in_wraparound_string.py\nclass Solution:\n    def findSubstringInWraproundString(self, p):\n        \"\"\"\n        :type p: str\n        :rtype: int\n        \"\"\"",
            "outputs": []
        },
        {
            "cell_type": "code",
            "metadata": {},
            "execution_count": null,
            "source": "# submit\n%run ../../cli.py push --method=submit --path=unique_substrings_in_wraparound_string.py --clean=True",
            "outputs": []
        }
    ]
}