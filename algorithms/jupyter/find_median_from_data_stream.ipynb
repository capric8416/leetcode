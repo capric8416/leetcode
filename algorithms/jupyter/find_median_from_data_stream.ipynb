{
    "nbformat": 4,
    "nbformat_minor": 2,
    "metadata": {
        "kernelspec": {
            "display_name": "Python 3",
            "language": "python",
            "name": "python3"
        },
        "language_info": {
            "codemirror_mode": {
                "name": "ipython",
                "version": 3
            },
            "file_extension": ".py",
            "mimetype": "text/x-python",
            "name": "python",
            "nbconvert_exporter": "python",
            "pygments_lexer": "ipython3",
            "version": "3.7.2"
        }
    },
    "cells": [
        {
            "cell_type": "markdown",
            "source": [
                "<h1>Find Median from Data Stream</h1>",
                "<p>Median is the middle value in an ordered integer list. If the size of the list is even, there is no middle value. So the median is the mean of the two middle value.</p><div></div>",
                "For example,<div></div>",
                "<div></div>",
                "<p><code>[2,3,4]</code>, the median is <code>3</code></p><div></div>",
                "<div></div>",
                "<p><code>[2,3]</code>, the median is <code>(2 + 3) / 2 = 2.5</code></p><div></div>",
                "<div></div>",
                "<p>Design a data structure that supports the following two operations:</p><div></div>",
                "<div></div>",
                "<ul><div></div>",
                "\t<li>void addNum(int num) - Add a integer number from the data stream to the data structure.</li><div></div>",
                "\t<li>double findMedian() - Return the median of all elements so far.</li><div></div>",
                "</ul><div></div>",
                "<div></div>",
                "<p>&nbsp;</p><div></div>",
                "<div></div>",
                "<p><strong>Example:</strong></p><div></div>",
                "<div></div>",
                "<pre><div></div>",
                "addNum(1)<div></div>",
                "addNum(2)<div></div>",
                "findMedian() -&gt; 1.5<div></div>",
                "addNum(3) <div></div>",
                "findMedian() -&gt; 2<div></div>",
                "</pre><div></div>",
                "<div></div>",
                "<p>&nbsp;</p><div></div>",
                "<div></div>",
                "<p><strong>Follow up:</strong></p><div></div>",
                "<div></div>",
                "<ol><div></div>",
                "\t<li>If all integer numbers from the stream are between 0&nbsp;and 100, how would you optimize it?</li><div></div>",
                "\t<li>If 99% of all integer numbers from the stream are between 0 and 100, how would you optimize it?</li><div></div>",
                "</ol><div></div>",
                "<div></div>"
            ],
            "metadata": {}
        },
        {
            "cell_type": "code",
            "metadata": {},
            "execution_count": null,
            "source": "%%writefile find_median_from_data_stream.py\nclass MedianFinder:\n\n    def __init__(self):\n        \"\"\"\n        initialize your data structure here.\n        \"\"\"\n        \n\n    def addNum(self, num):\n        \"\"\"\n        :type num: int\n        :rtype: void\n        \"\"\"\n        \n\n    def findMedian(self):\n        \"\"\"\n        :rtype: float\n        \"\"\"\n        \n\n\n# Your MedianFinder object will be instantiated and called as such:\n# obj = MedianFinder()\n# obj.addNum(num)\n# param_2 = obj.findMedian()",
            "outputs": []
        },
        {
            "cell_type": "code",
            "metadata": {},
            "execution_count": null,
            "source": "# submit\n%run ../../cli.py push --method=submit --path=find_median_from_data_stream.py --clean=True",
            "outputs": []
        }
    ]
}