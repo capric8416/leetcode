{
    "nbformat": 4,
    "nbformat_minor": 2,
    "metadata": {
        "kernelspec": {
            "display_name": "Python 3",
            "language": "python",
            "name": "python3"
        },
        "language_info": {
            "codemirror_mode": {
                "name": "ipython",
                "version": 3
            },
            "file_extension": ".py",
            "mimetype": "text/x-python",
            "name": "python",
            "nbconvert_exporter": "python",
            "pygments_lexer": "ipython3",
            "version": "3.7.2"
        }
    },
    "cells": [
        {
            "cell_type": "markdown",
            "source": [
                "<h1>Spiral Matrix III</h1>",
                "<p>On a 2 dimensional grid with <code>R</code> rows and <code>C</code> columns, we start at <code>(r0, c0)</code> facing east.</p><div></div>",
                "<div></div>",
                "<p>Here, the north-west corner of the grid is at the&nbsp;first row and column, and the south-east corner of the grid is at the last row and column.</p><div></div>",
                "<div></div>",
                "<p>Now, we walk in a clockwise spiral shape to visit every position in this grid.&nbsp;</p><div></div>",
                "<div></div>",
                "<p>Whenever we would move outside the boundary of the grid, we continue our walk outside the grid (but may return to the grid boundary later.)&nbsp;</p><div></div>",
                "<div></div>",
                "<p>Eventually, we reach all <code>R * C</code> spaces of the grid.</p><div></div>",
                "<div></div>",
                "<p>Return a list of coordinates representing the positions of the grid in the order they were visited.</p><div></div>",
                "<div></div>",
                "<p>&nbsp;</p><div></div>",
                "<div></div>",
                "<p><strong>Example 1:</strong></p><div></div>",
                "<div></div>",
                "<pre><div></div>",
                "<strong>Input: </strong>R = <span id=\"example-input-1-1\">1</span>, C = <span id=\"example-input-1-2\">4</span>, r0 = <span id=\"example-input-1-3\">0</span>, c0 = <span id=\"example-input-1-4\">0</span><div></div>",
                "<strong>Output: </strong><span id=\"example-output-1\">[[0,0],[0,1],[0,2],[0,3]]</span><div></div>",
                "<div></div>",
                "<img alt=\"\" src=\"https://s3-lc-upload.s3.amazonaws.com/uploads/2018/08/24/example_1.png\" style=\"width: 174px; height: 99px;\" /><div></div>",
                "</pre><div></div>",
                "<div></div>",
                "<p>&nbsp;</p><div></div>",
                "<div></div>",
                "<p><strong>Example 2:</strong></p><div></div>",
                "<div></div>",
                "<pre><div></div>",
                "<strong>Input: </strong>R = <span id=\"example-input-2-1\">5</span>, C = <span id=\"example-input-2-2\">6</span>, r0 = <span id=\"example-input-2-3\">1</span>, c0 = <span id=\"example-input-2-4\">4</span><div></div>",
                "<strong>Output: </strong><span id=\"example-output-2\">[[1,4],[1,5],[2,5],[2,4],[2,3],[1,3],[0,3],[0,4],[0,5],[3,5],[3,4],[3,3],[3,2],[2,2],[1,2],[0,2],[4,5],[4,4],[4,3],[4,2],[4,1],[3,1],[2,1],[1,1],[0,1],[4,0],[3,0],[2,0],[1,0],[0,0]]</span><div></div>",
                "<div></div>",
                "<img alt=\"\" src=\"https://s3-lc-upload.s3.amazonaws.com/uploads/2018/08/24/example_2.png\" style=\"width: 202px; height: 142px;\" /><div></div>",
                "</pre><div></div>",
                "<div></div>",
                "<div><div></div>",
                "<div><div></div>",
                "<p>&nbsp;</p><div></div>",
                "<div></div>",
                "<p><strong>Note:</strong></p><div></div>",
                "<div></div>",
                "<ol><div></div>",
                "\t<li><code>1 &lt;= R &lt;= 100</code></li><div></div>",
                "\t<li><code>1 &lt;= C &lt;= 100</code></li><div></div>",
                "\t<li><code>0 &lt;= r0 &lt; R</code></li><div></div>",
                "\t<li><code>0 &lt;= c0 &lt; C</code></li><div></div>",
                "</ol><div></div>",
                "</div><div></div>",
                "</div><div></div>",
                "<div></div>"
            ],
            "metadata": {}
        },
        {
            "cell_type": "code",
            "metadata": {},
            "execution_count": null,
            "source": "%%writefile spiral_matrix_iii.py\nclass Solution:\n    def spiralMatrixIII(self, R, C, r0, c0):\n        \"\"\"\n        :type R: int\n        :type C: int\n        :type r0: int\n        :type c0: int\n        :rtype: List[List[int]]\n        \"\"\"",
            "outputs": []
        },
        {
            "cell_type": "code",
            "metadata": {},
            "execution_count": null,
            "source": "# submit\n%run ../../cli.py push --method=submit --path=spiral_matrix_iii.py --clean=True",
            "outputs": []
        }
    ]
}