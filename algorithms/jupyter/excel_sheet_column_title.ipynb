{
    "nbformat": 4,
    "nbformat_minor": 2,
    "metadata": {
        "kernelspec": {
            "display_name": "Python 3",
            "language": "python",
            "name": "python3"
        },
        "language_info": {
            "codemirror_mode": {
                "name": "ipython",
                "version": 3
            },
            "file_extension": ".py",
            "mimetype": "text/x-python",
            "name": "python",
            "nbconvert_exporter": "python",
            "pygments_lexer": "ipython3",
            "version": "3.7.2"
        }
    },
    "cells": [
        {
            "cell_type": "markdown",
            "source": [
                "<h1>Excel Sheet Column Title</h1>",
                "<p>Given a positive integer, return its corresponding column title as appear in an Excel sheet.</p><div></div>",
                "<div></div>",
                "<p>For example:</p><div></div>",
                "<div></div>",
                "<pre><div></div>",
                "    1 -&gt; A<div></div>",
                "    2 -&gt; B<div></div>",
                "    3 -&gt; C<div></div>",
                "    ...<div></div>",
                "    26 -&gt; Z<div></div>",
                "    27 -&gt; AA<div></div>",
                "    28 -&gt; AB <div></div>",
                "    ...<div></div>",
                "</pre><div></div>",
                "<div></div>",
                "<p><strong>Example 1:</strong></p><div></div>",
                "<div></div>",
                "<pre><div></div>",
                "<strong>Input:</strong> 1<div></div>",
                "<strong>Output:</strong> &quot;A&quot;<div></div>",
                "</pre><div></div>",
                "<div></div>",
                "<p><strong>Example 2:</strong></p><div></div>",
                "<div></div>",
                "<pre><div></div>",
                "<strong>Input:</strong> 28<div></div>",
                "<strong>Output:</strong> &quot;AB&quot;<div></div>",
                "</pre><div></div>",
                "<div></div>",
                "<p><strong>Example 3:</strong></p><div></div>",
                "<div></div>",
                "<pre><div></div>",
                "<strong>Input:</strong> 701<div></div>",
                "<strong>Output:</strong> &quot;ZY&quot;<div></div>",
                "</pre><div></div>"
            ],
            "metadata": {}
        },
        {
            "cell_type": "code",
            "metadata": {},
            "execution_count": null,
            "source": "%%writefile excel_sheet_column_title.py\nclass Solution:\n    def convertToTitle(self, n):\n        \"\"\"\n        :type n: int\n        :rtype: str\n        \"\"\"",
            "outputs": []
        },
        {
            "cell_type": "code",
            "metadata": {},
            "execution_count": null,
            "source": "# submit\n%run ../../cli.py push --method=submit --path=excel_sheet_column_title.py --clean=True",
            "outputs": []
        }
    ]
}