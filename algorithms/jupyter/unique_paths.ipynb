{
    "nbformat": 4,
    "nbformat_minor": 2,
    "metadata": {
        "kernelspec": {
            "display_name": "Python 3",
            "language": "python",
            "name": "python3"
        },
        "language_info": {
            "codemirror_mode": {
                "name": "ipython",
                "version": 3
            },
            "file_extension": ".py",
            "mimetype": "text/x-python",
            "name": "python",
            "nbconvert_exporter": "python",
            "pygments_lexer": "ipython3",
            "version": "3.7.2"
        }
    },
    "cells": [
        {
            "cell_type": "markdown",
            "source": [
                "<h1>Unique Paths</h1>",
                "<p>A robot is located at the top-left corner of a <em>m</em> x <em>n</em> grid (marked &#39;Start&#39; in the diagram below).</p><div></div>",
                "<div></div>",
                "<p>The robot can only move either down or right at any point in time. The robot is trying to reach the bottom-right corner of the grid (marked &#39;Finish&#39; in the diagram below).</p><div></div>",
                "<div></div>",
                "<p>How many possible unique paths are there?</p><div></div>",
                "<div></div>",
                "<p><img src=\"https://assets.leetcode.com/uploads/2018/10/22/robot_maze.png\" style=\"width: 400px; height: 183px;\" /><br /><div></div>",
                "<small>Above is a 7 x 3 grid. How many possible unique paths are there?</small></p><div></div>",
                "<div></div>",
                "<p><strong>Note:</strong> <em>m</em> and <em>n</em> will be at most 100.</p><div></div>",
                "<div></div>",
                "<p><strong>Example 1:</strong></p><div></div>",
                "<div></div>",
                "<pre><div></div>",
                "<strong>Input:</strong> m = 3, n = 2<div></div>",
                "<strong>Output:</strong> 3<div></div>",
                "<strong>Explanation:</strong><div></div>",
                "From the top-left corner, there are a total of 3 ways to reach the bottom-right corner:<div></div>",
                "1. Right -&gt; Right -&gt; Down<div></div>",
                "2. Right -&gt; Down -&gt; Right<div></div>",
                "3. Down -&gt; Right -&gt; Right<div></div>",
                "</pre><div></div>",
                "<div></div>",
                "<p><strong>Example 2:</strong></p><div></div>",
                "<div></div>",
                "<pre><div></div>",
                "<strong>Input:</strong> m = 7, n = 3<div></div>",
                "<strong>Output:</strong> 28</pre><div></div>",
                "<div></div>"
            ],
            "metadata": {}
        },
        {
            "cell_type": "code",
            "metadata": {},
            "execution_count": null,
            "source": "%%writefile unique_paths.py\nclass Solution:\n    def uniquePaths(self, m, n):\n        \"\"\"\n        :type m: int\n        :type n: int\n        :rtype: int\n        \"\"\"",
            "outputs": []
        },
        {
            "cell_type": "code",
            "metadata": {},
            "execution_count": null,
            "source": "# submit\n%run ../../cli.py push --method=submit --path=unique_paths.py --clean=True",
            "outputs": []
        }
    ]
}