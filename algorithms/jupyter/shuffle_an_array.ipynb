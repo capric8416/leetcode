{
    "nbformat": 4,
    "nbformat_minor": 2,
    "metadata": {
        "kernelspec": {
            "display_name": "Python 3",
            "language": "python",
            "name": "python3"
        },
        "language_info": {
            "codemirror_mode": {
                "name": "ipython",
                "version": 3
            },
            "file_extension": ".py",
            "mimetype": "text/x-python",
            "name": "python",
            "nbconvert_exporter": "python",
            "pygments_lexer": "ipython3",
            "version": "3.7.2"
        }
    },
    "cells": [
        {
            "cell_type": "markdown",
            "source": [
                "<h1>Shuffle an Array</h1>",
                "<p>Shuffle a set of numbers without duplicates.<div></div>",
                "</p><div></div>",
                "<div></div>",
                "<p><b>Example:</b><div></div>",
                "<pre><div></div>",
                "// Init an array with set 1, 2, and 3.<div></div>",
                "int[] nums = {1,2,3};<div></div>",
                "Solution solution = new Solution(nums);<div></div>",
                "<div></div>",
                "// Shuffle the array [1,2,3] and return its result. Any permutation of [1,2,3] must equally likely to be returned.<div></div>",
                "solution.shuffle();<div></div>",
                "<div></div>",
                "// Resets the array back to its original configuration [1,2,3].<div></div>",
                "solution.reset();<div></div>",
                "<div></div>",
                "// Returns the random shuffling of array [1,2,3].<div></div>",
                "solution.shuffle();<div></div>",
                "</pre><div></div>",
                "</p><div></div>"
            ],
            "metadata": {}
        },
        {
            "cell_type": "code",
            "metadata": {},
            "execution_count": null,
            "source": "%%writefile shuffle_an_array.py\nclass Solution:\n\n    def __init__(self, nums):\n        \"\"\"\n        :type nums: List[int]\n        \"\"\"\n        \n\n    def reset(self):\n        \"\"\"\n        Resets the array to its original configuration and return it.\n        :rtype: List[int]\n        \"\"\"\n        \n\n    def shuffle(self):\n        \"\"\"\n        Returns a random shuffling of the array.\n        :rtype: List[int]\n        \"\"\"\n        \n\n\n# Your Solution object will be instantiated and called as such:\n# obj = Solution(nums)\n# param_1 = obj.reset()\n# param_2 = obj.shuffle()",
            "outputs": []
        },
        {
            "cell_type": "code",
            "metadata": {},
            "execution_count": null,
            "source": "# submit\n%run ../../cli.py push --method=submit --path=shuffle_an_array.py --clean=True",
            "outputs": []
        }
    ]
}