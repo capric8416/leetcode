{
    "nbformat": 4,
    "nbformat_minor": 2,
    "metadata": {
        "kernelspec": {
            "display_name": "Python 3",
            "language": "python",
            "name": "python3"
        },
        "language_info": {
            "codemirror_mode": {
                "name": "ipython",
                "version": 3
            },
            "file_extension": ".py",
            "mimetype": "text/x-python",
            "name": "python",
            "nbconvert_exporter": "python",
            "pygments_lexer": "ipython3",
            "version": "3.7.2"
        }
    },
    "cells": [
        {
            "cell_type": "markdown",
            "source": [
                "<h1>Max Consecutive Ones</h1>",
                "<p>Given a binary array, find the maximum number of consecutive 1s in this array.</p><div></div>",
                "<div></div>",
                "<p><b>Example 1:</b><br /><div></div>",
                "<pre><div></div>",
                "<b>Input:</b> [1,1,0,1,1,1]<div></div>",
                "<b>Output:</b> 3<div></div>",
                "<b>Explanation:</b> The first two digits or the last three digits are consecutive 1s.<div></div>",
                "    The maximum number of consecutive 1s is 3.<div></div>",
                "</pre><div></div>",
                "</p><div></div>",
                "<div></div>",
                "<p><b>Note:</b><div></div>",
                "<ul><div></div>",
                "<li>The input array will only contain <code>0</code> and <code>1</code>.</li><div></div>",
                "<li>The length of input array is a positive integer and will not exceed 10,000</li><div></div>",
                "</ul><div></div>",
                "</p><div></div>"
            ],
            "metadata": {}
        },
        {
            "cell_type": "code",
            "metadata": {},
            "execution_count": null,
            "source": "%%writefile max_consecutive_ones.py\nclass Solution:\n    def findMaxConsecutiveOnes(self, nums):\n        \"\"\"\n        :type nums: List[int]\n        :rtype: int\n        \"\"\"",
            "outputs": []
        },
        {
            "cell_type": "code",
            "metadata": {},
            "execution_count": null,
            "source": "# submit\n%run ../../cli.py push --method=submit --path=max_consecutive_ones.py --clean=True",
            "outputs": []
        }
    ]
}