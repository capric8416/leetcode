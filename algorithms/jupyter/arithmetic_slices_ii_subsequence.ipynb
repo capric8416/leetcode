{
    "nbformat": 4,
    "nbformat_minor": 2,
    "metadata": {
        "kernelspec": {
            "display_name": "Python 3",
            "language": "python",
            "name": "python3"
        },
        "language_info": {
            "codemirror_mode": {
                "name": "ipython",
                "version": 3
            },
            "file_extension": ".py",
            "mimetype": "text/x-python",
            "name": "python",
            "nbconvert_exporter": "python",
            "pygments_lexer": "ipython3",
            "version": "3.7.2"
        }
    },
    "cells": [
        {
            "cell_type": "markdown",
            "source": [
                "<h1>Arithmetic Slices II - Subsequence</h1>",
                "<p>A sequence of numbers is called arithmetic if it consists of at least three elements and if the difference between any two consecutive elements is the same.</p><div></div>",
                "<div></div>",
                "<p>For example, these are arithmetic sequences:</p><div></div>",
                "<pre>1, 3, 5, 7, 9<div></div>",
                "7, 7, 7, 7<div></div>",
                "3, -1, -5, -9</pre><div></div>",
                "<div></div>",
                "<p>The following sequence is not arithmetic.</p> <pre>1, 1, 2, 5, 7</pre> <div></div>",
                "<br/><div></div>",
                "<div></div>",
                "<p>A zero-indexed array A consisting of N numbers is given. A <b>subsequence</b> slice of that array is any sequence of integers (P<sub>0</sub>, P<sub>1</sub>, ..., P<sub>k</sub>) such that 0 &le; P<sub>0</sub> < P<sub>1</sub> < ... < P<sub>k</sub> < N.</p><div></div>",
                "<div></div>",
                "<p>A <b>subsequence</b> slice (P<sub>0</sub>, P<sub>1</sub>, ..., P<sub>k</sub>) of array A is called arithmetic if the sequence A[P<sub>0</sub>], A[P<sub>1</sub>], ..., A[P<sub>k-1</sub>], A[P<sub>k</sub>] is arithmetic. In particular, this means that k &ge; 2.</p><div></div>",
                "<div></div>",
                "<p>The function should return the number of arithmetic subsequence slices in the array A. </p><div></div>",
                "<div></div>",
                "<p>The input contains N integers. Every integer is in the range of -2<sup>31</sup> and 2<sup>31</sup>-1 and 0 &le; N &le; 1000. The output is guaranteed to be less than 2<sup>31</sup>-1.</p><div></div>",
                "<br/><div></div>",
                "<div></div>",
                "<p><b>Example:</b><div></div>",
                "<pre><div></div>",
                "<b>Input:</b> [2, 4, 6, 8, 10]<div></div>",
                "<div></div>",
                "<b>Output:</b> 7<div></div>",
                "<div></div>",
                "<b>Explanation:</b><div></div>",
                "All arithmetic subsequence slices are:<div></div>",
                "[2,4,6]<div></div>",
                "[4,6,8]<div></div>",
                "[6,8,10]<div></div>",
                "[2,4,6,8]<div></div>",
                "[4,6,8,10]<div></div>",
                "[2,4,6,8,10]<div></div>",
                "[2,6,10]<div></div>",
                "</pre><div></div>",
                "</p><div></div>"
            ],
            "metadata": {}
        },
        {
            "cell_type": "code",
            "metadata": {},
            "execution_count": null,
            "source": "%%writefile arithmetic_slices_ii_subsequence.py\nclass Solution:\n    def numberOfArithmeticSlices(self, A):\n        \"\"\"\n        :type A: List[int]\n        :rtype: int\n        \"\"\"",
            "outputs": []
        },
        {
            "cell_type": "code",
            "metadata": {},
            "execution_count": null,
            "source": "# submit\n%run ../../cli.py push --method=submit --path=arithmetic_slices_ii_subsequence.py --clean=True",
            "outputs": []
        }
    ]
}