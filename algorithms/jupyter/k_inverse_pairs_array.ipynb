{
    "nbformat": 4,
    "nbformat_minor": 2,
    "metadata": {
        "kernelspec": {
            "display_name": "Python 3",
            "language": "python",
            "name": "python3"
        },
        "language_info": {
            "codemirror_mode": {
                "name": "ipython",
                "version": 3
            },
            "file_extension": ".py",
            "mimetype": "text/x-python",
            "name": "python",
            "nbconvert_exporter": "python",
            "pygments_lexer": "ipython3",
            "version": "3.7.2"
        }
    },
    "cells": [
        {
            "cell_type": "markdown",
            "source": [
                "<h1>K Inverse Pairs Array</h1>",
                "<p><div></div>",
                "Given two integers <code>n</code> and <code>k</code>, find how many different arrays consist of numbers from <code>1</code> to <code>n</code> such that there are exactly <code>k</code> inverse pairs. <div></div>",
                "</p><div></div>",
                "<p><div></div>",
                "We define an inverse pair as following:<div></div>",
                "For <code>i<sub>th</sub></code> and <code>j<sub>th</sub></code> element in the array, if <code>i</code> < <code>j</code> and <code>a[i]</code> > <code>a[j]</code> then it's an inverse pair; Otherwise, it's not.<div></div>",
                "</p><div></div>",
                "<div></div>",
                "<p><div></div>",
                "Since the answer may be very large, the answer should be modulo 10<sup>9</sup> + 7.<div></div>",
                "</p><div></div>",
                "<div></div>",
                "<p><b>Example 1:</b><br /><div></div>",
                "<pre><div></div>",
                "<b>Input:</b> n = 3, k = 0<div></div>",
                "<b>Output:</b> 1<div></div>",
                "<b>Explanation:</b> <div></div>",
                "Only the array [1,2,3] which consists of numbers from 1 to 3 has exactly 0 inverse pair.<div></div>",
                "</pre><div></div>",
                "</p><div></div>",
                "<div></div>",
                "<p><b>Example 2:</b><br /><div></div>",
                "<pre><div></div>",
                "<b>Input:</b> n = 3, k = 1<div></div>",
                "<b>Output:</b> 2<div></div>",
                "<b>Explanation:</b> <div></div>",
                "The array [1,3,2] and [2,1,3] have exactly 1 inverse pair.<div></div>",
                "</pre><div></div>",
                "</p><div></div>",
                "<div></div>",
                "<p><b>Note:</b><br><div></div>",
                "<ol><div></div>",
                "<li>The integer <code>n</code> is in the range [1, 1000] and <code>k</code> is in the range [0, 1000].</li><div></div>",
                "</ol><div></div>",
                "</p><div></div>"
            ],
            "metadata": {}
        },
        {
            "cell_type": "code",
            "metadata": {},
            "execution_count": null,
            "source": "%%writefile k_inverse_pairs_array.py\nclass Solution:\n    def kInversePairs(self, n, k):\n        \"\"\"\n        :type n: int\n        :type k: int\n        :rtype: int\n        \"\"\"",
            "outputs": []
        },
        {
            "cell_type": "code",
            "metadata": {},
            "execution_count": null,
            "source": "# submit\n%run ../../cli.py push --method=submit --path=k_inverse_pairs_array.py --clean=True",
            "outputs": []
        }
    ]
}