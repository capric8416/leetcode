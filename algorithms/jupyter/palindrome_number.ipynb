{
 "cells": [
  {
   "cell_type": "markdown",
   "metadata": {},
   "source": [
    "<h1>Palindrome Number</h1><p>Determine whether an integer is a palindrome. An integer&nbsp;is&nbsp;a&nbsp;palindrome when it&nbsp;reads the same backward as forward.</p><div></div><div></div><p><strong>Example 1:</strong></p><div></div><div></div><pre><div></div><strong>Input:</strong> 121<div></div><strong>Output:</strong> true<div></div></pre><div></div><div></div><p><strong>Example 2:</strong></p><div></div><div></div><pre><div></div><strong>Input:</strong> -121<div></div><strong>Output:</strong> false<div></div><strong>Explanation:</strong> From left to right, it reads -121. From right to left, it becomes 121-. Therefore it is not a palindrome.<div></div></pre><div></div><div></div><p><strong>Example 3:</strong></p><div></div><div></div><pre><div></div><strong>Input:</strong> 10<div></div><strong>Output:</strong> false<div></div><strong>Explanation:</strong> Reads 01 from right to left. Therefore it is not a palindrome.<div></div></pre><div></div><div></div><p><strong>Follow up:</strong></p><div></div><div></div><p>Coud you solve&nbsp;it without converting the integer to a string?</p><div></div><div></div>"
   ]
  },
  {
   "cell_type": "code",
   "execution_count": null,
   "metadata": {},
   "outputs": [],
   "source": [
    "%%writefile palindrome_number.py\n",
    "class Solution:\n",
    "    def isPalindrome(self, x):\n",
    "        \"\"\"\n",
    "        :type x: int\n",
    "        :rtype: bool\n",
    "        \"\"\"\n",
    "        if x < 0:\n",
    "            return False\n",
    "        \n",
    "        digits = []\n",
    "        while x != 0:\n",
    "            x, r = divmod(x, 10)\n",
    "            digits.append(r)\n",
    "        \n",
    "        m = len(digits)\n",
    "        n = m - 1\n",
    "        for i in range(m // 2):\n",
    "            if digits[i] != digits[n - i]:\n",
    "                return False\n",
    "        return True"
   ]
  },
  {
   "cell_type": "code",
   "execution_count": null,
   "metadata": {},
   "outputs": [],
   "source": [
    "%%writefile palindrome_number.py\n",
    "class Solution:\n",
    "    def isPalindrome(self, x):\n",
    "        \"\"\"\n",
    "        :type x: int\n",
    "        :rtype: bool\n",
    "        \"\"\"\n",
    "        if x < 0:\n",
    "            return False\n",
    "        \n",
    "        rev, n = 0, x\n",
    "        while x != 0:\n",
    "            x, r = divmod(x, 10)\n",
    "            rev = rev * 10 + r\n",
    "\n",
    "        return n == rev"
   ]
  },
  {
   "cell_type": "code",
   "execution_count": null,
   "metadata": {},
   "outputs": [],
   "source": [
    "# submit\n",
    "%run ../../cli.py push --method=submit --path=palindrome_number.py --clean=True"
   ]
  },
  {
   "cell_type": "code",
   "execution_count": null,
   "metadata": {},
   "outputs": [],
   "source": [
    "s = Solution()\n",
    "print(s.isPalindrome(121))\n",
    "print(s.isPalindrome(-121))\n",
    "print(s.isPalindrome(10))\n",
    "print(s.isPalindrome(1234554321))\n",
    "print(s.isPalindrome(123454321))"
   ]
  }
 ],
 "metadata": {
  "kernelspec": {
   "display_name": "Python 3",
   "language": "python",
   "name": "python3"
  },
  "language_info": {
   "codemirror_mode": {
    "name": "ipython",
    "version": 3
   },
   "file_extension": ".py",
   "mimetype": "text/x-python",
   "name": "python",
   "nbconvert_exporter": "python",
   "pygments_lexer": "ipython3",
   "version": "3.6.5"
  }
 },
 "nbformat": 4,
 "nbformat_minor": 2
}
