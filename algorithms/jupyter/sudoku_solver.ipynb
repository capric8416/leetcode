{
    "nbformat": 4,
    "nbformat_minor": 2,
    "metadata": {
        "kernelspec": {
            "display_name": "Python 3",
            "language": "python",
            "name": "python3"
        },
        "language_info": {
            "codemirror_mode": {
                "name": "ipython",
                "version": 3
            },
            "file_extension": ".py",
            "mimetype": "text/x-python",
            "name": "python",
            "nbconvert_exporter": "python",
            "pygments_lexer": "ipython3",
            "version": "3.7.2"
        }
    },
    "cells": [
        {
            "cell_type": "markdown",
            "source": [
                "<h1>Sudoku Solver</h1>",
                "<p>Write a program to solve a Sudoku puzzle by filling the empty cells.</p><div></div>",
                "<div></div>",
                "<p>A&nbsp;sudoku solution must satisfy <strong>all of&nbsp;the following rules</strong>:</p><div></div>",
                "<div></div>",
                "<ol><div></div>",
                "\t<li>Each of the digits&nbsp;<code>1-9</code> must occur exactly&nbsp;once in each row.</li><div></div>",
                "\t<li>Each of the digits&nbsp;<code>1-9</code>&nbsp;must occur&nbsp;exactly once in each column.</li><div></div>",
                "\t<li>Each of the the digits&nbsp;<code>1-9</code> must occur exactly once in each of the 9 <code>3x3</code> sub-boxes of the grid.</li><div></div>",
                "</ol><div></div>",
                "<div></div>",
                "<p>Empty cells are indicated by the character <code>&#39;.&#39;</code>.</p><div></div>",
                "<div></div>",
                "<p><img src=\"https://upload.wikimedia.org/wikipedia/commons/thumb/f/ff/Sudoku-by-L2G-20050714.svg/250px-Sudoku-by-L2G-20050714.svg.png\" style=\"height:250px; width:250px\" /><br /><div></div>",
                "<small>A sudoku puzzle...</small></p><div></div>",
                "<div></div>",
                "<p><img src=\"https://upload.wikimedia.org/wikipedia/commons/thumb/3/31/Sudoku-by-L2G-20050714_solution.svg/250px-Sudoku-by-L2G-20050714_solution.svg.png\" style=\"height:250px; width:250px\" /><br /><div></div>",
                "<small>...and its solution numbers marked in red.</small></p><div></div>",
                "<div></div>",
                "<p><strong>Note:</strong></p><div></div>",
                "<div></div>",
                "<ul><div></div>",
                "\t<li>The given board&nbsp;contain only digits <code>1-9</code> and the character <code>&#39;.&#39;</code>.</li><div></div>",
                "\t<li>You may assume that the given Sudoku puzzle will have a single unique solution.</li><div></div>",
                "\t<li>The given board size is always <code>9x9</code>.</li><div></div>",
                "</ul><div></div>",
                "<div></div>"
            ],
            "metadata": {}
        },
        {
            "cell_type": "code",
            "metadata": {},
            "execution_count": null,
            "source": "%%writefile sudoku_solver.py\nclass Solution:\n    def solveSudoku(self, board):\n        \"\"\"\n        :type board: List[List[str]]\n        :rtype: void Do not return anything, modify board in-place instead.\n        \"\"\"",
            "outputs": []
        },
        {
            "cell_type": "code",
            "metadata": {},
            "execution_count": null,
            "source": "# submit\n%run ../../cli.py push --method=submit --path=sudoku_solver.py --clean=True",
            "outputs": []
        }
    ]
}