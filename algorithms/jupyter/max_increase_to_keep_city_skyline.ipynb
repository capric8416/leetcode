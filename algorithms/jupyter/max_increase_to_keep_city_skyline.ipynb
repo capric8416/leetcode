{
    "nbformat": 4,
    "nbformat_minor": 2,
    "metadata": {
        "kernelspec": {
            "display_name": "Python 3",
            "language": "python",
            "name": "python3"
        },
        "language_info": {
            "codemirror_mode": {
                "name": "ipython",
                "version": 3
            },
            "file_extension": ".py",
            "mimetype": "text/x-python",
            "name": "python",
            "nbconvert_exporter": "python",
            "pygments_lexer": "ipython3",
            "version": "3.7.2"
        }
    },
    "cells": [
        {
            "cell_type": "markdown",
            "source": [
                "<h1>Max Increase to Keep City Skyline</h1>",
                "<p>In a 2 dimensional array <code>grid</code>, each value <code>grid[i][j]</code> represents the height of a building located there. We are allowed to increase the height of any number of buildings, by any amount (the amounts&nbsp;can be different for different buildings). Height&nbsp;0 is considered to be a&nbsp;building&nbsp;as well.&nbsp;</p><div></div>",
                "<div></div>",
                "<p>At the end, the &quot;skyline&quot; when viewed from all four directions&nbsp;of the grid, i.e.&nbsp;top, bottom, left, and right,&nbsp;must be the same as the&nbsp;skyline of the original grid. A city&#39;s skyline is the outer contour of the rectangles formed by all the buildings when viewed from a distance. See&nbsp;the following example.</p><div></div>",
                "<div></div>",
                "<p>What is the maximum total sum that the height of the buildings can be increased?</p><div></div>",
                "<div></div>",
                "<pre><div></div>",
                "<strong>Example:</strong><div></div>",
                "<strong>Input:</strong> grid = [[3,0,8,4],[2,4,5,7],[9,2,6,3],[0,3,1,0]]<div></div>",
                "<strong>Output:</strong> 35<div></div>",
                "<strong>Explanation:</strong> <div></div>",
                "The grid is:<div></div>",
                "[ [3, 0, 8, 4], <div></div>",
                "  [2, 4, 5, 7],<div></div>",
                "  [9, 2, 6, 3],<div></div>",
                "  [0, 3, 1, 0] ]<div></div>",
                "<div></div>",
                "The skyline viewed from top or bottom is: [9, 4, 8, 7]<div></div>",
                "The skyline viewed from left or right is: [8, 7, 9, 3]<div></div>",
                "<div></div>",
                "The grid after increasing the height of buildings without affecting skylines is:<div></div>",
                "<div></div>",
                "gridNew = [ [8, 4, 8, 7],<div></div>",
                "            [7, 4, 7, 7],<div></div>",
                "            [9, 4, 8, 7],<div></div>",
                "            [3, 3, 3, 3] ]<div></div>",
                "<div></div>",
                "</pre><div></div>",
                "<div></div>",
                "<p><strong>Notes: </strong></p><div></div>",
                "<div></div>",
                "<ul><div></div>",
                "\t<li><code>1 &lt; grid.length = grid[0].length &lt;= 50</code>.</li><div></div>",
                "\t<li>All heights <code>grid[i][j]</code> are in the range <code>[0, 100]</code>.</li><div></div>",
                "\t<li>All buildings in <code>grid[i][j]</code> occupy the entire grid cell: that is, they are a <code>1 x 1 x grid[i][j]</code> rectangular prism.</li><div></div>",
                "</ul><div></div>",
                "<div></div>"
            ],
            "metadata": {}
        },
        {
            "cell_type": "code",
            "metadata": {},
            "execution_count": null,
            "source": "%%writefile max_increase_to_keep_city_skyline.py\nclass Solution:\n    def maxIncreaseKeepingSkyline(self, grid):\n        \"\"\"\n        :type grid: List[List[int]]\n        :rtype: int\n        \"\"\"",
            "outputs": []
        },
        {
            "cell_type": "code",
            "metadata": {},
            "execution_count": null,
            "source": "# submit\n%run ../../cli.py push --method=submit --path=max_increase_to_keep_city_skyline.py --clean=True",
            "outputs": []
        }
    ]
}