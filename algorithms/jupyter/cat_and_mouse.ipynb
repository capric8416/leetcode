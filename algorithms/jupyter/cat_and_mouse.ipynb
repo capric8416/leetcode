{
    "nbformat": 4,
    "nbformat_minor": 2,
    "metadata": {
        "kernelspec": {
            "display_name": "Python 3",
            "language": "python",
            "name": "python3"
        },
        "language_info": {
            "codemirror_mode": {
                "name": "ipython",
                "version": 3
            },
            "file_extension": ".py",
            "mimetype": "text/x-python",
            "name": "python",
            "nbconvert_exporter": "python",
            "pygments_lexer": "ipython3",
            "version": "3.7.2"
        }
    },
    "cells": [
        {
            "cell_type": "markdown",
            "source": [
                "<h1>Cat and Mouse</h1>",
                "<p>A game on an <strong>undirected</strong> graph is played by two players, Mouse and Cat, who alternate turns.</p><div></div>",
                "<div></div>",
                "<p>The graph is given as follows: <code>graph[a]</code> is a list of all nodes <code>b</code> such that <code>ab</code> is an edge of the graph.</p><div></div>",
                "<div></div>",
                "<p>Mouse starts at node 1 and goes first, Cat starts at node 2 and goes second, and there is a Hole at node 0.</p><div></div>",
                "<div></div>",
                "<p>During each player&#39;s turn, they <strong>must</strong> travel along one&nbsp;edge of the graph that meets where they are.&nbsp; For example, if the Mouse is at node <code>1</code>, it <strong>must</strong> travel to any node in <code>graph[1]</code>.</p><div></div>",
                "<div></div>",
                "<p>Additionally, it is not allowed for the Cat to travel to the Hole (node 0.)</p><div></div>",
                "<div></div>",
                "<p>Then, the game can end in 3 ways:</p><div></div>",
                "<div></div>",
                "<ul><div></div>",
                "\t<li>If ever the Cat occupies the same node as the Mouse, the Cat wins.</li><div></div>",
                "\t<li>If ever the Mouse reaches the Hole, the Mouse wins.</li><div></div>",
                "\t<li>If ever a position is repeated (ie.&nbsp;the players are in the same position as a previous turn, and&nbsp;it is the same player&#39;s turn to move), the game is a draw.</li><div></div>",
                "</ul><div></div>",
                "<div></div>",
                "<p>Given a <code>graph</code>, and assuming both players play optimally, return <code>1</code>&nbsp;if the game is won by Mouse, <code>2</code>&nbsp;if the game is won by Cat, and <code>0</code>&nbsp;if the game is a draw.</p><div></div>",
                "<div></div>",
                "<p>&nbsp;</p><div></div>",
                "<div></div>",
                "<ol><div></div>",
                "</ol><div></div>",
                "<div></div>",
                "<div><div></div>",
                "<p><strong>Example 1:</strong></p><div></div>",
                "<div></div>",
                "<pre><div></div>",
                "<strong>Input: </strong><span id=\"example-input-1-1\">[[2,5],[3],[0,4,5],[1,4,5],[2,3],[0,2,3]]</span><div></div>",
                "<strong>Output: </strong><span id=\"example-output-1\">0<div></div>",
                "<strong>Explanation:</strong><div></div>",
                "</span>4---3---1<div></div>",
                "|&nbsp; &nbsp;|<div></div>",
                "2---5<div></div>",
                "&nbsp;\\&nbsp;/<div></div>",
                "&nbsp; 0<div></div>",
                "</pre><div></div>",
                "<div></div>",
                "<p>&nbsp;</p><div></div>",
                "<div></div>",
                "<p><strong>Note:</strong></p><div></div>",
                "<div></div>",
                "<ol><div></div>",
                "\t<li><code>3 &lt;= graph.length &lt;= 50</code></li><div></div>",
                "\t<li>It is guaranteed that <code>graph[1]</code> is non-empty.</li><div></div>",
                "\t<li>It is guaranteed that <code>graph[2]</code> contains a non-zero element.&nbsp;</li><div></div>",
                "</ol><div></div>",
                "</div><div></div>",
                "<div></div>"
            ],
            "metadata": {}
        },
        {
            "cell_type": "code",
            "metadata": {},
            "execution_count": null,
            "source": "%%writefile cat_and_mouse.py\nclass Solution:\n    def catMouseGame(self, graph):\n        \"\"\"\n        :type graph: List[List[int]]\n        :rtype: int\n        \"\"\"",
            "outputs": []
        },
        {
            "cell_type": "code",
            "metadata": {},
            "execution_count": null,
            "source": "# submit\n%run ../../cli.py push --method=submit --path=cat_and_mouse.py --clean=True",
            "outputs": []
        }
    ]
}