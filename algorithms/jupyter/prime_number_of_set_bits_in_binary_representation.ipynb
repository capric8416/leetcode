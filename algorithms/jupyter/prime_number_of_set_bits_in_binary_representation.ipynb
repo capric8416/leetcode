{
    "nbformat": 4,
    "nbformat_minor": 2,
    "metadata": {
        "kernelspec": {
            "display_name": "Python 3",
            "language": "python",
            "name": "python3"
        },
        "language_info": {
            "codemirror_mode": {
                "name": "ipython",
                "version": 3
            },
            "file_extension": ".py",
            "mimetype": "text/x-python",
            "name": "python",
            "nbconvert_exporter": "python",
            "pygments_lexer": "ipython3",
            "version": "3.7.2"
        }
    },
    "cells": [
        {
            "cell_type": "markdown",
            "source": [
                "<h1>Prime Number of Set Bits in Binary Representation</h1>",
                "<p><div></div>",
                "Given two integers <code>L</code> and <code>R</code>, find the count of numbers in the range <code>[L, R]</code> (inclusive) having a prime number of set bits in their binary representation.<div></div>",
                "</p><p><div></div>",
                "(Recall that the number of set bits an integer has is the number of <code>1</code>s present when written in binary.  For example, <code>21</code> written in binary is <code>10101</code> which has 3 set bits.  Also, 1 is not a prime.)<div></div>",
                "</p><p><div></div>",
                "<div></div>",
                "<p><b>Example 1:</b><br /><pre><div></div>",
                "<b>Input:</b> L = 6, R = 10<div></div>",
                "<b>Output:</b> 4<div></div>",
                "<b>Explanation:</b><div></div>",
                "6 -> 110 (2 set bits, 2 is prime)<div></div>",
                "7 -> 111 (3 set bits, 3 is prime)<div></div>",
                "9 -> 1001 (2 set bits , 2 is prime)<div></div>",
                "10->1010 (2 set bits , 2 is prime)<div></div>",
                "</pre></p><div></div>",
                "<div></div>",
                "<p><b>Example 2:</b><br /><pre><div></div>",
                "<b>Input:</b> L = 10, R = 15<div></div>",
                "<b>Output:</b> 5<div></div>",
                "<b>Explanation:</b><div></div>",
                "10 -> 1010 (2 set bits, 2 is prime)<div></div>",
                "11 -> 1011 (3 set bits, 3 is prime)<div></div>",
                "12 -> 1100 (2 set bits, 2 is prime)<div></div>",
                "13 -> 1101 (3 set bits, 3 is prime)<div></div>",
                "14 -> 1110 (3 set bits, 3 is prime)<div></div>",
                "15 -> 1111 (4 set bits, 4 is not prime)<div></div>",
                "</pre></p><div></div>",
                "<div></div>",
                "<p><b>Note:</b><br><ol><div></div>",
                "<li><code>L, R</code> will be integers <code>L <= R</code> in the range <code>[1, 10^6]</code>.</li><div></div>",
                "<li><code>R - L</code> will be at most 10000.</li><div></div>",
                "</ol></p><div></div>"
            ],
            "metadata": {}
        },
        {
            "cell_type": "code",
            "metadata": {},
            "execution_count": null,
            "source": "%%writefile prime_number_of_set_bits_in_binary_representation.py\nclass Solution:\n    def countPrimeSetBits(self, L, R):\n        \"\"\"\n        :type L: int\n        :type R: int\n        :rtype: int\n        \"\"\"",
            "outputs": []
        },
        {
            "cell_type": "code",
            "metadata": {},
            "execution_count": null,
            "source": "# submit\n%run ../../cli.py push --method=submit --path=prime_number_of_set_bits_in_binary_representation.py --clean=True",
            "outputs": []
        }
    ]
}