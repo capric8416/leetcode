{
    "nbformat": 4,
    "nbformat_minor": 2,
    "metadata": {
        "kernelspec": {
            "display_name": "Python 3",
            "language": "python",
            "name": "python3"
        },
        "language_info": {
            "codemirror_mode": {
                "name": "ipython",
                "version": 3
            },
            "file_extension": ".py",
            "mimetype": "text/x-python",
            "name": "python",
            "nbconvert_exporter": "python",
            "pygments_lexer": "ipython3",
            "version": "3.7.2"
        }
    },
    "cells": [
        {
            "cell_type": "markdown",
            "source": [
                "<h1>Valid Square</h1>",
                "<p>Given the coordinates of four points in 2D space, return whether the four points could construct a square.</p><div></div>",
                "<div></div>",
                "<p>The coordinate (x,y) of a point is represented by an integer array with two integers.</p><div></div>",
                "<div></div>",
                "<p><b>Example:</b><br /><div></div>",
                "<pre><div></div>",
                "<b>Input:</b> p1 = [0,0], p2 = [1,1], p3 = [1,0], p4 = [0,1]<div></div>",
                "<b>Output:</b> True<div></div>",
                "</pre><div></div>",
                "</p><div></div>",
                "<div></div>",
                "<p> Note: <div></div>",
                "<ol><div></div>",
                "<li>All the input integers are in the range [-10000, 10000].</li><div></div>",
                "<li>A valid square has four equal sides with positive length and four equal angles (90-degree angles).</li><div></div>",
                "<li>Input points have no order.</li><div></div>",
                "</ol><div></div>",
                "</p><div></div>"
            ],
            "metadata": {}
        },
        {
            "cell_type": "code",
            "metadata": {},
            "execution_count": null,
            "source": "%%writefile valid_square.py\nclass Solution:\n    def validSquare(self, p1, p2, p3, p4):\n        \"\"\"\n        :type p1: List[int]\n        :type p2: List[int]\n        :type p3: List[int]\n        :type p4: List[int]\n        :rtype: bool\n        \"\"\"",
            "outputs": []
        },
        {
            "cell_type": "code",
            "metadata": {},
            "execution_count": null,
            "source": "# submit\n%run ../../cli.py push --method=submit --path=valid_square.py --clean=True",
            "outputs": []
        }
    ]
}