{
    "nbformat": 4,
    "nbformat_minor": 2,
    "metadata": {
        "kernelspec": {
            "display_name": "Python 3",
            "language": "python",
            "name": "python3"
        },
        "language_info": {
            "codemirror_mode": {
                "name": "ipython",
                "version": 3
            },
            "file_extension": ".py",
            "mimetype": "text/x-python",
            "name": "python",
            "nbconvert_exporter": "python",
            "pygments_lexer": "ipython3",
            "version": "3.7.2"
        }
    },
    "cells": [
        {
            "cell_type": "markdown",
            "source": [
                "<h1>Random Flip Matrix</h1>",
                "<p>You are given the number of rows <code>n_rows</code>&nbsp;and number of columns <code>n_cols</code>&nbsp;of a&nbsp;2D&nbsp;binary matrix&nbsp;where all values are initially 0.&nbsp;Write a function <code>flip</code>&nbsp;which chooses&nbsp;a 0 value&nbsp;<a href=\"https://en.wikipedia.org/wiki/Discrete_uniform_distribution\" target=\"_blank\">uniformly at random</a>,&nbsp;changes it to 1,&nbsp;and then returns the position <code>[row.id, col.id]</code> of that value. Also, write a function <code>reset</code> which sets all values back to 0.&nbsp;<strong>Try to minimize the number of calls to system&#39;s Math.random()</strong> and optimize the time and&nbsp;space complexity.</p><div></div>",
                "<div></div>",
                "<p>Note:</p><div></div>",
                "<div></div>",
                "<ol><div></div>",
                "\t<li><code>1 &lt;= n_rows, n_cols&nbsp;&lt;= 10000</code></li><div></div>",
                "\t<li><code>0 &lt;= row.id &lt; n_rows</code> and <code>0 &lt;= col.id &lt; n_cols</code></li><div></div>",
                "\t<li><code>flip</code>&nbsp;will not be called when the matrix has no&nbsp;0 values left.</li><div></div>",
                "\t<li>the total number of calls to&nbsp;<code>flip</code>&nbsp;and <code>reset</code>&nbsp;will not exceed&nbsp;1000.</li><div></div>",
                "</ol><div></div>",
                "<div></div>",
                "<p><strong>Example 1:</strong></p><div></div>",
                "<div></div>",
                "<pre><div></div>",
                "<strong>Input: <div></div>",
                "</strong><span id=\"example-input-1-1\">[&quot;Solution&quot;,&quot;flip&quot;,&quot;flip&quot;,&quot;flip&quot;,&quot;flip&quot;]<div></div>",
                "</span><span id=\"example-input-1-2\">[[2,3],[],[],[],[]]</span><div></div>",
                "<strong>Output: </strong><span id=\"example-output-1\">[null,[0,1],[1,2],[1,0],[1,1]]</span><div></div>",
                "</pre><div></div>",
                "<div></div>",
                "<div><div></div>",
                "<p><strong>Example 2:</strong></p><div></div>",
                "<div></div>",
                "<pre><div></div>",
                "<strong>Input: <div></div>",
                "</strong><span id=\"example-input-2-1\">[&quot;Solution&quot;,&quot;flip&quot;,&quot;flip&quot;,&quot;reset&quot;,&quot;flip&quot;]<div></div>",
                "</span><span id=\"example-input-2-2\">[[1,2],[],[],[],[]]</span><div></div>",
                "<strong>Output: </strong><span id=\"example-output-2\">[null,[0,0],[0,1],null,[0,0]]</span></pre><div></div>",
                "</div><div></div>",
                "<div></div>",
                "<p><strong>Explanation of Input Syntax:</strong></p><div></div>",
                "<div></div>",
                "<p>The input is two lists:&nbsp;the subroutines called&nbsp;and their&nbsp;arguments. <code>Solution</code>&#39;s constructor&nbsp;has two arguments, <code>n_rows</code> and <code>n_cols</code>.&nbsp;<code>flip</code>&nbsp;and <code>reset</code> have&nbsp;no&nbsp;arguments.&nbsp;Arguments&nbsp;are&nbsp;always wrapped with a list, even if there aren&#39;t any.</p><div></div>",
                "<div></div>"
            ],
            "metadata": {}
        },
        {
            "cell_type": "code",
            "metadata": {},
            "execution_count": null,
            "source": "%%writefile random_flip_matrix.py\nclass Solution:\n\n    def __init__(self, n_rows, n_cols):\n        \"\"\"\n        :type n_rows: int\n        :type n_cols: int\n        \"\"\"\n        \n\n    def flip(self):\n        \"\"\"\n        :rtype: List[int]\n        \"\"\"\n        \n\n    def reset(self):\n        \"\"\"\n        :rtype: void\n        \"\"\"\n        \n\n\n# Your Solution object will be instantiated and called as such:\n# obj = Solution(n_rows, n_cols)\n# param_1 = obj.flip()\n# obj.reset()",
            "outputs": []
        },
        {
            "cell_type": "code",
            "metadata": {},
            "execution_count": null,
            "source": "# submit\n%run ../../cli.py push --method=submit --path=random_flip_matrix.py --clean=True",
            "outputs": []
        }
    ]
}