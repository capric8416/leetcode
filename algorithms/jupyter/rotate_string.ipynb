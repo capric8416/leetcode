{
    "nbformat": 4,
    "nbformat_minor": 2,
    "metadata": {
        "kernelspec": {
            "display_name": "Python 3",
            "language": "python",
            "name": "python3"
        },
        "language_info": {
            "codemirror_mode": {
                "name": "ipython",
                "version": 3
            },
            "file_extension": ".py",
            "mimetype": "text/x-python",
            "name": "python",
            "nbconvert_exporter": "python",
            "pygments_lexer": "ipython3",
            "version": "3.7.2"
        }
    },
    "cells": [
        {
            "cell_type": "markdown",
            "source": [
                "<h1>Rotate String</h1>",
                "<p>We are given two strings, <code>A</code> and <code>B</code>.</p><div></div>",
                "<div></div>",
                "<p>A <em>shift on <code>A</code></em> consists of taking string <code>A</code> and moving the leftmost character to the rightmost position. For example, if <code>A = &#39;abcde&#39;</code>, then it will be <code>&#39;bcdea&#39;</code> after one shift on <code>A</code>. Return <code>True</code> if and only if <code>A</code> can become <code>B</code> after some number of shifts on <code>A</code>.</p><div></div>",
                "<div></div>",
                "<pre><div></div>",
                "<strong>Example 1:</strong><div></div>",
                "<strong>Input:</strong> A = &#39;abcde&#39;, B = &#39;cdeab&#39;<div></div>",
                "<strong>Output:</strong> true<div></div>",
                "<div></div>",
                "<strong>Example 2:</strong><div></div>",
                "<strong>Input:</strong> A = &#39;abcde&#39;, B = &#39;abced&#39;<div></div>",
                "<strong>Output:</strong> false<div></div>",
                "</pre><div></div>",
                "<div></div>",
                "<p><strong>Note:</strong></p><div></div>",
                "<div></div>",
                "<ul><div></div>",
                "\t<li><code>A</code> and <code>B</code> will have length at most <code>100</code>.</li><div></div>",
                "</ul><div></div>",
                "<div></div>"
            ],
            "metadata": {}
        },
        {
            "cell_type": "code",
            "metadata": {},
            "execution_count": null,
            "source": "%%writefile rotate_string.py\nclass Solution:\n    def rotateString(self, A, B):\n        \"\"\"\n        :type A: str\n        :type B: str\n        :rtype: bool\n        \"\"\"",
            "outputs": []
        },
        {
            "cell_type": "code",
            "metadata": {},
            "execution_count": null,
            "source": "# submit\n%run ../../cli.py push --method=submit --path=rotate_string.py --clean=True",
            "outputs": []
        }
    ]
}