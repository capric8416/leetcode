{
    "nbformat": 4,
    "nbformat_minor": 2,
    "metadata": {
        "kernelspec": {
            "display_name": "Python 3",
            "language": "python",
            "name": "python3"
        },
        "language_info": {
            "codemirror_mode": {
                "name": "ipython",
                "version": 3
            },
            "file_extension": ".py",
            "mimetype": "text/x-python",
            "name": "python",
            "nbconvert_exporter": "python",
            "pygments_lexer": "ipython3",
            "version": "3.7.2"
        }
    },
    "cells": [
        {
            "cell_type": "markdown",
            "source": [
                "<h1>Number of Music Playlists</h1>",
                "<p>Your music player contains <code>N</code>&nbsp;different songs and she wants to listen to <code>L</code><strong> </strong>(not necessarily different) songs during your trip. &nbsp;You&nbsp;create&nbsp;a playlist so&nbsp;that:</p><div></div>",
                "<div></div>",
                "<ul><div></div>",
                "\t<li>Every song is played at least once</li><div></div>",
                "\t<li>A song can only be played again only if&nbsp;<code>K</code>&nbsp;other songs have been played</li><div></div>",
                "</ul><div></div>",
                "<div></div>",
                "<p>Return the number of possible playlists.&nbsp; <strong>As the answer can be very large, return it modulo <code>10^9 + 7</code></strong>.</p><div></div>",
                "<div></div>",
                "<p>&nbsp;</p><div></div>",
                "<div></div>",
                "<div><div></div>",
                "<div><div></div>",
                "<div><div></div>",
                "<p><strong>Example 1:</strong></p><div></div>",
                "<div></div>",
                "<pre><div></div>",
                "<strong>Input: </strong>N = <span id=\"example-input-1-1\">3</span>, L = <span id=\"example-input-1-2\">3</span>, K = <span id=\"example-input-1-3\">1</span><div></div>",
                "<strong>Output: </strong><span id=\"example-output-1\">6<div></div>",
                "<strong>Explanation</strong>: </span><span>There are 6 possible playlists. [1, 2, 3], [1, 3, 2], [2, 1, 3], [2, 3, 1], [3, 1, 2], [3, 2, 1].</span><div></div>",
                "</pre><div></div>",
                "<div></div>",
                "<div><div></div>",
                "<p><strong>Example 2:</strong></p><div></div>",
                "<div></div>",
                "<pre><div></div>",
                "<strong>Input: </strong>N = <span id=\"example-input-2-1\">2</span>, L = <span id=\"example-input-2-2\">3</span>, K = <span id=\"example-input-2-3\">0</span><div></div>",
                "<strong>Output: </strong><span id=\"example-output-2\">6<div></div>",
                "</span><span id=\"example-output-1\"><strong>Explanation</strong>: </span><span>There are 6 possible playlists. [1, 1, 2], [1, 2, 1], [2, 1, 1], [2, 2, 1], [2, 1, 2], [1, 2, 2]</span><div></div>",
                "</pre><div></div>",
                "<div></div>",
                "<div><div></div>",
                "<p><strong>Example 3:</strong></p><div></div>",
                "<div></div>",
                "<pre><div></div>",
                "<strong>Input: </strong>N = <span id=\"example-input-3-1\">2</span>, L = <span id=\"example-input-3-2\">3</span>, K = <span id=\"example-input-3-3\">1</span><div></div>",
                "<strong>Output: </strong><span id=\"example-output-3\">2<div></div>",
                "<strong>Explanation</strong>: </span><span>There are 2 possible playlists. [1, 2, 1], [2, 1, 2]</span><div></div>",
                "</pre><div></div>",
                "</div><div></div>",
                "</div><div></div>",
                "<div></div>",
                "<p>&nbsp;</p><div></div>",
                "<div></div>",
                "<p><strong>Note:</strong></p><div></div>",
                "<div></div>",
                "<ol><div></div>",
                "\t<li><code>0 &lt;= K &lt; N &lt;= L &lt;= 100</code></li><div></div>",
                "</ol><div></div>",
                "</div><div></div>",
                "</div><div></div>",
                "</div><div></div>"
            ],
            "metadata": {}
        },
        {
            "cell_type": "code",
            "metadata": {},
            "execution_count": null,
            "source": "%%writefile number_of_music_playlists.py\nclass Solution:\n    def numMusicPlaylists(self, N, L, K):\n        \"\"\"\n        :type N: int\n        :type L: int\n        :type K: int\n        :rtype: int\n        \"\"\"",
            "outputs": []
        },
        {
            "cell_type": "code",
            "metadata": {},
            "execution_count": null,
            "source": "# submit\n%run ../../cli.py push --method=submit --path=number_of_music_playlists.py --clean=True",
            "outputs": []
        }
    ]
}