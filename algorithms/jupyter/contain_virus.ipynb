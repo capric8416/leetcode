{
    "nbformat": 4,
    "nbformat_minor": 2,
    "metadata": {
        "kernelspec": {
            "display_name": "Python 3",
            "language": "python",
            "name": "python3"
        },
        "language_info": {
            "codemirror_mode": {
                "name": "ipython",
                "version": 3
            },
            "file_extension": ".py",
            "mimetype": "text/x-python",
            "name": "python",
            "nbconvert_exporter": "python",
            "pygments_lexer": "ipython3",
            "version": "3.7.2"
        }
    },
    "cells": [
        {
            "cell_type": "markdown",
            "source": [
                "<h1>Contain Virus</h1>",
                "<p><div></div>",
                "A virus is spreading rapidly, and your task is to quarantine the infected area by installing walls.<div></div>",
                "</p><p><div></div>",
                "The world is modeled as a 2-D array of cells, where <code>0</code> represents uninfected cells, and <code>1</code> represents cells contaminated with the virus.  A wall (and only one wall) can be installed <b>between any two 4-directionally adjacent cells</b>, on the shared boundary.<div></div>",
                "</p><p><div></div>",
                "Every night, the virus spreads to all neighboring cells in all four directions unless blocked by a wall.<div></div>",
                "Resources are limited. Each day, you can install walls around only one region -- the affected area (continuous block of infected cells) that threatens the most uninfected cells the following night. There will never be a tie.<div></div>",
                "</p><p><div></div>",
                "Can you save the day? If so, what is the number of walls required? If not, and the world becomes fully infected, return the number of walls used.<div></div>",
                "</p><p><div></div>",
                "<div></div>",
                "<p><b>Example 1:</b><br /><div></div>",
                "<pre><div></div>",
                "<b>Input:</b> grid = <div></div>",
                "[[0,1,0,0,0,0,0,1],<div></div>",
                " [0,1,0,0,0,0,0,1],<div></div>",
                " [0,0,0,0,0,0,0,1],<div></div>",
                " [0,0,0,0,0,0,0,0]]<div></div>",
                "<b>Output:</b> 10<div></div>",
                "<b>Explanation:</b><div></div>",
                "There are 2 contaminated regions.<div></div>",
                "On the first day, add 5 walls to quarantine the viral region on the left. The board after the virus spreads is:<div></div>",
                "<div></div>",
                "[[0,1,0,0,0,0,1,1],<div></div>",
                " [0,1,0,0,0,0,1,1],<div></div>",
                " [0,0,0,0,0,0,1,1],<div></div>",
                " [0,0,0,0,0,0,0,1]]<div></div>",
                "<div></div>",
                "On the second day, add 5 walls to quarantine the viral region on the right. The virus is fully contained.<div></div>",
                "</pre><div></div>",
                "</p><div></div>",
                "<div></div>",
                "<p><b>Example 2:</b><br /><div></div>",
                "<pre><div></div>",
                "<b>Input:</b> grid = <div></div>",
                "[[1,1,1],<div></div>",
                " [1,0,1],<div></div>",
                " [1,1,1]]<div></div>",
                "<b>Output:</b> 4<div></div>",
                "<b>Explanation:</b> Even though there is only one cell saved, there are 4 walls built.<div></div>",
                "Notice that walls are only built on the shared boundary of two different cells.<div></div>",
                "</pre><div></div>",
                "</p><div></div>",
                "<div></div>",
                "<p><b>Example 3:</b><br /><div></div>",
                "<pre><div></div>",
                "<b>Input:</b> grid = <div></div>",
                "[[1,1,1,0,0,0,0,0,0],<div></div>",
                " [1,0,1,0,1,1,1,1,1],<div></div>",
                " [1,1,1,0,0,0,0,0,0]]<div></div>",
                "<b>Output:</b> 13<div></div>",
                "<b>Explanation:</b> The region on the left only builds two new walls.<div></div>",
                "</pre><div></div>",
                "</p><div></div>",
                "<div></div>",
                "<p><b>Note:</b><br><div></div>",
                "<ol><div></div>",
                "<li>The number of rows and columns of <code>grid</code> will each be in the range <code>[1, 50]</code>.</li><div></div>",
                "<li>Each <code>grid[i][j]</code> will be either <code>0</code> or <code>1</code>.</li><div></div>",
                "<li>Throughout the described process, there is always a contiguous viral region that will infect <b>strictly more</b> uncontaminated squares in the next round.</li><div></div>",
                "</ol><div></div>",
                "</p><div></div>"
            ],
            "metadata": {}
        },
        {
            "cell_type": "code",
            "metadata": {},
            "execution_count": null,
            "source": "%%writefile contain_virus.py\nclass Solution:\n    def containVirus(self, grid):\n        \"\"\"\n        :type grid: List[List[int]]\n        :rtype: int\n        \"\"\"",
            "outputs": []
        },
        {
            "cell_type": "code",
            "metadata": {},
            "execution_count": null,
            "source": "# submit\n%run ../../cli.py push --method=submit --path=contain_virus.py --clean=True",
            "outputs": []
        }
    ]
}