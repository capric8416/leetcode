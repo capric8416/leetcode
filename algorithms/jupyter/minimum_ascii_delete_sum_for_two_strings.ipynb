{
    "nbformat": 4,
    "nbformat_minor": 2,
    "metadata": {
        "kernelspec": {
            "display_name": "Python 3",
            "language": "python",
            "name": "python3"
        },
        "language_info": {
            "codemirror_mode": {
                "name": "ipython",
                "version": 3
            },
            "file_extension": ".py",
            "mimetype": "text/x-python",
            "name": "python",
            "nbconvert_exporter": "python",
            "pygments_lexer": "ipython3",
            "version": "3.7.2"
        }
    },
    "cells": [
        {
            "cell_type": "markdown",
            "source": [
                "<h1>Minimum ASCII Delete Sum for Two Strings</h1>",
                "<p>Given two strings <code>s1, s2</code>, find the lowest ASCII sum of deleted characters to make two strings equal.</p><div></div>",
                "<div></div>",
                "<p><b>Example 1:</b><br /><div></div>",
                "<pre><div></div>",
                "<b>Input:</b> s1 = \"sea\", s2 = \"eat\"<div></div>",
                "<b>Output:</b> 231<div></div>",
                "<b>Explanation:</b> Deleting \"s\" from \"sea\" adds the ASCII value of \"s\" (115) to the sum.<div></div>",
                "Deleting \"t\" from \"eat\" adds 116 to the sum.<div></div>",
                "At the end, both strings are equal, and 115 + 116 = 231 is the minimum sum possible to achieve this.<div></div>",
                "</pre><div></div>",
                "</p><div></div>",
                "<div></div>",
                "<p><b>Example 2:</b><br /><div></div>",
                "<pre><div></div>",
                "<b>Input:</b> s1 = \"delete\", s2 = \"leet\"<div></div>",
                "<b>Output:</b> 403<div></div>",
                "<b>Explanation:</b> Deleting \"dee\" from \"delete\" to turn the string into \"let\",<div></div>",
                "adds 100[d]+101[e]+101[e] to the sum.  Deleting \"e\" from \"leet\" adds 101[e] to the sum.<div></div>",
                "At the end, both strings are equal to \"let\", and the answer is 100+101+101+101 = 403.<div></div>",
                "If instead we turned both strings into \"lee\" or \"eet\", we would get answers of 433 or 417, which are higher.<div></div>",
                "</pre><div></div>",
                "</p><div></div>",
                "<div></div>",
                "<p><b>Note:</b><div></div>",
                "<li><code>0 < s1.length, s2.length <= 1000</code>.</li><div></div>",
                "<li>All elements of each string will have an ASCII value in <code>[97, 122]</code>.</li> <div></div>",
                "</p><div></div>"
            ],
            "metadata": {}
        },
        {
            "cell_type": "code",
            "metadata": {},
            "execution_count": null,
            "source": "%%writefile minimum_ascii_delete_sum_for_two_strings.py\nclass Solution:\n    def minimumDeleteSum(self, s1, s2):\n        \"\"\"\n        :type s1: str\n        :type s2: str\n        :rtype: int\n        \"\"\"",
            "outputs": []
        },
        {
            "cell_type": "code",
            "metadata": {},
            "execution_count": null,
            "source": "# submit\n%run ../../cli.py push --method=submit --path=minimum_ascii_delete_sum_for_two_strings.py --clean=True",
            "outputs": []
        }
    ]
}