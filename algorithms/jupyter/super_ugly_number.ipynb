{
    "nbformat": 4,
    "nbformat_minor": 2,
    "metadata": {
        "kernelspec": {
            "display_name": "Python 3",
            "language": "python",
            "name": "python3"
        },
        "language_info": {
            "codemirror_mode": {
                "name": "ipython",
                "version": 3
            },
            "file_extension": ".py",
            "mimetype": "text/x-python",
            "name": "python",
            "nbconvert_exporter": "python",
            "pygments_lexer": "ipython3",
            "version": "3.7.2"
        }
    },
    "cells": [
        {
            "cell_type": "markdown",
            "source": [
                "<h1>Super Ugly Number</h1>",
                "<p>Write a program to find the <code>n<sup>th</sup></code> super ugly number.</p><div></div>",
                "<div></div>",
                "<p>Super ugly numbers are positive numbers whose all prime factors are in the given prime list <code>primes</code> of size <code>k</code>.</p><div></div>",
                "<div></div>",
                "<p><b>Example:</b></p><div></div>",
                "<div></div>",
                "<pre><div></div>",
                "<b>Input:</b> n = 12, <code>primes</code> = <code>[2,7,13,19]</code><div></div>",
                "<b>Output:</b> 32 <div></div>",
                "<strong>Explanation: </strong><code>[1,2,4,7,8,13,14,16,19,26,28,32] </code>is the sequence of the first 12 <div></div>",
                "             super ugly numbers given <code>primes</code> = <code>[2,7,13,19]</code> of size 4.</pre><div></div>",
                "<div></div>",
                "<p><b>Note:</b></p><div></div>",
                "<div></div>",
                "<ul><div></div>",
                "\t<li><code>1</code> is a super ugly number for any given <code>primes</code>.</li><div></div>",
                "\t<li>The given numbers in <code>primes</code> are in ascending order.</li><div></div>",
                "\t<li>0 &lt; <code>k</code> &le; 100, 0 &lt; <code>n</code> &le; 10<sup>6</sup>, 0 &lt; <code>primes[i]</code> &lt; 1000.</li><div></div>",
                "\t<li>The n<sup>th</sup> super ugly number is guaranteed to fit in a 32-bit signed integer.</li><div></div>",
                "</ul><div></div>",
                "<div></div>"
            ],
            "metadata": {}
        },
        {
            "cell_type": "code",
            "metadata": {},
            "execution_count": null,
            "source": "%%writefile super_ugly_number.py\nclass Solution:\n    def nthSuperUglyNumber(self, n, primes):\n        \"\"\"\n        :type n: int\n        :type primes: List[int]\n        :rtype: int\n        \"\"\"",
            "outputs": []
        },
        {
            "cell_type": "code",
            "metadata": {},
            "execution_count": null,
            "source": "# submit\n%run ../../cli.py push --method=submit --path=super_ugly_number.py --clean=True",
            "outputs": []
        }
    ]
}