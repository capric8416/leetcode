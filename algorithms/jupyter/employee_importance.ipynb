{
    "nbformat": 4,
    "nbformat_minor": 2,
    "metadata": {
        "kernelspec": {
            "display_name": "Python 3",
            "language": "python",
            "name": "python3"
        },
        "language_info": {
            "codemirror_mode": {
                "name": "ipython",
                "version": 3
            },
            "file_extension": ".py",
            "mimetype": "text/x-python",
            "name": "python",
            "nbconvert_exporter": "python",
            "pygments_lexer": "ipython3",
            "version": "3.7.2"
        }
    },
    "cells": [
        {
            "cell_type": "markdown",
            "source": [
                "<h1>Employee Importance</h1>",
                "<p>You are given a data structure of employee information, which includes the employee's <b>unique id</b>, his <b>importance value</b> and his <b>direct</b> subordinates' id. </p><div></div>",
                "<div></div>",
                "<p>For example, employee 1 is the leader of employee 2, and employee 2 is the leader of employee 3. They have importance value 15, 10 and 5, respectively. Then employee 1 has a data structure like [1, 15, [2]], and employee 2 has [2, 10, [3]], and employee 3 has [3, 5, []]. Note that although employee 3 is also a subordinate of employee 1, the relationship is <b>not direct</b>.</p><div></div>",
                "<div></div>",
                "<p>Now given the employee information of a company, and an employee id, you need to return the total importance value of this employee and all his subordinates.</p><div></div>",
                "<div></div>",
                "<p><b>Example 1:</b><br/><div></div>",
                "<pre><div></div>",
                "<b>Input:</b> [[1, 5, [2, 3]], [2, 3, []], [3, 3, []]], 1<div></div>",
                "<b>Output:</b> 11<div></div>",
                "<b>Explanation:</b><div></div>",
                "Employee 1 has importance value 5, and he has two direct subordinates: employee 2 and employee 3. They both have importance value 3. So the total importance value of employee 1 is 5 + 3 + 3 = 11.<div></div>",
                "</pre><div></div>",
                "</p><div></div>",
                "<div></div>",
                "<p><b>Note:</b><br><div></div>",
                "<ol><div></div>",
                "<li>One employee has at most one <b>direct</b> leader and may have several subordinates.</li><div></div>",
                "<li>The maximum number of employees won't exceed 2000.</li><div></div>",
                "</ol><div></div>",
                "</p><div></div>"
            ],
            "metadata": {}
        },
        {
            "cell_type": "code",
            "metadata": {},
            "execution_count": null,
            "source": "%%writefile employee_importance.py\n\"\"\"\n# Employee info\nclass Employee:\n    def __init__(self, id, importance, subordinates):\n        # It's the unique id of each node.\n        # unique id of this employee\n        self.id = id\n        # the importance value of this employee\n        self.importance = importance\n        # the id of direct subordinates\n        self.subordinates = subordinates\n\"\"\"\nclass Solution:\n    def getImportance(self, employees, id):\n        \"\"\"\n        :type employees: Employee\n        :type id: int\n        :rtype: int\n        \"\"\"",
            "outputs": []
        },
        {
            "cell_type": "code",
            "metadata": {},
            "execution_count": null,
            "source": "# submit\n%run ../../cli.py push --method=submit --path=employee_importance.py --clean=True",
            "outputs": []
        }
    ]
}