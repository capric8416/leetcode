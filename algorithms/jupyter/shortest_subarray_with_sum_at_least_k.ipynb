{
    "nbformat": 4,
    "nbformat_minor": 2,
    "metadata": {
        "kernelspec": {
            "display_name": "Python 3",
            "language": "python",
            "name": "python3"
        },
        "language_info": {
            "codemirror_mode": {
                "name": "ipython",
                "version": 3
            },
            "file_extension": ".py",
            "mimetype": "text/x-python",
            "name": "python",
            "nbconvert_exporter": "python",
            "pygments_lexer": "ipython3",
            "version": "3.7.2"
        }
    },
    "cells": [
        {
            "cell_type": "markdown",
            "source": [
                "<h1>Shortest Subarray with Sum at Least K</h1>",
                "<p>Return the <strong>length</strong> of the shortest, non-empty, contiguous&nbsp;subarray of <code>A</code> with sum at least <code>K</code>.</p><div></div>",
                "<div></div>",
                "<p>If there is no non-empty subarray with sum at least <code>K</code>, return <code>-1</code>.</p><div></div>",
                "<div></div>",
                "<p>&nbsp;</p><div></div>",
                "<div></div>",
                "<ol><div></div>",
                "</ol><div></div>",
                "<div></div>",
                "<div><div></div>",
                "<p><strong>Example 1:</strong></p><div></div>",
                "<div></div>",
                "<pre><div></div>",
                "<strong>Input: </strong>A = <span id=\"example-input-1-1\">[1]</span>, K = <span id=\"example-input-1-2\">1</span><div></div>",
                "<strong>Output: </strong><span id=\"example-output-1\">1</span><div></div>",
                "</pre><div></div>",
                "<div></div>",
                "<div><div></div>",
                "<p><strong>Example 2:</strong></p><div></div>",
                "<div></div>",
                "<pre><div></div>",
                "<strong>Input: </strong>A = <span id=\"example-input-2-1\">[1,2]</span>, K = <span id=\"example-input-2-2\">4</span><div></div>",
                "<strong>Output: </strong><span id=\"example-output-2\">-1</span><div></div>",
                "</pre><div></div>",
                "<div></div>",
                "<div><div></div>",
                "<p><strong>Example 3:</strong></p><div></div>",
                "<div></div>",
                "<pre><div></div>",
                "<strong>Input: </strong>A = <span id=\"example-input-3-1\">[2,-1,2]</span>, K = <span id=\"example-input-3-2\">3</span><div></div>",
                "<strong>Output: </strong><span id=\"example-output-3\">3</span><div></div>",
                "</pre><div></div>",
                "<div></div>",
                "<p>&nbsp;</p><div></div>",
                "<div></div>",
                "<p><strong>Note:</strong></p><div></div>",
                "<div></div>",
                "<ol><div></div>",
                "\t<li><code>1 &lt;= A.length &lt;= 50000</code></li><div></div>",
                "\t<li><code>-10 ^ 5&nbsp;&lt;= A[i] &lt;= 10 ^ 5</code></li><div></div>",
                "\t<li><code>1 &lt;= K &lt;= 10 ^ 9</code></li><div></div>",
                "</ol><div></div>",
                "</div><div></div>",
                "</div><div></div>",
                "</div><div></div>",
                "<div></div>"
            ],
            "metadata": {}
        },
        {
            "cell_type": "code",
            "metadata": {},
            "execution_count": null,
            "source": "%%writefile shortest_subarray_with_sum_at_least_k.py\nclass Solution:\n    def shortestSubarray(self, A, K):\n        \"\"\"\n        :type A: List[int]\n        :type K: int\n        :rtype: int\n        \"\"\"",
            "outputs": []
        },
        {
            "cell_type": "code",
            "metadata": {},
            "execution_count": null,
            "source": "# submit\n%run ../../cli.py push --method=submit --path=shortest_subarray_with_sum_at_least_k.py --clean=True",
            "outputs": []
        }
    ]
}