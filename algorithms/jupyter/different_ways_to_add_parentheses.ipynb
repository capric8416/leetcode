{
    "nbformat": 4,
    "nbformat_minor": 2,
    "metadata": {
        "kernelspec": {
            "display_name": "Python 3",
            "language": "python",
            "name": "python3"
        },
        "language_info": {
            "codemirror_mode": {
                "name": "ipython",
                "version": 3
            },
            "file_extension": ".py",
            "mimetype": "text/x-python",
            "name": "python",
            "nbconvert_exporter": "python",
            "pygments_lexer": "ipython3",
            "version": "3.7.2"
        }
    },
    "cells": [
        {
            "cell_type": "markdown",
            "source": [
                "<h1>Different Ways to Add Parentheses</h1>",
                "<p>Given a string of numbers and operators, return all possible results from computing all the different possible ways to group numbers and operators. The valid operators are <code>+</code>, <code>-</code> and <code>*</code>.</p><div></div>",
                "<div></div>",
                "<p><b>Example 1:</b></p><div></div>",
                "<div></div>",
                "<pre><div></div>",
                "<b>Input:</b> <code>&quot;2-1-1&quot;</code><div></div>",
                "<b>Output:</b> <code>[0, 2]</code><div></div>",
                "<strong>Explanation: </strong><div></div>",
                "((2-1)-1) = 0 <div></div>",
                "(2-(1-1)) = 2</pre><div></div>",
                "<div></div>",
                "<p><b>Example 2:</b></p><div></div>",
                "<div></div>",
                "<pre><div></div>",
                "<b>Input: </b><code>&quot;2*3-4*5&quot;</code><div></div>",
                "<b>Output:</b> <code>[-34, -14, -10, -10, 10]</code><div></div>",
                "<strong>Explanation: <div></div>",
                "</strong>(2*(3-(4*5))) = -34 <div></div>",
                "((2*3)-(4*5)) = -14 <div></div>",
                "((2*(3-4))*5) = -10 <div></div>",
                "(2*((3-4)*5)) = -10 <div></div>",
                "(((2*3)-4)*5) = 10<strong><div></div>",
                "</strong></pre><div></div>"
            ],
            "metadata": {}
        },
        {
            "cell_type": "code",
            "metadata": {},
            "execution_count": null,
            "source": "%%writefile different_ways_to_add_parentheses.py\nclass Solution:\n    def diffWaysToCompute(self, input):\n        \"\"\"\n        :type input: str\n        :rtype: List[int]\n        \"\"\"",
            "outputs": []
        },
        {
            "cell_type": "code",
            "metadata": {},
            "execution_count": null,
            "source": "# submit\n%run ../../cli.py push --method=submit --path=different_ways_to_add_parentheses.py --clean=True",
            "outputs": []
        }
    ]
}