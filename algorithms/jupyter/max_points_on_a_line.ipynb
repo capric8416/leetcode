{
    "nbformat": 4,
    "nbformat_minor": 2,
    "metadata": {
        "kernelspec": {
            "display_name": "Python 3",
            "language": "python",
            "name": "python3"
        },
        "language_info": {
            "codemirror_mode": {
                "name": "ipython",
                "version": 3
            },
            "file_extension": ".py",
            "mimetype": "text/x-python",
            "name": "python",
            "nbconvert_exporter": "python",
            "pygments_lexer": "ipython3",
            "version": "3.7.2"
        }
    },
    "cells": [
        {
            "cell_type": "markdown",
            "source": [
                "<h1>Max Points on a Line</h1>",
                "<p>Given <em>n</em> points on a 2D plane, find the maximum number of points that lie on the same straight line.</p><div></div>",
                "<div></div>",
                "<p><strong>Example 1:</strong></p><div></div>",
                "<div></div>",
                "<pre><div></div>",
                "<strong>Input:</strong> [[1,1],[2,2],[3,3]]<div></div>",
                "<strong>Output:</strong> 3<div></div>",
                "<strong>Explanation:</strong><div></div>",
                "^<div></div>",
                "|<div></div>",
                "| &nbsp; &nbsp; &nbsp; &nbsp;o<div></div>",
                "| &nbsp; &nbsp; o<div></div>",
                "| &nbsp;o &nbsp;<div></div>",
                "+-------------&gt;<div></div>",
                "0 &nbsp;1 &nbsp;2 &nbsp;3  4<div></div>",
                "</pre><div></div>",
                "<div></div>",
                "<p><strong>Example 2:</strong></p><div></div>",
                "<div></div>",
                "<pre><div></div>",
                "<strong>Input:</strong> [[1,1],[3,2],[5,3],[4,1],[2,3],[1,4]]<div></div>",
                "<strong>Output:</strong> 4<div></div>",
                "<strong>Explanation:</strong><div></div>",
                "^<div></div>",
                "|<div></div>",
                "|  o<div></div>",
                "| &nbsp;&nbsp;&nbsp;&nbsp;o&nbsp;&nbsp;      o<div></div>",
                "| &nbsp;&nbsp;&nbsp;&nbsp;   o<div></div>",
                "| &nbsp;o &nbsp;      o<div></div>",
                "+-------------------&gt;<div></div>",
                "0 &nbsp;1 &nbsp;2 &nbsp;3 &nbsp;4 &nbsp;5 &nbsp;6<div></div>",
                "</pre><div></div>",
                "<div></div>"
            ],
            "metadata": {}
        },
        {
            "cell_type": "code",
            "metadata": {},
            "execution_count": null,
            "source": "%%writefile max_points_on_a_line.py\n# Definition for a point.\n# class Point:\n#     def __init__(self, a=0, b=0):\n#         self.x = a\n#         self.y = b\n\nclass Solution:\n    def maxPoints(self, points):\n        \"\"\"\n        :type points: List[Point]\n        :rtype: int\n        \"\"\"",
            "outputs": []
        },
        {
            "cell_type": "code",
            "metadata": {},
            "execution_count": null,
            "source": "# submit\n%run ../../cli.py push --method=submit --path=max_points_on_a_line.py --clean=True",
            "outputs": []
        }
    ]
}