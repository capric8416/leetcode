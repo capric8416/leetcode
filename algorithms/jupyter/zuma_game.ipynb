{
    "nbformat": 4,
    "nbformat_minor": 2,
    "metadata": {
        "kernelspec": {
            "display_name": "Python 3",
            "language": "python",
            "name": "python3"
        },
        "language_info": {
            "codemirror_mode": {
                "name": "ipython",
                "version": 3
            },
            "file_extension": ".py",
            "mimetype": "text/x-python",
            "name": "python",
            "nbconvert_exporter": "python",
            "pygments_lexer": "ipython3",
            "version": "3.7.2"
        }
    },
    "cells": [
        {
            "cell_type": "markdown",
            "source": [
                "<h1>Zuma Game</h1>",
                "<p>Think about Zuma Game. You have a row of balls on the table, colored red(R), yellow(Y), blue(B), green(G), and white(W). You also have several balls in your hand.</p><div></div>",
                "<p><div></div>",
                "Each time, you may choose a ball in your hand, and insert it into the row (including the leftmost place and rightmost place). Then, if there is a group of 3 or more balls in the same color touching, remove these balls. Keep doing this until no more balls can be removed.</p><div></div>",
                "<p><div></div>",
                "Find the minimal balls you have to insert to remove all the balls on the table. If you cannot remove all the balls, output -1.<div></div>",
                "</p><div></div>",
                "<pre><div></div>",
                "<p><b>Examples:</b><br /><div></div>",
                "<b>Input:</b> \"WRRBBW\", \"RB\"<div></div>",
                "<b>Output:</b> -1<div></div>",
                "<b>Explanation:</b> WRRBBW -> WRR[R]BBW -> WBBW -> WBB[B]W -> WW<div></div>",
                "<div></div>",
                "<b>Input:</b> \"WWRRBBWW\", \"WRBRW\"<div></div>",
                "<b>Output:</b> 2<div></div>",
                "<b>Explanation:</b> WWRRBBWW -> WWRR[R]BBWW -> WWBBWW -> WWBB[B]WW -> WWWW -> empty<div></div>",
                "<div></div>",
                "<b>Input:</b>\"G\", \"GGGGG\"<div></div>",
                "<b>Output:</b> 2<div></div>",
                "<b>Explanation:</b> G -> G[G] -> GG[G] -> empty <div></div>",
                "<div></div>",
                "<b>Input:</b> \"RBYYBBRRB\", \"YRBGB\"<div></div>",
                "<b>Output:</b> 3<div></div>",
                "<b>Explanation:</b> RBYYBBRRB -> RBYY[Y]BBRRB -> RBBBRRB -> RRRB -> B -> B[B] -> BB[B] -> empty <div></div>",
                "</pre><div></div>",
                "</p><div></div>",
                "<div></div>",
                "<p><b>Note:</b><br><div></div>",
                "<ol><div></div>",
                "<li>You may assume that the initial row of balls on the table won\u2019t have any 3 or more consecutive balls with the same color.</li><div></div>",
                "<li>The number of balls on the table won't exceed 20, and the string represents these balls is called \"board\" in the input.</li><div></div>",
                "<li>The number of balls in your hand won't exceed 5, and the string represents these balls is called \"hand\" in the input.</li><div></div>",
                "<li>Both input strings will be non-empty and only contain characters 'R','Y','B','G','W'.</li><div></div>",
                "</ol><div></div>",
                "</p><div></div>"
            ],
            "metadata": {}
        },
        {
            "cell_type": "code",
            "metadata": {},
            "execution_count": null,
            "source": "%%writefile zuma_game.py\nclass Solution:\n    def findMinStep(self, board, hand):\n        \"\"\"\n        :type board: str\n        :type hand: str\n        :rtype: int\n        \"\"\"",
            "outputs": []
        },
        {
            "cell_type": "code",
            "metadata": {},
            "execution_count": null,
            "source": "# submit\n%run ../../cli.py push --method=submit --path=zuma_game.py --clean=True",
            "outputs": []
        }
    ]
}