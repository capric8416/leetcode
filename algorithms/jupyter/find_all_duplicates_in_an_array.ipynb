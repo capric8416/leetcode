{
    "nbformat": 4,
    "nbformat_minor": 2,
    "metadata": {
        "kernelspec": {
            "display_name": "Python 3",
            "language": "python",
            "name": "python3"
        },
        "language_info": {
            "codemirror_mode": {
                "name": "ipython",
                "version": 3
            },
            "file_extension": ".py",
            "mimetype": "text/x-python",
            "name": "python",
            "nbconvert_exporter": "python",
            "pygments_lexer": "ipython3",
            "version": "3.7.2"
        }
    },
    "cells": [
        {
            "cell_type": "markdown",
            "source": [
                "<h1>Find All Duplicates in an Array</h1>",
                "<p>Given an array of integers, 1 &le; a[i] &le; <i>n</i> (<i>n</i> = size of array), some elements appear <b>twice</b> and others appear <b>once</b>.</p><div></div>",
                "<div></div>",
                "<p>Find all the elements that appear <b>twice</b> in this array.</p><div></div>",
                "<div></div>",
                "<p>Could you do it without extra space and in O(<i>n</i>) runtime?</p><div></div>",
                "</p><div></div>",
                "<p><b>Example:</b><br/><div></div>",
                "<pre><div></div>",
                "<b>Input:</b><div></div>",
                "[4,3,2,7,8,2,3,1]<div></div>",
                "<div></div>",
                "<b>Output:</b><div></div>",
                "[2,3]<div></div>",
                "</pre><div></div>"
            ],
            "metadata": {}
        },
        {
            "cell_type": "code",
            "metadata": {},
            "execution_count": null,
            "source": "%%writefile find_all_duplicates_in_an_array.py\nclass Solution:\n    def findDuplicates(self, nums):\n        \"\"\"\n        :type nums: List[int]\n        :rtype: List[int]\n        \"\"\"",
            "outputs": []
        },
        {
            "cell_type": "code",
            "metadata": {},
            "execution_count": null,
            "source": "# submit\n%run ../../cli.py push --method=submit --path=find_all_duplicates_in_an_array.py --clean=True",
            "outputs": []
        }
    ]
}