{
    "nbformat": 4,
    "nbformat_minor": 2,
    "metadata": {
        "kernelspec": {
            "display_name": "Python 3",
            "language": "python",
            "name": "python3"
        },
        "language_info": {
            "codemirror_mode": {
                "name": "ipython",
                "version": 3
            },
            "file_extension": ".py",
            "mimetype": "text/x-python",
            "name": "python",
            "nbconvert_exporter": "python",
            "pygments_lexer": "ipython3",
            "version": "3.7.2"
        }
    },
    "cells": [
        {
            "cell_type": "markdown",
            "source": [
                "<h1>Maximum Binary Tree</h1>",
                "<p><div></div>",
                "Given an integer array with no duplicates. A maximum tree building on this array is defined as follow:<div></div>",
                "<ol><div></div>",
                "<li>The root is the maximum number in the array. </li><div></div>",
                "<li>The left subtree is the maximum tree constructed from left part subarray divided by the maximum number.</li><div></div>",
                "<li>The right subtree is the maximum tree constructed from right part subarray divided by the maximum number.</li> <div></div>",
                "</ol><div></div>",
                "</p><div></div>",
                "<div></div>",
                "<p><div></div>",
                "Construct the maximum tree by the given array and output the root node of this tree.<div></div>",
                "</p><div></div>",
                "<div></div>",
                "<p><b>Example 1:</b><br /><div></div>",
                "<pre><div></div>",
                "<b>Input:</b> [3,2,1,6,0,5]<div></div>",
                "<b>Output:</b> return the tree root node representing the following tree:<div></div>",
                "<div></div>",
                "      6<div></div>",
                "    /   \\<div></div>",
                "   3     5<div></div>",
                "    \\    / <div></div>",
                "     2  0   <div></div>",
                "       \\<div></div>",
                "        1<div></div>",
                "</pre><div></div>",
                "</p><div></div>",
                "<div></div>",
                "<p><b>Note:</b><br><div></div>",
                "<ol><div></div>",
                "<li>The size of the given array will be in the range [1,1000].</li><div></div>",
                "</ol><div></div>",
                "</p><div></div>"
            ],
            "metadata": {}
        },
        {
            "cell_type": "code",
            "metadata": {},
            "execution_count": null,
            "source": "%%writefile maximum_binary_tree.py\nclass Solution:\n    def constructMaximumBinaryTree(self, nums):\n        \"\"\"\n        :type nums: List[int]\n        :rtype: TreeNode\n        \"\"\"",
            "outputs": []
        },
        {
            "cell_type": "code",
            "metadata": {},
            "execution_count": null,
            "source": "# submit\n%run ../../cli.py push --method=submit --path=maximum_binary_tree.py --clean=True",
            "outputs": []
        }
    ]
}