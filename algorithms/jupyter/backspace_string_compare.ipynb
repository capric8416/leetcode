{
    "nbformat": 4,
    "nbformat_minor": 2,
    "metadata": {
        "kernelspec": {
            "display_name": "Python 3",
            "language": "python",
            "name": "python3"
        },
        "language_info": {
            "codemirror_mode": {
                "name": "ipython",
                "version": 3
            },
            "file_extension": ".py",
            "mimetype": "text/x-python",
            "name": "python",
            "nbconvert_exporter": "python",
            "pygments_lexer": "ipython3",
            "version": "3.7.2"
        }
    },
    "cells": [
        {
            "cell_type": "markdown",
            "source": [
                "<h1>Backspace String Compare</h1>",
                "<p>Given two&nbsp;strings&nbsp;<code>S</code>&nbsp;and <code>T</code>,&nbsp;return if they are equal when both are typed into empty text editors. <code>#</code> means a backspace character.</p><div></div>",
                "<div></div>",
                "<div><div></div>",
                "<p><strong>Example 1:</strong></p><div></div>",
                "<div></div>",
                "<pre><div></div>",
                "<strong>Input: </strong>S = <span id=\"example-input-1-1\">&quot;ab#c&quot;</span>, T = <span id=\"example-input-1-2\">&quot;ad#c&quot;</span><div></div>",
                "<strong>Output: </strong><span id=\"example-output-1\">true<div></div>",
                "</span><span><strong>Explanation</strong>: Both S and T become &quot;ac&quot;.</span><div></div>",
                "</pre><div></div>",
                "<div></div>",
                "<div><div></div>",
                "<p><strong>Example 2:</strong></p><div></div>",
                "<div></div>",
                "<pre><div></div>",
                "<strong>Input: </strong>S = <span id=\"example-input-2-1\">&quot;ab##&quot;</span>, T = <span id=\"example-input-2-2\">&quot;c#d#&quot;</span><div></div>",
                "<strong>Output: </strong><span id=\"example-output-2\">true<div></div>",
                "</span><span><strong>Explanation</strong>: Both S and T become &quot;&quot;.</span><div></div>",
                "</pre><div></div>",
                "<div></div>",
                "<div><div></div>",
                "<p><strong>Example 3:</strong></p><div></div>",
                "<div></div>",
                "<pre><div></div>",
                "<strong>Input: </strong>S = <span id=\"example-input-3-1\">&quot;a##c&quot;</span>, T = <span id=\"example-input-3-2\">&quot;#a#c&quot;</span><div></div>",
                "<strong>Output: </strong><span id=\"example-output-3\">true<div></div>",
                "</span><span><strong>Explanation</strong>: Both S and T become &quot;c&quot;.</span><div></div>",
                "</pre><div></div>",
                "<div></div>",
                "<div><div></div>",
                "<p><strong>Example 4:</strong></p><div></div>",
                "<div></div>",
                "<pre><div></div>",
                "<strong>Input: </strong>S = <span id=\"example-input-4-1\">&quot;a#c&quot;</span>, T = <span id=\"example-input-4-2\">&quot;b&quot;</span><div></div>",
                "<strong>Output: </strong><span id=\"example-output-4\">false<div></div>",
                "</span><span><strong>Explanation</strong>: S becomes &quot;c&quot; while T becomes &quot;b&quot;.</span><div></div>",
                "</pre><div></div>",
                "<div></div>",
                "<p><span><strong>Note</strong>:</span></p><div></div>",
                "<div></div>",
                "<ol><div></div>",
                "\t<li><code><span>1 &lt;= S.length &lt;= 200</span></code></li><div></div>",
                "\t<li><code><span>1 &lt;= T.length &lt;= 200</span></code></li><div></div>",
                "\t<li><span><code>S</code>&nbsp;and <code>T</code> only contain&nbsp;lowercase letters and <code>&#39;#&#39;</code> characters.</span></li><div></div>",
                "</ol><div></div>",
                "<div></div>",
                "<p><strong>Follow up:</strong></p><div></div>",
                "<div></div>",
                "<ul><div></div>",
                "\t<li>Can you solve it in <code>O(N)</code> time and <code>O(1)</code> space?</li><div></div>",
                "</ul><div></div>",
                "</div><div></div>",
                "</div><div></div>",
                "</div><div></div>",
                "</div><div></div>",
                "<div></div>"
            ],
            "metadata": {}
        },
        {
            "cell_type": "code",
            "metadata": {},
            "execution_count": null,
            "source": "%%writefile backspace_string_compare.py\nclass Solution:\n    def backspaceCompare(self, S, T):\n        \"\"\"\n        :type S: str\n        :type T: str\n        :rtype: bool\n        \"\"\"",
            "outputs": []
        },
        {
            "cell_type": "code",
            "metadata": {},
            "execution_count": null,
            "source": "# submit\n%run ../../cli.py push --method=submit --path=backspace_string_compare.py --clean=True",
            "outputs": []
        }
    ]
}