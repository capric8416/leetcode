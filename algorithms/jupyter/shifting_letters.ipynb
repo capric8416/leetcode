{
    "nbformat": 4,
    "nbformat_minor": 2,
    "metadata": {
        "kernelspec": {
            "display_name": "Python 3",
            "language": "python",
            "name": "python3"
        },
        "language_info": {
            "codemirror_mode": {
                "name": "ipython",
                "version": 3
            },
            "file_extension": ".py",
            "mimetype": "text/x-python",
            "name": "python",
            "nbconvert_exporter": "python",
            "pygments_lexer": "ipython3",
            "version": "3.7.2"
        }
    },
    "cells": [
        {
            "cell_type": "markdown",
            "source": [
                "<h1>Shifting Letters</h1>",
                "<p>We have a string <code>S</code> of lowercase letters, and an integer array <code>shifts</code>.</p><div></div>",
                "<div></div>",
                "<p>Call the <em>shift</em> of a letter, the next letter in the alphabet, (wrapping around so that <code>&#39;z&#39;</code> becomes <code>&#39;a&#39;</code>).&nbsp;</p><div></div>",
                "<div></div>",
                "<p>For example, <code>shift(&#39;a&#39;) = &#39;b&#39;</code>, <code>shift(&#39;t&#39;) = &#39;u&#39;</code>, and <code>shift(&#39;z&#39;) = &#39;a&#39;</code>.</p><div></div>",
                "<div></div>",
                "<p>Now for each <code>shifts[i] = x</code>, we want to shift the first <code>i+1</code>&nbsp;letters of <code>S</code>, <code>x</code> times.</p><div></div>",
                "<div></div>",
                "<p>Return the final string&nbsp;after all such shifts to <code>S</code> are applied.</p><div></div>",
                "<div></div>",
                "<p><strong>Example 1:</strong></p><div></div>",
                "<div></div>",
                "<pre><div></div>",
                "<strong>Input: </strong>S = &quot;abc&quot;, shifts = [3,5,9]<div></div>",
                "<strong>Output: </strong>&quot;rpl&quot;<div></div>",
                "<strong>Explanation: </strong><div></div>",
                "We start with &quot;abc&quot;.<div></div>",
                "After shifting the first 1 letters of S by 3, we have &quot;dbc&quot;.<div></div>",
                "After shifting the first 2 letters of S by 5, we have &quot;igc&quot;.<div></div>",
                "After shifting the first 3 letters of S by 9, we have &quot;rpl&quot;, the answer.<div></div>",
                "</pre><div></div>",
                "<div></div>",
                "<p><strong>Note:</strong></p><div></div>",
                "<div></div>",
                "<ol><div></div>",
                "\t<li><code>1 &lt;= S.length = shifts.length &lt;= 20000</code></li><div></div>",
                "\t<li><code>0 &lt;= shifts[i] &lt;= 10 ^ 9</code></li><div></div>",
                "</ol><div></div>",
                "<div></div>"
            ],
            "metadata": {}
        },
        {
            "cell_type": "code",
            "metadata": {},
            "execution_count": null,
            "source": "%%writefile shifting_letters.py\nclass Solution:\n    def shiftingLetters(self, S, shifts):\n        \"\"\"\n        :type S: str\n        :type shifts: List[int]\n        :rtype: str\n        \"\"\"",
            "outputs": []
        },
        {
            "cell_type": "code",
            "metadata": {},
            "execution_count": null,
            "source": "# submit\n%run ../../cli.py push --method=submit --path=shifting_letters.py --clean=True",
            "outputs": []
        }
    ]
}