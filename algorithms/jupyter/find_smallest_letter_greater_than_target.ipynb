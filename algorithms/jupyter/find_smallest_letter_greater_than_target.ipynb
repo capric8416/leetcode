{
    "nbformat": 4,
    "nbformat_minor": 2,
    "metadata": {
        "kernelspec": {
            "display_name": "Python 3",
            "language": "python",
            "name": "python3"
        },
        "language_info": {
            "codemirror_mode": {
                "name": "ipython",
                "version": 3
            },
            "file_extension": ".py",
            "mimetype": "text/x-python",
            "name": "python",
            "nbconvert_exporter": "python",
            "pygments_lexer": "ipython3",
            "version": "3.7.2"
        }
    },
    "cells": [
        {
            "cell_type": "markdown",
            "source": [
                "<h1>Find Smallest Letter Greater Than Target</h1>",
                "<p><div></div>",
                "Given a list of sorted characters <code>letters</code> containing only lowercase letters, and given a target letter <code>target</code>, find the smallest element in the list that is larger than the given target.<div></div>",
                "</p><p><div></div>",
                "Letters also wrap around.  For example, if the target is <code>target = 'z'</code> and <code>letters = ['a', 'b']</code>, the answer is <code>'a'</code>.<div></div>",
                "</p><div></div>",
                "<div></div>",
                "<p><b>Examples:</b><br /><div></div>",
                "<pre><div></div>",
                "<b>Input:</b><div></div>",
                "letters = [\"c\", \"f\", \"j\"]<div></div>",
                "target = \"a\"<div></div>",
                "<b>Output:</b> \"c\"<div></div>",
                "<div></div>",
                "<b>Input:</b><div></div>",
                "letters = [\"c\", \"f\", \"j\"]<div></div>",
                "target = \"c\"<div></div>",
                "<b>Output:</b> \"f\"<div></div>",
                "<div></div>",
                "<b>Input:</b><div></div>",
                "letters = [\"c\", \"f\", \"j\"]<div></div>",
                "target = \"d\"<div></div>",
                "<b>Output:</b> \"f\"<div></div>",
                "<div></div>",
                "<b>Input:</b><div></div>",
                "letters = [\"c\", \"f\", \"j\"]<div></div>",
                "target = \"g\"<div></div>",
                "<b>Output:</b> \"j\"<div></div>",
                "<div></div>",
                "<b>Input:</b><div></div>",
                "letters = [\"c\", \"f\", \"j\"]<div></div>",
                "target = \"j\"<div></div>",
                "<b>Output:</b> \"c\"<div></div>",
                "<div></div>",
                "<b>Input:</b><div></div>",
                "letters = [\"c\", \"f\", \"j\"]<div></div>",
                "target = \"k\"<div></div>",
                "<b>Output:</b> \"c\"<div></div>",
                "</pre><div></div>",
                "</p><div></div>",
                "<div></div>",
                "<p><b>Note:</b><br><div></div>",
                "<ol><div></div>",
                "<li><code>letters</code> has a length in range <code>[2, 10000]</code>.</li><div></div>",
                "<li><code>letters</code> consists of lowercase letters, and contains at least 2 unique letters.</li><div></div>",
                "<li><code>target</code> is a lowercase letter.</li><div></div>",
                "</ol><div></div>",
                "</p><div></div>"
            ],
            "metadata": {}
        },
        {
            "cell_type": "code",
            "metadata": {},
            "execution_count": null,
            "source": "%%writefile find_smallest_letter_greater_than_target.py\nclass Solution:\n    def nextGreatestLetter(self, letters, target):\n        \"\"\"\n        :type letters: List[str]\n        :type target: str\n        :rtype: str\n        \"\"\"",
            "outputs": []
        },
        {
            "cell_type": "code",
            "metadata": {},
            "execution_count": null,
            "source": "# submit\n%run ../../cli.py push --method=submit --path=find_smallest_letter_greater_than_target.py --clean=True",
            "outputs": []
        }
    ]
}