{
    "nbformat": 4,
    "nbformat_minor": 2,
    "metadata": {
        "kernelspec": {
            "display_name": "Python 3",
            "language": "python",
            "name": "python3"
        },
        "language_info": {
            "codemirror_mode": {
                "name": "ipython",
                "version": 3
            },
            "file_extension": ".py",
            "mimetype": "text/x-python",
            "name": "python",
            "nbconvert_exporter": "python",
            "pygments_lexer": "ipython3",
            "version": "3.7.2"
        }
    },
    "cells": [
        {
            "cell_type": "markdown",
            "source": [
                "<h1>Valid Parenthesis String</h1>",
                "<p><div></div>",
                "Given a string containing only three types of characters: '(', ')' and '*', write a function to check whether this string is valid. We define the validity of a string by these rules:<div></div>",
                "<ol><div></div>",
                "<li>Any left parenthesis <code>'('</code> must have a corresponding right parenthesis <code>')'</code>.</li><div></div>",
                "<li>Any right parenthesis <code>')'</code> must have a corresponding left parenthesis <code>'('</code>.</li><div></div>",
                "<li>Left parenthesis <code>'('</code> must go before the corresponding right parenthesis <code>')'</code>.</li><div></div>",
                "<li><code>'*'</code> could be treated as a single right parenthesis <code>')'</code> or a single left parenthesis <code>'('</code> or an empty string.</li><div></div>",
                "<li>An empty string is also valid.</li><div></div>",
                "</ol><div></div>",
                "</p><div></div>",
                "<div></div>",
                "<p><b>Example 1:</b><br /><div></div>",
                "<pre><div></div>",
                "<b>Input:</b> \"()\"<div></div>",
                "<b>Output:</b> True<div></div>",
                "</pre><div></div>",
                "</p><div></div>",
                "<div></div>",
                "<p><b>Example 2:</b><br /><div></div>",
                "<pre><div></div>",
                "<b>Input:</b> \"(*)\"<div></div>",
                "<b>Output:</b> True<div></div>",
                "</pre><div></div>",
                "</p><div></div>",
                "<div></div>",
                "<p><b>Example 3:</b><br /><div></div>",
                "<pre><div></div>",
                "<b>Input:</b> \"(*))\"<div></div>",
                "<b>Output:</b> True<div></div>",
                "</pre><div></div>",
                "</p><div></div>",
                "<div></div>",
                "<p><b>Note:</b><br><div></div>",
                "<ol><div></div>",
                "<li>The string size will be in the range [1, 100].</li><div></div>",
                "</ol><div></div>",
                "</p><div></div>"
            ],
            "metadata": {}
        },
        {
            "cell_type": "code",
            "metadata": {},
            "execution_count": null,
            "source": "%%writefile valid_parenthesis_string.py\nclass Solution:\n    def checkValidString(self, s):\n        \"\"\"\n        :type s: str\n        :rtype: bool\n        \"\"\"",
            "outputs": []
        },
        {
            "cell_type": "code",
            "metadata": {},
            "execution_count": null,
            "source": "# submit\n%run ../../cli.py push --method=submit --path=valid_parenthesis_string.py --clean=True",
            "outputs": []
        }
    ]
}