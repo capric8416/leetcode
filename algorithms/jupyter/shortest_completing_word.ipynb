{
    "nbformat": 4,
    "nbformat_minor": 2,
    "metadata": {
        "kernelspec": {
            "display_name": "Python 3",
            "language": "python",
            "name": "python3"
        },
        "language_info": {
            "codemirror_mode": {
                "name": "ipython",
                "version": 3
            },
            "file_extension": ".py",
            "mimetype": "text/x-python",
            "name": "python",
            "nbconvert_exporter": "python",
            "pygments_lexer": "ipython3",
            "version": "3.7.2"
        }
    },
    "cells": [
        {
            "cell_type": "markdown",
            "source": [
                "<h1>Shortest Completing Word</h1>",
                "<p><div></div>",
                "Find the minimum length word from a given dictionary <code>words</code>, which has all the letters from the string <code>licensePlate</code>.  Such a word is said to <i>complete</i> the given string <code>licensePlate</code><div></div>",
                "</p><p><div></div>",
                "Here, for letters we ignore case.  For example, <code>\"P\"</code> on the <code>licensePlate</code> still matches <code>\"p\"</code> on the word.<div></div>",
                "</p><p><div></div>",
                "It is guaranteed an answer exists.  If there are multiple answers, return the one that occurs first in the array.<div></div>",
                "</p><p><div></div>",
                "The license plate might have the same letter occurring multiple times.  For example, given a <code>licensePlate</code> of <code>\"PP\"</code>, the word <code>\"pair\"</code> does not complete the <code>licensePlate</code>, but the word <code>\"supper\"</code> does.<div></div>",
                "</p><p><div></div>",
                "<div></div>",
                "<p><b>Example 1:</b><br /><div></div>",
                "<pre><div></div>",
                "<b>Input:</b> licensePlate = \"1s3 PSt\", words = [\"step\", \"steps\", \"stripe\", \"stepple\"]<div></div>",
                "<b>Output:</b> \"steps\"<div></div>",
                "<b>Explanation:</b> The smallest length word that contains the letters \"S\", \"P\", \"S\", and \"T\".<div></div>",
                "Note that the answer is not \"step\", because the letter \"s\" must occur in the word twice.<div></div>",
                "Also note that we ignored case for the purposes of comparing whether a letter exists in the word.<div></div>",
                "</pre><div></div>",
                "</p><div></div>",
                "<div></div>",
                "<p><b>Example 2:</b><br /><div></div>",
                "<pre><div></div>",
                "<b>Input:</b> licensePlate = \"1s3 456\", words = [\"looks\", \"pest\", \"stew\", \"show\"]<div></div>",
                "<b>Output:</b> \"pest\"<div></div>",
                "<b>Explanation:</b> There are 3 smallest length words that contains the letters \"s\".<div></div>",
                "We return the one that occurred first.<div></div>",
                "</pre><div></div>",
                "</p><div></div>",
                "<div></div>",
                "<p><b>Note:</b><br><div></div>",
                "<ol><div></div>",
                "<li><code>licensePlate</code> will be a string with length in range <code>[1, 7]</code>.</li><div></div>",
                "<li><code>licensePlate</code> will contain digits, spaces, or letters (uppercase or lowercase).</li><div></div>",
                "<li><code>words</code> will have a length in the range <code>[10, 1000]</code>.</li><div></div>",
                "<li>Every <code>words[i]</code> will consist of lowercase letters, and have length in range <code>[1, 15]</code>.</li><div></div>",
                "</ol><div></div>",
                "</p><div></div>"
            ],
            "metadata": {}
        },
        {
            "cell_type": "code",
            "metadata": {},
            "execution_count": null,
            "source": "%%writefile shortest_completing_word.py\nclass Solution:\n    def shortestCompletingWord(self, licensePlate, words):\n        \"\"\"\n        :type licensePlate: str\n        :type words: List[str]\n        :rtype: str\n        \"\"\"",
            "outputs": []
        },
        {
            "cell_type": "code",
            "metadata": {},
            "execution_count": null,
            "source": "# submit\n%run ../../cli.py push --method=submit --path=shortest_completing_word.py --clean=True",
            "outputs": []
        }
    ]
}