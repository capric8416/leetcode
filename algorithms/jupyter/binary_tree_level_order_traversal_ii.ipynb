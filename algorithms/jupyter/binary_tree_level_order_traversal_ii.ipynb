{
    "nbformat": 4,
    "nbformat_minor": 2,
    "metadata": {
        "kernelspec": {
            "display_name": "Python 3",
            "language": "python",
            "name": "python3"
        },
        "language_info": {
            "codemirror_mode": {
                "name": "ipython",
                "version": 3
            },
            "file_extension": ".py",
            "mimetype": "text/x-python",
            "name": "python",
            "nbconvert_exporter": "python",
            "pygments_lexer": "ipython3",
            "version": "3.7.2"
        }
    },
    "cells": [
        {
            "cell_type": "markdown",
            "source": [
                "<h1>Binary Tree Level Order Traversal II</h1>",
                "<p>Given a binary tree, return the <i>bottom-up level order</i> traversal of its nodes' values. (ie, from left to right, level by level from leaf to root).</p><div></div>",
                "<div></div>",
                "<p><div></div>",
                "For example:<br /><div></div>",
                "Given binary tree <code>[3,9,20,null,null,15,7]</code>,<br /><div></div>",
                "<pre><div></div>",
                "    3<div></div>",
                "   / \\<div></div>",
                "  9  20<div></div>",
                "    /  \\<div></div>",
                "   15   7<div></div>",
                "</pre><div></div>",
                "</p><div></div>",
                "<p><div></div>",
                "return its bottom-up level order traversal as:<br /><div></div>",
                "<pre><div></div>",
                "[<div></div>",
                "  [15,7],<div></div>",
                "  [9,20],<div></div>",
                "  [3]<div></div>",
                "]<div></div>",
                "</pre><div></div>",
                "</p><div></div>"
            ],
            "metadata": {}
        },
        {
            "cell_type": "code",
            "metadata": {},
            "execution_count": null,
            "source": "%%writefile binary_tree_level_order_traversal_ii.py\n# Definition for a binary tree node.\n# class TreeNode:\n#     def __init__(self, x):\n#         self.val = x\n#         self.left = None\n#         self.right = None\n\nclass Solution:\n    def levelOrderBottom(self, root):\n        \"\"\"\n        :type root: TreeNode\n        :rtype: List[List[int]]\n        \"\"\"",
            "outputs": []
        },
        {
            "cell_type": "code",
            "metadata": {},
            "execution_count": null,
            "source": "# submit\n%run ../../cli.py push --method=submit --path=binary_tree_level_order_traversal_ii.py --clean=True",
            "outputs": []
        }
    ]
}