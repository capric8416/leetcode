{
    "nbformat": 4,
    "nbformat_minor": 2,
    "metadata": {
        "kernelspec": {
            "display_name": "Python 3",
            "language": "python",
            "name": "python3"
        },
        "language_info": {
            "codemirror_mode": {
                "name": "ipython",
                "version": 3
            },
            "file_extension": ".py",
            "mimetype": "text/x-python",
            "name": "python",
            "nbconvert_exporter": "python",
            "pygments_lexer": "ipython3",
            "version": "3.7.2"
        }
    },
    "cells": [
        {
            "cell_type": "markdown",
            "source": [
                "<h1>Two Sum IV - Input is a BST</h1>",
                "<p>Given a Binary Search Tree and a target number, return true if there exist two elements in the BST such that their sum is equal to the given target.</p><div></div>",
                "<div></div>",
                "<p><b>Example 1:</b><br /><div></div>",
                "<pre><div></div>",
                "<b>Input:</b> <div></div>",
                "    5<div></div>",
                "   / \\<div></div>",
                "  3   6<div></div>",
                " / \\   \\<div></div>",
                "2   4   7<div></div>",
                "<div></div>",
                "Target = 9<div></div>",
                "<div></div>",
                "<b>Output:</b> True<div></div>",
                "</pre><div></div>",
                "</p><div></div>",
                "<div></div>",
                "<div></div>",
                "<p><b>Example 2:</b><br /><div></div>",
                "<pre><div></div>",
                "<b>Input:</b> <div></div>",
                "    5<div></div>",
                "   / \\<div></div>",
                "  3   6<div></div>",
                " / \\   \\<div></div>",
                "2   4   7<div></div>",
                "<div></div>",
                "Target = 28<div></div>",
                "<div></div>",
                "<b>Output:</b> False<div></div>",
                "</pre><div></div>",
                "</p><div></div>",
                "<div></div>",
                "<div></div>"
            ],
            "metadata": {}
        },
        {
            "cell_type": "code",
            "metadata": {},
            "execution_count": null,
            "source": "%%writefile two_sum_iv_input_is_a_bst.py\nclass Solution:\n    def findTarget(self, root, k):\n        \"\"\"\n        :type root: TreeNode\n        :type k: int\n        :rtype: bool\n        \"\"\"",
            "outputs": []
        },
        {
            "cell_type": "code",
            "metadata": {},
            "execution_count": null,
            "source": "# submit\n%run ../../cli.py push --method=submit --path=two_sum_iv_input_is_a_bst.py --clean=True",
            "outputs": []
        }
    ]
}