{
    "nbformat": 4,
    "nbformat_minor": 2,
    "metadata": {
        "kernelspec": {
            "display_name": "Python 3",
            "language": "python",
            "name": "python3"
        },
        "language_info": {
            "codemirror_mode": {
                "name": "ipython",
                "version": 3
            },
            "file_extension": ".py",
            "mimetype": "text/x-python",
            "name": "python",
            "nbconvert_exporter": "python",
            "pygments_lexer": "ipython3",
            "version": "3.7.2"
        }
    },
    "cells": [
        {
            "cell_type": "markdown",
            "source": [
                "<h1>Verifying an Alien Dictionary</h1>",
                "<p>In an alien language, surprisingly they also use english lowercase letters, but possibly&nbsp;in a different <code>order</code>. The&nbsp;<code>order</code> of the alphabet&nbsp;is some permutation&nbsp;of lowercase letters.</p><div></div>",
                "<div></div>",
                "<p>Given a sequence of <code>words</code>&nbsp;written in the alien language,&nbsp;and the <code>order</code> of the alphabet,&nbsp;return <code>true</code> if and only if the given <code>words</code>&nbsp;are sorted lexicographicaly in this alien language.</p><div></div>",
                "<div></div>",
                "<p>&nbsp;</p><div></div>",
                "<div></div>",
                "<div><div></div>",
                "<p><strong>Example 1:</strong></p><div></div>",
                "<div></div>",
                "<pre><div></div>",
                "<strong>Input: </strong>words = <span id=\"example-input-1-1\">[&quot;hello&quot;,&quot;leetcode&quot;]</span>, order = <span id=\"example-input-1-2\">&quot;hlabcdefgijkmnopqrstuvwxyz&quot;</span><div></div>",
                "<strong>Output: </strong><span id=\"example-output-1\">true</span><div></div>",
                "<strong>Explanation: </strong><span id=\"example-output-1\">As &#39;h&#39; comes before &#39;l&#39; in this language, then the sequence is sorted.</span><div></div>",
                "</pre><div></div>",
                "<div></div>",
                "<div><div></div>",
                "<p><strong>Example 2:</strong></p><div></div>",
                "<div></div>",
                "<pre><div></div>",
                "<strong>Input: </strong>words = <span id=\"example-input-2-1\">[&quot;word&quot;,&quot;world&quot;,&quot;row&quot;]</span>, order = <span id=\"example-input-2-2\">&quot;worldabcefghijkmnpqstuvxyz&quot;</span><div></div>",
                "<strong>Output: </strong><span id=\"example-output-2\">false</span><div></div>",
                "<strong>Explanation: </strong><span id=\"example-output-1\">As &#39;d&#39; comes after &#39;l&#39; in this language, then words[0] &gt; words[1], hence the sequence is unsorted.</span><div></div>",
                "</pre><div></div>",
                "<div></div>",
                "<div><div></div>",
                "<p><strong>Example 3:</strong></p><div></div>",
                "<div></div>",
                "<pre><div></div>",
                "<strong>Input: </strong>words = <span id=\"example-input-3-1\">[&quot;apple&quot;,&quot;app&quot;]</span>, order = <span id=\"example-input-3-2\">&quot;abcdefghijklmnopqrstuvwxyz&quot;</span><div></div>",
                "<strong>Output: </strong><span id=\"example-output-3\">false<div></div>",
                "</span><strong>Explanation: </strong>The first three characters &quot;app&quot; match, and the second string is shorter (in size.) According to lexicographical rules &quot;apple&quot; &gt; &quot;app&quot;, because &#39;l&#39; &gt; &#39;&empty;&#39;, where &#39;&empty;&#39; is defined as the blank character which is less than any other character (<a href=\"https://en.wikipedia.org/wiki/Lexicographical_order\" target=\"_blank\">More info</a>).<div></div>",
                "</pre><div></div>",
                "<div></div>",
                "<p>&nbsp;</p><div></div>",
                "<div></div>",
                "<p><strong>Note:</strong></p><div></div>",
                "<div></div>",
                "<ol><div></div>",
                "\t<li><code>1 &lt;= words.length &lt;= 100</code></li><div></div>",
                "\t<li><code>1 &lt;= words[i].length &lt;= 20</code></li><div></div>",
                "\t<li><code>order.length == 26</code></li><div></div>",
                "\t<li>All characters in <code>words[i]</code> and <code>order</code> are english lowercase letters.</li><div></div>",
                "</ol><div></div>",
                "</div><div></div>",
                "</div><div></div>",
                "</div><div></div>",
                "<div></div>"
            ],
            "metadata": {}
        },
        {
            "cell_type": "code",
            "metadata": {},
            "execution_count": null,
            "source": "%%writefile verifying_an_alien_dictionary.py\nclass Solution:\n    def isAlienSorted(self, words, order):\n        \"\"\"\n        :type words: List[str]\n        :type order: str\n        :rtype: bool\n        \"\"\"",
            "outputs": []
        },
        {
            "cell_type": "code",
            "metadata": {},
            "execution_count": null,
            "source": "# submit\n%run ../../cli.py push --method=submit --path=verifying_an_alien_dictionary.py --clean=True",
            "outputs": []
        }
    ]
}