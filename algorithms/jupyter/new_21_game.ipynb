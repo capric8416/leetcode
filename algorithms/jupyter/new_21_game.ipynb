{
    "nbformat": 4,
    "nbformat_minor": 2,
    "metadata": {
        "kernelspec": {
            "display_name": "Python 3",
            "language": "python",
            "name": "python3"
        },
        "language_info": {
            "codemirror_mode": {
                "name": "ipython",
                "version": 3
            },
            "file_extension": ".py",
            "mimetype": "text/x-python",
            "name": "python",
            "nbconvert_exporter": "python",
            "pygments_lexer": "ipython3",
            "version": "3.7.2"
        }
    },
    "cells": [
        {
            "cell_type": "markdown",
            "source": [
                "<h1>New 21 Game</h1>",
                "<p>Alice plays the following game, loosely based on the card game &quot;21&quot;.</p><div></div>",
                "<div></div>",
                "<p>Alice starts with <code>0</code> points, and draws numbers while she has less than <code>K</code> points.&nbsp; During each draw, she gains an integer number of points randomly from the range <code>[1, W]</code>, where <code>W</code> is an integer.&nbsp; Each draw is independent and the outcomes have equal probabilities.</p><div></div>",
                "<div></div>",
                "<p>Alice stops drawing numbers when she gets <code>K</code> or more points.&nbsp; What is the probability&nbsp;that she has <code>N</code> or less points?</p><div></div>",
                "<div></div>",
                "<p><strong>Example 1:</strong></p><div></div>",
                "<div></div>",
                "<pre><div></div>",
                "<strong>Input: </strong>N = 10, K = 1, W = 10<div></div>",
                "<strong>Output: </strong>1.00000<div></div>",
                "<strong>Explanation: </strong> Alice gets a single card, then stops.<div></div>",
                "</pre><div></div>",
                "<div></div>",
                "<p><strong>Example 2:</strong></p><div></div>",
                "<div></div>",
                "<pre><div></div>",
                "<strong>Input: </strong>N = 6, K = 1, W = 10<div></div>",
                "<strong>Output: </strong>0.60000<div></div>",
                "<strong>Explanation: </strong> Alice gets a single card, then stops.<div></div>",
                "In 6 out of W = 10 possibilities, she is at or below N = 6 points.<div></div>",
                "</pre><div></div>",
                "<div></div>",
                "<p><strong>Example 3:</strong></p><div></div>",
                "<div></div>",
                "<pre><div></div>",
                "<strong>Input: </strong>N = 21, K = 17, W = 10<div></div>",
                "<strong>Output: </strong>0.73278</pre><div></div>",
                "<div></div>",
                "<p><strong>Note:</strong></p><div></div>",
                "<div></div>",
                "<ol><div></div>",
                "\t<li><code>0 &lt;= K &lt;= N &lt;= 10000</code></li><div></div>",
                "\t<li><code>1 &lt;= W &lt;= 10000</code></li><div></div>",
                "\t<li>Answers will be accepted as correct if they are within <code>10^-5</code> of the correct answer.</li><div></div>",
                "\t<li>The judging time limit has been reduced for this question.</li><div></div>",
                "</ol><div></div>",
                "<div></div>"
            ],
            "metadata": {}
        },
        {
            "cell_type": "code",
            "metadata": {},
            "execution_count": null,
            "source": "%%writefile new_21_game.py\nclass Solution:\n    def new21Game(self, N, K, W):\n        \"\"\"\n        :type N: int\n        :type K: int\n        :type W: int\n        :rtype: float\n        \"\"\"",
            "outputs": []
        },
        {
            "cell_type": "code",
            "metadata": {},
            "execution_count": null,
            "source": "# submit\n%run ../../cli.py push --method=submit --path=new_21_game.py --clean=True",
            "outputs": []
        }
    ]
}