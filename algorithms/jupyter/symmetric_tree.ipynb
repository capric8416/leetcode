{
    "nbformat": 4,
    "nbformat_minor": 2,
    "metadata": {
        "kernelspec": {
            "display_name": "Python 3",
            "language": "python",
            "name": "python3"
        },
        "language_info": {
            "codemirror_mode": {
                "name": "ipython",
                "version": 3
            },
            "file_extension": ".py",
            "mimetype": "text/x-python",
            "name": "python",
            "nbconvert_exporter": "python",
            "pygments_lexer": "ipython3",
            "version": "3.7.2"
        }
    },
    "cells": [
        {
            "cell_type": "markdown",
            "source": [
                "<h1>Symmetric Tree</h1>",
                "<p>Given a binary tree, check whether it is a mirror of itself (ie, symmetric around its center).</p><div></div>",
                "<div></div>",
                "<p><div></div>",
                "For example, this binary tree <code>[1,2,2,3,4,4,3]</code> is symmetric:<div></div>",
                "<pre><div></div>",
                "    1<div></div>",
                "   / \\<div></div>",
                "  2   2<div></div>",
                " / \\ / \\<div></div>",
                "3  4 4  3<div></div>",
                "</pre><div></div>",
                "</p><div></div>",
                "<p><div></div>",
                "But the following <code>[1,2,2,null,3,null,3]</code>  is not:<br /><div></div>",
                "<pre><div></div>",
                "    1<div></div>",
                "   / \\<div></div>",
                "  2   2<div></div>",
                "   \\   \\<div></div>",
                "   3    3<div></div>",
                "</pre><div></div>",
                "</p><div></div>",
                "<div></div>",
                "<p><div></div>",
                "<b>Note:</b><br /><div></div>",
                "Bonus points if you could solve it both recursively and iteratively.<div></div>",
                "</p><div></div>"
            ],
            "metadata": {}
        },
        {
            "cell_type": "code",
            "metadata": {},
            "execution_count": null,
            "source": "%%writefile symmetric_tree.py\n# Definition for a binary tree node.\n# class TreeNode:\n#     def __init__(self, x):\n#         self.val = x\n#         self.left = None\n#         self.right = None\n\nclass Solution:\n    def isSymmetric(self, root):\n        \"\"\"\n        :type root: TreeNode\n        :rtype: bool\n        \"\"\"",
            "outputs": []
        },
        {
            "cell_type": "code",
            "metadata": {},
            "execution_count": null,
            "source": "# submit\n%run ../../cli.py push --method=submit --path=symmetric_tree.py --clean=True",
            "outputs": []
        }
    ]
}