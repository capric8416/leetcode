{
    "nbformat": 4,
    "nbformat_minor": 2,
    "metadata": {
        "kernelspec": {
            "display_name": "Python 3",
            "language": "python",
            "name": "python3"
        },
        "language_info": {
            "codemirror_mode": {
                "name": "ipython",
                "version": 3
            },
            "file_extension": ".py",
            "mimetype": "text/x-python",
            "name": "python",
            "nbconvert_exporter": "python",
            "pygments_lexer": "ipython3",
            "version": "3.7.2"
        }
    },
    "cells": [
        {
            "cell_type": "markdown",
            "source": [
                "<h1>Couples Holding Hands</h1>",
                "<p><div></div>",
                "N couples sit in 2N seats arranged in a row and want to hold hands.  We want to know the minimum number of swaps so that every couple is sitting side by side.  A <i>swap</i> consists of choosing <b>any</b> two people, then they stand up and switch seats. <div></div>",
                "</p><p><div></div>",
                "The people and seats are represented by an integer from <code>0</code> to <code>2N-1</code>, the couples are numbered in order, the first couple being <code>(0, 1)</code>, the second couple being <code>(2, 3)</code>, and so on with the last couple being <code>(2N-2, 2N-1)</code>.<div></div>",
                "</p><p><div></div>",
                "The couples' initial seating is given by <code>row[i]</code> being the value of the person who is initially sitting in the i-th seat.<div></div>",
                "<div></div>",
                "<p><b>Example 1:</b><br /><pre><div></div>",
                "<b>Input:</b> row = [0, 2, 1, 3]<div></div>",
                "<b>Output:</b> 1<div></div>",
                "<b>Explanation:</b> We only need to swap the second (row[1]) and third (row[2]) person.<div></div>",
                "</pre></p><div></div>",
                "<div></div>",
                "<p><b>Example 2:</b><br /><pre><div></div>",
                "<b>Input:</b> row = [3, 2, 0, 1]<div></div>",
                "<b>Output:</b> 0<div></div>",
                "<b>Explanation:</b> All couples are already seated side by side.<div></div>",
                "</pre></p><div></div>",
                "<div></div>",
                "<p><div></div>",
                "<b>Note:</b><div></div>",
                "<ol> <div></div>",
                "<li> <code>len(row)</code> is even and in the range of <code>[4, 60]</code>.</li><div></div>",
                "<li> <code>row</code> is guaranteed to be a permutation of <code>0...len(row)-1</code>.</li><div></div>",
                "</ol><div></div>"
            ],
            "metadata": {}
        },
        {
            "cell_type": "code",
            "metadata": {},
            "execution_count": null,
            "source": "%%writefile couples_holding_hands.py\nclass Solution:\n    def minSwapsCouples(self, row):\n        \"\"\"\n        :type row: List[int]\n        :rtype: int\n        \"\"\"",
            "outputs": []
        },
        {
            "cell_type": "code",
            "metadata": {},
            "execution_count": null,
            "source": "# submit\n%run ../../cli.py push --method=submit --path=couples_holding_hands.py --clean=True",
            "outputs": []
        }
    ]
}