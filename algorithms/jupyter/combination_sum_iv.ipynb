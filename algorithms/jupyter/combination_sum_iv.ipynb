{
    "nbformat": 4,
    "nbformat_minor": 2,
    "metadata": {
        "kernelspec": {
            "display_name": "Python 3",
            "language": "python",
            "name": "python3"
        },
        "language_info": {
            "codemirror_mode": {
                "name": "ipython",
                "version": 3
            },
            "file_extension": ".py",
            "mimetype": "text/x-python",
            "name": "python",
            "nbconvert_exporter": "python",
            "pygments_lexer": "ipython3",
            "version": "3.7.2"
        }
    },
    "cells": [
        {
            "cell_type": "markdown",
            "source": [
                "<h1>Combination Sum IV</h1>",
                "<p> Given an integer array with all positive numbers and no duplicates, find the number of possible combinations that add up to a positive integer target.</p><div></div>",
                "<div></div>",
                "<p><b>Example:</b><div></div>",
                "<pre><div></div>",
                "<i><b>nums</b></i> = [1, 2, 3]<div></div>",
                "<i><b>target</b></i> = 4<div></div>",
                "<div></div>",
                "The possible combination ways are:<div></div>",
                "(1, 1, 1, 1)<div></div>",
                "(1, 1, 2)<div></div>",
                "(1, 2, 1)<div></div>",
                "(1, 3)<div></div>",
                "(2, 1, 1)<div></div>",
                "(2, 2)<div></div>",
                "(3, 1)<div></div>",
                "<div></div>",
                "Note that different sequences are counted as different combinations.<div></div>",
                "<div></div>",
                "Therefore the output is <i><b>7</i></b>.<div></div>",
                "</pre><div></div>",
                "</p><div></div>",
                "<div></div>",
                "<p><b>Follow up:</b><br /><div></div>",
                "What if negative numbers are allowed in the given array?<br /><div></div>",
                "How does it change the problem?<br /><div></div>",
                "What limitation we need to add to the question to allow negative numbers? </p><div></div>",
                "<div></div>",
                "<p><b>Credits:</b><br />Special thanks to <a href=\"https://leetcode.com/pbrother/\">@pbrother</a> for adding this problem and creating all test cases.</p><div></div>"
            ],
            "metadata": {}
        },
        {
            "cell_type": "code",
            "metadata": {},
            "execution_count": null,
            "source": "%%writefile combination_sum_iv.py\nclass Solution:\n    def combinationSum4(self, nums, target):\n        \"\"\"\n        :type nums: List[int]\n        :type target: int\n        :rtype: int\n        \"\"\"",
            "outputs": []
        },
        {
            "cell_type": "code",
            "metadata": {},
            "execution_count": null,
            "source": "# submit\n%run ../../cli.py push --method=submit --path=combination_sum_iv.py --clean=True",
            "outputs": []
        }
    ]
}