{
    "nbformat": 4,
    "nbformat_minor": 2,
    "metadata": {
        "kernelspec": {
            "display_name": "Python 3",
            "language": "python",
            "name": "python3"
        },
        "language_info": {
            "codemirror_mode": {
                "name": "ipython",
                "version": 3
            },
            "file_extension": ".py",
            "mimetype": "text/x-python",
            "name": "python",
            "nbconvert_exporter": "python",
            "pygments_lexer": "ipython3",
            "version": "3.7.2"
        }
    },
    "cells": [
        {
            "cell_type": "markdown",
            "source": [
                "<h1>Find Peak Element</h1>",
                "<p>A peak element is an element that is greater than its neighbors.</p><div></div>",
                "<div></div>",
                "<p>Given an input array <code>nums</code>, where <code>nums[i] &ne; nums[i+1]</code>, find a peak element and return its index.</p><div></div>",
                "<div></div>",
                "<p>The array may contain multiple peaks, in that case return the index to any one of the peaks is fine.</p><div></div>",
                "<div></div>",
                "<p>You may imagine that <code>nums[-1] = nums[n] = -&infin;</code>.</p><div></div>",
                "<div></div>",
                "<p><strong>Example 1:</strong></p><div></div>",
                "<div></div>",
                "<pre><div></div>",
                "<strong>Input:</strong> <strong>nums</strong> = <code>[1,2,3,1]</code><div></div>",
                "<strong>Output:</strong> 2<div></div>",
                "<strong>Explanation:</strong> 3 is a peak element and your function should return the index number 2.</pre><div></div>",
                "<div></div>",
                "<p><strong>Example 2:</strong></p><div></div>",
                "<div></div>",
                "<pre><div></div>",
                "<strong>Input:</strong> <strong>nums</strong> = <code>[</code>1,2,1,3,5,6,4]<div></div>",
                "<strong>Output:</strong> 1 or 5 <div></div>",
                "<strong>Explanation:</strong> Your function can return either index number 1 where the peak element is 2, <div></div>",
                "&nbsp;            or index number 5 where the peak element is 6.<div></div>",
                "</pre><div></div>",
                "<div></div>",
                "<p><strong>Note:</strong></p><div></div>",
                "<div></div>",
                "<p>Your solution should be in logarithmic complexity.</p><div></div>",
                "<div></div>"
            ],
            "metadata": {}
        },
        {
            "cell_type": "code",
            "metadata": {},
            "execution_count": null,
            "source": "%%writefile find_peak_element.py\nclass Solution:\n    def findPeakElement(self, nums):\n        \"\"\"\n        :type nums: List[int]\n        :rtype: int\n        \"\"\"",
            "outputs": []
        },
        {
            "cell_type": "code",
            "metadata": {},
            "execution_count": null,
            "source": "# submit\n%run ../../cli.py push --method=submit --path=find_peak_element.py --clean=True",
            "outputs": []
        }
    ]
}