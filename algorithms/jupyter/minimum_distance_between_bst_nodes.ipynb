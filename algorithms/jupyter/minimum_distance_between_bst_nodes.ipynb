{
    "nbformat": 4,
    "nbformat_minor": 2,
    "metadata": {
        "kernelspec": {
            "display_name": "Python 3",
            "language": "python",
            "name": "python3"
        },
        "language_info": {
            "codemirror_mode": {
                "name": "ipython",
                "version": 3
            },
            "file_extension": ".py",
            "mimetype": "text/x-python",
            "name": "python",
            "nbconvert_exporter": "python",
            "pygments_lexer": "ipython3",
            "version": "3.7.2"
        }
    },
    "cells": [
        {
            "cell_type": "markdown",
            "source": [
                "<h1>Minimum Distance Between BST Nodes</h1>",
                "<p>Given a Binary Search Tree (BST) with the root node <code>root</code>, return&nbsp;the minimum difference between the values of any two different nodes in the tree.</p><div></div>",
                "<div></div>",
                "<p><strong>Example :</strong></p><div></div>",
                "<div></div>",
                "<pre><div></div>",
                "<strong>Input:</strong> root = [4,2,6,1,3,null,null]<div></div>",
                "<strong>Output:</strong> 1<div></div>",
                "<strong>Explanation:</strong><div></div>",
                "Note that root is a TreeNode object, not an array.<div></div>",
                "<div></div>",
                "The given tree [4,2,6,1,3,null,null] is represented by the following diagram:<div></div>",
                "<div></div>",
                "          4<div></div>",
                "        /   \\<div></div>",
                "      2      6<div></div>",
                "     / \\    <div></div>",
                "    1   3  <div></div>",
                "<div></div>",
                "while the minimum difference in this tree is 1, it occurs between node 1 and node 2, also between node 3 and node 2.<div></div>",
                "</pre><div></div>",
                "<div></div>",
                "<p><strong>Note:</strong></p><div></div>",
                "<div></div>",
                "<ol><div></div>",
                "\t<li>The size of the BST will be between 2 and&nbsp;<code>100</code>.</li><div></div>",
                "\t<li>The BST is always valid, each node&#39;s value is an integer, and each node&#39;s value is different.</li><div></div>",
                "</ol><div></div>",
                "<div></div>"
            ],
            "metadata": {}
        },
        {
            "cell_type": "code",
            "metadata": {},
            "execution_count": null,
            "source": "%%writefile minimum_distance_between_bst_nodes.py\n# Definition for a binary tree node.\n# class TreeNode:\n#     def __init__(self, x):\n#         self.val = x\n#         self.left = None\n#         self.right = None\n\nclass Solution:\n    def minDiffInBST(self, root):\n        \"\"\"\n        :type root: TreeNode\n        :rtype: int\n        \"\"\"",
            "outputs": []
        },
        {
            "cell_type": "code",
            "metadata": {},
            "execution_count": null,
            "source": "# submit\n%run ../../cli.py push --method=submit --path=minimum_distance_between_bst_nodes.py --clean=True",
            "outputs": []
        }
    ]
}