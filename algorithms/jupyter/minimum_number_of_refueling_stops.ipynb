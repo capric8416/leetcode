{
    "nbformat": 4,
    "nbformat_minor": 2,
    "metadata": {
        "kernelspec": {
            "display_name": "Python 3",
            "language": "python",
            "name": "python3"
        },
        "language_info": {
            "codemirror_mode": {
                "name": "ipython",
                "version": 3
            },
            "file_extension": ".py",
            "mimetype": "text/x-python",
            "name": "python",
            "nbconvert_exporter": "python",
            "pygments_lexer": "ipython3",
            "version": "3.7.2"
        }
    },
    "cells": [
        {
            "cell_type": "markdown",
            "source": [
                "<h1>Minimum Number of Refueling Stops</h1>",
                "<p>A car travels from a starting position to a destination which is <code>target</code> miles east of the starting position.</p><div></div>",
                "<div></div>",
                "<p>Along the way, there are gas stations.&nbsp; Each <code>station[i]</code>&nbsp;represents a gas station that is <code>station[i][0]</code> miles east of the starting position, and has <code>station[i][1]</code> liters of gas.</p><div></div>",
                "<div></div>",
                "<p>The car starts with an infinite tank of gas, which initially has&nbsp;<code>startFuel</code>&nbsp;liters of fuel in it.&nbsp; It uses 1 liter of gas per 1 mile that it drives.</p><div></div>",
                "<div></div>",
                "<p>When the car&nbsp;reaches a gas station, it may stop and refuel, transferring all the gas from the station into the car.</p><div></div>",
                "<div></div>",
                "<p>What is the least number of refueling stops the car must make in order to reach its destination?&nbsp; If it cannot reach the destination, return <code>-1</code>.</p><div></div>",
                "<div></div>",
                "<p>Note that if the car reaches a gas station with 0 fuel left, the car can still refuel there.&nbsp; If the car reaches the destination with 0 fuel left, it is still considered to have arrived.</p><div></div>",
                "<div></div>",
                "<p>&nbsp;</p><div></div>",
                "<div></div>",
                "<div><div></div>",
                "<p><strong>Example 1:</strong></p><div></div>",
                "<div></div>",
                "<pre><div></div>",
                "<strong>Input: </strong>target = <span id=\"example-input-1-1\">1</span>, startFuel = <span id=\"example-input-1-2\">1</span>, stations = <span id=\"example-input-1-3\">[]</span><div></div>",
                "<strong>Output: </strong><span id=\"example-output-1\">0</span><div></div>",
                "<strong>Explanation: </strong>We can reach the target without refueling.<div></div>",
                "</pre><div></div>",
                "<div></div>",
                "<div><div></div>",
                "<p><strong>Example 2:</strong></p><div></div>",
                "<div></div>",
                "<pre><div></div>",
                "<strong>Input: </strong>target = <span id=\"example-input-2-1\">100</span>, startFuel = <span id=\"example-input-2-2\">1</span>, stations = <span id=\"example-input-2-3\">[[10,100]]</span><div></div>",
                "<strong>Output: </strong><span id=\"example-output-2\">-1</span><div></div>",
                "<strong>Explanation: </strong>We can&#39;t reach the target (or even the first gas station).<div></div>",
                "</pre><div></div>",
                "<div></div>",
                "<div><div></div>",
                "<p><strong>Example 3:</strong></p><div></div>",
                "<div></div>",
                "<pre><div></div>",
                "<strong>Input: </strong>target = <span id=\"example-input-3-1\">100</span>, startFuel = <span id=\"example-input-3-2\">10</span>, stations = <span id=\"example-input-3-3\">[[10,60],[20,30],[30,30],[60,40]]</span><div></div>",
                "<strong>Output: </strong><span id=\"example-output-3\">2</span><div></div>",
                "<strong>Explanation: </strong><div></div>",
                "We start with 10 liters of fuel.<div></div>",
                "We drive to position 10, expending 10 liters of fuel.  We refuel from 0 liters to 60 liters of gas.<div></div>",
                "Then, we drive from position 10 to position 60 (expending 50 liters of fuel),<div></div>",
                "and refuel from 10 liters to 50 liters of gas.  We then drive to and reach the target.<div></div>",
                "We made 2 refueling stops along the way, so we return 2.<div></div>",
                "</pre><div></div>",
                "<div></div>",
                "<p>&nbsp;</p><div></div>",
                "<div></div>",
                "<p><strong>Note:</strong></p><div></div>",
                "<div></div>",
                "<ol><div></div>",
                "\t<li><code>1 &lt;= target, startFuel, stations[i][1] &lt;= 10^9</code></li><div></div>",
                "\t<li><code>0 &lt;= stations.length &lt;= 500</code></li><div></div>",
                "\t<li><code>0 &lt; stations[0][0] &lt; stations[1][0] &lt; ... &lt; stations[stations.length-1][0] &lt; target</code></li><div></div>",
                "</ol><div></div>",
                "</div><div></div>",
                "</div><div></div>",
                "</div><div></div>",
                "<div></div>"
            ],
            "metadata": {}
        },
        {
            "cell_type": "code",
            "metadata": {},
            "execution_count": null,
            "source": "%%writefile minimum_number_of_refueling_stops.py\nclass Solution:\n    def minRefuelStops(self, target, startFuel, stations):\n        \"\"\"\n        :type target: int\n        :type startFuel: int\n        :type stations: List[List[int]]\n        :rtype: int\n        \"\"\"",
            "outputs": []
        },
        {
            "cell_type": "code",
            "metadata": {},
            "execution_count": null,
            "source": "# submit\n%run ../../cli.py push --method=submit --path=minimum_number_of_refueling_stops.py --clean=True",
            "outputs": []
        }
    ]
}