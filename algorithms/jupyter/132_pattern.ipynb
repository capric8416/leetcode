{
    "nbformat": 4,
    "nbformat_minor": 2,
    "metadata": {
        "kernelspec": {
            "display_name": "Python 3",
            "language": "python",
            "name": "python3"
        },
        "language_info": {
            "codemirror_mode": {
                "name": "ipython",
                "version": 3
            },
            "file_extension": ".py",
            "mimetype": "text/x-python",
            "name": "python",
            "nbconvert_exporter": "python",
            "pygments_lexer": "ipython3",
            "version": "3.7.2"
        }
    },
    "cells": [
        {
            "cell_type": "markdown",
            "source": [
                "<h1>132 Pattern</h1>",
                "<p><div></div>",
                "Given a sequence of n integers a<sub>1</sub>, a<sub>2</sub>, ..., a<sub>n</sub>, a 132 pattern is a subsequence a<sub><b>i</b></sub>, a<sub><b>j</b></sub>, a<sub><b>k</b></sub> such<div></div>",
                "that <b>i</b> < <b>j</b> < <b>k</b> and a<sub><b>i</b></sub> < a<sub><b>k</b></sub> < a<sub><b>j</b></sub>. Design an algorithm that takes a list of n numbers as input and checks whether there is a 132 pattern in the list.</p><div></div>",
                "<div></div>",
                "<p><b>Note:</b> n will be less than 15,000.</p><div></div>",
                "<div></div>",
                "<p><b>Example 1:</b><br /><div></div>",
                "<pre><div></div>",
                "<b>Input:</b> [1, 2, 3, 4]<div></div>",
                "<div></div>",
                "<b>Output:</b> False<div></div>",
                "<div></div>",
                "<b>Explanation:</b> There is no 132 pattern in the sequence.<div></div>",
                "</pre><div></div>",
                "</p><div></div>",
                "<div></div>",
                "<p><b>Example 2:</b><br /><div></div>",
                "<pre><div></div>",
                "<b>Input:</b> [3, 1, 4, 2]<div></div>",
                "<div></div>",
                "<b>Output:</b> True<div></div>",
                "<div></div>",
                "<b>Explanation:</b> There is a 132 pattern in the sequence: [1, 4, 2].<div></div>",
                "</pre><div></div>",
                "</p><div></div>",
                "<div></div>",
                "<p><b>Example 3:</b><br /><div></div>",
                "<pre><div></div>",
                "<b>Input:</b> [-1, 3, 2, 0]<div></div>",
                "<div></div>",
                "<b>Output:</b> True<div></div>",
                "<div></div>",
                "<b>Explanation:</b> There are three 132 patterns in the sequence: [-1, 3, 2], [-1, 3, 0] and [-1, 2, 0].<div></div>",
                "</pre><div></div>",
                "</p><div></div>"
            ],
            "metadata": {}
        },
        {
            "cell_type": "code",
            "metadata": {},
            "execution_count": null,
            "source": "%%writefile 132_pattern.py\nclass Solution:\n    def find132pattern(self, nums):\n        \"\"\"\n        :type nums: List[int]\n        :rtype: bool\n        \"\"\"",
            "outputs": []
        },
        {
            "cell_type": "code",
            "metadata": {},
            "execution_count": null,
            "source": "# submit\n%run ../../cli.py push --method=submit --path=132_pattern.py --clean=True",
            "outputs": []
        }
    ]
}