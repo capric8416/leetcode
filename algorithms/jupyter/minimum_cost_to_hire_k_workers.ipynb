{
    "nbformat": 4,
    "nbformat_minor": 2,
    "metadata": {
        "kernelspec": {
            "display_name": "Python 3",
            "language": "python",
            "name": "python3"
        },
        "language_info": {
            "codemirror_mode": {
                "name": "ipython",
                "version": 3
            },
            "file_extension": ".py",
            "mimetype": "text/x-python",
            "name": "python",
            "nbconvert_exporter": "python",
            "pygments_lexer": "ipython3",
            "version": "3.7.2"
        }
    },
    "cells": [
        {
            "cell_type": "markdown",
            "source": [
                "<h1>Minimum Cost to Hire K Workers</h1>",
                "<p>There are <code>N</code> workers.&nbsp; The <code>i</code>-th worker has a <code>quality[i]</code> and a minimum wage expectation <code>wage[i]</code>.</p><div></div>",
                "<div></div>",
                "<p>Now we want to hire exactly <code>K</code>&nbsp;workers to form a <em>paid group</em>.&nbsp; When hiring a group of K workers, we must pay them according to the following rules:</p><div></div>",
                "<div></div>",
                "<ol><div></div>",
                "\t<li>Every worker in the paid group should be paid in the ratio of their quality compared to other workers in the paid group.</li><div></div>",
                "\t<li>Every worker in the paid group must be paid at least their minimum wage expectation.</li><div></div>",
                "</ol><div></div>",
                "<div></div>",
                "<p>Return the least amount of money needed to form a paid group satisfying the above conditions.</p><div></div>",
                "<div></div>",
                "<p>&nbsp;</p><div></div>",
                "<div></div>",
                "<ol><div></div>",
                "</ol><div></div>",
                "<div></div>",
                "<div><div></div>",
                "<p><strong>Example 1:</strong></p><div></div>",
                "<div></div>",
                "<pre><div></div>",
                "<strong>Input: </strong>quality = <span id=\"example-input-1-1\">[10,20,5]</span>, wage = <span id=\"example-input-1-2\">[70,50,30]</span>, K = <span id=\"example-input-1-3\">2</span><div></div>",
                "<strong>Output: </strong><span id=\"example-output-1\">105.00000<div></div>",
                "<strong>Explanation</strong>: </span><span>We pay 70 to 0-th worker and 35 to 2-th worker.</span><div></div>",
                "</pre><div></div>",
                "<div></div>",
                "<div><div></div>",
                "<p><strong>Example 2:</strong></p><div></div>",
                "<div></div>",
                "<pre><div></div>",
                "<strong>Input: </strong>quality = <span id=\"example-input-2-1\">[3,1,10,10,1]</span>, wage = <span id=\"example-input-2-2\">[4,8,2,2,7]</span>, K = <span id=\"example-input-2-3\">3</span><div></div>",
                "<strong>Output: </strong><span id=\"example-output-2\">30.66667<div></div>",
                "<strong>Explanation</strong>: </span><span>We pay 4 to 0-th worker, 13.33333 to 2-th and 3-th workers seperately.</span> <div></div>",
                "</pre><div></div>",
                "<div></div>",
                "<p>&nbsp;</p><div></div>",
                "<div></div>",
                "<p><strong>Note:</strong></p><div></div>",
                "<div></div>",
                "<ol><div></div>",
                "\t<li><code>1 &lt;= K &lt;= N &lt;= 10000</code>, where <code>N = quality.length = wage.length</code></li><div></div>",
                "\t<li><code>1 &lt;= quality[i] &lt;= 10000</code></li><div></div>",
                "\t<li><code>1 &lt;= wage[i] &lt;= 10000</code></li><div></div>",
                "\t<li>Answers within <code>10^-5</code> of the correct answer will be considered correct.</li><div></div>",
                "</ol><div></div>",
                "</div><div></div>",
                "</div><div></div>",
                "<div></div>"
            ],
            "metadata": {}
        },
        {
            "cell_type": "code",
            "metadata": {},
            "execution_count": null,
            "source": "%%writefile minimum_cost_to_hire_k_workers.py\nclass Solution:\n    def mincostToHireWorkers(self, quality, wage, K):\n        \"\"\"\n        :type quality: List[int]\n        :type wage: List[int]\n        :type K: int\n        :rtype: float\n        \"\"\"",
            "outputs": []
        },
        {
            "cell_type": "code",
            "metadata": {},
            "execution_count": null,
            "source": "# submit\n%run ../../cli.py push --method=submit --path=minimum_cost_to_hire_k_workers.py --clean=True",
            "outputs": []
        }
    ]
}