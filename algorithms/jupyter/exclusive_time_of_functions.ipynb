{
    "nbformat": 4,
    "nbformat_minor": 2,
    "metadata": {
        "kernelspec": {
            "display_name": "Python 3",
            "language": "python",
            "name": "python3"
        },
        "language_info": {
            "codemirror_mode": {
                "name": "ipython",
                "version": 3
            },
            "file_extension": ".py",
            "mimetype": "text/x-python",
            "name": "python",
            "nbconvert_exporter": "python",
            "pygments_lexer": "ipython3",
            "version": "3.7.2"
        }
    },
    "cells": [
        {
            "cell_type": "markdown",
            "source": [
                "<h1>Exclusive Time of Functions</h1>",
                "<p>Given the running logs of <b>n</b> functions that are executed in a nonpreemptive single threaded CPU, find the exclusive time of these functions. </p><div></div>",
                "<div></div>",
                "<p>Each function has a unique id, start from <b>0</b> to <b>n-1</b>. A function may be called recursively or by another function.</p><div></div>",
                "<div></div>",
                "<p>A log is a string has this format : <code>function_id:start_or_end:timestamp</code>. For example, <code>\"0:start:0\"</code> means function 0 starts from the very beginning of time 0. <code>\"0:end:0\"</code> means function 0 ends to the very end of time 0. </p><div></div>",
                "<div></div>",
                "<p>Exclusive time of a function is defined as the time spent within this function, the time spent by calling other functions should not be considered as this function's exclusive time. You should return the exclusive time of each function sorted by their function id.</p><div></div>",
                "<div></div>",
                "<p><b>Example 1:</b><br /><div></div>",
                "<pre><div></div>",
                "<b>Input:</b><div></div>",
                "n = 2<div></div>",
                "logs = <div></div>",
                "[\"0:start:0\",<div></div>",
                " \"1:start:2\",<div></div>",
                " \"1:end:5\",<div></div>",
                " \"0:end:6\"]<div></div>",
                "<b>Output:</b>[3, 4]<div></div>",
                "<b>Explanation:</b><div></div>",
                "Function 0 starts at time 0, then it executes 2 units of time and reaches the end of time 1. <div></div>",
                "Now function 0 <b>calls function 1</b>, function 1 starts at time 2, executes 4 units of time and end at time 5.<div></div>",
                "Function 0 is running again at time 6, and also end at the time 6, thus executes 1 unit of time. <div></div>",
                "So function 0 totally execute 2 + 1 = 3 units of time, and function 1 totally execute 4 units of time.<div></div>",
                "</pre><div></div>",
                "</p><div></div>",
                "<div></div>",
                "<p><b>Note:</b><br><div></div>",
                "<ol><div></div>",
                "<li>Input logs will be sorted by timestamp, NOT log id.</li><div></div>",
                "<li>Your output should be sorted by function id, which means the 0th element of your output corresponds to the exclusive time of function 0.</li><div></div>",
                "<li>Two functions won't start or end at the same time.</li><div></div>",
                "<li>Functions could be called recursively, and will always end.</li><div></div>",
                "<li>1 <= n <= 100</li><div></div>",
                "</ol><div></div>",
                "</p><div></div>"
            ],
            "metadata": {}
        },
        {
            "cell_type": "code",
            "metadata": {},
            "execution_count": null,
            "source": "%%writefile exclusive_time_of_functions.py\nclass Solution:\n    def exclusiveTime(self, n, logs):\n        \"\"\"\n        :type n: int\n        :type logs: List[str]\n        :rtype: List[int]\n        \"\"\"",
            "outputs": []
        },
        {
            "cell_type": "code",
            "metadata": {},
            "execution_count": null,
            "source": "# submit\n%run ../../cli.py push --method=submit --path=exclusive_time_of_functions.py --clean=True",
            "outputs": []
        }
    ]
}