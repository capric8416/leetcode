{
    "nbformat": 4,
    "nbformat_minor": 2,
    "metadata": {
        "kernelspec": {
            "display_name": "Python 3",
            "language": "python",
            "name": "python3"
        },
        "language_info": {
            "codemirror_mode": {
                "name": "ipython",
                "version": 3
            },
            "file_extension": ".py",
            "mimetype": "text/x-python",
            "name": "python",
            "nbconvert_exporter": "python",
            "pygments_lexer": "ipython3",
            "version": "3.7.2"
        }
    },
    "cells": [
        {
            "cell_type": "markdown",
            "source": [
                "<h1>Baseball Game</h1>",
                "<p><div></div>",
                "You're now a baseball game point recorder.<div></div>",
                "</p><div></div>",
                "<div></div>",
                "<p><div></div>",
                "Given a list of strings, each string can be one of the 4 following types:<div></div>",
                "<ol><div></div>",
                "<li><code>Integer</code> (one round's score): Directly represents the number of points you get in this round.</li><div></div>",
                "<li><code>\"+\"</code> (one round's score): Represents that the points you get in this round are the sum of the last two <code>valid</code> round's points.</li><div></div>",
                "<li><code>\"D\"</code> (one round's score): Represents that the points you get in this round are the doubled data of the last <code>valid</code> round's points.</li><div></div>",
                "<li><code>\"C\"</code> (an operation, which isn't a round's score): Represents the last <code>valid</code> round's points you get were invalid and should be removed.</li><div></div>",
                "</ol><div></div>",
                "</p><div></div>",
                "<div></div>",
                "<p><div></div>",
                "Each round's operation is permanent and could have an impact on the round before and the round after.<div></div>",
                "</p><div></div>",
                "<div></div>",
                "<p><div></div>",
                "You need to return the sum of the points you could get in all the rounds.<div></div>",
                "</p><div></div>",
                "<div></div>",
                "<p><b>Example 1:</b><br /><div></div>",
                "<pre><div></div>",
                "<b>Input:</b> [\"5\",\"2\",\"C\",\"D\",\"+\"]<div></div>",
                "<b>Output:</b> 30<div></div>",
                "<b>Explanation:</b> <div></div>",
                "Round 1: You could get 5 points. The sum is: 5.<div></div>",
                "Round 2: You could get 2 points. The sum is: 7.<div></div>",
                "Operation 1: The round 2's data was invalid. The sum is: 5.  <div></div>",
                "Round 3: You could get 10 points (the round 2's data has been removed). The sum is: 15.<div></div>",
                "Round 4: You could get 5 + 10 = 15 points. The sum is: 30.<div></div>",
                "</pre><div></div>",
                "</p><div></div>",
                "<div></div>",
                "<p><b>Example 2:</b><br /><div></div>",
                "<pre><div></div>",
                "<b>Input:</b> [\"5\",\"-2\",\"4\",\"C\",\"D\",\"9\",\"+\",\"+\"]<div></div>",
                "<b>Output:</b> 27<div></div>",
                "<b>Explanation:</b> <div></div>",
                "Round 1: You could get 5 points. The sum is: 5.<div></div>",
                "Round 2: You could get -2 points. The sum is: 3.<div></div>",
                "Round 3: You could get 4 points. The sum is: 7.<div></div>",
                "Operation 1: The round 3's data is invalid. The sum is: 3.  <div></div>",
                "Round 4: You could get -4 points (the round 3's data has been removed). The sum is: -1.<div></div>",
                "Round 5: You could get 9 points. The sum is: 8.<div></div>",
                "Round 6: You could get -4 + 9 = 5 points. The sum is 13.<div></div>",
                "Round 7: You could get 9 + 5 = 14 points. The sum is 27.<div></div>",
                "</pre><div></div>",
                "</p><div></div>",
                "<div></div>",
                "<p><b>Note:</b><br /><div></div>",
                "<li>The size of the input list will be between 1 and 1000.</li><div></div>",
                "<li>Every integer represented in the list will be between -30000 and 30000.</li><div></div>",
                "</p><div></div>"
            ],
            "metadata": {}
        },
        {
            "cell_type": "code",
            "metadata": {},
            "execution_count": null,
            "source": "%%writefile baseball_game.py\nclass Solution:\n    def calPoints(self, ops):\n        \"\"\"\n        :type ops: List[str]\n        :rtype: int\n        \"\"\"",
            "outputs": []
        },
        {
            "cell_type": "code",
            "metadata": {},
            "execution_count": null,
            "source": "# submit\n%run ../../cli.py push --method=submit --path=baseball_game.py --clean=True",
            "outputs": []
        }
    ]
}