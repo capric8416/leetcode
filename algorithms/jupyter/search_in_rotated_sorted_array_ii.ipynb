{
    "nbformat": 4,
    "nbformat_minor": 2,
    "metadata": {
        "kernelspec": {
            "display_name": "Python 3",
            "language": "python",
            "name": "python3"
        },
        "language_info": {
            "codemirror_mode": {
                "name": "ipython",
                "version": 3
            },
            "file_extension": ".py",
            "mimetype": "text/x-python",
            "name": "python",
            "nbconvert_exporter": "python",
            "pygments_lexer": "ipython3",
            "version": "3.7.2"
        }
    },
    "cells": [
        {
            "cell_type": "markdown",
            "source": [
                "<h1>Search in Rotated Sorted Array II</h1>",
                "<p>Suppose an array sorted in ascending order is rotated at some pivot unknown to you beforehand.</p><div></div>",
                "<div></div>",
                "<p>(i.e., <code>[0,0,1,2,2,5,6]</code> might become <code>[2,5,6,0,0,1,2]</code>).</p><div></div>",
                "<div></div>",
                "<p>You are given a target value to search. If found in the array return <code>true</code>, otherwise return <code>false</code>.</p><div></div>",
                "<div></div>",
                "<p><strong>Example 1:</strong></p><div></div>",
                "<div></div>",
                "<pre><div></div>",
                "<strong>Input:</strong> nums = [2<code>,5,6,0,0,1,2]</code>, target = 0<div></div>",
                "<strong>Output:</strong> true<div></div>",
                "</pre><div></div>",
                "<div></div>",
                "<p><strong>Example 2:</strong></p><div></div>",
                "<div></div>",
                "<pre><div></div>",
                "<strong>Input:</strong> nums = [2<code>,5,6,0,0,1,2]</code>, target = 3<div></div>",
                "<strong>Output:</strong> false</pre><div></div>",
                "<div></div>",
                "<p><strong>Follow up:</strong></p><div></div>",
                "<div></div>",
                "<ul><div></div>",
                "\t<li>This is a follow up problem to&nbsp;<a href=\"/problems/search-in-rotated-sorted-array/description/\">Search in Rotated Sorted Array</a>, where <code>nums</code> may contain duplicates.</li><div></div>",
                "\t<li>Would this affect the run-time complexity? How and why?</li><div></div>",
                "</ul><div></div>",
                "<div></div>"
            ],
            "metadata": {}
        },
        {
            "cell_type": "code",
            "metadata": {},
            "execution_count": null,
            "source": "%%writefile search_in_rotated_sorted_array_ii.py\nclass Solution:\n    def search(self, nums, target):\n        \"\"\"\n        :type nums: List[int]\n        :type target: int\n        :rtype: bool\n        \"\"\"",
            "outputs": []
        },
        {
            "cell_type": "code",
            "metadata": {},
            "execution_count": null,
            "source": "# submit\n%run ../../cli.py push --method=submit --path=search_in_rotated_sorted_array_ii.py --clean=True",
            "outputs": []
        }
    ]
}