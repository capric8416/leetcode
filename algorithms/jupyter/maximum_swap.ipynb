{
    "nbformat": 4,
    "nbformat_minor": 2,
    "metadata": {
        "kernelspec": {
            "display_name": "Python 3",
            "language": "python",
            "name": "python3"
        },
        "language_info": {
            "codemirror_mode": {
                "name": "ipython",
                "version": 3
            },
            "file_extension": ".py",
            "mimetype": "text/x-python",
            "name": "python",
            "nbconvert_exporter": "python",
            "pygments_lexer": "ipython3",
            "version": "3.7.2"
        }
    },
    "cells": [
        {
            "cell_type": "markdown",
            "source": [
                "<h1>Maximum Swap</h1>",
                "<p><div></div>",
                "Given a non-negative integer, you could swap two digits <b>at most</b> once to get the maximum valued number. Return the maximum valued number you could get.<div></div>",
                "</p><div></div>",
                "<div></div>",
                "<p><b>Example 1:</b><br /><div></div>",
                "<pre><div></div>",
                "<b>Input:</b> 2736<div></div>",
                "<b>Output:</b> 7236<div></div>",
                "<b>Explanation:</b> Swap the number 2 and the number 7.<div></div>",
                "</pre><div></div>",
                "</p><div></div>",
                "<div></div>",
                "<p><b>Example 2:</b><br /><div></div>",
                "<pre><div></div>",
                "<b>Input:</b> 9973<div></div>",
                "<b>Output:</b> 9973<div></div>",
                "<b>Explanation:</b> No swap.<div></div>",
                "</pre><div></div>",
                "</p><div></div>",
                "<div></div>",
                "<div></div>",
                "<p><b>Note:</b><br><div></div>",
                "<ol><div></div>",
                "<li>The given number is in the range [0, 10<sup>8</sup>]</li><div></div>",
                "</ol><div></div>",
                "</p><div></div>"
            ],
            "metadata": {}
        },
        {
            "cell_type": "code",
            "metadata": {},
            "execution_count": null,
            "source": "%%writefile maximum_swap.py\nclass Solution:\n    def maximumSwap(self, num):\n        \"\"\"\n        :type num: int\n        :rtype: int\n        \"\"\"",
            "outputs": []
        },
        {
            "cell_type": "code",
            "metadata": {},
            "execution_count": null,
            "source": "# submit\n%run ../../cli.py push --method=submit --path=maximum_swap.py --clean=True",
            "outputs": []
        }
    ]
}