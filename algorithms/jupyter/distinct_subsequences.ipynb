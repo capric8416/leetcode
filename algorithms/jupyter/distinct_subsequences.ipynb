{
    "nbformat": 4,
    "nbformat_minor": 2,
    "metadata": {
        "kernelspec": {
            "display_name": "Python 3",
            "language": "python",
            "name": "python3"
        },
        "language_info": {
            "codemirror_mode": {
                "name": "ipython",
                "version": 3
            },
            "file_extension": ".py",
            "mimetype": "text/x-python",
            "name": "python",
            "nbconvert_exporter": "python",
            "pygments_lexer": "ipython3",
            "version": "3.7.2"
        }
    },
    "cells": [
        {
            "cell_type": "markdown",
            "source": [
                "<h1>Distinct Subsequences</h1>",
                "<p>Given a string <strong>S</strong> and a string <strong>T</strong>, count the number of distinct subsequences of <strong>S</strong> which equals <strong>T</strong>.</p><div></div>",
                "<div></div>",
                "<p>A subsequence of a string is a new string which is formed from the original string by deleting some (can be none) of the characters without disturbing the relative positions of the remaining characters. (ie, <code>&quot;ACE&quot;</code> is a subsequence of <code>&quot;ABCDE&quot;</code> while <code>&quot;AEC&quot;</code> is not).</p><div></div>",
                "<div></div>",
                "<p><strong>Example 1:</strong></p><div></div>",
                "<div></div>",
                "<pre><div></div>",
                "<strong>Input: </strong>S = <code>&quot;rabbbit&quot;</code>, T = <code>&quot;rabbit&quot;<div></div>",
                "<strong>Output:</strong>&nbsp;3<div></div>",
                "</code><strong>Explanation:<div></div>",
                "</strong><div></div>",
                "As shown below, there are 3 ways you can generate &quot;rabbit&quot; from S.<div></div>",
                "(The caret symbol ^ means the chosen letters)<div></div>",
                "<div></div>",
                "<code>rabbbit</code><div></div>",
                "^^^^ ^^<div></div>",
                "<code>rabbbit</code><div></div>",
                "^^ ^^^^<div></div>",
                "<code>rabbbit</code><div></div>",
                "^^^ ^^^<div></div>",
                "</pre><div></div>",
                "<div></div>",
                "<p><strong>Example 2:</strong></p><div></div>",
                "<div></div>",
                "<pre><div></div>",
                "<strong>Input: </strong>S = <code>&quot;babgbag&quot;</code>, T = <code>&quot;bag&quot;<div></div>",
                "<strong>Output:</strong>&nbsp;5<div></div>",
                "</code><strong>Explanation:<div></div>",
                "</strong><div></div>",
                "As shown below, there are 5 ways you can generate &quot;bag&quot; from S.<div></div>",
                "(The caret symbol ^ means the chosen letters)<div></div>",
                "<div></div>",
                "<code>babgbag</code><div></div>",
                "^^ ^<div></div>",
                "<code>babgbag</code><div></div>",
                "^^    ^<div></div>",
                "<code>babgbag</code><div></div>",
                "^    ^^<div></div>",
                "<code>babgbag</code><div></div>",
                "  ^  ^^<div></div>",
                "<code>babgbag</code><div></div>",
                "    ^^^<div></div>",
                "</pre><div></div>",
                "<div></div>"
            ],
            "metadata": {}
        },
        {
            "cell_type": "code",
            "metadata": {},
            "execution_count": null,
            "source": "%%writefile distinct_subsequences.py\nclass Solution:\n    def numDistinct(self, s, t):\n        \"\"\"\n        :type s: str\n        :type t: str\n        :rtype: int\n        \"\"\"",
            "outputs": []
        },
        {
            "cell_type": "code",
            "metadata": {},
            "execution_count": null,
            "source": "# submit\n%run ../../cli.py push --method=submit --path=distinct_subsequences.py --clean=True",
            "outputs": []
        }
    ]
}