{
    "nbformat": 4,
    "nbformat_minor": 2,
    "metadata": {
        "kernelspec": {
            "display_name": "Python 3",
            "language": "python",
            "name": "python3"
        },
        "language_info": {
            "codemirror_mode": {
                "name": "ipython",
                "version": 3
            },
            "file_extension": ".py",
            "mimetype": "text/x-python",
            "name": "python",
            "nbconvert_exporter": "python",
            "pygments_lexer": "ipython3",
            "version": "3.7.2"
        }
    },
    "cells": [
        {
            "cell_type": "markdown",
            "source": [
                "<h1>Reorder Log Files</h1>",
                "<p>You have an array of <code>logs</code>.&nbsp; Each log is a space delimited string of words.</p><div></div>",
                "<div></div>",
                "<p>For each log, the first word in each log is an alphanumeric <em>identifier</em>.&nbsp; Then, either:</p><div></div>",
                "<div></div>",
                "<ul><div></div>",
                "\t<li>Each word after the identifier will consist only of lowercase letters, or;</li><div></div>",
                "\t<li>Each word after the identifier will consist only of digits.</li><div></div>",
                "</ul><div></div>",
                "<div></div>",
                "<p>We will call these two varieties of logs <em>letter-logs</em> and <em>digit-logs</em>.&nbsp; It is guaranteed that each log has at least one word after its identifier.</p><div></div>",
                "<div></div>",
                "<p>Reorder the logs so that all of the letter-logs come before any digit-log.&nbsp; The letter-logs are ordered lexicographically ignoring identifier, with the identifier used in case of ties.&nbsp; The digit-logs should be put in their original order.</p><div></div>",
                "<div></div>",
                "<p>Return the final order of the logs.</p><div></div>",
                "<div></div>",
                "<p>&nbsp;</p><div></div>",
                "<div></div>",
                "<div><div></div>",
                "<p><strong>Example 1:</strong></p><div></div>",
                "<div></div>",
                "<pre><div></div>",
                "<strong>Input: </strong><span id=\"example-input-1-1\">[&quot;a1 9 2 3 1&quot;,&quot;g1 act car&quot;,&quot;zo4 4 7&quot;,&quot;ab1 off key dog&quot;,&quot;a8 act zoo&quot;]</span><div></div>",
                "<strong>Output: </strong><span id=\"example-output-1\">[&quot;g1 act car&quot;,&quot;a8 act zoo&quot;,&quot;ab1 off key dog&quot;,&quot;a1 9 2 3 1&quot;,&quot;zo4 4 7&quot;]</span><div></div>",
                "</pre><div></div>",
                "<div></div>",
                "<p>&nbsp;</p><div></div>",
                "<div></div>",
                "<p><strong>Note:</strong></p><div></div>",
                "<div></div>",
                "<ol><div></div>",
                "\t<li><code>0 &lt;= logs.length &lt;= 100</code></li><div></div>",
                "\t<li><code>3 &lt;= logs[i].length &lt;= 100</code></li><div></div>",
                "\t<li><code>logs[i]</code> is guaranteed to have an identifier, and a word after the identifier.</li><div></div>",
                "</ol><div></div>",
                "</div><div></div>"
            ],
            "metadata": {}
        },
        {
            "cell_type": "code",
            "metadata": {},
            "execution_count": null,
            "source": "%%writefile reorder_log_files.py\nclass Solution:\n    def reorderLogFiles(self, logs):\n        \"\"\"\n        :type logs: List[str]\n        :rtype: List[str]\n        \"\"\"",
            "outputs": []
        },
        {
            "cell_type": "code",
            "metadata": {},
            "execution_count": null,
            "source": "# submit\n%run ../../cli.py push --method=submit --path=reorder_log_files.py --clean=True",
            "outputs": []
        }
    ]
}