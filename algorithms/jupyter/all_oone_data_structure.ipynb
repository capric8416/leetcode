{
    "nbformat": 4,
    "nbformat_minor": 2,
    "metadata": {
        "kernelspec": {
            "display_name": "Python 3",
            "language": "python",
            "name": "python3"
        },
        "language_info": {
            "codemirror_mode": {
                "name": "ipython",
                "version": 3
            },
            "file_extension": ".py",
            "mimetype": "text/x-python",
            "name": "python",
            "nbconvert_exporter": "python",
            "pygments_lexer": "ipython3",
            "version": "3.7.2"
        }
    },
    "cells": [
        {
            "cell_type": "markdown",
            "source": [
                "<h1>All O`one Data Structure</h1>",
                "<p>Implement a data structure supporting the following operations:</p><div></div>",
                "<div></div>",
                "<p><div></div>",
                "<ol><div></div>",
                "<li>Inc(Key) - Inserts a new key <Key> with value 1. Or increments an existing key by 1. Key is guaranteed to be a <b>non-empty</b> string.</li><div></div>",
                "<li>Dec(Key) - If Key's value is 1, remove it from the data structure. Otherwise decrements an existing key by 1. If the key does not exist, this function does nothing. Key is guaranteed to be a <b>non-empty</b> string.</li><div></div>",
                "<li>GetMaxKey() - Returns one of the keys with maximal value. If no element exists, return an empty string <code>\"\"</code>.</li><div></div>",
                "<li>GetMinKey() - Returns one of the keys with minimal value. If no element exists, return an empty string <code>\"\"</code>.</li><div></div>",
                "</ol><div></div>",
                "</p><div></div>",
                "<div></div>",
                "<p><div></div>",
                "Challenge: Perform all these in O(1) time complexity.<div></div>",
                "</p><div></div>"
            ],
            "metadata": {}
        },
        {
            "cell_type": "code",
            "metadata": {},
            "execution_count": null,
            "source": "%%writefile all_oone_data_structure.py\nclass AllOne:\n\n    def __init__(self):\n        \"\"\"\n        Initialize your data structure here.\n        \"\"\"\n        \n\n    def inc(self, key):\n        \"\"\"\n        Inserts a new key <Key> with value 1. Or increments an existing key by 1.\n        :type key: str\n        :rtype: void\n        \"\"\"\n        \n\n    def dec(self, key):\n        \"\"\"\n        Decrements an existing key by 1. If Key's value is 1, remove it from the data structure.\n        :type key: str\n        :rtype: void\n        \"\"\"\n        \n\n    def getMaxKey(self):\n        \"\"\"\n        Returns one of the keys with maximal value.\n        :rtype: str\n        \"\"\"\n        \n\n    def getMinKey(self):\n        \"\"\"\n        Returns one of the keys with Minimal value.\n        :rtype: str\n        \"\"\"\n        \n\n\n# Your AllOne object will be instantiated and called as such:\n# obj = AllOne()\n# obj.inc(key)\n# obj.dec(key)\n# param_3 = obj.getMaxKey()\n# param_4 = obj.getMinKey()",
            "outputs": []
        },
        {
            "cell_type": "code",
            "metadata": {},
            "execution_count": null,
            "source": "# submit\n%run ../../cli.py push --method=submit --path=all_oone_data_structure.py --clean=True",
            "outputs": []
        }
    ]
}