{
    "nbformat": 4,
    "nbformat_minor": 2,
    "metadata": {
        "kernelspec": {
            "display_name": "Python 3",
            "language": "python",
            "name": "python3"
        },
        "language_info": {
            "codemirror_mode": {
                "name": "ipython",
                "version": 3
            },
            "file_extension": ".py",
            "mimetype": "text/x-python",
            "name": "python",
            "nbconvert_exporter": "python",
            "pygments_lexer": "ipython3",
            "version": "3.7.2"
        }
    },
    "cells": [
        {
            "cell_type": "markdown",
            "source": [
                "<h1>Loud and Rich</h1>",
                "<p>In a group of N people (labelled <code>0, 1, 2, ..., N-1</code>), each person has different amounts of money, and different levels of quietness.</p><div></div>",
                "<div></div>",
                "<p>For convenience, we&#39;ll call the person with label <code>x</code>, simply &quot;person <code>x</code>&quot;.</p><div></div>",
                "<div></div>",
                "<p>We&#39;ll say that <code>richer[i] = [x, y]</code> if person <code>x</code>&nbsp;definitely has more money than person&nbsp;<code>y</code>.&nbsp; Note that <code>richer</code>&nbsp;may only be a subset of valid observations.</p><div></div>",
                "<div></div>",
                "<p>Also, we&#39;ll say <code>quiet[x] = q</code> if person <font face=\"monospace\">x</font>&nbsp;has quietness <code>q</code>.</p><div></div>",
                "<div></div>",
                "<p>Now, return <code>answer</code>, where <code>answer[x] = y</code> if <code>y</code> is the least quiet person (that is, the person <code>y</code> with the smallest value of <code>quiet[y]</code>), among all people&nbsp;who definitely have&nbsp;equal to or more money than person <code>x</code>.</p><div></div>",
                "<div></div>",
                "<p>&nbsp;</p><div></div>",
                "<div></div>",
                "<div><div></div>",
                "<p><strong>Example 1:</strong></p><div></div>",
                "<div></div>",
                "<pre><div></div>",
                "<strong>Input: </strong>richer = <span id=\"example-input-1-1\">[[1,0],[2,1],[3,1],[3,7],[4,3],[5,3],[6,3]]</span>, quiet = <span id=\"example-input-1-2\">[3,2,5,4,6,1,7,0]</span><div></div>",
                "<strong>Output: </strong><span id=\"example-output-1\">[5,5,2,5,4,5,6,7]</span><div></div>",
                "<strong>Explanation: </strong><div></div>",
                "answer[0] = 5.<div></div>",
                "Person 5 has more money than 3, which has more money than 1, which has more money than 0.<div></div>",
                "The only person who is quieter (has lower quiet[x]) is person 7, but<div></div>",
                "it isn&#39;t clear if they have more money than person 0.<div></div>",
                "<div></div>",
                "answer[7] = 7.<div></div>",
                "Among all people that definitely have equal to or more money than person 7<div></div>",
                "(which could be persons 3, 4, 5, 6, or 7), the person who is the quietest (has lower quiet[x])<div></div>",
                "is person 7.<div></div>",
                "<div></div>",
                "The other answers can be filled out with similar reasoning.<div></div>",
                "</pre><div></div>",
                "</div><div></div>",
                "<div></div>",
                "<p><strong>Note:</strong></p><div></div>",
                "<div></div>",
                "<ol><div></div>",
                "\t<li><code>1 &lt;= quiet.length = N &lt;= 500</code></li><div></div>",
                "\t<li><code>0 &lt;= quiet[i] &lt; N</code>, all <code>quiet[i]</code> are different.</li><div></div>",
                "\t<li><code>0 &lt;= richer.length &lt;= N * (N-1) / 2</code></li><div></div>",
                "\t<li><code>0 &lt;= richer[i][j] &lt; N</code></li><div></div>",
                "\t<li><code>richer[i][0] != richer[i][1]</code></li><div></div>",
                "\t<li><code>richer[i]</code>&#39;s are all different.</li><div></div>",
                "\t<li>The&nbsp;observations in <code>richer</code> are all logically consistent.</li><div></div>",
                "</ol><div></div>",
                "<div></div>"
            ],
            "metadata": {}
        },
        {
            "cell_type": "code",
            "metadata": {},
            "execution_count": null,
            "source": "%%writefile loud_and_rich.py\nclass Solution:\n    def loudAndRich(self, richer, quiet):\n        \"\"\"\n        :type richer: List[List[int]]\n        :type quiet: List[int]\n        :rtype: List[int]\n        \"\"\"",
            "outputs": []
        },
        {
            "cell_type": "code",
            "metadata": {},
            "execution_count": null,
            "source": "# submit\n%run ../../cli.py push --method=submit --path=loud_and_rich.py --clean=True",
            "outputs": []
        }
    ]
}