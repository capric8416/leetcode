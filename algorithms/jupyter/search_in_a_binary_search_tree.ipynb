{
    "nbformat": 4,
    "nbformat_minor": 2,
    "metadata": {
        "kernelspec": {
            "display_name": "Python 3",
            "language": "python",
            "name": "python3"
        },
        "language_info": {
            "codemirror_mode": {
                "name": "ipython",
                "version": 3
            },
            "file_extension": ".py",
            "mimetype": "text/x-python",
            "name": "python",
            "nbconvert_exporter": "python",
            "pygments_lexer": "ipython3",
            "version": "3.7.2"
        }
    },
    "cells": [
        {
            "cell_type": "markdown",
            "source": [
                "<h1>Search in a Binary Search Tree</h1>",
                "<p>Given the root node of a binary search tree (BST) and a value. You need to find the node in the BST that the node&#39;s value equals the given value. Return the subtree rooted with that node. If such node doesn&#39;t exist, you should return NULL.</p><div></div>",
                "<div></div>",
                "<p>For example,&nbsp;</p><div></div>",
                "<div></div>",
                "<pre><div></div>",
                "Given the tree:<div></div>",
                "        4<div></div>",
                "       / \\<div></div>",
                "      2   7<div></div>",
                "     / \\<div></div>",
                "    1   3<div></div>",
                "<div></div>",
                "And the value to search: 2<div></div>",
                "</pre><div></div>",
                "<div></div>",
                "<p>You should return this subtree:</p><div></div>",
                "<div></div>",
                "<pre><div></div>",
                "      2     <div></div>",
                "     / \\   <div></div>",
                "    1   3<div></div>",
                "</pre><div></div>",
                "<div></div>",
                "<p>In the example above, if we want to search the value <code>5</code>, since there is no node with value <code>5</code>, we should return <code>NULL</code>.</p><div></div>",
                "<div></div>",
                "<p>Note that an empty tree is represented by <code>NULL</code>, therefore you would see the expected output (serialized tree format) as&nbsp;<code>[]</code>, not <code>null</code>.</p><div></div>",
                "<div></div>"
            ],
            "metadata": {}
        },
        {
            "cell_type": "code",
            "metadata": {},
            "execution_count": null,
            "source": "%%writefile search_in_a_binary_search_tree.py\n# Definition for a binary tree node.\n# class TreeNode:\n#     def __init__(self, x):\n#         self.val = x\n#         self.left = None\n#         self.right = None\n\nclass Solution:\n    def searchBST(self, root, val):\n        \"\"\"\n        :type root: TreeNode\n        :type val: int\n        :rtype: TreeNode\n        \"\"\"",
            "outputs": []
        },
        {
            "cell_type": "code",
            "metadata": {},
            "execution_count": null,
            "source": "# submit\n%run ../../cli.py push --method=submit --path=search_in_a_binary_search_tree.py --clean=True",
            "outputs": []
        }
    ]
}