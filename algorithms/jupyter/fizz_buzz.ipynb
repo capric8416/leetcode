{
    "nbformat": 4,
    "nbformat_minor": 2,
    "metadata": {
        "kernelspec": {
            "display_name": "Python 3",
            "language": "python",
            "name": "python3"
        },
        "language_info": {
            "codemirror_mode": {
                "name": "ipython",
                "version": 3
            },
            "file_extension": ".py",
            "mimetype": "text/x-python",
            "name": "python",
            "nbconvert_exporter": "python",
            "pygments_lexer": "ipython3",
            "version": "3.7.2"
        }
    },
    "cells": [
        {
            "cell_type": "markdown",
            "source": [
                "<h1>Fizz Buzz</h1>",
                "<p>Write a program that outputs the string representation of numbers from 1 to <i>n</i>.</p><div></div>",
                "<div></div>",
                "<p>But for multiples of three it should output \u201cFizz\u201d instead of the number and for the multiples of five output \u201cBuzz\u201d. For numbers which are multiples of both three and five output \u201cFizzBuzz\u201d.</p><div></div>",
                "<div></div>",
                "<p><b>Example:</b><div></div>",
                "<pre><div></div>",
                "n = 15,<div></div>",
                "<div></div>",
                "Return:<div></div>",
                "[<div></div>",
                "    \"1\",<div></div>",
                "    \"2\",<div></div>",
                "    \"Fizz\",<div></div>",
                "    \"4\",<div></div>",
                "    \"Buzz\",<div></div>",
                "    \"Fizz\",<div></div>",
                "    \"7\",<div></div>",
                "    \"8\",<div></div>",
                "    \"Fizz\",<div></div>",
                "    \"Buzz\",<div></div>",
                "    \"11\",<div></div>",
                "    \"Fizz\",<div></div>",
                "    \"13\",<div></div>",
                "    \"14\",<div></div>",
                "    \"FizzBuzz\"<div></div>",
                "]<div></div>",
                "</pre><div></div>",
                "</p><div></div>"
            ],
            "metadata": {}
        },
        {
            "cell_type": "code",
            "metadata": {},
            "execution_count": null,
            "source": "%%writefile fizz_buzz.py\nclass Solution:\n    def fizzBuzz(self, n):\n        \"\"\"\n        :type n: int\n        :rtype: List[str]\n        \"\"\"",
            "outputs": []
        },
        {
            "cell_type": "code",
            "metadata": {},
            "execution_count": null,
            "source": "# submit\n%run ../../cli.py push --method=submit --path=fizz_buzz.py --clean=True",
            "outputs": []
        }
    ]
}