{
    "nbformat": 4,
    "nbformat_minor": 2,
    "metadata": {
        "kernelspec": {
            "display_name": "Python 3",
            "language": "python",
            "name": "python3"
        },
        "language_info": {
            "codemirror_mode": {
                "name": "ipython",
                "version": 3
            },
            "file_extension": ".py",
            "mimetype": "text/x-python",
            "name": "python",
            "nbconvert_exporter": "python",
            "pygments_lexer": "ipython3",
            "version": "3.7.2"
        }
    },
    "cells": [
        {
            "cell_type": "markdown",
            "source": [
                "<h1>Binary Search Tree Iterator</h1>",
                "<p>Implement an iterator over a binary search tree (BST). Your iterator will be initialized with the root node of a BST.</p><div></div>",
                "<div></div>",
                "<p>Calling <code>next()</code> will return the next smallest number in the BST.</p><div></div>",
                "<div></div>",
                "<p>&nbsp;</p><div></div>",
                "<div></div>",
                "<ul><div></div>",
                "</ul><div></div>",
                "<div></div>",
                "<p><strong>Example:</strong></p><div></div>",
                "<div></div>",
                "<p><strong><img alt=\"\" src=\"https://assets.leetcode.com/uploads/2018/12/25/bst-tree.png\" style=\"width: 189px; height: 178px;\" /></strong></p><div></div>",
                "<div></div>",
                "<pre><div></div>",
                "BSTIterator iterator = new BSTIterator(root);<div></div>",
                "iterator.next();    // return 3<div></div>",
                "iterator.next();    // return 7<div></div>",
                "iterator.hasNext(); // return true<div></div>",
                "iterator.next();    // return 9<div></div>",
                "iterator.hasNext(); // return true<div></div>",
                "iterator.next();    // return 15<div></div>",
                "iterator.hasNext(); // return true<div></div>",
                "iterator.next();    // return 20<div></div>",
                "iterator.hasNext(); // return false<div></div>",
                "</pre><div></div>",
                "<div></div>",
                "<p>&nbsp;</p><div></div>",
                "<div></div>",
                "<p><b>Note:</b></p><div></div>",
                "<div></div>",
                "<ul><div></div>",
                "\t<li><code>next()</code> and <code>hasNext()</code> should run in average O(1) time and uses O(<i>h</i>) memory, where <i>h</i> is the height of the tree.</li><div></div>",
                "\t<li>You may assume that&nbsp;<code>next()</code>&nbsp;call&nbsp;will always be valid, that is, there will be at least a next smallest number in the BST when <code>next()</code> is called.</li><div></div>",
                "</ul><div></div>",
                "<div></div>"
            ],
            "metadata": {}
        },
        {
            "cell_type": "code",
            "metadata": {},
            "execution_count": null,
            "source": "%%writefile binary_search_tree_iterator.py\n# Definition for a binary tree node.\n# class TreeNode:\n#     def __init__(self, x):\n#         self.val = x\n#         self.left = None\n#         self.right = None\n\nclass BSTIterator:\n\n    def __init__(self, root):\n        \"\"\"\n        :type root: TreeNode\n        \"\"\"\n        \n\n    def next(self):\n        \"\"\"\n        @return the next smallest number\n        :rtype: int\n        \"\"\"\n        \n\n    def hasNext(self):\n        \"\"\"\n        @return whether we have a next smallest number\n        :rtype: bool\n        \"\"\"\n        \n\n\n# Your BSTIterator object will be instantiated and called as such:\n# obj = BSTIterator(root)\n# param_1 = obj.next()\n# param_2 = obj.hasNext()",
            "outputs": []
        },
        {
            "cell_type": "code",
            "metadata": {},
            "execution_count": null,
            "source": "# submit\n%run ../../cli.py push --method=submit --path=binary_search_tree_iterator.py --clean=True",
            "outputs": []
        }
    ]
}