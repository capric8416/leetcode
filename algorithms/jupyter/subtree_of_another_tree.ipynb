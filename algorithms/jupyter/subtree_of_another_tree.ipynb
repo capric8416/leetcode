{
    "nbformat": 4,
    "nbformat_minor": 2,
    "metadata": {
        "kernelspec": {
            "display_name": "Python 3",
            "language": "python",
            "name": "python3"
        },
        "language_info": {
            "codemirror_mode": {
                "name": "ipython",
                "version": 3
            },
            "file_extension": ".py",
            "mimetype": "text/x-python",
            "name": "python",
            "nbconvert_exporter": "python",
            "pygments_lexer": "ipython3",
            "version": "3.7.2"
        }
    },
    "cells": [
        {
            "cell_type": "markdown",
            "source": [
                "<h1>Subtree of Another Tree</h1>",
                "<p><div></div>",
                "Given two non-empty binary trees <b>s</b> and <b>t</b>, check whether tree <b>t</b> has exactly the same structure and node values with a subtree of <b>s</b>. A subtree of <b>s</b> is a tree consists of a node in <b>s</b> and all of this node's descendants. The tree <b>s</b> could also be considered as a subtree of itself.<div></div>",
                "</p><div></div>",
                "<div></div>",
                "<p><b>Example 1:</b><br><div></div>",
                "<div></div>",
                "Given tree s:<div></div>",
                "<pre><div></div>",
                "     3<div></div>",
                "    / \\<div></div>",
                "   4   5<div></div>",
                "  / \\<div></div>",
                " 1   2<div></div>",
                "</pre><div></div>",
                "Given tree t:<div></div>",
                "<pre><div></div>",
                "   4 <div></div>",
                "  / \\<div></div>",
                " 1   2<div></div>",
                "</pre><div></div>",
                "Return <b>true</b>, because t has the same structure and node values with a subtree of s.<div></div>",
                "</p><div></div>",
                "<div></div>",
                "<p><b>Example 2:</b><br><div></div>",
                "<div></div>",
                "Given tree s:<div></div>",
                "<pre><div></div>",
                "     3<div></div>",
                "    / \\<div></div>",
                "   4   5<div></div>",
                "  / \\<div></div>",
                " 1   2<div></div>",
                "    /<div></div>",
                "   0<div></div>",
                "</pre><div></div>",
                "Given tree t:<div></div>",
                "<pre><div></div>",
                "   4<div></div>",
                "  / \\<div></div>",
                " 1   2<div></div>",
                "</pre><div></div>",
                "Return <b>false</b>.<div></div>",
                "</p><div></div>"
            ],
            "metadata": {}
        },
        {
            "cell_type": "code",
            "metadata": {},
            "execution_count": null,
            "source": "%%writefile subtree_of_another_tree.py\nclass Solution:\n    def isSubtree(self, s, t):\n        \"\"\"\n        :type s: TreeNode\n        :type t: TreeNode\n        :rtype: bool\n        \"\"\"",
            "outputs": []
        },
        {
            "cell_type": "code",
            "metadata": {},
            "execution_count": null,
            "source": "# submit\n%run ../../cli.py push --method=submit --path=subtree_of_another_tree.py --clean=True",
            "outputs": []
        }
    ]
}