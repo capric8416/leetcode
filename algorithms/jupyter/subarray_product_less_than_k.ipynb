{
    "nbformat": 4,
    "nbformat_minor": 2,
    "metadata": {
        "kernelspec": {
            "display_name": "Python 3",
            "language": "python",
            "name": "python3"
        },
        "language_info": {
            "codemirror_mode": {
                "name": "ipython",
                "version": 3
            },
            "file_extension": ".py",
            "mimetype": "text/x-python",
            "name": "python",
            "nbconvert_exporter": "python",
            "pygments_lexer": "ipython3",
            "version": "3.7.2"
        }
    },
    "cells": [
        {
            "cell_type": "markdown",
            "source": [
                "<h1>Subarray Product Less Than K</h1>",
                "<p>Your are given an array of positive integers <code>nums</code>.</p><div></div>",
                "<p>Count and print the number of (contiguous) subarrays where the product of all the elements in the subarray is less than <code>k</code>.</p><div></div>",
                "<div></div>",
                "<p><b>Example 1:</b><br /><div></div>",
                "<pre><div></div>",
                "<b>Input:</b> nums = [10, 5, 2, 6], k = 100<div></div>",
                "<b>Output:</b> 8<div></div>",
                "<b>Explanation:</b> The 8 subarrays that have product less than 100 are: [10], [5], [2], [6], [10, 5], [5, 2], [2, 6], [5, 2, 6].<div></div>",
                "Note that [10, 5, 2] is not included as the product of 100 is not strictly less than k.<div></div>",
                "</pre><div></div>",
                "</p><div></div>",
                "<div></div>",
                "<p><b>Note:</b><div></div>",
                "<li><code>0 < nums.length <= 50000</code>.</li><div></div>",
                "<li><code>0 < nums[i] < 1000</code>.</li><div></div>",
                "<li><code>0 <= k < 10^6</code>.</li><div></div>",
                "</p><div></div>"
            ],
            "metadata": {}
        },
        {
            "cell_type": "code",
            "metadata": {},
            "execution_count": null,
            "source": "%%writefile subarray_product_less_than_k.py\nclass Solution:\n    def numSubarrayProductLessThanK(self, nums, k):\n        \"\"\"\n        :type nums: List[int]\n        :type k: int\n        :rtype: int\n        \"\"\"",
            "outputs": []
        },
        {
            "cell_type": "code",
            "metadata": {},
            "execution_count": null,
            "source": "# submit\n%run ../../cli.py push --method=submit --path=subarray_product_less_than_k.py --clean=True",
            "outputs": []
        }
    ]
}