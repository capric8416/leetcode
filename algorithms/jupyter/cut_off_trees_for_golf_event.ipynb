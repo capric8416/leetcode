{
    "nbformat": 4,
    "nbformat_minor": 2,
    "metadata": {
        "kernelspec": {
            "display_name": "Python 3",
            "language": "python",
            "name": "python3"
        },
        "language_info": {
            "codemirror_mode": {
                "name": "ipython",
                "version": 3
            },
            "file_extension": ".py",
            "mimetype": "text/x-python",
            "name": "python",
            "nbconvert_exporter": "python",
            "pygments_lexer": "ipython3",
            "version": "3.7.2"
        }
    },
    "cells": [
        {
            "cell_type": "markdown",
            "source": [
                "<h1>Cut Off Trees for Golf Event</h1>",
                "<p><div></div>",
                "You are asked to cut off trees in a forest for a golf event. The forest is represented as a non-negative 2D map, in this map:<div></div>",
                "<ol><div></div>",
                "<li><code>0</code> represents the <code>obstacle</code> can't be reached.</li><div></div>",
                "<li><code>1</code> represents the <code>ground</code> can be walked through.</li><div></div>",
                "<li><code>The place with number bigger than 1</code> represents a <code>tree</code> can be walked through, and this positive number represents the tree's height.</li><div></div>",
                "</ol><div></div>",
                "</p><div></div>",
                "<div></div>",
                "<p><div></div>",
                "You are asked to cut off <b>all</b> the trees in this forest in the order of tree's height - always cut off the tree with lowest height first. And after cutting, the original place has the tree will become a grass (value 1). <div></div>",
                "</p><div></div>",
                "<div></div>",
                "<p><div></div>",
                "You will start from the point (0, 0) and you should output the minimum steps <b>you need to walk</b> to cut off all the trees. If you can't cut off all the trees, output -1 in that situation.<div></div>",
                "</p><div></div>",
                "<div></div>",
                "<p><div></div>",
                "You are guaranteed that no two <code>trees</code> have the same height and there is at least one tree needs to be cut off.<div></div>",
                "</p><div></div>",
                "<div></div>",
                "<p><b>Example 1:</b><br /><div></div>",
                "<pre><div></div>",
                "<b>Input:</b> <div></div>",
                "[<div></div>",
                " [1,2,3],<div></div>",
                " [0,0,4],<div></div>",
                " [7,6,5]<div></div>",
                "]<div></div>",
                "<b>Output:</b> 6<div></div>",
                "</pre><div></div>",
                "</p><div></div>",
                "<div></div>",
                "<p><b>Example 2:</b><br /><div></div>",
                "<pre><div></div>",
                "<b>Input:</b> <div></div>",
                "[<div></div>",
                " [1,2,3],<div></div>",
                " [0,0,0],<div></div>",
                " [7,6,5]<div></div>",
                "]<div></div>",
                "<b>Output:</b> -1<div></div>",
                "</pre><div></div>",
                "</p><div></div>",
                "<div></div>",
                "<p><b>Example 3:</b><br /><div></div>",
                "<pre><div></div>",
                "<b>Input:</b> <div></div>",
                "[<div></div>",
                " [2,3,4],<div></div>",
                " [0,0,5],<div></div>",
                " [8,7,6]<div></div>",
                "]<div></div>",
                "<b>Output:</b> 6<div></div>",
                "<b>Explanation:</b> You started from the point (0,0) and you can cut off the tree in (0,0) directly without walking.<div></div>",
                "</pre><div></div>",
                "</p><div></div>",
                "<div></div>",
                "<p><div></div>",
                "<b>Hint</b>: size of the given matrix will not exceed 50x50.<div></div>",
                "</p><div></div>"
            ],
            "metadata": {}
        },
        {
            "cell_type": "code",
            "metadata": {},
            "execution_count": null,
            "source": "%%writefile cut_off_trees_for_golf_event.py\nclass Solution:\n    def cutOffTree(self, forest):\n        \"\"\"\n        :type forest: List[List[int]]\n        :rtype: int\n        \"\"\"",
            "outputs": []
        },
        {
            "cell_type": "code",
            "metadata": {},
            "execution_count": null,
            "source": "# submit\n%run ../../cli.py push --method=submit --path=cut_off_trees_for_golf_event.py --clean=True",
            "outputs": []
        }
    ]
}