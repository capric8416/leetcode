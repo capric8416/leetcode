{
    "nbformat": 4,
    "nbformat_minor": 2,
    "metadata": {
        "kernelspec": {
            "display_name": "Python 3",
            "language": "python",
            "name": "python3"
        },
        "language_info": {
            "codemirror_mode": {
                "name": "ipython",
                "version": 3
            },
            "file_extension": ".py",
            "mimetype": "text/x-python",
            "name": "python",
            "nbconvert_exporter": "python",
            "pygments_lexer": "ipython3",
            "version": "3.7.2"
        }
    },
    "cells": [
        {
            "cell_type": "markdown",
            "source": [
                "<h1>Best Time to Buy and Sell Stock with Cooldown</h1>",
                "<p>Say you have an array for which the <i>i</i><sup>th</sup> element is the price of a given stock on day <i>i</i>.</p><div></div>",
                "<div></div>",
                "<p>Design an algorithm to find the maximum profit. You may complete as many transactions as you like (ie, buy one and sell one share of the stock multiple times) with the following restrictions:</p><div></div>",
                "<div></div>",
                "<ul><div></div>",
                "\t<li>You may not engage in multiple transactions at the same time (ie, you must sell the stock before you buy again).</li><div></div>",
                "\t<li>After you sell your stock, you cannot buy stock on next day. (ie, cooldown 1 day)</li><div></div>",
                "</ul><div></div>",
                "<div></div>",
                "<p><b>Example:</b></p><div></div>",
                "<div></div>",
                "<pre><div></div>",
                "<strong>Input:</strong> [1,2,3,0,2]<div></div>",
                "<strong>Output: </strong>3 <div></div>",
                "<strong>Explanation:</strong> transactions = [buy, sell, cooldown, buy, sell]<div></div>",
                "</pre><div></div>"
            ],
            "metadata": {}
        },
        {
            "cell_type": "code",
            "metadata": {},
            "execution_count": null,
            "source": "%%writefile best_time_to_buy_and_sell_stock_with_cooldown.py\nclass Solution:\n    def maxProfit(self, prices):\n        \"\"\"\n        :type prices: List[int]\n        :rtype: int\n        \"\"\"",
            "outputs": []
        },
        {
            "cell_type": "code",
            "metadata": {},
            "execution_count": null,
            "source": "# submit\n%run ../../cli.py push --method=submit --path=best_time_to_buy_and_sell_stock_with_cooldown.py --clean=True",
            "outputs": []
        }
    ]
}