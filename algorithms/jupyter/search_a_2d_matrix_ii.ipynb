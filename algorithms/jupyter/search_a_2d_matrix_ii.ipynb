{
    "nbformat": 4,
    "nbformat_minor": 2,
    "metadata": {
        "kernelspec": {
            "display_name": "Python 3",
            "language": "python",
            "name": "python3"
        },
        "language_info": {
            "codemirror_mode": {
                "name": "ipython",
                "version": 3
            },
            "file_extension": ".py",
            "mimetype": "text/x-python",
            "name": "python",
            "nbconvert_exporter": "python",
            "pygments_lexer": "ipython3",
            "version": "3.7.2"
        }
    },
    "cells": [
        {
            "cell_type": "markdown",
            "source": [
                "<h1>Search a 2D Matrix II</h1>",
                "<p>Write an efficient algorithm that searches for a value in an <i>m</i> x <i>n</i> matrix. This matrix has the following properties:</p><div></div>",
                "<div></div>",
                "<ul><div></div>",
                "\t<li>Integers in each row are sorted in ascending from left to right.</li><div></div>",
                "\t<li>Integers in each column are sorted in ascending from top to bottom.</li><div></div>",
                "</ul><div></div>",
                "<div></div>",
                "<p><strong>Example:</strong></p><div></div>",
                "<div></div>",
                "<p>Consider the following matrix:</p><div></div>",
                "<div></div>",
                "<pre><div></div>",
                "[<div></div>",
                "  [1,   4,  7, 11, 15],<div></div>",
                "  [2,   5,  8, 12, 19],<div></div>",
                "  [3,   6,  9, 16, 22],<div></div>",
                "  [10, 13, 14, 17, 24],<div></div>",
                "  [18, 21, 23, 26, 30]<div></div>",
                "]<div></div>",
                "</pre><div></div>",
                "<div></div>",
                "<p>Given&nbsp;target&nbsp;=&nbsp;<code>5</code>, return&nbsp;<code>true</code>.</p><div></div>",
                "<div></div>",
                "<p>Given&nbsp;target&nbsp;=&nbsp;<code>20</code>, return&nbsp;<code>false</code>.</p><div></div>",
                "<div></div>"
            ],
            "metadata": {}
        },
        {
            "cell_type": "code",
            "metadata": {},
            "execution_count": null,
            "source": "%%writefile search_a_2d_matrix_ii.py\nclass Solution:\n    def searchMatrix(self, matrix, target):\n        \"\"\"\n        :type matrix: List[List[int]]\n        :type target: int\n        :rtype: bool\n        \"\"\"",
            "outputs": []
        },
        {
            "cell_type": "code",
            "metadata": {},
            "execution_count": null,
            "source": "# submit\n%run ../../cli.py push --method=submit --path=search_a_2d_matrix_ii.py --clean=True",
            "outputs": []
        }
    ]
}