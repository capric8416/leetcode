{
    "nbformat": 4,
    "nbformat_minor": 2,
    "metadata": {
        "kernelspec": {
            "display_name": "Python 3",
            "language": "python",
            "name": "python3"
        },
        "language_info": {
            "codemirror_mode": {
                "name": "ipython",
                "version": 3
            },
            "file_extension": ".py",
            "mimetype": "text/x-python",
            "name": "python",
            "nbconvert_exporter": "python",
            "pygments_lexer": "ipython3",
            "version": "3.7.2"
        }
    },
    "cells": [
        {
            "cell_type": "markdown",
            "source": [
                "<h1>Find Right Interval</h1>",
                "<p><div></div>",
                "Given a set of intervals, for each of the interval i, check if there exists an interval j whose start point is bigger than or equal to the end point of the interval i, which can be called that j is on the \"right\" of i.<div></div>",
                "</p><div></div>",
                "<div></div>",
                "<p><div></div>",
                "For any interval i, you need to store the minimum interval j's index, which means that the interval j has the minimum start point to build the \"right\" relationship for interval i. If the interval j doesn't exist, store -1 for the interval i. Finally, you need output the stored value of each interval as an array.<div></div>",
                "</p><div></div>",
                "<div></div>",
                "<p><b>Note:</b><br /><div></div>",
                "<ol><div></div>",
                "<li>You may assume the interval's end point is always bigger than its start point.</li><div></div>",
                "<li>You may assume none of these intervals have the same start point.</li><div></div>",
                "</ol><div></div>",
                "</p><div></div>",
                "<div></div>",
                "<p><b>Example 1:</b><br /><div></div>",
                "<pre><div></div>",
                "<b>Input:</b> [ [1,2] ]<div></div>",
                "<div></div>",
                "<b>Output:</b> [-1]<div></div>",
                "<div></div>",
                "<b>Explanation:</b> There is only one interval in the collection, so it outputs -1.<div></div>",
                "</pre><div></div>",
                "</p><div></div>",
                "<div></div>",
                "<p><b>Example 2:</b><br /><div></div>",
                "<pre><div></div>",
                "<b>Input:</b> [ [3,4], [2,3], [1,2] ]<div></div>",
                "<div></div>",
                "<b>Output:</b> [-1, 0, 1]<div></div>",
                "<div></div>",
                "<b>Explanation:</b> There is no satisfied \"right\" interval for [3,4].<div></div>",
                "For [2,3], the interval [3,4] has minimum-\"right\" start point;<div></div>",
                "For [1,2], the interval [2,3] has minimum-\"right\" start point.<div></div>",
                "</pre><div></div>",
                "</p><div></div>",
                "<div></div>",
                "<p><b>Example 3:</b><br /><div></div>",
                "<pre><div></div>",
                "<b>Input:</b> [ [1,4], [2,3], [3,4] ]<div></div>",
                "<div></div>",
                "<b>Output:</b> [-1, 2, -1]<div></div>",
                "<div></div>",
                "<b>Explanation:</b> There is no satisfied \"right\" interval for [1,4] and [3,4].<div></div>",
                "For [2,3], the interval [3,4] has minimum-\"right\" start point.<div></div>",
                "</pre><div></div>",
                "</p><div></div>"
            ],
            "metadata": {}
        },
        {
            "cell_type": "code",
            "metadata": {},
            "execution_count": null,
            "source": "%%writefile find_right_interval.py\n# Definition for an interval.\n# class Interval:\n#     def __init__(self, s=0, e=0):\n#         self.start = s\n#         self.end = e\n\nclass Solution:\n    def findRightInterval(self, intervals):\n        \"\"\"\n        :type intervals: List[Interval]\n        :rtype: List[int]\n        \"\"\"",
            "outputs": []
        },
        {
            "cell_type": "code",
            "metadata": {},
            "execution_count": null,
            "source": "# submit\n%run ../../cli.py push --method=submit --path=find_right_interval.py --clean=True",
            "outputs": []
        }
    ]
}