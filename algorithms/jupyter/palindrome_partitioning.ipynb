{
    "nbformat": 4,
    "nbformat_minor": 2,
    "metadata": {
        "kernelspec": {
            "display_name": "Python 3",
            "language": "python",
            "name": "python3"
        },
        "language_info": {
            "codemirror_mode": {
                "name": "ipython",
                "version": 3
            },
            "file_extension": ".py",
            "mimetype": "text/x-python",
            "name": "python",
            "nbconvert_exporter": "python",
            "pygments_lexer": "ipython3",
            "version": "3.7.2"
        }
    },
    "cells": [
        {
            "cell_type": "markdown",
            "source": [
                "<h1>Palindrome Partitioning</h1>",
                "<p>Given a string <em>s</em>, partition <em>s</em> such that every substring of the partition is a palindrome.</p><div></div>",
                "<div></div>",
                "<p>Return all possible palindrome partitioning of <em>s</em>.</p><div></div>",
                "<div></div>",
                "<p><strong>Example:</strong></p><div></div>",
                "<div></div>",
                "<pre><div></div>",
                "<strong>Input:</strong>&nbsp;&quot;aab&quot;<div></div>",
                "<strong>Output:</strong><div></div>",
                "[<div></div>",
                "  [&quot;aa&quot;,&quot;b&quot;],<div></div>",
                "  [&quot;a&quot;,&quot;a&quot;,&quot;b&quot;]<div></div>",
                "]<div></div>",
                "</pre><div></div>",
                "<div></div>"
            ],
            "metadata": {}
        },
        {
            "cell_type": "code",
            "metadata": {},
            "execution_count": null,
            "source": "%%writefile palindrome_partitioning.py\nclass Solution:\n    def partition(self, s):\n        \"\"\"\n        :type s: str\n        :rtype: List[List[str]]\n        \"\"\"",
            "outputs": []
        },
        {
            "cell_type": "code",
            "metadata": {},
            "execution_count": null,
            "source": "# submit\n%run ../../cli.py push --method=submit --path=palindrome_partitioning.py --clean=True",
            "outputs": []
        }
    ]
}