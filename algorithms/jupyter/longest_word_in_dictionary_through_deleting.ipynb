{
    "nbformat": 4,
    "nbformat_minor": 2,
    "metadata": {
        "kernelspec": {
            "display_name": "Python 3",
            "language": "python",
            "name": "python3"
        },
        "language_info": {
            "codemirror_mode": {
                "name": "ipython",
                "version": 3
            },
            "file_extension": ".py",
            "mimetype": "text/x-python",
            "name": "python",
            "nbconvert_exporter": "python",
            "pygments_lexer": "ipython3",
            "version": "3.7.2"
        }
    },
    "cells": [
        {
            "cell_type": "markdown",
            "source": [
                "<h1>Longest Word in Dictionary through Deleting</h1>",
                "<p><div></div>",
                "Given a string and a string dictionary, find the longest string in the dictionary that can be formed by deleting some characters of the given string. If there are more than one possible results, return the longest word with the smallest lexicographical order. If there is no possible result, return the empty string.<div></div>",
                "</p><div></div>",
                "<p><b>Example 1:</b><br><div></div>",
                "<pre><div></div>",
                "<b>Input:</b><div></div>",
                "s = \"abpcplea\", d = [\"ale\",\"apple\",\"monkey\",\"plea\"]<div></div>",
                "<div></div>",
                "<b>Output:</b> <div></div>",
                "\"apple\"<div></div>",
                "</pre><div></div>",
                "</p><div></div>",
                "<div></div>",
                "</p><div></div>",
                "<p><b>Example 2:</b><br><div></div>",
                "<pre><div></div>",
                "<b>Input:</b><div></div>",
                "s = \"abpcplea\", d = [\"a\",\"b\",\"c\"]<div></div>",
                "<div></div>",
                "<b>Output:</b> <div></div>",
                "\"a\"<div></div>",
                "</pre><div></div>",
                "</p><div></div>",
                "<div></div>",
                "<p><b>Note:</b><br><div></div>",
                "<ol><div></div>",
                "<li>All the strings in the input will only contain lower-case letters.</li><div></div>",
                "<li>The size of the dictionary won't exceed 1,000.</li><div></div>",
                "<li>The length of all the strings in the input won't exceed 1,000.</li><div></div>",
                "</ol><div></div>",
                "</p><div></div>"
            ],
            "metadata": {}
        },
        {
            "cell_type": "code",
            "metadata": {},
            "execution_count": null,
            "source": "%%writefile longest_word_in_dictionary_through_deleting.py\nclass Solution:\n    def findLongestWord(self, s, d):\n        \"\"\"\n        :type s: str\n        :type d: List[str]\n        :rtype: str\n        \"\"\"",
            "outputs": []
        },
        {
            "cell_type": "code",
            "metadata": {},
            "execution_count": null,
            "source": "# submit\n%run ../../cli.py push --method=submit --path=longest_word_in_dictionary_through_deleting.py --clean=True",
            "outputs": []
        }
    ]
}