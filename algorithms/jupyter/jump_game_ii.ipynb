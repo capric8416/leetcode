{
    "nbformat": 4,
    "nbformat_minor": 2,
    "metadata": {
        "kernelspec": {
            "display_name": "Python 3",
            "language": "python",
            "name": "python3"
        },
        "language_info": {
            "codemirror_mode": {
                "name": "ipython",
                "version": 3
            },
            "file_extension": ".py",
            "mimetype": "text/x-python",
            "name": "python",
            "nbconvert_exporter": "python",
            "pygments_lexer": "ipython3",
            "version": "3.7.2"
        }
    },
    "cells": [
        {
            "cell_type": "markdown",
            "source": [
                "<h1>Jump Game II</h1>",
                "<p>Given an array of non-negative integers, you are initially positioned at the first index of the array.</p><div></div>",
                "<div></div>",
                "<p>Each element in the array represents your maximum jump length at that position.</p><div></div>",
                "<div></div>",
                "<p>Your goal is to reach the last index in the minimum number of jumps.</p><div></div>",
                "<div></div>",
                "<p><strong>Example:</strong></p><div></div>",
                "<div></div>",
                "<pre><div></div>",
                "<strong>Input:</strong> [2,3,1,1,4]<div></div>",
                "<strong>Output:</strong> 2<div></div>",
                "<strong>Explanation:</strong> The minimum number of jumps to reach the last index is 2.<div></div>",
                "    Jump 1 step from index 0 to 1, then 3 steps to the last index.</pre><div></div>",
                "<div></div>",
                "<p><strong>Note:</strong></p><div></div>",
                "<div></div>",
                "<p>You can assume that you can always reach the last index.</p><div></div>",
                "<div></div>"
            ],
            "metadata": {}
        },
        {
            "cell_type": "code",
            "metadata": {},
            "execution_count": null,
            "source": "%%writefile jump_game_ii.py\nclass Solution:\n    def jump(self, nums):\n        \"\"\"\n        :type nums: List[int]\n        :rtype: int\n        \"\"\"",
            "outputs": []
        },
        {
            "cell_type": "code",
            "metadata": {},
            "execution_count": null,
            "source": "# submit\n%run ../../cli.py push --method=submit --path=jump_game_ii.py --clean=True",
            "outputs": []
        }
    ]
}