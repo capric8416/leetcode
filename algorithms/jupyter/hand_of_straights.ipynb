{
    "nbformat": 4,
    "nbformat_minor": 2,
    "metadata": {
        "kernelspec": {
            "display_name": "Python 3",
            "language": "python",
            "name": "python3"
        },
        "language_info": {
            "codemirror_mode": {
                "name": "ipython",
                "version": 3
            },
            "file_extension": ".py",
            "mimetype": "text/x-python",
            "name": "python",
            "nbconvert_exporter": "python",
            "pygments_lexer": "ipython3",
            "version": "3.7.2"
        }
    },
    "cells": [
        {
            "cell_type": "markdown",
            "source": [
                "<h1>Hand of Straights</h1>",
                "<p>Alice has a <code>hand</code> of cards, given as an array of integers.</p><div></div>",
                "<div></div>",
                "<p>Now she wants to rearrange the cards into groups so that each group is size <code>W</code>, and consists of <code>W</code> consecutive cards.</p><div></div>",
                "<div></div>",
                "<p>Return <code>true</code> if and only if she can.</p><div></div>",
                "<div></div>",
                "<p>&nbsp;</p><div></div>",
                "<div></div>",
                "<ol><div></div>",
                "</ol><div></div>",
                "<div></div>",
                "<p><strong>Example 1:</strong></p><div></div>",
                "<div></div>",
                "<pre><div></div>",
                "<strong>Input: </strong>hand = [1,2,3,6,2,3,4,7,8], W = 3<div></div>",
                "<strong>Output: </strong>true<div></div>",
                "<strong>Explanation:</strong> Alice&#39;s <code>hand</code> can be rearranged as <code>[1,2,3],[2,3,4],[6,7,8]</code>.</pre><div></div>",
                "<div></div>",
                "<p><strong>Example 2:</strong></p><div></div>",
                "<div></div>",
                "<pre><div></div>",
                "<strong>Input: </strong>hand = [1,2,3,4,5], W = 4<div></div>",
                "<strong>Output: </strong>false<div></div>",
                "<strong>Explanation:</strong> Alice&#39;s <code>hand</code> can&#39;t be rearranged into groups of <code>4</code>.</pre><div></div>",
                "<div></div>",
                "<p>&nbsp;</p><div></div>",
                "<div></div>",
                "<p><strong>Note:</strong></p><div></div>",
                "<div></div>",
                "<ol><div></div>",
                "\t<li><code>1 &lt;= hand.length &lt;= 10000</code></li><div></div>",
                "\t<li><code>0 &lt;= hand[i]&nbsp;&lt;= 10^9</code></li><div></div>",
                "\t<li><code>1 &lt;= W &lt;= hand.length</code></li><div></div>",
                "</ol><div></div>",
                "<div></div>"
            ],
            "metadata": {}
        },
        {
            "cell_type": "code",
            "metadata": {},
            "execution_count": null,
            "source": "%%writefile hand_of_straights.py\nclass Solution:\n    def isNStraightHand(self, hand, W):\n        \"\"\"\n        :type hand: List[int]\n        :type W: int\n        :rtype: bool\n        \"\"\"",
            "outputs": []
        },
        {
            "cell_type": "code",
            "metadata": {},
            "execution_count": null,
            "source": "# submit\n%run ../../cli.py push --method=submit --path=hand_of_straights.py --clean=True",
            "outputs": []
        }
    ]
}