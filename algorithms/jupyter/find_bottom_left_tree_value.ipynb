{
    "nbformat": 4,
    "nbformat_minor": 2,
    "metadata": {
        "kernelspec": {
            "display_name": "Python 3",
            "language": "python",
            "name": "python3"
        },
        "language_info": {
            "codemirror_mode": {
                "name": "ipython",
                "version": 3
            },
            "file_extension": ".py",
            "mimetype": "text/x-python",
            "name": "python",
            "nbconvert_exporter": "python",
            "pygments_lexer": "ipython3",
            "version": "3.7.2"
        }
    },
    "cells": [
        {
            "cell_type": "markdown",
            "source": [
                "<h1>Find Bottom Left Tree Value</h1>",
                "<p><div></div>",
                "Given a binary tree, find the leftmost value in the last row of the tree. <div></div>",
                "</p><div></div>",
                "<div></div>",
                "<p><b>Example 1:</b><br /><div></div>",
                "<pre><div></div>",
                "Input:<div></div>",
                "<div></div>",
                "    2<div></div>",
                "   / \\<div></div>",
                "  1   3<div></div>",
                "<div></div>",
                "Output:<div></div>",
                "1<div></div>",
                "</pre><div></div>",
                "</p><div></div>",
                "<div></div>",
                "<p> <b> Example 2: </b><br><div></div>",
                "<pre><div></div>",
                "Input:<div></div>",
                "<div></div>",
                "        1<div></div>",
                "       / \\<div></div>",
                "      2   3<div></div>",
                "     /   / \\<div></div>",
                "    4   5   6<div></div>",
                "       /<div></div>",
                "      7<div></div>",
                "<div></div>",
                "Output:<div></div>",
                "7<div></div>",
                "</pre><div></div>",
                "</p><div></div>",
                "<div></div>",
                "<p><b>Note:</b><div></div>",
                "You may assume the tree (i.e., the given root node) is not <b>NULL</b>.<div></div>",
                "</p><div></div>"
            ],
            "metadata": {}
        },
        {
            "cell_type": "code",
            "metadata": {},
            "execution_count": null,
            "source": "%%writefile find_bottom_left_tree_value.py\n# Definition for a binary tree node.\n# class TreeNode:\n#     def __init__(self, x):\n#         self.val = x\n#         self.left = None\n#         self.right = None\n\nclass Solution:\n    def findBottomLeftValue(self, root):\n        \"\"\"\n        :type root: TreeNode\n        :rtype: int\n        \"\"\"",
            "outputs": []
        },
        {
            "cell_type": "code",
            "metadata": {},
            "execution_count": null,
            "source": "# submit\n%run ../../cli.py push --method=submit --path=find_bottom_left_tree_value.py --clean=True",
            "outputs": []
        }
    ]
}