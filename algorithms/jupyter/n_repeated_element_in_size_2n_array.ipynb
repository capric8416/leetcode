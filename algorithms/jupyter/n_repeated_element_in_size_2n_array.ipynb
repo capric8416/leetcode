{
    "nbformat": 4,
    "nbformat_minor": 2,
    "metadata": {
        "kernelspec": {
            "display_name": "Python 3",
            "language": "python",
            "name": "python3"
        },
        "language_info": {
            "codemirror_mode": {
                "name": "ipython",
                "version": 3
            },
            "file_extension": ".py",
            "mimetype": "text/x-python",
            "name": "python",
            "nbconvert_exporter": "python",
            "pygments_lexer": "ipython3",
            "version": "3.7.2"
        }
    },
    "cells": [
        {
            "cell_type": "markdown",
            "source": [
                "<h1>N-Repeated Element in Size 2N Array</h1>",
                "<p>In a array <code>A</code> of size <code>2N</code>, there are <code>N+1</code> unique elements, and exactly one of these elements is repeated N times.</p><div></div>",
                "<div></div>",
                "<p>Return the element repeated <code>N</code> times.</p><div></div>",
                "<div></div>",
                "<p>&nbsp;</p><div></div>",
                "<div></div>",
                "<ol><div></div>",
                "</ol><div></div>",
                "<div></div>",
                "<div><div></div>",
                "<p><strong>Example 1:</strong></p><div></div>",
                "<div></div>",
                "<pre><div></div>",
                "<strong>Input: </strong><span id=\"example-input-1-1\">[1,2,3,3]</span><div></div>",
                "<strong>Output: </strong><span id=\"example-output-1\">3</span><div></div>",
                "</pre><div></div>",
                "<div></div>",
                "<div><div></div>",
                "<p><strong>Example 2:</strong></p><div></div>",
                "<div></div>",
                "<pre><div></div>",
                "<strong>Input: </strong><span id=\"example-input-2-1\">[2,1,2,5,3,2]</span><div></div>",
                "<strong>Output: </strong><span id=\"example-output-2\">2</span><div></div>",
                "</pre><div></div>",
                "<div></div>",
                "<div><div></div>",
                "<p><strong>Example 3:</strong></p><div></div>",
                "<div></div>",
                "<pre><div></div>",
                "<strong>Input: </strong><span id=\"example-input-3-1\">[5,1,5,2,5,3,5,4]</span><div></div>",
                "<strong>Output: </strong><span id=\"example-output-3\">5</span><div></div>",
                "</pre><div></div>",
                "<div></div>",
                "<p>&nbsp;</p><div></div>",
                "<div></div>",
                "<p><strong>Note:</strong></p><div></div>",
                "<div></div>",
                "<ol><div></div>",
                "\t<li><code>4 &lt;= A.length &lt;= 10000</code></li><div></div>",
                "\t<li><code>0 &lt;= A[i] &lt; 10000</code></li><div></div>",
                "\t<li><code>A.length</code> is even</li><div></div>",
                "</ol><div></div>",
                "</div><div></div>",
                "</div><div></div>",
                "</div><div></div>",
                "<div></div>"
            ],
            "metadata": {}
        },
        {
            "cell_type": "code",
            "metadata": {},
            "execution_count": null,
            "source": "%%writefile n_repeated_element_in_size_2n_array.py\nclass Solution:\n    def repeatedNTimes(self, A):\n        \"\"\"\n        :type A: List[int]\n        :rtype: int\n        \"\"\"",
            "outputs": []
        },
        {
            "cell_type": "code",
            "metadata": {},
            "execution_count": null,
            "source": "# submit\n%run ../../cli.py push --method=submit --path=n_repeated_element_in_size_2n_array.py --clean=True",
            "outputs": []
        }
    ]
}