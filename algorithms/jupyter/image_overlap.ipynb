{
    "nbformat": 4,
    "nbformat_minor": 2,
    "metadata": {
        "kernelspec": {
            "display_name": "Python 3",
            "language": "python",
            "name": "python3"
        },
        "language_info": {
            "codemirror_mode": {
                "name": "ipython",
                "version": 3
            },
            "file_extension": ".py",
            "mimetype": "text/x-python",
            "name": "python",
            "nbconvert_exporter": "python",
            "pygments_lexer": "ipython3",
            "version": "3.7.2"
        }
    },
    "cells": [
        {
            "cell_type": "markdown",
            "source": [
                "<h1>Image Overlap</h1>",
                "<p>Two images <code>A</code> and <code>B</code> are given, represented as&nbsp;binary, square matrices of the same size.&nbsp; (A binary matrix has only 0s and 1s as values.)</p><div></div>",
                "<div></div>",
                "<p>We translate one image however we choose (sliding it left, right, up, or down any number of units), and place it on top of the other image.&nbsp; After, the <em>overlap</em> of this translation is the number of positions that have a 1 in both images.</p><div></div>",
                "<div></div>",
                "<p>(Note also that a translation does <strong>not</strong> include any kind of rotation.)</p><div></div>",
                "<div></div>",
                "<p>What is the largest possible overlap?</p><div></div>",
                "<div></div>",
                "<p><strong>Example 1:</strong></p><div></div>",
                "<div></div>",
                "<pre><div></div>",
                "<strong>Input: </strong>A = [[1,1,0],<div></div>",
                "            [0,1,0],<div></div>",
                "&nbsp;           [0,1,0]]<div></div>",
                "&nbsp;      B = [[0,0,0],<div></div>",
                "&nbsp;           [0,1,1],<div></div>",
                "&nbsp;           [0,0,1]]<div></div>",
                "<strong>Output: </strong>3<div></div>",
                "<strong>Explanation:</strong> We slide A to right by 1 unit and down by 1 unit.</pre><div></div>",
                "<div></div>",
                "<p><strong>Notes:</strong>&nbsp;</p><div></div>",
                "<div></div>",
                "<ol><div></div>",
                "\t<li><code>1 &lt;= A.length = A[0].length = B.length = B[0].length &lt;= 30</code></li><div></div>",
                "\t<li><code>0 &lt;=&nbsp;A[i][j], B[i][j] &lt;= 1</code></li><div></div>",
                "</ol><div></div>",
                "<div></div>"
            ],
            "metadata": {}
        },
        {
            "cell_type": "code",
            "metadata": {},
            "execution_count": null,
            "source": "%%writefile image_overlap.py\nclass Solution:\n    def largestOverlap(self, A, B):\n        \"\"\"\n        :type A: List[List[int]]\n        :type B: List[List[int]]\n        :rtype: int\n        \"\"\"",
            "outputs": []
        },
        {
            "cell_type": "code",
            "metadata": {},
            "execution_count": null,
            "source": "# submit\n%run ../../cli.py push --method=submit --path=image_overlap.py --clean=True",
            "outputs": []
        }
    ]
}