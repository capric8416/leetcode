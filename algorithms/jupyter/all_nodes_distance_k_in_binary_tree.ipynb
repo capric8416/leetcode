{
    "nbformat": 4,
    "nbformat_minor": 2,
    "metadata": {
        "kernelspec": {
            "display_name": "Python 3",
            "language": "python",
            "name": "python3"
        },
        "language_info": {
            "codemirror_mode": {
                "name": "ipython",
                "version": 3
            },
            "file_extension": ".py",
            "mimetype": "text/x-python",
            "name": "python",
            "nbconvert_exporter": "python",
            "pygments_lexer": "ipython3",
            "version": "3.7.2"
        }
    },
    "cells": [
        {
            "cell_type": "markdown",
            "source": [
                "<h1>All Nodes Distance K in Binary Tree</h1>",
                "<p>We are given a binary tree (with root node&nbsp;<code>root</code>), a <code>target</code> node, and an integer value <code>K</code>.</p><div></div>",
                "<div></div>",
                "<p>Return a list of the values of all&nbsp;nodes that have a distance <code>K</code> from the <code>target</code> node.&nbsp; The answer can be returned in any order.</p><div></div>",
                "<div></div>",
                "<p>&nbsp;</p><div></div>",
                "<div></div>",
                "<ol><div></div>",
                "</ol><div></div>",
                "<div></div>",
                "<div><div></div>",
                "<p><strong>Example 1:</strong></p><div></div>",
                "<div></div>",
                "<pre><div></div>",
                "<strong>Input: </strong>root = <span id=\"example-input-1-1\">[3,5,1,6,2,0,8,null,null,7,4]</span>, target = <span id=\"example-input-1-2\">5</span>, K = <span id=\"example-input-1-3\">2</span><div></div>",
                "<div></div>",
                "<strong>Output: </strong><span id=\"example-output-1\">[7,4,1]</span><div></div>",
                "<div></div>",
                "<strong>Explanation: </strong><div></div>",
                "The nodes that are a distance 2 from the target node (with value 5)<div></div>",
                "have values 7, 4, and 1.<div></div>",
                "<div></div>",
                "<img alt=\"\" src=\"https://s3-lc-upload.s3.amazonaws.com/uploads/2018/06/28/sketch0.png\" style=\"width: 280px; height: 240px;\" /><div></div>",
                "<div></div>",
                "Note that the inputs &quot;root&quot; and &quot;target&quot; are actually TreeNodes.<div></div>",
                "The descriptions of the inputs above are just serializations of these objects.<div></div>",
                "</pre><div></div>",
                "<div></div>",
                "<p>&nbsp;</p><div></div>",
                "<div></div>",
                "<p><strong>Note:</strong></p><div></div>",
                "<div></div>",
                "<ol><div></div>",
                "\t<li>The given tree is non-empty.</li><div></div>",
                "\t<li>Each node in the tree has unique values&nbsp;<code>0 &lt;= node.val &lt;= 500</code>.</li><div></div>",
                "\t<li>The <code>target</code>&nbsp;node is a node in the tree.</li><div></div>",
                "\t<li><code>0 &lt;= K &lt;= 1000</code>.</li><div></div>",
                "</ol><div></div>",
                "</div><div></div>",
                "<div></div>"
            ],
            "metadata": {}
        },
        {
            "cell_type": "code",
            "metadata": {},
            "execution_count": null,
            "source": "%%writefile all_nodes_distance_k_in_binary_tree.py\n# Definition for a binary tree node.\n# class TreeNode:\n#     def __init__(self, x):\n#         self.val = x\n#         self.left = None\n#         self.right = None\n\nclass Solution:\n    def distanceK(self, root, target, K):\n        \"\"\"\n        :type root: TreeNode\n        :type target: TreeNode\n        :type K: int\n        :rtype: List[int]\n        \"\"\"",
            "outputs": []
        },
        {
            "cell_type": "code",
            "metadata": {},
            "execution_count": null,
            "source": "# submit\n%run ../../cli.py push --method=submit --path=all_nodes_distance_k_in_binary_tree.py --clean=True",
            "outputs": []
        }
    ]
}