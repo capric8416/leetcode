{
    "nbformat": 4,
    "nbformat_minor": 2,
    "metadata": {
        "kernelspec": {
            "display_name": "Python 3",
            "language": "python",
            "name": "python3"
        },
        "language_info": {
            "codemirror_mode": {
                "name": "ipython",
                "version": 3
            },
            "file_extension": ".py",
            "mimetype": "text/x-python",
            "name": "python",
            "nbconvert_exporter": "python",
            "pygments_lexer": "ipython3",
            "version": "3.7.2"
        }
    },
    "cells": [
        {
            "cell_type": "markdown",
            "source": [
                "<h1>Special Binary String</h1>",
                "<p><div></div>",
                "<i>Special</i> binary strings are binary strings with the following two properties:<div></div>",
                "</p><p><div></div>",
                "<li>The number of 0's is equal to the number of 1's.</li><div></div>",
                "<li>Every prefix of the binary string has at least as many 1's as 0's.</li><div></div>",
                "</p><p><div></div>",
                "Given a special string <code>S</code>, a <i>move</i> consists of choosing two consecutive, non-empty, special substrings of <code>S</code>, and swapping them.  <i>(Two strings are consecutive if the last character of the first string is exactly one index before the first character of the second string.)</i><div></div>",
                "</p><p><div></div>",
                "At the end of any number of moves, what is the lexicographically largest resulting string possible?<div></div>",
                "</p><div></div>",
                "<div></div>",
                "<p><b>Example 1:</b><br /><div></div>",
                "<pre><div></div>",
                "<b>Input:</b> S = \"11011000\"<div></div>",
                "<b>Output:</b> \"11100100\"<div></div>",
                "<b>Explanation:</b><div></div>",
                "The strings \"10\" [occuring at S[1]] and \"1100\" [at S[3]] are swapped.<div></div>",
                "This is the lexicographically largest string possible after some number of swaps.<div></div>",
                "</pre><div></div>",
                "</p><div></div>",
                "<div></div>",
                "<p><b>Note:</b><ol><div></div>",
                "<li><code>S</code> has length at most <code>50</code>.</li><div></div>",
                "<li><code>S</code> is guaranteed to be a <i>special</i> binary string as defined above.</li><div></div>",
                "</ol></p><div></div>"
            ],
            "metadata": {}
        },
        {
            "cell_type": "code",
            "metadata": {},
            "execution_count": null,
            "source": "%%writefile special_binary_string.py\nclass Solution:\n    def makeLargestSpecial(self, S):\n        \"\"\"\n        :type S: str\n        :rtype: str\n        \"\"\"",
            "outputs": []
        },
        {
            "cell_type": "code",
            "metadata": {},
            "execution_count": null,
            "source": "# submit\n%run ../../cli.py push --method=submit --path=special_binary_string.py --clean=True",
            "outputs": []
        }
    ]
}