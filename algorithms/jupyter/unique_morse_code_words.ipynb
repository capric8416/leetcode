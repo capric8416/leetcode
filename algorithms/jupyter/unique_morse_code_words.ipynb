{
    "nbformat": 4,
    "nbformat_minor": 2,
    "metadata": {
        "kernelspec": {
            "display_name": "Python 3",
            "language": "python",
            "name": "python3"
        },
        "language_info": {
            "codemirror_mode": {
                "name": "ipython",
                "version": 3
            },
            "file_extension": ".py",
            "mimetype": "text/x-python",
            "name": "python",
            "nbconvert_exporter": "python",
            "pygments_lexer": "ipython3",
            "version": "3.7.2"
        }
    },
    "cells": [
        {
            "cell_type": "markdown",
            "source": [
                "<h1>Unique Morse Code Words</h1>",
                "<p>International Morse Code defines a standard encoding where each letter is mapped to a series of dots and dashes, as follows: <code>&quot;a&quot;</code> maps to <code>&quot;.-&quot;</code>, <code>&quot;b&quot;</code> maps to <code>&quot;-...&quot;</code>, <code>&quot;c&quot;</code> maps to <code>&quot;-.-.&quot;</code>, and so on.</p><div></div>",
                "<div></div>",
                "<p>For convenience, the full table for the 26 letters of the English alphabet is given below:</p><div></div>",
                "<div></div>",
                "<pre><div></div>",
                "[&quot;.-&quot;,&quot;-...&quot;,&quot;-.-.&quot;,&quot;-..&quot;,&quot;.&quot;,&quot;..-.&quot;,&quot;--.&quot;,&quot;....&quot;,&quot;..&quot;,&quot;.---&quot;,&quot;-.-&quot;,&quot;.-..&quot;,&quot;--&quot;,&quot;-.&quot;,&quot;---&quot;,&quot;.--.&quot;,&quot;--.-&quot;,&quot;.-.&quot;,&quot;...&quot;,&quot;-&quot;,&quot;..-&quot;,&quot;...-&quot;,&quot;.--&quot;,&quot;-..-&quot;,&quot;-.--&quot;,&quot;--..&quot;]</pre><div></div>",
                "<div></div>",
                "<p>Now, given a list of words, each word can be written as a concatenation of the Morse code of each letter. For example, &quot;cba&quot; can be written as &quot;-.-..--...&quot;, (which is the concatenation &quot;-.-.&quot; + &quot;-...&quot; + &quot;.-&quot;). We&#39;ll call such a concatenation, the transformation&nbsp;of a word.</p><div></div>",
                "<div></div>",
                "<p>Return the number of different transformations among all words we have.</p><div></div>",
                "<div></div>",
                "<pre><div></div>",
                "<strong>Example:</strong><div></div>",
                "<strong>Input:</strong> words = [&quot;gin&quot;, &quot;zen&quot;, &quot;gig&quot;, &quot;msg&quot;]<div></div>",
                "<strong>Output:</strong> 2<div></div>",
                "<strong>Explanation: </strong><div></div>",
                "The transformation of each word is:<div></div>",
                "&quot;gin&quot; -&gt; &quot;--...-.&quot;<div></div>",
                "&quot;zen&quot; -&gt; &quot;--...-.&quot;<div></div>",
                "&quot;gig&quot; -&gt; &quot;--...--.&quot;<div></div>",
                "&quot;msg&quot; -&gt; &quot;--...--.&quot;<div></div>",
                "<div></div>",
                "There are 2 different transformations, &quot;--...-.&quot; and &quot;--...--.&quot;.<div></div>",
                "</pre><div></div>",
                "<div></div>",
                "<p><strong>Note:</strong></p><div></div>",
                "<div></div>",
                "<ul><div></div>",
                "\t<li>The length of <code>words</code> will be at most <code>100</code>.</li><div></div>",
                "\t<li>Each <code>words[i]</code> will have length in range <code>[1, 12]</code>.</li><div></div>",
                "\t<li><code>words[i]</code> will only consist of lowercase letters.</li><div></div>",
                "</ul><div></div>",
                "<div></div>"
            ],
            "metadata": {}
        },
        {
            "cell_type": "code",
            "metadata": {},
            "execution_count": null,
            "source": "%%writefile unique_morse_code_words.py\nclass Solution:\n    def uniqueMorseRepresentations(self, words):\n        \"\"\"\n        :type words: List[str]\n        :rtype: int\n        \"\"\"",
            "outputs": []
        },
        {
            "cell_type": "code",
            "metadata": {},
            "execution_count": null,
            "source": "# submit\n%run ../../cli.py push --method=submit --path=unique_morse_code_words.py --clean=True",
            "outputs": []
        }
    ]
}