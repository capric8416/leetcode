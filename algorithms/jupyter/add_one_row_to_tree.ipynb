{
    "nbformat": 4,
    "nbformat_minor": 2,
    "metadata": {
        "kernelspec": {
            "display_name": "Python 3",
            "language": "python",
            "name": "python3"
        },
        "language_info": {
            "codemirror_mode": {
                "name": "ipython",
                "version": 3
            },
            "file_extension": ".py",
            "mimetype": "text/x-python",
            "name": "python",
            "nbconvert_exporter": "python",
            "pygments_lexer": "ipython3",
            "version": "3.7.2"
        }
    },
    "cells": [
        {
            "cell_type": "markdown",
            "source": [
                "<h1>Add One Row to Tree</h1>",
                "<p>Given the root of a binary tree, then value <code>v</code> and depth <code>d</code>, you need to add a row of nodes with value <code>v</code> at the given depth <code>d</code>. The root node is at depth 1. </p><div></div>",
                "<div></div>",
                "<p>The adding rule is: given a positive integer depth <code>d</code>, for each NOT null tree nodes <code>N</code> in depth <code>d-1</code>, create two tree nodes with value <code>v</code> as <code>N's</code> left subtree root and right subtree root. And <code>N's</code> <b>original left subtree</b> should be the left subtree of the new left subtree root, its <b>original right subtree</b> should be the right subtree of the new right subtree root. If depth <code>d</code> is 1 that means there is no depth d-1 at all, then create a tree node with value <b>v</b> as the new root of the whole original tree, and the original tree is the new root's left subtree.</p><div></div>",
                "<div></div>",
                "<p><b>Example 1:</b><br /><div></div>",
                "<pre><div></div>",
                "<b>Input:</b> <div></div>",
                "A binary tree as following:<div></div>",
                "       4<div></div>",
                "     /   \\<div></div>",
                "    2     6<div></div>",
                "   / \\   / <div></div>",
                "  3   1 5   <div></div>",
                "<div></div>",
                "<b>v = 1</b><div></div>",
                "<div></div>",
                "<b>d = 2</b><div></div>",
                "<div></div>",
                "<b>Output:</b> <div></div>",
                "       4<div></div>",
                "      / \\<div></div>",
                "     1   1<div></div>",
                "    /     \\<div></div>",
                "   2       6<div></div>",
                "  / \\     / <div></div>",
                " 3   1   5   <div></div>",
                "<div></div>",
                "</pre><div></div>",
                "</p><div></div>",
                "<div></div>",
                "<div></div>",
                "<p><b>Example 2:</b><br /><div></div>",
                "<pre><div></div>",
                "<b>Input:</b> <div></div>",
                "A binary tree as following:<div></div>",
                "      4<div></div>",
                "     /   <div></div>",
                "    2    <div></div>",
                "   / \\   <div></div>",
                "  3   1    <div></div>",
                "<div></div>",
                "<b>v = 1</b><div></div>",
                "<div></div>",
                "<b>d = 3</b><div></div>",
                "<div></div>",
                "<b>Output:</b> <div></div>",
                "      4<div></div>",
                "     /   <div></div>",
                "    2<div></div>",
                "   / \\    <div></div>",
                "  1   1<div></div>",
                " /     \\  <div></div>",
                "3       1<div></div>",
                "</pre><div></div>",
                "</p><div></div>",
                "<div></div>",
                "<p><b>Note:</b><br><div></div>",
                "<ol><div></div>",
                "<li>The given d is in range [1, maximum depth of the given tree + 1].</li><div></div>",
                "<li>The given binary tree has at least one tree node.</li><div></div>",
                "</ol><div></div>",
                "</p><div></div>"
            ],
            "metadata": {}
        },
        {
            "cell_type": "code",
            "metadata": {},
            "execution_count": null,
            "source": "%%writefile add_one_row_to_tree.py\nclass Solution:\n    def addOneRow(self, root, v, d):\n        \"\"\"\n        :type root: TreeNode\n        :type v: int\n        :type d: int\n        :rtype: TreeNode\n        \"\"\"",
            "outputs": []
        },
        {
            "cell_type": "code",
            "metadata": {},
            "execution_count": null,
            "source": "# submit\n%run ../../cli.py push --method=submit --path=add_one_row_to_tree.py --clean=True",
            "outputs": []
        }
    ]
}