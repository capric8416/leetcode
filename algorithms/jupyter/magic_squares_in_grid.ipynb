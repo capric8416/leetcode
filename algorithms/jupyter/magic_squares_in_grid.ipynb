{
    "nbformat": 4,
    "nbformat_minor": 2,
    "metadata": {
        "kernelspec": {
            "display_name": "Python 3",
            "language": "python",
            "name": "python3"
        },
        "language_info": {
            "codemirror_mode": {
                "name": "ipython",
                "version": 3
            },
            "file_extension": ".py",
            "mimetype": "text/x-python",
            "name": "python",
            "nbconvert_exporter": "python",
            "pygments_lexer": "ipython3",
            "version": "3.7.2"
        }
    },
    "cells": [
        {
            "cell_type": "markdown",
            "source": [
                "<h1>Magic Squares In Grid</h1>",
                "<p>A 3 x 3 magic square is a 3 x 3 grid filled with distinct numbers <strong>from 1 to 9</strong> such that each row, column, and both diagonals all have the same sum.</p><div></div>",
                "<div></div>",
                "<p>Given an <code>grid</code>&nbsp;of integers, how many 3 x 3 &quot;magic square&quot; subgrids are there?&nbsp; (Each subgrid is contiguous).</p><div></div>",
                "<div></div>",
                "<p>&nbsp;</p><div></div>",
                "<div></div>",
                "<p><strong>Example 1:</strong></p><div></div>",
                "<div></div>",
                "<pre><div></div>",
                "<strong>Input: </strong>[[4,3,8,4],<div></div>",
                "        [9,5,1,9],<div></div>",
                "        [2,7,6,2]]<div></div>",
                "<strong>Output: </strong>1<div></div>",
                "<strong>Explanation: </strong><div></div>",
                "The following subgrid is a 3 x 3 magic square:<div></div>",
                "438<div></div>",
                "951<div></div>",
                "276<div></div>",
                "<div></div>",
                "while this one is not:<div></div>",
                "384<div></div>",
                "519<div></div>",
                "762<div></div>",
                "<div></div>",
                "In total, there is only one magic square inside the given grid.<div></div>",
                "</pre><div></div>",
                "<div></div>",
                "<p><strong>Note:</strong></p><div></div>",
                "<div></div>",
                "<ol><div></div>",
                "\t<li><code>1 &lt;= grid.length&nbsp;&lt;= 10</code></li><div></div>",
                "\t<li><code>1 &lt;= grid[0].length&nbsp;&lt;= 10</code></li><div></div>",
                "\t<li><code>0 &lt;= grid[i][j] &lt;= 15</code></li><div></div>",
                "</ol><div></div>",
                "<div></div>"
            ],
            "metadata": {}
        },
        {
            "cell_type": "code",
            "metadata": {},
            "execution_count": null,
            "source": "%%writefile magic_squares_in_grid.py\nclass Solution:\n    def numMagicSquaresInside(self, grid):\n        \"\"\"\n        :type grid: List[List[int]]\n        :rtype: int\n        \"\"\"",
            "outputs": []
        },
        {
            "cell_type": "code",
            "metadata": {},
            "execution_count": null,
            "source": "# submit\n%run ../../cli.py push --method=submit --path=magic_squares_in_grid.py --clean=True",
            "outputs": []
        }
    ]
}