{
    "nbformat": 4,
    "nbformat_minor": 2,
    "metadata": {
        "kernelspec": {
            "display_name": "Python 3",
            "language": "python",
            "name": "python3"
        },
        "language_info": {
            "codemirror_mode": {
                "name": "ipython",
                "version": 3
            },
            "file_extension": ".py",
            "mimetype": "text/x-python",
            "name": "python",
            "nbconvert_exporter": "python",
            "pygments_lexer": "ipython3",
            "version": "3.7.2"
        }
    },
    "cells": [
        {
            "cell_type": "markdown",
            "source": [
                "<h1>Decoded String at Index</h1>",
                "<p>An encoded string <code>S</code> is given.&nbsp; To find and write the <em>decoded</em> string to a tape, the encoded string is read <strong>one character at a time</strong>&nbsp;and the following steps are taken:</p><div></div>",
                "<div></div>",
                "<ul><div></div>",
                "\t<li>If the character read is a letter, that letter is written onto the tape.</li><div></div>",
                "\t<li>If the character read is a digit (say <code>d</code>), the entire current tape is repeatedly written&nbsp;<code>d-1</code>&nbsp;more times in total.</li><div></div>",
                "</ul><div></div>",
                "<div></div>",
                "<p>Now for some encoded string <code>S</code>, and an index <code>K</code>, find and return the <code>K</code>-th letter (1 indexed) in the decoded string.</p><div></div>",
                "<div></div>",
                "<p>&nbsp;</p><div></div>",
                "<div></div>",
                "<div><div></div>",
                "<p><strong>Example 1:</strong></p><div></div>",
                "<div></div>",
                "<pre><div></div>",
                "<strong>Input: </strong>S = <span id=\"example-input-1-1\">&quot;leet2code3&quot;</span>, K = <span id=\"example-input-1-2\">10</span><div></div>",
                "<strong>Output: </strong><span id=\"example-output-1\">&quot;o&quot;</span><div></div>",
                "<strong>Explanation: </strong><div></div>",
                "The decoded string is &quot;leetleetcodeleetleetcodeleetleetcode&quot;.<div></div>",
                "The 10th letter in the string is &quot;o&quot;.<div></div>",
                "</pre><div></div>",
                "<div></div>",
                "<div><div></div>",
                "<p><strong>Example 2:</strong></p><div></div>",
                "<div></div>",
                "<pre><div></div>",
                "<strong>Input: </strong>S = <span id=\"example-input-2-1\">&quot;ha22&quot;</span>, K = <span id=\"example-input-2-2\">5</span><div></div>",
                "<strong>Output: </strong><span id=\"example-output-2\">&quot;h&quot;</span><div></div>",
                "<strong>Explanation: </strong><div></div>",
                "The decoded string is &quot;hahahaha&quot;.  The 5th letter is &quot;h&quot;.<div></div>",
                "</pre><div></div>",
                "<div></div>",
                "<div><div></div>",
                "<p><strong>Example 3:</strong></p><div></div>",
                "<div></div>",
                "<pre><div></div>",
                "<strong>Input: </strong>S = <span id=\"example-input-3-1\">&quot;a2345678999999999999999&quot;</span>, K = <span id=\"example-input-3-2\">1</span><div></div>",
                "<strong>Output: </strong><span id=\"example-output-3\">&quot;a&quot;</span><div></div>",
                "<strong>Explanation: </strong><div></div>",
                "The decoded string is &quot;a&quot; repeated 8301530446056247680 times.  The 1st letter is &quot;a&quot;.<div></div>",
                "</pre><div></div>",
                "<div></div>",
                "<p>&nbsp;</p><div></div>",
                "<div></div>",
                "<p><strong>Note:</strong></p><div></div>",
                "<div></div>",
                "<ol><div></div>",
                "\t<li><code>2 &lt;= S.length &lt;= 100</code></li><div></div>",
                "\t<li><code>S</code>&nbsp;will only contain lowercase letters and digits <code>2</code> through <code>9</code>.</li><div></div>",
                "\t<li><code>S</code>&nbsp;starts with a letter.</li><div></div>",
                "\t<li><code>1 &lt;= K &lt;= 10^9</code></li><div></div>",
                "\t<li>The decoded string is guaranteed to have less than <code>2^63</code> letters.</li><div></div>",
                "</ol><div></div>",
                "</div><div></div>",
                "</div><div></div>",
                "</div><div></div>",
                "<div></div>"
            ],
            "metadata": {}
        },
        {
            "cell_type": "code",
            "metadata": {},
            "execution_count": null,
            "source": "%%writefile decoded_string_at_index.py\nclass Solution:\n    def decodeAtIndex(self, S, K):\n        \"\"\"\n        :type S: str\n        :type K: int\n        :rtype: str\n        \"\"\"",
            "outputs": []
        },
        {
            "cell_type": "code",
            "metadata": {},
            "execution_count": null,
            "source": "# submit\n%run ../../cli.py push --method=submit --path=decoded_string_at_index.py --clean=True",
            "outputs": []
        }
    ]
}