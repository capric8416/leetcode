{
    "nbformat": 4,
    "nbformat_minor": 2,
    "metadata": {
        "kernelspec": {
            "display_name": "Python 3",
            "language": "python",
            "name": "python3"
        },
        "language_info": {
            "codemirror_mode": {
                "name": "ipython",
                "version": 3
            },
            "file_extension": ".py",
            "mimetype": "text/x-python",
            "name": "python",
            "nbconvert_exporter": "python",
            "pygments_lexer": "ipython3",
            "version": "3.7.2"
        }
    },
    "cells": [
        {
            "cell_type": "markdown",
            "source": [
                "<h1>Reveal Cards In Increasing Order</h1>",
                "<p>In a deck of cards, every card has a unique integer.&nbsp; You can order the deck in&nbsp;any order you want.</p><div></div>",
                "<div></div>",
                "<p>Initially, all the cards start face down (unrevealed) in one deck.</p><div></div>",
                "<div></div>",
                "<p>Now, you do the following steps repeatedly, until all cards are revealed:</p><div></div>",
                "<div></div>",
                "<ol><div></div>",
                "\t<li>Take the top card of the deck, reveal it, and take it out of the deck.</li><div></div>",
                "\t<li>If there are still cards in the deck, put the next top card of the deck at&nbsp;the bottom of the deck.</li><div></div>",
                "\t<li>If there are still unrevealed cards, go back to step 1.&nbsp; Otherwise, stop.</li><div></div>",
                "</ol><div></div>",
                "<div></div>",
                "<p>Return an ordering of the deck that would reveal the cards&nbsp;in <strong>increasing order.</strong></p><div></div>",
                "<div></div>",
                "<p>The first entry in the answer is considered to be the top of the deck.</p><div></div>",
                "<div></div>",
                "<p>&nbsp;</p><div></div>",
                "<div></div>",
                "<div><div></div>",
                "<p><strong>Example 1:</strong></p><div></div>",
                "<div></div>",
                "<pre><div></div>",
                "<strong>Input: </strong><span id=\"example-input-1-1\">[17,13,11,2,3,5,7]</span><div></div>",
                "<strong>Output: </strong><span id=\"example-output-1\">[2,13,3,11,5,17,7]</span><div></div>",
                "<strong>Explanation: </strong><div></div>",
                "We get the deck in the order [17,13,11,2,3,5,7] (this order doesn't matter), and reorder it.<div></div>",
                "After reordering, the deck starts as [2,13,3,11,5,17,7], where 2 is the top of the deck.<div></div>",
                "We reveal 2, and move 13 to the bottom.  The deck is now [3,11,5,17,7,13].<div></div>",
                "We reveal 3, and move 11 to the bottom.  The deck is now [5,17,7,13,11].<div></div>",
                "We reveal 5, and move 17 to the bottom.  The deck is now [7,13,11,17].<div></div>",
                "We reveal 7, and move 13 to the bottom.  The deck is now [11,17,13].<div></div>",
                "We reveal 11, and move 17 to the bottom.  The deck is now [13,17].<div></div>",
                "We reveal 13, and move 17 to the bottom.  The deck is now [17].<div></div>",
                "We reveal 17.<div></div>",
                "Since all the cards revealed are in increasing order, the answer is correct.<div></div>",
                "</pre><div></div>",
                "<div></div>",
                "<div><div></div>",
                "<p>&nbsp;</p><div></div>",
                "<div></div>",
                "<p><strong>Note:</strong></p><div></div>",
                "<div></div>",
                "<ol><div></div>",
                "\t<li><code>1 &lt;= A.length &lt;= 1000</code></li><div></div>",
                "\t<li><code>1 &lt;= A[i] &lt;= 10^6</code></li><div></div>",
                "\t<li><code>A[i] != A[j]</code>&nbsp;for all&nbsp;<code>i != j</code></li><div></div>",
                "</ol><div></div>",
                "</div><div></div>",
                "</div><div></div>",
                "<div></div>"
            ],
            "metadata": {}
        },
        {
            "cell_type": "code",
            "metadata": {},
            "execution_count": null,
            "source": "%%writefile reveal_cards_in_increasing_order.py\nclass Solution:\n    def deckRevealedIncreasing(self, deck):\n        \"\"\"\n        :type deck: List[int]\n        :rtype: List[int]\n        \"\"\"",
            "outputs": []
        },
        {
            "cell_type": "code",
            "metadata": {},
            "execution_count": null,
            "source": "# submit\n%run ../../cli.py push --method=submit --path=reveal_cards_in_increasing_order.py --clean=True",
            "outputs": []
        }
    ]
}