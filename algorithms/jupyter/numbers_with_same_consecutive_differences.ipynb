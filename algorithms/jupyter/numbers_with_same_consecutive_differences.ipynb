{
    "nbformat": 4,
    "nbformat_minor": 2,
    "metadata": {
        "kernelspec": {
            "display_name": "Python 3",
            "language": "python",
            "name": "python3"
        },
        "language_info": {
            "codemirror_mode": {
                "name": "ipython",
                "version": 3
            },
            "file_extension": ".py",
            "mimetype": "text/x-python",
            "name": "python",
            "nbconvert_exporter": "python",
            "pygments_lexer": "ipython3",
            "version": "3.7.2"
        }
    },
    "cells": [
        {
            "cell_type": "markdown",
            "source": [
                "<h1>Numbers With Same Consecutive Differences</h1>",
                "<p>Return all <strong>non-negative</strong> integers of length <code>N</code> such that the absolute difference between every two consecutive digits is <code>K</code>.</p><div></div>",
                "<div></div>",
                "<p>Note that <strong>every</strong> number in the answer <strong>must not</strong> have leading zeros <strong>except</strong> for the number <code>0</code> itself. For example, <code>01</code> has one leading zero and is invalid, but <code>0</code> is valid.</p><div></div>",
                "<div></div>",
                "<p>You may return the answer in any order.</p><div></div>",
                "<div></div>",
                "<p>&nbsp;</p><div></div>",
                "<div></div>",
                "<p><strong>Example 1:</strong></p><div></div>",
                "<div></div>",
                "<pre><div></div>",
                "<strong>Input: </strong>N = <span id=\"example-input-1-1\">3</span>, K = <span id=\"example-input-1-2\">7</span><div></div>",
                "<strong>Output: </strong><span id=\"example-output-1\">[181,292,707,818,929]</span><div></div>",
                "<strong>Explanation: </strong>Note that 070 is not a valid number, because it has leading zeroes.<div></div>",
                "</pre><div></div>",
                "<div></div>",
                "<div><div></div>",
                "<p><strong>Example 2:</strong></p><div></div>",
                "<div></div>",
                "<pre><div></div>",
                "<strong>Input: </strong>N = <span id=\"example-input-2-1\">2</span>, K = <span id=\"example-input-2-2\">1</span><div></div>",
                "<strong>Output: </strong><span id=\"example-output-2\">[10,12,21,23,32,34,43,45,54,56,65,67,76,78,87,89,98]</span></pre><div></div>",
                "<div></div>",
                "<p>&nbsp;</p><div></div>",
                "</div><div></div>",
                "<div></div>",
                "<p><strong>Note:</strong></p><div></div>",
                "<div></div>",
                "<ol><div></div>",
                "\t<li><code>1 &lt;= N &lt;= 9</code></li><div></div>",
                "\t<li><code>0 &lt;= K &lt;= 9</code></li><div></div>",
                "</ol><div></div>",
                "<div></div>"
            ],
            "metadata": {}
        },
        {
            "cell_type": "code",
            "metadata": {},
            "execution_count": null,
            "source": "%%writefile numbers_with_same_consecutive_differences.py\nclass Solution:\n    def numsSameConsecDiff(self, N, K):\n        \"\"\"\n        :type N: int\n        :type K: int\n        :rtype: List[int]\n        \"\"\"",
            "outputs": []
        },
        {
            "cell_type": "code",
            "metadata": {},
            "execution_count": null,
            "source": "# submit\n%run ../../cli.py push --method=submit --path=numbers_with_same_consecutive_differences.py --clean=True",
            "outputs": []
        }
    ]
}