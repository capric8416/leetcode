{
    "nbformat": 4,
    "nbformat_minor": 2,
    "metadata": {
        "kernelspec": {
            "display_name": "Python 3",
            "language": "python",
            "name": "python3"
        },
        "language_info": {
            "codemirror_mode": {
                "name": "ipython",
                "version": 3
            },
            "file_extension": ".py",
            "mimetype": "text/x-python",
            "name": "python",
            "nbconvert_exporter": "python",
            "pygments_lexer": "ipython3",
            "version": "3.7.2"
        }
    },
    "cells": [
        {
            "cell_type": "markdown",
            "source": [
                "<h1>Increasing Order Search Tree</h1>",
                "<p>Given a tree, rearrange the tree in <strong>in-order</strong> so that the leftmost node in the tree is now the root of the tree, and every node has no left child and only 1 right child.</p><div></div>",
                "<div></div>",
                "<pre><div></div>",
                "<strong>Example 1:</strong><div></div>",
                "<strong>Input:</strong> [5,3,6,2,4,null,8,1,null,null,null,7,9]<div></div>",
                "<div></div>",
                "       5<div></div>",
                "      / \\<div></div>",
                "    3    6<div></div>",
                "   / \\    \\<div></div>",
                "  2   4    8<div></div>",
                "&nbsp;/        / \\ <div></div>",
                "1        7   9<div></div>",
                "<div></div>",
                "<strong>Output:</strong> [1,null,2,null,3,null,4,null,5,null,6,null,7,null,8,null,9]<div></div>",
                "<div></div>",
                " 1<div></div>",
                "&nbsp; \\<div></div>",
                "&nbsp;  2<div></div>",
                "&nbsp;   \\<div></div>",
                "&nbsp;    3<div></div>",
                "&nbsp;     \\<div></div>",
                "&nbsp;      4<div></div>",
                "&nbsp;       \\<div></div>",
                "&nbsp;        5<div></div>",
                "&nbsp;         \\<div></div>",
                "&nbsp;          6<div></div>",
                "&nbsp;           \\<div></div>",
                "&nbsp;            7<div></div>",
                "&nbsp;             \\<div></div>",
                "&nbsp;              8<div></div>",
                "&nbsp;               \\<div></div>",
                "                 9  </pre><div></div>",
                "<div></div>",
                "<p><strong>Note:</strong></p><div></div>",
                "<div></div>",
                "<ol><div></div>",
                "\t<li>The number of nodes in the given tree will be between 1 and 100.</li><div></div>",
                "\t<li>Each node will have a unique integer value from 0 to 1000.</li><div></div>",
                "</ol><div></div>",
                "<div></div>"
            ],
            "metadata": {}
        },
        {
            "cell_type": "code",
            "metadata": {},
            "execution_count": null,
            "source": "%%writefile increasing_order_search_tree.py\n# Definition for a binary tree node.\n# class TreeNode:\n#     def __init__(self, x):\n#         self.val = x\n#         self.left = None\n#         self.right = None\n\nclass Solution:\n    def increasingBST(self, root):\n        \"\"\"\n        :type root: TreeNode\n        :rtype: TreeNode\n        \"\"\"",
            "outputs": []
        },
        {
            "cell_type": "code",
            "metadata": {},
            "execution_count": null,
            "source": "# submit\n%run ../../cli.py push --method=submit --path=increasing_order_search_tree.py --clean=True",
            "outputs": []
        }
    ]
}