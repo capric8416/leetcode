{
    "nbformat": 4,
    "nbformat_minor": 2,
    "metadata": {
        "kernelspec": {
            "display_name": "Python 3",
            "language": "python",
            "name": "python3"
        },
        "language_info": {
            "codemirror_mode": {
                "name": "ipython",
                "version": 3
            },
            "file_extension": ".py",
            "mimetype": "text/x-python",
            "name": "python",
            "nbconvert_exporter": "python",
            "pygments_lexer": "ipython3",
            "version": "3.7.2"
        }
    },
    "cells": [
        {
            "cell_type": "markdown",
            "source": [
                "<h1>Keys and Rooms</h1>",
                "<p>There are <code>N</code> rooms and you start in room <code>0</code>.&nbsp; Each room has a distinct number in <code>0, 1, 2, ..., N-1</code>, and each room may have&nbsp;some keys to access the next room.&nbsp;</p><div></div>",
                "<div></div>",
                "<p>Formally, each room <code>i</code>&nbsp;has a list of keys <code>rooms[i]</code>, and each key <code>rooms[i][j]</code> is an integer in <code>[0, 1, ..., N-1]</code> where <code>N = rooms.length</code>.&nbsp; A key <code>rooms[i][j] = v</code>&nbsp;opens the room with number <code>v</code>.</p><div></div>",
                "<div></div>",
                "<p>Initially, all the rooms start locked (except for room <code>0</code>).&nbsp;</p><div></div>",
                "<div></div>",
                "<p>You can walk back and forth between rooms freely.</p><div></div>",
                "<div></div>",
                "<p>Return <code>true</code>&nbsp;if and only if you can enter&nbsp;every room.</p><div></div>",
                "<div></div>",
                "<ol><div></div>",
                "</ol><div></div>",
                "<div></div>",
                "<p><strong>Example 1:</strong></p><div></div>",
                "<div></div>",
                "<pre><div></div>",
                "<strong>Input: </strong>[[1],[2],[3],[]]<div></div>",
                "<strong>Output: </strong>true<div></div>",
                "<strong>Explanation:  </strong><div></div>",
                "We start in room 0, and pick up key 1.<div></div>",
                "We then go to room 1, and pick up key 2.<div></div>",
                "We then go to room 2, and pick up key 3.<div></div>",
                "We then go to room 3.  Since we were able to go to every room, we return true.<div></div>",
                "</pre><div></div>",
                "<div></div>",
                "<p><strong>Example 2:</strong></p><div></div>",
                "<div></div>",
                "<pre><div></div>",
                "<strong>Input: </strong>[[1,3],[3,0,1],[2],[0]]<div></div>",
                "<strong>Output: </strong>false<div></div>",
                "<strong>Explanation: </strong>We can&#39;t enter the room with number 2.<div></div>",
                "</pre><div></div>",
                "<div></div>",
                "<p><b>Note:</b></p><div></div>",
                "<div></div>",
                "<ol><div></div>",
                "\t<li><code>1 &lt;= rooms.length &lt;=&nbsp;1000</code></li><div></div>",
                "\t<li><code>0 &lt;= rooms[i].length &lt;= 1000</code></li><div></div>",
                "\t<li>The number of keys in all rooms combined is at most&nbsp;<code>3000</code>.</li><div></div>",
                "</ol><div></div>",
                "<div></div>"
            ],
            "metadata": {}
        },
        {
            "cell_type": "code",
            "metadata": {},
            "execution_count": null,
            "source": "%%writefile keys_and_rooms.py\nclass Solution:\n    def canVisitAllRooms(self, rooms):\n        \"\"\"\n        :type rooms: List[List[int]]\n        :rtype: bool\n        \"\"\"",
            "outputs": []
        },
        {
            "cell_type": "code",
            "metadata": {},
            "execution_count": null,
            "source": "# submit\n%run ../../cli.py push --method=submit --path=keys_and_rooms.py --clean=True",
            "outputs": []
        }
    ]
}