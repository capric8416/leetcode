{
    "nbformat": 4,
    "nbformat_minor": 2,
    "metadata": {
        "kernelspec": {
            "display_name": "Python 3",
            "language": "python",
            "name": "python3"
        },
        "language_info": {
            "codemirror_mode": {
                "name": "ipython",
                "version": 3
            },
            "file_extension": ".py",
            "mimetype": "text/x-python",
            "name": "python",
            "nbconvert_exporter": "python",
            "pygments_lexer": "ipython3",
            "version": "3.7.2"
        }
    },
    "cells": [
        {
            "cell_type": "markdown",
            "source": [
                "<h1>Print Binary Tree</h1>",
                "<p>Print a binary tree in an m*n 2D string array following these rules: </p><div></div>",
                "<div></div>",
                "<ol><div></div>",
                "<li>The row number <code>m</code> should be equal to the height of the given binary tree.</li><div></div>",
                "<li>The column number <code>n</code> should always be an odd number.</li><div></div>",
                "<li>The root node's value (in string format) should be put in the exactly middle of the first row it can be put. The column and the row where the root node belongs will separate the rest space into two parts (<b>left-bottom part and right-bottom part</b>). You should print the left subtree in the left-bottom part and print the right subtree in the right-bottom part. The left-bottom part and the right-bottom part should have the same size. Even if one subtree is none while the other is not, you don't need to print anything for the none subtree but still need to leave the space as large as that for the other subtree. However, if two subtrees are none, then you don't need to leave space for both of them. </li><div></div>",
                "<li>Each unused space should contain an empty string <code>\"\"</code>.</li><div></div>",
                "<li>Print the subtrees following the same rules.</li><div></div>",
                "</ol><div></div>",
                "<div></div>",
                "<p><b>Example 1:</b><br /><div></div>",
                "<pre><div></div>",
                "<b>Input:</b><div></div>",
                "     1<div></div>",
                "    /<div></div>",
                "   2<div></div>",
                "<b>Output:</b><div></div>",
                "[[\"\", \"1\", \"\"],<div></div>",
                " [\"2\", \"\", \"\"]]<div></div>",
                "</pre><div></div>",
                "</p><div></div>",
                "<div></div>",
                "<div></div>",
                "<p><b>Example 2:</b><br /><div></div>",
                "<pre><div></div>",
                "<b>Input:</b><div></div>",
                "     1<div></div>",
                "    / \\<div></div>",
                "   2   3<div></div>",
                "    \\<div></div>",
                "     4<div></div>",
                "<b>Output:</b><div></div>",
                "[[\"\", \"\", \"\", \"1\", \"\", \"\", \"\"],<div></div>",
                " [\"\", \"2\", \"\", \"\", \"\", \"3\", \"\"],<div></div>",
                " [\"\", \"\", \"4\", \"\", \"\", \"\", \"\"]]<div></div>",
                "</pre><div></div>",
                "</p><div></div>",
                "<div></div>",
                "<p><b>Example 3:</b><br /><div></div>",
                "<pre><div></div>",
                "<b>Input:</b><div></div>",
                "      1<div></div>",
                "     / \\<div></div>",
                "    2   5<div></div>",
                "   / <div></div>",
                "  3 <div></div>",
                " / <div></div>",
                "4 <div></div>",
                "<b>Output:</b><div></div>",
                "<div></div>",
                "[[\"\",  \"\",  \"\", \"\",  \"\", \"\", \"\", \"1\", \"\",  \"\",  \"\",  \"\",  \"\", \"\", \"\"]<div></div>",
                " [\"\",  \"\",  \"\", \"2\", \"\", \"\", \"\", \"\",  \"\",  \"\",  \"\",  \"5\", \"\", \"\", \"\"]<div></div>",
                " [\"\",  \"3\", \"\", \"\",  \"\", \"\", \"\", \"\",  \"\",  \"\",  \"\",  \"\",  \"\", \"\", \"\"]<div></div>",
                " [\"4\", \"\",  \"\", \"\",  \"\", \"\", \"\", \"\",  \"\",  \"\",  \"\",  \"\",  \"\", \"\", \"\"]]<div></div>",
                "</pre><div></div>",
                "</p><div></div>",
                "<div></div>",
                "<p><b>Note:</b><div></div>",
                "The height of binary tree is in the range of [1, 10].<div></div>",
                "</p><div></div>"
            ],
            "metadata": {}
        },
        {
            "cell_type": "code",
            "metadata": {},
            "execution_count": null,
            "source": "%%writefile print_binary_tree.py\nclass Solution:\n    def printTree(self, root):\n        \"\"\"\n        :type root: TreeNode\n        :rtype: List[List[str]]\n        \"\"\"",
            "outputs": []
        },
        {
            "cell_type": "code",
            "metadata": {},
            "execution_count": null,
            "source": "# submit\n%run ../../cli.py push --method=submit --path=print_binary_tree.py --clean=True",
            "outputs": []
        }
    ]
}