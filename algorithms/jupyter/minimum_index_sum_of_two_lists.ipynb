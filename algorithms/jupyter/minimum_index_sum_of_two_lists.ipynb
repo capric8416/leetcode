{
    "nbformat": 4,
    "nbformat_minor": 2,
    "metadata": {
        "kernelspec": {
            "display_name": "Python 3",
            "language": "python",
            "name": "python3"
        },
        "language_info": {
            "codemirror_mode": {
                "name": "ipython",
                "version": 3
            },
            "file_extension": ".py",
            "mimetype": "text/x-python",
            "name": "python",
            "nbconvert_exporter": "python",
            "pygments_lexer": "ipython3",
            "version": "3.7.2"
        }
    },
    "cells": [
        {
            "cell_type": "markdown",
            "source": [
                "<h1>Minimum Index Sum of Two Lists</h1>",
                "<p><div></div>",
                "Suppose Andy and Doris want to choose a restaurant for dinner, and they both have a list of favorite restaurants represented by strings. <div></div>",
                "</p><div></div>",
                "<p><div></div>",
                "You need to help them find out their <b>common interest</b> with the <b>least list index sum</b>. If there is a choice tie between answers, output all of them with no order requirement. You could assume there always exists an answer.<div></div>",
                "</p><div></div>",
                "<div></div>",
                "<div></div>",
                "<p><b>Example 1:</b><br /><div></div>",
                "<pre><div></div>",
                "<b>Input:</b><div></div>",
                "[\"Shogun\", \"Tapioca Express\", \"Burger King\", \"KFC\"]<div></div>",
                "[\"Piatti\", \"The Grill at Torrey Pines\", \"Hungry Hunter Steakhouse\", \"Shogun\"]<div></div>",
                "<b>Output:</b> [\"Shogun\"]<div></div>",
                "<b>Explanation:</b> The only restaurant they both like is \"Shogun\".<div></div>",
                "</pre><div></div>",
                "</p><div></div>",
                "<div></div>",
                "<p><b>Example 2:</b><br /><div></div>",
                "<pre><div></div>",
                "<b>Input:</b><div></div>",
                "[\"Shogun\", \"Tapioca Express\", \"Burger King\", \"KFC\"]<div></div>",
                "[\"KFC\", \"Shogun\", \"Burger King\"]<div></div>",
                "<b>Output:</b> [\"Shogun\"]<div></div>",
                "<b>Explanation:</b> The restaurant they both like and have the least index sum is \"Shogun\" with index sum 1 (0+1).<div></div>",
                "</pre><div></div>",
                "</p><div></div>",
                "<div></div>",
                "<div></div>",
                "<p><b>Note:</b><br><div></div>",
                "<ol><div></div>",
                "<li>The length of both lists will be in the range of [1, 1000].</li><div></div>",
                "<li>The length of strings in both lists will be in the range of [1, 30].</li><div></div>",
                "<li>The index is starting from 0 to the list length minus 1.</li><div></div>",
                "<li>No duplicates in both lists.</li><div></div>",
                "</ol><div></div>",
                "</p><div></div>"
            ],
            "metadata": {}
        },
        {
            "cell_type": "code",
            "metadata": {},
            "execution_count": null,
            "source": "%%writefile minimum_index_sum_of_two_lists.py\nclass Solution:\n    def findRestaurant(self, list1, list2):\n        \"\"\"\n        :type list1: List[str]\n        :type list2: List[str]\n        :rtype: List[str]\n        \"\"\"",
            "outputs": []
        },
        {
            "cell_type": "code",
            "metadata": {},
            "execution_count": null,
            "source": "# submit\n%run ../../cli.py push --method=submit --path=minimum_index_sum_of_two_lists.py --clean=True",
            "outputs": []
        }
    ]
}