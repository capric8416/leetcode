{
    "nbformat": 4,
    "nbformat_minor": 2,
    "metadata": {
        "kernelspec": {
            "display_name": "Python 3",
            "language": "python",
            "name": "python3"
        },
        "language_info": {
            "codemirror_mode": {
                "name": "ipython",
                "version": 3
            },
            "file_extension": ".py",
            "mimetype": "text/x-python",
            "name": "python",
            "nbconvert_exporter": "python",
            "pygments_lexer": "ipython3",
            "version": "3.7.2"
        }
    },
    "cells": [
        {
            "cell_type": "markdown",
            "source": [
                "<h1>Ransom Note</h1>",
                "<p><div></div>",
                "Given an arbitrary ransom note string and another string containing letters from all the magazines, write a function that will return true if the ransom <div></div>",
                "note can be constructed from the magazines ; otherwise, it will return false. <div></div>",
                "</p><div></div>",
                "<p><div></div>",
                "Each letter in the magazine string can only be used once in your ransom note.<div></div>",
                "</p><div></div>",
                "<div></div>",
                "<p><b>Note:</b><br /><div></div>",
                "You may assume that both strings contain only lowercase letters.<div></div>",
                "</p><div></div>",
                "<div></div>",
                "<pre><div></div>",
                "canConstruct(\"a\", \"b\") -> false<div></div>",
                "canConstruct(\"aa\", \"ab\") -> false<div></div>",
                "canConstruct(\"aa\", \"aab\") -> true<div></div>",
                "</pre><div></div>",
                "<div></div>"
            ],
            "metadata": {}
        },
        {
            "cell_type": "code",
            "metadata": {},
            "execution_count": null,
            "source": "%%writefile ransom_note.py\nclass Solution:\n    def canConstruct(self, ransomNote, magazine):\n        \"\"\"\n        :type ransomNote: str\n        :type magazine: str\n        :rtype: bool\n        \"\"\"",
            "outputs": []
        },
        {
            "cell_type": "code",
            "metadata": {},
            "execution_count": null,
            "source": "# submit\n%run ../../cli.py push --method=submit --path=ransom_note.py --clean=True",
            "outputs": []
        }
    ]
}