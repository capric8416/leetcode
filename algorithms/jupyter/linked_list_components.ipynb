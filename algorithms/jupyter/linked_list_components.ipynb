{
    "nbformat": 4,
    "nbformat_minor": 2,
    "metadata": {
        "kernelspec": {
            "display_name": "Python 3",
            "language": "python",
            "name": "python3"
        },
        "language_info": {
            "codemirror_mode": {
                "name": "ipython",
                "version": 3
            },
            "file_extension": ".py",
            "mimetype": "text/x-python",
            "name": "python",
            "nbconvert_exporter": "python",
            "pygments_lexer": "ipython3",
            "version": "3.7.2"
        }
    },
    "cells": [
        {
            "cell_type": "markdown",
            "source": [
                "<h1>Linked List Components</h1>",
                "<p>We are given&nbsp;<code>head</code>,&nbsp;the head node of a linked list containing&nbsp;<strong>unique integer values</strong>.</p><div></div>",
                "<div></div>",
                "<p>We are also given the list&nbsp;<code>G</code>, a subset of the values in the linked list.</p><div></div>",
                "<div></div>",
                "<p>Return the number of connected components in <code>G</code>, where two values are connected if they appear consecutively in the linked list.</p><div></div>",
                "<div></div>",
                "<p><strong>Example 1:</strong></p><div></div>",
                "<div></div>",
                "<pre><div></div>",
                "<strong>Input:</strong> <div></div>",
                "head: 0-&gt;1-&gt;2-&gt;3<div></div>",
                "G = [0, 1, 3]<div></div>",
                "<strong>Output:</strong> 2<div></div>",
                "<strong>Explanation:</strong> <div></div>",
                "0 and 1 are connected, so [0, 1] and [3] are the two connected components.<div></div>",
                "</pre><div></div>",
                "<div></div>",
                "<p><strong>Example 2:</strong></p><div></div>",
                "<div></div>",
                "<pre><div></div>",
                "<strong>Input:</strong> <div></div>",
                "head: 0-&gt;1-&gt;2-&gt;3-&gt;4<div></div>",
                "G = [0, 3, 1, 4]<div></div>",
                "<strong>Output:</strong> 2<div></div>",
                "<strong>Explanation:</strong> <div></div>",
                "0 and 1 are connected, 3 and 4 are connected, so [0, 1] and [3, 4] are the two connected components.<div></div>",
                "</pre><div></div>",
                "<div></div>",
                "<p><strong>Note: </strong></p><div></div>",
                "<div></div>",
                "<ul><div></div>",
                "\t<li>If&nbsp;<code>N</code>&nbsp;is the&nbsp;length of the linked list given by&nbsp;<code>head</code>,&nbsp;<code>1 &lt;= N &lt;= 10000</code>.</li><div></div>",
                "\t<li>The value of each node in the linked list will be in the range<code> [0, N - 1]</code>.</li><div></div>",
                "\t<li><code>1 &lt;= G.length &lt;= 10000</code>.</li><div></div>",
                "\t<li><code>G</code> is a subset of all values in the linked list.</li><div></div>",
                "</ul><div></div>",
                "<div></div>"
            ],
            "metadata": {}
        },
        {
            "cell_type": "code",
            "metadata": {},
            "execution_count": null,
            "source": "%%writefile linked_list_components.py\n# Definition for singly-linked list.\n# class ListNode:\n#     def __init__(self, x):\n#         self.val = x\n#         self.next = None\n\nclass Solution:\n    def numComponents(self, head, G):\n        \"\"\"\n        :type head: ListNode\n        :type G: List[int]\n        :rtype: int\n        \"\"\"",
            "outputs": []
        },
        {
            "cell_type": "code",
            "metadata": {},
            "execution_count": null,
            "source": "# submit\n%run ../../cli.py push --method=submit --path=linked_list_components.py --clean=True",
            "outputs": []
        }
    ]
}