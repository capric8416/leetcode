{
    "nbformat": 4,
    "nbformat_minor": 2,
    "metadata": {
        "kernelspec": {
            "display_name": "Python 3",
            "language": "python",
            "name": "python3"
        },
        "language_info": {
            "codemirror_mode": {
                "name": "ipython",
                "version": 3
            },
            "file_extension": ".py",
            "mimetype": "text/x-python",
            "name": "python",
            "nbconvert_exporter": "python",
            "pygments_lexer": "ipython3",
            "version": "3.7.2"
        }
    },
    "cells": [
        {
            "cell_type": "markdown",
            "source": [
                "<h1>Implement strStr()</h1>",
                "<p>Implement <a href=\"http://www.cplusplus.com/reference/cstring/strstr/\" target=\"_blank\">strStr()</a>.</p><div></div>",
                "<div></div>",
                "<p>Return the index of the first occurrence of needle in haystack, or <strong>-1</strong> if needle is not part of haystack.</p><div></div>",
                "<div></div>",
                "<p><strong>Example 1:</strong></p><div></div>",
                "<div></div>",
                "<pre><div></div>",
                "<strong>Input:</strong> haystack = &quot;hello&quot;, needle = &quot;ll&quot;<div></div>",
                "<strong>Output:</strong> 2<div></div>",
                "</pre><div></div>",
                "<div></div>",
                "<p><strong>Example 2:</strong></p><div></div>",
                "<div></div>",
                "<pre><div></div>",
                "<strong>Input:</strong> haystack = &quot;aaaaa&quot;, needle = &quot;bba&quot;<div></div>",
                "<strong>Output:</strong> -1<div></div>",
                "</pre><div></div>",
                "<div></div>",
                "<p><strong>Clarification:</strong></p><div></div>",
                "<div></div>",
                "<p>What should we return when <code>needle</code> is an empty string? This is a great question to ask during an interview.</p><div></div>",
                "<div></div>",
                "<p>For the purpose of this problem, we will return 0 when <code>needle</code> is an empty string. This is consistent to C&#39;s&nbsp;<a href=\"http://www.cplusplus.com/reference/cstring/strstr/\" target=\"_blank\">strstr()</a> and Java&#39;s&nbsp;<a href=\"https://docs.oracle.com/javase/7/docs/api/java/lang/String.html#indexOf(java.lang.String)\" target=\"_blank\">indexOf()</a>.</p><div></div>",
                "<div></div>"
            ],
            "metadata": {}
        },
        {
            "cell_type": "code",
            "metadata": {},
            "execution_count": null,
            "source": "%%writefile implement_strstr.py\nclass Solution:\n    def strStr(self, haystack, needle):\n        \"\"\"\n        :type haystack: str\n        :type needle: str\n        :rtype: int\n        \"\"\"",
            "outputs": []
        },
        {
            "cell_type": "code",
            "metadata": {},
            "execution_count": null,
            "source": "# submit\n%run ../../cli.py push --method=submit --path=implement_strstr.py --clean=True",
            "outputs": []
        }
    ]
}