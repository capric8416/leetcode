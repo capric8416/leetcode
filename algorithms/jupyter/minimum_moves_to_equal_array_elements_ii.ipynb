{
    "nbformat": 4,
    "nbformat_minor": 2,
    "metadata": {
        "kernelspec": {
            "display_name": "Python 3",
            "language": "python",
            "name": "python3"
        },
        "language_info": {
            "codemirror_mode": {
                "name": "ipython",
                "version": 3
            },
            "file_extension": ".py",
            "mimetype": "text/x-python",
            "name": "python",
            "nbconvert_exporter": "python",
            "pygments_lexer": "ipython3",
            "version": "3.7.2"
        }
    },
    "cells": [
        {
            "cell_type": "markdown",
            "source": [
                "<h1>Minimum Moves to Equal Array Elements II</h1>",
                "<p><p>Given a <b>non-empty</b> integer array, find the minimum number of moves required to make all array elements equal, where a move is incrementing a selected element by 1 or decrementing a selected element by 1.</p><div></div>",
                "<div></div>",
                "<p>You may assume the array's length is at most 10,000.</p><div></div>",
                "<div></div>",
                "<p><b>Example:</b><div></div>",
                "<pre><div></div>",
                "<b>Input:</b><div></div>",
                "[1,2,3]<div></div>",
                "<div></div>",
                "<b>Output:</b><div></div>",
                "2<div></div>",
                "<div></div>",
                "<b>Explanation:</b><div></div>",
                "Only two moves are needed (remember each move increments or decrements one element):<div></div>",
                "<div></div>",
                "[1,2,3]  =>  [2,2,3]  =>  [2,2,2]<div></div>",
                "</pre><div></div>",
                "</p></p><div></div>"
            ],
            "metadata": {}
        },
        {
            "cell_type": "code",
            "metadata": {},
            "execution_count": null,
            "source": "%%writefile minimum_moves_to_equal_array_elements_ii.py\nclass Solution:\n    def minMoves2(self, nums):\n        \"\"\"\n        :type nums: List[int]\n        :rtype: int\n        \"\"\"",
            "outputs": []
        },
        {
            "cell_type": "code",
            "metadata": {},
            "execution_count": null,
            "source": "# submit\n%run ../../cli.py push --method=submit --path=minimum_moves_to_equal_array_elements_ii.py --clean=True",
            "outputs": []
        }
    ]
}