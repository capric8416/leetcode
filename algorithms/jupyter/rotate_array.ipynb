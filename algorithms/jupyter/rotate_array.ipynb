{
    "nbformat": 4,
    "nbformat_minor": 2,
    "metadata": {
        "kernelspec": {
            "display_name": "Python 3",
            "language": "python",
            "name": "python3"
        },
        "language_info": {
            "codemirror_mode": {
                "name": "ipython",
                "version": 3
            },
            "file_extension": ".py",
            "mimetype": "text/x-python",
            "name": "python",
            "nbconvert_exporter": "python",
            "pygments_lexer": "ipython3",
            "version": "3.7.2"
        }
    },
    "cells": [
        {
            "cell_type": "markdown",
            "source": [
                "<h1>Rotate Array</h1>",
                "<p>Given an array, rotate the array to the right by <em>k</em> steps, where&nbsp;<em>k</em>&nbsp;is non-negative.</p><div></div>",
                "<div></div>",
                "<p><strong>Example 1:</strong></p><div></div>",
                "<div></div>",
                "<pre><div></div>",
                "<strong>Input:</strong> <code>[1,2,3,4,5,6,7]</code> and <em>k</em> = 3<div></div>",
                "<strong>Output:</strong> <code>[5,6,7,1,2,3,4]</code><div></div>",
                "<strong>Explanation:</strong><div></div>",
                "rotate 1 steps to the right: <code>[7,1,2,3,4,5,6]</code><div></div>",
                "rotate 2 steps to the right: <code>[6,7,1,2,3,4,5]<div></div>",
                "</code>rotate 3 steps to the right: <code>[5,6,7,1,2,3,4]</code><div></div>",
                "</pre><div></div>",
                "<div></div>",
                "<p><strong>Example 2:</strong></p><div></div>",
                "<div></div>",
                "<pre><div></div>",
                "<strong>Input:</strong> <code>[-1,-100,3,99]</code> and <em>k</em> = 2<div></div>",
                "<strong>Output:</strong> [3,99,-1,-100]<div></div>",
                "<strong>Explanation:</strong> <div></div>",
                "rotate 1 steps to the right: [99,-1,-100,3]<div></div>",
                "rotate 2 steps to the right: [3,99,-1,-100]<div></div>",
                "</pre><div></div>",
                "<div></div>",
                "<p><strong>Note:</strong></p><div></div>",
                "<div></div>",
                "<ul><div></div>",
                "\t<li>Try to come up as many solutions as you can, there are at least 3 different ways to solve this problem.</li><div></div>",
                "\t<li>Could you do it in-place with O(1) extra space?</li><div></div>",
                "</ul><div></div>"
            ],
            "metadata": {}
        },
        {
            "cell_type": "code",
            "metadata": {},
            "execution_count": null,
            "source": "%%writefile rotate_array.py\nclass Solution:\n    def rotate(self, nums, k):\n        \"\"\"\n        :type nums: List[int]\n        :type k: int\n        :rtype: void Do not return anything, modify nums in-place instead.\n        \"\"\"",
            "outputs": []
        },
        {
            "cell_type": "code",
            "metadata": {},
            "execution_count": null,
            "source": "# submit\n%run ../../cli.py push --method=submit --path=rotate_array.py --clean=True",
            "outputs": []
        }
    ]
}