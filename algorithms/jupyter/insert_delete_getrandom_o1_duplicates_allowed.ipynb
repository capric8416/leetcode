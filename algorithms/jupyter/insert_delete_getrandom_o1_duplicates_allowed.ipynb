{
    "nbformat": 4,
    "nbformat_minor": 2,
    "metadata": {
        "kernelspec": {
            "display_name": "Python 3",
            "language": "python",
            "name": "python3"
        },
        "language_info": {
            "codemirror_mode": {
                "name": "ipython",
                "version": 3
            },
            "file_extension": ".py",
            "mimetype": "text/x-python",
            "name": "python",
            "nbconvert_exporter": "python",
            "pygments_lexer": "ipython3",
            "version": "3.7.2"
        }
    },
    "cells": [
        {
            "cell_type": "markdown",
            "source": [
                "<h1>Insert Delete GetRandom O(1) - Duplicates allowed</h1>",
                "<p>Design a data structure that supports all following operations in <i>average</i> <b>O(1)</b> time.</p><div></div>",
                "<b>Note: Duplicate elements are allowed.</b><div></div>",
                "<p><div></div>",
                "<ol><div></div>",
                "<li><code>insert(val)</code>: Inserts an item val to the collection.</li><div></div>",
                "<li><code>remove(val)</code>: Removes an item val from the collection if present.</li><div></div>",
                "<li><code>getRandom</code>: Returns a random element from current collection of elements. The probability of each element being returned is <b>linearly related</b> to the number of same value the collection contains.</li><div></div>",
                "</ol><div></div>",
                "</p><div></div>",
                "<div></div>",
                "<p><b>Example:</b><div></div>",
                "<pre><div></div>",
                "// Init an empty collection.<div></div>",
                "RandomizedCollection collection = new RandomizedCollection();<div></div>",
                "<div></div>",
                "// Inserts 1 to the collection. Returns true as the collection did not contain 1.<div></div>",
                "collection.insert(1);<div></div>",
                "<div></div>",
                "// Inserts another 1 to the collection. Returns false as the collection contained 1. Collection now contains [1,1].<div></div>",
                "collection.insert(1);<div></div>",
                "<div></div>",
                "// Inserts 2 to the collection, returns true. Collection now contains [1,1,2].<div></div>",
                "collection.insert(2);<div></div>",
                "<div></div>",
                "// getRandom should return 1 with the probability 2/3, and returns 2 with the probability 1/3.<div></div>",
                "collection.getRandom();<div></div>",
                "<div></div>",
                "// Removes 1 from the collection, returns true. Collection now contains [1,2].<div></div>",
                "collection.remove(1);<div></div>",
                "<div></div>",
                "// getRandom should return 1 and 2 both equally likely.<div></div>",
                "collection.getRandom();<div></div>",
                "</pre><div></div>",
                "</p><div></div>"
            ],
            "metadata": {}
        },
        {
            "cell_type": "code",
            "metadata": {},
            "execution_count": null,
            "source": "%%writefile insert_delete_getrandom_o1_duplicates_allowed.py\nclass RandomizedCollection:\n\n    def __init__(self):\n        \"\"\"\n        Initialize your data structure here.\n        \"\"\"\n        \n\n    def insert(self, val):\n        \"\"\"\n        Inserts a value to the collection. Returns true if the collection did not already contain the specified element.\n        :type val: int\n        :rtype: bool\n        \"\"\"\n        \n\n    def remove(self, val):\n        \"\"\"\n        Removes a value from the collection. Returns true if the collection contained the specified element.\n        :type val: int\n        :rtype: bool\n        \"\"\"\n        \n\n    def getRandom(self):\n        \"\"\"\n        Get a random element from the collection.\n        :rtype: int\n        \"\"\"\n        \n\n\n# Your RandomizedCollection object will be instantiated and called as such:\n# obj = RandomizedCollection()\n# param_1 = obj.insert(val)\n# param_2 = obj.remove(val)\n# param_3 = obj.getRandom()",
            "outputs": []
        },
        {
            "cell_type": "code",
            "metadata": {},
            "execution_count": null,
            "source": "# submit\n%run ../../cli.py push --method=submit --path=insert_delete_getrandom_o1_duplicates_allowed.py --clean=True",
            "outputs": []
        }
    ]
}