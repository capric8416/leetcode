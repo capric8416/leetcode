{
    "nbformat": 4,
    "nbformat_minor": 2,
    "metadata": {
        "kernelspec": {
            "display_name": "Python 3",
            "language": "python",
            "name": "python3"
        },
        "language_info": {
            "codemirror_mode": {
                "name": "ipython",
                "version": 3
            },
            "file_extension": ".py",
            "mimetype": "text/x-python",
            "name": "python",
            "nbconvert_exporter": "python",
            "pygments_lexer": "ipython3",
            "version": "3.7.2"
        }
    },
    "cells": [
        {
            "cell_type": "markdown",
            "source": [
                "<h1>Frog Jump</h1>",
                "<p>A frog is crossing a river. The river is divided into x units and at each unit there may or may not exist a stone. The frog can jump on a stone, but it must not jump into the water.</p><div></div>",
                "<div></div>",
                "<p>Given a list of stones' positions (in units) in sorted ascending order, determine if the frog is able to cross the river by landing on the last stone. Initially, the frog is on the first stone and assume the first jump must be 1 unit.<div></div>",
                "</p><div></div>",
                "<div></div>",
                "<p>If the frog's last jump was <i>k</i> units, then its next jump must be either <i>k</i> - 1, <i>k</i>, or <i>k</i> + 1 units. Note that the frog can only jump in the forward direction.</p><div></div>",
                "<div></div>",
                "<p><b>Note:</b><div></div>",
                "<ul><div></div>",
                "<li>The number of stones is &ge; 2 and is < 1,100.</li><div></div>",
                "<li>Each stone's position will be a non-negative integer < 2<sup>31</sup>.</li><div></div>",
                "<li>The first stone's position is always 0.</li><div></div>",
                "</ul><div></div>",
                "</p><div></div>",
                "<div></div>",
                "<p><b>Example 1:</b><div></div>",
                "<pre><div></div>",
                "<b>[0,1,3,5,6,8,12,17]</b><div></div>",
                "<div></div>",
                "There are a total of 8 stones.<div></div>",
                "The first stone at the 0th unit, second stone at the 1st unit,<div></div>",
                "third stone at the 3rd unit, and so on...<div></div>",
                "The last stone at the 17th unit.<div></div>",
                "<div></div>",
                "<b>Return true</b>. The frog can jump to the last stone by jumping <div></div>",
                "1 unit to the 2nd stone, then 2 units to the 3rd stone, then <div></div>",
                "2 units to the 4th stone, then 3 units to the 6th stone, <div></div>",
                "4 units to the 7th stone, and 5 units to the 8th stone.<div></div>",
                "</pre><div></div>",
                "</p><div></div>",
                "<div></div>",
                "<p><b>Example 2:</b><div></div>",
                "<pre><div></div>",
                "<b>[0,1,2,3,4,8,9,11]</b><div></div>",
                "<div></div>",
                "<b>Return false</b>. There is no way to jump to the last stone as <div></div>",
                "the gap between the 5th and 6th stone is too large.<div></div>",
                "</pre><div></div>",
                "</p><div></div>"
            ],
            "metadata": {}
        },
        {
            "cell_type": "code",
            "metadata": {},
            "execution_count": null,
            "source": "%%writefile frog_jump.py\nclass Solution:\n    def canCross(self, stones):\n        \"\"\"\n        :type stones: List[int]\n        :rtype: bool\n        \"\"\"",
            "outputs": []
        },
        {
            "cell_type": "code",
            "metadata": {},
            "execution_count": null,
            "source": "# submit\n%run ../../cli.py push --method=submit --path=frog_jump.py --clean=True",
            "outputs": []
        }
    ]
}