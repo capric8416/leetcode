{
    "nbformat": 4,
    "nbformat_minor": 2,
    "metadata": {
        "kernelspec": {
            "display_name": "Python 3",
            "language": "python",
            "name": "python3"
        },
        "language_info": {
            "codemirror_mode": {
                "name": "ipython",
                "version": 3
            },
            "file_extension": ".py",
            "mimetype": "text/x-python",
            "name": "python",
            "nbconvert_exporter": "python",
            "pygments_lexer": "ipython3",
            "version": "3.7.2"
        }
    },
    "cells": [
        {
            "cell_type": "markdown",
            "source": [
                "<h1>Word Search II</h1>",
                "<p>Given a 2D board and a list of words from the dictionary, find all words in the board.</p><div></div>",
                "<div></div>",
                "<p>Each word must be constructed from letters of sequentially adjacent cell, where &quot;adjacent&quot; cells are those horizontally or vertically neighboring. The same letter cell may not be used more than once in a word.</p><div></div>",
                "<div></div>",
                "<p><strong>Example:</strong></p><div></div>",
                "<div></div>",
                "<pre><div></div>",
                "<strong>Input:</strong> <div></div>",
                "<b>words</b> = <code>[&quot;oath&quot;,&quot;pea&quot;,&quot;eat&quot;,&quot;rain&quot;]</code> and <b>board </b>=<div></div>",
                "[<div></div>",
                "  [&#39;<span style=\"color:#d70\">o</span>&#39;,&#39;<span style=\"color:#d70\">a</span>&#39;,&#39;a&#39;,&#39;n&#39;],<div></div>",
                "  [&#39;e&#39;,&#39;<span style=\"color:#d30\">t</span>&#39;,&#39;<span style=\"color:#d00\">a</span>&#39;,&#39;<span style=\"color:#d00\">e</span>&#39;],<div></div>",
                "  [&#39;i&#39;,&#39;<span style=\"color:#d70\">h</span>&#39;,&#39;k&#39;,&#39;r&#39;],<div></div>",
                "  [&#39;i&#39;,&#39;f&#39;,&#39;l&#39;,&#39;v&#39;]<div></div>",
                "]<div></div>",
                "<div></div>",
                "<strong>Output:&nbsp;</strong><code>[&quot;eat&quot;,&quot;oath&quot;]</code><div></div>",
                "</pre><div></div>",
                "<div></div>",
                "<p><b>Note:</b><br /><div></div>",
                "You may assume that all inputs are consist of lowercase letters <code>a-z</code>.</p><div></div>"
            ],
            "metadata": {}
        },
        {
            "cell_type": "code",
            "metadata": {},
            "execution_count": null,
            "source": "%%writefile word_search_ii.py\nclass Solution:\n    def findWords(self, board, words):\n        \"\"\"\n        :type board: List[List[str]]\n        :type words: List[str]\n        :rtype: List[str]\n        \"\"\"",
            "outputs": []
        },
        {
            "cell_type": "code",
            "metadata": {},
            "execution_count": null,
            "source": "# submit\n%run ../../cli.py push --method=submit --path=word_search_ii.py --clean=True",
            "outputs": []
        }
    ]
}