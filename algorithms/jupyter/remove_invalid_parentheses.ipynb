{
    "nbformat": 4,
    "nbformat_minor": 2,
    "metadata": {
        "kernelspec": {
            "display_name": "Python 3",
            "language": "python",
            "name": "python3"
        },
        "language_info": {
            "codemirror_mode": {
                "name": "ipython",
                "version": 3
            },
            "file_extension": ".py",
            "mimetype": "text/x-python",
            "name": "python",
            "nbconvert_exporter": "python",
            "pygments_lexer": "ipython3",
            "version": "3.7.2"
        }
    },
    "cells": [
        {
            "cell_type": "markdown",
            "source": [
                "<h1>Remove Invalid Parentheses</h1>",
                "<p>Remove the minimum number of invalid parentheses in order to make the input string valid. Return all possible results.</p><div></div>",
                "<div></div>",
                "<p><strong>Note:</strong>&nbsp;The input string may contain letters other than the parentheses <code>(</code> and <code>)</code>.</p><div></div>",
                "<div></div>",
                "<p><b>Example 1:</b></p><div></div>",
                "<div></div>",
                "<pre><div></div>",
                "<b>Input:</b> &quot;()())()&quot;<div></div>",
                "<b>Output:</b> [&quot;()()()&quot;, &quot;(())()&quot;]<div></div>",
                "</pre><div></div>",
                "<div></div>",
                "<p><b>Example 2:</b></p><div></div>",
                "<div></div>",
                "<pre><div></div>",
                "<b>Input:</b> &quot;(a)())()&quot;<div></div>",
                "<b>Output:</b> [&quot;(a)()()&quot;, &quot;(a())()&quot;]<div></div>",
                "</pre><div></div>",
                "<div></div>",
                "<p><b>Example 3:</b></p><div></div>",
                "<div></div>",
                "<pre><div></div>",
                "<b>Input:</b> &quot;)(&quot;<div></div>",
                "<b>Output: </b>[&quot;&quot;]<div></div>",
                "</pre><div></div>"
            ],
            "metadata": {}
        },
        {
            "cell_type": "code",
            "metadata": {},
            "execution_count": null,
            "source": "%%writefile remove_invalid_parentheses.py\nclass Solution:\n    def removeInvalidParentheses(self, s):\n        \"\"\"\n        :type s: str\n        :rtype: List[str]\n        \"\"\"",
            "outputs": []
        },
        {
            "cell_type": "code",
            "metadata": {},
            "execution_count": null,
            "source": "# submit\n%run ../../cli.py push --method=submit --path=remove_invalid_parentheses.py --clean=True",
            "outputs": []
        }
    ]
}