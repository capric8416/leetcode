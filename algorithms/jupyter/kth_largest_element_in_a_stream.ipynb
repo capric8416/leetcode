{
    "nbformat": 4,
    "nbformat_minor": 2,
    "metadata": {
        "kernelspec": {
            "display_name": "Python 3",
            "language": "python",
            "name": "python3"
        },
        "language_info": {
            "codemirror_mode": {
                "name": "ipython",
                "version": 3
            },
            "file_extension": ".py",
            "mimetype": "text/x-python",
            "name": "python",
            "nbconvert_exporter": "python",
            "pygments_lexer": "ipython3",
            "version": "3.7.2"
        }
    },
    "cells": [
        {
            "cell_type": "markdown",
            "source": [
                "<h1>Kth Largest Element in a Stream</h1>",
                "<p>Design a class to find&nbsp;the <strong>k</strong>th largest element in a stream. Note that it is the kth largest element in the sorted order, not the kth distinct element.</p><div></div>",
                "<div></div>",
                "<p>Your&nbsp;<code>KthLargest</code>&nbsp;class will have a constructor which accepts an integer <code>k</code> and an integer array <code>nums</code>, which contains initial elements from&nbsp;the stream. For each call to the method <code>KthLargest.add</code>, return the element representing the kth largest element in the stream.</p><div></div>",
                "<div></div>",
                "<p><strong>Example:</strong></p><div></div>",
                "<div></div>",
                "<pre><div></div>",
                "int k = 3;<div></div>",
                "int[] arr = [4,5,8,2];<div></div>",
                "KthLargest kthLargest = new KthLargest(3, arr);<div></div>",
                "kthLargest.add(3);&nbsp; &nbsp;// returns 4<div></div>",
                "kthLargest.add(5);&nbsp; &nbsp;// returns 5<div></div>",
                "kthLargest.add(10);&nbsp; // returns 5<div></div>",
                "kthLargest.add(9);&nbsp; &nbsp;// returns 8<div></div>",
                "kthLargest.add(4);&nbsp; &nbsp;// returns 8<div></div>",
                "</pre><div></div>",
                "<div></div>",
                "<p><strong>Note: </strong><br /><div></div>",
                "You may assume that&nbsp;<code>nums</code>&#39; length&nbsp;&ge;&nbsp;<code>k-1</code>&nbsp;and <code>k</code> &ge;&nbsp;1.</p><div></div>",
                "<div></div>"
            ],
            "metadata": {}
        },
        {
            "cell_type": "code",
            "metadata": {},
            "execution_count": null,
            "source": "%%writefile kth_largest_element_in_a_stream.py\nclass KthLargest:\n\n    def __init__(self, k, nums):\n        \"\"\"\n        :type k: int\n        :type nums: List[int]\n        \"\"\"\n        \n\n    def add(self, val):\n        \"\"\"\n        :type val: int\n        :rtype: int\n        \"\"\"\n        \n\n\n# Your KthLargest object will be instantiated and called as such:\n# obj = KthLargest(k, nums)\n# param_1 = obj.add(val)",
            "outputs": []
        },
        {
            "cell_type": "code",
            "metadata": {},
            "execution_count": null,
            "source": "# submit\n%run ../../cli.py push --method=submit --path=kth_largest_element_in_a_stream.py --clean=True",
            "outputs": []
        }
    ]
}