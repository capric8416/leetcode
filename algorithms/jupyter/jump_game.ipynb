{
    "nbformat": 4,
    "nbformat_minor": 2,
    "metadata": {
        "kernelspec": {
            "display_name": "Python 3",
            "language": "python",
            "name": "python3"
        },
        "language_info": {
            "codemirror_mode": {
                "name": "ipython",
                "version": 3
            },
            "file_extension": ".py",
            "mimetype": "text/x-python",
            "name": "python",
            "nbconvert_exporter": "python",
            "pygments_lexer": "ipython3",
            "version": "3.7.2"
        }
    },
    "cells": [
        {
            "cell_type": "markdown",
            "source": [
                "<h1>Jump Game</h1>",
                "<p>Given an array of non-negative integers, you are initially positioned at the first index of the array.</p><div></div>",
                "<div></div>",
                "<p>Each element in the array represents your maximum jump length at that position.</p><div></div>",
                "<div></div>",
                "<p>Determine if you are able to reach the last index.</p><div></div>",
                "<div></div>",
                "<p><strong>Example 1:</strong></p><div></div>",
                "<div></div>",
                "<pre><div></div>",
                "<strong>Input:</strong> [2,3,1,1,4]<div></div>",
                "<strong>Output:</strong> true<div></div>",
                "<strong>Explanation:</strong> Jump 1 step from index 0 to 1, then 3 steps to the last index.<div></div>",
                "</pre><div></div>",
                "<div></div>",
                "<p><strong>Example 2:</strong></p><div></div>",
                "<div></div>",
                "<pre><div></div>",
                "<strong>Input:</strong> [3,2,1,0,4]<div></div>",
                "<strong>Output:</strong> false<div></div>",
                "<strong>Explanation:</strong> You will always arrive at index 3 no matter what. Its maximum<div></div>",
                "&nbsp;            jump length is 0, which makes it impossible to reach the last index.<div></div>",
                "</pre><div></div>",
                "<div></div>"
            ],
            "metadata": {}
        },
        {
            "cell_type": "code",
            "metadata": {},
            "execution_count": null,
            "source": "%%writefile jump_game.py\nclass Solution:\n    def canJump(self, nums):\n        \"\"\"\n        :type nums: List[int]\n        :rtype: bool\n        \"\"\"",
            "outputs": []
        },
        {
            "cell_type": "code",
            "metadata": {},
            "execution_count": null,
            "source": "# submit\n%run ../../cli.py push --method=submit --path=jump_game.py --clean=True",
            "outputs": []
        }
    ]
}