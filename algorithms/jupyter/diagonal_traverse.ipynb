{
    "nbformat": 4,
    "nbformat_minor": 2,
    "metadata": {
        "kernelspec": {
            "display_name": "Python 3",
            "language": "python",
            "name": "python3"
        },
        "language_info": {
            "codemirror_mode": {
                "name": "ipython",
                "version": 3
            },
            "file_extension": ".py",
            "mimetype": "text/x-python",
            "name": "python",
            "nbconvert_exporter": "python",
            "pygments_lexer": "ipython3",
            "version": "3.7.2"
        }
    },
    "cells": [
        {
            "cell_type": "markdown",
            "source": [
                "<h1>Diagonal Traverse</h1>",
                "<p>Given a matrix of M x N elements (M rows, N columns), return all elements of the matrix in diagonal order as shown in the below image.</p><div></div>",
                "<div></div>",
                "<p>&nbsp;</p><div></div>",
                "<div></div>",
                "<p><b>Example:</b></p><div></div>",
                "<div></div>",
                "<pre><div></div>",
                "<b>Input:</b><div></div>",
                "[<div></div>",
                " [ 1, 2, 3 ],<div></div>",
                " [ 4, 5, 6 ],<div></div>",
                " [ 7, 8, 9 ]<div></div>",
                "]<div></div>",
                "<div></div>",
                "<b>Output:</b>  [1,2,4,7,5,3,6,8,9]<div></div>",
                "<div></div>",
                "<b>Explanation:</b><div></div>",
                "<img src=\"https://assets.leetcode.com/uploads/2018/10/12/diagonal_traverse.png\" style=\"width: 220px;\" /><div></div>",
                "</pre><div></div>",
                "<div></div>",
                "<p>&nbsp;</p><div></div>",
                "<div></div>",
                "<p><b>Note:</b></p><div></div>",
                "<div></div>",
                "<p>The total number of elements of the given matrix will not exceed 10,000.</p><div></div>",
                "<div></div>"
            ],
            "metadata": {}
        },
        {
            "cell_type": "code",
            "metadata": {},
            "execution_count": null,
            "source": "%%writefile diagonal_traverse.py\nclass Solution:\n    def findDiagonalOrder(self, matrix):\n        \"\"\"\n        :type matrix: List[List[int]]\n        :rtype: List[int]\n        \"\"\"",
            "outputs": []
        },
        {
            "cell_type": "code",
            "metadata": {},
            "execution_count": null,
            "source": "# submit\n%run ../../cli.py push --method=submit --path=diagonal_traverse.py --clean=True",
            "outputs": []
        }
    ]
}