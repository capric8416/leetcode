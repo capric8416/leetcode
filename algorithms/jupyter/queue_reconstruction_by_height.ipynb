{
    "nbformat": 4,
    "nbformat_minor": 2,
    "metadata": {
        "kernelspec": {
            "display_name": "Python 3",
            "language": "python",
            "name": "python3"
        },
        "language_info": {
            "codemirror_mode": {
                "name": "ipython",
                "version": 3
            },
            "file_extension": ".py",
            "mimetype": "text/x-python",
            "name": "python",
            "nbconvert_exporter": "python",
            "pygments_lexer": "ipython3",
            "version": "3.7.2"
        }
    },
    "cells": [
        {
            "cell_type": "markdown",
            "source": [
                "<h1>Queue Reconstruction by Height</h1>",
                "<p>Suppose you have a random list of people standing in a queue. Each person is described by a pair of integers <code>(h, k)</code>, where <code>h</code> is the height of the person and <code>k</code> is the number of people in front of this person who have a height greater than or equal to <code>h</code>. Write an algorithm to reconstruct the queue.<div></div>",
                "</p><div></div>",
                "<div></div>",
                "<p><b>Note:</b><br /><div></div>",
                "The number of people is less than 1,100.<div></div>",
                "</p><div></div>",
                "<div></div>",
                "<br /><div></div>",
                "<div></div>",
                "<p><b>Example</b><div></div>",
                "<pre><div></div>",
                "Input:<div></div>",
                "[[7,0], [4,4], [7,1], [5,0], [6,1], [5,2]]<div></div>",
                "<div></div>",
                "Output:<div></div>",
                "[[5,0], [7,0], [5,2], [6,1], [4,4], [7,1]]<div></div>",
                "</pre><div></div>",
                "</p><div></div>"
            ],
            "metadata": {}
        },
        {
            "cell_type": "code",
            "metadata": {},
            "execution_count": null,
            "source": "%%writefile queue_reconstruction_by_height.py\nclass Solution:\n    def reconstructQueue(self, people):\n        \"\"\"\n        :type people: List[List[int]]\n        :rtype: List[List[int]]\n        \"\"\"",
            "outputs": []
        },
        {
            "cell_type": "code",
            "metadata": {},
            "execution_count": null,
            "source": "# submit\n%run ../../cli.py push --method=submit --path=queue_reconstruction_by_height.py --clean=True",
            "outputs": []
        }
    ]
}