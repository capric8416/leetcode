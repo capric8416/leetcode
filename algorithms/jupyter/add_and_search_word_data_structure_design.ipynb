{
    "nbformat": 4,
    "nbformat_minor": 2,
    "metadata": {
        "kernelspec": {
            "display_name": "Python 3",
            "language": "python",
            "name": "python3"
        },
        "language_info": {
            "codemirror_mode": {
                "name": "ipython",
                "version": 3
            },
            "file_extension": ".py",
            "mimetype": "text/x-python",
            "name": "python",
            "nbconvert_exporter": "python",
            "pygments_lexer": "ipython3",
            "version": "3.7.2"
        }
    },
    "cells": [
        {
            "cell_type": "markdown",
            "source": [
                "<h1>Add and Search Word - Data structure design</h1>",
                "<p>Design a data structure that supports the following two operations:</p><div></div>",
                "<div></div>",
                "<pre><div></div>",
                "void addWord(word)<div></div>",
                "bool search(word)<div></div>",
                "</pre><div></div>",
                "<div></div>",
                "<p>search(word) can search a literal word or a regular expression string containing only letters <code>a-z</code> or <code>.</code>. A <code>.</code> means it can represent any one letter.</p><div></div>",
                "<div></div>",
                "<p><strong>Example:</strong></p><div></div>",
                "<div></div>",
                "<pre><div></div>",
                "addWord(&quot;bad&quot;)<div></div>",
                "addWord(&quot;dad&quot;)<div></div>",
                "addWord(&quot;mad&quot;)<div></div>",
                "search(&quot;pad&quot;) -&gt; false<div></div>",
                "search(&quot;bad&quot;) -&gt; true<div></div>",
                "search(&quot;.ad&quot;) -&gt; true<div></div>",
                "search(&quot;b..&quot;) -&gt; true<div></div>",
                "</pre><div></div>",
                "<div></div>",
                "<p><b>Note:</b><br /><div></div>",
                "You may assume that all words are consist of lowercase letters <code>a-z</code>.</p><div></div>",
                "<div></div>"
            ],
            "metadata": {}
        },
        {
            "cell_type": "code",
            "metadata": {},
            "execution_count": null,
            "source": "%%writefile add_and_search_word_data_structure_design.py\nclass WordDictionary:\n\n    def __init__(self):\n        \"\"\"\n        Initialize your data structure here.\n        \"\"\"\n        \n\n    def addWord(self, word):\n        \"\"\"\n        Adds a word into the data structure.\n        :type word: str\n        :rtype: void\n        \"\"\"\n        \n\n    def search(self, word):\n        \"\"\"\n        Returns if the word is in the data structure. A word could contain the dot character '.' to represent any one letter.\n        :type word: str\n        :rtype: bool\n        \"\"\"\n        \n\n\n# Your WordDictionary object will be instantiated and called as such:\n# obj = WordDictionary()\n# obj.addWord(word)\n# param_2 = obj.search(word)",
            "outputs": []
        },
        {
            "cell_type": "code",
            "metadata": {},
            "execution_count": null,
            "source": "# submit\n%run ../../cli.py push --method=submit --path=add_and_search_word_data_structure_design.py --clean=True",
            "outputs": []
        }
    ]
}