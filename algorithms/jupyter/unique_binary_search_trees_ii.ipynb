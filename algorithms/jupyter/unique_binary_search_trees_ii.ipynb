{
    "nbformat": 4,
    "nbformat_minor": 2,
    "metadata": {
        "kernelspec": {
            "display_name": "Python 3",
            "language": "python",
            "name": "python3"
        },
        "language_info": {
            "codemirror_mode": {
                "name": "ipython",
                "version": 3
            },
            "file_extension": ".py",
            "mimetype": "text/x-python",
            "name": "python",
            "nbconvert_exporter": "python",
            "pygments_lexer": "ipython3",
            "version": "3.7.2"
        }
    },
    "cells": [
        {
            "cell_type": "markdown",
            "source": [
                "<h1>Unique Binary Search Trees II</h1>",
                "<p>Given an integer <em>n</em>, generate all structurally unique <strong>BST&#39;s</strong> (binary search trees) that store values 1 ...&nbsp;<em>n</em>.</p><div></div>",
                "<div></div>",
                "<p><strong>Example:</strong></p><div></div>",
                "<div></div>",
                "<pre><div></div>",
                "<strong>Input:</strong> 3<div></div>",
                "<strong>Output:</strong><div></div>",
                "[<div></div>",
                "&nbsp; [1,null,3,2],<div></div>",
                "&nbsp; [3,2,null,1],<div></div>",
                "&nbsp; [3,1,null,null,2],<div></div>",
                "&nbsp; [2,1,3],<div></div>",
                "&nbsp; [1,null,2,null,3]<div></div>",
                "]<div></div>",
                "<strong>Explanation:</strong><div></div>",
                "The above output corresponds to the 5 unique BST&#39;s shown below:<div></div>",
                "<div></div>",
                "   1         3     3      2      1<div></div>",
                "    \\       /     /      / \\      \\<div></div>",
                "     3     2     1      1   3      2<div></div>",
                "    /     /       \\                 \\<div></div>",
                "   2     1         2                 3<div></div>",
                "</pre><div></div>",
                "<div></div>"
            ],
            "metadata": {}
        },
        {
            "cell_type": "code",
            "metadata": {},
            "execution_count": null,
            "source": "%%writefile unique_binary_search_trees_ii.py\n# Definition for a binary tree node.\n# class TreeNode:\n#     def __init__(self, x):\n#         self.val = x\n#         self.left = None\n#         self.right = None\n\nclass Solution:\n    def generateTrees(self, n):\n        \"\"\"\n        :type n: int\n        :rtype: List[TreeNode]\n        \"\"\"",
            "outputs": []
        },
        {
            "cell_type": "code",
            "metadata": {},
            "execution_count": null,
            "source": "# submit\n%run ../../cli.py push --method=submit --path=unique_binary_search_trees_ii.py --clean=True",
            "outputs": []
        }
    ]
}