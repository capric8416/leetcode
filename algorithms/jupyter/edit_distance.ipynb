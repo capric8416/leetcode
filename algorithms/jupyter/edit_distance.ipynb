{
    "nbformat": 4,
    "nbformat_minor": 2,
    "metadata": {
        "kernelspec": {
            "display_name": "Python 3",
            "language": "python",
            "name": "python3"
        },
        "language_info": {
            "codemirror_mode": {
                "name": "ipython",
                "version": 3
            },
            "file_extension": ".py",
            "mimetype": "text/x-python",
            "name": "python",
            "nbconvert_exporter": "python",
            "pygments_lexer": "ipython3",
            "version": "3.7.2"
        }
    },
    "cells": [
        {
            "cell_type": "markdown",
            "source": [
                "<h1>Edit Distance</h1>",
                "<p>Given two words <em>word1</em> and <em>word2</em>, find the minimum number of operations required to convert <em>word1</em> to <em>word2</em>.</p><div></div>",
                "<div></div>",
                "<p>You have the following 3 operations permitted on a word:</p><div></div>",
                "<div></div>",
                "<ol><div></div>",
                "\t<li>Insert a character</li><div></div>",
                "\t<li>Delete a character</li><div></div>",
                "\t<li>Replace a character</li><div></div>",
                "</ol><div></div>",
                "<div></div>",
                "<p><strong>Example 1:</strong></p><div></div>",
                "<div></div>",
                "<pre><div></div>",
                "<strong>Input:</strong> word1 = &quot;horse&quot;, word2 = &quot;ros&quot;<div></div>",
                "<strong>Output:</strong> 3<div></div>",
                "<strong>Explanation:</strong> <div></div>",
                "horse -&gt; rorse (replace &#39;h&#39; with &#39;r&#39;)<div></div>",
                "rorse -&gt; rose (remove &#39;r&#39;)<div></div>",
                "rose -&gt; ros (remove &#39;e&#39;)<div></div>",
                "</pre><div></div>",
                "<div></div>",
                "<p><strong>Example 2:</strong></p><div></div>",
                "<div></div>",
                "<pre><div></div>",
                "<strong>Input:</strong> word1 = &quot;intention&quot;, word2 = &quot;execution&quot;<div></div>",
                "<strong>Output:</strong> 5<div></div>",
                "<strong>Explanation:</strong> <div></div>",
                "intention -&gt; inention (remove &#39;t&#39;)<div></div>",
                "inention -&gt; enention (replace &#39;i&#39; with &#39;e&#39;)<div></div>",
                "enention -&gt; exention (replace &#39;n&#39; with &#39;x&#39;)<div></div>",
                "exention -&gt; exection (replace &#39;n&#39; with &#39;c&#39;)<div></div>",
                "exection -&gt; execution (insert &#39;u&#39;)<div></div>",
                "</pre><div></div>",
                "<div></div>"
            ],
            "metadata": {}
        },
        {
            "cell_type": "code",
            "metadata": {},
            "execution_count": null,
            "source": "%%writefile edit_distance.py\nclass Solution:\n    def minDistance(self, word1, word2):\n        \"\"\"\n        :type word1: str\n        :type word2: str\n        :rtype: int\n        \"\"\"",
            "outputs": []
        },
        {
            "cell_type": "code",
            "metadata": {},
            "execution_count": null,
            "source": "# submit\n%run ../../cli.py push --method=submit --path=edit_distance.py --clean=True",
            "outputs": []
        }
    ]
}