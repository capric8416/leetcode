{
    "nbformat": 4,
    "nbformat_minor": 2,
    "metadata": {
        "kernelspec": {
            "display_name": "Python 3",
            "language": "python",
            "name": "python3"
        },
        "language_info": {
            "codemirror_mode": {
                "name": "ipython",
                "version": 3
            },
            "file_extension": ".py",
            "mimetype": "text/x-python",
            "name": "python",
            "nbconvert_exporter": "python",
            "pygments_lexer": "ipython3",
            "version": "3.7.2"
        }
    },
    "cells": [
        {
            "cell_type": "markdown",
            "source": [
                "<h1>Binary Trees With Factors</h1>",
                "<p>Given an array of unique integers, each integer is strictly greater than 1.</p><div></div>",
                "<div></div>",
                "<p>We make a binary tree using these integers&nbsp;and each number may be used for any number of times.</p><div></div>",
                "<div></div>",
                "<p>Each non-leaf node&#39;s&nbsp;value should be equal to the product of the values of it&#39;s children.</p><div></div>",
                "<div></div>",
                "<p>How many binary trees can we make?&nbsp; Return the answer <strong>modulo 10 ** 9 + 7</strong>.</p><div></div>",
                "<div></div>",
                "<p><strong>Example 1:</strong></p><div></div>",
                "<div></div>",
                "<pre><div></div>",
                "<strong>Input:</strong> <code>A = [2, 4]</code><div></div>",
                "<strong>Output:</strong> 3<div></div>",
                "<strong>Explanation:</strong> We can make these trees: <code>[2], [4], [4, 2, 2]</code></pre><div></div>",
                "<div></div>",
                "<p><strong>Example 2:</strong></p><div></div>",
                "<div></div>",
                "<pre><div></div>",
                "<strong>Input:</strong> <code>A = [2, 4, 5, 10]</code><div></div>",
                "<strong>Output:</strong> <code>7</code><div></div>",
                "<strong>Explanation:</strong> We can make these trees: <code>[2], [4], [5], [10], [4, 2, 2], [10, 2, 5], [10, 5, 2]</code>.</pre><div></div>",
                "<div></div>",
                "<p>&nbsp;</p><div></div>",
                "<div></div>",
                "<p><strong>Note:</strong></p><div></div>",
                "<div></div>",
                "<ol><div></div>",
                "\t<li><code>1 &lt;= A.length &lt;=&nbsp;1000</code>.</li><div></div>",
                "\t<li><code>2 &lt;=&nbsp;A[i]&nbsp;&lt;=&nbsp;10 ^ 9</code>.</li><div></div>",
                "</ol><div></div>",
                "<div></div>"
            ],
            "metadata": {}
        },
        {
            "cell_type": "code",
            "metadata": {},
            "execution_count": null,
            "source": "%%writefile binary_trees_with_factors.py\nclass Solution:\n    def numFactoredBinaryTrees(self, A):\n        \"\"\"\n        :type A: List[int]\n        :rtype: int\n        \"\"\"",
            "outputs": []
        },
        {
            "cell_type": "code",
            "metadata": {},
            "execution_count": null,
            "source": "# submit\n%run ../../cli.py push --method=submit --path=binary_trees_with_factors.py --clean=True",
            "outputs": []
        }
    ]
}