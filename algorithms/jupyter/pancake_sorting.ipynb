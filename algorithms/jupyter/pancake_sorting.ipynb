{
    "nbformat": 4,
    "nbformat_minor": 2,
    "metadata": {
        "kernelspec": {
            "display_name": "Python 3",
            "language": "python",
            "name": "python3"
        },
        "language_info": {
            "codemirror_mode": {
                "name": "ipython",
                "version": 3
            },
            "file_extension": ".py",
            "mimetype": "text/x-python",
            "name": "python",
            "nbconvert_exporter": "python",
            "pygments_lexer": "ipython3",
            "version": "3.7.2"
        }
    },
    "cells": [
        {
            "cell_type": "markdown",
            "source": [
                "<h1>Pancake Sorting</h1>",
                "<p>Given an array <code>A</code>, we can perform a&nbsp;<em>pancake flip</em>:&nbsp;We choose some positive integer&nbsp;<code><strong>k</strong> &lt;= A.length</code>, then reverse the order of the first <strong>k</strong> elements of <code>A</code>.&nbsp; We want to perform zero or more pancake flips (doing them one after another in succession) to sort the array <code>A</code>.</p><div></div>",
                "<div></div>",
                "<p>Return the k-values corresponding to a sequence of pancake flips that sort <code>A</code>.&nbsp; Any&nbsp;valid answer that sorts the array within <code>10 * A.length</code> flips will be judged as correct.</p><div></div>",
                "<div></div>",
                "<p>&nbsp;</p><div></div>",
                "<div></div>",
                "<p><strong>Example 1:</strong></p><div></div>",
                "<div></div>",
                "<pre><div></div>",
                "<strong>Input: </strong><span id=\"example-input-1-1\">[3,2,4,1]</span><div></div>",
                "<strong>Output: </strong><span id=\"example-output-1\">[4,2,4,3]</span><div></div>",
                "<strong>Explanation: </strong><div></div>",
                "We perform 4 pancake flips, with k values 4, 2, 4, and 3.<div></div>",
                "Starting state: A = [3, 2, 4, 1]<div></div>",
                "After 1st flip (k=4): A = [1, 4, 2, 3]<div></div>",
                "After 2nd flip (k=2): A = [4, 1, 2, 3]<div></div>",
                "After 3rd flip (k=4): A = [3, 2, 1, 4]<div></div>",
                "After 4th flip (k=3): A = [1, 2, 3, 4], which is sorted. <div></div>",
                "</pre><div></div>",
                "<div></div>",
                "<div><div></div>",
                "<p><strong>Example 2:</strong></p><div></div>",
                "<div></div>",
                "<pre><div></div>",
                "<strong>Input: </strong><span id=\"example-input-2-1\">[1,2,3]</span><div></div>",
                "<strong>Output: </strong><span id=\"example-output-2\">[]</span><div></div>",
                "<strong>Explanation: </strong>The input is already sorted, so there is no need to flip anything.<div></div>",
                "Note that other answers, such as [3, 3], would also be accepted.<div></div>",
                "</pre><div></div>",
                "<div></div>",
                "<p>&nbsp;</p><div></div>",
                "</div><div></div>",
                "<div></div>",
                "<p><strong>Note:</strong></p><div></div>",
                "<div></div>",
                "<ol><div></div>",
                "\t<li><code>1 &lt;= A.length &lt;= 100</code></li><div></div>",
                "\t<li><code>A[i]</code> is a permutation of <code>[1, 2, ..., A.length]</code></li><div></div>",
                "</ol><div></div>",
                "<div></div>"
            ],
            "metadata": {}
        },
        {
            "cell_type": "code",
            "metadata": {},
            "execution_count": null,
            "source": "%%writefile pancake_sorting.py\nclass Solution:\n    def pancakeSort(self, A):\n        \"\"\"\n        :type A: List[int]\n        :rtype: List[int]\n        \"\"\"",
            "outputs": []
        },
        {
            "cell_type": "code",
            "metadata": {},
            "execution_count": null,
            "source": "# submit\n%run ../../cli.py push --method=submit --path=pancake_sorting.py --clean=True",
            "outputs": []
        }
    ]
}