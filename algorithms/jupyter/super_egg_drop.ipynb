{
    "nbformat": 4,
    "nbformat_minor": 2,
    "metadata": {
        "kernelspec": {
            "display_name": "Python 3",
            "language": "python",
            "name": "python3"
        },
        "language_info": {
            "codemirror_mode": {
                "name": "ipython",
                "version": 3
            },
            "file_extension": ".py",
            "mimetype": "text/x-python",
            "name": "python",
            "nbconvert_exporter": "python",
            "pygments_lexer": "ipython3",
            "version": "3.7.2"
        }
    },
    "cells": [
        {
            "cell_type": "markdown",
            "source": [
                "<h1>Super Egg Drop</h1>",
                "<p>You are given <code>K</code> eggs, and you have access to a building with <code>N</code> floors from <code>1</code> to <code>N</code>.&nbsp;</p><div></div>",
                "<div></div>",
                "<p>Each egg is identical in function, and if an egg breaks, you cannot drop it&nbsp;again.</p><div></div>",
                "<div></div>",
                "<p>You know that there exists a floor <code>F</code> with <code>0 &lt;= F &lt;= N</code> such that any egg dropped at a floor higher than <code>F</code> will break, and any egg dropped at or below floor <code>F</code> will not break.</p><div></div>",
                "<div></div>",
                "<p>Each <em>move</em>, you may take an egg (if you have an unbroken one) and drop it from any floor <code>X</code> (with&nbsp;<code>1 &lt;= X &lt;= N</code>).&nbsp;</p><div></div>",
                "<div></div>",
                "<p>Your goal is to know&nbsp;<strong>with certainty</strong>&nbsp;what the value of <code>F</code> is.</p><div></div>",
                "<div></div>",
                "<p>What is the minimum number of moves that you need to know with certainty&nbsp;what <code>F</code> is, regardless of the initial value of <code>F</code>?</p><div></div>",
                "<div></div>",
                "<p>&nbsp;</p><div></div>",
                "<div></div>",
                "<ol><div></div>",
                "</ol><div></div>",
                "<div></div>",
                "<div><div></div>",
                "<p><strong>Example 1:</strong></p><div></div>",
                "<div></div>",
                "<pre><div></div>",
                "<strong>Input: </strong>K = <span id=\"example-input-1-1\">1</span>, N = <span id=\"example-input-1-2\">2</span><div></div>",
                "<strong>Output: </strong><span id=\"example-output-1\">2</span><div></div>",
                "<strong>Explanation: </strong><div></div>",
                "Drop the egg from floor 1.  If it breaks, we know with certainty that F = 0.<div></div>",
                "Otherwise, drop the egg from floor 2.  If it breaks, we know with certainty that F = 1.<div></div>",
                "If it didn&#39;t break, then we know with certainty F = 2.<div></div>",
                "Hence, we needed 2 moves in the worst case to know what F is with certainty.<div></div>",
                "</pre><div></div>",
                "<div></div>",
                "<div><div></div>",
                "<p><strong>Example 2:</strong></p><div></div>",
                "<div></div>",
                "<pre><div></div>",
                "<strong>Input: </strong>K = <span id=\"example-input-2-1\">2</span>, N = 6<div></div>",
                "<strong>Output: </strong><span id=\"example-output-2\">3</span><div></div>",
                "</pre><div></div>",
                "<div></div>",
                "<div><div></div>",
                "<p><strong>Example 3:</strong></p><div></div>",
                "<div></div>",
                "<pre><div></div>",
                "<strong>Input: </strong>K = <span id=\"example-input-3-1\">3</span>, N = <span id=\"example-input-3-2\">14</span><div></div>",
                "<strong>Output: </strong><span id=\"example-output-3\">4</span><div></div>",
                "</pre><div></div>",
                "<div></div>",
                "<p>&nbsp;</p><div></div>",
                "<div></div>",
                "<p><strong>Note:</strong></p><div></div>",
                "<div></div>",
                "<ol><div></div>",
                "\t<li><code>1 &lt;= K &lt;= 100</code></li><div></div>",
                "\t<li><code>1 &lt;= N &lt;= 10000</code></li><div></div>",
                "</ol><div></div>",
                "</div><div></div>",
                "</div><div></div>",
                "</div><div></div>",
                "<div></div>"
            ],
            "metadata": {}
        },
        {
            "cell_type": "code",
            "metadata": {},
            "execution_count": null,
            "source": "%%writefile super_egg_drop.py\nclass Solution:\n    def superEggDrop(self, K, N):\n        \"\"\"\n        :type K: int\n        :type N: int\n        :rtype: int\n        \"\"\"",
            "outputs": []
        },
        {
            "cell_type": "code",
            "metadata": {},
            "execution_count": null,
            "source": "# submit\n%run ../../cli.py push --method=submit --path=super_egg_drop.py --clean=True",
            "outputs": []
        }
    ]
}