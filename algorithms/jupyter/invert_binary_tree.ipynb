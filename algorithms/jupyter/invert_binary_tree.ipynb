{
    "nbformat": 4,
    "nbformat_minor": 2,
    "metadata": {
        "kernelspec": {
            "display_name": "Python 3",
            "language": "python",
            "name": "python3"
        },
        "language_info": {
            "codemirror_mode": {
                "name": "ipython",
                "version": 3
            },
            "file_extension": ".py",
            "mimetype": "text/x-python",
            "name": "python",
            "nbconvert_exporter": "python",
            "pygments_lexer": "ipython3",
            "version": "3.7.2"
        }
    },
    "cells": [
        {
            "cell_type": "markdown",
            "source": [
                "<h1>Invert Binary Tree</h1>",
                "<p>Invert a binary tree.</p><div></div>",
                "<div></div>",
                "<p><strong>Example:</strong></p><div></div>",
                "<div></div>",
                "<p>Input:</p><div></div>",
                "<div></div>",
                "<pre><div></div>",
                "     4<div></div>",
                "   /   \\<div></div>",
                "  2     7<div></div>",
                " / \\   / \\<div></div>",
                "1   3 6   9</pre><div></div>",
                "<div></div>",
                "<p>Output:</p><div></div>",
                "<div></div>",
                "<pre><div></div>",
                "     4<div></div>",
                "   /   \\<div></div>",
                "  7     2<div></div>",
                " / \\   / \\<div></div>",
                "9   6 3   1</pre><div></div>",
                "<div></div>",
                "<p><strong>Trivia:</strong><br /><div></div>",
                "This problem was inspired by <a href=\"https://twitter.com/mxcl/status/608682016205344768\" target=\"_blank\">this original tweet</a> by <a href=\"https://twitter.com/mxcl\" target=\"_blank\">Max Howell</a>:</p><div></div>",
                "<div></div>",
                "<blockquote>Google: 90% of our engineers use the software you wrote (Homebrew), but you can&rsquo;t invert a binary tree on a whiteboard so f*** off.</blockquote><div></div>",
                "<div></div>"
            ],
            "metadata": {}
        },
        {
            "cell_type": "code",
            "metadata": {},
            "execution_count": null,
            "source": "%%writefile invert_binary_tree.py\n# Definition for a binary tree node.\n# class TreeNode:\n#     def __init__(self, x):\n#         self.val = x\n#         self.left = None\n#         self.right = None\n\nclass Solution:\n    def invertTree(self, root):\n        \"\"\"\n        :type root: TreeNode\n        :rtype: TreeNode\n        \"\"\"",
            "outputs": []
        },
        {
            "cell_type": "code",
            "metadata": {},
            "execution_count": null,
            "source": "# submit\n%run ../../cli.py push --method=submit --path=invert_binary_tree.py --clean=True",
            "outputs": []
        }
    ]
}