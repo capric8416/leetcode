{
    "nbformat": 4,
    "nbformat_minor": 2,
    "metadata": {
        "kernelspec": {
            "display_name": "Python 3",
            "language": "python",
            "name": "python3"
        },
        "language_info": {
            "codemirror_mode": {
                "name": "ipython",
                "version": 3
            },
            "file_extension": ".py",
            "mimetype": "text/x-python",
            "name": "python",
            "nbconvert_exporter": "python",
            "pygments_lexer": "ipython3",
            "version": "3.7.2"
        }
    },
    "cells": [
        {
            "cell_type": "markdown",
            "source": [
                "<h1>Hamming Distance</h1>",
                "<p>The <a href=\"https://en.wikipedia.org/wiki/Hamming_distance\" target=\"_blank\">Hamming distance</a> between two integers is the number of positions at which the corresponding bits are different.</p><div></div>",
                "<div></div>",
                "<p>Given two integers <code>x</code> and <code>y</code>, calculate the Hamming distance.</p><div></div>",
                "<div></div>",
                "<p><b>Note:</b><br /><div></div>",
                "0 &le; <code>x</code>, <code>y</code> &lt; 2<sup>31</sup>.<div></div>",
                "</p><div></div>",
                "<div></div>",
                "<p><b>Example:</b><div></div>",
                "<pre><div></div>",
                "<b>Input:</b> x = 1, y = 4<div></div>",
                "<div></div>",
                "<b>Output:</b> 2<div></div>",
                "<div></div>",
                "<b>Explanation:</b><div></div>",
                "1   (0 0 0 1)<div></div>",
                "4   (0 1 0 0)<div></div>",
                "       &uarr;   &uarr;<div></div>",
                "<div></div>",
                "The above arrows point to positions where the corresponding bits are different.<div></div>",
                "</pre><div></div>",
                "</p><div></div>"
            ],
            "metadata": {}
        },
        {
            "cell_type": "code",
            "metadata": {},
            "execution_count": null,
            "source": "%%writefile hamming_distance.py\nclass Solution:\n    def hammingDistance(self, x, y):\n        \"\"\"\n        :type x: int\n        :type y: int\n        :rtype: int\n        \"\"\"",
            "outputs": []
        },
        {
            "cell_type": "code",
            "metadata": {},
            "execution_count": null,
            "source": "# submit\n%run ../../cli.py push --method=submit --path=hamming_distance.py --clean=True",
            "outputs": []
        }
    ]
}