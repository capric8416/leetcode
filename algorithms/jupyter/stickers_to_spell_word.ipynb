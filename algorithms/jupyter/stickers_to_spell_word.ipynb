{
    "nbformat": 4,
    "nbformat_minor": 2,
    "metadata": {
        "kernelspec": {
            "display_name": "Python 3",
            "language": "python",
            "name": "python3"
        },
        "language_info": {
            "codemirror_mode": {
                "name": "ipython",
                "version": 3
            },
            "file_extension": ".py",
            "mimetype": "text/x-python",
            "name": "python",
            "nbconvert_exporter": "python",
            "pygments_lexer": "ipython3",
            "version": "3.7.2"
        }
    },
    "cells": [
        {
            "cell_type": "markdown",
            "source": [
                "<h1>Stickers to Spell Word</h1>",
                "<p><div></div>",
                "We are given N different types of stickers.  Each sticker has a lowercase English word on it.<div></div>",
                "</p><p><div></div>",
                "You would like to spell out the given <code>target</code> string by cutting individual letters from your collection of stickers and rearranging them.<div></div>",
                "</p><p><div></div>",
                "You can use each sticker more than once if you want, and you have infinite quantities of each sticker.<div></div>",
                "</p><p><div></div>",
                "What is the minimum number of stickers that you need to spell out the <code>target</code>?  If the task is impossible, return -1.<div></div>",
                "</p><div></div>",
                "<div></div>",
                "<p><b>Example 1:</b></p><div></div>",
                "<p>Input:<pre><div></div>",
                "[\"with\", \"example\", \"science\"], \"thehat\"<div></div>",
                "</pre></p><div></div>",
                "<div></div>",
                "<p>Output:<pre><div></div>",
                "3<div></div>",
                "</pre></p><div></div>",
                "<div></div>",
                "<p>Explanation:<pre><div></div>",
                "We can use 2 \"with\" stickers, and 1 \"example\" sticker.<div></div>",
                "After cutting and rearrange the letters of those stickers, we can form the target \"thehat\".<div></div>",
                "Also, this is the minimum number of stickers necessary to form the target string.<div></div>",
                "</pre></p><div></div>",
                "<div></div>",
                "<p><b>Example 2:</b></p><div></div>",
                "<p>Input:<pre><div></div>",
                "[\"notice\", \"possible\"], \"basicbasic\"<div></div>",
                "</pre></p><div></div>",
                "<div></div>",
                "<p>Output:<pre><div></div>",
                "-1<div></div>",
                "</pre></p><div></div>",
                "<div></div>",
                "<p>Explanation:<pre><div></div>",
                "We can't form the target \"basicbasic\" from cutting letters from the given stickers.<div></div>",
                "</pre></p><div></div>",
                "<div></div>",
                "<p><b>Note:</b><div></div>",
                "<li><code>stickers</code> has length in the range <code>[1, 50]</code>.</li><div></div>",
                "<li><code>stickers</code> consists of lowercase English words (without apostrophes).</li><div></div>",
                "<li><code>target</code> has length in the range <code>[1, 15]</code>, and consists of lowercase English letters.</li><div></div>",
                "<li>In all test cases, all words were chosen <u>randomly</u> from the 1000 most common US English words, and the target was chosen as a concatenation of two random words.</li><div></div>",
                "<li>The time limit may be more challenging than usual.  It is expected that a 50 sticker test case can be solved within 35ms on average.</li><div></div>",
                "</p><div></div>"
            ],
            "metadata": {}
        },
        {
            "cell_type": "code",
            "metadata": {},
            "execution_count": null,
            "source": "%%writefile stickers_to_spell_word.py\nclass Solution:\n    def minStickers(self, stickers, target):\n        \"\"\"\n        :type stickers: List[str]\n        :type target: str\n        :rtype: int\n        \"\"\"",
            "outputs": []
        },
        {
            "cell_type": "code",
            "metadata": {},
            "execution_count": null,
            "source": "# submit\n%run ../../cli.py push --method=submit --path=stickers_to_spell_word.py --clean=True",
            "outputs": []
        }
    ]
}