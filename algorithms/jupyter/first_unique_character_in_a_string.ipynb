{
    "nbformat": 4,
    "nbformat_minor": 2,
    "metadata": {
        "kernelspec": {
            "display_name": "Python 3",
            "language": "python",
            "name": "python3"
        },
        "language_info": {
            "codemirror_mode": {
                "name": "ipython",
                "version": 3
            },
            "file_extension": ".py",
            "mimetype": "text/x-python",
            "name": "python",
            "nbconvert_exporter": "python",
            "pygments_lexer": "ipython3",
            "version": "3.7.2"
        }
    },
    "cells": [
        {
            "cell_type": "markdown",
            "source": [
                "<h1>First Unique Character in a String</h1>",
                "<p><div></div>",
                "Given a string, find the first non-repeating character in it and return it's index. If it doesn't exist, return -1.<div></div>",
                "</p><div></div>",
                "<p><b>Examples:</b><div></div>",
                "<pre><div></div>",
                "s = \"leetcode\"<div></div>",
                "return 0.<div></div>",
                "<div></div>",
                "s = \"loveleetcode\",<div></div>",
                "return 2.<div></div>",
                "</pre><div></div>",
                "</p><div></div>",
                "<div></div>",
                "<p><div></div>",
                "<b>Note:</b> You may assume the string contain only lowercase letters.<div></div>",
                "</p><div></div>"
            ],
            "metadata": {}
        },
        {
            "cell_type": "code",
            "metadata": {},
            "execution_count": null,
            "source": "%%writefile first_unique_character_in_a_string.py\nclass Solution:\n    def firstUniqChar(self, s):\n        \"\"\"\n        :type s: str\n        :rtype: int\n        \"\"\"",
            "outputs": []
        },
        {
            "cell_type": "code",
            "metadata": {},
            "execution_count": null,
            "source": "# submit\n%run ../../cli.py push --method=submit --path=first_unique_character_in_a_string.py --clean=True",
            "outputs": []
        }
    ]
}