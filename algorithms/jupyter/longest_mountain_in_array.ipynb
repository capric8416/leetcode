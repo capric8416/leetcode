{
    "nbformat": 4,
    "nbformat_minor": 2,
    "metadata": {
        "kernelspec": {
            "display_name": "Python 3",
            "language": "python",
            "name": "python3"
        },
        "language_info": {
            "codemirror_mode": {
                "name": "ipython",
                "version": 3
            },
            "file_extension": ".py",
            "mimetype": "text/x-python",
            "name": "python",
            "nbconvert_exporter": "python",
            "pygments_lexer": "ipython3",
            "version": "3.7.2"
        }
    },
    "cells": [
        {
            "cell_type": "markdown",
            "source": [
                "<h1>Longest Mountain in Array</h1>",
                "<p>Let&#39;s call any (contiguous) subarray B (of A)&nbsp;a <em>mountain</em> if the following properties hold:</p><div></div>",
                "<div></div>",
                "<ul><div></div>",
                "\t<li><code>B.length &gt;= 3</code></li><div></div>",
                "\t<li>There exists some <code>0 &lt; i&nbsp;&lt; B.length - 1</code> such that <code>B[0] &lt; B[1] &lt; ... B[i-1] &lt; B[i] &gt; B[i+1] &gt; ... &gt; B[B.length - 1]</code></li><div></div>",
                "</ul><div></div>",
                "<div></div>",
                "<p>(Note that B could be any subarray of A, including the entire array A.)</p><div></div>",
                "<div></div>",
                "<p>Given an array <code>A</code>&nbsp;of integers,&nbsp;return the length of the longest&nbsp;<em>mountain</em>.&nbsp;</p><div></div>",
                "<div></div>",
                "<p>Return <code>0</code> if there is no mountain.</p><div></div>",
                "<div></div>",
                "<p><strong>Example 1:</strong></p><div></div>",
                "<div></div>",
                "<pre><div></div>",
                "<strong>Input: </strong>[2,1,4,7,3,2,5]<div></div>",
                "<strong>Output: </strong>5<div></div>",
                "<strong>Explanation: </strong>The largest mountain is [1,4,7,3,2] which has length 5.<div></div>",
                "</pre><div></div>",
                "<div></div>",
                "<p><strong>Example 2:</strong></p><div></div>",
                "<div></div>",
                "<pre><div></div>",
                "<strong>Input: </strong>[2,2,2]<div></div>",
                "<strong>Output: </strong>0<div></div>",
                "<strong>Explanation: </strong>There is no mountain.<div></div>",
                "</pre><div></div>",
                "<div></div>",
                "<p><strong>Note:</strong></p><div></div>",
                "<div></div>",
                "<ol><div></div>",
                "\t<li><code>0 &lt;= A.length &lt;= 10000</code></li><div></div>",
                "\t<li><code>0 &lt;= A[i] &lt;= 10000</code></li><div></div>",
                "</ol><div></div>",
                "<div></div>",
                "<p><strong>Follow up:</strong></p><div></div>",
                "<div></div>",
                "<ul><div></div>",
                "\t<li>Can you solve it using only one pass?</li><div></div>",
                "\t<li>Can you solve it in <code>O(1)</code> space?</li><div></div>",
                "</ul><div></div>",
                "<div></div>"
            ],
            "metadata": {}
        },
        {
            "cell_type": "code",
            "metadata": {},
            "execution_count": null,
            "source": "%%writefile longest_mountain_in_array.py\nclass Solution:\n    def longestMountain(self, A):\n        \"\"\"\n        :type A: List[int]\n        :rtype: int\n        \"\"\"",
            "outputs": []
        },
        {
            "cell_type": "code",
            "metadata": {},
            "execution_count": null,
            "source": "# submit\n%run ../../cli.py push --method=submit --path=longest_mountain_in_array.py --clean=True",
            "outputs": []
        }
    ]
}