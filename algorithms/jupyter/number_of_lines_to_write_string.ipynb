{
    "nbformat": 4,
    "nbformat_minor": 2,
    "metadata": {
        "kernelspec": {
            "display_name": "Python 3",
            "language": "python",
            "name": "python3"
        },
        "language_info": {
            "codemirror_mode": {
                "name": "ipython",
                "version": 3
            },
            "file_extension": ".py",
            "mimetype": "text/x-python",
            "name": "python",
            "nbconvert_exporter": "python",
            "pygments_lexer": "ipython3",
            "version": "3.7.2"
        }
    },
    "cells": [
        {
            "cell_type": "markdown",
            "source": [
                "<h1>Number of Lines To Write String</h1>",
                "<p>We are to write the letters of a given string <code>S</code>, from left to right into lines. Each line has maximum width 100 units, and if writing a letter would cause the width of the line to exceed 100 units, it is written on the next line. We are given an array&nbsp;<code>widths</code>, an array where widths[0] is the width of &#39;a&#39;, widths[1] is the width of &#39;b&#39;, ..., and widths[25] is the width of &#39;z&#39;.</p><div></div>",
                "<div></div>",
                "<p>Now answer two questions: how many lines have at least one character from <code>S</code>, and what is the width used by the last such line? Return your answer as an integer list of length 2.</p><div></div>",
                "<div></div>",
                "<p>&nbsp;</p><div></div>",
                "<div></div>",
                "<pre><div></div>",
                "<strong>Example :</strong><div></div>",
                "<strong>Input:</strong> <div></div>",
                "widths = [10,10,10,10,10,10,10,10,10,10,10,10,10,10,10,10,10,10,10,10,10,10,10,10,10,10]<div></div>",
                "S = &quot;abcdefghijklmnopqrstuvwxyz&quot;<div></div>",
                "<strong>Output:</strong> [3, 60]<div></div>",
                "<strong>Explanation: </strong><div></div>",
                "All letters have the same length of 10. To write all 26 letters,<div></div>",
                "we need two full lines and one line with 60 units.<div></div>",
                "</pre><div></div>",
                "<div></div>",
                "<pre><div></div>",
                "<strong>Example :</strong><div></div>",
                "<strong>Input:</strong> <div></div>",
                "widths = [4,10,10,10,10,10,10,10,10,10,10,10,10,10,10,10,10,10,10,10,10,10,10,10,10,10]<div></div>",
                "S = &quot;bbbcccdddaaa&quot;<div></div>",
                "<strong>Output:</strong> [2, 4]<div></div>",
                "<strong>Explanation: </strong><div></div>",
                "All letters except &#39;a&#39; have the same length of 10, and <div></div>",
                "&quot;bbbcccdddaa&quot; will cover 9 * 10 + 2 * 4 = 98 units.<div></div>",
                "For the last &#39;a&#39;, it is written on the second line because<div></div>",
                "there is only 2 units left in the first line.<div></div>",
                "So the answer is 2 lines, plus 4 units in the second line.<div></div>",
                "</pre><div></div>",
                "<div></div>",
                "<p>&nbsp;</p><div></div>",
                "<div></div>",
                "<p><strong>Note:</strong></p><div></div>",
                "<div></div>",
                "<ul><div></div>",
                "\t<li>The length of <code>S</code> will be in the range&nbsp;[1, 1000].</li><div></div>",
                "\t<li><code>S</code> will only contain lowercase letters.</li><div></div>",
                "\t<li><code>widths</code> is&nbsp;an array of length <code>26</code>.</li><div></div>",
                "\t<li><code>widths[i]</code> will be in the range of <code>[2, 10]</code>.</li><div></div>",
                "</ul><div></div>",
                "<div></div>"
            ],
            "metadata": {}
        },
        {
            "cell_type": "code",
            "metadata": {},
            "execution_count": null,
            "source": "%%writefile number_of_lines_to_write_string.py\nclass Solution:\n    def numberOfLines(self, widths, S):\n        \"\"\"\n        :type widths: List[int]\n        :type S: str\n        :rtype: List[int]\n        \"\"\"",
            "outputs": []
        },
        {
            "cell_type": "code",
            "metadata": {},
            "execution_count": null,
            "source": "# submit\n%run ../../cli.py push --method=submit --path=number_of_lines_to_write_string.py --clean=True",
            "outputs": []
        }
    ]
}