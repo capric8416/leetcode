{
    "nbformat": 4,
    "nbformat_minor": 2,
    "metadata": {
        "kernelspec": {
            "display_name": "Python 3",
            "language": "python",
            "name": "python3"
        },
        "language_info": {
            "codemirror_mode": {
                "name": "ipython",
                "version": 3
            },
            "file_extension": ".py",
            "mimetype": "text/x-python",
            "name": "python",
            "nbconvert_exporter": "python",
            "pygments_lexer": "ipython3",
            "version": "3.7.2"
        }
    },
    "cells": [
        {
            "cell_type": "markdown",
            "source": [
                "<h1>Convert BST to Greater Tree</h1>",
                "<p>Given a Binary Search Tree (BST), convert it to a Greater Tree such that every key of the original BST is changed to the original key plus sum of all keys greater than the original key in BST.</p><div></div>",
                "<div></div>",
                "<p><div></div>",
                "<b>Example:</b><div></div>",
                "<pre><div></div>",
                "<b>Input:</b> The root of a Binary Search Tree like this:<div></div>",
                "              5<div></div>",
                "            /   \\<div></div>",
                "           2     13<div></div>",
                "<div></div>",
                "<b>Output:</b> The root of a Greater Tree like this:<div></div>",
                "             18<div></div>",
                "            /   \\<div></div>",
                "          20     13<div></div>",
                "</pre><div></div>",
                "</p><div></div>"
            ],
            "metadata": {}
        },
        {
            "cell_type": "code",
            "metadata": {},
            "execution_count": null,
            "source": "%%writefile convert_bst_to_greater_tree.py\n# Definition for a binary tree node.\n# class TreeNode:\n#     def __init__(self, x):\n#         self.val = x\n#         self.left = None\n#         self.right = None\n\nclass Solution:\n    def convertBST(self, root):\n        \"\"\"\n        :type root: TreeNode\n        :rtype: TreeNode\n        \"\"\"",
            "outputs": []
        },
        {
            "cell_type": "code",
            "metadata": {},
            "execution_count": null,
            "source": "# submit\n%run ../../cli.py push --method=submit --path=convert_bst_to_greater_tree.py --clean=True",
            "outputs": []
        }
    ]
}