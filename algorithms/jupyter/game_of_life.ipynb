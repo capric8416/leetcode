{
    "nbformat": 4,
    "nbformat_minor": 2,
    "metadata": {
        "kernelspec": {
            "display_name": "Python 3",
            "language": "python",
            "name": "python3"
        },
        "language_info": {
            "codemirror_mode": {
                "name": "ipython",
                "version": 3
            },
            "file_extension": ".py",
            "mimetype": "text/x-python",
            "name": "python",
            "nbconvert_exporter": "python",
            "pygments_lexer": "ipython3",
            "version": "3.7.2"
        }
    },
    "cells": [
        {
            "cell_type": "markdown",
            "source": [
                "<h1>Game of Life</h1>",
                "<p>According to the <a href=\"https://en.wikipedia.org/wiki/Conway%27s_Game_of_Life\" target=\"_blank\">Wikipedia&#39;s article</a>: &quot;The <b>Game of Life</b>, also known simply as <b>Life</b>, is a cellular automaton devised by the British mathematician John Horton Conway in 1970.&quot;</p><div></div>",
                "<div></div>",
                "<p>Given a <i>board</i> with <i>m</i> by <i>n</i> cells, each cell has an initial state <i>live</i> (1) or <i>dead</i> (0). Each cell interacts with its <a href=\"https://en.wikipedia.org/wiki/Moore_neighborhood\" target=\"_blank\">eight neighbors</a> (horizontal, vertical, diagonal) using the following four rules (taken from the above Wikipedia article):</p><div></div>",
                "<div></div>",
                "<ol><div></div>",
                "\t<li>Any live cell with fewer than two live neighbors dies, as if caused by under-population.</li><div></div>",
                "\t<li>Any live cell with two or three live neighbors lives on to the next generation.</li><div></div>",
                "\t<li>Any live cell with more than three live neighbors dies, as if by over-population..</li><div></div>",
                "\t<li>Any dead cell with exactly three live neighbors becomes a live cell, as if by reproduction.</li><div></div>",
                "</ol><div></div>",
                "<div></div>",
                "<p>Write a function to compute the next state (after one update) of the board given its current state.&nbsp;<span>The next state is created by applying the above rules simultaneously to every cell in the current state, where&nbsp;births and deaths occur simultaneously.</span></p><div></div>",
                "<div></div>",
                "<p><strong>Example:</strong></p><div></div>",
                "<div></div>",
                "<pre><div></div>",
                "<strong>Input: <div></div>",
                "</strong><span id=\"example-input-1-1\">[<div></div>",
                "&nbsp; [0,1,0],<div></div>",
                "&nbsp; [0,0,1],<div></div>",
                "&nbsp; [1,1,1],<div></div>",
                "&nbsp; [0,0,0]<div></div>",
                "]</span><div></div>",
                "<strong>Output: <div></div>",
                "</strong><span id=\"example-output-1\">[<div></div>",
                "&nbsp; [0,0,0],<div></div>",
                "&nbsp; [1,0,1],<div></div>",
                "&nbsp; [0,1,1],<div></div>",
                "&nbsp; [0,1,0]<div></div>",
                "]</span><div></div>",
                "</pre><div></div>",
                "<div></div>",
                "<p><b>Follow up</b>:</p><div></div>",
                "<div></div>",
                "<ol><div></div>",
                "\t<li>Could you solve it in-place? Remember that the board needs to be updated at the same time: You cannot update some cells first and then use their updated values to update other cells.</li><div></div>",
                "\t<li>In this question, we represent the board using a 2D array. In principle, the board is infinite, which would cause problems when the active area encroaches the border of the array. How would you address these problems?</li><div></div>",
                "</ol><div></div>",
                "<div></div>"
            ],
            "metadata": {}
        },
        {
            "cell_type": "code",
            "metadata": {},
            "execution_count": null,
            "source": "%%writefile game_of_life.py\nclass Solution:\n    def gameOfLife(self, board):\n        \"\"\"\n        :type board: List[List[int]]\n        :rtype: void Do not return anything, modify board in-place instead.\n        \"\"\"",
            "outputs": []
        },
        {
            "cell_type": "code",
            "metadata": {},
            "execution_count": null,
            "source": "# submit\n%run ../../cli.py push --method=submit --path=game_of_life.py --clean=True",
            "outputs": []
        }
    ]
}