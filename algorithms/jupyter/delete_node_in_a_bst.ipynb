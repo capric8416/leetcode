{
    "nbformat": 4,
    "nbformat_minor": 2,
    "metadata": {
        "kernelspec": {
            "display_name": "Python 3",
            "language": "python",
            "name": "python3"
        },
        "language_info": {
            "codemirror_mode": {
                "name": "ipython",
                "version": 3
            },
            "file_extension": ".py",
            "mimetype": "text/x-python",
            "name": "python",
            "nbconvert_exporter": "python",
            "pygments_lexer": "ipython3",
            "version": "3.7.2"
        }
    },
    "cells": [
        {
            "cell_type": "markdown",
            "source": [
                "<h1>Delete Node in a BST</h1>",
                "<p>Given a root node reference of a BST and a key, delete the node with the given key in the BST. Return the root node reference (possibly updated) of the BST.</p><div></div>",
                "<div></div>",
                "<p>Basically, the deletion can be divided into two stages:<div></div>",
                "<ol><div></div>",
                "<li>Search for a node to remove.</li><div></div>",
                "<li>If the node is found, delete the node.</li><div></div>",
                "</ol><div></div>",
                "</p><div></div>",
                "<div></div>",
                "<p><b>Note:</b> Time complexity should be O(height of tree).</p><div></div>",
                "<div></div>",
                "<p><b>Example:</b><div></div>",
                "<pre><div></div>",
                "root = [5,3,6,2,4,null,7]<div></div>",
                "key = 3<div></div>",
                "<div></div>",
                "    5<div></div>",
                "   / \\<div></div>",
                "  3   6<div></div>",
                " / \\   \\<div></div>",
                "2   4   7<div></div>",
                "<div></div>",
                "Given key to delete is 3. So we find the node with value 3 and delete it.<div></div>",
                "<div></div>",
                "One valid answer is [5,4,6,2,null,null,7], shown in the following BST.<div></div>",
                "<div></div>",
                "    5<div></div>",
                "   / \\<div></div>",
                "  4   6<div></div>",
                " /     \\<div></div>",
                "2       7<div></div>",
                "<div></div>",
                "Another valid answer is [5,2,6,null,4,null,7].<div></div>",
                "<div></div>",
                "    5<div></div>",
                "   / \\<div></div>",
                "  2   6<div></div>",
                "   \\   \\<div></div>",
                "    4   7<div></div>",
                "</pre><div></div>",
                "</p><div></div>"
            ],
            "metadata": {}
        },
        {
            "cell_type": "code",
            "metadata": {},
            "execution_count": null,
            "source": "%%writefile delete_node_in_a_bst.py\n# Definition for a binary tree node.\n# class TreeNode:\n#     def __init__(self, x):\n#         self.val = x\n#         self.left = None\n#         self.right = None\n\nclass Solution:\n    def deleteNode(self, root, key):\n        \"\"\"\n        :type root: TreeNode\n        :type key: int\n        :rtype: TreeNode\n        \"\"\"",
            "outputs": []
        },
        {
            "cell_type": "code",
            "metadata": {},
            "execution_count": null,
            "source": "# submit\n%run ../../cli.py push --method=submit --path=delete_node_in_a_bst.py --clean=True",
            "outputs": []
        }
    ]
}