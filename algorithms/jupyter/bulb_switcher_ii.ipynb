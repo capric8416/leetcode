{
    "nbformat": 4,
    "nbformat_minor": 2,
    "metadata": {
        "kernelspec": {
            "display_name": "Python 3",
            "language": "python",
            "name": "python3"
        },
        "language_info": {
            "codemirror_mode": {
                "name": "ipython",
                "version": 3
            },
            "file_extension": ".py",
            "mimetype": "text/x-python",
            "name": "python",
            "nbconvert_exporter": "python",
            "pygments_lexer": "ipython3",
            "version": "3.7.2"
        }
    },
    "cells": [
        {
            "cell_type": "markdown",
            "source": [
                "<h1>Bulb Switcher II</h1>",
                "<p><div></div>",
                "There is a room with <code>n</code> lights which are turned on initially and 4 buttons on the wall. After performing exactly <code>m</code> unknown operations towards buttons, you need to return how many different kinds of status of the <code>n</code> lights could be.<div></div>",
                "</p><div></div>",
                "<div></div>",
                "<p><div></div>",
                "Suppose <code>n</code> lights are labeled as number [1, 2, 3 ..., n], function of these 4 buttons are given below:<div></div>",
                "<div></div>",
                "<ol><div></div>",
                "<li>Flip all the lights.</li><div></div>",
                "<li>Flip lights with even numbers.</li><div></div>",
                "<li>Flip lights with odd numbers.</li><div></div>",
                "<li>Flip lights with (3k + 1) numbers, k = 0, 1, 2, ...</li><div></div>",
                "</ol><div></div>",
                "</p><div></div>",
                "<div></div>",
                "<div></div>",
                "<p><b>Example 1:</b><br /><div></div>",
                "<pre><div></div>",
                "<b>Input:</b> n = 1, m = 1.<div></div>",
                "<b>Output:</b> 2<div></div>",
                "<b>Explanation:</b> Status can be: [on], [off]<div></div>",
                "</pre><div></div>",
                "</p><div></div>",
                "<div></div>",
                "<div></div>",
                "<p><b>Example 2:</b><br /><div></div>",
                "<pre><div></div>",
                "<b>Input:</b> n = 2, m = 1.<div></div>",
                "<b>Output:</b> 3<div></div>",
                "<b>Explanation:</b> Status can be: [on, off], [off, on], [off, off]<div></div>",
                "</pre><div></div>",
                "</p><div></div>",
                "<div></div>",
                "<div></div>",
                "<p><b>Example 3:</b><br /><div></div>",
                "<pre><div></div>",
                "<b>Input:</b> n = 3, m = 1.<div></div>",
                "<b>Output:</b> 4<div></div>",
                "<b>Explanation:</b> Status can be: [off, on, off], [on, off, on], [off, off, off], [off, on, on].<div></div>",
                "</pre><div></div>",
                "</p><div></div>",
                "<div></div>",
                "<p><b>Note:</b><div></div>",
                "<code>n</code> and <code>m</code> both fit in range [0, 1000].<div></div>",
                "</p><div></div>",
                "<div></div>"
            ],
            "metadata": {}
        },
        {
            "cell_type": "code",
            "metadata": {},
            "execution_count": null,
            "source": "%%writefile bulb_switcher_ii.py\nclass Solution:\n    def flipLights(self, n, m):\n        \"\"\"\n        :type n: int\n        :type m: int\n        :rtype: int\n        \"\"\"",
            "outputs": []
        },
        {
            "cell_type": "code",
            "metadata": {},
            "execution_count": null,
            "source": "# submit\n%run ../../cli.py push --method=submit --path=bulb_switcher_ii.py --clean=True",
            "outputs": []
        }
    ]
}