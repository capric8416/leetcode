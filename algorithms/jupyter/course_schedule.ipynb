{
    "nbformat": 4,
    "nbformat_minor": 2,
    "metadata": {
        "kernelspec": {
            "display_name": "Python 3",
            "language": "python",
            "name": "python3"
        },
        "language_info": {
            "codemirror_mode": {
                "name": "ipython",
                "version": 3
            },
            "file_extension": ".py",
            "mimetype": "text/x-python",
            "name": "python",
            "nbconvert_exporter": "python",
            "pygments_lexer": "ipython3",
            "version": "3.7.2"
        }
    },
    "cells": [
        {
            "cell_type": "markdown",
            "source": [
                "<h1>Course Schedule</h1>",
                "<p>There are a total of <i>n</i> courses you have to take, labeled from <code>0</code> to <code>n-1</code>.</p><div></div>",
                "<div></div>",
                "<p>Some courses may have prerequisites, for example to take course 0 you have to first take course 1, which is expressed as a pair: <code>[0,1]</code></p><div></div>",
                "<div></div>",
                "<p>Given the total number of courses and a list of prerequisite <b>pairs</b>, is it possible for you to finish all courses?</p><div></div>",
                "<div></div>",
                "<p><strong>Example 1:</strong></p><div></div>",
                "<div></div>",
                "<pre><div></div>",
                "<strong>Input:</strong> 2, [[1,0]] <div></div>",
                "<strong>Output: </strong>true<div></div>",
                "<strong>Explanation:</strong>&nbsp;There are a total of 2 courses to take. <div></div>",
                "&nbsp;            To take course 1 you should have finished course 0. So it is possible.</pre><div></div>",
                "<div></div>",
                "<p><strong>Example 2:</strong></p><div></div>",
                "<div></div>",
                "<pre><div></div>",
                "<strong>Input:</strong> 2, [[1,0],[0,1]]<div></div>",
                "<strong>Output: </strong>false<div></div>",
                "<strong>Explanation:</strong>&nbsp;There are a total of 2 courses to take. <div></div>",
                "&nbsp;            To take course 1 you should have finished course 0, and to take course 0 you should<div></div>",
                "&nbsp;            also have finished course 1. So it is impossible.<div></div>",
                "</pre><div></div>",
                "<div></div>",
                "<p><b>Note:</b></p><div></div>",
                "<div></div>",
                "<ol><div></div>",
                "\t<li>The input prerequisites is a graph represented by <b>a list of edges</b>, not adjacency matrices. Read more about <a href=\"https://www.khanacademy.org/computing/computer-science/algorithms/graph-representation/a/representing-graphs\" target=\"_blank\">how a graph is represented</a>.</li><div></div>",
                "\t<li>You may assume that there are no duplicate edges in the input prerequisites.</li><div></div>",
                "</ol><div></div>",
                "<div></div>"
            ],
            "metadata": {}
        },
        {
            "cell_type": "code",
            "metadata": {},
            "execution_count": null,
            "source": "%%writefile course_schedule.py\nclass Solution:\n    def canFinish(self, numCourses, prerequisites):\n        \"\"\"\n        :type numCourses: int\n        :type prerequisites: List[List[int]]\n        :rtype: bool\n        \"\"\"",
            "outputs": []
        },
        {
            "cell_type": "code",
            "metadata": {},
            "execution_count": null,
            "source": "# submit\n%run ../../cli.py push --method=submit --path=course_schedule.py --clean=True",
            "outputs": []
        }
    ]
}