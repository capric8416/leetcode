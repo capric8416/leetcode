{
    "nbformat": 4,
    "nbformat_minor": 2,
    "metadata": {
        "kernelspec": {
            "display_name": "Python 3",
            "language": "python",
            "name": "python3"
        },
        "language_info": {
            "codemirror_mode": {
                "name": "ipython",
                "version": 3
            },
            "file_extension": ".py",
            "mimetype": "text/x-python",
            "name": "python",
            "nbconvert_exporter": "python",
            "pygments_lexer": "ipython3",
            "version": "3.7.2"
        }
    },
    "cells": [
        {
            "cell_type": "markdown",
            "source": [
                "<h1>Relative Ranks</h1>",
                "<p><div></div>",
                "Given scores of <b>N</b> athletes, find their relative ranks and the people with the top three highest scores, who will be awarded medals: \"Gold Medal\", \"Silver Medal\" and \"Bronze Medal\".</p><div></div>",
                "<div></div>",
                "<p><b>Example 1:</b><br /><div></div>",
                "<pre><div></div>",
                "<b>Input:</b> [5, 4, 3, 2, 1]<div></div>",
                "<b>Output:</b> [\"Gold Medal\", \"Silver Medal\", \"Bronze Medal\", \"4\", \"5\"]<div></div>",
                "<b>Explanation:</b> The first three athletes got the top three highest scores, so they got \"Gold Medal\", \"Silver Medal\" and \"Bronze Medal\". <br/>For the left two athletes, you just need to output their relative ranks according to their scores.<div></div>",
                "</pre><div></div>",
                "</p><div></div>",
                "<div></div>",
                "<p><b>Note:</b><br><div></div>",
                "<ol><div></div>",
                "<li>N is a positive integer and won't exceed 10,000.</li><div></div>",
                "<li>All the scores of athletes are guaranteed to be unique.</li><div></div>",
                "</ol><div></div>",
                "</p><div></div>",
                "<div></div>"
            ],
            "metadata": {}
        },
        {
            "cell_type": "code",
            "metadata": {},
            "execution_count": null,
            "source": "%%writefile relative_ranks.py\nclass Solution:\n    def findRelativeRanks(self, nums):\n        \"\"\"\n        :type nums: List[int]\n        :rtype: List[str]\n        \"\"\"",
            "outputs": []
        },
        {
            "cell_type": "code",
            "metadata": {},
            "execution_count": null,
            "source": "# submit\n%run ../../cli.py push --method=submit --path=relative_ranks.py --clean=True",
            "outputs": []
        }
    ]
}