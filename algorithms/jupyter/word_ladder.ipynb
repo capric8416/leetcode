{
    "nbformat": 4,
    "nbformat_minor": 2,
    "metadata": {
        "kernelspec": {
            "display_name": "Python 3",
            "language": "python",
            "name": "python3"
        },
        "language_info": {
            "codemirror_mode": {
                "name": "ipython",
                "version": 3
            },
            "file_extension": ".py",
            "mimetype": "text/x-python",
            "name": "python",
            "nbconvert_exporter": "python",
            "pygments_lexer": "ipython3",
            "version": "3.7.2"
        }
    },
    "cells": [
        {
            "cell_type": "markdown",
            "source": [
                "<h1>Word Ladder</h1>",
                "<p>Given two words (<em>beginWord</em> and <em>endWord</em>), and a dictionary&#39;s word list, find the length of shortest transformation sequence from <em>beginWord</em> to <em>endWord</em>, such that:</p><div></div>",
                "<div></div>",
                "<ol><div></div>",
                "\t<li>Only one letter can be changed at a time.</li><div></div>",
                "\t<li>Each transformed word must exist in the word list. Note that <em>beginWord</em> is <em>not</em> a transformed word.</li><div></div>",
                "</ol><div></div>",
                "<div></div>",
                "<p><strong>Note:</strong></p><div></div>",
                "<div></div>",
                "<ul><div></div>",
                "\t<li>Return 0 if there is no such transformation sequence.</li><div></div>",
                "\t<li>All words have the same length.</li><div></div>",
                "\t<li>All words contain only lowercase alphabetic characters.</li><div></div>",
                "\t<li>You may assume no duplicates in the word list.</li><div></div>",
                "\t<li>You may assume <em>beginWord</em> and <em>endWord</em> are non-empty and are not the same.</li><div></div>",
                "</ul><div></div>",
                "<div></div>",
                "<p><strong>Example 1:</strong></p><div></div>",
                "<div></div>",
                "<pre><div></div>",
                "<strong>Input:</strong><div></div>",
                "beginWord = &quot;hit&quot;,<div></div>",
                "endWord = &quot;cog&quot;,<div></div>",
                "wordList = [&quot;hot&quot;,&quot;dot&quot;,&quot;dog&quot;,&quot;lot&quot;,&quot;log&quot;,&quot;cog&quot;]<div></div>",
                "<div></div>",
                "<strong>Output: </strong>5<div></div>",
                "<div></div>",
                "<strong>Explanation:</strong> As one shortest transformation is &quot;hit&quot; -&gt; &quot;hot&quot; -&gt; &quot;dot&quot; -&gt; &quot;dog&quot; -&gt; &quot;cog&quot;,<div></div>",
                "return its length 5.<div></div>",
                "</pre><div></div>",
                "<div></div>",
                "<p><strong>Example 2:</strong></p><div></div>",
                "<div></div>",
                "<pre><div></div>",
                "<strong>Input:</strong><div></div>",
                "beginWord = &quot;hit&quot;<div></div>",
                "endWord = &quot;cog&quot;<div></div>",
                "wordList = [&quot;hot&quot;,&quot;dot&quot;,&quot;dog&quot;,&quot;lot&quot;,&quot;log&quot;]<div></div>",
                "<div></div>",
                "<strong>Output:</strong>&nbsp;0<div></div>",
                "<div></div>",
                "<strong>Explanation:</strong>&nbsp;The endWord &quot;cog&quot; is not in wordList, therefore no possible<strong>&nbsp;</strong>transformation.<div></div>",
                "</pre><div></div>",
                "<div></div>",
                "<ul><div></div>",
                "</ul><div></div>",
                "<div></div>"
            ],
            "metadata": {}
        },
        {
            "cell_type": "code",
            "metadata": {},
            "execution_count": null,
            "source": "%%writefile word_ladder.py\nclass Solution:\n    def ladderLength(self, beginWord, endWord, wordList):\n        \"\"\"\n        :type beginWord: str\n        :type endWord: str\n        :type wordList: List[str]\n        :rtype: int\n        \"\"\"",
            "outputs": []
        },
        {
            "cell_type": "code",
            "metadata": {},
            "execution_count": null,
            "source": "# submit\n%run ../../cli.py push --method=submit --path=word_ladder.py --clean=True",
            "outputs": []
        }
    ]
}