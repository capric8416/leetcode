{
    "nbformat": 4,
    "nbformat_minor": 2,
    "metadata": {
        "kernelspec": {
            "display_name": "Python 3",
            "language": "python",
            "name": "python3"
        },
        "language_info": {
            "codemirror_mode": {
                "name": "ipython",
                "version": 3
            },
            "file_extension": ".py",
            "mimetype": "text/x-python",
            "name": "python",
            "nbconvert_exporter": "python",
            "pygments_lexer": "ipython3",
            "version": "3.7.2"
        }
    },
    "cells": [
        {
            "cell_type": "markdown",
            "source": [
                "<h1>Card Flipping Game</h1>",
                "<p>On a table are <code>N</code> cards, with a positive integer printed on the front and back of each card (possibly different).</p><div></div>",
                "<div></div>",
                "<p>We flip any number of cards, and after we choose one&nbsp;card.&nbsp;</p><div></div>",
                "<div></div>",
                "<p>If the number <code>X</code> on the back of the chosen&nbsp;card is not on the front of any card, then this number X is good.</p><div></div>",
                "<div></div>",
                "<p>What is the smallest number that is good?&nbsp; If no number is good, output <code>0</code>.</p><div></div>",
                "<div></div>",
                "<p>Here, <code>fronts[i]</code> and <code>backs[i]</code> represent the number on the front and back of card <code>i</code>.&nbsp;</p><div></div>",
                "<div></div>",
                "<p>A&nbsp;flip swaps the front and back numbers, so the value on the front is now on the back and vice versa.</p><div></div>",
                "<div></div>",
                "<p><strong>Example:</strong></p><div></div>",
                "<div></div>",
                "<pre><div></div>",
                "<strong>Input:</strong> fronts = [1,2,4,4,7], backs = [1,3,4,1,3]<div></div>",
                "<strong>Output:</strong> <code>2</code><div></div>",
                "<strong>Explanation:</strong> If we flip the second card, the fronts are <code>[1,3,4,4,7]</code> and the backs are <code>[1,2,4,1,3]</code>.<div></div>",
                "We choose the second card, which has number 2 on the back, and it isn&#39;t on the front of any card, so <code>2</code> is good.</pre><div></div>",
                "<div></div>",
                "<p>&nbsp;</p><div></div>",
                "<div></div>",
                "<p><strong>Note:</strong></p><div></div>",
                "<div></div>",
                "<ol><div></div>",
                "\t<li><code>1 &lt;= fronts.length == backs.length&nbsp;&lt;=&nbsp;1000</code>.</li><div></div>",
                "\t<li><code>1 &lt;=&nbsp;fronts[i]&nbsp;&lt;= 2000</code>.</li><div></div>",
                "\t<li><code>1 &lt;= backs[i]&nbsp;&lt;= 2000</code>.</li><div></div>",
                "</ol><div></div>",
                "<div></div>"
            ],
            "metadata": {}
        },
        {
            "cell_type": "code",
            "metadata": {},
            "execution_count": null,
            "source": "%%writefile card_flipping_game.py\nclass Solution:\n    def flipgame(self, fronts, backs):\n        \"\"\"\n        :type fronts: List[int]\n        :type backs: List[int]\n        :rtype: int\n        \"\"\"",
            "outputs": []
        },
        {
            "cell_type": "code",
            "metadata": {},
            "execution_count": null,
            "source": "# submit\n%run ../../cli.py push --method=submit --path=card_flipping_game.py --clean=True",
            "outputs": []
        }
    ]
}