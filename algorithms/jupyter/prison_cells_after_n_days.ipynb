{
    "nbformat": 4,
    "nbformat_minor": 2,
    "metadata": {
        "kernelspec": {
            "display_name": "Python 3",
            "language": "python",
            "name": "python3"
        },
        "language_info": {
            "codemirror_mode": {
                "name": "ipython",
                "version": 3
            },
            "file_extension": ".py",
            "mimetype": "text/x-python",
            "name": "python",
            "nbconvert_exporter": "python",
            "pygments_lexer": "ipython3",
            "version": "3.7.2"
        }
    },
    "cells": [
        {
            "cell_type": "markdown",
            "source": [
                "<h1>Prison Cells After N Days</h1>",
                "<p>There are 8 prison cells in a row, and each cell is either occupied or vacant.</p><div></div>",
                "<div></div>",
                "<p>Each day, whether the cell is occupied or vacant changes according to the following rules:</p><div></div>",
                "<div></div>",
                "<ul><div></div>",
                "\t<li>If a cell has two adjacent neighbors that are both occupied or both vacant,&nbsp;then the cell becomes occupied.</li><div></div>",
                "\t<li>Otherwise, it becomes vacant.</li><div></div>",
                "</ul><div></div>",
                "<div></div>",
                "<p>(Note that because the prison is a row, the first and the last cells in the row can&#39;t have two adjacent neighbors.)</p><div></div>",
                "<div></div>",
                "<p>We describe the current state of the prison&nbsp;in the following way:&nbsp;<code>cells[i] == 1</code> if the <code>i</code>-th cell is occupied, else <code>cells[i] == 0</code>.</p><div></div>",
                "<div></div>",
                "<p>Given the initial state of the prison, return the state of the prison after <code>N</code> days (and <code>N</code> such changes described above.)</p><div></div>",
                "<div></div>",
                "<p>&nbsp;</p><div></div>",
                "<div></div>",
                "<div><div></div>",
                "<ol><div></div>",
                "</ol><div></div>",
                "</div><div></div>",
                "<div></div>",
                "<div><div></div>",
                "<p><strong>Example 1:</strong></p><div></div>",
                "<div></div>",
                "<pre><div></div>",
                "<strong>Input: </strong>cells = <span id=\"example-input-1-1\">[0,1,0,1,1,0,0,1]</span>, N = <span id=\"example-input-1-2\">7</span><div></div>",
                "<strong>Output: </strong><span id=\"example-output-1\">[0,0,1,1,0,0,0,0]</span><div></div>",
                "<strong>Explanation: <div></div>",
                "</strong><span id=\"example-output-1\">The following table summarizes the state of the prison on each day:<div></div>",
                "Day 0: [0, 1, 0, 1, 1, 0, 0, 1]<div></div>",
                "Day 1: [0, 1, 1, 0, 0, 0, 0, 0]<div></div>",
                "Day 2: [0, 0, 0, 0, 1, 1, 1, 0]<div></div>",
                "Day 3: [0, 1, 1, 0, 0, 1, 0, 0]<div></div>",
                "Day 4: [0, 0, 0, 0, 0, 1, 0, 0]<div></div>",
                "Day 5: [0, 1, 1, 1, 0, 1, 0, 0]<div></div>",
                "Day 6: [0, 0, 1, 0, 1, 1, 0, 0]<div></div>",
                "Day 7: [0, 0, 1, 1, 0, 0, 0, 0]</span><div></div>",
                "<div></div>",
                "</pre><div></div>",
                "<div></div>",
                "<div><div></div>",
                "<p><strong>Example 2:</strong></p><div></div>",
                "<div></div>",
                "<pre><div></div>",
                "<strong>Input: </strong>cells = <span id=\"example-input-2-1\">[1,0,0,1,0,0,1,0]</span>, N = <span id=\"example-input-2-2\">1000000000</span><div></div>",
                "<strong>Output: </strong><span id=\"example-output-2\">[0,0,1,1,1,1,1,0]</span><div></div>",
                "</pre><div></div>",
                "<div></div>",
                "<p>&nbsp;</p><div></div>",
                "<div></div>",
                "<p><strong>Note:</strong></p><div></div>",
                "<div></div>",
                "<ol><div></div>",
                "\t<li><code>cells.length == 8</code></li><div></div>",
                "\t<li><code>cells[i]</code> is in <code>{0, 1}</code></li><div></div>",
                "\t<li><code>1 &lt;= N &lt;= 10^9</code></li><div></div>",
                "</ol><div></div>",
                "</div><div></div>",
                "</div><div></div>"
            ],
            "metadata": {}
        },
        {
            "cell_type": "code",
            "metadata": {},
            "execution_count": null,
            "source": "%%writefile prison_cells_after_n_days.py\nclass Solution:\n    def prisonAfterNDays(self, cells, N):\n        \"\"\"\n        :type cells: List[int]\n        :type N: int\n        :rtype: List[int]\n        \"\"\"",
            "outputs": []
        },
        {
            "cell_type": "code",
            "metadata": {},
            "execution_count": null,
            "source": "# submit\n%run ../../cli.py push --method=submit --path=prison_cells_after_n_days.py --clean=True",
            "outputs": []
        }
    ]
}