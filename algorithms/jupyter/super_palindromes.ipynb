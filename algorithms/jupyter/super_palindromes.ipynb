{
    "nbformat": 4,
    "nbformat_minor": 2,
    "metadata": {
        "kernelspec": {
            "display_name": "Python 3",
            "language": "python",
            "name": "python3"
        },
        "language_info": {
            "codemirror_mode": {
                "name": "ipython",
                "version": 3
            },
            "file_extension": ".py",
            "mimetype": "text/x-python",
            "name": "python",
            "nbconvert_exporter": "python",
            "pygments_lexer": "ipython3",
            "version": "3.7.2"
        }
    },
    "cells": [
        {
            "cell_type": "markdown",
            "source": [
                "<h1>Super Palindromes</h1>",
                "<p>Let&#39;s say a positive integer is a&nbsp;<em>superpalindrome</em>&nbsp;if it is a palindrome, and it is also the square of a palindrome.</p><div></div>",
                "<div></div>",
                "<p>Now, given two positive&nbsp;integers <code>L</code> and <code>R</code> (represented as strings), return the number of superpalindromes in the inclusive range <code>[L, R]</code>.</p><div></div>",
                "<div></div>",
                "<p>&nbsp;</p><div></div>",
                "<div></div>",
                "<p><strong>Example 1:</strong></p><div></div>",
                "<div></div>",
                "<pre><div></div>",
                "<strong>Input: </strong>L = <span id=\"example-input-1-1\">&quot;4&quot;</span>, R = <span id=\"example-input-1-2\">&quot;1000&quot;</span><div></div>",
                "<strong>Output: </strong>4<div></div>",
                "<span><strong>Explanation</strong>: </span>4, 9, 121, and 484 are superpalindromes.<div></div>",
                "Note that 676 is not a superpalindrome: 26 * 26 = 676, but 26 is not a palindrome.</pre><div></div>",
                "<div></div>",
                "<p>&nbsp;</p><div></div>",
                "<div></div>",
                "<p><strong>Note:</strong></p><div></div>",
                "<div></div>",
                "<ol><div></div>",
                "\t<li><code>1 &lt;= len(L) &lt;= 18</code></li><div></div>",
                "\t<li><code>1 &lt;= len(R) &lt;= 18</code></li><div></div>",
                "\t<li><code>L</code> and <code>R</code> are strings representing integers in the range <code>[1, 10^18)</code>.</li><div></div>",
                "\t<li><code>int(L) &lt;= int(R)</code></li><div></div>",
                "</ol><div></div>",
                "<div></div>",
                "<div><div></div>",
                "<p>&nbsp;</p><div></div>",
                "</div><div></div>",
                "<div></div>"
            ],
            "metadata": {}
        },
        {
            "cell_type": "code",
            "metadata": {},
            "execution_count": null,
            "source": "%%writefile super_palindromes.py\nclass Solution:\n    def superpalindromesInRange(self, L, R):\n        \"\"\"\n        :type L: str\n        :type R: str\n        :rtype: int\n        \"\"\"",
            "outputs": []
        },
        {
            "cell_type": "code",
            "metadata": {},
            "execution_count": null,
            "source": "# submit\n%run ../../cli.py push --method=submit --path=super_palindromes.py --clean=True",
            "outputs": []
        }
    ]
}