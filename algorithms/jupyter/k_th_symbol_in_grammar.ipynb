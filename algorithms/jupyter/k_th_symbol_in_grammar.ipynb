{
    "nbformat": 4,
    "nbformat_minor": 2,
    "metadata": {
        "kernelspec": {
            "display_name": "Python 3",
            "language": "python",
            "name": "python3"
        },
        "language_info": {
            "codemirror_mode": {
                "name": "ipython",
                "version": 3
            },
            "file_extension": ".py",
            "mimetype": "text/x-python",
            "name": "python",
            "nbconvert_exporter": "python",
            "pygments_lexer": "ipython3",
            "version": "3.7.2"
        }
    },
    "cells": [
        {
            "cell_type": "markdown",
            "source": [
                "<h1>K-th Symbol in Grammar</h1>",
                "<p>On the first row, we write a <code>0</code>. Now in every subsequent row, we look at the previous row and replace each occurrence of <code>0</code> with <code>01</code>, and each occurrence of <code>1</code> with <code>10</code>.</p><div></div>",
                "<div></div>",
                "<p>Given row <code>N</code> and index <code>K</code>, return the <code>K</code>-th indexed symbol in row <code>N</code>. (The values of <code>K</code> are 1-indexed.) (1 indexed).</p><div></div>",
                "<div></div>",
                "<pre><div></div>",
                "<strong>Examples:</strong><div></div>",
                "<strong>Input:</strong> N = 1, K = 1<div></div>",
                "<strong>Output:</strong> 0<div></div>",
                "<div></div>",
                "<strong>Input:</strong> N = 2, K = 1<div></div>",
                "<strong>Output:</strong> 0<div></div>",
                "<div></div>",
                "<strong>Input:</strong> N = 2, K = 2<div></div>",
                "<strong>Output:</strong> 1<div></div>",
                "<div></div>",
                "<strong>Input:</strong> N = 4, K = 5<div></div>",
                "<strong>Output:</strong> 1<div></div>",
                "<div></div>",
                "<strong>Explanation:</strong><div></div>",
                "row 1: 0<div></div>",
                "row 2: 01<div></div>",
                "row 3: 0110<div></div>",
                "row 4: 01101001<div></div>",
                "</pre><div></div>",
                "<div></div>",
                "<p><strong>Note:</strong></p><div></div>",
                "<div></div>",
                "<ol><div></div>",
                "\t<li><code>N</code> will be an integer in the range <code>[1, 30]</code>.</li><div></div>",
                "\t<li><code>K</code> will be an integer in the range <code>[1, 2^(N-1)]</code>.</li><div></div>",
                "</ol><div></div>",
                "<div></div>"
            ],
            "metadata": {}
        },
        {
            "cell_type": "code",
            "metadata": {},
            "execution_count": null,
            "source": "%%writefile k_th_symbol_in_grammar.py\nclass Solution:\n    def kthGrammar(self, N, K):\n        \"\"\"\n        :type N: int\n        :type K: int\n        :rtype: int\n        \"\"\"",
            "outputs": []
        },
        {
            "cell_type": "code",
            "metadata": {},
            "execution_count": null,
            "source": "# submit\n%run ../../cli.py push --method=submit --path=k_th_symbol_in_grammar.py --clean=True",
            "outputs": []
        }
    ]
}