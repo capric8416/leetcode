{
    "nbformat": 4,
    "nbformat_minor": 2,
    "metadata": {
        "kernelspec": {
            "display_name": "Python 3",
            "language": "python",
            "name": "python3"
        },
        "language_info": {
            "codemirror_mode": {
                "name": "ipython",
                "version": 3
            },
            "file_extension": ".py",
            "mimetype": "text/x-python",
            "name": "python",
            "nbconvert_exporter": "python",
            "pygments_lexer": "ipython3",
            "version": "3.7.2"
        }
    },
    "cells": [
        {
            "cell_type": "markdown",
            "source": [
                "<h1>House Robber III</h1>",
                "<p>The thief has found himself a new place for his thievery again. There is only one entrance to this area, called the &quot;root.&quot; Besides the root, each house has one and only one parent house. After a tour, the smart thief realized that &quot;all houses in this place forms a binary tree&quot;. It will automatically contact the police if two directly-linked houses were broken into on the same night.</p><div></div>",
                "<div></div>",
                "<p>Determine the maximum amount of money the thief can rob tonight without alerting the police.</p><div></div>",
                "<div></div>",
                "<p><b>Example 1:</b></p><div></div>",
                "<div></div>",
                "<pre><div></div>",
                "<strong>Input: </strong>[3,2,3,null,3,null,1]<div></div>",
                "<div></div>",
                "     <font color=\"red\">3</font><div></div>",
                "    / \\<div></div>",
                "   2   3<div></div>",
                "    \\   \\ <div></div>",
                "     <font color=\"red\">3   1<div></div>",
                "</font><div></div>",
                "<strong>Output:</strong> 7 <div></div>",
                "<strong>Explanation:</strong>&nbsp;Maximum amount of money the thief can rob = <font color=\"red\" style=\"font-family: sans-serif, Arial, Verdana, &quot;Trebuchet MS&quot;;\">3</font><span style=\"font-family: sans-serif, Arial, Verdana, &quot;Trebuchet MS&quot;;\"> + </span><font color=\"red\" style=\"font-family: sans-serif, Arial, Verdana, &quot;Trebuchet MS&quot;;\">3</font><span style=\"font-family: sans-serif, Arial, Verdana, &quot;Trebuchet MS&quot;;\"> + </span><font color=\"red\" style=\"font-family: sans-serif, Arial, Verdana, &quot;Trebuchet MS&quot;;\">1</font><span style=\"font-family: sans-serif, Arial, Verdana, &quot;Trebuchet MS&quot;;\"> = </span><b style=\"font-family: sans-serif, Arial, Verdana, &quot;Trebuchet MS&quot;;\">7</b><span style=\"font-family: sans-serif, Arial, Verdana, &quot;Trebuchet MS&quot;;\">.</span></pre><div></div>",
                "<div></div>",
                "<p><b>Example 2:</b></p><div></div>",
                "<div></div>",
                "<pre><div></div>",
                "<strong>Input: </strong>[3,4,5,1,3,null,1]<div></div>",
                "<div></div>",
                "&nbsp;    3<div></div>",
                "    / \\<div></div>",
                "   <font color=\"red\">4</font>   <font color=\"red\">5</font><div></div>",
                "  / \\   \\ <div></div>",
                " 1   3   1<div></div>",
                "<div></div>",
                "<strong>Output:</strong> 9<div></div>",
                "<strong>Explanation:</strong>&nbsp;Maximum amount of money the thief can rob = <font color=\"red\">4</font> + <font color=\"red\">5</font> = <b>9</b>.<div></div>",
                "</pre><div></div>"
            ],
            "metadata": {}
        },
        {
            "cell_type": "code",
            "metadata": {},
            "execution_count": null,
            "source": "%%writefile house_robber_iii.py\n# Definition for a binary tree node.\n# class TreeNode:\n#     def __init__(self, x):\n#         self.val = x\n#         self.left = None\n#         self.right = None\n\nclass Solution:\n    def rob(self, root):\n        \"\"\"\n        :type root: TreeNode\n        :rtype: int\n        \"\"\"",
            "outputs": []
        },
        {
            "cell_type": "code",
            "metadata": {},
            "execution_count": null,
            "source": "# submit\n%run ../../cli.py push --method=submit --path=house_robber_iii.py --clean=True",
            "outputs": []
        }
    ]
}