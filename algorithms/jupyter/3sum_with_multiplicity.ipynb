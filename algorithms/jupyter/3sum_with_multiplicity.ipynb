{
    "nbformat": 4,
    "nbformat_minor": 2,
    "metadata": {
        "kernelspec": {
            "display_name": "Python 3",
            "language": "python",
            "name": "python3"
        },
        "language_info": {
            "codemirror_mode": {
                "name": "ipython",
                "version": 3
            },
            "file_extension": ".py",
            "mimetype": "text/x-python",
            "name": "python",
            "nbconvert_exporter": "python",
            "pygments_lexer": "ipython3",
            "version": "3.7.2"
        }
    },
    "cells": [
        {
            "cell_type": "markdown",
            "source": [
                "<h1>3Sum With Multiplicity</h1>",
                "<p>Given an integer array <code>A</code>, and an integer <code>target</code>, return the number of&nbsp;tuples&nbsp;<code>i, j, k</code>&nbsp; such that <code>i &lt; j &lt; k</code> and&nbsp;<code>A[i] + A[j] + A[k] == target</code>.</p><div></div>",
                "<div></div>",
                "<p><strong>As the answer can be very large, return it modulo&nbsp;<code>10^9 + 7</code></strong>.</p><div></div>",
                "<div></div>",
                "<p>&nbsp;</p><div></div>",
                "<div></div>",
                "<p><strong>Example 1:</strong></p><div></div>",
                "<div></div>",
                "<pre><div></div>",
                "<strong>Input: </strong>A = <span id=\"example-input-1-1\">[1,1,2,2,3,3,4,4,5,5]</span>, target = <span id=\"example-input-1-2\">8</span><div></div>",
                "<strong>Output: </strong><span id=\"example-output-1\">20</span><div></div>",
                "<strong>Explanation: </strong><div></div>",
                "Enumerating by the values (A[i], A[j], A[k]):<div></div>",
                "(1, 2, 5) occurs 8 times;<div></div>",
                "(1, 3, 4) occurs 8 times;<div></div>",
                "(2, 2, 4) occurs 2 times;<div></div>",
                "(2, 3, 3) occurs 2 times.<div></div>",
                "</pre><div></div>",
                "<div></div>",
                "<div><div></div>",
                "<p><strong>Example 2:</strong></p><div></div>",
                "<div></div>",
                "<pre><div></div>",
                "<strong>Input: </strong>A = <span id=\"example-input-2-1\">[1,1,2,2,2,2]</span>, target = <span id=\"example-input-2-2\">5</span><div></div>",
                "<strong>Output: </strong><span id=\"example-output-2\">12</span><div></div>",
                "<strong>Explanation: </strong><div></div>",
                "A[i] = 1, A[j] = A[k] = 2 occurs 12 times:<div></div>",
                "We choose one 1 from [1,1] in 2 ways,<div></div>",
                "and two 2s from [2,2,2,2] in 6 ways.<div></div>",
                "</pre><div></div>",
                "<div></div>",
                "<p>&nbsp;</p><div></div>",
                "</div><div></div>",
                "<div></div>",
                "<p><strong>Note:</strong></p><div></div>",
                "<div></div>",
                "<ol><div></div>",
                "\t<li><code>3 &lt;= A.length &lt;= 3000</code></li><div></div>",
                "\t<li><code>0 &lt;= A[i] &lt;= 100</code></li><div></div>",
                "\t<li><code>0 &lt;= target &lt;= 300</code></li><div></div>",
                "</ol><div></div>"
            ],
            "metadata": {}
        },
        {
            "cell_type": "code",
            "metadata": {},
            "execution_count": null,
            "source": "%%writefile 3sum_with_multiplicity.py\nclass Solution:\n    def threeSumMulti(self, A, target):\n        \"\"\"\n        :type A: List[int]\n        :type target: int\n        :rtype: int\n        \"\"\"",
            "outputs": []
        },
        {
            "cell_type": "code",
            "metadata": {},
            "execution_count": null,
            "source": "# submit\n%run ../../cli.py push --method=submit --path=3sum_with_multiplicity.py --clean=True",
            "outputs": []
        }
    ]
}