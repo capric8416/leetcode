{
    "nbformat": 4,
    "nbformat_minor": 2,
    "metadata": {
        "kernelspec": {
            "display_name": "Python 3",
            "language": "python",
            "name": "python3"
        },
        "language_info": {
            "codemirror_mode": {
                "name": "ipython",
                "version": 3
            },
            "file_extension": ".py",
            "mimetype": "text/x-python",
            "name": "python",
            "nbconvert_exporter": "python",
            "pygments_lexer": "ipython3",
            "version": "3.7.2"
        }
    },
    "cells": [
        {
            "cell_type": "markdown",
            "source": [
                "<h1>Largest Plus Sign</h1>",
                "<p><div></div>",
                "In a 2D <code>grid</code> from (0, 0) to (N-1, N-1), every cell contains a <code>1</code>, except those cells in the given list <code>mines</code> which are <code>0</code>.  What is the largest axis-aligned plus sign of <code>1</code>s contained in the grid?  Return the order of the plus sign.  If there is none, return 0.<div></div>",
                "</p><p><div></div>",
                "An \"<i>axis-aligned plus sign of <code>1</code>s</i> of order <b>k</b>\" has some center <code>grid[x][y] = 1</code> along with 4 arms of length <code>k-1</code> going up, down, left, and right, and made of <code>1</code>s.  This is demonstrated in the diagrams below.  Note that there could be <code>0</code>s or <code>1</code>s beyond the arms of the plus sign, only the relevant area of the plus sign is checked for 1s.<div></div>",
                "</p><p><div></div>",
                "<div></div>",
                "<p><b>Examples of Axis-Aligned Plus Signs of Order k:</b><br /><pre><div></div>",
                "Order 1:<div></div>",
                "000<div></div>",
                "0<b>1</b>0<div></div>",
                "000<div></div>",
                "<div></div>",
                "Order 2:<div></div>",
                "00000<div></div>",
                "00<b>1</b>00<div></div>",
                "0<b>111</b>0<div></div>",
                "00<b>1</b>00<div></div>",
                "00000<div></div>",
                "<div></div>",
                "Order 3:<div></div>",
                "0000000<div></div>",
                "000<b>1</b>000<div></div>",
                "000<b>1</b>000<div></div>",
                "0<b>11111</b>0<div></div>",
                "000<b>1</b>000<div></div>",
                "000<b>1</b>000<div></div>",
                "0000000<div></div>",
                "</pre></p><div></div>",
                "<div></div>",
                "<p><b>Example 1:</b><br /><pre><div></div>",
                "<b>Input:</b> N = 5, mines = [[4, 2]]<div></div>",
                "<b>Output:</b> 2<div></div>",
                "<b>Explanation:</b><div></div>",
                "11111<div></div>",
                "11111<div></div>",
                "1<b>1</b>111<div></div>",
                "<b>111</b>11<div></div>",
                "1<b>1</b>011<div></div>",
                "In the above grid, the largest plus sign can only be order 2.  One of them is marked in bold.<div></div>",
                "</pre></p><div></div>",
                "<div></div>",
                "<p><b>Example 2:</b><br /><pre><div></div>",
                "<b>Input:</b> N = 2, mines = []<div></div>",
                "<b>Output:</b> 1<div></div>",
                "<b>Explanation:</b><div></div>",
                "There is no plus sign of order 2, but there is of order 1.<div></div>",
                "</pre></p><div></div>",
                "<div></div>",
                "<p><b>Example 3:</b><br /><pre><div></div>",
                "<b>Input:</b> N = 1, mines = [[0, 0]]<div></div>",
                "<b>Output:</b> 0<div></div>",
                "<b>Explanation:</b><div></div>",
                "There is no plus sign, so return 0.<div></div>",
                "</pre></p><div></div>",
                "<div></div>",
                "<p><b>Note:</b><br><ol><div></div>",
                "<li><code>N</code> will be an integer in the range <code>[1, 500]</code>.</li><div></div>",
                "<li><code>mines</code> will have length at most <code>5000</code>.</li><div></div>",
                "<li><code>mines[i]</code> will be length 2 and consist of integers in the range <code>[0, N-1]</code>.</li><div></div>",
                "<li><i>(Additionally, programs submitted in C, C++, or C# will be judged with a slightly smaller time limit.)</i></li><div></div>",
                "</ol></p><div></div>"
            ],
            "metadata": {}
        },
        {
            "cell_type": "code",
            "metadata": {},
            "execution_count": null,
            "source": "%%writefile largest_plus_sign.py\nclass Solution:\n    def orderOfLargestPlusSign(self, N, mines):\n        \"\"\"\n        :type N: int\n        :type mines: List[List[int]]\n        :rtype: int\n        \"\"\"",
            "outputs": []
        },
        {
            "cell_type": "code",
            "metadata": {},
            "execution_count": null,
            "source": "# submit\n%run ../../cli.py push --method=submit --path=largest_plus_sign.py --clean=True",
            "outputs": []
        }
    ]
}