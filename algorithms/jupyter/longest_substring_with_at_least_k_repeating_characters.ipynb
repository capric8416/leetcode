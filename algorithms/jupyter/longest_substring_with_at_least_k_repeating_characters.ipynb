{
    "nbformat": 4,
    "nbformat_minor": 2,
    "metadata": {
        "kernelspec": {
            "display_name": "Python 3",
            "language": "python",
            "name": "python3"
        },
        "language_info": {
            "codemirror_mode": {
                "name": "ipython",
                "version": 3
            },
            "file_extension": ".py",
            "mimetype": "text/x-python",
            "name": "python",
            "nbconvert_exporter": "python",
            "pygments_lexer": "ipython3",
            "version": "3.7.2"
        }
    },
    "cells": [
        {
            "cell_type": "markdown",
            "source": [
                "<h1>Longest Substring with At Least K Repeating Characters</h1>",
                "<p><div></div>",
                "Find the length of the longest substring <b><i>T</i></b> of a given string (consists of lowercase letters only) such that every character in <b><i>T</i></b> appears no less than <i>k</i> times.<div></div>",
                "</p><div></div>",
                "<div></div>",
                "<p><b>Example 1:</b><div></div>",
                "<pre><div></div>",
                "Input:<div></div>",
                "s = \"aaabb\", k = 3<div></div>",
                "<div></div>",
                "Output:<div></div>",
                "3<div></div>",
                "<div></div>",
                "The longest substring is \"aaa\", as 'a' is repeated 3 times.<div></div>",
                "</pre><div></div>",
                "</p><div></div>",
                "<div></div>",
                "<p><b>Example 2:</b><div></div>",
                "<pre><div></div>",
                "Input:<div></div>",
                "s = \"ababbc\", k = 2<div></div>",
                "<div></div>",
                "Output:<div></div>",
                "5<div></div>",
                "<div></div>",
                "The longest substring is \"ababb\", as 'a' is repeated 2 times and 'b' is repeated 3 times.<div></div>",
                "</pre><div></div>",
                "</p><div></div>"
            ],
            "metadata": {}
        },
        {
            "cell_type": "code",
            "metadata": {},
            "execution_count": null,
            "source": "%%writefile longest_substring_with_at_least_k_repeating_characters.py\nclass Solution:\n    def longestSubstring(self, s, k):\n        \"\"\"\n        :type s: str\n        :type k: int\n        :rtype: int\n        \"\"\"",
            "outputs": []
        },
        {
            "cell_type": "code",
            "metadata": {},
            "execution_count": null,
            "source": "# submit\n%run ../../cli.py push --method=submit --path=longest_substring_with_at_least_k_repeating_characters.py --clean=True",
            "outputs": []
        }
    ]
}