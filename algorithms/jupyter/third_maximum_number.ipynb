{
    "nbformat": 4,
    "nbformat_minor": 2,
    "metadata": {
        "kernelspec": {
            "display_name": "Python 3",
            "language": "python",
            "name": "python3"
        },
        "language_info": {
            "codemirror_mode": {
                "name": "ipython",
                "version": 3
            },
            "file_extension": ".py",
            "mimetype": "text/x-python",
            "name": "python",
            "nbconvert_exporter": "python",
            "pygments_lexer": "ipython3",
            "version": "3.7.2"
        }
    },
    "cells": [
        {
            "cell_type": "markdown",
            "source": [
                "<h1>Third Maximum Number</h1>",
                "<p>Given a <b>non-empty</b> array of integers, return the <b>third</b> maximum number in this array. If it does not exist, return the maximum number. The time complexity must be in O(n).</p><div></div>",
                "<div></div>",
                "<p><b>Example 1:</b><br /><div></div>",
                "<pre><div></div>",
                "<b>Input:</b> [3, 2, 1]<div></div>",
                "<div></div>",
                "<b>Output:</b> 1<div></div>",
                "<div></div>",
                "<b>Explanation:</b> The third maximum is 1.<div></div>",
                "</pre><div></div>",
                "</p><div></div>",
                "<div></div>",
                "<p><b>Example 2:</b><br /><div></div>",
                "<pre><div></div>",
                "<b>Input:</b> [1, 2]<div></div>",
                "<div></div>",
                "<b>Output:</b> 2<div></div>",
                "<div></div>",
                "<b>Explanation:</b> The third maximum does not exist, so the maximum (2) is returned instead.<div></div>",
                "</pre><div></div>",
                "</p><div></div>",
                "<div></div>",
                "<p><b>Example 3:</b><br /><div></div>",
                "<pre><div></div>",
                "<b>Input:</b> [2, 2, 3, 1]<div></div>",
                "<div></div>",
                "<b>Output:</b> 1<div></div>",
                "<div></div>",
                "<b>Explanation:</b> Note that the third maximum here means the third maximum distinct number.<div></div>",
                "Both numbers with value 2 are both considered as second maximum.<div></div>",
                "</pre><div></div>",
                "</p><div></div>"
            ],
            "metadata": {}
        },
        {
            "cell_type": "code",
            "metadata": {},
            "execution_count": null,
            "source": "%%writefile third_maximum_number.py\nclass Solution:\n    def thirdMax(self, nums):\n        \"\"\"\n        :type nums: List[int]\n        :rtype: int\n        \"\"\"",
            "outputs": []
        },
        {
            "cell_type": "code",
            "metadata": {},
            "execution_count": null,
            "source": "# submit\n%run ../../cli.py push --method=submit --path=third_maximum_number.py --clean=True",
            "outputs": []
        }
    ]
}