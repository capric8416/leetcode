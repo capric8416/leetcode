{
    "nbformat": 4,
    "nbformat_minor": 2,
    "metadata": {
        "kernelspec": {
            "display_name": "Python 3",
            "language": "python",
            "name": "python3"
        },
        "language_info": {
            "codemirror_mode": {
                "name": "ipython",
                "version": 3
            },
            "file_extension": ".py",
            "mimetype": "text/x-python",
            "name": "python",
            "nbconvert_exporter": "python",
            "pygments_lexer": "ipython3",
            "version": "3.7.2"
        }
    },
    "cells": [
        {
            "cell_type": "markdown",
            "source": [
                "<h1>Rotate Image</h1>",
                "<p>You are given an <em>n</em> x <em>n</em> 2D matrix representing an image.</p><div></div>",
                "<div></div>",
                "<p>Rotate the image by 90 degrees (clockwise).</p><div></div>",
                "<div></div>",
                "<p><strong>Note:</strong></p><div></div>",
                "<div></div>",
                "<p>You have to rotate the image <a href=\"https://en.wikipedia.org/wiki/In-place_algorithm\" target=\"_blank\"><strong>in-place</strong></a>, which means you have to modify the input 2D matrix directly. <strong>DO NOT</strong> allocate another 2D matrix and do the rotation.</p><div></div>",
                "<div></div>",
                "<p><strong>Example 1:</strong></p><div></div>",
                "<div></div>",
                "<pre><div></div>",
                "Given <strong>input matrix</strong> = <div></div>",
                "[<div></div>",
                "  [1,2,3],<div></div>",
                "  [4,5,6],<div></div>",
                "  [7,8,9]<div></div>",
                "],<div></div>",
                "<div></div>",
                "rotate the input matrix <strong>in-place</strong> such that it becomes:<div></div>",
                "[<div></div>",
                "  [7,4,1],<div></div>",
                "  [8,5,2],<div></div>",
                "  [9,6,3]<div></div>",
                "]<div></div>",
                "</pre><div></div>",
                "<div></div>",
                "<p><strong>Example 2:</strong></p><div></div>",
                "<div></div>",
                "<pre><div></div>",
                "Given <strong>input matrix</strong> =<div></div>",
                "[<div></div>",
                "  [ 5, 1, 9,11],<div></div>",
                "  [ 2, 4, 8,10],<div></div>",
                "  [13, 3, 6, 7],<div></div>",
                "  [15,14,12,16]<div></div>",
                "], <div></div>",
                "<div></div>",
                "rotate the input matrix <strong>in-place</strong> such that it becomes:<div></div>",
                "[<div></div>",
                "  [15,13, 2, 5],<div></div>",
                "  [14, 3, 4, 1],<div></div>",
                "  [12, 6, 8, 9],<div></div>",
                "  [16, 7,10,11]<div></div>",
                "]<div></div>",
                "</pre><div></div>",
                "<div></div>"
            ],
            "metadata": {}
        },
        {
            "cell_type": "code",
            "metadata": {},
            "execution_count": null,
            "source": "%%writefile rotate_image.py\nclass Solution:\n    def rotate(self, matrix):\n        \"\"\"\n        :type matrix: List[List[int]]\n        :rtype: void Do not return anything, modify matrix in-place instead.\n        \"\"\"",
            "outputs": []
        },
        {
            "cell_type": "code",
            "metadata": {},
            "execution_count": null,
            "source": "# submit\n%run ../../cli.py push --method=submit --path=rotate_image.py --clean=True",
            "outputs": []
        }
    ]
}