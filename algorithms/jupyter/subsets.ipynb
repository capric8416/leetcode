{
    "nbformat": 4,
    "nbformat_minor": 2,
    "metadata": {
        "kernelspec": {
            "display_name": "Python 3",
            "language": "python",
            "name": "python3"
        },
        "language_info": {
            "codemirror_mode": {
                "name": "ipython",
                "version": 3
            },
            "file_extension": ".py",
            "mimetype": "text/x-python",
            "name": "python",
            "nbconvert_exporter": "python",
            "pygments_lexer": "ipython3",
            "version": "3.7.2"
        }
    },
    "cells": [
        {
            "cell_type": "markdown",
            "source": [
                "<h1>Subsets</h1>",
                "<p>Given a set of <strong>distinct</strong> integers, <em>nums</em>, return all possible subsets (the power set).</p><div></div>",
                "<div></div>",
                "<p><strong>Note:</strong> The solution set must not contain duplicate subsets.</p><div></div>",
                "<div></div>",
                "<p><strong>Example:</strong></p><div></div>",
                "<div></div>",
                "<pre><div></div>",
                "<strong>Input:</strong> nums = [1,2,3]<div></div>",
                "<strong>Output:</strong><div></div>",
                "[<div></div>",
                "  [3],<div></div>",
                "&nbsp; [1],<div></div>",
                "&nbsp; [2],<div></div>",
                "&nbsp; [1,2,3],<div></div>",
                "&nbsp; [1,3],<div></div>",
                "&nbsp; [2,3],<div></div>",
                "&nbsp; [1,2],<div></div>",
                "&nbsp; []<div></div>",
                "]</pre><div></div>",
                "<div></div>"
            ],
            "metadata": {}
        },
        {
            "cell_type": "code",
            "metadata": {},
            "execution_count": null,
            "source": "%%writefile subsets.py\nclass Solution:\n    def subsets(self, nums):\n        \"\"\"\n        :type nums: List[int]\n        :rtype: List[List[int]]\n        \"\"\"",
            "outputs": []
        },
        {
            "cell_type": "code",
            "metadata": {},
            "execution_count": null,
            "source": "# submit\n%run ../../cli.py push --method=submit --path=subsets.py --clean=True",
            "outputs": []
        }
    ]
}