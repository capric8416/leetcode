{
    "nbformat": 4,
    "nbformat_minor": 2,
    "metadata": {
        "kernelspec": {
            "display_name": "Python 3",
            "language": "python",
            "name": "python3"
        },
        "language_info": {
            "codemirror_mode": {
                "name": "ipython",
                "version": 3
            },
            "file_extension": ".py",
            "mimetype": "text/x-python",
            "name": "python",
            "nbconvert_exporter": "python",
            "pygments_lexer": "ipython3",
            "version": "3.7.2"
        }
    },
    "cells": [
        {
            "cell_type": "markdown",
            "source": [
                "<h1>Smallest Good Base</h1>",
                "<p>For an integer n, we call k>=2 a <i><b>good base</b></i> of n, if all digits of n base k are 1.</p><div></div>",
                "<p>Now given a string representing n, you should return the smallest good base of n in string format. <br/></p><div></div>",
                "<div></div>",
                "<p><b>Example 1:</b><br /><div></div>",
                "<pre><div></div>",
                "<b>Input:</b> \"13\"<div></div>",
                "<b>Output:</b> \"3\"<div></div>",
                "<b>Explanation:</b> 13 base 3 is 111.<div></div>",
                "</pre><div></div>",
                "</p><div></div>",
                "<div></div>",
                "<p><b>Example 2:</b><br /><div></div>",
                "<pre><div></div>",
                "<b>Input:</b> \"4681\"<div></div>",
                "<b>Output:</b> \"8\"<div></div>",
                "<b>Explanation:</b> 4681 base 8 is 11111.<div></div>",
                "</pre><div></div>",
                "</p><div></div>",
                "<div></div>",
                "<p><b>Example 3:</b><br /><div></div>",
                "<pre><div></div>",
                "<b>Input:</b> \"1000000000000000000\"<div></div>",
                "<b>Output:</b> \"999999999999999999\"<div></div>",
                "<b>Explanation:</b> 1000000000000000000 base 999999999999999999 is 11.<div></div>",
                "</pre><div></div>",
                "</p><div></div>",
                "<div></div>",
                "<p><b>Note:</b><br><div></div>",
                "<ol><div></div>",
                "<li>The range of n is [3, 10^18].</li><div></div>",
                "<li>The string representing n is always valid and will not have leading zeros.</li><div></div>",
                "</ol><div></div>",
                "</p><div></div>"
            ],
            "metadata": {}
        },
        {
            "cell_type": "code",
            "metadata": {},
            "execution_count": null,
            "source": "%%writefile smallest_good_base.py\nclass Solution:\n    def smallestGoodBase(self, n):\n        \"\"\"\n        :type n: str\n        :rtype: str\n        \"\"\"",
            "outputs": []
        },
        {
            "cell_type": "code",
            "metadata": {},
            "execution_count": null,
            "source": "# submit\n%run ../../cli.py push --method=submit --path=smallest_good_base.py --clean=True",
            "outputs": []
        }
    ]
}