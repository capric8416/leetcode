{
    "nbformat": 4,
    "nbformat_minor": 2,
    "metadata": {
        "kernelspec": {
            "display_name": "Python 3",
            "language": "python",
            "name": "python3"
        },
        "language_info": {
            "codemirror_mode": {
                "name": "ipython",
                "version": 3
            },
            "file_extension": ".py",
            "mimetype": "text/x-python",
            "name": "python",
            "nbconvert_exporter": "python",
            "pygments_lexer": "ipython3",
            "version": "3.7.2"
        }
    },
    "cells": [
        {
            "cell_type": "markdown",
            "source": [
                "<h1>Magical String</h1>",
                "<p><div></div>",
                "A magical string <b>S</b> consists of only '1' and '2' and obeys the following rules:<div></div>",
                "</p><div></div>",
                "<p><div></div>",
                "The string <b>S</b> is magical because concatenating the number of contiguous occurrences of characters '1' and '2' generates the string <b>S</b> itself.<div></div>",
                "</p><div></div>",
                "<div></div>",
                "<p><div></div>",
                "The first few elements of string <b>S</b> is the following:<div></div>",
                "<b>S</b> = \"1221121221221121122\u2026\u2026\"<div></div>",
                "</p><div></div>",
                "<div></div>",
                "<p><div></div>",
                "If we group the consecutive '1's and '2's in <b>S</b>, it will be:<div></div>",
                "</p><div></div>",
                "<p><div></div>",
                "1   22  11  2  1  22  1  22  11  2  11  22 ......<div></div>",
                "</p><div></div>",
                "<p><div></div>",
                "and the occurrences of '1's or '2's in each group are:<div></div>",
                "</p><div></div>",
                "<p><div></div>",
                "1   2\t   2    1   1    2     1    2     2    1    2    2 ......<div></div>",
                "</p><div></div>",
                "<div></div>",
                "<p><div></div>",
                "You can see that the occurrence sequence above is the <b>S</b> itself. <div></div>",
                "</p><div></div>",
                "<div></div>",
                "<p><div></div>",
                "Given an integer N as input, return the number of '1's in the first N number in the magical string <b>S</b>.<div></div>",
                "</p><div></div>",
                "<div></div>",
                "<p><b>Note:</b><div></div>",
                "N will not exceed 100,000.<div></div>",
                "</p><div></div>",
                "<div></div>",
                "<div></div>",
                "<p><b>Example 1:</b><br /><div></div>",
                "<pre><div></div>",
                "<b>Input:</b> 6<div></div>",
                "<b>Output:</b> 3<div></div>",
                "<b>Explanation:</b> The first 6 elements of magical string S is \"12211\" and it contains three 1's, so return 3.<div></div>",
                "</pre><div></div>",
                "</p><div></div>"
            ],
            "metadata": {}
        },
        {
            "cell_type": "code",
            "metadata": {},
            "execution_count": null,
            "source": "%%writefile magical_string.py\nclass Solution:\n    def magicalString(self, n):\n        \"\"\"\n        :type n: int\n        :rtype: int\n        \"\"\"",
            "outputs": []
        },
        {
            "cell_type": "code",
            "metadata": {},
            "execution_count": null,
            "source": "# submit\n%run ../../cli.py push --method=submit --path=magical_string.py --clean=True",
            "outputs": []
        }
    ]
}