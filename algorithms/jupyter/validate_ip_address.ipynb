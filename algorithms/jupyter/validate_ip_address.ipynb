{
    "nbformat": 4,
    "nbformat_minor": 2,
    "metadata": {
        "kernelspec": {
            "display_name": "Python 3",
            "language": "python",
            "name": "python3"
        },
        "language_info": {
            "codemirror_mode": {
                "name": "ipython",
                "version": 3
            },
            "file_extension": ".py",
            "mimetype": "text/x-python",
            "name": "python",
            "nbconvert_exporter": "python",
            "pygments_lexer": "ipython3",
            "version": "3.7.2"
        }
    },
    "cells": [
        {
            "cell_type": "markdown",
            "source": [
                "<h1>Validate IP Address</h1>",
                "<p><div></div>",
                "Write a function to check whether an input string is a valid IPv4 address or IPv6 address or neither.<div></div>",
                "</p><div></div>",
                "<div></div>",
                "<p><div></div>",
                "<b>IPv4</b> addresses are canonically represented in dot-decimal notation, which consists of four decimal numbers, each ranging from 0 to 255, separated by dots (\".\"), e.g.,<code>172.16.254.1</code>;<div></div>",
                "</p><div></div>",
                "<div></div>",
                "<p><div></div>",
                "Besides, leading zeros in the IPv4 is invalid. For example, the address <code>172.16.254.01</code> is invalid.<div></div>",
                "</p><div></div>",
                "<div></div>",
                "<p><div></div>",
                "<b>IPv6</b> addresses are represented as eight groups of four hexadecimal digits, each group representing 16 bits. The groups are separated by colons (\":\"). For example, the address <code>2001:0db8:85a3:0000:0000:8a2e:0370:7334</code> is a valid one. Also, we could omit some leading zeros among four hexadecimal digits and some low-case characters in the address to upper-case ones, so <code>2001:db8:85a3:0:0:8A2E:0370:7334</code> is also a valid IPv6 address(Omit leading zeros and using upper cases).<div></div>",
                "</p><div></div>",
                "<div></div>",
                "<div></div>",
                "<p><div></div>",
                "However, we don't replace a consecutive group of zero value with a single empty group using two consecutive colons (::) to pursue simplicity. For example, <code>2001:0db8:85a3::8A2E:0370:7334</code> is an invalid IPv6 address.<div></div>",
                "</p><div></div>",
                "<div></div>",
                "<p><div></div>",
                "Besides, extra leading zeros in the IPv6 is also invalid. For example, the address <code>02001:0db8:85a3:0000:0000:8a2e:0370:7334</code> is invalid.<div></div>",
                "</p><div></div>",
                "<div></div>",
                "<div></div>",
                "<p><b>Note:</b><div></div>",
                "You may assume there is no extra space or special characters in the input string.<div></div>",
                "</p><div></div>",
                "<div></div>",
                "<p><b>Example 1:</b><br /><div></div>",
                "<pre><div></div>",
                "<b>Input:</b> \"172.16.254.1\"<div></div>",
                "<div></div>",
                "<b>Output:</b> \"IPv4\"<div></div>",
                "<div></div>",
                "<b>Explanation:</b> This is a valid IPv4 address, return \"IPv4\".<div></div>",
                "</pre><div></div>",
                "</p><div></div>",
                "<div></div>",
                "<div></div>",
                "<p><b>Example 2:</b><br /><div></div>",
                "<pre><div></div>",
                "<b>Input:</b> \"2001:0db8:85a3:0:0:8A2E:0370:7334\"<div></div>",
                "<div></div>",
                "<b>Output:</b> \"IPv6\"<div></div>",
                "<div></div>",
                "<b>Explanation:</b> This is a valid IPv6 address, return \"IPv6\".<div></div>",
                "</pre><div></div>",
                "</p><div></div>",
                "<div></div>",
                "<p><b>Example 3:</b><br /><div></div>",
                "<pre><div></div>",
                "<b>Input:</b> \"256.256.256.256\"<div></div>",
                "<div></div>",
                "<b>Output:</b> \"Neither\"<div></div>",
                "<div></div>",
                "<b>Explanation:</b> This is neither a IPv4 address nor a IPv6 address.<div></div>",
                "</pre><div></div>",
                "</p><div></div>"
            ],
            "metadata": {}
        },
        {
            "cell_type": "code",
            "metadata": {},
            "execution_count": null,
            "source": "%%writefile validate_ip_address.py\nclass Solution:\n    def validIPAddress(self, IP):\n        \"\"\"\n        :type IP: str\n        :rtype: str\n        \"\"\"",
            "outputs": []
        },
        {
            "cell_type": "code",
            "metadata": {},
            "execution_count": null,
            "source": "# submit\n%run ../../cli.py push --method=submit --path=validate_ip_address.py --clean=True",
            "outputs": []
        }
    ]
}