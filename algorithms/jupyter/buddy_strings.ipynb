{
    "nbformat": 4,
    "nbformat_minor": 2,
    "metadata": {
        "kernelspec": {
            "display_name": "Python 3",
            "language": "python",
            "name": "python3"
        },
        "language_info": {
            "codemirror_mode": {
                "name": "ipython",
                "version": 3
            },
            "file_extension": ".py",
            "mimetype": "text/x-python",
            "name": "python",
            "nbconvert_exporter": "python",
            "pygments_lexer": "ipython3",
            "version": "3.7.2"
        }
    },
    "cells": [
        {
            "cell_type": "markdown",
            "source": [
                "<h1>Buddy Strings</h1>",
                "<p>Given two strings <code>A</code> and <code>B</code>&nbsp;of lowercase letters, return <code>true</code> if and only if we&nbsp;can swap two letters in <code>A</code> so that the result equals <code>B</code>.</p><div></div>",
                "<div></div>",
                "<p>&nbsp;</p><div></div>",
                "<div></div>",
                "<p><strong>Example 1:</strong></p><div></div>",
                "<div></div>",
                "<div><div></div>",
                "<pre><div></div>",
                "<strong>Input: </strong>A = <span id=\"example-input-1-1\">&quot;ab&quot;</span>, B = <span id=\"example-input-1-2\">&quot;ba&quot;</span><div></div>",
                "<strong>Output: </strong><span id=\"example-output-1\">true</span><div></div>",
                "</pre><div></div>",
                "<div></div>",
                "<div><div></div>",
                "<p><strong>Example 2:</strong></p><div></div>",
                "<div></div>",
                "<pre><div></div>",
                "<strong>Input: </strong>A = <span id=\"example-input-2-1\">&quot;ab&quot;</span>, B = <span id=\"example-input-2-2\">&quot;ab&quot;</span><div></div>",
                "<strong>Output: </strong><span id=\"example-output-2\">false</span><div></div>",
                "</pre><div></div>",
                "<div></div>",
                "<div><div></div>",
                "<p><strong>Example 3:</strong></p><div></div>",
                "<div></div>",
                "<pre><div></div>",
                "<strong>Input: </strong>A = <span id=\"example-input-3-1\">&quot;aa&quot;</span>, B = <span id=\"example-input-3-2\">&quot;aa&quot;</span><div></div>",
                "<strong>Output: </strong><span id=\"example-output-3\">true</span><div></div>",
                "</pre><div></div>",
                "<div></div>",
                "<div><div></div>",
                "<p><strong>Example 4:</strong></p><div></div>",
                "<div></div>",
                "<pre><div></div>",
                "<strong>Input: </strong>A = <span id=\"example-input-4-1\">&quot;aaaaaaabc&quot;</span>, B = <span id=\"example-input-4-2\">&quot;aaaaaaacb&quot;</span><div></div>",
                "<strong>Output: </strong><span id=\"example-output-4\">true</span><div></div>",
                "</pre><div></div>",
                "<div></div>",
                "<div><div></div>",
                "<p><strong>Example 5:</strong></p><div></div>",
                "<div></div>",
                "<pre><div></div>",
                "<strong>Input: </strong>A = <span id=\"example-input-5-1\">&quot;&quot;</span>, B = <span id=\"example-input-5-2\">&quot;aa&quot;</span><div></div>",
                "<strong>Output: </strong><span id=\"example-output-5\">false</span><div></div>",
                "</pre><div></div>",
                "<div></div>",
                "<p>&nbsp;</p><div></div>",
                "<div></div>",
                "<p><strong><span>Note:</span></strong></p><div></div>",
                "<div></div>",
                "<ol><div></div>",
                "\t<li><code>0 &lt;= A.length &lt;= 20000</code></li><div></div>",
                "\t<li><code>0 &lt;= B.length &lt;= 20000</code></li><div></div>",
                "\t<li><code>A</code> and&nbsp;<code>B</code> consist only of lowercase letters.</li><div></div>",
                "</ol><div></div>",
                "</div><div></div>",
                "</div><div></div>",
                "</div><div></div>",
                "</div><div></div>",
                "</div><div></div>",
                "<div></div>"
            ],
            "metadata": {}
        },
        {
            "cell_type": "code",
            "metadata": {},
            "execution_count": null,
            "source": "%%writefile buddy_strings.py\nclass Solution:\n    def buddyStrings(self, A, B):\n        \"\"\"\n        :type A: str\n        :type B: str\n        :rtype: bool\n        \"\"\"",
            "outputs": []
        },
        {
            "cell_type": "code",
            "metadata": {},
            "execution_count": null,
            "source": "# submit\n%run ../../cli.py push --method=submit --path=buddy_strings.py --clean=True",
            "outputs": []
        }
    ]
}