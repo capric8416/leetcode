{
    "nbformat": 4,
    "nbformat_minor": 2,
    "metadata": {
        "kernelspec": {
            "display_name": "Python 3",
            "language": "python",
            "name": "python3"
        },
        "language_info": {
            "codemirror_mode": {
                "name": "ipython",
                "version": 3
            },
            "file_extension": ".py",
            "mimetype": "text/x-python",
            "name": "python",
            "nbconvert_exporter": "python",
            "pygments_lexer": "ipython3",
            "version": "3.7.2"
        }
    },
    "cells": [
        {
            "cell_type": "markdown",
            "source": [
                "<h1>Reverse Pairs</h1>",
                "<p>Given an array <code>nums</code>, we call <code>(i, j)</code> an <b><i>important reverse pair</i></b> if <code>i &lt; j</code> and <code>nums[i] &gt; 2*nums[j]</code>.</p><div></div>",
                "<div></div>",
                "<p>You need to return the number of important reverse pairs in the given array.</p><div></div>",
                "<div></div>",
                "<p><b>Example1:</b><div></div>",
                "<pre><div></div>",
                "<b>Input</b>: [1,3,2,3,1]<div></div>",
                "<b>Output</b>: 2<div></div>",
                "</pre></p><div></div>",
                "<div></div>",
                "<p><b>Example2:</b><div></div>",
                "<pre><div></div>",
                "<b>Input</b>: [2,4,3,5,1]<div></div>",
                "<b>Output</b>: 3<div></div>",
                "</pre></p><div></div>",
                "<div></div>",
                "<p><b>Note:</b><br><div></div>",
                "<ol><div></div>",
                "<li>The length of the given array will not exceed <code>50,000</code>.</li><div></div>",
                "<li>All the numbers in the input array are in the range of 32-bit integer.</li><div></div>",
                "</ol><div></div>",
                "</p><div></div>"
            ],
            "metadata": {}
        },
        {
            "cell_type": "code",
            "metadata": {},
            "execution_count": null,
            "source": "%%writefile reverse_pairs.py\nclass Solution:\n    def reversePairs(self, nums):\n        \"\"\"\n        :type nums: List[int]\n        :rtype: int\n        \"\"\"",
            "outputs": []
        },
        {
            "cell_type": "code",
            "metadata": {},
            "execution_count": null,
            "source": "# submit\n%run ../../cli.py push --method=submit --path=reverse_pairs.py --clean=True",
            "outputs": []
        }
    ]
}