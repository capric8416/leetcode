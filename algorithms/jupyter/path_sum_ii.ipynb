{
    "nbformat": 4,
    "nbformat_minor": 2,
    "metadata": {
        "kernelspec": {
            "display_name": "Python 3",
            "language": "python",
            "name": "python3"
        },
        "language_info": {
            "codemirror_mode": {
                "name": "ipython",
                "version": 3
            },
            "file_extension": ".py",
            "mimetype": "text/x-python",
            "name": "python",
            "nbconvert_exporter": "python",
            "pygments_lexer": "ipython3",
            "version": "3.7.2"
        }
    },
    "cells": [
        {
            "cell_type": "markdown",
            "source": [
                "<h1>Path Sum II</h1>",
                "<p>Given a binary tree and a sum, find all root-to-leaf paths where each path&#39;s sum equals the given sum.</p><div></div>",
                "<div></div>",
                "<p><strong>Note:</strong>&nbsp;A leaf is a node with no children.</p><div></div>",
                "<div></div>",
                "<p><strong>Example:</strong></p><div></div>",
                "<div></div>",
                "<p>Given the below binary tree and <code>sum = 22</code>,</p><div></div>",
                "<div></div>",
                "<pre><div></div>",
                "      <strong>5</strong><div></div>",
                "     <strong>/ \\</strong><div></div>",
                "    <strong>4   8</strong><div></div>",
                "   <strong>/</strong>   / <strong>\\</strong><div></div>",
                "  <strong>11</strong>  13  <strong>4</strong><div></div>",
                " /  <strong>\\</strong>    <strong>/</strong> \\<div></div>",
                "7    <strong>2</strong>  <strong>5</strong>   1<div></div>",
                "</pre><div></div>",
                "<div></div>",
                "<p>Return:</p><div></div>",
                "<div></div>",
                "<pre><div></div>",
                "[<div></div>",
                "   [5,4,11,2],<div></div>",
                "   [5,8,4,5]<div></div>",
                "]<div></div>",
                "</pre><div></div>",
                "<div></div>"
            ],
            "metadata": {}
        },
        {
            "cell_type": "code",
            "metadata": {},
            "execution_count": null,
            "source": "%%writefile path_sum_ii.py\n# Definition for a binary tree node.\n# class TreeNode:\n#     def __init__(self, x):\n#         self.val = x\n#         self.left = None\n#         self.right = None\n\nclass Solution:\n    def pathSum(self, root, sum):\n        \"\"\"\n        :type root: TreeNode\n        :type sum: int\n        :rtype: List[List[int]]\n        \"\"\"",
            "outputs": []
        },
        {
            "cell_type": "code",
            "metadata": {},
            "execution_count": null,
            "source": "# submit\n%run ../../cli.py push --method=submit --path=path_sum_ii.py --clean=True",
            "outputs": []
        }
    ]
}