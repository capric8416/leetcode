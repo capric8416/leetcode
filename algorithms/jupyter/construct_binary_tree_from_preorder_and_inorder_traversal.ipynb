{
    "nbformat": 4,
    "nbformat_minor": 2,
    "metadata": {
        "kernelspec": {
            "display_name": "Python 3",
            "language": "python",
            "name": "python3"
        },
        "language_info": {
            "codemirror_mode": {
                "name": "ipython",
                "version": 3
            },
            "file_extension": ".py",
            "mimetype": "text/x-python",
            "name": "python",
            "nbconvert_exporter": "python",
            "pygments_lexer": "ipython3",
            "version": "3.7.2"
        }
    },
    "cells": [
        {
            "cell_type": "markdown",
            "source": [
                "<h1>Construct Binary Tree from Preorder and Inorder Traversal</h1>",
                "<p>Given preorder and inorder traversal of a tree, construct the binary tree.</p><div></div>",
                "<div></div>",
                "<p><strong>Note:</strong><br /><div></div>",
                "You may assume that duplicates do not exist in the tree.</p><div></div>",
                "<div></div>",
                "<p>For example, given</p><div></div>",
                "<div></div>",
                "<pre><div></div>",
                "preorder =&nbsp;[3,9,20,15,7]<div></div>",
                "inorder = [9,3,15,20,7]</pre><div></div>",
                "<div></div>",
                "<p>Return the following binary tree:</p><div></div>",
                "<div></div>",
                "<pre><div></div>",
                "    3<div></div>",
                "   / \\<div></div>",
                "  9  20<div></div>",
                "    /  \\<div></div>",
                "   15   7</pre><div></div>",
                "<div></div>"
            ],
            "metadata": {}
        },
        {
            "cell_type": "code",
            "metadata": {},
            "execution_count": null,
            "source": "%%writefile construct_binary_tree_from_preorder_and_inorder_traversal.py\n# Definition for a binary tree node.\n# class TreeNode:\n#     def __init__(self, x):\n#         self.val = x\n#         self.left = None\n#         self.right = None\n\nclass Solution:\n    def buildTree(self, preorder, inorder):\n        \"\"\"\n        :type preorder: List[int]\n        :type inorder: List[int]\n        :rtype: TreeNode\n        \"\"\"",
            "outputs": []
        },
        {
            "cell_type": "code",
            "metadata": {},
            "execution_count": null,
            "source": "# submit\n%run ../../cli.py push --method=submit --path=construct_binary_tree_from_preorder_and_inorder_traversal.py --clean=True",
            "outputs": []
        }
    ]
}