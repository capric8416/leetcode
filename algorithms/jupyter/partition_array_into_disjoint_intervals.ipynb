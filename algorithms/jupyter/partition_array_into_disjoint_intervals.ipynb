{
    "nbformat": 4,
    "nbformat_minor": 2,
    "metadata": {
        "kernelspec": {
            "display_name": "Python 3",
            "language": "python",
            "name": "python3"
        },
        "language_info": {
            "codemirror_mode": {
                "name": "ipython",
                "version": 3
            },
            "file_extension": ".py",
            "mimetype": "text/x-python",
            "name": "python",
            "nbconvert_exporter": "python",
            "pygments_lexer": "ipython3",
            "version": "3.7.2"
        }
    },
    "cells": [
        {
            "cell_type": "markdown",
            "source": [
                "<h1>Partition Array into Disjoint Intervals</h1>",
                "<p>Given an array <code>A</code>, partition it&nbsp;into two (contiguous) subarrays&nbsp;<code>left</code>&nbsp;and <code>right</code>&nbsp;so that:</p><div></div>",
                "<div></div>",
                "<ul><div></div>",
                "\t<li>Every element in <code>left</code>&nbsp;is less than or equal to every element in <code>right</code>.</li><div></div>",
                "\t<li><code>left</code> and <code>right</code> are non-empty.</li><div></div>",
                "\t<li><code>left</code>&nbsp;has the smallest possible size.</li><div></div>",
                "</ul><div></div>",
                "<div></div>",
                "<p>Return the <strong>length</strong> of <code>left</code> after such a partitioning.&nbsp; It is guaranteed that such a partitioning exists.</p><div></div>",
                "<div></div>",
                "<p>&nbsp;</p><div></div>",
                "<div></div>",
                "<p><strong>Example 1:</strong></p><div></div>",
                "<div></div>",
                "<pre><div></div>",
                "<strong>Input: </strong><span id=\"example-input-1-1\">[5,0,3,8,6]</span><div></div>",
                "<strong>Output: </strong><span id=\"example-output-1\">3</span><div></div>",
                "<strong>Explanation: </strong>left = [5,0,3], right = [8,6]<div></div>",
                "</pre><div></div>",
                "<div></div>",
                "<div><div></div>",
                "<p><strong>Example 2:</strong></p><div></div>",
                "<div></div>",
                "<pre><div></div>",
                "<strong>Input: </strong><span id=\"example-input-2-1\">[1,1,1,0,6,12]</span><div></div>",
                "<strong>Output: </strong><span id=\"example-output-2\">4</span><div></div>",
                "<strong>Explanation: </strong>left = [1,1,1,0], right = [6,12]<div></div>",
                "</pre><div></div>",
                "<div></div>",
                "<p>&nbsp;</p><div></div>",
                "</div><div></div>",
                "<div></div>",
                "<p><strong>Note:</strong></p><div></div>",
                "<div></div>",
                "<ol><div></div>",
                "\t<li><code>2 &lt;= A.length&nbsp;&lt;= 30000</code></li><div></div>",
                "\t<li><code>0 &lt;= A[i] &lt;= 10^6</code></li><div></div>",
                "\t<li>It is guaranteed there is at least one way to partition <code>A</code> as described.</li><div></div>",
                "</ol><div></div>",
                "<div></div>",
                "<div><div></div>",
                "<div>&nbsp;</div><div></div>",
                "</div><div></div>",
                "<div></div>"
            ],
            "metadata": {}
        },
        {
            "cell_type": "code",
            "metadata": {},
            "execution_count": null,
            "source": "%%writefile partition_array_into_disjoint_intervals.py\nclass Solution:\n    def partitionDisjoint(self, A):\n        \"\"\"\n        :type A: List[int]\n        :rtype: int\n        \"\"\"",
            "outputs": []
        },
        {
            "cell_type": "code",
            "metadata": {},
            "execution_count": null,
            "source": "# submit\n%run ../../cli.py push --method=submit --path=partition_array_into_disjoint_intervals.py --clean=True",
            "outputs": []
        }
    ]
}