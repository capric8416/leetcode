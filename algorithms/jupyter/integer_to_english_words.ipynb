{
    "nbformat": 4,
    "nbformat_minor": 2,
    "metadata": {
        "kernelspec": {
            "display_name": "Python 3",
            "language": "python",
            "name": "python3"
        },
        "language_info": {
            "codemirror_mode": {
                "name": "ipython",
                "version": 3
            },
            "file_extension": ".py",
            "mimetype": "text/x-python",
            "name": "python",
            "nbconvert_exporter": "python",
            "pygments_lexer": "ipython3",
            "version": "3.7.2"
        }
    },
    "cells": [
        {
            "cell_type": "markdown",
            "source": [
                "<h1>Integer to English Words</h1>",
                "<p>Convert a non-negative integer to its english words representation. Given input is guaranteed to be less than 2<sup>31</sup> - 1.</p><div></div>",
                "<div></div>",
                "<p><b>Example 1:</b></p><div></div>",
                "<div></div>",
                "<pre><div></div>",
                "<b>Input:</b> 123<div></div>",
                "<b>Output:</b> &quot;One Hundred Twenty Three&quot;<div></div>",
                "</pre><div></div>",
                "<div></div>",
                "<p><b>Example 2:</b></p><div></div>",
                "<div></div>",
                "<pre><div></div>",
                "<b>Input:</b> 12345<div></div>",
                "<b>Output:</b> &quot;Twelve Thousand Three Hundred Forty Five&quot;</pre><div></div>",
                "<div></div>",
                "<p><b>Example 3:</b></p><div></div>",
                "<div></div>",
                "<pre><div></div>",
                "<b>Input:</b> 1234567<div></div>",
                "<b>Output:</b> &quot;One Million Two Hundred Thirty Four Thousand Five Hundred Sixty Seven&quot;<div></div>",
                "</pre><div></div>",
                "<div></div>",
                "<p><b>Example 4:</b></p><div></div>",
                "<div></div>",
                "<pre><div></div>",
                "<b>Input:</b> 1234567891<div></div>",
                "<b>Output:</b> &quot;One Billion Two Hundred Thirty Four Million Five Hundred Sixty Seven Thousand Eight Hundred Ninety One&quot;<div></div>",
                "</pre><div></div>",
                "<div></div>"
            ],
            "metadata": {}
        },
        {
            "cell_type": "code",
            "metadata": {},
            "execution_count": null,
            "source": "%%writefile integer_to_english_words.py\nclass Solution:\n    def numberToWords(self, num):\n        \"\"\"\n        :type num: int\n        :rtype: str\n        \"\"\"",
            "outputs": []
        },
        {
            "cell_type": "code",
            "metadata": {},
            "execution_count": null,
            "source": "# submit\n%run ../../cli.py push --method=submit --path=integer_to_english_words.py --clean=True",
            "outputs": []
        }
    ]
}