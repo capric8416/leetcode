{
    "nbformat": 4,
    "nbformat_minor": 2,
    "metadata": {
        "kernelspec": {
            "display_name": "Python 3",
            "language": "python",
            "name": "python3"
        },
        "language_info": {
            "codemirror_mode": {
                "name": "ipython",
                "version": 3
            },
            "file_extension": ".py",
            "mimetype": "text/x-python",
            "name": "python",
            "nbconvert_exporter": "python",
            "pygments_lexer": "ipython3",
            "version": "3.7.2"
        }
    },
    "cells": [
        {
            "cell_type": "markdown",
            "source": [
                "<h1>Cherry Pickup</h1>",
                "<p><div></div>",
                "In a N x N <code>grid</code> representing a field of cherries, each cell is one of three possible integers.<div></div>",
                "</p><p><div></div>",
                "<li>0 means the cell is empty, so you can pass through;</li><div></div>",
                "<li>1 means the cell contains a cherry, that you can pick up and pass through;</li><div></div>",
                "<li>-1 means the cell contains a thorn that blocks your way.</li><div></div>",
                "</p><p><div></div>",
                "Your task is to collect maximum number of cherries possible by following the rules below:<div></div>",
                "</p><p><div></div>",
                "<li>Starting at the position (0, 0) and reaching (N-1, N-1) by moving right or down through valid path cells (cells with value 0 or 1);</li><div></div>",
                "<li>After reaching (N-1, N-1), returning to (0, 0) by moving left or up through valid path cells;</li><div></div>",
                "<li>When passing through a path cell containing a cherry, you pick it up and the cell becomes an empty cell (0);</li><div></div>",
                "<li>If there is no valid path between (0, 0) and (N-1, N-1), then no cherries can be collected.</li><div></div>",
                "</p><p><div></div>",
                "<div></div>",
                "<p><b>Example 1:</b><br /><div></div>",
                "<pre><div></div>",
                "<b>Input:</b> grid =<div></div>",
                "[[0, 1, -1],<div></div>",
                " [1, 0, -1],<div></div>",
                " [1, 1,  1]]<div></div>",
                "<b>Output:</b> 5<div></div>",
                "<b>Explanation:</b> <div></div>",
                "The player started at (0, 0) and went down, down, right right to reach (2, 2).<div></div>",
                "4 cherries were picked up during this single trip, and the matrix becomes [[0,1,-1],[0,0,-1],[0,0,0]].<div></div>",
                "Then, the player went left, up, up, left to return home, picking up one more cherry.<div></div>",
                "The total number of cherries picked up is 5, and this is the maximum possible.<div></div>",
                "</pre><div></div>",
                "</p><div></div>",
                "<div></div>",
                "<p><b>Note:</b><div></div>",
                "<li><code>grid</code> is an <code>N</code> by <code>N</code> 2D array, with <code>1 <= N <= 50</code>.</li><div></div>",
                "<li>Each <code>grid[i][j]</code> is an integer in the set <code>{-1, 0, 1}</code>.</li><div></div>",
                "<li>It is guaranteed that grid[0][0] and grid[N-1][N-1] are not -1.<li><div></div>",
                "</p><div></div>"
            ],
            "metadata": {}
        },
        {
            "cell_type": "code",
            "metadata": {},
            "execution_count": null,
            "source": "%%writefile cherry_pickup.py\nclass Solution:\n    def cherryPickup(self, grid):\n        \"\"\"\n        :type grid: List[List[int]]\n        :rtype: int\n        \"\"\"",
            "outputs": []
        },
        {
            "cell_type": "code",
            "metadata": {},
            "execution_count": null,
            "source": "# submit\n%run ../../cli.py push --method=submit --path=cherry_pickup.py --clean=True",
            "outputs": []
        }
    ]
}