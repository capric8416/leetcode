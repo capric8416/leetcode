{
    "nbformat": 4,
    "nbformat_minor": 2,
    "metadata": {
        "kernelspec": {
            "display_name": "Python 3",
            "language": "python",
            "name": "python3"
        },
        "language_info": {
            "codemirror_mode": {
                "name": "ipython",
                "version": 3
            },
            "file_extension": ".py",
            "mimetype": "text/x-python",
            "name": "python",
            "nbconvert_exporter": "python",
            "pygments_lexer": "ipython3",
            "version": "3.7.2"
        }
    },
    "cells": [
        {
            "cell_type": "markdown",
            "source": [
                "<h1>Reach a Number</h1>",
                "<p><div></div>",
                "You are standing at position <code>0</code> on an infinite number line.  There is a goal at position <code>target</code>.<div></div>",
                "</p><p><div></div>",
                "On each move, you can either go left or right.  During the <i>n</i>-th move (starting from 1), you take <i>n</i> steps.<div></div>",
                "</p><p><div></div>",
                "Return the minimum number of steps required to reach the destination.<div></div>",
                "</p><div></div>",
                "<div></div>",
                "<p><b>Example 1:</b><br /><div></div>",
                "<pre><div></div>",
                "<b>Input:</b> target = 3<div></div>",
                "<b>Output:</b> 2<div></div>",
                "<b>Explanation:</b><div></div>",
                "On the first move we step from 0 to 1.<div></div>",
                "On the second step we step from 1 to 3.<div></div>",
                "</pre><div></div>",
                "</p><div></div>",
                "<div></div>",
                "<p><b>Example 2:</b><br /><div></div>",
                "<pre><div></div>",
                "<b>Input:</b> target = 2<div></div>",
                "<b>Output:</b> 3<div></div>",
                "<b>Explanation:</b><div></div>",
                "On the first move we step from 0 to 1.<div></div>",
                "On the second move we step  from 1 to -1.<div></div>",
                "On the third move we step from -1 to 2.<div></div>",
                "</pre><div></div>",
                "</p><div></div>",
                "<div></div>",
                "<p><b>Note:</b><br><div></div>",
                "<li><code>target</code> will be a non-zero integer in the range <code>[-10^9, 10^9]</code>.</li><div></div>",
                "</p><div></div>"
            ],
            "metadata": {}
        },
        {
            "cell_type": "code",
            "metadata": {},
            "execution_count": null,
            "source": "%%writefile reach_a_number.py\nclass Solution:\n    def reachNumber(self, target):\n        \"\"\"\n        :type target: int\n        :rtype: int\n        \"\"\"",
            "outputs": []
        },
        {
            "cell_type": "code",
            "metadata": {},
            "execution_count": null,
            "source": "# submit\n%run ../../cli.py push --method=submit --path=reach_a_number.py --clean=True",
            "outputs": []
        }
    ]
}