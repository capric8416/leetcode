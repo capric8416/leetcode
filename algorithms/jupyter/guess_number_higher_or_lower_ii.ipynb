{
    "nbformat": 4,
    "nbformat_minor": 2,
    "metadata": {
        "kernelspec": {
            "display_name": "Python 3",
            "language": "python",
            "name": "python3"
        },
        "language_info": {
            "codemirror_mode": {
                "name": "ipython",
                "version": 3
            },
            "file_extension": ".py",
            "mimetype": "text/x-python",
            "name": "python",
            "nbconvert_exporter": "python",
            "pygments_lexer": "ipython3",
            "version": "3.7.2"
        }
    },
    "cells": [
        {
            "cell_type": "markdown",
            "source": [
                "<h1>Guess Number Higher or Lower II</h1>",
                "<p>We are playing the Guess Game. The game is as follows:</p><div></div>",
                "<div></div>",
                "<p>I pick a number from <strong>1</strong> to <strong>n</strong>. You have to guess which number I picked.</p><div></div>",
                "<div></div>",
                "<p>Every time you guess wrong, I&#39;ll tell you whether the number I picked is higher or lower.</p><div></div>",
                "<div></div>",
                "<p>However, when you guess a particular number x, and you guess wrong, you pay <b>$x</b>. You win the game when you guess the number I picked.</p><div></div>",
                "<div></div>",
                "<p><b>Example:</b></p><div></div>",
                "<div></div>",
                "<pre><div></div>",
                "n = 10, I pick 8.<div></div>",
                "<div></div>",
                "First round:  You guess 5, I tell you that it&#39;s higher. You pay $5.<div></div>",
                "Second round: You guess 7, I tell you that it&#39;s higher. You pay $7.<div></div>",
                "Third round:  You guess 9, I tell you that it&#39;s lower. You pay $9.<div></div>",
                "<div></div>",
                "Game over. 8 is the number I picked.<div></div>",
                "<div></div>",
                "You end up paying $5 + $7 + $9 = $21.<div></div>",
                "</pre><div></div>",
                "<div></div>",
                "<p>Given a particular <strong>n &ge; 1</strong>, find out how much money you need to have to guarantee a <b>win</b>.</p><div></div>"
            ],
            "metadata": {}
        },
        {
            "cell_type": "code",
            "metadata": {},
            "execution_count": null,
            "source": "%%writefile guess_number_higher_or_lower_ii.py\nclass Solution:\n    def getMoneyAmount(self, n):\n        \"\"\"\n        :type n: int\n        :rtype: int\n        \"\"\"",
            "outputs": []
        },
        {
            "cell_type": "code",
            "metadata": {},
            "execution_count": null,
            "source": "# submit\n%run ../../cli.py push --method=submit --path=guess_number_higher_or_lower_ii.py --clean=True",
            "outputs": []
        }
    ]
}