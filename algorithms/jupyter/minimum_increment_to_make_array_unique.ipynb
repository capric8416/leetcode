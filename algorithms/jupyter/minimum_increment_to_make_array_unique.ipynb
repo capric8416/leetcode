{
    "nbformat": 4,
    "nbformat_minor": 2,
    "metadata": {
        "kernelspec": {
            "display_name": "Python 3",
            "language": "python",
            "name": "python3"
        },
        "language_info": {
            "codemirror_mode": {
                "name": "ipython",
                "version": 3
            },
            "file_extension": ".py",
            "mimetype": "text/x-python",
            "name": "python",
            "nbconvert_exporter": "python",
            "pygments_lexer": "ipython3",
            "version": "3.7.2"
        }
    },
    "cells": [
        {
            "cell_type": "markdown",
            "source": [
                "<h1>Minimum Increment to Make Array Unique</h1>",
                "<p>Given an array of integers A, a <em>move</em> consists of choosing any <code>A[i]</code>, and incrementing it by <code>1</code>.</p><div></div>",
                "<div></div>",
                "<p>Return the least number of moves to make every value in <code>A</code> unique.</p><div></div>",
                "<div></div>",
                "<p>&nbsp;</p><div></div>",
                "<div></div>",
                "<p><strong>Example 1:</strong></p><div></div>",
                "<div></div>",
                "<pre><div></div>",
                "<strong>Input: </strong><span id=\"example-input-1-1\">[1,2,2]</span><div></div>",
                "<strong>Output: </strong><span id=\"example-output-1\">1</span><div></div>",
                "<strong>Explanation: </strong> After 1 move, the array could be [1, 2, 3].<div></div>",
                "</pre><div></div>",
                "<div></div>",
                "<div><div></div>",
                "<p><strong>Example 2:</strong></p><div></div>",
                "<div></div>",
                "<pre><div></div>",
                "<strong>Input: </strong><span id=\"example-input-2-1\">[3,2,1,2,1,7]</span><div></div>",
                "<strong>Output: </strong><span id=\"example-output-2\">6</span><div></div>",
                "<strong>Explanation: </strong> After 6 moves, the array could be [3, 4, 1, 2, 5, 7].<div></div>",
                "It can be shown with 5 or less moves that it is impossible for the array to have all unique values.<div></div>",
                "</pre><div></div>",
                "<div></div>",
                "<p>&nbsp;</p><div></div>",
                "</div><div></div>",
                "<div></div>",
                "<p><strong>Note:</strong></p><div></div>",
                "<div></div>",
                "<ol><div></div>",
                "\t<li><code>0 &lt;= A.length &lt;= 40000</code></li><div></div>",
                "\t<li><code>0 &lt;= A[i] &lt; 40000</code></li><div></div>",
                "</ol><div></div>",
                "<div></div>",
                "<div><div></div>",
                "<div>&nbsp;</div><div></div>",
                "</div><div></div>"
            ],
            "metadata": {}
        },
        {
            "cell_type": "code",
            "metadata": {},
            "execution_count": null,
            "source": "%%writefile minimum_increment_to_make_array_unique.py\nclass Solution:\n    def minIncrementForUnique(self, A):\n        \"\"\"\n        :type A: List[int]\n        :rtype: int\n        \"\"\"",
            "outputs": []
        },
        {
            "cell_type": "code",
            "metadata": {},
            "execution_count": null,
            "source": "# submit\n%run ../../cli.py push --method=submit --path=minimum_increment_to_make_array_unique.py --clean=True",
            "outputs": []
        }
    ]
}