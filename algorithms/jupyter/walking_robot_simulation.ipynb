{
    "nbformat": 4,
    "nbformat_minor": 2,
    "metadata": {
        "kernelspec": {
            "display_name": "Python 3",
            "language": "python",
            "name": "python3"
        },
        "language_info": {
            "codemirror_mode": {
                "name": "ipython",
                "version": 3
            },
            "file_extension": ".py",
            "mimetype": "text/x-python",
            "name": "python",
            "nbconvert_exporter": "python",
            "pygments_lexer": "ipython3",
            "version": "3.7.2"
        }
    },
    "cells": [
        {
            "cell_type": "markdown",
            "source": [
                "<h1>Walking Robot Simulation</h1>",
                "<p>A robot on an infinite grid starts at point (0, 0) and faces north.&nbsp; The robot can receive one of three possible types of commands:</p><div></div>",
                "<div></div>",
                "<ul><div></div>",
                "\t<li><code>-2</code>: turn left 90 degrees</li><div></div>",
                "\t<li><code>-1</code>: turn right 90 degrees</li><div></div>",
                "\t<li><code>1 &lt;= x &lt;= 9</code>: move forward <code>x</code> units</li><div></div>",
                "</ul><div></div>",
                "<div></div>",
                "<p>Some of the grid squares are obstacles.&nbsp;</p><div></div>",
                "<div></div>",
                "<p>The <code>i</code>-th obstacle is at grid point <code>(obstacles[i][0], obstacles[i][1])</code></p><div></div>",
                "<div></div>",
                "<p>If the robot would try to move onto them, the robot stays on the previous grid square instead (but still continues following the rest of the route.)</p><div></div>",
                "<div></div>",
                "<p>Return the <strong>square</strong> of the maximum Euclidean distance that the robot will be from the origin.</p><div></div>",
                "<div></div>",
                "<p>&nbsp;</p><div></div>",
                "<div></div>",
                "<p><strong>Example 1:</strong></p><div></div>",
                "<div></div>",
                "<pre><div></div>",
                "<strong>Input: </strong>commands = <span id=\"example-input-1-1\">[4,-1,3]</span>, obstacles = <span id=\"example-input-1-2\">[]</span><div></div>",
                "<strong>Output: </strong><span id=\"example-output-1\">25</span><div></div>",
                "<span>Explanation: </span>robot will go to (3, 4)<div></div>",
                "</pre><div></div>",
                "<div></div>",
                "<div><div></div>",
                "<p><strong>Example 2:</strong></p><div></div>",
                "<div></div>",
                "<pre><div></div>",
                "<strong>Input: </strong>commands = <span id=\"example-input-2-1\">[4,-1,4,-2,4]</span>, obstacles = <span id=\"example-input-2-2\">[[2,4]]</span><div></div>",
                "<strong>Output: </strong><span id=\"example-output-2\">65</span><div></div>",
                "<strong>Explanation</strong>: robot will be stuck at (1, 4) before turning left and going to (1, 8)<div></div>",
                "</pre><div></div>",
                "</div><div></div>",
                "<div></div>",
                "<p>&nbsp;</p><div></div>",
                "<div></div>",
                "<p><strong>Note:</strong></p><div></div>",
                "<div></div>",
                "<ol><div></div>",
                "\t<li><code>0 &lt;= commands.length &lt;= 10000</code></li><div></div>",
                "\t<li><code>0 &lt;= obstacles.length &lt;= 10000</code></li><div></div>",
                "\t<li><code>-30000 &lt;= obstacle[i][0] &lt;= 30000</code></li><div></div>",
                "\t<li><code>-30000 &lt;= obstacle[i][1] &lt;= 30000</code></li><div></div>",
                "\t<li>The answer is guaranteed to be less than <code>2 ^ 31</code>.</li><div></div>",
                "</ol><div></div>",
                "<div></div>"
            ],
            "metadata": {}
        },
        {
            "cell_type": "code",
            "metadata": {},
            "execution_count": null,
            "source": "%%writefile walking_robot_simulation.py\nclass Solution:\n    def robotSim(self, commands, obstacles):\n        \"\"\"\n        :type commands: List[int]\n        :type obstacles: List[List[int]]\n        :rtype: int\n        \"\"\"",
            "outputs": []
        },
        {
            "cell_type": "code",
            "metadata": {},
            "execution_count": null,
            "source": "# submit\n%run ../../cli.py push --method=submit --path=walking_robot_simulation.py --clean=True",
            "outputs": []
        }
    ]
}