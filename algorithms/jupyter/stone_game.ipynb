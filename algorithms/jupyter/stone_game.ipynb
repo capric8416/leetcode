{
    "nbformat": 4,
    "nbformat_minor": 2,
    "metadata": {
        "kernelspec": {
            "display_name": "Python 3",
            "language": "python",
            "name": "python3"
        },
        "language_info": {
            "codemirror_mode": {
                "name": "ipython",
                "version": 3
            },
            "file_extension": ".py",
            "mimetype": "text/x-python",
            "name": "python",
            "nbconvert_exporter": "python",
            "pygments_lexer": "ipython3",
            "version": "3.7.2"
        }
    },
    "cells": [
        {
            "cell_type": "markdown",
            "source": [
                "<h1>Stone Game</h1>",
                "<p>Alex and Lee play a game with piles of stones.&nbsp; There are an even number of&nbsp;piles <strong>arranged in a row</strong>, and each pile has a positive integer number of stones <code>piles[i]</code>.</p><div></div>",
                "<div></div>",
                "<p>The objective of the game is to end with the most&nbsp;stones.&nbsp; The total number of stones is odd, so there are no ties.</p><div></div>",
                "<div></div>",
                "<p>Alex and Lee take turns, with Alex starting first.&nbsp; Each turn, a player&nbsp;takes the entire pile of stones from either the beginning or the end of the row.&nbsp; This continues until there are no more piles left, at which point the person with the most stones wins.</p><div></div>",
                "<div></div>",
                "<p>Assuming Alex and Lee play optimally, return <code>True</code>&nbsp;if and only if Alex wins the game.</p><div></div>",
                "<div></div>",
                "<p>&nbsp;</p><div></div>",
                "<div></div>",
                "<p><strong>Example 1:</strong></p><div></div>",
                "<div></div>",
                "<pre><div></div>",
                "<strong>Input: </strong><span id=\"example-input-1-1\">[5,3,4,5]</span><div></div>",
                "<strong>Output: </strong><span id=\"example-output-1\">true</span><div></div>",
                "<strong>Explanation: </strong><div></div>",
                "Alex starts first, and can only take the first 5 or the last 5.<div></div>",
                "Say he takes the first 5, so that the row becomes [3, 4, 5].<div></div>",
                "If Lee takes 3, then the board is [4, 5], and Alex takes 5 to win with 10 points.<div></div>",
                "If Lee takes the last 5, then the board is [3, 4], and Alex takes 4 to win with 9 points.<div></div>",
                "This demonstrated that taking the first 5 was a winning move for Alex, so we return true.<div></div>",
                "</pre><div></div>",
                "<div></div>",
                "<p>&nbsp;</p><div></div>",
                "<div></div>",
                "<p><strong>Note:</strong></p><div></div>",
                "<div></div>",
                "<ol><div></div>",
                "\t<li><code>2 &lt;= piles.length &lt;= 500</code></li><div></div>",
                "\t<li><code>piles.length</code> is even.</li><div></div>",
                "\t<li><code>1 &lt;= piles[i] &lt;= 500</code></li><div></div>",
                "\t<li><code>sum(piles)</code> is odd.</li><div></div>",
                "</ol><div></div>",
                "<div></div>"
            ],
            "metadata": {}
        },
        {
            "cell_type": "code",
            "metadata": {},
            "execution_count": null,
            "source": "%%writefile stone_game.py\nclass Solution:\n    def stoneGame(self, piles):\n        \"\"\"\n        :type piles: List[int]\n        :rtype: bool\n        \"\"\"",
            "outputs": []
        },
        {
            "cell_type": "code",
            "metadata": {},
            "execution_count": null,
            "source": "# submit\n%run ../../cli.py push --method=submit --path=stone_game.py --clean=True",
            "outputs": []
        }
    ]
}