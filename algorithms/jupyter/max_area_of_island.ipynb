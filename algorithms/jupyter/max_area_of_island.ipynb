{
    "nbformat": 4,
    "nbformat_minor": 2,
    "metadata": {
        "kernelspec": {
            "display_name": "Python 3",
            "language": "python",
            "name": "python3"
        },
        "language_info": {
            "codemirror_mode": {
                "name": "ipython",
                "version": 3
            },
            "file_extension": ".py",
            "mimetype": "text/x-python",
            "name": "python",
            "nbconvert_exporter": "python",
            "pygments_lexer": "ipython3",
            "version": "3.7.2"
        }
    },
    "cells": [
        {
            "cell_type": "markdown",
            "source": [
                "<h1>Max Area of Island</h1>",
                "<p>Given a non-empty 2D array <code>grid</code> of 0&#39;s and 1&#39;s, an <b>island</b> is a group of <code>1</code>&#39;s (representing land) connected 4-directionally (horizontal or vertical.) You may assume all four edges of the grid are surrounded by water.</p><div></div>",
                "<div></div>",
                "<p>Find the maximum area of an island in the given 2D array. (If there is no island, the maximum area is 0.)</p><div></div>",
                "<div></div>",
                "<p><b>Example 1:</b></p><div></div>",
                "<div></div>",
                "<pre><div></div>",
                "[[0,0,1,0,0,0,0,1,0,0,0,0,0],<div></div>",
                " [0,0,0,0,0,0,0,1,1,1,0,0,0],<div></div>",
                " [0,1,1,0,1,0,0,0,0,0,0,0,0],<div></div>",
                " [0,1,0,0,1,1,0,0,<b>1</b>,0,<b>1</b>,0,0],<div></div>",
                " [0,1,0,0,1,1,0,0,<b>1</b>,<b>1</b>,<b>1</b>,0,0],<div></div>",
                " [0,0,0,0,0,0,0,0,0,0,<b>1</b>,0,0],<div></div>",
                " [0,0,0,0,0,0,0,1,1,1,0,0,0],<div></div>",
                " [0,0,0,0,0,0,0,1,1,0,0,0,0]]<div></div>",
                "</pre><div></div>",
                "Given the above grid, return <code>6</code>. Note the answer is not 11, because the island must be connected 4-directionally.<div></div>",
                "<div></div>",
                "<p><b>Example 2:</b></p><div></div>",
                "<div></div>",
                "<pre><div></div>",
                "[[0,0,0,0,0,0,0,0]]</pre><div></div>",
                "Given the above grid, return <code>0</code>.<div></div>",
                "<div></div>",
                "<p><b>Note:</b> The length of each dimension in the given <code>grid</code> does not exceed 50.</p><div></div>",
                "<div></div>"
            ],
            "metadata": {}
        },
        {
            "cell_type": "code",
            "metadata": {},
            "execution_count": null,
            "source": "%%writefile max_area_of_island.py\nclass Solution:\n    def maxAreaOfIsland(self, grid):\n        \"\"\"\n        :type grid: List[List[int]]\n        :rtype: int\n        \"\"\"",
            "outputs": []
        },
        {
            "cell_type": "code",
            "metadata": {},
            "execution_count": null,
            "source": "# submit\n%run ../../cli.py push --method=submit --path=max_area_of_island.py --clean=True",
            "outputs": []
        }
    ]
}