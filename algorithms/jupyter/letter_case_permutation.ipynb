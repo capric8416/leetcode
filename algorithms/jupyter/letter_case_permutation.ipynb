{
    "nbformat": 4,
    "nbformat_minor": 2,
    "metadata": {
        "kernelspec": {
            "display_name": "Python 3",
            "language": "python",
            "name": "python3"
        },
        "language_info": {
            "codemirror_mode": {
                "name": "ipython",
                "version": 3
            },
            "file_extension": ".py",
            "mimetype": "text/x-python",
            "name": "python",
            "nbconvert_exporter": "python",
            "pygments_lexer": "ipython3",
            "version": "3.7.2"
        }
    },
    "cells": [
        {
            "cell_type": "markdown",
            "source": [
                "<h1>Letter Case Permutation</h1>",
                "<p>Given a string S, we can transform every letter individually&nbsp;to be lowercase or uppercase to create another string.&nbsp; Return a list of all possible strings we could create.</p><div></div>",
                "<div></div>",
                "<pre><div></div>",
                "<strong>Examples:</strong><div></div>",
                "<strong>Input:</strong> S = &quot;a1b2&quot;<div></div>",
                "<strong>Output:</strong> [&quot;a1b2&quot;, &quot;a1B2&quot;, &quot;A1b2&quot;, &quot;A1B2&quot;]<div></div>",
                "<div></div>",
                "<strong>Input:</strong> S = &quot;3z4&quot;<div></div>",
                "<strong>Output:</strong> [&quot;3z4&quot;, &quot;3Z4&quot;]<div></div>",
                "<div></div>",
                "<strong>Input:</strong> S = &quot;12345&quot;<div></div>",
                "<strong>Output:</strong> [&quot;12345&quot;]<div></div>",
                "</pre><div></div>",
                "<div></div>",
                "<p><strong>Note:</strong></p><div></div>",
                "<div></div>",
                "<ul><div></div>",
                "\t<li><code>S</code> will be a string with length between <code>1</code> and <code>12</code>.</li><div></div>",
                "\t<li><code>S</code> will consist only of letters or digits.</li><div></div>",
                "</ul><div></div>",
                "<div></div>"
            ],
            "metadata": {}
        },
        {
            "cell_type": "code",
            "metadata": {},
            "execution_count": null,
            "source": "%%writefile letter_case_permutation.py\nclass Solution:\n    def letterCasePermutation(self, S):\n        \"\"\"\n        :type S: str\n        :rtype: List[str]\n        \"\"\"",
            "outputs": []
        },
        {
            "cell_type": "code",
            "metadata": {},
            "execution_count": null,
            "source": "# submit\n%run ../../cli.py push --method=submit --path=letter_case_permutation.py --clean=True",
            "outputs": []
        }
    ]
}