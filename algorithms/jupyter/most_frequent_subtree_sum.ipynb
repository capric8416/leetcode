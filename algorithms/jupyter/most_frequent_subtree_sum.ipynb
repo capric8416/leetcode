{
    "nbformat": 4,
    "nbformat_minor": 2,
    "metadata": {
        "kernelspec": {
            "display_name": "Python 3",
            "language": "python",
            "name": "python3"
        },
        "language_info": {
            "codemirror_mode": {
                "name": "ipython",
                "version": 3
            },
            "file_extension": ".py",
            "mimetype": "text/x-python",
            "name": "python",
            "nbconvert_exporter": "python",
            "pygments_lexer": "ipython3",
            "version": "3.7.2"
        }
    },
    "cells": [
        {
            "cell_type": "markdown",
            "source": [
                "<h1>Most Frequent Subtree Sum</h1>",
                "<p><div></div>",
                "Given the root of a tree, you are asked to find the most frequent subtree sum. The subtree sum of a node is defined as the sum of all the node values formed by the subtree rooted at that node (including the node itself). So what is the most frequent subtree sum value? If there is a tie, return all the values with the highest frequency in any order.<div></div>",
                "</p><div></div>",
                "<div></div>",
                "<p><b>Examples 1</b><br><div></div>",
                "Input:<div></div>",
                "<pre><div></div>",
                "  5<div></div>",
                " /  \\<div></div>",
                "2   -3<div></div>",
                "</pre><div></div>",
                "return [2, -3, 4], since all the values happen only once, return all of them in any order.<div></div>",
                "</p><div></div>",
                "<div></div>",
                "<p><b>Examples 2</b><br><div></div>",
                "Input:<div></div>",
                "<pre><div></div>",
                "  5<div></div>",
                " /  \\<div></div>",
                "2   -5<div></div>",
                "</pre><div></div>",
                "return [2], since 2 happens twice, however -5 only occur once.<div></div>",
                "</p><div></div>",
                "<div></div>",
                "<p><b>Note:</b><div></div>",
                "You may assume the sum of values in any subtree is in the range of 32-bit signed integer.<div></div>",
                "</p><div></div>"
            ],
            "metadata": {}
        },
        {
            "cell_type": "code",
            "metadata": {},
            "execution_count": null,
            "source": "%%writefile most_frequent_subtree_sum.py\n# Definition for a binary tree node.\n# class TreeNode:\n#     def __init__(self, x):\n#         self.val = x\n#         self.left = None\n#         self.right = None\n\nclass Solution:\n    def findFrequentTreeSum(self, root):\n        \"\"\"\n        :type root: TreeNode\n        :rtype: List[int]\n        \"\"\"",
            "outputs": []
        },
        {
            "cell_type": "code",
            "metadata": {},
            "execution_count": null,
            "source": "# submit\n%run ../../cli.py push --method=submit --path=most_frequent_subtree_sum.py --clean=True",
            "outputs": []
        }
    ]
}