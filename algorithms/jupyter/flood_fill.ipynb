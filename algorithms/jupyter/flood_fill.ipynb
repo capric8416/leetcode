{
    "nbformat": 4,
    "nbformat_minor": 2,
    "metadata": {
        "kernelspec": {
            "display_name": "Python 3",
            "language": "python",
            "name": "python3"
        },
        "language_info": {
            "codemirror_mode": {
                "name": "ipython",
                "version": 3
            },
            "file_extension": ".py",
            "mimetype": "text/x-python",
            "name": "python",
            "nbconvert_exporter": "python",
            "pygments_lexer": "ipython3",
            "version": "3.7.2"
        }
    },
    "cells": [
        {
            "cell_type": "markdown",
            "source": [
                "<h1>Flood Fill</h1>",
                "<p><div></div>",
                "An <code>image</code> is represented by a 2-D array of integers, each integer representing the pixel value of the image (from 0 to 65535).<div></div>",
                "</p><p><div></div>",
                "Given a coordinate <code>(sr, sc)</code> representing the starting pixel (row and column) of the flood fill, and a pixel value <code>newColor</code>, \"flood fill\" the image.<div></div>",
                "</p><p><div></div>",
                "To perform a \"flood fill\", consider the starting pixel, plus any pixels connected 4-directionally to the starting pixel of the same color as the starting pixel, plus any pixels connected 4-directionally to those pixels (also with the same color as the starting pixel), and so on.  Replace the color of all of the aforementioned pixels with the newColor.<div></div>",
                "</p><p><div></div>",
                "At the end, return the modified image.<div></div>",
                "</p><div></div>",
                "<p><b>Example 1:</b><br /><div></div>",
                "<pre><div></div>",
                "<b>Input:</b> <div></div>",
                "image = [[1,1,1],[1,1,0],[1,0,1]]<div></div>",
                "sr = 1, sc = 1, newColor = 2<div></div>",
                "<b>Output:</b> [[2,2,2],[2,2,0],[2,0,1]]<div></div>",
                "<b>Explanation:</b> <div></div>",
                "From the center of the image (with position (sr, sc) = (1, 1)), all pixels connected <div></div>",
                "by a path of the same color as the starting pixel are colored with the new color.<div></div>",
                "Note the bottom corner is not colored 2, because it is not 4-directionally connected<div></div>",
                "to the starting pixel.<div></div>",
                "</pre><div></div>",
                "</p><div></div>",
                "<div></div>",
                "<p><b>Note:</b><div></div>",
                "<li>The length of <code>image</code> and <code>image[0]</code> will be in the range <code>[1, 50]</code>.</li><div></div>",
                "<li>The given starting pixel will satisfy <code>0 <= sr < image.length</code> and <code>0 <= sc < image[0].length</code>.</li><div></div>",
                "<li>The value of each color in <code>image[i][j]</code> and <code>newColor</code> will be an integer in <code>[0, 65535]</code>.</li><div></div>",
                "</p><div></div>"
            ],
            "metadata": {}
        },
        {
            "cell_type": "code",
            "metadata": {},
            "execution_count": null,
            "source": "%%writefile flood_fill.py\nclass Solution:\n    def floodFill(self, image, sr, sc, newColor):\n        \"\"\"\n        :type image: List[List[int]]\n        :type sr: int\n        :type sc: int\n        :type newColor: int\n        :rtype: List[List[int]]\n        \"\"\"",
            "outputs": []
        },
        {
            "cell_type": "code",
            "metadata": {},
            "execution_count": null,
            "source": "# submit\n%run ../../cli.py push --method=submit --path=flood_fill.py --clean=True",
            "outputs": []
        }
    ]
}