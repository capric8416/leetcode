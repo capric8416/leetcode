{
    "nbformat": 4,
    "nbformat_minor": 2,
    "metadata": {
        "kernelspec": {
            "display_name": "Python 3",
            "language": "python",
            "name": "python3"
        },
        "language_info": {
            "codemirror_mode": {
                "name": "ipython",
                "version": 3
            },
            "file_extension": ".py",
            "mimetype": "text/x-python",
            "name": "python",
            "nbconvert_exporter": "python",
            "pygments_lexer": "ipython3",
            "version": "3.7.2"
        }
    },
    "cells": [
        {
            "cell_type": "markdown",
            "source": [
                "<h1>Unique Letter String</h1>",
                "<p>A character is unique in string <code>S</code> if it occurs exactly once in it.</p><div></div>",
                "<div></div>",
                "<p>For example, in string <code>S = &quot;LETTER&quot;</code>, the only unique characters are <code>&quot;L&quot;</code> and <code>&quot;R&quot;</code>.</p><div></div>",
                "<div></div>",
                "<p>Let&#39;s define <code>UNIQ(S)</code> as the number of unique characters in string <code>S</code>.</p><div></div>",
                "<div></div>",
                "<p>For example, <code>UNIQ(&quot;LETTER&quot;) =&nbsp; 2</code>.</p><div></div>",
                "<div></div>",
                "<p>Given a string <code>S</code> with only uppercases, calculate the sum of <code>UNIQ(substring)</code> over all non-empty substrings of <code>S</code>.</p><div></div>",
                "<div></div>",
                "<p>If there are two or more equal substrings at different positions in <code>S</code>, we consider them different.</p><div></div>",
                "<div></div>",
                "<p>Since the answer can be very large, return&nbsp;the answer&nbsp;modulo&nbsp;<code>10 ^ 9 + 7</code>.</p><div></div>",
                "<div></div>",
                "<p>&nbsp;</p><div></div>",
                "<div></div>",
                "<p><strong>Example 1:</strong></p><div></div>",
                "<div></div>",
                "<pre><div></div>",
                "<strong>Input: </strong>&quot;ABC&quot;<div></div>",
                "<strong>Output: </strong>10<div></div>",
                "<strong>Explanation: </strong>All possible substrings are: &quot;A&quot;,&quot;B&quot;,&quot;C&quot;,&quot;AB&quot;,&quot;BC&quot; and &quot;ABC&quot;.<div></div>",
                "Evey substring is composed with only unique letters.<div></div>",
                "Sum of lengths of all substring is 1 + 1 + 1 + 2 + 2 + 3 = 10</pre><div></div>",
                "<div></div>",
                "<p><strong>Example 2:</strong></p><div></div>",
                "<div></div>",
                "<pre><div></div>",
                "<strong>Input: </strong>&quot;ABA&quot;<div></div>",
                "<strong>Output: </strong>8<div></div>",
                "<strong>Explanation: </strong>The same as example 1, except uni(&quot;ABA&quot;) = 1.<div></div>",
                "</pre><div></div>",
                "<div></div>",
                "<p>&nbsp;</p><div></div>",
                "<div></div>",
                "<p><strong>Note:</strong> <code>0 &lt;= S.length &lt;= 10000</code>.</p><div></div>",
                "<div></div>"
            ],
            "metadata": {}
        },
        {
            "cell_type": "code",
            "metadata": {},
            "execution_count": null,
            "source": "%%writefile unique_letter_string.py\nclass Solution:\n    def uniqueLetterString(self, S):\n        \"\"\"\n        :type S: str\n        :rtype: int\n        \"\"\"",
            "outputs": []
        },
        {
            "cell_type": "code",
            "metadata": {},
            "execution_count": null,
            "source": "# submit\n%run ../../cli.py push --method=submit --path=unique_letter_string.py --clean=True",
            "outputs": []
        }
    ]
}