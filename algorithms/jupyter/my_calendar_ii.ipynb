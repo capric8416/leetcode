{
    "nbformat": 4,
    "nbformat_minor": 2,
    "metadata": {
        "kernelspec": {
            "display_name": "Python 3",
            "language": "python",
            "name": "python3"
        },
        "language_info": {
            "codemirror_mode": {
                "name": "ipython",
                "version": 3
            },
            "file_extension": ".py",
            "mimetype": "text/x-python",
            "name": "python",
            "nbconvert_exporter": "python",
            "pygments_lexer": "ipython3",
            "version": "3.7.2"
        }
    },
    "cells": [
        {
            "cell_type": "markdown",
            "source": [
                "<h1>My Calendar II</h1>",
                "<p><div></div>",
                "Implement a <code>MyCalendarTwo</code> class to store your events. A new event can be added if adding the event will not cause a <b>triple</b> booking.<div></div>",
                "</p><p><div></div>",
                "Your class will have one method, <code>book(int start, int end)</code>.  Formally, this represents a booking on the half open interval <code>[start, end)</code>, the range of real numbers <code>x</code> such that <code>start <= x < end</code>.<div></div>",
                "</p><p><div></div>",
                "A <i>triple booking</i> happens when <b>three</b> events have some non-empty intersection (ie., there is some time that is common to all 3 events.)<div></div>",
                "</p><p><div></div>",
                "For each call to the method <code>MyCalendar.book</code>, return <code>true</code> if the event can be added to the calendar successfully without causing a <b>triple</b> booking.  Otherwise, return <code>false</code> and do not add the event to the calendar.<div></div>",
                "</p><div></div>",
                "<div></div>",
                "Your class will be called like this:<div></div>",
                "<code>MyCalendar cal = new MyCalendar();</code><div></div>",
                "<code>MyCalendar.book(start, end)</code><div></div>",
                "<div></div>",
                "<p><b>Example 1:</b><br /><div></div>",
                "<pre><div></div>",
                "MyCalendar();<div></div>",
                "MyCalendar.book(10, 20); // returns true<div></div>",
                "MyCalendar.book(50, 60); // returns true<div></div>",
                "MyCalendar.book(10, 40); // returns true<div></div>",
                "MyCalendar.book(5, 15); // returns false<div></div>",
                "MyCalendar.book(5, 10); // returns true<div></div>",
                "MyCalendar.book(25, 55); // returns true<div></div>",
                "<b>Explanation:</b> <div></div>",
                "The first two events can be booked.  The third event can be double booked.<div></div>",
                "The fourth event (5, 15) can't be booked, because it would result in a triple booking.<div></div>",
                "The fifth event (5, 10) can be booked, as it does not use time 10 which is already double booked.<div></div>",
                "The sixth event (25, 55) can be booked, as the time in [25, 40) will be double booked with the third event;<div></div>",
                "the time [40, 50) will be single booked, and the time [50, 55) will be double booked with the second event.<div></div>",
                "</pre><div></div>",
                "</p><div></div>",
                "<div></div>",
                "<p><b>Note:</b><div></div>",
                "<li>The number of calls to <code>MyCalendar.book</code> per test case will be at most <code>1000</code>.</li><div></div>",
                "<li>In calls to <code>MyCalendar.book(start, end)</code>, <code>start</code> and <code>end</code> are integers in the range <code>[0, 10^9]</code>.</li><div></div>",
                "</p><div></div>"
            ],
            "metadata": {}
        },
        {
            "cell_type": "code",
            "metadata": {},
            "execution_count": null,
            "source": "%%writefile my_calendar_ii.py\nclass MyCalendarTwo:\n\n    def __init__(self):\n        \n\n    def book(self, start, end):\n        \"\"\"\n        :type start: int\n        :type end: int\n        :rtype: bool\n        \"\"\"\n        \n\n\n# Your MyCalendarTwo object will be instantiated and called as such:\n# obj = MyCalendarTwo()\n# param_1 = obj.book(start,end)",
            "outputs": []
        },
        {
            "cell_type": "code",
            "metadata": {},
            "execution_count": null,
            "source": "# submit\n%run ../../cli.py push --method=submit --path=my_calendar_ii.py --clean=True",
            "outputs": []
        }
    ]
}