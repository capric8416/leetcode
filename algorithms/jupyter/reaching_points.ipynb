{
    "nbformat": 4,
    "nbformat_minor": 2,
    "metadata": {
        "kernelspec": {
            "display_name": "Python 3",
            "language": "python",
            "name": "python3"
        },
        "language_info": {
            "codemirror_mode": {
                "name": "ipython",
                "version": 3
            },
            "file_extension": ".py",
            "mimetype": "text/x-python",
            "name": "python",
            "nbconvert_exporter": "python",
            "pygments_lexer": "ipython3",
            "version": "3.7.2"
        }
    },
    "cells": [
        {
            "cell_type": "markdown",
            "source": [
                "<h1>Reaching Points</h1>",
                "<p>A move consists of taking a point <code>(x, y)</code> and transforming it to either <code>(x, x+y)</code> or <code>(x+y, y)</code>.</p><div></div>",
                "<div></div>",
                "<p>Given a starting point <code>(sx, sy)</code> and a target point <code>(tx, ty)</code>, return <code>True</code> if and only if a sequence of moves exists to transform the point <code>(sx, sy)</code> to <code>(tx, ty)</code>. Otherwise, return <code>False</code>.</p><div></div>",
                "<div></div>",
                "<pre><div></div>",
                "<strong>Examples:</strong><div></div>",
                "<strong>Input:</strong> sx = 1, sy = 1, tx = 3, ty = 5<div></div>",
                "<strong>Output:</strong> True<div></div>",
                "<strong>Explanation:</strong><div></div>",
                "One series of moves that transforms the starting point to the target is:<div></div>",
                "(1, 1) -&gt; (1, 2)<div></div>",
                "(1, 2) -&gt; (3, 2)<div></div>",
                "(3, 2) -&gt; (3, 5)<div></div>",
                "<div></div>",
                "<strong>Input:</strong> sx = 1, sy = 1, tx = 2, ty = 2<div></div>",
                "<strong>Output:</strong> False<div></div>",
                "<div></div>",
                "<strong>Input:</strong> sx = 1, sy = 1, tx = 1, ty = 1<div></div>",
                "<strong>Output:</strong> True<div></div>",
                "<div></div>",
                "</pre><div></div>",
                "<div></div>",
                "<p><strong>Note:</strong></p><div></div>",
                "<div></div>",
                "<ul><div></div>",
                "\t<li><code>sx, sy, tx, ty</code> will all be integers in the range <code>[1, 10^9]</code>.</li><div></div>",
                "</ul><div></div>",
                "<div></div>"
            ],
            "metadata": {}
        },
        {
            "cell_type": "code",
            "metadata": {},
            "execution_count": null,
            "source": "%%writefile reaching_points.py\nclass Solution:\n    def reachingPoints(self, sx, sy, tx, ty):\n        \"\"\"\n        :type sx: int\n        :type sy: int\n        :type tx: int\n        :type ty: int\n        :rtype: bool\n        \"\"\"",
            "outputs": []
        },
        {
            "cell_type": "code",
            "metadata": {},
            "execution_count": null,
            "source": "# submit\n%run ../../cli.py push --method=submit --path=reaching_points.py --clean=True",
            "outputs": []
        }
    ]
}