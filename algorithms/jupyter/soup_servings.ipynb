{
    "nbformat": 4,
    "nbformat_minor": 2,
    "metadata": {
        "kernelspec": {
            "display_name": "Python 3",
            "language": "python",
            "name": "python3"
        },
        "language_info": {
            "codemirror_mode": {
                "name": "ipython",
                "version": 3
            },
            "file_extension": ".py",
            "mimetype": "text/x-python",
            "name": "python",
            "nbconvert_exporter": "python",
            "pygments_lexer": "ipython3",
            "version": "3.7.2"
        }
    },
    "cells": [
        {
            "cell_type": "markdown",
            "source": [
                "<h1>Soup Servings</h1>",
                "<p>There are two types of soup: type A and type B. Initially we have <code>N</code> ml of each type of soup. There are four kinds of operations:</p><div></div>",
                "<div></div>",
                "<ol><div></div>",
                "\t<li>Serve&nbsp;100 ml of soup A and 0 ml of soup B</li><div></div>",
                "\t<li>Serve&nbsp;75 ml of soup A and 25&nbsp;ml of soup B</li><div></div>",
                "\t<li>Serve 50 ml of soup A and 50 ml of soup B</li><div></div>",
                "\t<li>Serve 25&nbsp;ml of soup A and 75&nbsp;ml of soup B</li><div></div>",
                "</ol><div></div>",
                "<div></div>",
                "<p>When we serve some soup, we give it to someone and we no longer have it.&nbsp; Each turn,&nbsp;we will choose from the four operations with equal probability 0.25. If the remaining volume of soup is not enough to complete the operation, we will serve&nbsp;as much as we can.&nbsp; We stop once we no longer have some quantity of both types of soup.</p><div></div>",
                "<div></div>",
                "<p>Note that we do not have the operation where all 100 ml&#39;s of soup B are used first.&nbsp;&nbsp;</p><div></div>",
                "<div></div>",
                "<p>Return the probability that soup A will be empty&nbsp;first, plus half the probability that A and B become empty at the same time.</p><div></div>",
                "<div></div>",
                "<p>&nbsp;</p><div></div>",
                "<div></div>",
                "<pre><div></div>",
                "<strong>Example:</strong><div></div>",
                "<strong>Input:</strong> N = 50<div></div>",
                "<strong>Output:</strong> 0.625<div></div>",
                "<strong>Explanation:</strong> <div></div>",
                "If we choose the first two operations, A will become empty first. For the third operation, A and B will become empty at the same time. For the fourth operation, B will become empty first. So the total probability of A becoming empty first plus half the probability that A and B become empty at the same time, is 0.25 * (1 + 1 + 0.5 + 0) = 0.625.<div></div>",
                "<div></div>",
                "</pre><div></div>",
                "<div></div>",
                "<p><strong>Notes: </strong></p><div></div>",
                "<div></div>",
                "<ul><div></div>",
                "\t<li><code>0 &lt;= N &lt;= 10^9</code>.&nbsp;</li><div></div>",
                "\t<li>Answers within&nbsp;<code>10^-6</code>&nbsp;of the true value will be accepted as correct.</li><div></div>",
                "</ul><div></div>",
                "<div></div>"
            ],
            "metadata": {}
        },
        {
            "cell_type": "code",
            "metadata": {},
            "execution_count": null,
            "source": "%%writefile soup_servings.py\nclass Solution:\n    def soupServings(self, N):\n        \"\"\"\n        :type N: int\n        :rtype: float\n        \"\"\"",
            "outputs": []
        },
        {
            "cell_type": "code",
            "metadata": {},
            "execution_count": null,
            "source": "# submit\n%run ../../cli.py push --method=submit --path=soup_servings.py --clean=True",
            "outputs": []
        }
    ]
}