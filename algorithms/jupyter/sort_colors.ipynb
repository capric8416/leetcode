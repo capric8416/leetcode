{
    "nbformat": 4,
    "nbformat_minor": 2,
    "metadata": {
        "kernelspec": {
            "display_name": "Python 3",
            "language": "python",
            "name": "python3"
        },
        "language_info": {
            "codemirror_mode": {
                "name": "ipython",
                "version": 3
            },
            "file_extension": ".py",
            "mimetype": "text/x-python",
            "name": "python",
            "nbconvert_exporter": "python",
            "pygments_lexer": "ipython3",
            "version": "3.7.2"
        }
    },
    "cells": [
        {
            "cell_type": "markdown",
            "source": [
                "<h1>Sort Colors</h1>",
                "<p>Given an array with <em>n</em> objects colored red, white or blue, sort them <strong><a href=\"https://en.wikipedia.org/wiki/In-place_algorithm\" target=\"_blank\">in-place</a>&nbsp;</strong>so that objects of the same color are adjacent, with the colors in the order red, white and blue.</p><div></div>",
                "<div></div>",
                "<p>Here, we will use the integers 0, 1, and 2 to represent the color red, white, and blue respectively.</p><div></div>",
                "<div></div>",
                "<p><strong>Note:</strong>&nbsp;You are not suppose to use the library&#39;s sort function for this problem.</p><div></div>",
                "<div></div>",
                "<p><strong>Example:</strong></p><div></div>",
                "<div></div>",
                "<pre><div></div>",
                "<strong>Input:</strong> [2,0,2,1,1,0]<div></div>",
                "<strong>Output:</strong> [0,0,1,1,2,2]</pre><div></div>",
                "<div></div>",
                "<p><strong>Follow up:</strong></p><div></div>",
                "<div></div>",
                "<ul><div></div>",
                "\t<li>A rather straight forward solution is a two-pass algorithm using counting sort.<br /><div></div>",
                "\tFirst, iterate the array counting number of 0&#39;s, 1&#39;s, and 2&#39;s, then overwrite array with total number of 0&#39;s, then 1&#39;s and followed by 2&#39;s.</li><div></div>",
                "\t<li>Could you come up with a&nbsp;one-pass algorithm using only constant space?</li><div></div>",
                "</ul><div></div>",
                "<div></div>"
            ],
            "metadata": {}
        },
        {
            "cell_type": "code",
            "metadata": {},
            "execution_count": null,
            "source": "%%writefile sort_colors.py\nclass Solution:\n    def sortColors(self, nums):\n        \"\"\"\n        :type nums: List[int]\n        :rtype: void Do not return anything, modify nums in-place instead.\n        \"\"\"",
            "outputs": []
        },
        {
            "cell_type": "code",
            "metadata": {},
            "execution_count": null,
            "source": "# submit\n%run ../../cli.py push --method=submit --path=sort_colors.py --clean=True",
            "outputs": []
        }
    ]
}