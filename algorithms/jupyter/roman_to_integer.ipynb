{
    "nbformat": 4,
    "nbformat_minor": 2,
    "metadata": {
        "kernelspec": {
            "display_name": "Python 3",
            "language": "python",
            "name": "python3"
        },
        "language_info": {
            "codemirror_mode": {
                "name": "ipython",
                "version": 3
            },
            "file_extension": ".py",
            "mimetype": "text/x-python",
            "name": "python",
            "nbconvert_exporter": "python",
            "pygments_lexer": "ipython3",
            "version": "3.7.2"
        }
    },
    "cells": [
        {
            "cell_type": "markdown",
            "source": [
                "<h1>Roman to Integer</h1>",
                "<p>Roman numerals are represented by seven different symbols:&nbsp;<code>I</code>, <code>V</code>, <code>X</code>, <code>L</code>, <code>C</code>, <code>D</code> and <code>M</code>.</p><div></div>",
                "<div></div>",
                "<pre><div></div>",
                "<strong>Symbol</strong>       <strong>Value</strong><div></div>",
                "I             1<div></div>",
                "V             5<div></div>",
                "X             10<div></div>",
                "L             50<div></div>",
                "C             100<div></div>",
                "D             500<div></div>",
                "M             1000</pre><div></div>",
                "<div></div>",
                "<p>For example,&nbsp;two is written as <code>II</code>&nbsp;in Roman numeral, just two one&#39;s added together. Twelve is written as, <code>XII</code>, which is simply <code>X</code> + <code>II</code>. The number twenty seven is written as <code>XXVII</code>, which is <code>XX</code> + <code>V</code> + <code>II</code>.</p><div></div>",
                "<div></div>",
                "<p>Roman numerals are usually written largest to smallest from left to right. However, the numeral for four is not <code>IIII</code>. Instead, the number four is written as <code>IV</code>. Because the one is before the five we subtract it making four. The same principle applies to the number nine, which is written as <code>IX</code>. There are six instances where subtraction is used:</p><div></div>",
                "<div></div>",
                "<ul><div></div>",
                "\t<li><code>I</code> can be placed before <code>V</code> (5) and <code>X</code> (10) to make 4 and 9.&nbsp;</li><div></div>",
                "\t<li><code>X</code> can be placed before <code>L</code> (50) and <code>C</code> (100) to make 40 and 90.&nbsp;</li><div></div>",
                "\t<li><code>C</code> can be placed before <code>D</code> (500) and <code>M</code> (1000) to make 400 and 900.</li><div></div>",
                "</ul><div></div>",
                "<div></div>",
                "<p>Given a roman numeral, convert it to an integer. Input is guaranteed to be within the range from 1 to 3999.</p><div></div>",
                "<div></div>",
                "<p><strong>Example 1:</strong></p><div></div>",
                "<div></div>",
                "<pre><div></div>",
                "<strong>Input:</strong>&nbsp;&quot;III&quot;<div></div>",
                "<strong>Output:</strong> 3</pre><div></div>",
                "<div></div>",
                "<p><strong>Example 2:</strong></p><div></div>",
                "<div></div>",
                "<pre><div></div>",
                "<strong>Input:</strong>&nbsp;&quot;IV&quot;<div></div>",
                "<strong>Output:</strong> 4</pre><div></div>",
                "<div></div>",
                "<p><strong>Example 3:</strong></p><div></div>",
                "<div></div>",
                "<pre><div></div>",
                "<strong>Input:</strong>&nbsp;&quot;IX&quot;<div></div>",
                "<strong>Output:</strong> 9</pre><div></div>",
                "<div></div>",
                "<p><strong>Example 4:</strong></p><div></div>",
                "<div></div>",
                "<pre><div></div>",
                "<strong>Input:</strong>&nbsp;&quot;LVIII&quot;<div></div>",
                "<strong>Output:</strong> 58<div></div>",
                "<strong>Explanation:</strong> L = 50, V= 5, III = 3.<div></div>",
                "</pre><div></div>",
                "<div></div>",
                "<p><strong>Example 5:</strong></p><div></div>",
                "<div></div>",
                "<pre><div></div>",
                "<strong>Input:</strong>&nbsp;&quot;MCMXCIV&quot;<div></div>",
                "<strong>Output:</strong> 1994<div></div>",
                "<strong>Explanation:</strong> M = 1000, CM = 900, XC = 90 and IV = 4.</pre><div></div>",
                "<div></div>"
            ],
            "metadata": {}
        },
        {
            "cell_type": "code",
            "metadata": {},
            "execution_count": null,
            "source": "%%writefile roman_to_integer.py\nclass Solution:\n    def romanToInt(self, s):\n        \"\"\"\n        :type s: str\n        :rtype: int\n        \"\"\"",
            "outputs": []
        },
        {
            "cell_type": "code",
            "metadata": {},
            "execution_count": null,
            "source": "# submit\n%run ../../cli.py push --method=submit --path=roman_to_integer.py --clean=True",
            "outputs": []
        }
    ]
}