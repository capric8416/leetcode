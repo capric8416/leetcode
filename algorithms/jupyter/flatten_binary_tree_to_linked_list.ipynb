{
    "nbformat": 4,
    "nbformat_minor": 2,
    "metadata": {
        "kernelspec": {
            "display_name": "Python 3",
            "language": "python",
            "name": "python3"
        },
        "language_info": {
            "codemirror_mode": {
                "name": "ipython",
                "version": 3
            },
            "file_extension": ".py",
            "mimetype": "text/x-python",
            "name": "python",
            "nbconvert_exporter": "python",
            "pygments_lexer": "ipython3",
            "version": "3.7.2"
        }
    },
    "cells": [
        {
            "cell_type": "markdown",
            "source": [
                "<h1>Flatten Binary Tree to Linked List</h1>",
                "<p>Given a binary tree, flatten it to a linked list in-place.</p><div></div>",
                "<div></div>",
                "<p>For example, given the following tree:</p><div></div>",
                "<div></div>",
                "<pre><div></div>",
                "    1<div></div>",
                "   / \\<div></div>",
                "  2   5<div></div>",
                " / \\   \\<div></div>",
                "3   4   6<div></div>",
                "</pre><div></div>",
                "<div></div>",
                "<p>The flattened tree should look like:</p><div></div>",
                "<div></div>",
                "<pre><div></div>",
                "1<div></div>",
                " \\<div></div>",
                "  2<div></div>",
                "   \\<div></div>",
                "    3<div></div>",
                "     \\<div></div>",
                "      4<div></div>",
                "       \\<div></div>",
                "        5<div></div>",
                "         \\<div></div>",
                "          6<div></div>",
                "</pre><div></div>",
                "<div></div>"
            ],
            "metadata": {}
        },
        {
            "cell_type": "code",
            "metadata": {},
            "execution_count": null,
            "source": "%%writefile flatten_binary_tree_to_linked_list.py\n# Definition for a binary tree node.\n# class TreeNode:\n#     def __init__(self, x):\n#         self.val = x\n#         self.left = None\n#         self.right = None\n\nclass Solution:\n    def flatten(self, root):\n        \"\"\"\n        :type root: TreeNode\n        :rtype: void Do not return anything, modify root in-place instead.\n        \"\"\"",
            "outputs": []
        },
        {
            "cell_type": "code",
            "metadata": {},
            "execution_count": null,
            "source": "# submit\n%run ../../cli.py push --method=submit --path=flatten_binary_tree_to_linked_list.py --clean=True",
            "outputs": []
        }
    ]
}