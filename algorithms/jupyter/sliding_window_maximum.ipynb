{
    "nbformat": 4,
    "nbformat_minor": 2,
    "metadata": {
        "kernelspec": {
            "display_name": "Python 3",
            "language": "python",
            "name": "python3"
        },
        "language_info": {
            "codemirror_mode": {
                "name": "ipython",
                "version": 3
            },
            "file_extension": ".py",
            "mimetype": "text/x-python",
            "name": "python",
            "nbconvert_exporter": "python",
            "pygments_lexer": "ipython3",
            "version": "3.7.2"
        }
    },
    "cells": [
        {
            "cell_type": "markdown",
            "source": [
                "<h1>Sliding Window Maximum</h1>",
                "<p>Given an array <em>nums</em>, there is a sliding window of size <em>k</em> which is moving from the very left of the array to the very right. You can only see the <em>k</em> numbers in the window. Each time the sliding window moves right by one position. Return the max sliding window.</p><div></div>",
                "<div></div>",
                "<p><strong>Example:</strong></p><div></div>",
                "<div></div>",
                "<pre><div></div>",
                "<strong>Input:</strong> <em>nums</em> = <code>[1,3,-1,-3,5,3,6,7]</code>, and <em>k</em> = 3<div></div>",
                "<strong>Output: </strong><code>[3,3,5,5,6,7] <div></div>",
                "<strong>Explanation: <div></div>",
                "</strong></code><div></div>",
                "Window position                Max<div></div>",
                "---------------               -----<div></div>",
                "[1  3  -1] -3  5  3  6  7       <strong>3</strong><div></div>",
                " 1 [3  -1  -3] 5  3  6  7       <strong>3</strong><div></div>",
                " 1  3 [-1  -3  5] 3  6  7      <strong> 5</strong><div></div>",
                " 1  3  -1 [-3  5  3] 6  7       <strong>5</strong><div></div>",
                " 1  3  -1  -3 [5  3  6] 7       <strong>6</strong><div></div>",
                " 1  3  -1  -3  5 [3  6  7]      <strong>7</strong><div></div>",
                "</pre><div></div>",
                "<div></div>",
                "<p><strong>Note: </strong><br /><div></div>",
                "You may assume <em>k</em> is always valid, 1 &le; k &le; input array&#39;s size for non-empty array.</p><div></div>",
                "<div></div>",
                "<p><strong>Follow up:</strong><br /><div></div>",
                "Could you solve it in linear time?</p><div></div>",
                "<div></div>"
            ],
            "metadata": {}
        },
        {
            "cell_type": "code",
            "metadata": {},
            "execution_count": null,
            "source": "%%writefile sliding_window_maximum.py\nclass Solution:\n    def maxSlidingWindow(self, nums, k):\n        \"\"\"\n        :type nums: List[int]\n        :type k: int\n        :rtype: List[int]\n        \"\"\"",
            "outputs": []
        },
        {
            "cell_type": "code",
            "metadata": {},
            "execution_count": null,
            "source": "# submit\n%run ../../cli.py push --method=submit --path=sliding_window_maximum.py --clean=True",
            "outputs": []
        }
    ]
}