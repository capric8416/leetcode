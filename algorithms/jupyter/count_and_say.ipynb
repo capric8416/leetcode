{
    "nbformat": 4,
    "nbformat_minor": 2,
    "metadata": {
        "kernelspec": {
            "display_name": "Python 3",
            "language": "python",
            "name": "python3"
        },
        "language_info": {
            "codemirror_mode": {
                "name": "ipython",
                "version": 3
            },
            "file_extension": ".py",
            "mimetype": "text/x-python",
            "name": "python",
            "nbconvert_exporter": "python",
            "pygments_lexer": "ipython3",
            "version": "3.7.2"
        }
    },
    "cells": [
        {
            "cell_type": "markdown",
            "source": [
                "<h1>Count and Say</h1>",
                "<p>The count-and-say sequence is the sequence of integers with the first five terms as following:</p><div></div>",
                "<div></div>",
                "<pre><div></div>",
                "1.     1<div></div>",
                "2.     11<div></div>",
                "3.     21<div></div>",
                "4.     1211<div></div>",
                "5.     111221<div></div>",
                "</pre><div></div>",
                "<div></div>",
                "<p><code>1</code> is read off as <code>&quot;one 1&quot;</code> or <code>11</code>.<br /><div></div>",
                "<code>11</code> is read off as <code>&quot;two 1s&quot;</code> or <code>21</code>.<br /><div></div>",
                "<code>21</code> is read off as <code>&quot;one 2</code>, then <code>one 1&quot;</code> or <code>1211</code>.</p><div></div>",
                "<div></div>",
                "<p>Given an integer <i>n</i>&nbsp;where 1 &le; <em>n</em> &le; 30, generate the <i>n</i><sup>th</sup> term of the count-and-say sequence.</p><div></div>",
                "<div></div>",
                "<p>Note: Each term of the sequence of integers will be represented as a string.</p><div></div>",
                "<div></div>",
                "<p>&nbsp;</p><div></div>",
                "<div></div>",
                "<p><b>Example 1:</b></p><div></div>",
                "<div></div>",
                "<pre><div></div>",
                "<b>Input:</b> 1<div></div>",
                "<b>Output:</b> &quot;1&quot;<div></div>",
                "</pre><div></div>",
                "<div></div>",
                "<p><b>Example 2:</b></p><div></div>",
                "<div></div>",
                "<pre><div></div>",
                "<b>Input:</b> 4<div></div>",
                "<b>Output:</b> &quot;1211&quot;</pre><div></div>",
                "<div></div>"
            ],
            "metadata": {}
        },
        {
            "cell_type": "code",
            "metadata": {},
            "execution_count": null,
            "source": "%%writefile count_and_say.py\nclass Solution:\n    def countAndSay(self, n):\n        \"\"\"\n        :type n: int\n        :rtype: str\n        \"\"\"",
            "outputs": []
        },
        {
            "cell_type": "code",
            "metadata": {},
            "execution_count": null,
            "source": "# submit\n%run ../../cli.py push --method=submit --path=count_and_say.py --clean=True",
            "outputs": []
        }
    ]
}