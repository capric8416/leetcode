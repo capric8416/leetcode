{
    "nbformat": 4,
    "nbformat_minor": 2,
    "metadata": {
        "kernelspec": {
            "display_name": "Python 3",
            "language": "python",
            "name": "python3"
        },
        "language_info": {
            "codemirror_mode": {
                "name": "ipython",
                "version": 3
            },
            "file_extension": ".py",
            "mimetype": "text/x-python",
            "name": "python",
            "nbconvert_exporter": "python",
            "pygments_lexer": "ipython3",
            "version": "3.7.2"
        }
    },
    "cells": [
        {
            "cell_type": "markdown",
            "source": [
                "<h1>Remove Boxes</h1>",
                "<p>Given several boxes with different colors represented by different positive numbers. <br /><div></div>",
                "You may experience several rounds to remove boxes until there is no box left. Each time you can choose some continuous boxes with the same color (composed of k boxes, k >= 1), remove them and get <code>k*k</code> points.<br /><div></div>",
                "Find the maximum points you can get.<div></div>",
                "</p><div></div>",
                "<div></div>",
                "<p><b>Example 1:</b><br><div></div>",
                "Input: <div></div>",
                "<pre><div></div>",
                "[1, 3, 2, 2, 2, 3, 4, 3, 1]<div></div>",
                "</pre><div></div>",
                "Output:<div></div>",
                "<pre><div></div>",
                "23<div></div>",
                "</pre><div></div>",
                "Explanation: <div></div>",
                "<pre><div></div>",
                "[1, 3, 2, 2, 2, 3, 4, 3, 1] <div></div>",
                "----> [1, 3, 3, 4, 3, 1] (3*3=9 points) <div></div>",
                "----> [1, 3, 3, 3, 1] (1*1=1 points) <div></div>",
                "----> [1, 1] (3*3=9 points) <div></div>",
                "----> [] (2*2=4 points)<div></div>",
                "</pre><div></div>",
                "</p><div></div>",
                "<div></div>",
                "<p><b>Note:</b><div></div>",
                "The number of boxes <code>n</code> would not exceed 100.<div></div>",
                "</p><div></div>",
                "<div></div>"
            ],
            "metadata": {}
        },
        {
            "cell_type": "code",
            "metadata": {},
            "execution_count": null,
            "source": "%%writefile remove_boxes.py\nclass Solution:\n    def removeBoxes(self, boxes):\n        \"\"\"\n        :type boxes: List[int]\n        :rtype: int\n        \"\"\"",
            "outputs": []
        },
        {
            "cell_type": "code",
            "metadata": {},
            "execution_count": null,
            "source": "# submit\n%run ../../cli.py push --method=submit --path=remove_boxes.py --clean=True",
            "outputs": []
        }
    ]
}