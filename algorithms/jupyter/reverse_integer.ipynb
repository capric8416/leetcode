{
 "cells": [
  {
   "cell_type": "markdown",
   "metadata": {},
   "source": [
    "<h1>Reverse Integer</h1><p>Given a 32-bit signed integer, reverse digits of an integer.</p><div></div><div></div><p><strong>Example 1:</strong></p><div></div><div></div><pre><div></div><strong>Input:</strong> 123<div></div><strong>Output:</strong> 321<div></div></pre><div></div><div></div><p><strong>Example 2:</strong></p><div></div><div></div><pre><div></div><strong>Input:</strong> -123<div></div><strong>Output:</strong> -321<div></div></pre><div></div><div></div><p><strong>Example 3:</strong></p><div></div><div></div><pre><div></div><strong>Input:</strong> 120<div></div><strong>Output:</strong> 21<div></div></pre><div></div><div></div><p><strong>Note:</strong><br /><div></div>Assume we are dealing with an environment which could only store integers within the 32-bit signed integer range: [&minus;2<sup>31</sup>,&nbsp; 2<sup>31&nbsp;</sup>&minus; 1]. For the purpose of this problem, assume that your function returns 0 when the reversed integer overflows.</p><div></div><div></div>"
   ]
  },
  {
   "cell_type": "code",
   "execution_count": null,
   "metadata": {},
   "outputs": [],
   "source": [
    "%%writefile reverse_integer.py\n",
    "class Solution:\n",
    "    def reverse(self, x):\n",
    "        \"\"\"\n",
    "        :type x: int\n",
    "        :rtype: int\n",
    "        \"\"\"\n",
    "        b, e = -1 << 31, (1 << 31) - 1\n",
    "        if x < b or x > e:\n",
    "            return 0\n",
    "        \n",
    "        negative = False\n",
    "        if x < 0:\n",
    "            x = -x\n",
    "            negative = True\n",
    "        \n",
    "        y = 0\n",
    "        while x != 0:\n",
    "            x, r = divmod(x, 10)\n",
    "            y = y * 10 + r\n",
    "            \n",
    "        if negative:\n",
    "            y = -y\n",
    "            \n",
    "        if y < b or y > e:\n",
    "            return 0\n",
    "        \n",
    "        return y"
   ]
  },
  {
   "cell_type": "code",
   "execution_count": null,
   "metadata": {},
   "outputs": [],
   "source": [
    "# submit\n",
    "%run ../../cli.py push --method=submit --path=reverse_integer.py --clean=True"
   ]
  },
  {
   "cell_type": "code",
   "execution_count": null,
   "metadata": {},
   "outputs": [],
   "source": [
    "s = Solution()\n",
    "print(s.reverse(123))\n",
    "print(s.reverse(1234567890))\n",
    "print(s.reverse(-1234567890))\n",
    "print(s.reverse(1534236469))\n",
    "print(s.reverse(9646324351))"
   ]
  }
 ],
 "metadata": {
  "kernelspec": {
   "display_name": "Python 3",
   "language": "python",
   "name": "python3"
  },
  "language_info": {
   "codemirror_mode": {
    "name": "ipython",
    "version": 3
   },
   "file_extension": ".py",
   "mimetype": "text/x-python",
   "name": "python",
   "nbconvert_exporter": "python",
   "pygments_lexer": "ipython3",
   "version": "3.6.5"
  }
 },
 "nbformat": 4,
 "nbformat_minor": 2
}
