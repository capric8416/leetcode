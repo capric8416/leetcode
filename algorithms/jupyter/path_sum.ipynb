{
    "nbformat": 4,
    "nbformat_minor": 2,
    "metadata": {
        "kernelspec": {
            "display_name": "Python 3",
            "language": "python",
            "name": "python3"
        },
        "language_info": {
            "codemirror_mode": {
                "name": "ipython",
                "version": 3
            },
            "file_extension": ".py",
            "mimetype": "text/x-python",
            "name": "python",
            "nbconvert_exporter": "python",
            "pygments_lexer": "ipython3",
            "version": "3.7.2"
        }
    },
    "cells": [
        {
            "cell_type": "markdown",
            "source": [
                "<h1>Path Sum</h1>",
                "<p>Given a binary tree and a sum, determine if the tree has a root-to-leaf path such that adding up all the values along the path equals the given sum.</p><div></div>",
                "<div></div>",
                "<p><strong>Note:</strong>&nbsp;A leaf is a node with no children.</p><div></div>",
                "<div></div>",
                "<p><strong>Example:</strong></p><div></div>",
                "<div></div>",
                "<p>Given the below binary tree and <code>sum = 22</code>,</p><div></div>",
                "<div></div>",
                "<pre><div></div>",
                "      <strong>5</strong><div></div>",
                "     <strong>/</strong> \\<div></div>",
                "    <strong>4</strong>   8<div></div>",
                "   <strong>/</strong>   / \\<div></div>",
                "  <strong>11</strong>  13  4<div></div>",
                " /  <strong>\\</strong>      \\<div></div>",
                "7    <strong>2</strong>      1<div></div>",
                "</pre><div></div>",
                "<div></div>",
                "<p>return true, as there exist a root-to-leaf path <code>5-&gt;4-&gt;11-&gt;2</code> which sum is 22.</p><div></div>",
                "<div></div>"
            ],
            "metadata": {}
        },
        {
            "cell_type": "code",
            "metadata": {},
            "execution_count": null,
            "source": "%%writefile path_sum.py\n# Definition for a binary tree node.\n# class TreeNode:\n#     def __init__(self, x):\n#         self.val = x\n#         self.left = None\n#         self.right = None\n\nclass Solution:\n    def hasPathSum(self, root, sum):\n        \"\"\"\n        :type root: TreeNode\n        :type sum: int\n        :rtype: bool\n        \"\"\"",
            "outputs": []
        },
        {
            "cell_type": "code",
            "metadata": {},
            "execution_count": null,
            "source": "# submit\n%run ../../cli.py push --method=submit --path=path_sum.py --clean=True",
            "outputs": []
        }
    ]
}