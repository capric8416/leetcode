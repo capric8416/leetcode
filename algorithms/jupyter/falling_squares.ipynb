{
    "nbformat": 4,
    "nbformat_minor": 2,
    "metadata": {
        "kernelspec": {
            "display_name": "Python 3",
            "language": "python",
            "name": "python3"
        },
        "language_info": {
            "codemirror_mode": {
                "name": "ipython",
                "version": 3
            },
            "file_extension": ".py",
            "mimetype": "text/x-python",
            "name": "python",
            "nbconvert_exporter": "python",
            "pygments_lexer": "ipython3",
            "version": "3.7.2"
        }
    },
    "cells": [
        {
            "cell_type": "markdown",
            "source": [
                "<h1>Falling Squares</h1>",
                "<p>On an infinite number line (x-axis), we drop given squares in the order they are given.</p><div></div>",
                "<p>The <code>i</code>-th square dropped (<code>positions[i] = (left, side_length)</code>) is a square with the left-most point being <code>positions[i][0]</code> and sidelength <code>positions[i][1]</code>.</p><div></div>",
                "<p>The square is dropped with the bottom edge parallel to the number line, and from a higher height than all currently landed squares.  We wait for each square to stick before dropping the next.</p><div></div>",
                "<p>The squares are infinitely sticky on their bottom edge, and will remain fixed to any positive length surface they touch (either the number line or another square).  Squares dropped adjacent to each other will not stick together prematurely.</p><div></div>",
                "<div></div>",
                "<br><div></div>",
                "<p>Return a list <code>ans</code> of heights.  Each height <code>ans[i]</code> represents the current highest height of any square we have dropped, after dropping squares represented by <code>positions[0], positions[1], ..., positions[i]</code>.<div></div>",
                "</p><div></div>",
                "<div></div>",
                "<p><b>Example 1:</b><br /><div></div>",
                "<pre><div></div>",
                "<b>Input:</b> [[1, 2], [2, 3], [6, 1]]<div></div>",
                "<b>Output:</b> [2, 5, 5]<div></div>",
                "<b>Explanation:</b><div></div>",
                "<p><div></div>",
                "After the first drop of <code>positions[0] = [1, 2]:<div></div>",
                "_aa<div></div>",
                "_aa<div></div>",
                "-------<div></div>",
                "</code>The maximum height of any square is 2.<div></div>",
                "</p><p><div></div>",
                "After the second drop of <code>positions[1] = [2, 3]:<div></div>",
                "__aaa<div></div>",
                "__aaa<div></div>",
                "__aaa<div></div>",
                "_aa__<div></div>",
                "_aa__<div></div>",
                "--------------<div></div>",
                "</code>The maximum height of any square is 5.  <div></div>",
                "The larger square stays on top of the smaller square despite where its center<div></div>",
                "of gravity is, because squares are infinitely sticky on their bottom edge.<div></div>",
                "</p><p><div></div>",
                "After the third drop of <code>positions[1] = [6, 1]:<div></div>",
                "__aaa<div></div>",
                "__aaa<div></div>",
                "__aaa<div></div>",
                "_aa<div></div>",
                "_aa___a<div></div>",
                "--------------<div></div>",
                "</code>The maximum height of any square is still 5.<div></div>",
                "<div></div>",
                "Thus, we return an answer of <code>[2, 5, 5]</code>.<div></div>",
                "</pre><div></div>",
                "</p><div></div>",
                "<div></div>",
                "<br><div></div>",
                "<div></div>",
                "<p><b>Example 2:</b><br /><div></div>",
                "<pre><div></div>",
                "<b>Input:</b> [[100, 100], [200, 100]]<div></div>",
                "<b>Output:</b> [100, 100]<div></div>",
                "<b>Explanation:</b> Adjacent squares don't get stuck prematurely - only their bottom edge can stick to surfaces.<div></div>",
                "</pre><div></div>",
                "</p><div></div>",
                "<div></div>",
                "<p><b>Note:</b><div></div>",
                "<li><code>1 <= positions.length <= 1000</code>.</li><div></div>",
                "<li><code>1 <= positions[i][0] <= 10^8</code>.</li><div></div>",
                "<li><code>1 <= positions[i][1] <= 10^6</code>.</li><div></div>",
                "</p><div></div>"
            ],
            "metadata": {}
        },
        {
            "cell_type": "code",
            "metadata": {},
            "execution_count": null,
            "source": "%%writefile falling_squares.py\nclass Solution:\n    def fallingSquares(self, positions):\n        \"\"\"\n        :type positions: List[List[int]]\n        :rtype: List[int]\n        \"\"\"",
            "outputs": []
        },
        {
            "cell_type": "code",
            "metadata": {},
            "execution_count": null,
            "source": "# submit\n%run ../../cli.py push --method=submit --path=falling_squares.py --clean=True",
            "outputs": []
        }
    ]
}