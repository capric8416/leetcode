{
    "nbformat": 4,
    "nbformat_minor": 2,
    "metadata": {
        "kernelspec": {
            "display_name": "Python 3",
            "language": "python",
            "name": "python3"
        },
        "language_info": {
            "codemirror_mode": {
                "name": "ipython",
                "version": 3
            },
            "file_extension": ".py",
            "mimetype": "text/x-python",
            "name": "python",
            "nbconvert_exporter": "python",
            "pygments_lexer": "ipython3",
            "version": "3.7.2"
        }
    },
    "cells": [
        {
            "cell_type": "markdown",
            "source": [
                "<h1>UTF-8 Validation</h1>",
                "<p>A character in UTF8 can be from <b>1 to 4 bytes</b> long, subjected to the following rules:</p><div></div>",
                "<ol><div></div>",
                "<li>For 1-byte character, the first bit is a 0, followed by its unicode code.</li><div></div>",
                "<li>For n-bytes character, the first n-bits are all one's, the n+1 bit is 0, followed by n-1 bytes with most significant 2 bits being 10.</li><div></div>",
                "</ol><div></div>",
                "<p>This is how the UTF-8 encoding would work:</p><div></div>",
                "<div></div>",
                "<pre><code>   Char. number range  |        UTF-8 octet sequence<div></div>",
                "      (hexadecimal)    |              (binary)<div></div>",
                "   --------------------+---------------------------------------------<div></div>",
                "   0000 0000-0000 007F | 0xxxxxxx<div></div>",
                "   0000 0080-0000 07FF | 110xxxxx 10xxxxxx<div></div>",
                "   0000 0800-0000 FFFF | 1110xxxx 10xxxxxx 10xxxxxx<div></div>",
                "   0001 0000-0010 FFFF | 11110xxx 10xxxxxx 10xxxxxx 10xxxxxx<div></div>",
                "</code></pre><div></div>",
                "<p><div></div>",
                "Given an array of integers representing the data, return whether it is a valid utf-8 encoding.<div></div>",
                "</p><div></div>",
                "<p><div></div>",
                "<b>Note:</b><br /><div></div>",
                "The input is an array of integers. Only the <b>least significant 8 bits</b> of each integer is used to store the data. This means each integer represents only 1 byte of data.<div></div>",
                "</p><div></div>",
                "<div></div>",
                "<p><div></div>",
                "<b>Example 1:</b><div></div>",
                "<pre><div></div>",
                "data = [197, 130, 1], which represents the octet sequence: <b>11000101 10000010 00000001</b>.<div></div>",
                "<div></div>",
                "Return <b>true</b>.<div></div>",
                "It is a valid utf-8 encoding for a 2-bytes character followed by a 1-byte character.<div></div>",
                "</pre><div></div>",
                "</p><div></div>",
                "<div></div>",
                "<p><div></div>",
                "<b>Example 2:</b><div></div>",
                "<pre><div></div>",
                "data = [235, 140, 4], which represented the octet sequence: <b>11101011 10001100 00000100</b>.<div></div>",
                "<div></div>",
                "Return <b>false</b>.<div></div>",
                "The first 3 bits are all one's and the 4th bit is 0 means it is a 3-bytes character.<div></div>",
                "The next byte is a continuation byte which starts with 10 and that's correct.<div></div>",
                "But the second continuation byte does not start with 10, so it is invalid.<div></div>",
                "</pre><div></div>",
                "</p><div></div>"
            ],
            "metadata": {}
        },
        {
            "cell_type": "code",
            "metadata": {},
            "execution_count": null,
            "source": "%%writefile utf_8_validation.py\nclass Solution:\n    def validUtf8(self, data):\n        \"\"\"\n        :type data: List[int]\n        :rtype: bool\n        \"\"\"",
            "outputs": []
        },
        {
            "cell_type": "code",
            "metadata": {},
            "execution_count": null,
            "source": "# submit\n%run ../../cli.py push --method=submit --path=utf_8_validation.py --clean=True",
            "outputs": []
        }
    ]
}