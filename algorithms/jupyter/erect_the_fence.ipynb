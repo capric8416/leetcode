{
    "nbformat": 4,
    "nbformat_minor": 2,
    "metadata": {
        "kernelspec": {
            "display_name": "Python 3",
            "language": "python",
            "name": "python3"
        },
        "language_info": {
            "codemirror_mode": {
                "name": "ipython",
                "version": 3
            },
            "file_extension": ".py",
            "mimetype": "text/x-python",
            "name": "python",
            "nbconvert_exporter": "python",
            "pygments_lexer": "ipython3",
            "version": "3.7.2"
        }
    },
    "cells": [
        {
            "cell_type": "markdown",
            "source": [
                "<h1>Erect the Fence</h1>",
                "<p>There are some trees, where each tree is represented by (x,y) coordinate in a two-dimensional garden. Your job is to fence the entire garden using the <b>minimum length</b> of rope as it is expensive. The garden is well fenced only if all the trees are enclosed. Your task is to help find the coordinates of trees which are exactly located on the fence perimeter.</p><div></div>",
                "<div></div>",
                "<p>&nbsp;</p><div></div>",
                "<div></div>",
                "<p><b>Example 1:</b></p><div></div>",
                "<div></div>",
                "<pre><div></div>",
                "<b>Input:</b> [[1,1],[2,2],[2,0],[2,4],[3,3],[4,2]]<div></div>",
                "<b>Output:</b> [[1,1],[2,0],[4,2],[3,3],[2,4]]<div></div>",
                "<b>Explanation:</b><div></div>",
                "<img src=\"https://assets.leetcode.com/uploads/2018/10/12/erect_the_fence_1.png\" style=\"width: 100%; max-width: 320px\" /><div></div>",
                "</pre><div></div>",
                "<div></div>",
                "<p><b>Example 2:</b></p><div></div>",
                "<div></div>",
                "<pre><div></div>",
                "<b>Input:</b> [[1,2],[2,2],[4,2]]<div></div>",
                "<b>Output:</b> [[1,2],[2,2],[4,2]]<div></div>",
                "<b>Explanation:</b><div></div>",
                "<img src=\"https://assets.leetcode.com/uploads/2018/10/12/erect_the_fence_2.png\" style=\"width: 100%; max-width: 320px\" /><div></div>",
                "Even you only have trees in a line, you need to use rope to enclose them. <div></div>",
                "</pre><div></div>",
                "<div></div>",
                "<p>&nbsp;</p><div></div>",
                "<div></div>",
                "<p><strong>Note:</strong></p><div></div>",
                "<div></div>",
                "<ol><div></div>",
                "\t<li>All trees should be enclosed together. You cannot cut the rope to enclose trees that will separate them in more than one group.</li><div></div>",
                "\t<li>All input integers will range from 0 to 100.</li><div></div>",
                "\t<li>The garden has at least one tree.</li><div></div>",
                "\t<li>All coordinates are distinct.</li><div></div>",
                "\t<li>Input points have <b>NO</b> order. No order required for output.</li><div></div>",
                "</ol><div></div>",
                "<div></div>"
            ],
            "metadata": {}
        },
        {
            "cell_type": "code",
            "metadata": {},
            "execution_count": null,
            "source": "%%writefile erect_the_fence.py\nclass Solution:\n    def outerTrees(self, points):\n        \"\"\"\n        :type points: List[Point]\n        :rtype: List[Point]\n        \"\"\"",
            "outputs": []
        },
        {
            "cell_type": "code",
            "metadata": {},
            "execution_count": null,
            "source": "# submit\n%run ../../cli.py push --method=submit --path=erect_the_fence.py --clean=True",
            "outputs": []
        }
    ]
}