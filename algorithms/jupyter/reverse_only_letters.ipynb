{
    "nbformat": 4,
    "nbformat_minor": 2,
    "metadata": {
        "kernelspec": {
            "display_name": "Python 3",
            "language": "python",
            "name": "python3"
        },
        "language_info": {
            "codemirror_mode": {
                "name": "ipython",
                "version": 3
            },
            "file_extension": ".py",
            "mimetype": "text/x-python",
            "name": "python",
            "nbconvert_exporter": "python",
            "pygments_lexer": "ipython3",
            "version": "3.7.2"
        }
    },
    "cells": [
        {
            "cell_type": "markdown",
            "source": [
                "<h1>Reverse Only Letters</h1>",
                "<p>Given a string <code>S</code>, return the &quot;reversed&quot; string where all characters that are not a letter&nbsp;stay in the same place, and all letters reverse their positions.</p><div></div>",
                "<div></div>",
                "<p>&nbsp;</p><div></div>",
                "<div></div>",
                "<div><div></div>",
                "<div><div></div>",
                "<div><div></div>",
                "<ol><div></div>",
                "</ol><div></div>",
                "</div><div></div>",
                "</div><div></div>",
                "</div><div></div>",
                "<div></div>",
                "<div><div></div>",
                "<p><strong>Example 1:</strong></p><div></div>",
                "<div></div>",
                "<pre><div></div>",
                "<strong>Input: </strong><span id=\"example-input-1-1\">&quot;ab-cd&quot;</span><div></div>",
                "<strong>Output: </strong><span id=\"example-output-1\">&quot;dc-ba&quot;</span><div></div>",
                "</pre><div></div>",
                "<div></div>",
                "<div><div></div>",
                "<p><strong>Example 2:</strong></p><div></div>",
                "<div></div>",
                "<pre><div></div>",
                "<strong>Input: </strong><span id=\"example-input-2-1\">&quot;a-bC-dEf-ghIj&quot;</span><div></div>",
                "<strong>Output: </strong><span id=\"example-output-2\">&quot;j-Ih-gfE-dCba&quot;</span><div></div>",
                "</pre><div></div>",
                "<div></div>",
                "<div><div></div>",
                "<p><strong>Example 3:</strong></p><div></div>",
                "<div></div>",
                "<pre><div></div>",
                "<strong>Input: </strong><span id=\"example-input-3-1\">&quot;Test1ng-Leet=code-Q!&quot;</span><div></div>",
                "<strong>Output: </strong><span id=\"example-output-3\">&quot;Qedo1ct-eeLg=ntse-T!&quot;</span><div></div>",
                "</pre><div></div>",
                "<div></div>",
                "<p>&nbsp;</p><div></div>",
                "<div></div>",
                "<div><div></div>",
                "<p><strong><span>Note:</span></strong></p><div></div>",
                "<div></div>",
                "<ol><div></div>",
                "\t<li><code>S.length &lt;= 100</code></li><div></div>",
                "\t<li><code>33 &lt;= S[i].ASCIIcode &lt;= 122</code>&nbsp;</li><div></div>",
                "\t<li><code>S</code> doesn&#39;t contain <code>\\</code> or <code>&quot;</code></li><div></div>",
                "</ol><div></div>",
                "</div><div></div>",
                "</div><div></div>",
                "</div><div></div>",
                "</div><div></div>"
            ],
            "metadata": {}
        },
        {
            "cell_type": "code",
            "metadata": {},
            "execution_count": null,
            "source": "%%writefile reverse_only_letters.py\nclass Solution:\n    def reverseOnlyLetters(self, S):\n        \"\"\"\n        :type S: str\n        :rtype: str\n        \"\"\"",
            "outputs": []
        },
        {
            "cell_type": "code",
            "metadata": {},
            "execution_count": null,
            "source": "# submit\n%run ../../cli.py push --method=submit --path=reverse_only_letters.py --clean=True",
            "outputs": []
        }
    ]
}