{
    "nbformat": 4,
    "nbformat_minor": 2,
    "metadata": {
        "kernelspec": {
            "display_name": "Python 3",
            "language": "python",
            "name": "python3"
        },
        "language_info": {
            "codemirror_mode": {
                "name": "ipython",
                "version": 3
            },
            "file_extension": ".py",
            "mimetype": "text/x-python",
            "name": "python",
            "nbconvert_exporter": "python",
            "pygments_lexer": "ipython3",
            "version": "3.7.2"
        }
    },
    "cells": [
        {
            "cell_type": "markdown",
            "source": [
                "<h1>Construct Binary Tree from Preorder and Postorder Traversal</h1>",
                "<p>Return any binary tree that matches the given preorder and postorder traversals.</p><div></div>",
                "<div></div>",
                "<p>Values in the traversals&nbsp;<code>pre</code> and <code>post</code>&nbsp;are distinct&nbsp;positive integers.</p><div></div>",
                "<div></div>",
                "<p>&nbsp;</p><div></div>",
                "<div></div>",
                "<div><div></div>",
                "<p><strong>Example 1:</strong></p><div></div>",
                "<div></div>",
                "<pre><div></div>",
                "<strong>Input: </strong>pre = <span id=\"example-input-1-1\">[1,2,4,5,3,6,7]</span>, post = <span id=\"example-input-1-2\">[4,5,2,6,7,3,1]</span><div></div>",
                "<strong>Output: </strong><span id=\"example-output-1\">[1,2,3,4,5,6,7]</span><div></div>",
                "</pre><div></div>",
                "<div></div>",
                "<p>&nbsp;</p><div></div>",
                "<div></div>",
                "<p><strong><span>Note:</span></strong></p><div></div>",
                "<div></div>",
                "<ul><div></div>",
                "\t<li><code>1 &lt;= pre.length == post.length &lt;= 30</code></li><div></div>",
                "\t<li><code>pre[]</code> and <code>post[]</code>&nbsp;are both permutations of <code>1, 2, ..., pre.length</code>.</li><div></div>",
                "\t<li>It is guaranteed an answer exists. If there exists multiple answers, you can return any of them.</li><div></div>",
                "</ul><div></div>",
                "</div><div></div>",
                "<div></div>"
            ],
            "metadata": {}
        },
        {
            "cell_type": "code",
            "metadata": {},
            "execution_count": null,
            "source": "%%writefile construct_binary_tree_from_preorder_and_postorder_traversal.py\n# Definition for a binary tree node.\n# class TreeNode:\n#     def __init__(self, x):\n#         self.val = x\n#         self.left = None\n#         self.right = None\n\nclass Solution:\n    def constructFromPrePost(self, pre, post):\n        \"\"\"\n        :type pre: List[int]\n        :type post: List[int]\n        :rtype: TreeNode\n        \"\"\"",
            "outputs": []
        },
        {
            "cell_type": "code",
            "metadata": {},
            "execution_count": null,
            "source": "# submit\n%run ../../cli.py push --method=submit --path=construct_binary_tree_from_preorder_and_postorder_traversal.py --clean=True",
            "outputs": []
        }
    ]
}