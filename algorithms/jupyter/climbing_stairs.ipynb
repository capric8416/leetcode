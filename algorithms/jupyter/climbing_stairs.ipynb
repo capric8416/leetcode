{
    "nbformat": 4,
    "nbformat_minor": 2,
    "metadata": {
        "kernelspec": {
            "display_name": "Python 3",
            "language": "python",
            "name": "python3"
        },
        "language_info": {
            "codemirror_mode": {
                "name": "ipython",
                "version": 3
            },
            "file_extension": ".py",
            "mimetype": "text/x-python",
            "name": "python",
            "nbconvert_exporter": "python",
            "pygments_lexer": "ipython3",
            "version": "3.7.2"
        }
    },
    "cells": [
        {
            "cell_type": "markdown",
            "source": [
                "<h1>Climbing Stairs</h1>",
                "<p>You are climbing a stair case. It takes <em>n</em> steps to reach to the top.</p><div></div>",
                "<div></div>",
                "<p>Each time you can either climb 1 or 2 steps. In how many distinct ways can you climb to the top?</p><div></div>",
                "<div></div>",
                "<p><strong>Note:</strong> Given <em>n</em> will be a positive integer.</p><div></div>",
                "<div></div>",
                "<p><strong>Example 1:</strong></p><div></div>",
                "<div></div>",
                "<pre><div></div>",
                "<strong>Input:</strong> 2<div></div>",
                "<strong>Output:</strong> 2<div></div>",
                "<strong>Explanation:</strong> There are two ways to climb to the top.<div></div>",
                "1. 1 step + 1 step<div></div>",
                "2. 2 steps<div></div>",
                "</pre><div></div>",
                "<div></div>",
                "<p><strong>Example 2:</strong></p><div></div>",
                "<div></div>",
                "<pre><div></div>",
                "<strong>Input:</strong> 3<div></div>",
                "<strong>Output:</strong> 3<div></div>",
                "<strong>Explanation:</strong> There are three ways to climb to the top.<div></div>",
                "1. 1 step + 1 step + 1 step<div></div>",
                "2. 1 step + 2 steps<div></div>",
                "3. 2 steps + 1 step<div></div>",
                "</pre><div></div>",
                "<div></div>"
            ],
            "metadata": {}
        },
        {
            "cell_type": "code",
            "metadata": {},
            "execution_count": null,
            "source": "%%writefile climbing_stairs.py\nclass Solution:\n    def climbStairs(self, n):\n        \"\"\"\n        :type n: int\n        :rtype: int\n        \"\"\"",
            "outputs": []
        },
        {
            "cell_type": "code",
            "metadata": {},
            "execution_count": null,
            "source": "# submit\n%run ../../cli.py push --method=submit --path=climbing_stairs.py --clean=True",
            "outputs": []
        }
    ]
}