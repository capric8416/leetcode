{
    "nbformat": 4,
    "nbformat_minor": 2,
    "metadata": {
        "kernelspec": {
            "display_name": "Python 3",
            "language": "python",
            "name": "python3"
        },
        "language_info": {
            "codemirror_mode": {
                "name": "ipython",
                "version": 3
            },
            "file_extension": ".py",
            "mimetype": "text/x-python",
            "name": "python",
            "nbconvert_exporter": "python",
            "pygments_lexer": "ipython3",
            "version": "3.7.2"
        }
    },
    "cells": [
        {
            "cell_type": "markdown",
            "source": [
                "<h1>Chalkboard XOR Game</h1>",
                "<p>We are given non-negative integers nums[i] which are written on a chalkboard.&nbsp; Alice and Bob take turns erasing exactly one number from the chalkboard, with Alice starting first.&nbsp; If erasing a number causes&nbsp;the bitwise XOR of all the elements of the chalkboard to become&nbsp;0, then that player loses.&nbsp; (Also, we&#39;ll say the bitwise XOR of one element is that element itself, and the bitwise XOR of no elements is 0.)</p><div></div>",
                "<div></div>",
                "<p>Also, if any player starts their turn with the bitwise XOR of all the elements of the chalkboard equal to 0, then that player wins.</p><div></div>",
                "<div></div>",
                "<p>Return True if and only if Alice wins the game, assuming both players play optimally.</p><div></div>",
                "<div></div>",
                "<pre><div></div>",
                "<strong>Example:</strong><div></div>",
                "<strong>Input:</strong> nums = [1, 1, 2]<div></div>",
                "<strong>Output:</strong> false<div></div>",
                "<strong>Explanation:</strong> <div></div>",
                "Alice has two choices: erase 1 or erase 2. <div></div>",
                "If she erases 1, the nums array becomes [1, 2]. The bitwise XOR of all the elements of the chalkboard is 1 XOR 2 = 3. Now Bob can remove any element he wants, because Alice will be the one to erase the last element and she will lose. <div></div>",
                "If Alice erases 2 first, now nums becomes [1, 1]. The bitwise XOR of all the elements of the chalkboard is 1 XOR 1 = 0. Alice will lose.<div></div>",
                "<div></div>",
                "</pre><div></div>",
                "<div></div>",
                "<p><strong>Notes: </strong></p><div></div>",
                "<div></div>",
                "<ul><div></div>",
                "\t<li><code>1 &lt;= N &lt;= 1000</code>.&nbsp;</li><div></div>",
                "\t<li><code>0 &lt;= nums[i] &lt;= 2^16</code>.</li><div></div>",
                "</ul><div></div>",
                "<div></div>",
                "<p>&nbsp;</p><div></div>",
                "<div></div>"
            ],
            "metadata": {}
        },
        {
            "cell_type": "code",
            "metadata": {},
            "execution_count": null,
            "source": "%%writefile chalkboard_xor_game.py\nclass Solution:\n    def xorGame(self, nums):\n        \"\"\"\n        :type nums: List[int]\n        :rtype: bool\n        \"\"\"",
            "outputs": []
        },
        {
            "cell_type": "code",
            "metadata": {},
            "execution_count": null,
            "source": "# submit\n%run ../../cli.py push --method=submit --path=chalkboard_xor_game.py --clean=True",
            "outputs": []
        }
    ]
}