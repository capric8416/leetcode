{
    "nbformat": 4,
    "nbformat_minor": 2,
    "metadata": {
        "kernelspec": {
            "display_name": "Python 3",
            "language": "python",
            "name": "python3"
        },
        "language_info": {
            "codemirror_mode": {
                "name": "ipython",
                "version": 3
            },
            "file_extension": ".py",
            "mimetype": "text/x-python",
            "name": "python",
            "nbconvert_exporter": "python",
            "pygments_lexer": "ipython3",
            "version": "3.7.2"
        }
    },
    "cells": [
        {
            "cell_type": "markdown",
            "source": [
                "<h1>Uncommon Words from Two Sentences</h1>",
                "<p>We are given two sentences <code>A</code> and <code>B</code>.&nbsp; (A <em>sentence</em>&nbsp;is a string of space separated words.&nbsp; Each <em>word</em> consists only of lowercase letters.)</p><div></div>",
                "<div></div>",
                "<p>A word is <em>uncommon</em>&nbsp;if it appears exactly once in one of the sentences, and does not appear in the other sentence.</p><div></div>",
                "<div></div>",
                "<p>Return a list of all uncommon words.&nbsp;</p><div></div>",
                "<div></div>",
                "<p>You may return the list in any order.</p><div></div>",
                "<div></div>",
                "<p>&nbsp;</p><div></div>",
                "<div></div>",
                "<ol><div></div>",
                "</ol><div></div>",
                "<div></div>",
                "<div><div></div>",
                "<p><strong>Example 1:</strong></p><div></div>",
                "<div></div>",
                "<pre><div></div>",
                "<strong>Input: </strong>A = <span id=\"example-input-1-1\">&quot;this apple is sweet&quot;</span>, B = <span id=\"example-input-1-2\">&quot;this apple is sour&quot;</span><div></div>",
                "<strong>Output: </strong><span id=\"example-output-1\">[&quot;sweet&quot;,&quot;sour&quot;]</span><div></div>",
                "</pre><div></div>",
                "<div></div>",
                "<div><div></div>",
                "<p><strong>Example 2:</strong></p><div></div>",
                "<div></div>",
                "<pre><div></div>",
                "<strong>Input: </strong>A = <span id=\"example-input-2-1\">&quot;apple apple&quot;</span>, B = <span id=\"example-input-2-2\">&quot;banana&quot;</span><div></div>",
                "<strong>Output: </strong><span id=\"example-output-2\">[&quot;banana&quot;]</span><div></div>",
                "</pre><div></div>",
                "<div></div>",
                "<p>&nbsp;</p><div></div>",
                "<div></div>",
                "<p><strong>Note:</strong></p><div></div>",
                "<div></div>",
                "<ol><div></div>",
                "\t<li><code>0 &lt;= A.length &lt;= 200</code></li><div></div>",
                "\t<li><code>0 &lt;= B.length &lt;= 200</code></li><div></div>",
                "\t<li><code>A</code> and <code>B</code> both contain only spaces and lowercase letters.</li><div></div>",
                "</ol><div></div>",
                "</div><div></div>",
                "</div><div></div>",
                "<div></div>"
            ],
            "metadata": {}
        },
        {
            "cell_type": "code",
            "metadata": {},
            "execution_count": null,
            "source": "%%writefile uncommon_words_from_two_sentences.py\nclass Solution:\n    def uncommonFromSentences(self, A, B):\n        \"\"\"\n        :type A: str\n        :type B: str\n        :rtype: List[str]\n        \"\"\"",
            "outputs": []
        },
        {
            "cell_type": "code",
            "metadata": {},
            "execution_count": null,
            "source": "# submit\n%run ../../cli.py push --method=submit --path=uncommon_words_from_two_sentences.py --clean=True",
            "outputs": []
        }
    ]
}