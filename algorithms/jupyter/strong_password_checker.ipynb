{
    "nbformat": 4,
    "nbformat_minor": 2,
    "metadata": {
        "kernelspec": {
            "display_name": "Python 3",
            "language": "python",
            "name": "python3"
        },
        "language_info": {
            "codemirror_mode": {
                "name": "ipython",
                "version": 3
            },
            "file_extension": ".py",
            "mimetype": "text/x-python",
            "name": "python",
            "nbconvert_exporter": "python",
            "pygments_lexer": "ipython3",
            "version": "3.7.2"
        }
    },
    "cells": [
        {
            "cell_type": "markdown",
            "source": [
                "<h1>Strong Password Checker</h1>",
                "<p>A password is considered strong if below conditions are all met:</p><div></div>",
                "<div></div>",
                "<ol><div></div>",
                "<li> It has at least 6 characters and at most 20 characters. </li><div></div>",
                "<li> It must contain at least one lowercase letter, at least one uppercase letter, and at least one digit. </li><div></div>",
                "<li> It must NOT contain three repeating characters in a row (\"...aaa...\" is weak, but \"...aa...a...\" is strong, assuming other conditions are met). </li><div></div>",
                "</ol><div></div>",
                "<div></div>",
                "<p>Write a function strongPasswordChecker(s), that takes a string s as input, and return the <b>MINIMUM</b> change required to make s a strong password. If s is already strong, return 0.</p><div></div>",
                "<div></div>",
                "<p>Insertion, deletion or replace of any one character are all considered as one change.</p><div></div>"
            ],
            "metadata": {}
        },
        {
            "cell_type": "code",
            "metadata": {},
            "execution_count": null,
            "source": "%%writefile strong_password_checker.py\nclass Solution:\n    def strongPasswordChecker(self, s):\n        \"\"\"\n        :type s: str\n        :rtype: int\n        \"\"\"",
            "outputs": []
        },
        {
            "cell_type": "code",
            "metadata": {},
            "execution_count": null,
            "source": "# submit\n%run ../../cli.py push --method=submit --path=strong_password_checker.py --clean=True",
            "outputs": []
        }
    ]
}