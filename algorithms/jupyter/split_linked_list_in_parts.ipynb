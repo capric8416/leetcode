{
    "nbformat": 4,
    "nbformat_minor": 2,
    "metadata": {
        "kernelspec": {
            "display_name": "Python 3",
            "language": "python",
            "name": "python3"
        },
        "language_info": {
            "codemirror_mode": {
                "name": "ipython",
                "version": 3
            },
            "file_extension": ".py",
            "mimetype": "text/x-python",
            "name": "python",
            "nbconvert_exporter": "python",
            "pygments_lexer": "ipython3",
            "version": "3.7.2"
        }
    },
    "cells": [
        {
            "cell_type": "markdown",
            "source": [
                "<h1>Split Linked List in Parts</h1>",
                "<p>Given a (singly) linked list with head node <code>root</code>, write a function to split the linked list into <code>k</code> consecutive linked list \"parts\".<div></div>",
                "</p><p><div></div>",
                "The length of each part should be as equal as possible: no two parts should have a size differing by more than 1.  This may lead to some parts being null.<div></div>",
                "</p><p><div></div>",
                "The parts should be in order of occurrence in the input list, and parts occurring earlier should always have a size greater than or equal parts occurring later.<div></div>",
                "</p><p><div></div>",
                "Return a List of ListNode's representing the linked list parts that are formed.<div></div>",
                "</p><div></div>",
                "<div></div>",
                "Examples<div></div>",
                "1->2->3->4, k = 5 // 5 equal parts<div></div>",
                "[ [1], <div></div>",
                "[2],<div></div>",
                "[3],<div></div>",
                "[4],<div></div>",
                "null ]<div></div>",
                "<div></div>",
                "<p><b>Example 1:</b><br /><div></div>",
                "<pre style=\"white-space: pre-line\"><div></div>",
                "<b>Input:</b> <div></div>",
                "root = [1, 2, 3], k = 5<div></div>",
                "<b>Output:</b> [[1],[2],[3],[],[]]<div></div>",
                "<b>Explanation:</b><div></div>",
                "The input and each element of the output are ListNodes, not arrays.<div></div>",
                "For example, the input root has root.val = 1, root.next.val = 2, \\root.next.next.val = 3, and root.next.next.next = null.<div></div>",
                "The first element output[0] has output[0].val = 1, output[0].next = null.<div></div>",
                "The last element output[4] is null, but it's string representation as a ListNode is [].<div></div>",
                "</pre><div></div>",
                "</p><div></div>",
                "<div></div>",
                "<p><b>Example 2:</b><br /><div></div>",
                "<pre><div></div>",
                "<b>Input:</b> <div></div>",
                "root = [1, 2, 3, 4, 5, 6, 7, 8, 9, 10], k = 3<div></div>",
                "<b>Output:</b> [[1, 2, 3, 4], [5, 6, 7], [8, 9, 10]]<div></div>",
                "<b>Explanation:</b><div></div>",
                "The input has been split into consecutive parts with size difference at most 1, and earlier parts are a larger size than the later parts.<div></div>",
                "</pre><div></div>",
                "</p><div></div>",
                "<div></div>",
                "<p><b>Note:</b><div></div>",
                "<li>The length of <code>root</code> will be in the range <code>[0, 1000]</code>.</li><div></div>",
                "<li>Each value of a node in the input will be an integer in the range <code>[0, 999]</code>.</li><div></div>",
                "<li><code>k</code> will be an integer in the range <code>[1, 50]</code>.</li><div></div>",
                "</p><div></div>"
            ],
            "metadata": {}
        },
        {
            "cell_type": "code",
            "metadata": {},
            "execution_count": null,
            "source": "%%writefile split_linked_list_in_parts.py\n# Definition for singly-linked list.\n# class ListNode:\n#     def __init__(self, x):\n#         self.val = x\n#         self.next = None\n\nclass Solution:\n    def splitListToParts(self, root, k):\n        \"\"\"\n        :type root: ListNode\n        :type k: int\n        :rtype: List[ListNode]\n        \"\"\"",
            "outputs": []
        },
        {
            "cell_type": "code",
            "metadata": {},
            "execution_count": null,
            "source": "# submit\n%run ../../cli.py push --method=submit --path=split_linked_list_in_parts.py --clean=True",
            "outputs": []
        }
    ]
}