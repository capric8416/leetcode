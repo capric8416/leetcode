{
    "nbformat": 4,
    "nbformat_minor": 2,
    "metadata": {
        "kernelspec": {
            "display_name": "Python 3",
            "language": "python",
            "name": "python3"
        },
        "language_info": {
            "codemirror_mode": {
                "name": "ipython",
                "version": 3
            },
            "file_extension": ".py",
            "mimetype": "text/x-python",
            "name": "python",
            "nbconvert_exporter": "python",
            "pygments_lexer": "ipython3",
            "version": "3.7.2"
        }
    },
    "cells": [
        {
            "cell_type": "markdown",
            "source": [
                "<h1>Count of Smaller Numbers After Self</h1>",
                "<p>You are given an integer array <i>nums</i> and you have to return a new <i>counts</i> array. The <i>counts</i> array has the property where <code>counts[i]</code> is the number of smaller elements to the right of <code>nums[i]</code>.</p><div></div>",
                "<div></div>",
                "<p><b>Example:</b></p><div></div>",
                "<div></div>",
                "<pre><div></div>",
                "<strong>Input:</strong> [5,2,6,1]<div></div>",
                "<strong>Output:</strong> <code>[2,1,1,0] <div></div>",
                "<strong>Explanation:</strong></code><div></div>",
                "To the right of 5 there are <b>2</b> smaller elements (2 and 1).<div></div>",
                "To the right of 2 there is only <b>1</b> smaller element (1).<div></div>",
                "To the right of 6 there is <b>1</b> smaller element (1).<div></div>",
                "To the right of 1 there is <b>0</b> smaller element.<div></div>",
                "</pre><div></div>",
                "<div></div>"
            ],
            "metadata": {}
        },
        {
            "cell_type": "code",
            "metadata": {},
            "execution_count": null,
            "source": "%%writefile count_of_smaller_numbers_after_self.py\nclass Solution:\n    def countSmaller(self, nums):\n        \"\"\"\n        :type nums: List[int]\n        :rtype: List[int]\n        \"\"\"",
            "outputs": []
        },
        {
            "cell_type": "code",
            "metadata": {},
            "execution_count": null,
            "source": "# submit\n%run ../../cli.py push --method=submit --path=count_of_smaller_numbers_after_self.py --clean=True",
            "outputs": []
        }
    ]
}