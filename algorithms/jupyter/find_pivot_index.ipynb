{
    "nbformat": 4,
    "nbformat_minor": 2,
    "metadata": {
        "kernelspec": {
            "display_name": "Python 3",
            "language": "python",
            "name": "python3"
        },
        "language_info": {
            "codemirror_mode": {
                "name": "ipython",
                "version": 3
            },
            "file_extension": ".py",
            "mimetype": "text/x-python",
            "name": "python",
            "nbconvert_exporter": "python",
            "pygments_lexer": "ipython3",
            "version": "3.7.2"
        }
    },
    "cells": [
        {
            "cell_type": "markdown",
            "source": [
                "<h1>Find Pivot Index</h1>",
                "<p>Given an array of integers <code>nums</code>, write a method that returns the \"pivot\" index of this array.<div></div>",
                "</p><p><div></div>",
                "We define the pivot index as the index where the sum of the numbers to the left of the index is equal to the sum of the numbers to the right of the index.<div></div>",
                "</p><p><div></div>",
                "If no such index exists, we should return -1. If there are multiple pivot indexes, you should return the left-most pivot index.<div></div>",
                "</p><div></div>",
                "<div></div>",
                "<p><b>Example 1:</b><br /><div></div>",
                "<pre><div></div>",
                "<b>Input:</b> <div></div>",
                "nums = [1, 7, 3, 6, 5, 6]<div></div>",
                "<b>Output:</b> 3<div></div>",
                "<b>Explanation:</b> <div></div>",
                "The sum of the numbers to the left of index 3 (nums[3] = 6) is equal to the sum of numbers to the right of index 3.<div></div>",
                "Also, 3 is the first index where this occurs.<div></div>",
                "</pre><div></div>",
                "</p><div></div>",
                "<div></div>",
                "<p><b>Example 2:</b><br /><div></div>",
                "<pre><div></div>",
                "<b>Input:</b> <div></div>",
                "nums = [1, 2, 3]<div></div>",
                "<b>Output:</b> -1<div></div>",
                "<b>Explanation:</b> <div></div>",
                "There is no index that satisfies the conditions in the problem statement.<div></div>",
                "</pre><div></div>",
                "</p><div></div>",
                "<div></div>",
                "<p><b>Note:</b><div></div>",
                "<li>The length of <code>nums</code> will be in the range <code>[0, 10000]</code>.</li><div></div>",
                "<li>Each element <code>nums[i]</code> will be an integer in the range <code>[-1000, 1000]</code>.</li><div></div>",
                "</p><div></div>"
            ],
            "metadata": {}
        },
        {
            "cell_type": "code",
            "metadata": {},
            "execution_count": null,
            "source": "%%writefile find_pivot_index.py\nclass Solution:\n    def pivotIndex(self, nums):\n        \"\"\"\n        :type nums: List[int]\n        :rtype: int\n        \"\"\"",
            "outputs": []
        },
        {
            "cell_type": "code",
            "metadata": {},
            "execution_count": null,
            "source": "# submit\n%run ../../cli.py push --method=submit --path=find_pivot_index.py --clean=True",
            "outputs": []
        }
    ]
}