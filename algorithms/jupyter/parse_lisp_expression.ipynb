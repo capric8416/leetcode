{
    "nbformat": 4,
    "nbformat_minor": 2,
    "metadata": {
        "kernelspec": {
            "display_name": "Python 3",
            "language": "python",
            "name": "python3"
        },
        "language_info": {
            "codemirror_mode": {
                "name": "ipython",
                "version": 3
            },
            "file_extension": ".py",
            "mimetype": "text/x-python",
            "name": "python",
            "nbconvert_exporter": "python",
            "pygments_lexer": "ipython3",
            "version": "3.7.2"
        }
    },
    "cells": [
        {
            "cell_type": "markdown",
            "source": [
                "<h1>Parse Lisp Expression</h1>",
                "<p><div></div>",
                "You are given a string <code>expression</code> representing a Lisp-like expression to return the integer value of.<div></div>",
                "</p><p><div></div>",
                "The syntax for these expressions is given as follows.<div></div>",
                "</p><p><div></div>",
                "<li>An expression is either an integer, a let-expression, an add-expression, a mult-expression, or an assigned variable.  Expressions always evaluate to a single integer.</li><div></div>",
                "</p><p><div></div>",
                "<li>(An integer could be positive or negative.)</li><div></div>",
                "</p><p><div></div>",
                "<li>A let-expression takes the form <code>(let v1 e1 v2 e2 ... vn en expr)</code>, where <code>let</code> is always the string <code>\"let\"</code>, then there are 1 or more pairs of alternating variables and expressions, meaning that the first variable <code>v1</code> is assigned the value of the expression <code>e1</code>, the second variable <code>v2</code> is assigned the value of the expression <code>e2</code>, and so on <b>sequentially</b>; and then the value of this let-expression is the value of the expression <code>expr</code>.</li><div></div>",
                "</p><p><div></div>",
                "<li>An add-expression takes the form <code>(add e1 e2)</code> where <code>add</code> is always the string <code>\"add\"</code>, there are always two expressions <code>e1, e2</code>, and this expression evaluates to the addition of the evaluation of <code>e1</code> and the evaluation of <code>e2</code>.</li><div></div>",
                "</p><p><div></div>",
                "<li>A mult-expression takes the form <code>(mult e1 e2)</code> where <code>mult</code> is always the string <code>\"mult\"</code>, there are always two expressions <code>e1, e2</code>, and this expression evaluates to the multiplication of the evaluation of <code>e1</code> and the evaluation of <code>e2</code>.</li><div></div>",
                "</p><p><div></div>",
                "<li>For the purposes of this question, we will use a smaller subset of variable names.  A variable starts with a lowercase letter, then zero or more lowercase letters or digits.  Additionally for your convenience, the names \"add\", \"let\", or \"mult\" are protected and will never be used as variable names.</li><div></div>",
                "</p><p><div></div>",
                "<li>Finally, there is the concept of scope.  When an expression of a variable name is evaluated, <b>within the context of that evaluation</b>, the innermost scope (in terms of parentheses) is checked first for the value of that variable, and then outer scopes are checked sequentially.  It is guaranteed that every expression is legal.  Please see the examples for more details on scope.</li><div></div>",
                "</p><div></div>",
                "<div></div>",
                "<p><b>Evaluation Examples:</b><br /><div></div>",
                "<pre><div></div>",
                "<b>Input:</b> (add 1 2)<div></div>",
                "<b>Output:</b> 3<div></div>",
                "<div></div>",
                "<b>Input:</b> (mult 3 (add 2 3))<div></div>",
                "<b>Output:</b> 15<div></div>",
                "<div></div>",
                "<b>Input:</b> (let x 2 (mult x 5))<div></div>",
                "<b>Output:</b> 10<div></div>",
                "<div></div>",
                "<b>Input:</b> (let x 2 (mult x (let x 3 y 4 (add x y))))<div></div>",
                "<b>Output:</b> 14<div></div>",
                "<b>Explanation:</b> In the expression (add x y), when checking for the value of the variable x,<div></div>",
                "we check from the innermost scope to the outermost in the context of the variable we are trying to evaluate.<div></div>",
                "Since x = 3 is found first, the value of x is 3.<div></div>",
                "<div></div>",
                "<b>Input:</b> (let x 3 x 2 x)<div></div>",
                "<b>Output:</b> 2<div></div>",
                "<b>Explanation:</b> Assignment in let statements is processed sequentially.<div></div>",
                "<div></div>",
                "<b>Input:</b> (let x 1 y 2 x (add x y) (add x y))<div></div>",
                "<b>Output:</b> 5<div></div>",
                "<b>Explanation:</b> The first (add x y) evaluates as 3, and is assigned to x.<div></div>",
                "The second (add x y) evaluates as 3+2 = 5.<div></div>",
                "<div></div>",
                "<b>Input:</b> (let x 2 (add (let x 3 (let x 4 x)) x))<div></div>",
                "<b>Output:</b> 6<div></div>",
                "<b>Explanation:</b> Even though (let x 4 x) has a deeper scope, it is outside the context<div></div>",
                "of the final x in the add-expression.  That final x will equal 2.<div></div>",
                "<div></div>",
                "<b>Input:</b> (let a1 3 b2 (add a1 1) b2) <div></div>",
                "<b>Output</b> 4<div></div>",
                "<b>Explanation:</b> Variable names can contain digits after the first character.<div></div>",
                "<div></div>",
                "</pre><div></div>",
                "<div></div>",
                "<p><b>Note:</b><div></div>",
                "<li>The given string <code>expression</code> is well formatted: There are no leading or trailing spaces, there is only a single space separating different components of the string, and no space between adjacent parentheses.  The expression is guaranteed to be legal and evaluate to an integer.</li><div></div>",
                "<li>The length of <code>expression</code> is at most 2000.  (It is also non-empty, as that would not be a legal expression.)</li><div></div>",
                "<li>The answer and all intermediate calculations of that answer are guaranteed to fit in a 32-bit integer.</li><div></div>",
                "</p><div></div>"
            ],
            "metadata": {}
        },
        {
            "cell_type": "code",
            "metadata": {},
            "execution_count": null,
            "source": "%%writefile parse_lisp_expression.py\nclass Solution:\n    def evaluate(self, expression):\n        \"\"\"\n        :type expression: str\n        :rtype: int\n        \"\"\"",
            "outputs": []
        },
        {
            "cell_type": "code",
            "metadata": {},
            "execution_count": null,
            "source": "# submit\n%run ../../cli.py push --method=submit --path=parse_lisp_expression.py --clean=True",
            "outputs": []
        }
    ]
}