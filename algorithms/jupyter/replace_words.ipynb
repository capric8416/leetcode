{
    "nbformat": 4,
    "nbformat_minor": 2,
    "metadata": {
        "kernelspec": {
            "display_name": "Python 3",
            "language": "python",
            "name": "python3"
        },
        "language_info": {
            "codemirror_mode": {
                "name": "ipython",
                "version": 3
            },
            "file_extension": ".py",
            "mimetype": "text/x-python",
            "name": "python",
            "nbconvert_exporter": "python",
            "pygments_lexer": "ipython3",
            "version": "3.7.2"
        }
    },
    "cells": [
        {
            "cell_type": "markdown",
            "source": [
                "<h1>Replace Words</h1>",
                "<p><div></div>",
                "In English, we have a concept called <code>root</code>, which can be followed by some other words to form another longer word - let's call this word <code>successor</code>. For example, the root <code>an</code>, followed by <code>other</code>, which can form another word <code>another</code>.<div></div>",
                "</p><div></div>",
                "<div></div>",
                "<div></div>",
                "<p><div></div>",
                "Now, given a dictionary consisting of many roots and a sentence. You need to replace all the <code>successor</code> in the sentence with the <code>root</code> forming it. If a <code>successor</code> has many <code>roots</code> can form it, replace it with the root with the shortest length.<div></div>",
                "</p><div></div>",
                "<div></div>",
                "<p><div></div>",
                "You need to output the sentence after the replacement.<div></div>",
                "</p><div></div>",
                "<div></div>",
                "<div></div>",
                "<p><b>Example 1:</b><br /><div></div>",
                "<pre><div></div>",
                "<b>Input:</b> dict = [\"cat\", \"bat\", \"rat\"]<div></div>",
                "sentence = \"the cattle was rattled by the battery\"<div></div>",
                "<b>Output:</b> \"the cat was rat by the bat\"<div></div>",
                "</pre><div></div>",
                "</p><div></div>",
                "<div></div>",
                "<div></div>",
                "<p><b>Note:</b><br><div></div>",
                "<ol><div></div>",
                "<li>The input will only have lower-case letters.</li><div></div>",
                "<li> 1 <= dict words number <= 1000 </li><div></div>",
                "<li> 1 <= sentence words number <= 1000  </li><div></div>",
                "<li> 1 <= root length <= 100 </li><div></div>",
                "<li> 1 <= sentence words length <= 1000 </li><div></div>",
                "</ol><div></div>",
                "</p><div></div>"
            ],
            "metadata": {}
        },
        {
            "cell_type": "code",
            "metadata": {},
            "execution_count": null,
            "source": "%%writefile replace_words.py\nclass Solution:\n    def replaceWords(self, dict, sentence):\n        \"\"\"\n        :type dict: List[str]\n        :type sentence: str\n        :rtype: str\n        \"\"\"",
            "outputs": []
        },
        {
            "cell_type": "code",
            "metadata": {},
            "execution_count": null,
            "source": "# submit\n%run ../../cli.py push --method=submit --path=replace_words.py --clean=True",
            "outputs": []
        }
    ]
}