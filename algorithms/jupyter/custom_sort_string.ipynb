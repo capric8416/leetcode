{
    "nbformat": 4,
    "nbformat_minor": 2,
    "metadata": {
        "kernelspec": {
            "display_name": "Python 3",
            "language": "python",
            "name": "python3"
        },
        "language_info": {
            "codemirror_mode": {
                "name": "ipython",
                "version": 3
            },
            "file_extension": ".py",
            "mimetype": "text/x-python",
            "name": "python",
            "nbconvert_exporter": "python",
            "pygments_lexer": "ipython3",
            "version": "3.7.2"
        }
    },
    "cells": [
        {
            "cell_type": "markdown",
            "source": [
                "<h1>Custom Sort String</h1>",
                "<p><code>S</code> and <code>T</code> are strings composed of lowercase letters. In <code>S</code>, no letter occurs more than once.</p><div></div>",
                "<div></div>",
                "<p><code>S</code> was sorted in some custom order previously. We want to permute the characters of <code>T</code> so that they match the order that <code>S</code> was sorted. More specifically, if <code>x</code> occurs before <code>y</code> in <code>S</code>, then <code>x</code> should occur before <code>y</code> in the returned string.</p><div></div>",
                "<div></div>",
                "<p>Return any permutation of <code>T</code> (as a string) that satisfies this property.</p><div></div>",
                "<div></div>",
                "<pre><div></div>",
                "<strong>Example :</strong><div></div>",
                "<strong>Input:</strong> <div></div>",
                "S = &quot;cba&quot;<div></div>",
                "T = &quot;abcd&quot;<div></div>",
                "<strong>Output:</strong> &quot;cbad&quot;<div></div>",
                "<strong>Explanation:</strong> <div></div>",
                "&quot;a&quot;, &quot;b&quot;, &quot;c&quot; appear in S, so the order of &quot;a&quot;, &quot;b&quot;, &quot;c&quot; should be &quot;c&quot;, &quot;b&quot;, and &quot;a&quot;. <div></div>",
                "Since &quot;d&quot; does not appear in S, it can be at any position in T. &quot;dcba&quot;, &quot;cdba&quot;, &quot;cbda&quot; are also valid outputs.<div></div>",
                "</pre><div></div>",
                "<div></div>",
                "<p>&nbsp;</p><div></div>",
                "<div></div>",
                "<p><strong>Note:</strong></p><div></div>",
                "<div></div>",
                "<ul><div></div>",
                "\t<li><code>S</code> has length at most <code>26</code>, and no character is repeated in <code>S</code>.</li><div></div>",
                "\t<li><code>T</code> has length at most <code>200</code>.</li><div></div>",
                "\t<li><code>S</code> and <code>T</code> consist of lowercase letters only.</li><div></div>",
                "</ul><div></div>",
                "<div></div>"
            ],
            "metadata": {}
        },
        {
            "cell_type": "code",
            "metadata": {},
            "execution_count": null,
            "source": "%%writefile custom_sort_string.py\nclass Solution:\n    def customSortString(self, S, T):\n        \"\"\"\n        :type S: str\n        :type T: str\n        :rtype: str\n        \"\"\"",
            "outputs": []
        },
        {
            "cell_type": "code",
            "metadata": {},
            "execution_count": null,
            "source": "# submit\n%run ../../cli.py push --method=submit --path=custom_sort_string.py --clean=True",
            "outputs": []
        }
    ]
}