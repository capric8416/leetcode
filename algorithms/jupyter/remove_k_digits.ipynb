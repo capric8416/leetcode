{
    "nbformat": 4,
    "nbformat_minor": 2,
    "metadata": {
        "kernelspec": {
            "display_name": "Python 3",
            "language": "python",
            "name": "python3"
        },
        "language_info": {
            "codemirror_mode": {
                "name": "ipython",
                "version": 3
            },
            "file_extension": ".py",
            "mimetype": "text/x-python",
            "name": "python",
            "nbconvert_exporter": "python",
            "pygments_lexer": "ipython3",
            "version": "3.7.2"
        }
    },
    "cells": [
        {
            "cell_type": "markdown",
            "source": [
                "<h1>Remove K Digits</h1>",
                "<p>Given a non-negative integer <i>num</i> represented as a string, remove <i>k</i> digits from the number so that the new number is the smallest possible.<div></div>",
                "</p><div></div>",
                "<div></div>",
                "<p><b>Note:</b><br /><div></div>",
                "<ul><div></div>",
                "<li>The length of <i>num</i> is less than 10002 and will be &ge; <i>k</i>.</li><div></div>",
                "<li>The given <i>num</i> does not contain any leading zero.</li><div></div>",
                "</ul><div></div>",
                "</b><div></div>",
                "</p><div></div>",
                "<div></div>",
                "<p><b>Example 1:</b><div></div>",
                "<pre><div></div>",
                "Input: num = \"1432219\", k = 3<div></div>",
                "Output: \"1219\"<div></div>",
                "Explanation: Remove the three digits 4, 3, and 2 to form the new number 1219 which is the smallest.<div></div>",
                "</pre><div></div>",
                "</p><div></div>",
                "<div></div>",
                "<p><b>Example 2:</b><div></div>",
                "<pre><div></div>",
                "Input: num = \"10200\", k = 1<div></div>",
                "Output: \"200\"<div></div>",
                "Explanation: Remove the leading 1 and the number is 200. Note that the output must not contain leading zeroes.<div></div>",
                "</pre><div></div>",
                "</p><div></div>",
                "<div></div>",
                "<p><b>Example 3:</b><div></div>",
                "<pre><div></div>",
                "Input: num = \"10\", k = 2<div></div>",
                "Output: \"0\"<div></div>",
                "Explanation: Remove all the digits from the number and it is left with nothing which is 0.<div></div>",
                "</pre><div></div>",
                "</p><div></div>"
            ],
            "metadata": {}
        },
        {
            "cell_type": "code",
            "metadata": {},
            "execution_count": null,
            "source": "%%writefile remove_k_digits.py\nclass Solution:\n    def removeKdigits(self, num, k):\n        \"\"\"\n        :type num: str\n        :type k: int\n        :rtype: str\n        \"\"\"",
            "outputs": []
        },
        {
            "cell_type": "code",
            "metadata": {},
            "execution_count": null,
            "source": "# submit\n%run ../../cli.py push --method=submit --path=remove_k_digits.py --clean=True",
            "outputs": []
        }
    ]
}