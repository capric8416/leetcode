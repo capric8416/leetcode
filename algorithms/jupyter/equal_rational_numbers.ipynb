{
    "nbformat": 4,
    "nbformat_minor": 2,
    "metadata": {
        "kernelspec": {
            "display_name": "Python 3",
            "language": "python",
            "name": "python3"
        },
        "language_info": {
            "codemirror_mode": {
                "name": "ipython",
                "version": 3
            },
            "file_extension": ".py",
            "mimetype": "text/x-python",
            "name": "python",
            "nbconvert_exporter": "python",
            "pygments_lexer": "ipython3",
            "version": "3.7.2"
        }
    },
    "cells": [
        {
            "cell_type": "markdown",
            "source": [
                "<h1>Equal Rational Numbers</h1>",
                "<p>Given two strings <code>S</code> and <code>T</code>, each of which represents a non-negative rational number, return <strong>True</strong> if and only if they represent the same number. The strings may use parentheses to denote the repeating part of the rational number.</p><div></div>",
                "<div></div>",
                "<p>In general a rational number can be represented using up to&nbsp;three parts: an&nbsp;<em>integer part</em>, a&nbsp;<em>non-repeating part,</em> and a&nbsp;<em>repeating part</em>. The number will be represented&nbsp;in one of the following three ways:</p><div></div>",
                "<div></div>",
                "<ul><div></div>",
                "\t<li><code>&lt;IntegerPart&gt;</code> (e.g. 0, 12, 123)</li><div></div>",
                "\t<li><code>&lt;IntegerPart&gt;&lt;.&gt;&lt;NonRepeatingPart&gt;</code> &nbsp;(e.g. 0.5, 1., 2.12, 2.0001)</li><div></div>",
                "\t<li><code>&lt;IntegerPart&gt;&lt;.&gt;&lt;NonRepeatingPart&gt;&lt;(&gt;&lt;RepeatingPart&gt;&lt;)&gt;</code> (e.g. 0.1(6), 0.9(9), 0.00(1212))</li><div></div>",
                "</ul><div></div>",
                "<div></div>",
                "<p>The repeating portion of a decimal expansion is conventionally denoted within a pair of round brackets.&nbsp; For example:</p><div></div>",
                "<div></div>",
                "<p>1 / 6 = 0.16666666... = 0.1(6) = 0.1666(6) = 0.166(66)</p><div></div>",
                "<div></div>",
                "<p>Both 0.1(6) or 0.1666(6) or 0.166(66) are correct representations of 1 / 6.</p><div></div>",
                "<div></div>",
                "<p>&nbsp;</p><div></div>",
                "<div></div>",
                "<p><strong>Example 1:</strong></p><div></div>",
                "<div></div>",
                "<pre><div></div>",
                "<strong>Input: </strong>S = <span id=\"example-input-1-1\">&quot;0.(52)&quot;</span>, T = <span id=\"example-input-1-2\">&quot;0.5(25)&quot;</span><div></div>",
                "<strong>Output: </strong><span id=\"example-output-1\">true</span><div></div>",
                "<strong>Explanation:<div></div>",
                "</strong>Because &quot;0.(52)&quot; represents 0.52525252..., and &quot;0.5(25)&quot; represents 0.52525252525..... , the strings represent the same number.<div></div>",
                "</pre><div></div>",
                "<div></div>",
                "<div><div></div>",
                "<p><strong>Example 2:</strong></p><div></div>",
                "<div></div>",
                "<pre><div></div>",
                "<strong>Input: </strong>S = <span id=\"example-input-2-1\">&quot;0.1666(6)&quot;</span>, T = <span id=\"example-input-2-2\">&quot;0.166(66)&quot;</span><div></div>",
                "<strong>Output: </strong><span id=\"example-output-2\">true</span><div></div>",
                "</pre><div></div>",
                "<div></div>",
                "<div><div></div>",
                "<p><strong>Example 3:</strong></p><div></div>",
                "<div></div>",
                "<pre><div></div>",
                "<strong>Input: </strong>S = <span id=\"example-input-3-1\">&quot;0.9(9)&quot;</span>, T = <span id=\"example-input-3-2\">&quot;1.&quot;</span><div></div>",
                "<strong>Output: </strong><span id=\"example-output-3\">true</span><div></div>",
                "<strong>Explanation: </strong><div></div>",
                "&quot;0.9(9)&quot; represents 0.999999999... repeated forever, which equals 1.  [<a href=\"https://en.wikipedia.org/wiki/0.999...\" target=\"_blank\">See this link for an explanation.</a>]<div></div>",
                "&quot;1.&quot; represents the number 1, which is formed correctly: (IntegerPart) = &quot;1&quot; and (NonRepeatingPart) = &quot;&quot;.</pre><div></div>",
                "<div></div>",
                "<p>&nbsp;</p><div></div>",
                "</div><div></div>",
                "</div><div></div>",
                "<div></div>",
                "<p><strong>Note:</strong></p><div></div>",
                "<div></div>",
                "<ol><div></div>",
                "\t<li>Each part consists only of digits.</li><div></div>",
                "\t<li>The <code>&lt;IntegerPart&gt;</code>&nbsp;will&nbsp;not begin with 2 or more zeros.&nbsp; (There is no other restriction on the digits of each part.)</li><div></div>",
                "\t<li><code>1 &lt;= &lt;IntegerPart&gt;.length &lt;= 4 </code></li><div></div>",
                "\t<li><code>0 &lt;= &lt;NonRepeatingPart&gt;.length &lt;= 4 </code></li><div></div>",
                "\t<li><code>1 &lt;= &lt;RepeatingPart&gt;.length &lt;= 4</code></li><div></div>",
                "</ol><div></div>",
                "<div></div>"
            ],
            "metadata": {}
        },
        {
            "cell_type": "code",
            "metadata": {},
            "execution_count": null,
            "source": "%%writefile equal_rational_numbers.py\nclass Solution:\n    def isRationalEqual(self, S, T):\n        \"\"\"\n        :type S: str\n        :type T: str\n        :rtype: bool\n        \"\"\"",
            "outputs": []
        },
        {
            "cell_type": "code",
            "metadata": {},
            "execution_count": null,
            "source": "# submit\n%run ../../cli.py push --method=submit --path=equal_rational_numbers.py --clean=True",
            "outputs": []
        }
    ]
}