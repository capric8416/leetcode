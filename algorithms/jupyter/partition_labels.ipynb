{
    "nbformat": 4,
    "nbformat_minor": 2,
    "metadata": {
        "kernelspec": {
            "display_name": "Python 3",
            "language": "python",
            "name": "python3"
        },
        "language_info": {
            "codemirror_mode": {
                "name": "ipython",
                "version": 3
            },
            "file_extension": ".py",
            "mimetype": "text/x-python",
            "name": "python",
            "nbconvert_exporter": "python",
            "pygments_lexer": "ipython3",
            "version": "3.7.2"
        }
    },
    "cells": [
        {
            "cell_type": "markdown",
            "source": [
                "<h1>Partition Labels</h1>",
                "<p><div></div>",
                "A string <code>S</code> of lowercase letters is given.  We want to partition this string into as many parts as possible so that each letter appears in at most one part, and return a list of integers representing the size of these parts.<div></div>",
                "</p><p><div></div>",
                "<div></div>",
                "<p><b>Example 1:</b><br /><div></div>",
                "<pre><div></div>",
                "<b>Input:</b> S = \"ababcbacadefegdehijhklij\"<div></div>",
                "<b>Output:</b> [9,7,8]<div></div>",
                "<b>Explanation:</b><div></div>",
                "The partition is \"ababcbaca\", \"defegde\", \"hijhklij\".<div></div>",
                "This is a partition so that each letter appears in at most one part.<div></div>",
                "A partition like \"ababcbacadefegde\", \"hijhklij\" is incorrect, because it splits S into less parts.<div></div>",
                "</pre><div></div>",
                "</p><div></div>",
                "<div></div>",
                "<p><b>Note:</b><br><ol><div></div>",
                "<li><code>S</code> will have length in range <code>[1, 500]</code>.</li><div></div>",
                "<li><code>S</code> will consist of lowercase letters (<code>'a'</code> to <code>'z'</code>) only.</li><div></div>",
                "</ol></p><div></div>"
            ],
            "metadata": {}
        },
        {
            "cell_type": "code",
            "metadata": {},
            "execution_count": null,
            "source": "%%writefile partition_labels.py\nclass Solution:\n    def partitionLabels(self, S):\n        \"\"\"\n        :type S: str\n        :rtype: List[int]\n        \"\"\"",
            "outputs": []
        },
        {
            "cell_type": "code",
            "metadata": {},
            "execution_count": null,
            "source": "# submit\n%run ../../cli.py push --method=submit --path=partition_labels.py --clean=True",
            "outputs": []
        }
    ]
}