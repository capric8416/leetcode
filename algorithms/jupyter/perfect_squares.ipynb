{
    "nbformat": 4,
    "nbformat_minor": 2,
    "metadata": {
        "kernelspec": {
            "display_name": "Python 3",
            "language": "python",
            "name": "python3"
        },
        "language_info": {
            "codemirror_mode": {
                "name": "ipython",
                "version": 3
            },
            "file_extension": ".py",
            "mimetype": "text/x-python",
            "name": "python",
            "nbconvert_exporter": "python",
            "pygments_lexer": "ipython3",
            "version": "3.7.2"
        }
    },
    "cells": [
        {
            "cell_type": "markdown",
            "source": [
                "<h1>Perfect Squares</h1>",
                "<p>Given a positive integer <i>n</i>, find the least number of perfect square numbers (for example, <code>1, 4, 9, 16, ...</code>) which sum to <i>n</i>.</p><div></div>",
                "<div></div>",
                "<p><b>Example 1:</b></p><div></div>",
                "<div></div>",
                "<pre><div></div>",
                "<b>Input:</b> <i>n</i> = <code>12</code><div></div>",
                "<b>Output:</b> 3 <div></div>",
                "<strong>Explanation: </strong><code>12 = 4 + 4 + 4.</code></pre><div></div>",
                "<div></div>",
                "<p><b>Example 2:</b></p><div></div>",
                "<div></div>",
                "<pre><div></div>",
                "<b>Input:</b> <i>n</i> = <code>13</code><div></div>",
                "<b>Output:</b> 2<div></div>",
                "<strong>Explanation: </strong><code>13 = 4 + 9.</code></pre><div></div>"
            ],
            "metadata": {}
        },
        {
            "cell_type": "code",
            "metadata": {},
            "execution_count": null,
            "source": "%%writefile perfect_squares.py\nclass Solution:\n    def numSquares(self, n):\n        \"\"\"\n        :type n: int\n        :rtype: int\n        \"\"\"",
            "outputs": []
        },
        {
            "cell_type": "code",
            "metadata": {},
            "execution_count": null,
            "source": "# submit\n%run ../../cli.py push --method=submit --path=perfect_squares.py --clean=True",
            "outputs": []
        }
    ]
}