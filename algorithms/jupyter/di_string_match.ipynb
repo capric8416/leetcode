{
    "nbformat": 4,
    "nbformat_minor": 2,
    "metadata": {
        "kernelspec": {
            "display_name": "Python 3",
            "language": "python",
            "name": "python3"
        },
        "language_info": {
            "codemirror_mode": {
                "name": "ipython",
                "version": 3
            },
            "file_extension": ".py",
            "mimetype": "text/x-python",
            "name": "python",
            "nbconvert_exporter": "python",
            "pygments_lexer": "ipython3",
            "version": "3.7.2"
        }
    },
    "cells": [
        {
            "cell_type": "markdown",
            "source": [
                "<h1>DI String Match</h1>",
                "<p>Given a string <code>S</code> that <strong>only</strong> contains &quot;I&quot; (increase) or &quot;D&quot; (decrease), let <code>N = S.length</code>.</p><div></div>",
                "<div></div>",
                "<p>Return <strong>any</strong> permutation <code>A</code> of <code>[0, 1, ..., N]</code> such that for all <code>i = 0,&nbsp;..., N-1</code>:</p><div></div>",
                "<div></div>",
                "<ul><div></div>",
                "\t<li>If <code>S[i] == &quot;I&quot;</code>, then <code>A[i] &lt; A[i+1]</code></li><div></div>",
                "\t<li>If <code>S[i] == &quot;D&quot;</code>, then <code>A[i] &gt; A[i+1]</code></li><div></div>",
                "</ul><div></div>",
                "<div></div>",
                "<p>&nbsp;</p><div></div>",
                "<div></div>",
                "<p><strong>Example 1:</strong></p><div></div>",
                "<div></div>",
                "<pre><div></div>",
                "<strong>Input: </strong><span id=\"example-input-1-1\">&quot;IDID&quot;</span><div></div>",
                "<strong>Output: </strong><span id=\"example-output-1\">[0,4,1,3,2]</span><div></div>",
                "</pre><div></div>",
                "<div></div>",
                "<div><div></div>",
                "<p><strong>Example 2:</strong></p><div></div>",
                "<div></div>",
                "<pre><div></div>",
                "<strong>Input: </strong><span id=\"example-input-2-1\">&quot;III&quot;</span><div></div>",
                "<strong>Output: </strong><span id=\"example-output-2\">[0,1,2,3]</span><div></div>",
                "</pre><div></div>",
                "<div></div>",
                "<div><div></div>",
                "<p><strong>Example 3:</strong></p><div></div>",
                "<div></div>",
                "<pre><div></div>",
                "<strong>Input: </strong><span id=\"example-input-3-1\">&quot;DDI&quot;</span><div></div>",
                "<strong>Output: </strong><span id=\"example-output-3\">[3,2,0,1]</span></pre><div></div>",
                "</div><div></div>",
                "</div><div></div>",
                "<div></div>",
                "<p>&nbsp;</p><div></div>",
                "<div></div>",
                "<p><strong>Note:</strong></p><div></div>",
                "<div></div>",
                "<ol><div></div>",
                "\t<li><code>1 &lt;= S.length &lt;= 10000</code></li><div></div>",
                "\t<li><code>S</code> only contains characters <code>&quot;I&quot;</code> or <code>&quot;D&quot;</code>.</li><div></div>",
                "</ol><div></div>"
            ],
            "metadata": {}
        },
        {
            "cell_type": "code",
            "metadata": {},
            "execution_count": null,
            "source": "%%writefile di_string_match.py\nclass Solution:\n    def diStringMatch(self, S):\n        \"\"\"\n        :type S: str\n        :rtype: List[int]\n        \"\"\"",
            "outputs": []
        },
        {
            "cell_type": "code",
            "metadata": {},
            "execution_count": null,
            "source": "# submit\n%run ../../cli.py push --method=submit --path=di_string_match.py --clean=True",
            "outputs": []
        }
    ]
}