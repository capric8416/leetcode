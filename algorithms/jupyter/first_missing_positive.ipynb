{
    "nbformat": 4,
    "nbformat_minor": 2,
    "metadata": {
        "kernelspec": {
            "display_name": "Python 3",
            "language": "python",
            "name": "python3"
        },
        "language_info": {
            "codemirror_mode": {
                "name": "ipython",
                "version": 3
            },
            "file_extension": ".py",
            "mimetype": "text/x-python",
            "name": "python",
            "nbconvert_exporter": "python",
            "pygments_lexer": "ipython3",
            "version": "3.7.2"
        }
    },
    "cells": [
        {
            "cell_type": "markdown",
            "source": [
                "<h1>First Missing Positive</h1>",
                "<p>Given an unsorted integer array, find the smallest missing&nbsp;positive integer.</p><div></div>",
                "<div></div>",
                "<p><strong>Example 1:</strong></p><div></div>",
                "<div></div>",
                "<pre><div></div>",
                "Input: [1,2,0]<div></div>",
                "Output: 3<div></div>",
                "</pre><div></div>",
                "<div></div>",
                "<p><strong>Example 2:</strong></p><div></div>",
                "<div></div>",
                "<pre><div></div>",
                "Input: [3,4,-1,1]<div></div>",
                "Output: 2<div></div>",
                "</pre><div></div>",
                "<div></div>",
                "<p><strong>Example 3:</strong></p><div></div>",
                "<div></div>",
                "<pre><div></div>",
                "Input: [7,8,9,11,12]<div></div>",
                "Output: 1<div></div>",
                "</pre><div></div>",
                "<div></div>",
                "<p><strong>Note:</strong></p><div></div>",
                "<div></div>",
                "<p>Your algorithm should run in <em>O</em>(<em>n</em>) time and uses constant extra space.</p><div></div>",
                "<div></div>"
            ],
            "metadata": {}
        },
        {
            "cell_type": "code",
            "metadata": {},
            "execution_count": null,
            "source": "%%writefile first_missing_positive.py\nclass Solution:\n    def firstMissingPositive(self, nums):\n        \"\"\"\n        :type nums: List[int]\n        :rtype: int\n        \"\"\"",
            "outputs": []
        },
        {
            "cell_type": "code",
            "metadata": {},
            "execution_count": null,
            "source": "# submit\n%run ../../cli.py push --method=submit --path=first_missing_positive.py --clean=True",
            "outputs": []
        }
    ]
}