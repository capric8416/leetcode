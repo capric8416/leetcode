{
    "nbformat": 4,
    "nbformat_minor": 2,
    "metadata": {
        "kernelspec": {
            "display_name": "Python 3",
            "language": "python",
            "name": "python3"
        },
        "language_info": {
            "codemirror_mode": {
                "name": "ipython",
                "version": 3
            },
            "file_extension": ".py",
            "mimetype": "text/x-python",
            "name": "python",
            "nbconvert_exporter": "python",
            "pygments_lexer": "ipython3",
            "version": "3.7.2"
        }
    },
    "cells": [
        {
            "cell_type": "markdown",
            "source": [
                "<h1>Find Mode in Binary Search Tree</h1>",
                "<p>Given a binary search tree (BST) with duplicates, find all the <a href=\"https://en.wikipedia.org/wiki/Mode_(statistics)\" target=\"_blank\">mode(s)</a> (the most frequently occurred element) in the given BST.</p><div></div>",
                "<div></div>",
                "<p>Assume a BST is defined as follows:</p><div></div>",
                "<div></div>",
                "<ul><div></div>",
                "\t<li>The left subtree of a node contains only nodes with keys <b>less than or equal to</b> the node&#39;s key.</li><div></div>",
                "\t<li>The right subtree of a node contains only nodes with keys <b>greater than or equal to</b> the node&#39;s key.</li><div></div>",
                "\t<li>Both the left and right subtrees must also be binary search trees.</li><div></div>",
                "</ul><div></div>",
                "<div></div>",
                "<p>&nbsp;</p><div></div>",
                "<div></div>",
                "<p>For example:<br /><div></div>",
                "Given BST <code>[1,null,2,2]</code>,</p><div></div>",
                "<div></div>",
                "<pre><div></div>",
                "   1<div></div>",
                "    \\<div></div>",
                "     2<div></div>",
                "    /<div></div>",
                "   2<div></div>",
                "</pre><div></div>",
                "<div></div>",
                "<p>&nbsp;</p><div></div>",
                "<div></div>",
                "<p>return <code>[2]</code>.</p><div></div>",
                "<div></div>",
                "<p><b>Note:</b> If a tree has more than one mode, you can return them in any order.</p><div></div>",
                "<div></div>",
                "<p><b>Follow up:</b> Could you do that without using any extra space? (Assume that the implicit stack space incurred due to recursion does not count).</p><div></div>",
                "<div></div>"
            ],
            "metadata": {}
        },
        {
            "cell_type": "code",
            "metadata": {},
            "execution_count": null,
            "source": "%%writefile find_mode_in_binary_search_tree.py\n# Definition for a binary tree node.\n# class TreeNode:\n#     def __init__(self, x):\n#         self.val = x\n#         self.left = None\n#         self.right = None\n\nclass Solution:\n    def findMode(self, root):\n        \"\"\"\n        :type root: TreeNode\n        :rtype: List[int]\n        \"\"\"",
            "outputs": []
        },
        {
            "cell_type": "code",
            "metadata": {},
            "execution_count": null,
            "source": "# submit\n%run ../../cli.py push --method=submit --path=find_mode_in_binary_search_tree.py --clean=True",
            "outputs": []
        }
    ]
}