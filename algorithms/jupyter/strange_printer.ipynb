{
    "nbformat": 4,
    "nbformat_minor": 2,
    "metadata": {
        "kernelspec": {
            "display_name": "Python 3",
            "language": "python",
            "name": "python3"
        },
        "language_info": {
            "codemirror_mode": {
                "name": "ipython",
                "version": 3
            },
            "file_extension": ".py",
            "mimetype": "text/x-python",
            "name": "python",
            "nbconvert_exporter": "python",
            "pygments_lexer": "ipython3",
            "version": "3.7.2"
        }
    },
    "cells": [
        {
            "cell_type": "markdown",
            "source": [
                "<h1>Strange Printer</h1>",
                "<p><div></div>",
                "There is a strange printer with the following two special requirements:<div></div>",
                "<div></div>",
                "<ol><div></div>",
                "<li>The printer can only print a sequence of the same character each time.</li><div></div>",
                "<li>At each turn, the printer can print new characters starting from and ending at any places, and will cover the original existing characters.</li><div></div>",
                "</ol><div></div>",
                "<div></div>",
                "</p><div></div>",
                "<div></div>",
                "<p><div></div>",
                "Given a string consists of lower English letters only, your job is to count the minimum number of turns the printer needed in order to print it.<div></div>",
                "</p><div></div>",
                "<div></div>",
                "<p><b>Example 1:</b><br /><div></div>",
                "<pre><div></div>",
                "<b>Input:</b> \"aaabbb\"<div></div>",
                "<b>Output:</b> 2<div></div>",
                "<b>Explanation:</b> Print \"aaa\" first and then print \"bbb\".<div></div>",
                "</pre><div></div>",
                "</p><div></div>",
                "<div></div>",
                "<p><b>Example 2:</b><br /><div></div>",
                "<pre><div></div>",
                "<b>Input:</b> \"aba\"<div></div>",
                "<b>Output:</b> 2<div></div>",
                "<b>Explanation:</b> Print \"aaa\" first and then print \"b\" from the second place of the string, which will cover the existing character 'a'.<div></div>",
                "</pre><div></div>",
                "</p><div></div>",
                "<div></div>",
                "<p><b>Hint</b>: Length of the given string will not exceed 100.</p><div></div>"
            ],
            "metadata": {}
        },
        {
            "cell_type": "code",
            "metadata": {},
            "execution_count": null,
            "source": "%%writefile strange_printer.py\nclass Solution:\n    def strangePrinter(self, s):\n        \"\"\"\n        :type s: str\n        :rtype: int\n        \"\"\"",
            "outputs": []
        },
        {
            "cell_type": "code",
            "metadata": {},
            "execution_count": null,
            "source": "# submit\n%run ../../cli.py push --method=submit --path=strange_printer.py --clean=True",
            "outputs": []
        }
    ]
}