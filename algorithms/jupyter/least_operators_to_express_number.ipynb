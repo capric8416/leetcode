{
    "nbformat": 4,
    "nbformat_minor": 2,
    "metadata": {
        "kernelspec": {
            "display_name": "Python 3",
            "language": "python",
            "name": "python3"
        },
        "language_info": {
            "codemirror_mode": {
                "name": "ipython",
                "version": 3
            },
            "file_extension": ".py",
            "mimetype": "text/x-python",
            "name": "python",
            "nbconvert_exporter": "python",
            "pygments_lexer": "ipython3",
            "version": "3.7.2"
        }
    },
    "cells": [
        {
            "cell_type": "markdown",
            "source": [
                "<h1>Least Operators to Express Number</h1>",
                "<p>Given a single positive integer <code>x</code>, we will write an expression of the form <code>x (op1) x (op2) x (op3) x ...</code>&nbsp;where each operator <code>op1</code>, <code>op2</code>, etc. is either addition, subtraction, multiplication, or division (<code>+</code>, <code>-</code>, <code>*</code>, or <code>/)</code>.&nbsp; For example, with <code>x = 3</code>, we might write <code>3 * 3 / 3 + 3 - 3</code>&nbsp;which is a value of <font face=\"monospace\">3</font>.</p><div></div>",
                "<div></div>",
                "<p>When writing such an expression, we adhere to the following conventions:</p><div></div>",
                "<div></div>",
                "<ol><div></div>",
                "\t<li>The division operator (<code>/</code>) returns rational numbers.</li><div></div>",
                "\t<li>There are no parentheses placed anywhere.</li><div></div>",
                "\t<li>We use the usual order of operations: multiplication and division happens before addition and subtraction.</li><div></div>",
                "\t<li>It&#39;s not allowed to use the unary negation&nbsp;operator (<code>-</code>).&nbsp; For example, &quot;<code>x&nbsp;- x</code>&quot;&nbsp;is a valid expression as it only uses subtraction, but &quot;<code>-x +&nbsp;x</code>&quot; is not because it uses negation.</li><div></div>",
                "</ol><div></div>",
                "<div></div>",
                "<p>We would like to write an expression with the least number of operators such that the expression equals the given <code>target</code>.&nbsp; Return the least number of operators used.</p><div></div>",
                "<div></div>",
                "<p>&nbsp;</p><div></div>",
                "<div></div>",
                "<div><div></div>",
                "<p><strong>Example 1:</strong></p><div></div>",
                "<div></div>",
                "<pre><div></div>",
                "<strong>Input: </strong>x = <span id=\"example-input-1-1\">3</span>, target = <span id=\"example-input-1-2\">19</span><div></div>",
                "<strong>Output: </strong><span id=\"example-output-1\">5</span><div></div>",
                "<strong>Explanation: </strong><span id=\"example-output-1\">3 * 3 + 3 * 3 + 3 / 3.  The expression contains 5 operations.</span><div></div>",
                "</pre><div></div>",
                "<div></div>",
                "<p><strong>Example 2:</strong></p><div></div>",
                "<div></div>",
                "<div><div></div>",
                "<pre><div></div>",
                "<strong>Input: </strong>x = <span id=\"example-input-2-1\">5</span>, target = <span id=\"example-input-2-2\">501</span><div></div>",
                "<strong>Output: </strong><span id=\"example-output-2\">8</span><div></div>",
                "<strong>Explanation: </strong><span id=\"example-output-1\">5 * 5 * 5 * 5 - 5 * 5 * 5 + 5 / 5.  The expression contains 8 operations.</span><div></div>",
                "</pre><div></div>",
                "<div></div>",
                "<div><div></div>",
                "<p><strong>Example 3:</strong></p><div></div>",
                "<div></div>",
                "<pre><div></div>",
                "<strong>Input: </strong>x = <span id=\"example-input-3-1\">100</span>, target = <span id=\"example-input-3-2\">100000000</span><div></div>",
                "<strong>Output: </strong><span id=\"example-output-3\">3</span><div></div>",
                "<strong>Explanation: </strong><span id=\"example-output-1\">100 * 100 * 100 * 100.  The expression contains 3 operations.</span></pre><div></div>",
                "<div></div>",
                "<p>&nbsp;</p><div></div>",
                "</div><div></div>",
                "</div><div></div>",
                "</div><div></div>",
                "<div></div>",
                "<p><strong>Note:</strong></p><div></div>",
                "<div></div>",
                "<ul><div></div>",
                "\t<li><code>2 &lt;= x &lt;= 100</code></li><div></div>",
                "\t<li><code>1 &lt;= target &lt;= 2 * 10^8</code></li><div></div>",
                "</ul><div></div>",
                "<div></div>",
                "<div><div></div>",
                "<div><div></div>",
                "<div>&nbsp;</div><div></div>",
                "</div><div></div>",
                "</div><div></div>",
                "<div></div>"
            ],
            "metadata": {}
        },
        {
            "cell_type": "code",
            "metadata": {},
            "execution_count": null,
            "source": "%%writefile least_operators_to_express_number.py\nclass Solution:\n    def leastOpsExpressTarget(self, x, target):\n        \"\"\"\n        :type x: int\n        :type target: int\n        :rtype: int\n        \"\"\"",
            "outputs": []
        },
        {
            "cell_type": "code",
            "metadata": {},
            "execution_count": null,
            "source": "# submit\n%run ../../cli.py push --method=submit --path=least_operators_to_express_number.py --clean=True",
            "outputs": []
        }
    ]
}