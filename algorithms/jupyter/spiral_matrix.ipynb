{
    "nbformat": 4,
    "nbformat_minor": 2,
    "metadata": {
        "kernelspec": {
            "display_name": "Python 3",
            "language": "python",
            "name": "python3"
        },
        "language_info": {
            "codemirror_mode": {
                "name": "ipython",
                "version": 3
            },
            "file_extension": ".py",
            "mimetype": "text/x-python",
            "name": "python",
            "nbconvert_exporter": "python",
            "pygments_lexer": "ipython3",
            "version": "3.7.2"
        }
    },
    "cells": [
        {
            "cell_type": "markdown",
            "source": [
                "<h1>Spiral Matrix</h1>",
                "<p>Given a matrix of <em>m</em> x <em>n</em> elements (<em>m</em> rows, <em>n</em> columns), return all elements of the matrix in spiral order.</p><div></div>",
                "<div></div>",
                "<p><strong>Example 1:</strong></p><div></div>",
                "<div></div>",
                "<pre><div></div>",
                "<strong>Input:</strong><div></div>",
                "[<div></div>",
                " [ 1, 2, 3 ],<div></div>",
                " [ 4, 5, 6 ],<div></div>",
                " [ 7, 8, 9 ]<div></div>",
                "]<div></div>",
                "<strong>Output:</strong> [1,2,3,6,9,8,7,4,5]<div></div>",
                "</pre><div></div>",
                "<div></div>",
                "<p><strong>Example 2:</strong></p><div></div>",
                "<pre><div></div>",
                "<strong>Input:</strong><div></div>",
                "[<div></div>",
                "  [1, 2, 3, 4],<div></div>",
                "  [5, 6, 7, 8],<div></div>",
                "  [9,10,11,12]<div></div>",
                "]<div></div>",
                "<strong>Output:</strong> [1,2,3,4,8,12,11,10,9,5,6,7]<div></div>",
                "</pre><div></div>"
            ],
            "metadata": {}
        },
        {
            "cell_type": "code",
            "metadata": {},
            "execution_count": null,
            "source": "%%writefile spiral_matrix.py\nclass Solution:\n    def spiralOrder(self, matrix):\n        \"\"\"\n        :type matrix: List[List[int]]\n        :rtype: List[int]\n        \"\"\"",
            "outputs": []
        },
        {
            "cell_type": "code",
            "metadata": {},
            "execution_count": null,
            "source": "# submit\n%run ../../cli.py push --method=submit --path=spiral_matrix.py --clean=True",
            "outputs": []
        }
    ]
}