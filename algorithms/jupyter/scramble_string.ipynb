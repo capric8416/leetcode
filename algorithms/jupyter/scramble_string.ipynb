{
    "nbformat": 4,
    "nbformat_minor": 2,
    "metadata": {
        "kernelspec": {
            "display_name": "Python 3",
            "language": "python",
            "name": "python3"
        },
        "language_info": {
            "codemirror_mode": {
                "name": "ipython",
                "version": 3
            },
            "file_extension": ".py",
            "mimetype": "text/x-python",
            "name": "python",
            "nbconvert_exporter": "python",
            "pygments_lexer": "ipython3",
            "version": "3.7.2"
        }
    },
    "cells": [
        {
            "cell_type": "markdown",
            "source": [
                "<h1>Scramble String</h1>",
                "<p>Given a string <em>s1</em>, we may represent it as a binary tree by partitioning it to two non-empty substrings recursively.</p><div></div>",
                "<div></div>",
                "<p>Below is one possible representation of <em>s1</em> = <code>&quot;great&quot;</code>:</p><div></div>",
                "<div></div>",
                "<pre><div></div>",
                "    great<div></div>",
                "   /    \\<div></div>",
                "  gr    eat<div></div>",
                " / \\    /  \\<div></div>",
                "g   r  e   at<div></div>",
                "           / \\<div></div>",
                "          a   t<div></div>",
                "</pre><div></div>",
                "<div></div>",
                "<p>To scramble the string, we may choose any non-leaf node and swap its two children.</p><div></div>",
                "<div></div>",
                "<p>For example, if we choose the node <code>&quot;gr&quot;</code> and swap its two children, it produces a scrambled string <code>&quot;rgeat&quot;</code>.</p><div></div>",
                "<div></div>",
                "<pre><div></div>",
                "    rgeat<div></div>",
                "   /    \\<div></div>",
                "  rg    eat<div></div>",
                " / \\    /  \\<div></div>",
                "r   g  e   at<div></div>",
                "           / \\<div></div>",
                "          a   t<div></div>",
                "</pre><div></div>",
                "<div></div>",
                "<p>We say that <code>&quot;rgeat&quot;</code> is a scrambled string of <code>&quot;great&quot;</code>.</p><div></div>",
                "<div></div>",
                "<p>Similarly, if we continue to swap the children of nodes <code>&quot;eat&quot;</code> and <code>&quot;at&quot;</code>, it produces a scrambled string <code>&quot;rgtae&quot;</code>.</p><div></div>",
                "<div></div>",
                "<pre><div></div>",
                "    rgtae<div></div>",
                "   /    \\<div></div>",
                "  rg    tae<div></div>",
                " / \\    /  \\<div></div>",
                "r   g  ta  e<div></div>",
                "       / \\<div></div>",
                "      t   a<div></div>",
                "</pre><div></div>",
                "<div></div>",
                "<p>We say that <code>&quot;rgtae&quot;</code> is a scrambled string of <code>&quot;great&quot;</code>.</p><div></div>",
                "<div></div>",
                "<p>Given two strings <em>s1</em> and <em>s2</em> of the same length, determine if <em>s2</em> is a scrambled string of <em>s1</em>.</p><div></div>",
                "<div></div>",
                "<p><strong>Example 1:</strong></p><div></div>",
                "<div></div>",
                "<pre><div></div>",
                "<strong>Input:</strong> s1 = &quot;great&quot;, s2 = &quot;rgeat&quot;<div></div>",
                "<strong>Output:</strong> true<div></div>",
                "</pre><div></div>",
                "<div></div>",
                "<p><strong>Example 2:</strong></p><div></div>",
                "<div></div>",
                "<pre><div></div>",
                "<strong>Input:</strong> s1 = &quot;abcde&quot;, s2 = &quot;caebd&quot;<div></div>",
                "<strong>Output:</strong> false</pre><div></div>",
                "<div></div>"
            ],
            "metadata": {}
        },
        {
            "cell_type": "code",
            "metadata": {},
            "execution_count": null,
            "source": "%%writefile scramble_string.py\nclass Solution:\n    def isScramble(self, s1, s2):\n        \"\"\"\n        :type s1: str\n        :type s2: str\n        :rtype: bool\n        \"\"\"",
            "outputs": []
        },
        {
            "cell_type": "code",
            "metadata": {},
            "execution_count": null,
            "source": "# submit\n%run ../../cli.py push --method=submit --path=scramble_string.py --clean=True",
            "outputs": []
        }
    ]
}