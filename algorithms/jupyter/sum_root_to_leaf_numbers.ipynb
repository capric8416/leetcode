{
    "nbformat": 4,
    "nbformat_minor": 2,
    "metadata": {
        "kernelspec": {
            "display_name": "Python 3",
            "language": "python",
            "name": "python3"
        },
        "language_info": {
            "codemirror_mode": {
                "name": "ipython",
                "version": 3
            },
            "file_extension": ".py",
            "mimetype": "text/x-python",
            "name": "python",
            "nbconvert_exporter": "python",
            "pygments_lexer": "ipython3",
            "version": "3.7.2"
        }
    },
    "cells": [
        {
            "cell_type": "markdown",
            "source": [
                "<h1>Sum Root to Leaf Numbers</h1>",
                "<p>Given a binary tree containing digits from <code>0-9</code> only, each root-to-leaf path could represent a number.</p><div></div>",
                "<div></div>",
                "<p>An example is the root-to-leaf path <code>1-&gt;2-&gt;3</code> which represents the number <code>123</code>.</p><div></div>",
                "<div></div>",
                "<p>Find the total sum of all root-to-leaf numbers.</p><div></div>",
                "<div></div>",
                "<p><strong>Note:</strong>&nbsp;A leaf is a node with no children.</p><div></div>",
                "<div></div>",
                "<p><strong>Example:</strong></p><div></div>",
                "<div></div>",
                "<pre><div></div>",
                "<strong>Input:</strong> [1,2,3]<div></div>",
                "    1<div></div>",
                "   / \\<div></div>",
                "  2   3<div></div>",
                "<strong>Output:</strong> 25<div></div>",
                "<strong>Explanation:</strong><div></div>",
                "The root-to-leaf path <code>1-&gt;2</code> represents the number <code>12</code>.<div></div>",
                "The root-to-leaf path <code>1-&gt;3</code> represents the number <code>13</code>.<div></div>",
                "Therefore, sum = 12 + 13 = <code>25</code>.</pre><div></div>",
                "<div></div>",
                "<p><strong>Example 2:</strong></p><div></div>",
                "<div></div>",
                "<pre><div></div>",
                "<strong>Input:</strong> [4,9,0,5,1]<div></div>",
                "    4<div></div>",
                "   / \\<div></div>",
                "  9   0<div></div>",
                "&nbsp;/ \\<div></div>",
                "5   1<div></div>",
                "<strong>Output:</strong> 1026<div></div>",
                "<strong>Explanation:</strong><div></div>",
                "The root-to-leaf path <code>4-&gt;9-&gt;5</code> represents the number 495.<div></div>",
                "The root-to-leaf path <code>4-&gt;9-&gt;1</code> represents the number 491.<div></div>",
                "The root-to-leaf path <code>4-&gt;0</code> represents the number 40.<div></div>",
                "Therefore, sum = 495 + 491 + 40 = <code>1026</code>.</pre><div></div>",
                "<div></div>"
            ],
            "metadata": {}
        },
        {
            "cell_type": "code",
            "metadata": {},
            "execution_count": null,
            "source": "%%writefile sum_root_to_leaf_numbers.py\n# Definition for a binary tree node.\n# class TreeNode:\n#     def __init__(self, x):\n#         self.val = x\n#         self.left = None\n#         self.right = None\n\nclass Solution:\n    def sumNumbers(self, root):\n        \"\"\"\n        :type root: TreeNode\n        :rtype: int\n        \"\"\"",
            "outputs": []
        },
        {
            "cell_type": "code",
            "metadata": {},
            "execution_count": null,
            "source": "# submit\n%run ../../cli.py push --method=submit --path=sum_root_to_leaf_numbers.py --clean=True",
            "outputs": []
        }
    ]
}