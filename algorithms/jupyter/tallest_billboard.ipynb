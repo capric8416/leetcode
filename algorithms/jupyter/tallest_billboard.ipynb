{
    "nbformat": 4,
    "nbformat_minor": 2,
    "metadata": {
        "kernelspec": {
            "display_name": "Python 3",
            "language": "python",
            "name": "python3"
        },
        "language_info": {
            "codemirror_mode": {
                "name": "ipython",
                "version": 3
            },
            "file_extension": ".py",
            "mimetype": "text/x-python",
            "name": "python",
            "nbconvert_exporter": "python",
            "pygments_lexer": "ipython3",
            "version": "3.7.2"
        }
    },
    "cells": [
        {
            "cell_type": "markdown",
            "source": [
                "<h1>Tallest Billboard</h1>",
                "<p>You are installing a billboard and want it to have the largest height.&nbsp; The billboard will have two steel supports, one on each side.&nbsp; Each steel support must be an equal height.</p><div></div>",
                "<div></div>",
                "<p>You have a collection of <code>rods</code> which can be welded together.&nbsp; For example, if you have rods of lengths 1, 2, and 3, you can weld them together to make a support of length 6.</p><div></div>",
                "<div></div>",
                "<p>Return the largest possible height of your billboard installation.&nbsp; If you cannot support the billboard, return 0.</p><div></div>",
                "<div></div>",
                "<p>&nbsp;</p><div></div>",
                "<div></div>",
                "<p><strong>Example 1:</strong></p><div></div>",
                "<div></div>",
                "<pre><div></div>",
                "<strong>Input: </strong><span id=\"example-input-1-1\">[1,2,3,6]</span><div></div>",
                "<strong>Output: </strong><span id=\"example-output-1\">6</span><div></div>",
                "<strong>Explanation:</strong> We have two disjoint subsets {1,2,3} and {6}, which have the same sum = 6.<div></div>",
                "</pre><div></div>",
                "<div></div>",
                "<div><div></div>",
                "<p><strong>Example 2:</strong></p><div></div>",
                "<div></div>",
                "<pre><div></div>",
                "<strong>Input: </strong><span id=\"example-input-2-1\">[1,2,3,4,5,6]</span><div></div>",
                "<strong>Output: </strong><span id=\"example-output-2\">10</span><div></div>",
                "<strong>Explanation:</strong> We have two disjoint subsets {2,3,5} and {4,6}, which have the same sum = 10.<div></div>",
                "</pre><div></div>",
                "</div><div></div>",
                "<div></div>",
                "<div><div></div>",
                "<p><strong>Example 3:</strong></p><div></div>",
                "<div></div>",
                "<pre><div></div>",
                "<strong>Input: </strong><span id=\"example-input-3-1\">[1,2]</span><div></div>",
                "<strong>Output: </strong><span id=\"example-output-3\">0</span><div></div>",
                "<strong>Explanation: </strong>The billboard cannot be supported, so we return 0.<div></div>",
                "</pre><div></div>",
                "</div><div></div>",
                "<div></div>",
                "<p>&nbsp;</p><div></div>",
                "<div></div>",
                "<p><strong>Note:</strong></p><div></div>",
                "<div></div>",
                "<ol><div></div>",
                "\t<li><code>0 &lt;= rods.length &lt;= 20</code></li><div></div>",
                "\t<li><code>1 &lt;= rods[i] &lt;= 1000</code></li><div></div>",
                "\t<li><code>The sum of rods is at most 5000.</code></li><div></div>",
                "</ol><div></div>",
                "<div></div>"
            ],
            "metadata": {}
        },
        {
            "cell_type": "code",
            "metadata": {},
            "execution_count": null,
            "source": "%%writefile tallest_billboard.py\nclass Solution:\n    def tallestBillboard(self, rods):\n        \"\"\"\n        :type rods: List[int]\n        :rtype: int\n        \"\"\"",
            "outputs": []
        },
        {
            "cell_type": "code",
            "metadata": {},
            "execution_count": null,
            "source": "# submit\n%run ../../cli.py push --method=submit --path=tallest_billboard.py --clean=True",
            "outputs": []
        }
    ]
}