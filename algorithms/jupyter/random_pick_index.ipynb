{
    "nbformat": 4,
    "nbformat_minor": 2,
    "metadata": {
        "kernelspec": {
            "display_name": "Python 3",
            "language": "python",
            "name": "python3"
        },
        "language_info": {
            "codemirror_mode": {
                "name": "ipython",
                "version": 3
            },
            "file_extension": ".py",
            "mimetype": "text/x-python",
            "name": "python",
            "nbconvert_exporter": "python",
            "pygments_lexer": "ipython3",
            "version": "3.7.2"
        }
    },
    "cells": [
        {
            "cell_type": "markdown",
            "source": [
                "<h1>Random Pick Index</h1>",
                "<p>Given an array of integers with possible duplicates, randomly output the index of a given target number. You can assume that the given target number must exist in the array.</p><div></div>",
                "<div></div>",
                "<p><b>Note:</b><br /><div></div>",
                "The array size can be very large. Solution that uses too much extra space will not pass the judge.</p><div></div>",
                "<div></div>",
                "<p><b>Example:</b></p><div></div>",
                "<div></div>",
                "<pre><div></div>",
                "int[] nums = new int[] {1,2,3,3,3};<div></div>",
                "Solution solution = new Solution(nums);<div></div>",
                "<div></div>",
                "// pick(3) should return either index 2, 3, or 4 randomly. Each index should have equal probability of returning.<div></div>",
                "solution.pick(3);<div></div>",
                "<div></div>",
                "// pick(1) should return 0. Since in the array only nums[0] is equal to 1.<div></div>",
                "solution.pick(1);<div></div>",
                "</pre><div></div>",
                "<div></div>"
            ],
            "metadata": {}
        },
        {
            "cell_type": "code",
            "metadata": {},
            "execution_count": null,
            "source": "%%writefile random_pick_index.py\nclass Solution:\n\n    def __init__(self, nums):\n        \"\"\"\n        :type nums: List[int]\n        \"\"\"\n        \n\n    def pick(self, target):\n        \"\"\"\n        :type target: int\n        :rtype: int\n        \"\"\"\n        \n\n\n# Your Solution object will be instantiated and called as such:\n# obj = Solution(nums)\n# param_1 = obj.pick(target)",
            "outputs": []
        },
        {
            "cell_type": "code",
            "metadata": {},
            "execution_count": null,
            "source": "# submit\n%run ../../cli.py push --method=submit --path=random_pick_index.py --clean=True",
            "outputs": []
        }
    ]
}