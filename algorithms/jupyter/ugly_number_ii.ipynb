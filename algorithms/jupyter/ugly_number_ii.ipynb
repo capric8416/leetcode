{
    "nbformat": 4,
    "nbformat_minor": 2,
    "metadata": {
        "kernelspec": {
            "display_name": "Python 3",
            "language": "python",
            "name": "python3"
        },
        "language_info": {
            "codemirror_mode": {
                "name": "ipython",
                "version": 3
            },
            "file_extension": ".py",
            "mimetype": "text/x-python",
            "name": "python",
            "nbconvert_exporter": "python",
            "pygments_lexer": "ipython3",
            "version": "3.7.2"
        }
    },
    "cells": [
        {
            "cell_type": "markdown",
            "source": [
                "<h1>Ugly Number II</h1>",
                "<p>Write a program to find the <code>n</code>-th ugly number.</p><div></div>",
                "<div></div>",
                "<p>Ugly numbers are<strong> positive numbers</strong> whose prime factors only include <code>2, 3, 5</code>.&nbsp;</p><div></div>",
                "<div></div>",
                "<p><strong>Example:</strong></p><div></div>",
                "<div></div>",
                "<pre><div></div>",
                "<strong>Input:</strong> n = 10<div></div>",
                "<strong>Output:</strong> 12<div></div>",
                "<strong>Explanation: </strong><code>1, 2, 3, 4, 5, 6, 8, 9, 10, 12</code> is the sequence of the first <code>10</code> ugly numbers.</pre><div></div>",
                "<div></div>",
                "<p><strong>Note: </strong>&nbsp;</p><div></div>",
                "<div></div>",
                "<ol><div></div>",
                "\t<li><code>1</code> is typically treated as an ugly number.</li><div></div>",
                "\t<li><code>n</code> <b>does not exceed 1690</b>.</li><div></div>",
                "</ol><div></div>"
            ],
            "metadata": {}
        },
        {
            "cell_type": "code",
            "metadata": {},
            "execution_count": null,
            "source": "%%writefile ugly_number_ii.py\nclass Solution:\n    def nthUglyNumber(self, n):\n        \"\"\"\n        :type n: int\n        :rtype: int\n        \"\"\"",
            "outputs": []
        },
        {
            "cell_type": "code",
            "metadata": {},
            "execution_count": null,
            "source": "# submit\n%run ../../cli.py push --method=submit --path=ugly_number_ii.py --clean=True",
            "outputs": []
        }
    ]
}