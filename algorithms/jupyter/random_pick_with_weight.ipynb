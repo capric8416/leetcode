{
    "nbformat": 4,
    "nbformat_minor": 2,
    "metadata": {
        "kernelspec": {
            "display_name": "Python 3",
            "language": "python",
            "name": "python3"
        },
        "language_info": {
            "codemirror_mode": {
                "name": "ipython",
                "version": 3
            },
            "file_extension": ".py",
            "mimetype": "text/x-python",
            "name": "python",
            "nbconvert_exporter": "python",
            "pygments_lexer": "ipython3",
            "version": "3.7.2"
        }
    },
    "cells": [
        {
            "cell_type": "markdown",
            "source": [
                "<h1>Random Pick with Weight</h1>",
                "<p>Given an array <code>w</code> of positive integers, where <code>w[i]</code> describes the weight of index <code>i</code>,&nbsp;write a function <code>pickIndex</code>&nbsp;which randomly&nbsp;picks an index&nbsp;in proportion&nbsp;to its weight.</p><div></div>",
                "<div></div>",
                "<p>Note:</p><div></div>",
                "<div></div>",
                "<ol><div></div>",
                "\t<li><code>1 &lt;= w.length &lt;= 10000</code></li><div></div>",
                "\t<li><code>1 &lt;= w[i] &lt;= 10^5</code></li><div></div>",
                "\t<li><code>pickIndex</code>&nbsp;will be called at most <code>10000</code> times.</li><div></div>",
                "</ol><div></div>",
                "<div></div>",
                "<p><strong>Example 1:</strong></p><div></div>",
                "<div></div>",
                "<pre><div></div>",
                "<strong>Input: <div></div>",
                "</strong><span id=\"example-input-1-1\">[&quot;Solution&quot;,&quot;pickIndex&quot;]<div></div>",
                "</span><span id=\"example-input-1-2\">[[[1]],[]]</span><div></div>",
                "<strong>Output: </strong><span id=\"example-output-1\">[null,0]</span><div></div>",
                "</pre><div></div>",
                "<div></div>",
                "<div><div></div>",
                "<p><strong>Example 2:</strong></p><div></div>",
                "<div></div>",
                "<pre><div></div>",
                "<strong>Input: <div></div>",
                "</strong><span id=\"example-input-2-1\">[&quot;Solution&quot;,&quot;pickIndex&quot;,&quot;pickIndex&quot;,&quot;pickIndex&quot;,&quot;pickIndex&quot;,&quot;pickIndex&quot;]<div></div>",
                "</span><span id=\"example-input-2-2\">[[[1,3]],[],[],[],[],[]]</span><div></div>",
                "<strong>Output: </strong><span id=\"example-output-2\">[null,0,1,1,1,0]</span></pre><div></div>",
                "</div><div></div>",
                "<div></div>",
                "<p><strong>Explanation of Input Syntax:</strong></p><div></div>",
                "<div></div>",
                "<p>The input is two lists:&nbsp;the subroutines called&nbsp;and their&nbsp;arguments.&nbsp;<code>Solution</code>&#39;s&nbsp;constructor has one argument, the&nbsp;array <code>w</code>. <code>pickIndex</code> has no arguments.&nbsp;Arguments&nbsp;are&nbsp;always wrapped with a list, even if there aren&#39;t any.</p><div></div>",
                "<div></div>"
            ],
            "metadata": {}
        },
        {
            "cell_type": "code",
            "metadata": {},
            "execution_count": null,
            "source": "%%writefile random_pick_with_weight.py\nclass Solution:\n\n    def __init__(self, w):\n        \"\"\"\n        :type w: List[int]\n        \"\"\"\n        \n\n    def pickIndex(self):\n        \"\"\"\n        :rtype: int\n        \"\"\"\n        \n\n\n# Your Solution object will be instantiated and called as such:\n# obj = Solution(w)\n# param_1 = obj.pickIndex()",
            "outputs": []
        },
        {
            "cell_type": "code",
            "metadata": {},
            "execution_count": null,
            "source": "# submit\n%run ../../cli.py push --method=submit --path=random_pick_with_weight.py --clean=True",
            "outputs": []
        }
    ]
}