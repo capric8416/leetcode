{
    "nbformat": 4,
    "nbformat_minor": 2,
    "metadata": {
        "kernelspec": {
            "display_name": "Python 3",
            "language": "python",
            "name": "python3"
        },
        "language_info": {
            "codemirror_mode": {
                "name": "ipython",
                "version": 3
            },
            "file_extension": ".py",
            "mimetype": "text/x-python",
            "name": "python",
            "nbconvert_exporter": "python",
            "pygments_lexer": "ipython3",
            "version": "3.7.2"
        }
    },
    "cells": [
        {
            "cell_type": "markdown",
            "source": [
                "<h1>Next Permutation</h1>",
                "<p>Implement <strong>next permutation</strong>, which rearranges numbers into the lexicographically next greater permutation of numbers.</p><div></div>",
                "<div></div>",
                "<p>If such arrangement is not possible, it must rearrange it as the lowest possible order (ie, sorted in ascending order).</p><div></div>",
                "<div></div>",
                "<p>The replacement must be <strong><a href=\"http://en.wikipedia.org/wiki/In-place_algorithm\" target=\"_blank\">in-place</a></strong> and use only constant&nbsp;extra memory.</p><div></div>",
                "<div></div>",
                "<p>Here are some examples. Inputs are in the left-hand column and its corresponding outputs are in the right-hand column.</p><div></div>",
                "<div></div>",
                "<p><code>1,2,3</code> &rarr; <code>1,3,2</code><br /><div></div>",
                "<code>3,2,1</code> &rarr; <code>1,2,3</code><br /><div></div>",
                "<code>1,1,5</code> &rarr; <code>1,5,1</code></p><div></div>",
                "<div></div>"
            ],
            "metadata": {}
        },
        {
            "cell_type": "code",
            "metadata": {},
            "execution_count": null,
            "source": "%%writefile next_permutation.py\nclass Solution:\n    def nextPermutation(self, nums):\n        \"\"\"\n        :type nums: List[int]\n        :rtype: void Do not return anything, modify nums in-place instead.\n        \"\"\"",
            "outputs": []
        },
        {
            "cell_type": "code",
            "metadata": {},
            "execution_count": null,
            "source": "# submit\n%run ../../cli.py push --method=submit --path=next_permutation.py --clean=True",
            "outputs": []
        }
    ]
}