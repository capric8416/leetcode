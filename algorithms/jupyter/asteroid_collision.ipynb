{
    "nbformat": 4,
    "nbformat_minor": 2,
    "metadata": {
        "kernelspec": {
            "display_name": "Python 3",
            "language": "python",
            "name": "python3"
        },
        "language_info": {
            "codemirror_mode": {
                "name": "ipython",
                "version": 3
            },
            "file_extension": ".py",
            "mimetype": "text/x-python",
            "name": "python",
            "nbconvert_exporter": "python",
            "pygments_lexer": "ipython3",
            "version": "3.7.2"
        }
    },
    "cells": [
        {
            "cell_type": "markdown",
            "source": [
                "<h1>Asteroid Collision</h1>",
                "<p><div></div>",
                "We are given an array <code>asteroids</code> of integers representing asteroids in a row.<div></div>",
                "</p><p><div></div>",
                "For each asteroid, the absolute value represents its size, and the sign represents its direction (positive meaning right, negative meaning left).  Each asteroid moves at the same speed.<div></div>",
                "</p><p><div></div>",
                "Find out the state of the asteroids after all collisions.  If two asteroids meet, the smaller one will explode.  If both are the same size, both will explode.  Two asteroids moving in the same direction will never meet.<div></div>",
                "</p><div></div>",
                "<div></div>",
                "<p><b>Example 1:</b><br /><div></div>",
                "<pre><div></div>",
                "<b>Input:</b> <div></div>",
                "asteroids = [5, 10, -5]<div></div>",
                "<b>Output:</b> [5, 10]<div></div>",
                "<b>Explanation:</b> <div></div>",
                "The 10 and -5 collide resulting in 10.  The 5 and 10 never collide.<div></div>",
                "</pre><div></div>",
                "</p><div></div>",
                "<div></div>",
                "<p><b>Example 2:</b><br /><div></div>",
                "<pre><div></div>",
                "<b>Input:</b> <div></div>",
                "asteroids = [8, -8]<div></div>",
                "<b>Output:</b> []<div></div>",
                "<b>Explanation:</b> <div></div>",
                "The 8 and -8 collide exploding each other.<div></div>",
                "</pre><div></div>",
                "</p><div></div>",
                "<div></div>",
                "<p><b>Example 3:</b><br /><div></div>",
                "<pre><div></div>",
                "<b>Input:</b> <div></div>",
                "asteroids = [10, 2, -5]<div></div>",
                "<b>Output:</b> [10]<div></div>",
                "<b>Explanation:</b> <div></div>",
                "The 2 and -5 collide resulting in -5.  The 10 and -5 collide resulting in 10.<div></div>",
                "</pre><div></div>",
                "</p><div></div>",
                "<div></div>",
                "<p><b>Example 4:</b><br /><div></div>",
                "<pre><div></div>",
                "<b>Input:</b> <div></div>",
                "asteroids = [-2, -1, 1, 2]<div></div>",
                "<b>Output:</b> [-2, -1, 1, 2]<div></div>",
                "<b>Explanation:</b> <div></div>",
                "The -2 and -1 are moving left, while the 1 and 2 are moving right.<div></div>",
                "Asteroids moving the same direction never meet, so no asteroids will meet each other.<div></div>",
                "</pre><div></div>",
                "</p><div></div>",
                "<div></div>",
                "<p><b>Note:</b><div></div>",
                "<li>The length of <code>asteroids</code> will be at most <code>10000</code>.</li><div></div>",
                "<li>Each asteroid will be a non-zero integer in the range <code>[-1000, 1000].</code>.</li><div></div>",
                "</p><div></div>"
            ],
            "metadata": {}
        },
        {
            "cell_type": "code",
            "metadata": {},
            "execution_count": null,
            "source": "%%writefile asteroid_collision.py\nclass Solution:\n    def asteroidCollision(self, asteroids):\n        \"\"\"\n        :type asteroids: List[int]\n        :rtype: List[int]\n        \"\"\"",
            "outputs": []
        },
        {
            "cell_type": "code",
            "metadata": {},
            "execution_count": null,
            "source": "# submit\n%run ../../cli.py push --method=submit --path=asteroid_collision.py --clean=True",
            "outputs": []
        }
    ]
}