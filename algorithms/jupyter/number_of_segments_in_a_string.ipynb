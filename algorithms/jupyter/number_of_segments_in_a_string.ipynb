{
    "nbformat": 4,
    "nbformat_minor": 2,
    "metadata": {
        "kernelspec": {
            "display_name": "Python 3",
            "language": "python",
            "name": "python3"
        },
        "language_info": {
            "codemirror_mode": {
                "name": "ipython",
                "version": 3
            },
            "file_extension": ".py",
            "mimetype": "text/x-python",
            "name": "python",
            "nbconvert_exporter": "python",
            "pygments_lexer": "ipython3",
            "version": "3.7.2"
        }
    },
    "cells": [
        {
            "cell_type": "markdown",
            "source": [
                "<h1>Number of Segments in a String</h1>",
                "<p>Count the number of segments in a string, where a segment is defined to be a contiguous sequence of non-space characters.</p><div></div>",
                "<div></div>",
                "<p>Please note that the string does not contain any <b>non-printable</b> characters.</p><div></div>",
                "<div></div>",
                "<p><b>Example:</b></p><div></div>",
                "<pre><div></div>",
                "<b>Input:</b> \"Hello, my name is John\"<div></div>",
                "<b>Output:</b> 5<div></div>",
                "</pre><div></div>",
                "</p><div></div>"
            ],
            "metadata": {}
        },
        {
            "cell_type": "code",
            "metadata": {},
            "execution_count": null,
            "source": "%%writefile number_of_segments_in_a_string.py\nclass Solution:\n    def countSegments(self, s):\n        \"\"\"\n        :type s: str\n        :rtype: int\n        \"\"\"",
            "outputs": []
        },
        {
            "cell_type": "code",
            "metadata": {},
            "execution_count": null,
            "source": "# submit\n%run ../../cli.py push --method=submit --path=number_of_segments_in_a_string.py --clean=True",
            "outputs": []
        }
    ]
}