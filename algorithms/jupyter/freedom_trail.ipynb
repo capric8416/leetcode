{
    "nbformat": 4,
    "nbformat_minor": 2,
    "metadata": {
        "kernelspec": {
            "display_name": "Python 3",
            "language": "python",
            "name": "python3"
        },
        "language_info": {
            "codemirror_mode": {
                "name": "ipython",
                "version": 3
            },
            "file_extension": ".py",
            "mimetype": "text/x-python",
            "name": "python",
            "nbconvert_exporter": "python",
            "pygments_lexer": "ipython3",
            "version": "3.7.2"
        }
    },
    "cells": [
        {
            "cell_type": "markdown",
            "source": [
                "<h1>Freedom Trail</h1>",
                "<p>In the video game Fallout 4, the quest &quot;Road to Freedom&quot; requires players to reach a metal dial called the &quot;Freedom Trail Ring&quot;, and use the dial to spell a specific keyword in order to open the door.</p><div></div>",
                "<div></div>",
                "<p>Given a string <b>ring</b>, which represents the code engraved on the outer ring and another string <b>key</b>, which represents the keyword needs to be spelled. You need to find the <b>minimum</b> number of steps in order to spell all the characters in the keyword.</p><div></div>",
                "<div></div>",
                "<p>Initially, the first character of the <b>ring</b> is aligned at 12:00 direction. You need to spell all the characters in the string <b>key</b> one by one by rotating the ring clockwise or anticlockwise to make each character of the string <b>key</b> aligned at 12:00 direction and then by pressing the center button.</p><div></div>",
                "<div></div>",
                "<p>At the stage of rotating the ring to spell the key character <b>key[i]</b>:</p><div></div>",
                "<div></div>",
                "<ol><div></div>",
                "\t<li>You can rotate the <b>ring</b> clockwise or anticlockwise <b>one place</b>, which counts as 1 step. The final purpose of the rotation is to align one of the string <b>ring&#39;s</b> characters at the 12:00 direction, where this character must equal to the character <b>key[i]</b>.</li><div></div>",
                "\t<li>If the character <b>key[i]</b> has been aligned at the 12:00 direction, you need to press the center button to spell, which also counts as 1 step. After the pressing, you could begin to spell the next character in the key (next stage), otherwise, you&#39;ve finished all the spelling.</li><div></div>",
                "</ol><div></div>",
                "<div></div>",
                "<p><b>Example:</b></p><div></div>",
                "<div></div>",
                "<center><img src=\"https://assets.leetcode.com/uploads/2018/10/22/ring.jpg\" style=\"width: 26%;\" /></center><div></div>",
                "&nbsp;<div></div>",
                "<div></div>",
                "<pre><div></div>",
                "<b>Input:</b> ring = &quot;godding&quot;, key = &quot;gd&quot;<div></div>",
                "<b>Output:</b> 4<div></div>",
                "<b>Explanation:</b><div></div>",
                "For the first key character &#39;g&#39;, since it is already in place, we just need 1 step to spell this character. <div></div>",
                "For the second key character &#39;d&#39;, we need to rotate the ring &quot;godding&quot; anticlockwise by two steps to make it become &quot;ddinggo&quot;.<div></div>",
                "Also, we need 1 more step for spelling.<div></div>",
                "So the final output is 4.<div></div>",
                "</pre><div></div>",
                "<div></div>",
                "<p><b>Note:</b></p><div></div>",
                "<div></div>",
                "<ol><div></div>",
                "\t<li>Length of both ring and <b>key</b> will be in range 1 to 100.</li><div></div>",
                "\t<li>There are only lowercase letters in both strings and might be some duplcate characters in both strings.</li><div></div>",
                "\t<li>It&#39;s guaranteed that string <b>key</b> could always be spelled by rotating the string <b>ring</b>.</li><div></div>",
                "</ol><div></div>",
                "<div></div>"
            ],
            "metadata": {}
        },
        {
            "cell_type": "code",
            "metadata": {},
            "execution_count": null,
            "source": "%%writefile freedom_trail.py\nclass Solution:\n    def findRotateSteps(self, ring, key):\n        \"\"\"\n        :type ring: str\n        :type key: str\n        :rtype: int\n        \"\"\"",
            "outputs": []
        },
        {
            "cell_type": "code",
            "metadata": {},
            "execution_count": null,
            "source": "# submit\n%run ../../cli.py push --method=submit --path=freedom_trail.py --clean=True",
            "outputs": []
        }
    ]
}