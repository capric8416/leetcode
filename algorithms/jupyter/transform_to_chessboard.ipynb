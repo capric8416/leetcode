{
    "nbformat": 4,
    "nbformat_minor": 2,
    "metadata": {
        "kernelspec": {
            "display_name": "Python 3",
            "language": "python",
            "name": "python3"
        },
        "language_info": {
            "codemirror_mode": {
                "name": "ipython",
                "version": 3
            },
            "file_extension": ".py",
            "mimetype": "text/x-python",
            "name": "python",
            "nbconvert_exporter": "python",
            "pygments_lexer": "ipython3",
            "version": "3.7.2"
        }
    },
    "cells": [
        {
            "cell_type": "markdown",
            "source": [
                "<h1>Transform to Chessboard</h1>",
                "<p>An N x N <code>board</code> contains only <code>0</code>s and <code>1</code>s. In each move, you can swap any 2 rows with each other, or any 2 columns with each other.</p><div></div>",
                "<div></div>",
                "<p>What is the minimum number of moves to transform the board into a &quot;chessboard&quot; - a board where no <code>0</code>s and no <code>1</code>s are 4-directionally adjacent? If the task is impossible, return -1.</p><div></div>",
                "<div></div>",
                "<pre><div></div>",
                "<strong>Examples:</strong><div></div>",
                "<strong>Input:</strong> board = [[0,1,1,0],[0,1,1,0],[1,0,0,1],[1,0,0,1]]<div></div>",
                "<strong>Output:</strong> 2<div></div>",
                "<strong>Explanation:</strong><div></div>",
                "One potential sequence of moves is shown below, from left to right:<div></div>",
                "<div></div>",
                "0110     1010     1010<div></div>",
                "0110 --&gt; 1010 --&gt; 0101<div></div>",
                "1001     0101     1010<div></div>",
                "1001     0101     0101<div></div>",
                "<div></div>",
                "The first move swaps the first and second column.<div></div>",
                "The second move swaps the second and third row.<div></div>",
                "<div></div>",
                "<div></div>",
                "<strong>Input:</strong> board = [[0, 1], [1, 0]]<div></div>",
                "<strong>Output:</strong> 0<div></div>",
                "<strong>Explanation:</strong><div></div>",
                "Also note that the board with 0 in the top left corner,<div></div>",
                "01<div></div>",
                "10<div></div>",
                "<div></div>",
                "is also a valid chessboard.<div></div>",
                "<div></div>",
                "<strong>Input:</strong> board = [[1, 0], [1, 0]]<div></div>",
                "<strong>Output:</strong> -1<div></div>",
                "<strong>Explanation:</strong><div></div>",
                "No matter what sequence of moves you make, you cannot end with a valid chessboard.<div></div>",
                "</pre><div></div>",
                "<div></div>",
                "<p><strong>Note:</strong></p><div></div>",
                "<div></div>",
                "<ul><div></div>",
                "\t<li><code>board</code> will have the same number of rows and columns, a number in the range <code>[2, 30]</code>.</li><div></div>",
                "\t<li><code>board[i][j]</code> will be only <code>0</code>s or <code>1</code>s.</li><div></div>",
                "</ul><div></div>",
                "<div></div>"
            ],
            "metadata": {}
        },
        {
            "cell_type": "code",
            "metadata": {},
            "execution_count": null,
            "source": "%%writefile transform_to_chessboard.py\nclass Solution:\n    def movesToChessboard(self, board):\n        \"\"\"\n        :type board: List[List[int]]\n        :rtype: int\n        \"\"\"",
            "outputs": []
        },
        {
            "cell_type": "code",
            "metadata": {},
            "execution_count": null,
            "source": "# submit\n%run ../../cli.py push --method=submit --path=transform_to_chessboard.py --clean=True",
            "outputs": []
        }
    ]
}