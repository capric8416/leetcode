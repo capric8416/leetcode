{
    "nbformat": 4,
    "nbformat_minor": 2,
    "metadata": {
        "kernelspec": {
            "display_name": "Python 3",
            "language": "python",
            "name": "python3"
        },
        "language_info": {
            "codemirror_mode": {
                "name": "ipython",
                "version": 3
            },
            "file_extension": ".py",
            "mimetype": "text/x-python",
            "name": "python",
            "nbconvert_exporter": "python",
            "pygments_lexer": "ipython3",
            "version": "3.7.2"
        }
    },
    "cells": [
        {
            "cell_type": "markdown",
            "source": [
                "<h1>Friends Of Appropriate Ages</h1>",
                "<p>Some people will make friend requests. The&nbsp;list of their ages is given and&nbsp;<code>ages[i]</code>&nbsp;is the age of the&nbsp;ith person.&nbsp;</p><div></div>",
                "<div></div>",
                "<p>Person A will NOT friend request person B (B != A) if any of the following conditions are true:</p><div></div>",
                "<div></div>",
                "<ul><div></div>",
                "\t<li><code>age[B]&nbsp;&lt;= 0.5 * age[A]&nbsp;+ 7</code></li><div></div>",
                "\t<li><code>age[B]&nbsp;&gt; age[A]</code></li><div></div>",
                "\t<li><code>age[B]&nbsp;&gt; 100 &amp;&amp;&nbsp;age[A]&nbsp;&lt; 100</code></li><div></div>",
                "</ul><div></div>",
                "<div></div>",
                "<p>Otherwise, A will friend request B.</p><div></div>",
                "<div></div>",
                "<p>Note that if&nbsp;A requests B, B does not necessarily request A.&nbsp; Also, people will not friend request themselves.</p><div></div>",
                "<div></div>",
                "<p>How many total friend requests are made?</p><div></div>",
                "<div></div>",
                "<p><strong>Example 1:</strong></p><div></div>",
                "<div></div>",
                "<pre><div></div>",
                "<strong>Input: </strong>[16,16]<div></div>",
                "<strong>Output: </strong>2<div></div>",
                "<strong>Explanation: </strong>2 people friend request each other.<div></div>",
                "</pre><div></div>",
                "<div></div>",
                "<p><strong>Example 2:</strong></p><div></div>",
                "<div></div>",
                "<pre><div></div>",
                "<strong>Input: </strong>[16,17,18]<div></div>",
                "<strong>Output: </strong>2<div></div>",
                "<strong>Explanation: </strong>Friend requests are made 17 -&gt; 16, 18 -&gt; 17.</pre><div></div>",
                "<div></div>",
                "<p><strong>Example 3:</strong></p><div></div>",
                "<div></div>",
                "<pre><div></div>",
                "<strong>Input: </strong>[20,30,100,110,120]<div></div>",
                "<strong>Output: </strong><div></div>",
                "<strong>Explanation: </strong>Friend requests are made 110 -&gt; 100, 120 -&gt; 110, 120 -&gt; 100.<div></div>",
                "</pre><div></div>",
                "<div></div>",
                "<p>&nbsp;</p><div></div>",
                "<div></div>",
                "<p>Notes:</p><div></div>",
                "<div></div>",
                "<ul><div></div>",
                "\t<li><code>1 &lt;= ages.length&nbsp;&lt;= 20000</code>.</li><div></div>",
                "\t<li><code>1 &lt;= ages[i] &lt;= 120</code>.</li><div></div>",
                "</ul><div></div>",
                "<div></div>"
            ],
            "metadata": {}
        },
        {
            "cell_type": "code",
            "metadata": {},
            "execution_count": null,
            "source": "%%writefile friends_of_appropriate_ages.py\nclass Solution:\n    def numFriendRequests(self, ages):\n        \"\"\"\n        :type ages: List[int]\n        :rtype: int\n        \"\"\"",
            "outputs": []
        },
        {
            "cell_type": "code",
            "metadata": {},
            "execution_count": null,
            "source": "# submit\n%run ../../cli.py push --method=submit --path=friends_of_appropriate_ages.py --clean=True",
            "outputs": []
        }
    ]
}