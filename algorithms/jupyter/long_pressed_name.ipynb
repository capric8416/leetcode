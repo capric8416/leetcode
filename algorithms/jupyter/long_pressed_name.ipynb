{
    "nbformat": 4,
    "nbformat_minor": 2,
    "metadata": {
        "kernelspec": {
            "display_name": "Python 3",
            "language": "python",
            "name": "python3"
        },
        "language_info": {
            "codemirror_mode": {
                "name": "ipython",
                "version": 3
            },
            "file_extension": ".py",
            "mimetype": "text/x-python",
            "name": "python",
            "nbconvert_exporter": "python",
            "pygments_lexer": "ipython3",
            "version": "3.7.2"
        }
    },
    "cells": [
        {
            "cell_type": "markdown",
            "source": [
                "<h1>Long Pressed Name</h1>",
                "<p>Your friend is typing his <code>name</code>&nbsp;into a keyboard.&nbsp; Sometimes, when typing a character <code>c</code>, the key might get <em>long pressed</em>, and the character will be typed 1 or more times.</p><div></div>",
                "<div></div>",
                "<p>You examine the <code>typed</code>&nbsp;characters of the keyboard.&nbsp; Return <code>True</code> if it is possible that it was your friends name, with some characters (possibly none) being long pressed.</p><div></div>",
                "<div></div>",
                "<p>&nbsp;</p><div></div>",
                "<div></div>",
                "<p><strong>Example 1:</strong></p><div></div>",
                "<div></div>",
                "<pre><div></div>",
                "<strong>Input: </strong>name = <span id=\"example-input-1-1\">&quot;alex&quot;</span>, typed = <span id=\"example-input-1-2\">&quot;aaleex&quot;</span><div></div>",
                "<strong>Output: </strong><span id=\"example-output-1\">true</span><div></div>",
                "<strong>Explanation: </strong>'a' and 'e' in 'alex' were long pressed.<div></div>",
                "</pre><div></div>",
                "<div></div>",
                "<div><div></div>",
                "<p><strong>Example 2:</strong></p><div></div>",
                "<div></div>",
                "<pre><div></div>",
                "<strong>Input: </strong>name = <span id=\"example-input-2-1\">&quot;saeed&quot;</span>, typed = <span id=\"example-input-2-2\">&quot;ssaaedd&quot;</span><div></div>",
                "<strong>Output: </strong><span id=\"example-output-2\">false</span><div></div>",
                "<strong>Explanation: </strong>'e' must have been pressed twice, but it wasn't in the typed output.<div></div>",
                "</pre><div></div>",
                "<div></div>",
                "<div><div></div>",
                "<p><strong>Example 3:</strong></p><div></div>",
                "<div></div>",
                "<pre><div></div>",
                "<strong>Input: </strong>name = <span id=\"example-input-3-1\">&quot;leelee&quot;</span>, typed = <span id=\"example-input-3-2\">&quot;lleeelee&quot;</span><div></div>",
                "<strong>Output: </strong><span id=\"example-output-3\">true</span><div></div>",
                "</pre><div></div>",
                "<div></div>",
                "<div><div></div>",
                "<p><strong>Example 4:</strong></p><div></div>",
                "<div></div>",
                "<pre><div></div>",
                "<strong>Input: </strong>name = <span id=\"example-input-4-1\">&quot;laiden&quot;</span>, typed = <span id=\"example-input-4-2\">&quot;laiden&quot;</span><div></div>",
                "<strong>Output: </strong><span id=\"example-output-4\">true</span><div></div>",
                "<strong>Explanation: </strong>It's not necessary to long press any character.<div></div>",
                "</pre><div></div>",
                "<div></div>",
                "<p>&nbsp;</p><div></div>",
                "</div><div></div>",
                "</div><div></div>",
                "</div><div></div>",
                "<div></div>",
                "<p><strong>Note:</strong></p><div></div>",
                "<div></div>",
                "<ol><div></div>",
                "\t<li><code>name.length &lt;= 1000</code></li><div></div>",
                "\t<li><code>typed.length &lt;= 1000</code></li><div></div>",
                "\t<li>The characters of <code>name</code> and <code>typed</code> are lowercase letters.</li><div></div>",
                "</ol><div></div>",
                "<div></div>",
                "<div><div></div>",
                "<p>&nbsp;</p><div></div>",
                "<div></div>",
                "<div><div></div>",
                "<div><div></div>",
                "<div>&nbsp;</div><div></div>",
                "</div><div></div>",
                "</div><div></div>",
                "</div><div></div>"
            ],
            "metadata": {}
        },
        {
            "cell_type": "code",
            "metadata": {},
            "execution_count": null,
            "source": "%%writefile long_pressed_name.py\nclass Solution:\n    def isLongPressedName(self, name, typed):\n        \"\"\"\n        :type name: str\n        :type typed: str\n        :rtype: bool\n        \"\"\"",
            "outputs": []
        },
        {
            "cell_type": "code",
            "metadata": {},
            "execution_count": null,
            "source": "# submit\n%run ../../cli.py push --method=submit --path=long_pressed_name.py --clean=True",
            "outputs": []
        }
    ]
}