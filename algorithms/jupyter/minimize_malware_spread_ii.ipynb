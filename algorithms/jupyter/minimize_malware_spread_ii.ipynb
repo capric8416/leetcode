{
    "nbformat": 4,
    "nbformat_minor": 2,
    "metadata": {
        "kernelspec": {
            "display_name": "Python 3",
            "language": "python",
            "name": "python3"
        },
        "language_info": {
            "codemirror_mode": {
                "name": "ipython",
                "version": 3
            },
            "file_extension": ".py",
            "mimetype": "text/x-python",
            "name": "python",
            "nbconvert_exporter": "python",
            "pygments_lexer": "ipython3",
            "version": "3.7.2"
        }
    },
    "cells": [
        {
            "cell_type": "markdown",
            "source": [
                "<h1>Minimize Malware Spread II</h1>",
                "<p>(This problem is the same as <em>Minimize Malware Spread</em>, with the differences bolded.)</p><div></div>",
                "<div></div>",
                "<p>In a network of nodes, each node <code>i</code> is directly connected to another node <code>j</code> if and only if&nbsp;<code>graph[i][j] = 1</code>.</p><div></div>",
                "<div></div>",
                "<p>Some nodes <code>initial</code> are initially infected by malware.&nbsp; Whenever two nodes are directly connected and at least one of those two nodes is infected by malware, both nodes will be infected by malware.&nbsp; This spread of malware will continue until no more nodes can be infected in this manner.</p><div></div>",
                "<div></div>",
                "<p>Suppose <code>M(initial)</code>&nbsp;is the final number of nodes infected with malware in the entire network, after the spread of malware stops.</p><div></div>",
                "<div></div>",
                "<p>We will&nbsp;remove one node from the initial list, <strong>completely removing it and any connections from this node to any other node</strong>.&nbsp; Return the node that if removed, would minimize&nbsp;<code>M(initial)</code>.&nbsp; If multiple nodes could be removed to minimize <code>M(initial)</code>, return such a node with the smallest index.</p><div></div>",
                "<div></div>",
                "<p>&nbsp;</p><div></div>",
                "<div></div>",
                "<ol><div></div>",
                "</ol><div></div>",
                "<div></div>",
                "<div><div></div>",
                "<p><strong>Example 1:</strong></p><div></div>",
                "<div></div>",
                "<pre><div></div>",
                "<strong>Input: </strong>graph = <span id=\"example-input-1-1\">[[1,1,0],[1,1,0],[0,0,1]]</span>, initial = <span id=\"example-input-1-2\">[0,1]</span><div></div>",
                "<strong>Output: </strong><span id=\"example-output-1\">0</span><div></div>",
                "</pre><div></div>",
                "<div></div>",
                "<div><div></div>",
                "<p><strong>Example 2:</strong></p><div></div>",
                "<div></div>",
                "<pre><div></div>",
                "<strong>Input: </strong>graph = <span id=\"example-input-2-1\">[[1,1,0],[1,1,1],[0,1,1]]</span>, initial = <span id=\"example-input-2-2\">[0,1]</span><div></div>",
                "<strong>Output: </strong><span id=\"example-output-2\">1</span><div></div>",
                "</pre><div></div>",
                "<div></div>",
                "<div><div></div>",
                "<p><strong>Example 3:</strong></p><div></div>",
                "<div></div>",
                "<pre><div></div>",
                "<strong>Input: </strong>graph = <span id=\"example-input-3-1\">[[1,1,0,0],[1,1,1,0],[0,1,1,1],[0,0,1,1]]</span>, initial = <span id=\"example-input-3-2\">[0,1]</span><div></div>",
                "<strong>Output: </strong><span id=\"example-output-3\">1</span><div></div>",
                "</pre><div></div>",
                "<div></div>",
                "<p>&nbsp;</p><div></div>",
                "<div></div>",
                "<p><strong>Note:</strong></p><div></div>",
                "<div></div>",
                "<ol><div></div>",
                "\t<li><code>1 &lt; graph.length = graph[0].length &lt;= 300</code></li><div></div>",
                "\t<li><code>0 &lt;= graph[i][j] == graph[j][i] &lt;= 1</code></li><div></div>",
                "\t<li><code>graph[i][i] = 1</code></li><div></div>",
                "\t<li><code>1 &lt;= initial.length &lt; graph.length</code></li><div></div>",
                "\t<li><code>0 &lt;= initial[i] &lt; graph.length</code></li><div></div>",
                "</ol><div></div>",
                "</div><div></div>",
                "</div><div></div>",
                "</div><div></div>"
            ],
            "metadata": {}
        },
        {
            "cell_type": "code",
            "metadata": {},
            "execution_count": null,
            "source": "%%writefile minimize_malware_spread_ii.py\nclass Solution:\n    def minMalwareSpread(self, graph, initial):\n        \"\"\"\n        :type graph: List[List[int]]\n        :type initial: List[int]\n        :rtype: int\n        \"\"\"",
            "outputs": []
        },
        {
            "cell_type": "code",
            "metadata": {},
            "execution_count": null,
            "source": "# submit\n%run ../../cli.py push --method=submit --path=minimize_malware_spread_ii.py --clean=True",
            "outputs": []
        }
    ]
}