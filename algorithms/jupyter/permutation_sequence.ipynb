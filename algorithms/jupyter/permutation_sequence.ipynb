{
    "nbformat": 4,
    "nbformat_minor": 2,
    "metadata": {
        "kernelspec": {
            "display_name": "Python 3",
            "language": "python",
            "name": "python3"
        },
        "language_info": {
            "codemirror_mode": {
                "name": "ipython",
                "version": 3
            },
            "file_extension": ".py",
            "mimetype": "text/x-python",
            "name": "python",
            "nbconvert_exporter": "python",
            "pygments_lexer": "ipython3",
            "version": "3.7.2"
        }
    },
    "cells": [
        {
            "cell_type": "markdown",
            "source": [
                "<h1>Permutation Sequence</h1>",
                "<p>The set <code>[1,2,3,...,<em>n</em>]</code> contains a total of <em>n</em>! unique permutations.</p><div></div>",
                "<div></div>",
                "<p>By listing and labeling all of the permutations in order, we get the following sequence for <em>n</em> = 3:</p><div></div>",
                "<div></div>",
                "<ol><div></div>",
                "\t<li><code>&quot;123&quot;</code></li><div></div>",
                "\t<li><code>&quot;132&quot;</code></li><div></div>",
                "\t<li><code>&quot;213&quot;</code></li><div></div>",
                "\t<li><code>&quot;231&quot;</code></li><div></div>",
                "\t<li><code>&quot;312&quot;</code></li><div></div>",
                "\t<li><code>&quot;321&quot;</code></li><div></div>",
                "</ol><div></div>",
                "<div></div>",
                "<p>Given <em>n</em> and <em>k</em>, return the <em>k</em><sup>th</sup> permutation sequence.</p><div></div>",
                "<div></div>",
                "<p><strong>Note:</strong></p><div></div>",
                "<div></div>",
                "<ul><div></div>",
                "\t<li>Given <em>n</em> will be between 1 and 9 inclusive.</li><div></div>",
                "\t<li>Given&nbsp;<em>k</em>&nbsp;will be between 1 and <em>n</em>! inclusive.</li><div></div>",
                "</ul><div></div>",
                "<div></div>",
                "<p><strong>Example 1:</strong></p><div></div>",
                "<div></div>",
                "<pre><div></div>",
                "<strong>Input:</strong> n = 3, k = 3<div></div>",
                "<strong>Output:</strong> &quot;213&quot;<div></div>",
                "</pre><div></div>",
                "<div></div>",
                "<p><strong>Example 2:</strong></p><div></div>",
                "<div></div>",
                "<pre><div></div>",
                "<strong>Input:</strong> n = 4, k = 9<div></div>",
                "<strong>Output:</strong> &quot;2314&quot;<div></div>",
                "</pre><div></div>",
                "<div></div>"
            ],
            "metadata": {}
        },
        {
            "cell_type": "code",
            "metadata": {},
            "execution_count": null,
            "source": "%%writefile permutation_sequence.py\nclass Solution:\n    def getPermutation(self, n, k):\n        \"\"\"\n        :type n: int\n        :type k: int\n        :rtype: str\n        \"\"\"",
            "outputs": []
        },
        {
            "cell_type": "code",
            "metadata": {},
            "execution_count": null,
            "source": "# submit\n%run ../../cli.py push --method=submit --path=permutation_sequence.py --clean=True",
            "outputs": []
        }
    ]
}