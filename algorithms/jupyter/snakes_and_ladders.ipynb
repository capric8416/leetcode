{
    "nbformat": 4,
    "nbformat_minor": 2,
    "metadata": {
        "kernelspec": {
            "display_name": "Python 3",
            "language": "python",
            "name": "python3"
        },
        "language_info": {
            "codemirror_mode": {
                "name": "ipython",
                "version": 3
            },
            "file_extension": ".py",
            "mimetype": "text/x-python",
            "name": "python",
            "nbconvert_exporter": "python",
            "pygments_lexer": "ipython3",
            "version": "3.7.2"
        }
    },
    "cells": [
        {
            "cell_type": "markdown",
            "source": [
                "<h1>Snakes and Ladders</h1>",
                "<p>On an N x N <code>board</code>, the numbers from <code>1</code> to <code>N*N</code> are written&nbsp;<em>boustrophedonically</em>&nbsp;<strong>starting from the bottom&nbsp;left of the board</strong>, and alternating direction each row.&nbsp; For example, for a 6 x 6 board, the numbers are written as follows:</p><div></div>",
                "<div></div>",
                "<pre><div></div>",
                "<img alt=\"\" src=\"https://assets.leetcode.com/uploads/2018/09/23/snakes.png\" style=\"width: 254px; height: 200px;\" /><div></div>",
                "</pre><div></div>",
                "<div></div>",
                "<p>You start on square <code>1</code> of the board (which is always in the last row and&nbsp;first column).&nbsp; Each move, starting from square <code>x</code>, consists of the following:</p><div></div>",
                "<div></div>",
                "<ul><div></div>",
                "\t<li>You choose a destination square <code>S</code> with number&nbsp;<code>x+1</code>, <code>x+2</code>, <code>x+3</code>, <code>x+4</code>, <code>x+5</code>, or <code>x+6</code>, provided this&nbsp;number is&nbsp;<code>&lt;=&nbsp;N*N</code>.<div></div>",
                "<div></div>",
                "\t<ul><div></div>",
                "\t\t<li>(This choice simulates the result of a standard 6-sided die roll: ie., there are always at most 6 destinations.)</li><div></div>",
                "\t</ul><div></div>",
                "\t</li><div></div>",
                "\t<li>If <code>S</code>&nbsp;has a snake or ladder, you move to the destination of that snake or ladder.&nbsp; Otherwise, you move to <code>S</code>.</li><div></div>",
                "</ul><div></div>",
                "<div></div>",
                "<p>A board square on row <code>r</code> and column <code>c</code>&nbsp;has a &quot;snake or ladder&quot; if <code>board[r][c] != -1</code>.&nbsp; The destination of that snake or ladder is <code>board[r][c]</code>.</p><div></div>",
                "<div></div>",
                "<p>Note that you only take a snake or ladder at most once per move: if the destination to a snake or ladder is the start of another&nbsp;snake or ladder, you do <strong>not</strong> continue moving.&nbsp; (For example, if the board is `[[4,-1],[-1,3]]`, and on the first move your destination square is `2`, then you finish your first move at&nbsp;`3`, because you do <strong>not</strong> continue moving to `4`.)</p><div></div>",
                "<div></div>",
                "<p>Return the least number of moves required to reach square <font face=\"monospace\">N*N</font>.&nbsp; If it is not possible, return <code>-1</code>.</p><div></div>",
                "<div></div>",
                "<p><strong>Example 1:</strong></p><div></div>",
                "<div></div>",
                "<pre><div></div>",
                "<strong>Input: </strong>[<div></div>",
                "[-1,-1,-1,-1,-1,-1],<div></div>",
                "[-1,-1,-1,-1,-1,-1],<div></div>",
                "[-1,-1,-1,-1,-1,-1],<div></div>",
                "[-1,35,-1,-1,13,-1],<div></div>",
                "[-1,-1,-1,-1,-1,-1],<div></div>",
                "[-1,15,-1,-1,-1,-1]]<div></div>",
                "<strong>Output: </strong>4<div></div>",
                "<strong>Explanation: </strong><div></div>",
                "At the beginning, you start at square 1 [at row 5, column 0].<div></div>",
                "You decide to move to square 2, and must take the ladder to square 15.<div></div>",
                "You then decide to move to square 17 (row 3, column 5), and must take the snake to square 13.<div></div>",
                "You then decide to move to square 14, and must take the ladder to square 35.<div></div>",
                "You then decide to move to square 36, ending the game.<div></div>",
                "It can be shown that you need at least 4 moves to reach the N*N-th square, so the answer is 4.<div></div>",
                "</pre><div></div>",
                "<div></div>",
                "<p><strong>Note:</strong></p><div></div>",
                "<div></div>",
                "<ol><div></div>",
                "\t<li><code>2 &lt;= board.length = board[0].length&nbsp;&lt;= 20</code></li><div></div>",
                "\t<li><code>board[i][j]</code>&nbsp;is between <code>1</code> and <code>N*N</code> or is equal to <code>-1</code>.</li><div></div>",
                "\t<li>The board&nbsp;square with number <code>1</code> has no snake or ladder.</li><div></div>",
                "\t<li>The board square with number <code>N*N</code> has no snake or ladder.</li><div></div>",
                "</ol><div></div>"
            ],
            "metadata": {}
        },
        {
            "cell_type": "code",
            "metadata": {},
            "execution_count": null,
            "source": "%%writefile snakes_and_ladders.py\nclass Solution:\n    def snakesAndLadders(self, board):\n        \"\"\"\n        :type board: List[List[int]]\n        :rtype: int\n        \"\"\"",
            "outputs": []
        },
        {
            "cell_type": "code",
            "metadata": {},
            "execution_count": null,
            "source": "# submit\n%run ../../cli.py push --method=submit --path=snakes_and_ladders.py --clean=True",
            "outputs": []
        }
    ]
}