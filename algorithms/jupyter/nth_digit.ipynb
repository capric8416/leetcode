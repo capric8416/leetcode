{
    "nbformat": 4,
    "nbformat_minor": 2,
    "metadata": {
        "kernelspec": {
            "display_name": "Python 3",
            "language": "python",
            "name": "python3"
        },
        "language_info": {
            "codemirror_mode": {
                "name": "ipython",
                "version": 3
            },
            "file_extension": ".py",
            "mimetype": "text/x-python",
            "name": "python",
            "nbconvert_exporter": "python",
            "pygments_lexer": "ipython3",
            "version": "3.7.2"
        }
    },
    "cells": [
        {
            "cell_type": "markdown",
            "source": [
                "<h1>Nth Digit</h1>",
                "<p>Find the <i>n</i><sup>th</sup> digit of the infinite integer sequence 1, 2, 3, 4, 5, 6, 7, 8, 9, 10, 11, ... </p><div></div>",
                "<div></div>",
                "<p><b>Note:</b><br /><div></div>",
                "<i>n</i> is positive and will fit within the range of a 32-bit signed integer (<i>n</i> < 2<sup>31</sup>).<div></div>",
                "</p><div></div>",
                "<div></div>",
                "<p><b>Example 1:</b><div></div>",
                "<pre><div></div>",
                "<b>Input:</b><div></div>",
                "3<div></div>",
                "<div></div>",
                "<b>Output:</b><div></div>",
                "3<div></div>",
                "</pre><div></div>",
                "</p><div></div>",
                "<div></div>",
                "<p><b>Example 2:</b><div></div>",
                "<pre><div></div>",
                "<b>Input:</b><div></div>",
                "11<div></div>",
                "<div></div>",
                "<b>Output:</b><div></div>",
                "0<div></div>",
                "<div></div>",
                "<b>Explanation:</b><div></div>",
                "The 11th digit of the sequence 1, 2, 3, 4, 5, 6, 7, 8, 9, 10, 11, ... is a 0, which is part of the number 10.<div></div>",
                "</pre><div></div>",
                "</p><div></div>"
            ],
            "metadata": {}
        },
        {
            "cell_type": "code",
            "metadata": {},
            "execution_count": null,
            "source": "%%writefile nth_digit.py\nclass Solution:\n    def findNthDigit(self, n):\n        \"\"\"\n        :type n: int\n        :rtype: int\n        \"\"\"",
            "outputs": []
        },
        {
            "cell_type": "code",
            "metadata": {},
            "execution_count": null,
            "source": "# submit\n%run ../../cli.py push --method=submit --path=nth_digit.py --clean=True",
            "outputs": []
        }
    ]
}