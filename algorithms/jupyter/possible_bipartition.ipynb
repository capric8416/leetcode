{
    "nbformat": 4,
    "nbformat_minor": 2,
    "metadata": {
        "kernelspec": {
            "display_name": "Python 3",
            "language": "python",
            "name": "python3"
        },
        "language_info": {
            "codemirror_mode": {
                "name": "ipython",
                "version": 3
            },
            "file_extension": ".py",
            "mimetype": "text/x-python",
            "name": "python",
            "nbconvert_exporter": "python",
            "pygments_lexer": "ipython3",
            "version": "3.7.2"
        }
    },
    "cells": [
        {
            "cell_type": "markdown",
            "source": [
                "<h1>Possible Bipartition</h1>",
                "<p>Given a set of <code>N</code>&nbsp;people (numbered <code>1, 2, ..., N</code>), we would like to split everyone into two groups of <strong>any</strong> size.</p><div></div>",
                "<div></div>",
                "<p>Each person may dislike some other people, and they should not go into the same group.&nbsp;</p><div></div>",
                "<div></div>",
                "<p>Formally, if <code>dislikes[i] = [a, b]</code>, it means it is not allowed to put the people numbered <code>a</code> and <code>b</code> into the same group.</p><div></div>",
                "<div></div>",
                "<p>Return <code>true</code>&nbsp;if and only if it is possible to split everyone into two groups in this way.</p><div></div>",
                "<div></div>",
                "<p>&nbsp;</p><div></div>",
                "<div></div>",
                "<div><div></div>",
                "<div><div></div>",
                "<ol><div></div>",
                "</ol><div></div>",
                "</div><div></div>",
                "</div><div></div>",
                "<div></div>",
                "<div><div></div>",
                "<p><strong>Example 1:</strong></p><div></div>",
                "<div></div>",
                "<pre><div></div>",
                "<strong>Input: </strong>N = <span id=\"example-input-1-1\">4</span>, dislikes = <span id=\"example-input-1-2\">[[1,2],[1,3],[2,4]]</span><div></div>",
                "<strong>Output: </strong><span id=\"example-output-1\">true</span><div></div>",
                "<strong>Explanation</strong>: group1 [1,4], group2 [2,3]<div></div>",
                "</pre><div></div>",
                "<div></div>",
                "<div><div></div>",
                "<p><strong>Example 2:</strong></p><div></div>",
                "<div></div>",
                "<pre><div></div>",
                "<strong>Input: </strong>N = <span id=\"example-input-2-1\">3</span>, dislikes = <span id=\"example-input-2-2\">[[1,2],[1,3],[2,3]]</span><div></div>",
                "<strong>Output: </strong><span id=\"example-output-2\">false</span><div></div>",
                "</pre><div></div>",
                "<div></div>",
                "<div><div></div>",
                "<p><strong>Example 3:</strong></p><div></div>",
                "<div></div>",
                "<pre><div></div>",
                "<strong>Input: </strong>N = <span id=\"example-input-3-1\">5</span>, dislikes = <span id=\"example-input-3-2\">[[1,2],[2,3],[3,4],[4,5],[1,5]]</span><div></div>",
                "<strong>Output: </strong><span id=\"example-output-3\">false</span><div></div>",
                "</pre><div></div>",
                "<div></div>",
                "<p>&nbsp;</p><div></div>",
                "<div></div>",
                "<p><strong>Note:</strong></p><div></div>",
                "<div></div>",
                "<ol><div></div>",
                "\t<li><code>1 &lt;= N &lt;= 2000</code></li><div></div>",
                "\t<li><code>0 &lt;= dislikes.length &lt;= 10000</code></li><div></div>",
                "\t<li><code>1 &lt;= dislikes[i][j] &lt;= N</code></li><div></div>",
                "\t<li><code>dislikes[i][0] &lt; dislikes[i][1]</code></li><div></div>",
                "\t<li>There does not exist <code>i != j</code> for which <code>dislikes[i] == dislikes[j]</code>.</li><div></div>",
                "</ol><div></div>",
                "</div><div></div>",
                "</div><div></div>",
                "</div><div></div>",
                "<div></div>"
            ],
            "metadata": {}
        },
        {
            "cell_type": "code",
            "metadata": {},
            "execution_count": null,
            "source": "%%writefile possible_bipartition.py\nclass Solution:\n    def possibleBipartition(self, N, dislikes):\n        \"\"\"\n        :type N: int\n        :type dislikes: List[List[int]]\n        :rtype: bool\n        \"\"\"",
            "outputs": []
        },
        {
            "cell_type": "code",
            "metadata": {},
            "execution_count": null,
            "source": "# submit\n%run ../../cli.py push --method=submit --path=possible_bipartition.py --clean=True",
            "outputs": []
        }
    ]
}