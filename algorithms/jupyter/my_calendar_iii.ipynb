{
    "nbformat": 4,
    "nbformat_minor": 2,
    "metadata": {
        "kernelspec": {
            "display_name": "Python 3",
            "language": "python",
            "name": "python3"
        },
        "language_info": {
            "codemirror_mode": {
                "name": "ipython",
                "version": 3
            },
            "file_extension": ".py",
            "mimetype": "text/x-python",
            "name": "python",
            "nbconvert_exporter": "python",
            "pygments_lexer": "ipython3",
            "version": "3.7.2"
        }
    },
    "cells": [
        {
            "cell_type": "markdown",
            "source": [
                "<h1>My Calendar III</h1>",
                "<p>Implement a <code>MyCalendarThree</code> class to store your events. A new event can <b>always</b> be added.</p><div></div>",
                "<div></div>",
                "<p>Your class will have one method, <code>book(int start, int end)</code>. Formally, this represents a booking on the half open interval <code>[start, end)</code>, the range of real numbers <code>x</code> such that <code>start &lt;= x &lt; end</code>.</p><div></div>",
                "<div></div>",
                "<p>A <i>K-booking</i> happens when <b>K</b> events have some non-empty intersection (ie., there is some time that is common to all K events.)</p><div></div>",
                "<div></div>",
                "<p>For each call to the method <code>MyCalendar.book</code>, return an integer <code>K</code> representing the largest integer such that there exists a <code>K</code>-booking in the calendar.</p><div></div>",
                "Your class will be called like this: <code>MyCalendarThree cal = new MyCalendarThree();</code> <code>MyCalendarThree.book(start, end)</code><div></div>",
                "<div></div>",
                "<p><b>Example 1:</b></p><div></div>",
                "<div></div>",
                "<pre><div></div>",
                "MyCalendarThree();<div></div>",
                "MyCalendarThree.book(10, 20); // returns 1<div></div>",
                "MyCalendarThree.book(50, 60); // returns 1<div></div>",
                "MyCalendarThree.book(10, 40); // returns 2<div></div>",
                "MyCalendarThree.book(5, 15); // returns 3<div></div>",
                "MyCalendarThree.book(5, 10); // returns 3<div></div>",
                "MyCalendarThree.book(25, 55); // returns 3<div></div>",
                "<b>Explanation:</b> <div></div>",
                "The first two events can be booked and are disjoint, so the maximum K-booking is a 1-booking.<div></div>",
                "The third event [10, 40) intersects the first event, and the maximum K-booking is a 2-booking.<div></div>",
                "The remaining events cause the maximum K-booking to be only a 3-booking.<div></div>",
                "Note that the last event locally causes a 2-booking, but the answer is still 3 because<div></div>",
                "eg. [10, 20), [10, 40), and [5, 15) are still triple booked.<div></div>",
                "</pre><div></div>",
                "<div></div>",
                "<p>&nbsp;</p><div></div>",
                "<div></div>",
                "<p><b>Note:</b></p><div></div>",
                "<div></div>",
                "<ul><div></div>",
                "\t<li>The number of calls to <code>MyCalendarThree.book</code> per test case will be at most <code>400</code>.</li><div></div>",
                "\t<li>In calls to <code>MyCalendarThree.book(start, end)</code>, <code>start</code> and <code>end</code> are integers in the range <code>[0, 10^9]</code>.</li><div></div>",
                "</ul><div></div>",
                "<div></div>",
                "<p>&nbsp;</p><div></div>",
                "<div></div>"
            ],
            "metadata": {}
        },
        {
            "cell_type": "code",
            "metadata": {},
            "execution_count": null,
            "source": "%%writefile my_calendar_iii.py\nclass MyCalendarThree:\n\n    def __init__(self):\n        \n\n    def book(self, start, end):\n        \"\"\"\n        :type start: int\n        :type end: int\n        :rtype: int\n        \"\"\"\n        \n\n\n# Your MyCalendarThree object will be instantiated and called as such:\n# obj = MyCalendarThree()\n# param_1 = obj.book(start,end)",
            "outputs": []
        },
        {
            "cell_type": "code",
            "metadata": {},
            "execution_count": null,
            "source": "# submit\n%run ../../cli.py push --method=submit --path=my_calendar_iii.py --clean=True",
            "outputs": []
        }
    ]
}