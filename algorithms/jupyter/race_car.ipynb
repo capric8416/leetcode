{
    "nbformat": 4,
    "nbformat_minor": 2,
    "metadata": {
        "kernelspec": {
            "display_name": "Python 3",
            "language": "python",
            "name": "python3"
        },
        "language_info": {
            "codemirror_mode": {
                "name": "ipython",
                "version": 3
            },
            "file_extension": ".py",
            "mimetype": "text/x-python",
            "name": "python",
            "nbconvert_exporter": "python",
            "pygments_lexer": "ipython3",
            "version": "3.7.2"
        }
    },
    "cells": [
        {
            "cell_type": "markdown",
            "source": [
                "<h1>Race Car</h1>",
                "<p>Your car starts at position 0 and speed +1 on an infinite number line.&nbsp; (Your car can go into negative positions.)</p><div></div>",
                "<div></div>",
                "<p>Your car drives automatically according to a sequence of instructions A (accelerate) and R (reverse).</p><div></div>",
                "<div></div>",
                "<p>When you get an instruction &quot;A&quot;, your car does the following:&nbsp;<code>position += speed, speed *= 2</code>.</p><div></div>",
                "<div></div>",
                "<p>When you get an instruction &quot;R&quot;, your car does the following: if your speed is positive then&nbsp;<code>speed = -1</code>&nbsp;, otherwise&nbsp;<code>speed = 1</code>.&nbsp; (Your position stays the same.)</p><div></div>",
                "<div></div>",
                "<p>For example, after commands &quot;AAR&quot;, your car goes to positions 0-&gt;1-&gt;3-&gt;3, and your speed goes to 1-&gt;2-&gt;4-&gt;-1.</p><div></div>",
                "<div></div>",
                "<p>Now for some target position, say the <strong>length</strong> of the shortest sequence of instructions to get there.</p><div></div>",
                "<div></div>",
                "<pre><div></div>",
                "<strong>Example 1:</strong><div></div>",
                "<strong>Input:</strong> <div></div>",
                "target = 3<div></div>",
                "<strong>Output:</strong> 2<div></div>",
                "<strong>Explanation:</strong> <div></div>",
                "The shortest instruction sequence is &quot;AA&quot;.<div></div>",
                "Your position goes from 0-&gt;1-&gt;3.<div></div>",
                "</pre><div></div>",
                "<div></div>",
                "<pre><div></div>",
                "<strong>Example 2:</strong><div></div>",
                "<strong>Input:</strong> <div></div>",
                "target = 6<div></div>",
                "<strong>Output:</strong> 5<div></div>",
                "<strong>Explanation:</strong> <div></div>",
                "The shortest instruction sequence is &quot;AAARA&quot;.<div></div>",
                "Your position goes from 0-&gt;1-&gt;3-&gt;7-&gt;7-&gt;6.<div></div>",
                "</pre><div></div>",
                "<div></div>",
                "<p>&nbsp;</p><div></div>",
                "<div></div>",
                "<p><strong>Note: </strong></p><div></div>",
                "<div></div>",
                "<ul><div></div>",
                "\t<li><code>1 &lt;= target &lt;= 10000</code>.</li><div></div>",
                "</ul><div></div>",
                "<div></div>"
            ],
            "metadata": {}
        },
        {
            "cell_type": "code",
            "metadata": {},
            "execution_count": null,
            "source": "%%writefile race_car.py\nclass Solution:\n    def racecar(self, target):\n        \"\"\"\n        :type target: int\n        :rtype: int\n        \"\"\"",
            "outputs": []
        },
        {
            "cell_type": "code",
            "metadata": {},
            "execution_count": null,
            "source": "# submit\n%run ../../cli.py push --method=submit --path=race_car.py --clean=True",
            "outputs": []
        }
    ]
}