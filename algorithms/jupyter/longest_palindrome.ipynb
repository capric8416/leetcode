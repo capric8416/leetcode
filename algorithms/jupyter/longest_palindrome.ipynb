{
    "nbformat": 4,
    "nbformat_minor": 2,
    "metadata": {
        "kernelspec": {
            "display_name": "Python 3",
            "language": "python",
            "name": "python3"
        },
        "language_info": {
            "codemirror_mode": {
                "name": "ipython",
                "version": 3
            },
            "file_extension": ".py",
            "mimetype": "text/x-python",
            "name": "python",
            "nbconvert_exporter": "python",
            "pygments_lexer": "ipython3",
            "version": "3.7.2"
        }
    },
    "cells": [
        {
            "cell_type": "markdown",
            "source": [
                "<h1>Longest Palindrome</h1>",
                "<p>Given a string which consists of lowercase or uppercase letters, find the length of the longest palindromes that can be built with those letters.</p><div></div>",
                "<div></div>",
                "<p>This is case sensitive, for example <code>\"Aa\"</code> is not considered a palindrome here.</p><div></div>",
                "<div></div>",
                "<p><b>Note:</b><br /><div></div>",
                "Assume the length of given string will not exceed 1,010.<div></div>",
                "</p><div></div>",
                "<div></div>",
                "<p><b>Example: </b><div></div>",
                "<pre><div></div>",
                "Input:<div></div>",
                "\"abccccdd\"<div></div>",
                "<div></div>",
                "Output:<div></div>",
                "7<div></div>",
                "<div></div>",
                "Explanation:<div></div>",
                "One longest palindrome that can be built is \"dccaccd\", whose length is 7.<div></div>",
                "</pre><div></div>",
                "</p><div></div>"
            ],
            "metadata": {}
        },
        {
            "cell_type": "code",
            "metadata": {},
            "execution_count": null,
            "source": "%%writefile longest_palindrome.py\nclass Solution:\n    def longestPalindrome(self, s):\n        \"\"\"\n        :type s: str\n        :rtype: int\n        \"\"\"",
            "outputs": []
        },
        {
            "cell_type": "code",
            "metadata": {},
            "execution_count": null,
            "source": "# submit\n%run ../../cli.py push --method=submit --path=longest_palindrome.py --clean=True",
            "outputs": []
        }
    ]
}