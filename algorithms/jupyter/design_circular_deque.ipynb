{
    "nbformat": 4,
    "nbformat_minor": 2,
    "metadata": {
        "kernelspec": {
            "display_name": "Python 3",
            "language": "python",
            "name": "python3"
        },
        "language_info": {
            "codemirror_mode": {
                "name": "ipython",
                "version": 3
            },
            "file_extension": ".py",
            "mimetype": "text/x-python",
            "name": "python",
            "nbconvert_exporter": "python",
            "pygments_lexer": "ipython3",
            "version": "3.7.2"
        }
    },
    "cells": [
        {
            "cell_type": "markdown",
            "source": [
                "<h1>Design Circular Deque</h1>",
                "<p>Design your implementation of the circular double-ended queue (deque).</p><div></div>",
                "<div></div>",
                "<p>Your implementation should support following operations:</p><div></div>",
                "<div></div>",
                "<ul><div></div>",
                "\t<li><code>MyCircularDeque(k)</code>: Constructor, set the size of the deque to be k.</li><div></div>",
                "\t<li><code>insertFront()</code>: Adds an item at the front of Deque. Return true if the operation is successful.</li><div></div>",
                "\t<li><code>insertLast()</code>: Adds an item at the rear of Deque. Return true if the operation is successful.</li><div></div>",
                "\t<li><code>deleteFront()</code>: Deletes an item from the front of Deque. Return true if the operation is successful.</li><div></div>",
                "\t<li><code>deleteLast()</code>: Deletes an item from the rear of Deque. Return true if the operation is successful.</li><div></div>",
                "\t<li><code>getFront()</code>: Gets the front item from the Deque. If the deque is empty, return -1.</li><div></div>",
                "\t<li><code>getRear()</code>: Gets the last item from Deque. If the deque is empty, return -1.</li><div></div>",
                "\t<li><code>isEmpty()</code>: Checks whether Deque is empty or not.&nbsp;</li><div></div>",
                "\t<li><code>isFull()</code>: Checks whether Deque is full or not.</li><div></div>",
                "</ul><div></div>",
                "<div></div>",
                "<p>&nbsp;</p><div></div>",
                "<div></div>",
                "<p><strong>Example:</strong></p><div></div>",
                "<div></div>",
                "<pre><div></div>",
                "MyCircularDeque circularDeque = new MycircularDeque(3); // set the size to be 3<div></div>",
                "circularDeque.insertLast(1);\t\t\t// return true<div></div>",
                "circularDeque.insertLast(2);\t\t\t// return true<div></div>",
                "circularDeque.insertFront(3);\t\t\t// return true<div></div>",
                "circularDeque.insertFront(4);\t\t\t// return false, the queue is full<div></div>",
                "circularDeque.getRear();  \t\t\t// return 2<div></div>",
                "circularDeque.isFull();\t\t\t\t// return true<div></div>",
                "circularDeque.deleteLast();\t\t\t// return true<div></div>",
                "circularDeque.insertFront(4);\t\t\t// return true<div></div>",
                "circularDeque.getFront();\t\t\t// return 4<div></div>",
                "</pre><div></div>",
                "<div></div>",
                "<p>&nbsp;</p><div></div>",
                "<div></div>",
                "<p><strong>Note:</strong></p><div></div>",
                "<div></div>",
                "<ul><div></div>",
                "\t<li>All values will be in the range of [0, 1000].</li><div></div>",
                "\t<li>The number of operations will be in the range of&nbsp;[1, 1000].</li><div></div>",
                "\t<li>Please do not use the built-in Deque library.</li><div></div>",
                "</ul><div></div>",
                "<div></div>"
            ],
            "metadata": {}
        },
        {
            "cell_type": "code",
            "metadata": {},
            "execution_count": null,
            "source": "%%writefile design_circular_deque.py\nclass MyCircularDeque:\n\n    def __init__(self, k):\n        \"\"\"\n        Initialize your data structure here. Set the size of the deque to be k.\n        :type k: int\n        \"\"\"\n        \n\n    def insertFront(self, value):\n        \"\"\"\n        Adds an item at the front of Deque. Return true if the operation is successful.\n        :type value: int\n        :rtype: bool\n        \"\"\"\n        \n\n    def insertLast(self, value):\n        \"\"\"\n        Adds an item at the rear of Deque. Return true if the operation is successful.\n        :type value: int\n        :rtype: bool\n        \"\"\"\n        \n\n    def deleteFront(self):\n        \"\"\"\n        Deletes an item from the front of Deque. Return true if the operation is successful.\n        :rtype: bool\n        \"\"\"\n        \n\n    def deleteLast(self):\n        \"\"\"\n        Deletes an item from the rear of Deque. Return true if the operation is successful.\n        :rtype: bool\n        \"\"\"\n        \n\n    def getFront(self):\n        \"\"\"\n        Get the front item from the deque.\n        :rtype: int\n        \"\"\"\n        \n\n    def getRear(self):\n        \"\"\"\n        Get the last item from the deque.\n        :rtype: int\n        \"\"\"\n        \n\n    def isEmpty(self):\n        \"\"\"\n        Checks whether the circular deque is empty or not.\n        :rtype: bool\n        \"\"\"\n        \n\n    def isFull(self):\n        \"\"\"\n        Checks whether the circular deque is full or not.\n        :rtype: bool\n        \"\"\"\n        \n\n\n# Your MyCircularDeque object will be instantiated and called as such:\n# obj = MyCircularDeque(k)\n# param_1 = obj.insertFront(value)\n# param_2 = obj.insertLast(value)\n# param_3 = obj.deleteFront()\n# param_4 = obj.deleteLast()\n# param_5 = obj.getFront()\n# param_6 = obj.getRear()\n# param_7 = obj.isEmpty()\n# param_8 = obj.isFull()",
            "outputs": []
        },
        {
            "cell_type": "code",
            "metadata": {},
            "execution_count": null,
            "source": "# submit\n%run ../../cli.py push --method=submit --path=design_circular_deque.py --clean=True",
            "outputs": []
        }
    ]
}