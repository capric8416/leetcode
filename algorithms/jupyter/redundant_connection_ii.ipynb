{
    "nbformat": 4,
    "nbformat_minor": 2,
    "metadata": {
        "kernelspec": {
            "display_name": "Python 3",
            "language": "python",
            "name": "python3"
        },
        "language_info": {
            "codemirror_mode": {
                "name": "ipython",
                "version": 3
            },
            "file_extension": ".py",
            "mimetype": "text/x-python",
            "name": "python",
            "nbconvert_exporter": "python",
            "pygments_lexer": "ipython3",
            "version": "3.7.2"
        }
    },
    "cells": [
        {
            "cell_type": "markdown",
            "source": [
                "<h1>Redundant Connection II</h1>",
                "<p><div></div>",
                "In this problem, a rooted tree is a <b>directed</b> graph such that, there is exactly one node (the root) for which all other nodes are descendants of this node, plus every node has exactly one parent, except for the root node which has no parents.<div></div>",
                "</p><p><div></div>",
                "The given input is a directed graph that started as a rooted tree with N nodes (with distinct values 1, 2, ..., N), with one additional directed edge added.  The added edge has two different vertices chosen from 1 to N, and was not an edge that already existed.<div></div>",
                "</p><p><div></div>",
                "The resulting graph is given as a 2D-array of <code>edges</code>.  Each element of <code>edges</code> is a pair <code>[u, v]</code> that represents a <b>directed</b> edge connecting nodes <code>u</code> and <code>v</code>, where <code>u</code> is a parent of child <code>v</code>.<div></div>",
                "</p><p><div></div>",
                "Return an edge that can be removed so that the resulting graph is a rooted tree of N nodes.  If there are multiple answers, return the answer that occurs last in the given 2D-array.<div></div>",
                "</p><p><b>Example 1:</b><br /><div></div>",
                "<pre><div></div>",
                "<b>Input:</b> [[1,2], [1,3], [2,3]]<div></div>",
                "<b>Output:</b> [2,3]<div></div>",
                "<b>Explanation:</b> The given directed graph will be like this:<div></div>",
                "  1<div></div>",
                " / \\<div></div>",
                "v   v<div></div>",
                "2-->3<div></div>",
                "</pre><div></div>",
                "</p><div></div>",
                "<p><b>Example 2:</b><br /><div></div>",
                "<pre><div></div>",
                "<b>Input:</b> [[1,2], [2,3], [3,4], [4,1], [1,5]]<div></div>",
                "<b>Output:</b> [4,1]<div></div>",
                "<b>Explanation:</b> The given directed graph will be like this:<div></div>",
                "5 <- 1 -> 2<div></div>",
                "     ^    |<div></div>",
                "     |    v<div></div>",
                "     4 <- 3<div></div>",
                "</pre><div></div>",
                "</p><div></div>",
                "<p><b>Note:</b><br /><div></div>",
                "<li>The size of the input 2D-array will be between 3 and 1000.</li><div></div>",
                "<li>Every integer represented in the 2D-array will be between 1 and N, where N is the size of the input array.</li><div></div>",
                "</p><div></div>"
            ],
            "metadata": {}
        },
        {
            "cell_type": "code",
            "metadata": {},
            "execution_count": null,
            "source": "%%writefile redundant_connection_ii.py\nclass Solution:\n    def findRedundantDirectedConnection(self, edges):\n        \"\"\"\n        :type edges: List[List[int]]\n        :rtype: List[int]\n        \"\"\"",
            "outputs": []
        },
        {
            "cell_type": "code",
            "metadata": {},
            "execution_count": null,
            "source": "# submit\n%run ../../cli.py push --method=submit --path=redundant_connection_ii.py --clean=True",
            "outputs": []
        }
    ]
}