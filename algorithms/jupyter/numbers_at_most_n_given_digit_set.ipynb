{
    "nbformat": 4,
    "nbformat_minor": 2,
    "metadata": {
        "kernelspec": {
            "display_name": "Python 3",
            "language": "python",
            "name": "python3"
        },
        "language_info": {
            "codemirror_mode": {
                "name": "ipython",
                "version": 3
            },
            "file_extension": ".py",
            "mimetype": "text/x-python",
            "name": "python",
            "nbconvert_exporter": "python",
            "pygments_lexer": "ipython3",
            "version": "3.7.2"
        }
    },
    "cells": [
        {
            "cell_type": "markdown",
            "source": [
                "<h1>Numbers At Most N Given Digit Set</h1>",
                "<p>We have a <strong>sorted</strong> set of digits <code>D</code>, a non-empty subset of <code>{&#39;1&#39;,&#39;2&#39;,&#39;3&#39;,&#39;4&#39;,&#39;5&#39;,&#39;6&#39;,&#39;7&#39;,&#39;8&#39;,&#39;9&#39;}</code>.&nbsp; (Note that <code>&#39;0&#39;</code> is not included.)</p><div></div>",
                "<div></div>",
                "<p>Now, we write numbers using these digits, using each digit as many times as we want.&nbsp; For example, if <code>D = {&#39;1&#39;,&#39;3&#39;,&#39;5&#39;}</code>, we may write numbers such as <code>&#39;13&#39;, &#39;551&#39;, &#39;1351315&#39;</code>.</p><div></div>",
                "<div></div>",
                "<p>Return the number of positive integers that can be written (using the digits of <code>D</code>) that are less than or equal to <code>N</code>.</p><div></div>",
                "<div></div>",
                "<p>&nbsp;</p><div></div>",
                "<div></div>",
                "<p><strong>Example 1:</strong></p><div></div>",
                "<div></div>",
                "<pre><div></div>",
                "<strong>Input: </strong>D = <span id=\"example-input-1-1\">[&quot;1&quot;,&quot;3&quot;,&quot;5&quot;,&quot;7&quot;]</span>, N = <span id=\"example-input-1-2\">100</span><div></div>",
                "<strong>Output: </strong><span id=\"example-output-1\">20</span><div></div>",
                "<strong>Explanation: </strong><div></div>",
                "The 20 numbers that can be written are:<div></div>",
                "1, 3, 5, 7, 11, 13, 15, 17, 31, 33, 35, 37, 51, 53, 55, 57, 71, 73, 75, 77.<div></div>",
                "</pre><div></div>",
                "<div></div>",
                "<div><div></div>",
                "<p><strong>Example 2:</strong></p><div></div>",
                "<div></div>",
                "<pre><div></div>",
                "<strong>Input: </strong>D = <span id=\"example-input-2-1\">[&quot;1&quot;,&quot;4&quot;,&quot;9&quot;]</span>, N = <span id=\"example-input-2-2\">1000000000</span><div></div>",
                "<strong>Output: </strong><span id=\"example-output-2\">29523</span><div></div>",
                "<strong>Explanation: </strong><div></div>",
                "We can write 3 one digit numbers, 9 two digit numbers, 27 three digit numbers,<div></div>",
                "81 four digit numbers, 243 five digit numbers, 729 six digit numbers,<div></div>",
                "2187 seven digit numbers, 6561 eight digit numbers, and 19683 nine digit numbers.<div></div>",
                "In total, this is 29523 integers that can be written using the digits of D.</pre><div></div>",
                "</div><div></div>",
                "<div></div>",
                "<p>&nbsp;</p><div></div>",
                "<div></div>",
                "<p><strong>Note:</strong></p><div></div>",
                "<div></div>",
                "<ol><div></div>",
                "\t<li><code>D</code> is a&nbsp;subset of digits <code>&#39;1&#39;-&#39;9&#39;</code> in sorted order.</li><div></div>",
                "\t<li><code>1 &lt;= N &lt;= 10^9</code></li><div></div>",
                "</ol><div></div>",
                "<div></div>"
            ],
            "metadata": {}
        },
        {
            "cell_type": "code",
            "metadata": {},
            "execution_count": null,
            "source": "%%writefile numbers_at_most_n_given_digit_set.py\nclass Solution:\n    def atMostNGivenDigitSet(self, D, N):\n        \"\"\"\n        :type D: List[str]\n        :type N: int\n        :rtype: int\n        \"\"\"",
            "outputs": []
        },
        {
            "cell_type": "code",
            "metadata": {},
            "execution_count": null,
            "source": "# submit\n%run ../../cli.py push --method=submit --path=numbers_at_most_n_given_digit_set.py --clean=True",
            "outputs": []
        }
    ]
}