{
    "nbformat": 4,
    "nbformat_minor": 2,
    "metadata": {
        "kernelspec": {
            "display_name": "Python 3",
            "language": "python",
            "name": "python3"
        },
        "language_info": {
            "codemirror_mode": {
                "name": "ipython",
                "version": 3
            },
            "file_extension": ".py",
            "mimetype": "text/x-python",
            "name": "python",
            "nbconvert_exporter": "python",
            "pygments_lexer": "ipython3",
            "version": "3.7.2"
        }
    },
    "cells": [
        {
            "cell_type": "markdown",
            "source": [
                "<h1>Min Stack</h1>",
                "<p><div></div>",
                "Design a stack that supports push, pop, top, and retrieving the minimum element in constant time.<div></div>",
                "<ul><div></div>",
                "<li><div></div>",
                "push(x) -- Push element x onto stack.<div></div>",
                "</li><div></div>",
                "<li><div></div>",
                "pop() -- Removes the element on top of the stack.<div></div>",
                "</li><div></div>",
                "<li><div></div>",
                "top() -- Get the top element.<div></div>",
                "</li><div></div>",
                "<li><div></div>",
                "getMin() -- Retrieve the minimum element in the stack.<div></div>",
                "</li><div></div>",
                "</ul><div></div>",
                "</p><div></div>",
                "<div></div>",
                "<p><b>Example:</b><br /><div></div>",
                "<pre><div></div>",
                "MinStack minStack = new MinStack();<div></div>",
                "minStack.push(-2);<div></div>",
                "minStack.push(0);<div></div>",
                "minStack.push(-3);<div></div>",
                "minStack.getMin();   --> Returns -3.<div></div>",
                "minStack.pop();<div></div>",
                "minStack.top();      --> Returns 0.<div></div>",
                "minStack.getMin();   --> Returns -2.<div></div>",
                "</pre><div></div>",
                "</p><div></div>"
            ],
            "metadata": {}
        },
        {
            "cell_type": "code",
            "metadata": {},
            "execution_count": null,
            "source": "%%writefile min_stack.py\nclass MinStack:\n\n    def __init__(self):\n        \"\"\"\n        initialize your data structure here.\n        \"\"\"\n        \n\n    def push(self, x):\n        \"\"\"\n        :type x: int\n        :rtype: void\n        \"\"\"\n        \n\n    def pop(self):\n        \"\"\"\n        :rtype: void\n        \"\"\"\n        \n\n    def top(self):\n        \"\"\"\n        :rtype: int\n        \"\"\"\n        \n\n    def getMin(self):\n        \"\"\"\n        :rtype: int\n        \"\"\"\n        \n\n\n# Your MinStack object will be instantiated and called as such:\n# obj = MinStack()\n# obj.push(x)\n# obj.pop()\n# param_3 = obj.top()\n# param_4 = obj.getMin()",
            "outputs": []
        },
        {
            "cell_type": "code",
            "metadata": {},
            "execution_count": null,
            "source": "# submit\n%run ../../cli.py push --method=submit --path=min_stack.py --clean=True",
            "outputs": []
        }
    ]
}