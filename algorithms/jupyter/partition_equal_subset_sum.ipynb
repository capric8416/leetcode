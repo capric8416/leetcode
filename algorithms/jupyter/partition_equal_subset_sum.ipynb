{
    "nbformat": 4,
    "nbformat_minor": 2,
    "metadata": {
        "kernelspec": {
            "display_name": "Python 3",
            "language": "python",
            "name": "python3"
        },
        "language_info": {
            "codemirror_mode": {
                "name": "ipython",
                "version": 3
            },
            "file_extension": ".py",
            "mimetype": "text/x-python",
            "name": "python",
            "nbconvert_exporter": "python",
            "pygments_lexer": "ipython3",
            "version": "3.7.2"
        }
    },
    "cells": [
        {
            "cell_type": "markdown",
            "source": [
                "<h1>Partition Equal Subset Sum</h1>",
                "<p>Given a <b>non-empty</b> array containing <b>only positive integers</b>, find if the array can be partitioned into two subsets such that the sum of elements in both subsets is equal.<div></div>",
                "</p><div></div>",
                "<div></div>",
                "<p><b>Note:</b><br /><div></div>",
                "<ol><div></div>",
                "<li>Each of the array element will not exceed 100.</li><div></div>",
                "<li>The array size will not exceed 200.</li><div></div>",
                "</ol><div></div>",
                "</p><div></div>",
                "<div></div>",
                "<p><b>Example 1:</b><div></div>",
                "<pre><div></div>",
                "Input: [1, 5, 11, 5]<div></div>",
                "<div></div>",
                "Output: true<div></div>",
                "<div></div>",
                "Explanation: The array can be partitioned as [1, 5, 5] and [11].<div></div>",
                "</pre><div></div>",
                "</p><div></div>",
                "<div></div>",
                "<p><b>Example 2:</b><div></div>",
                "<pre><div></div>",
                "Input: [1, 2, 3, 5]<div></div>",
                "<div></div>",
                "Output: false<div></div>",
                "<div></div>",
                "Explanation: The array cannot be partitioned into equal sum subsets.<div></div>",
                "</pre><div></div>",
                "</p><div></div>"
            ],
            "metadata": {}
        },
        {
            "cell_type": "code",
            "metadata": {},
            "execution_count": null,
            "source": "%%writefile partition_equal_subset_sum.py\nclass Solution:\n    def canPartition(self, nums):\n        \"\"\"\n        :type nums: List[int]\n        :rtype: bool\n        \"\"\"",
            "outputs": []
        },
        {
            "cell_type": "code",
            "metadata": {},
            "execution_count": null,
            "source": "# submit\n%run ../../cli.py push --method=submit --path=partition_equal_subset_sum.py --clean=True",
            "outputs": []
        }
    ]
}