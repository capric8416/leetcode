{
    "nbformat": 4,
    "nbformat_minor": 2,
    "metadata": {
        "kernelspec": {
            "display_name": "Python 3",
            "language": "python",
            "name": "python3"
        },
        "language_info": {
            "codemirror_mode": {
                "name": "ipython",
                "version": 3
            },
            "file_extension": ".py",
            "mimetype": "text/x-python",
            "name": "python",
            "nbconvert_exporter": "python",
            "pygments_lexer": "ipython3",
            "version": "3.7.2"
        }
    },
    "cells": [
        {
            "cell_type": "markdown",
            "source": [
                "<h1>Valid Tic-Tac-Toe State</h1>",
                "<p>A Tic-Tac-Toe board is given as a string array <code>board</code>. Return True if and only if it is possible to reach this board position during the course of a valid tic-tac-toe game.</p><div></div>",
                "<div></div>",
                "<p>The <code>board</code> is a 3 x 3 array, and consists of characters <code>&quot; &quot;</code>, <code>&quot;X&quot;</code>, and <code>&quot;O&quot;</code>.&nbsp; The &quot; &quot; character represents an empty square.</p><div></div>",
                "<div></div>",
                "<p>Here are the rules of Tic-Tac-Toe:</p><div></div>",
                "<div></div>",
                "<ul><div></div>",
                "\t<li>Players take turns placing characters into empty squares (&quot; &quot;).</li><div></div>",
                "\t<li>The first player always places &quot;X&quot; characters, while the second player always places &quot;O&quot; characters.</li><div></div>",
                "\t<li>&quot;X&quot; and &quot;O&quot; characters are always placed into empty squares, never filled ones.</li><div></div>",
                "\t<li>The game ends when there are 3 of the same (non-empty) character filling any row, column, or diagonal.</li><div></div>",
                "\t<li>The game also ends if all squares are non-empty.</li><div></div>",
                "\t<li>No more moves can be played if the game is over.</li><div></div>",
                "</ul><div></div>",
                "<div></div>",
                "<pre><div></div>",
                "<strong>Example 1:</strong><div></div>",
                "<strong>Input:</strong> board = [&quot;O&nbsp; &quot;, &quot;&nbsp; &nbsp;&quot;, &quot;&nbsp; &nbsp;&quot;]<div></div>",
                "<strong>Output:</strong> false<div></div>",
                "<strong>Explanation:</strong> The first player always plays &quot;X&quot;.<div></div>",
                "<div></div>",
                "<strong>Example 2:</strong><div></div>",
                "<strong>Input:</strong> board = [&quot;XOX&quot;, &quot; X &quot;, &quot;   &quot;]<div></div>",
                "<strong>Output:</strong> false<div></div>",
                "<strong>Explanation:</strong> Players take turns making moves.<div></div>",
                "<div></div>",
                "<strong>Example 3:</strong><div></div>",
                "<strong>Input:</strong> board = [&quot;XXX&quot;, &quot;   &quot;, &quot;OOO&quot;]<div></div>",
                "<strong>Output:</strong> false<div></div>",
                "<div></div>",
                "<strong>Example 4:</strong><div></div>",
                "<strong>Input:</strong> board = [&quot;XOX&quot;, &quot;O O&quot;, &quot;XOX&quot;]<div></div>",
                "<strong>Output:</strong> true<div></div>",
                "</pre><div></div>",
                "<div></div>",
                "<p><strong>Note:</strong></p><div></div>",
                "<div></div>",
                "<ul><div></div>",
                "\t<li><code>board</code> is a length-3 array of strings, where each string <code>board[i]</code> has length 3.</li><div></div>",
                "\t<li>Each <code>board[i][j]</code> is a character in the set <code>{&quot; &quot;, &quot;X&quot;, &quot;O&quot;}</code>.</li><div></div>",
                "</ul><div></div>",
                "<div></div>"
            ],
            "metadata": {}
        },
        {
            "cell_type": "code",
            "metadata": {},
            "execution_count": null,
            "source": "%%writefile valid_tic_tac_toe_state.py\nclass Solution:\n    def validTicTacToe(self, board):\n        \"\"\"\n        :type board: List[str]\n        :rtype: bool\n        \"\"\"",
            "outputs": []
        },
        {
            "cell_type": "code",
            "metadata": {},
            "execution_count": null,
            "source": "# submit\n%run ../../cli.py push --method=submit --path=valid_tic_tac_toe_state.py --clean=True",
            "outputs": []
        }
    ]
}