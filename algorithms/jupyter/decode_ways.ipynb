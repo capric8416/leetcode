{
    "nbformat": 4,
    "nbformat_minor": 2,
    "metadata": {
        "kernelspec": {
            "display_name": "Python 3",
            "language": "python",
            "name": "python3"
        },
        "language_info": {
            "codemirror_mode": {
                "name": "ipython",
                "version": 3
            },
            "file_extension": ".py",
            "mimetype": "text/x-python",
            "name": "python",
            "nbconvert_exporter": "python",
            "pygments_lexer": "ipython3",
            "version": "3.7.2"
        }
    },
    "cells": [
        {
            "cell_type": "markdown",
            "source": [
                "<h1>Decode Ways</h1>",
                "<p>A message containing letters from <code>A-Z</code> is being encoded to numbers using the following mapping:</p><div></div>",
                "<div></div>",
                "<pre><div></div>",
                "&#39;A&#39; -&gt; 1<div></div>",
                "&#39;B&#39; -&gt; 2<div></div>",
                "...<div></div>",
                "&#39;Z&#39; -&gt; 26<div></div>",
                "</pre><div></div>",
                "<div></div>",
                "<p>Given a <strong>non-empty</strong> string containing only digits, determine the total number of ways to decode it.</p><div></div>",
                "<div></div>",
                "<p><strong>Example 1:</strong></p><div></div>",
                "<div></div>",
                "<pre><div></div>",
                "<strong>Input:</strong> &quot;12&quot;<div></div>",
                "<strong>Output:</strong> 2<div></div>",
                "<strong>Explanation:</strong>&nbsp;It could be decoded as &quot;AB&quot; (1 2) or &quot;L&quot; (12).<div></div>",
                "</pre><div></div>",
                "<div></div>",
                "<p><strong>Example 2:</strong></p><div></div>",
                "<div></div>",
                "<pre><div></div>",
                "<strong>Input:</strong> &quot;226&quot;<div></div>",
                "<strong>Output:</strong> 3<div></div>",
                "<strong>Explanation:</strong>&nbsp;It could be decoded as &quot;BZ&quot; (2 26), &quot;VF&quot; (22 6), or &quot;BBF&quot; (2 2 6).</pre><div></div>",
                "<div></div>"
            ],
            "metadata": {}
        },
        {
            "cell_type": "code",
            "metadata": {},
            "execution_count": null,
            "source": "%%writefile decode_ways.py\nclass Solution:\n    def numDecodings(self, s):\n        \"\"\"\n        :type s: str\n        :rtype: int\n        \"\"\"",
            "outputs": []
        },
        {
            "cell_type": "code",
            "metadata": {},
            "execution_count": null,
            "source": "# submit\n%run ../../cli.py push --method=submit --path=decode_ways.py --clean=True",
            "outputs": []
        }
    ]
}