{
    "nbformat": 4,
    "nbformat_minor": 2,
    "metadata": {
        "kernelspec": {
            "display_name": "Python 3",
            "language": "python",
            "name": "python3"
        },
        "language_info": {
            "codemirror_mode": {
                "name": "ipython",
                "version": 3
            },
            "file_extension": ".py",
            "mimetype": "text/x-python",
            "name": "python",
            "nbconvert_exporter": "python",
            "pygments_lexer": "ipython3",
            "version": "3.7.2"
        }
    },
    "cells": [
        {
            "cell_type": "markdown",
            "source": [
                "<h1>Split Array into Fibonacci Sequence</h1>",
                "<p>Given a string <code>S</code>&nbsp;of digits, such as <code>S = &quot;123456579&quot;</code>, we can split it into a <em>Fibonacci-like sequence</em>&nbsp;<code>[123, 456, 579].</code></p><div></div>",
                "<div></div>",
                "<p>Formally, a Fibonacci-like sequence is a list&nbsp;<code>F</code> of non-negative integers such that:</p><div></div>",
                "<div></div>",
                "<ul><div></div>",
                "\t<li><code>0 &lt;= F[i] &lt;= 2^31 - 1</code>, (that is,&nbsp;each integer fits a 32-bit signed integer type);</li><div></div>",
                "\t<li><code>F.length &gt;= 3</code>;</li><div></div>",
                "\t<li>and<code> F[i] + F[i+1] = F[i+2] </code>for all <code>0 &lt;= i &lt; F.length - 2</code>.</li><div></div>",
                "</ul><div></div>",
                "<div></div>",
                "<p>Also, note that when splitting the string into pieces, each piece must not have extra leading zeroes, except if the piece is the number 0 itself.</p><div></div>",
                "<div></div>",
                "<p>Return any Fibonacci-like sequence split from <code>S</code>, or return <code>[]</code> if it cannot be done.</p><div></div>",
                "<div></div>",
                "<p><strong>Example 1:</strong></p><div></div>",
                "<div></div>",
                "<pre><div></div>",
                "<strong>Input: </strong>&quot;123456579&quot;<div></div>",
                "<strong>Output: </strong>[123,456,579]<div></div>",
                "</pre><div></div>",
                "<div></div>",
                "<p><strong>Example 2:</strong></p><div></div>",
                "<div></div>",
                "<pre><div></div>",
                "<strong>Input: </strong>&quot;11235813&quot;<div></div>",
                "<strong>Output: </strong>[1,1,2,3,5,8,13]<div></div>",
                "</pre><div></div>",
                "<div></div>",
                "<p><strong>Example 3:</strong></p><div></div>",
                "<div></div>",
                "<pre><div></div>",
                "<strong>Input: </strong>&quot;112358130&quot;<div></div>",
                "<strong>Output: </strong>[]<div></div>",
                "<strong>Explanation: </strong>The task is impossible.<div></div>",
                "</pre><div></div>",
                "<div></div>",
                "<p><strong>Example 4:</strong></p><div></div>",
                "<div></div>",
                "<pre><div></div>",
                "<strong>Input: </strong>&quot;0123&quot;<div></div>",
                "<strong>Output: </strong>[]<div></div>",
                "<strong>Explanation: </strong>Leading zeroes are not allowed, so &quot;01&quot;, &quot;2&quot;, &quot;3&quot; is not valid.<div></div>",
                "</pre><div></div>",
                "<div></div>",
                "<p><strong>Example 5:</strong></p><div></div>",
                "<div></div>",
                "<pre><div></div>",
                "<strong>Input: </strong>&quot;1101111&quot;<div></div>",
                "<strong>Output: </strong>[110, 1, 111]<div></div>",
                "<strong>Explanation: </strong>The output [11, 0, 11, 11] would also be accepted.<div></div>",
                "</pre><div></div>",
                "<div></div>",
                "<p><strong>Note: </strong></p><div></div>",
                "<div></div>",
                "<ol><div></div>",
                "\t<li><code>1 &lt;= S.length&nbsp;&lt;= 200</code></li><div></div>",
                "\t<li><code>S</code> contains only digits.</li><div></div>",
                "</ol><div></div>",
                "<div></div>"
            ],
            "metadata": {}
        },
        {
            "cell_type": "code",
            "metadata": {},
            "execution_count": null,
            "source": "%%writefile split_array_into_fibonacci_sequence.py\nclass Solution:\n    def splitIntoFibonacci(self, S):\n        \"\"\"\n        :type S: str\n        :rtype: List[int]\n        \"\"\"",
            "outputs": []
        },
        {
            "cell_type": "code",
            "metadata": {},
            "execution_count": null,
            "source": "# submit\n%run ../../cli.py push --method=submit --path=split_array_into_fibonacci_sequence.py --clean=True",
            "outputs": []
        }
    ]
}