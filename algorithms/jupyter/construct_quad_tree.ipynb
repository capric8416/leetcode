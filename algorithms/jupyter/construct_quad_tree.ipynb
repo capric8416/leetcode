{
    "nbformat": 4,
    "nbformat_minor": 2,
    "metadata": {
        "kernelspec": {
            "display_name": "Python 3",
            "language": "python",
            "name": "python3"
        },
        "language_info": {
            "codemirror_mode": {
                "name": "ipython",
                "version": 3
            },
            "file_extension": ".py",
            "mimetype": "text/x-python",
            "name": "python",
            "nbconvert_exporter": "python",
            "pygments_lexer": "ipython3",
            "version": "3.7.2"
        }
    },
    "cells": [
        {
            "cell_type": "markdown",
            "source": [
                "<h1>Construct Quad Tree</h1>",
                "<p>We want to use quad trees to store an <code>N x N</code> boolean grid. Each cell in the grid can only be true or false. The root node represents the whole grid. For each node, it will be subdivided into four children nodes <strong>until the values in the region it represents are all the same</strong>.</p><div></div>",
                "<div></div>",
                "<p>Each node has another two boolean attributes : <code>isLeaf</code> and <code>val</code>. <code>isLeaf</code> is true if and only if the node is a leaf node. The <code>val</code> attribute for a leaf node contains the value of the region it represents.</p><div></div>",
                "<div></div>",
                "<p>Your task is to use a quad tree to represent a given grid. The following example may help you understand the problem better:</p><div></div>",
                "<div></div>",
                "<p>Given the <code>8 x 8</code> grid below, we want to construct the corresponding quad tree:</p><div></div>",
                "<div></div>",
                "<p><img alt=\"\" src=\"https://s3-lc-upload.s3.amazonaws.com/uploads/2018/02/01/962_grid.png\" style=\"height:27%; max-height:300px; max-width:299px; width:27%\" /></p><div></div>",
                "<div></div>",
                "<p>It can be divided according to the definition above:</p><div></div>",
                "<div></div>",
                "<p><img alt=\"\" src=\"https://s3-lc-upload.s3.amazonaws.com/uploads/2018/02/01/962_grid_divided.png\" style=\"height:100%; max-height:300px; max-width:1107px; width:100%\" /></p><div></div>",
                "<div></div>",
                "<p>&nbsp;</p><div></div>",
                "<div></div>",
                "<p>The corresponding quad tree should be as following, where each node is represented as a <code>(isLeaf, val)</code> pair.</p><div></div>",
                "<div></div>",
                "<p>For the non-leaf&nbsp;nodes,&nbsp;<code>val</code> can be arbitrary, so it is represented as <code>*</code>.</p><div></div>",
                "<div></div>",
                "<p><img alt=\"\" src=\"https://s3-lc-upload.s3.amazonaws.com/uploads/2018/02/01/962_quad_tree.png\" style=\"height:100%; max-height:300px; max-width:836px; width:100%\" /></p><div></div>",
                "<div></div>",
                "<p><strong>Note:</strong></p><div></div>",
                "<div></div>",
                "<ol><div></div>",
                "\t<li><code>N</code> is less than <code>1000</code> and guaranteened to be a power of 2.</li><div></div>",
                "\t<li>If you want to know more about the quad tree, you can refer to its <a href=\"https://en.wikipedia.org/wiki/Quadtree\">wiki</a>.</li><div></div>",
                "</ol><div></div>",
                "<div></div>"
            ],
            "metadata": {}
        },
        {
            "cell_type": "code",
            "metadata": {},
            "execution_count": null,
            "source": "%%writefile construct_quad_tree.py\n\"\"\"\n# Definition for a QuadTree node.\nclass Node:\n    def __init__(self, val, isLeaf, topLeft, topRight, bottomLeft, bottomRight):\n        self.val = val\n        self.isLeaf = isLeaf\n        self.topLeft = topLeft\n        self.topRight = topRight\n        self.bottomLeft = bottomLeft\n        self.bottomRight = bottomRight\n\"\"\"\nclass Solution:\n    def construct(self, grid):\n        \"\"\"\n        :type grid: List[List[int]]\n        :rtype: Node\n        \"\"\"",
            "outputs": []
        },
        {
            "cell_type": "code",
            "metadata": {},
            "execution_count": null,
            "source": "# submit\n%run ../../cli.py push --method=submit --path=construct_quad_tree.py --clean=True",
            "outputs": []
        }
    ]
}