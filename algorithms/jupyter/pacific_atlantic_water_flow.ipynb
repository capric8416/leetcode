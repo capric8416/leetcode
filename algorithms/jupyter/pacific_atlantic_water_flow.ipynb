{
    "nbformat": 4,
    "nbformat_minor": 2,
    "metadata": {
        "kernelspec": {
            "display_name": "Python 3",
            "language": "python",
            "name": "python3"
        },
        "language_info": {
            "codemirror_mode": {
                "name": "ipython",
                "version": 3
            },
            "file_extension": ".py",
            "mimetype": "text/x-python",
            "name": "python",
            "nbconvert_exporter": "python",
            "pygments_lexer": "ipython3",
            "version": "3.7.2"
        }
    },
    "cells": [
        {
            "cell_type": "markdown",
            "source": [
                "<h1>Pacific Atlantic Water Flow</h1>",
                "<p>Given an <code>m x n</code> matrix of non-negative integers representing the height of each unit cell in a continent, the \"Pacific ocean\" touches the left and top edges of the matrix and the \"Atlantic ocean\" touches the right and bottom edges.</p><div></div>",
                "<div></div>",
                "<p>Water can only flow in four directions (up, down, left, or right) from a cell to another one with height equal or lower.</p><div></div>",
                "<div></div>",
                "<p>Find the list of grid coordinates where water can flow to both the Pacific and Atlantic ocean.</p><div></div>",
                "<div></div>",
                "<p><b>Note:</b><br /><div></div>",
                "<ol><div></div>",
                "<li>The order of returned grid coordinates does not matter.</li><div></div>",
                "<li>Both <i>m</i> and <i>n</i> are less than 150.</li><div></div>",
                "</ol><div></div>",
                "</p><div></div>",
                "<p><b>Example:</b><div></div>",
                "<pre><div></div>",
                "Given the following 5x5 matrix:<div></div>",
                "<div></div>",
                "  Pacific ~   ~   ~   ~   ~ <div></div>",
                "       ~  1   2   2   3  (5) *<div></div>",
                "       ~  3   2   3  (4) (4) *<div></div>",
                "       ~  2   4  (5)  3   1  *<div></div>",
                "       ~ (6) (7)  1   4   5  *<div></div>",
                "       ~ (5)  1   1   2   4  *<div></div>",
                "          *   *   *   *   * Atlantic<div></div>",
                "<div></div>",
                "Return:<div></div>",
                "<div></div>",
                "[[0, 4], [1, 3], [1, 4], [2, 2], [3, 0], [3, 1], [4, 0]] (positions with parentheses in above matrix).<div></div>",
                "</pre><div></div>",
                "</p><div></div>"
            ],
            "metadata": {}
        },
        {
            "cell_type": "code",
            "metadata": {},
            "execution_count": null,
            "source": "%%writefile pacific_atlantic_water_flow.py\nclass Solution:\n    def pacificAtlantic(self, matrix):\n        \"\"\"\n        :type matrix: List[List[int]]\n        :rtype: List[List[int]]\n        \"\"\"",
            "outputs": []
        },
        {
            "cell_type": "code",
            "metadata": {},
            "execution_count": null,
            "source": "# submit\n%run ../../cli.py push --method=submit --path=pacific_atlantic_water_flow.py --clean=True",
            "outputs": []
        }
    ]
}