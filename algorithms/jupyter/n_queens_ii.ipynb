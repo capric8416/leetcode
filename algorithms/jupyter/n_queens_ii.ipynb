{
    "nbformat": 4,
    "nbformat_minor": 2,
    "metadata": {
        "kernelspec": {
            "display_name": "Python 3",
            "language": "python",
            "name": "python3"
        },
        "language_info": {
            "codemirror_mode": {
                "name": "ipython",
                "version": 3
            },
            "file_extension": ".py",
            "mimetype": "text/x-python",
            "name": "python",
            "nbconvert_exporter": "python",
            "pygments_lexer": "ipython3",
            "version": "3.7.2"
        }
    },
    "cells": [
        {
            "cell_type": "markdown",
            "source": [
                "<h1>N-Queens II</h1>",
                "<p>The <em>n</em>-queens puzzle is the problem of placing <em>n</em> queens on an <em>n</em>&times;<em>n</em> chessboard such that no two queens attack each other.</p><div></div>",
                "<div></div>",
                "<p><img src=\"https://assets.leetcode.com/uploads/2018/10/12/8-queens.png\" style=\"width: 258px; height: 276px;\" /></p><div></div>",
                "<div></div>",
                "<p>Given an integer&nbsp;<em>n</em>, return the number of&nbsp;distinct solutions to the&nbsp;<em>n</em>-queens puzzle.</p><div></div>",
                "<div></div>",
                "<p><strong>Example:</strong></p><div></div>",
                "<div></div>",
                "<pre><div></div>",
                "<strong>Input:</strong> 4<div></div>",
                "<strong>Output:</strong> 2<div></div>",
                "<strong>Explanation:</strong> There are two distinct solutions to the 4-queens puzzle as shown below.<div></div>",
                "[<div></div>",
                "&nbsp;[&quot;.Q..&quot;, &nbsp;// Solution 1<div></div>",
                "&nbsp; &quot;...Q&quot;,<div></div>",
                "&nbsp; &quot;Q...&quot;,<div></div>",
                "&nbsp; &quot;..Q.&quot;],<div></div>",
                "<div></div>",
                "&nbsp;[&quot;..Q.&quot;, &nbsp;// Solution 2<div></div>",
                "&nbsp; &quot;Q...&quot;,<div></div>",
                "&nbsp; &quot;...Q&quot;,<div></div>",
                "&nbsp; &quot;.Q..&quot;]<div></div>",
                "]<div></div>",
                "</pre><div></div>",
                "<div></div>"
            ],
            "metadata": {}
        },
        {
            "cell_type": "code",
            "metadata": {},
            "execution_count": null,
            "source": "%%writefile n_queens_ii.py\nclass Solution:\n    def totalNQueens(self, n):\n        \"\"\"\n        :type n: int\n        :rtype: int\n        \"\"\"",
            "outputs": []
        },
        {
            "cell_type": "code",
            "metadata": {},
            "execution_count": null,
            "source": "# submit\n%run ../../cli.py push --method=submit --path=n_queens_ii.py --clean=True",
            "outputs": []
        }
    ]
}