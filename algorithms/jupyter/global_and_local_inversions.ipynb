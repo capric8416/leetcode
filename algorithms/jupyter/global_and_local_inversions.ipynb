{
    "nbformat": 4,
    "nbformat_minor": 2,
    "metadata": {
        "kernelspec": {
            "display_name": "Python 3",
            "language": "python",
            "name": "python3"
        },
        "language_info": {
            "codemirror_mode": {
                "name": "ipython",
                "version": 3
            },
            "file_extension": ".py",
            "mimetype": "text/x-python",
            "name": "python",
            "nbconvert_exporter": "python",
            "pygments_lexer": "ipython3",
            "version": "3.7.2"
        }
    },
    "cells": [
        {
            "cell_type": "markdown",
            "source": [
                "<h1>Global and Local Inversions</h1>",
                "<p>We have some permutation <code>A</code> of <code>[0, 1, ..., N - 1]</code>, where <code>N</code> is the length of <code>A</code>.</p><div></div>",
                "<div></div>",
                "<p>The number of (global) inversions is the number of <code>i &lt; j</code> with <code>0 &lt;= i &lt; j &lt; N</code> and <code>A[i] &gt; A[j]</code>.</p><div></div>",
                "<div></div>",
                "<p>The number of local inversions is the number of <code>i</code> with <code>0 &lt;= i &lt; N</code> and <code>A[i] &gt; A[i+1]</code>.</p><div></div>",
                "<div></div>",
                "<p>Return <code>true</code>&nbsp;if and only if the number of global inversions is equal to the number of local inversions.</p><div></div>",
                "<div></div>",
                "<p><strong>Example 1:</strong></p><div></div>",
                "<div></div>",
                "<pre><div></div>",
                "<strong>Input:</strong> A = [1,0,2]<div></div>",
                "<strong>Output:</strong> true<div></div>",
                "<strong>Explanation:</strong> There is 1 global inversion, and 1 local inversion.<div></div>",
                "</pre><div></div>",
                "<div></div>",
                "<p><strong>Example 2:</strong></p><div></div>",
                "<div></div>",
                "<pre><div></div>",
                "<strong>Input:</strong> A = [1,2,0]<div></div>",
                "<strong>Output:</strong> false<div></div>",
                "<strong>Explanation:</strong> There are 2 global inversions, and 1 local inversion.<div></div>",
                "</pre><div></div>",
                "<div></div>",
                "<p><strong>Note:</strong></p><div></div>",
                "<div></div>",
                "<ul><div></div>",
                "\t<li><code>A</code> will be a permutation of <code>[0, 1, ..., A.length - 1]</code>.</li><div></div>",
                "\t<li><code>A</code> will have length in range <code>[1, 5000]</code>.</li><div></div>",
                "\t<li>The time limit for this problem has been reduced.</li><div></div>",
                "</ul><div></div>",
                "<div></div>"
            ],
            "metadata": {}
        },
        {
            "cell_type": "code",
            "metadata": {},
            "execution_count": null,
            "source": "%%writefile global_and_local_inversions.py\nclass Solution:\n    def isIdealPermutation(self, A):\n        \"\"\"\n        :type A: List[int]\n        :rtype: bool\n        \"\"\"",
            "outputs": []
        },
        {
            "cell_type": "code",
            "metadata": {},
            "execution_count": null,
            "source": "# submit\n%run ../../cli.py push --method=submit --path=global_and_local_inversions.py --clean=True",
            "outputs": []
        }
    ]
}