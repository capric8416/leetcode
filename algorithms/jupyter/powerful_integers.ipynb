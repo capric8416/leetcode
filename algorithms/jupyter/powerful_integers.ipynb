{
    "nbformat": 4,
    "nbformat_minor": 2,
    "metadata": {
        "kernelspec": {
            "display_name": "Python 3",
            "language": "python",
            "name": "python3"
        },
        "language_info": {
            "codemirror_mode": {
                "name": "ipython",
                "version": 3
            },
            "file_extension": ".py",
            "mimetype": "text/x-python",
            "name": "python",
            "nbconvert_exporter": "python",
            "pygments_lexer": "ipython3",
            "version": "3.7.2"
        }
    },
    "cells": [
        {
            "cell_type": "markdown",
            "source": [
                "<h1>Powerful Integers</h1>",
                "<p>Given two non-negative integers <code>x</code> and <code>y</code>, an integer is <em>powerful</em>&nbsp;if it is equal to <code>x^i + y^j</code>&nbsp;for&nbsp;some integers <code>i &gt;= 0</code> and <code>j &gt;= 0</code>.</p><div></div>",
                "<div></div>",
                "<p>Return a list of all <em>powerful</em> integers that have value less than or equal to <code>bound</code>.</p><div></div>",
                "<div></div>",
                "<p>You may return the answer in any order.&nbsp; In your answer, each value should occur at most once.</p><div></div>",
                "<div></div>",
                "<p>&nbsp;</p><div></div>",
                "<div></div>",
                "<div><div></div>",
                "<p><strong>Example 1:</strong></p><div></div>",
                "<div></div>",
                "<pre><div></div>",
                "<strong>Input: </strong>x = <span id=\"example-input-1-1\">2</span>, y = <span id=\"example-input-1-2\">3</span>, bound = <span id=\"example-input-1-3\">10</span><div></div>",
                "<strong>Output: </strong><span id=\"example-output-1\">[2,3,4,5,7,9,10]</span><div></div>",
                "<strong>Explanation: </strong><div></div>",
                "2 = 2^0 + 3^0<div></div>",
                "3 = 2^1 + 3^0<div></div>",
                "4 = 2^0 + 3^1<div></div>",
                "5 = 2^1 + 3^1<div></div>",
                "7 = 2^2 + 3^1<div></div>",
                "9 = 2^3 + 3^0<div></div>",
                "10 = 2^0 + 3^2<div></div>",
                "</pre><div></div>",
                "<div></div>",
                "<div><div></div>",
                "<p><strong>Example 2:</strong></p><div></div>",
                "<div></div>",
                "<pre><div></div>",
                "<strong>Input: </strong>x = <span id=\"example-input-2-1\">3</span>, y = <span id=\"example-input-2-2\">5</span>, bound = <span id=\"example-input-2-3\">15</span><div></div>",
                "<strong>Output: </strong><span id=\"example-output-2\">[2,4,6,8,10,14]</span><div></div>",
                "</pre><div></div>",
                "</div><div></div>",
                "</div><div></div>",
                "<div></div>",
                "<p>&nbsp;</p><div></div>",
                "<div></div>",
                "<p><strong>Note:</strong></p><div></div>",
                "<div></div>",
                "<ul><div></div>",
                "\t<li><code>1 &lt;= x &lt;= 100</code></li><div></div>",
                "\t<li><code>1 &lt;= y&nbsp;&lt;= 100</code></li><div></div>",
                "\t<li><code>0 &lt;= bound&nbsp;&lt;= 10^6</code></li><div></div>",
                "</ul><div></div>",
                "<div></div>"
            ],
            "metadata": {}
        },
        {
            "cell_type": "code",
            "metadata": {},
            "execution_count": null,
            "source": "%%writefile powerful_integers.py\nclass Solution:\n    def powerfulIntegers(self, x, y, bound):\n        \"\"\"\n        :type x: int\n        :type y: int\n        :type bound: int\n        :rtype: List[int]\n        \"\"\"",
            "outputs": []
        },
        {
            "cell_type": "code",
            "metadata": {},
            "execution_count": null,
            "source": "# submit\n%run ../../cli.py push --method=submit --path=powerful_integers.py --clean=True",
            "outputs": []
        }
    ]
}