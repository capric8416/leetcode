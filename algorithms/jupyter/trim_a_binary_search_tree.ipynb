{
    "nbformat": 4,
    "nbformat_minor": 2,
    "metadata": {
        "kernelspec": {
            "display_name": "Python 3",
            "language": "python",
            "name": "python3"
        },
        "language_info": {
            "codemirror_mode": {
                "name": "ipython",
                "version": 3
            },
            "file_extension": ".py",
            "mimetype": "text/x-python",
            "name": "python",
            "nbconvert_exporter": "python",
            "pygments_lexer": "ipython3",
            "version": "3.7.2"
        }
    },
    "cells": [
        {
            "cell_type": "markdown",
            "source": [
                "<h1>Trim a Binary Search Tree</h1>",
                "<p><div></div>",
                "Given a binary search tree and the lowest and highest boundaries as <code>L</code> and <code>R</code>, trim the tree so that all its elements lies in <code>[L, R]</code> (R >= L). You might need to change the root of the tree, so the result should return the new root of the trimmed binary search tree.<div></div>",
                "</p><div></div>",
                "<div></div>",
                "<p><b>Example 1:</b><br /><div></div>",
                "<pre><div></div>",
                "<b>Input:</b> <div></div>",
                "    1<div></div>",
                "   / \\<div></div>",
                "  0   2<div></div>",
                "<div></div>",
                "  L = 1<div></div>",
                "  R = 2<div></div>",
                "<div></div>",
                "<b>Output:</b> <div></div>",
                "    1<div></div>",
                "      \\<div></div>",
                "       2<div></div>",
                "</pre><div></div>",
                "</p><div></div>",
                "<div></div>",
                "<p><b>Example 2:</b><br /><div></div>",
                "<pre><div></div>",
                "<b>Input:</b> <div></div>",
                "    3<div></div>",
                "   / \\<div></div>",
                "  0   4<div></div>",
                "   \\<div></div>",
                "    2<div></div>",
                "   /<div></div>",
                "  1<div></div>",
                "<div></div>",
                "  L = 1<div></div>",
                "  R = 3<div></div>",
                "<div></div>",
                "<b>Output:</b> <div></div>",
                "      3<div></div>",
                "     / <div></div>",
                "   2   <div></div>",
                "  /<div></div>",
                " 1<div></div>",
                "</pre><div></div>",
                "</p><div></div>"
            ],
            "metadata": {}
        },
        {
            "cell_type": "code",
            "metadata": {},
            "execution_count": null,
            "source": "%%writefile trim_a_binary_search_tree.py\n# Definition for a binary tree node.\n# class TreeNode:\n#     def __init__(self, x):\n#         self.val = x\n#         self.left = None\n#         self.right = None\n\nclass Solution:\n    def trimBST(self, root, L, R):\n        \"\"\"\n        :type root: TreeNode\n        :type L: int\n        :type R: int\n        :rtype: TreeNode\n        \"\"\"",
            "outputs": []
        },
        {
            "cell_type": "code",
            "metadata": {},
            "execution_count": null,
            "source": "# submit\n%run ../../cli.py push --method=submit --path=trim_a_binary_search_tree.py --clean=True",
            "outputs": []
        }
    ]
}