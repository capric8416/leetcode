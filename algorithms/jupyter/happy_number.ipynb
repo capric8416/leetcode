{
    "nbformat": 4,
    "nbformat_minor": 2,
    "metadata": {
        "kernelspec": {
            "display_name": "Python 3",
            "language": "python",
            "name": "python3"
        },
        "language_info": {
            "codemirror_mode": {
                "name": "ipython",
                "version": 3
            },
            "file_extension": ".py",
            "mimetype": "text/x-python",
            "name": "python",
            "nbconvert_exporter": "python",
            "pygments_lexer": "ipython3",
            "version": "3.7.2"
        }
    },
    "cells": [
        {
            "cell_type": "markdown",
            "source": [
                "<h1>Happy Number</h1>",
                "<p>Write an algorithm to determine if a number is &quot;happy&quot;.</p><div></div>",
                "<div></div>",
                "<p>A happy number is a number defined by the following process: Starting with any positive integer, replace the number by the sum of the squares of its digits, and repeat the process until the number equals 1 (where it will stay), or it loops endlessly in a cycle which does not include 1. Those numbers for which this process ends in 1 are happy numbers.</p><div></div>",
                "<div></div>",
                "<p><strong>Example:&nbsp;</strong></p><div></div>",
                "<div></div>",
                "<pre><div></div>",
                "<strong>Input:</strong> 19<div></div>",
                "<strong>Output:</strong> true<div></div>",
                "<strong>Explanation: <div></div>",
                "</strong>1<sup>2</sup> + 9<sup>2</sup> = 82<div></div>",
                "8<sup>2</sup> + 2<sup>2</sup> = 68<div></div>",
                "6<sup>2</sup> + 8<sup>2</sup> = 100<div></div>",
                "1<sup>2</sup> + 0<sup>2</sup> + 0<sup>2</sup> = 1<div></div>",
                "</pre><div></div>"
            ],
            "metadata": {}
        },
        {
            "cell_type": "code",
            "metadata": {},
            "execution_count": null,
            "source": "%%writefile happy_number.py\nclass Solution:\n    def isHappy(self, n):\n        \"\"\"\n        :type n: int\n        :rtype: bool\n        \"\"\"",
            "outputs": []
        },
        {
            "cell_type": "code",
            "metadata": {},
            "execution_count": null,
            "source": "# submit\n%run ../../cli.py push --method=submit --path=happy_number.py --clean=True",
            "outputs": []
        }
    ]
}