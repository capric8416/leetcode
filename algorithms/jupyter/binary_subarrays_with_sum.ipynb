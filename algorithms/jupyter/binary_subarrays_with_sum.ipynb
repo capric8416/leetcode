{
    "nbformat": 4,
    "nbformat_minor": 2,
    "metadata": {
        "kernelspec": {
            "display_name": "Python 3",
            "language": "python",
            "name": "python3"
        },
        "language_info": {
            "codemirror_mode": {
                "name": "ipython",
                "version": 3
            },
            "file_extension": ".py",
            "mimetype": "text/x-python",
            "name": "python",
            "nbconvert_exporter": "python",
            "pygments_lexer": "ipython3",
            "version": "3.7.2"
        }
    },
    "cells": [
        {
            "cell_type": "markdown",
            "source": [
                "<h1>Binary Subarrays With Sum</h1>",
                "<p>In an array <code>A</code> of <code>0</code>s and <code>1</code>s, how many <strong>non-empty</strong> subarrays have sum <code>S</code>?</p><div></div>",
                "<div></div>",
                "<p>&nbsp;</p><div></div>",
                "<div></div>",
                "<p><strong>Example 1:</strong></p><div></div>",
                "<div></div>",
                "<pre><div></div>",
                "<strong>Input: </strong>A = <span id=\"example-input-1-1\">[1,0,1,0,1]</span>, S = <span id=\"example-input-1-2\">2</span><div></div>",
                "<strong>Output: </strong><span id=\"example-output-1\">4</span><div></div>",
                "<strong>Explanation: </strong><div></div>",
                "The 4 subarrays are bolded below:<div></div>",
                "[<strong>1,0,1</strong>,0,1]<div></div>",
                "[<strong>1,0,1,0</strong>,1]<div></div>",
                "[1,<strong>0,1,0,1</strong>]<div></div>",
                "[1,0,<strong>1,0,1</strong>]<div></div>",
                "</pre><div></div>",
                "<div></div>",
                "<p>&nbsp;</p><div></div>",
                "<div></div>",
                "<p><strong>Note:</strong></p><div></div>",
                "<div></div>",
                "<ol><div></div>",
                "\t<li><code>A.length &lt;= 30000</code></li><div></div>",
                "\t<li><code>0 &lt;= S &lt;= A.length</code></li><div></div>",
                "\t<li><code>A[i]</code>&nbsp;is either <code>0</code>&nbsp;or <code>1</code>.</li><div></div>",
                "</ol><div></div>"
            ],
            "metadata": {}
        },
        {
            "cell_type": "code",
            "metadata": {},
            "execution_count": null,
            "source": "%%writefile binary_subarrays_with_sum.py\nclass Solution:\n    def numSubarraysWithSum(self, A, S):\n        \"\"\"\n        :type A: List[int]\n        :type S: int\n        :rtype: int\n        \"\"\"",
            "outputs": []
        },
        {
            "cell_type": "code",
            "metadata": {},
            "execution_count": null,
            "source": "# submit\n%run ../../cli.py push --method=submit --path=binary_subarrays_with_sum.py --clean=True",
            "outputs": []
        }
    ]
}