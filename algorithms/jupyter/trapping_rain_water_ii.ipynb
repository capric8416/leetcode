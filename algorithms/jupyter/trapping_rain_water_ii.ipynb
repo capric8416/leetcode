{
    "nbformat": 4,
    "nbformat_minor": 2,
    "metadata": {
        "kernelspec": {
            "display_name": "Python 3",
            "language": "python",
            "name": "python3"
        },
        "language_info": {
            "codemirror_mode": {
                "name": "ipython",
                "version": 3
            },
            "file_extension": ".py",
            "mimetype": "text/x-python",
            "name": "python",
            "nbconvert_exporter": "python",
            "pygments_lexer": "ipython3",
            "version": "3.7.2"
        }
    },
    "cells": [
        {
            "cell_type": "markdown",
            "source": [
                "<h1>Trapping Rain Water II</h1>",
                "<p>Given an <code>m x n</code> matrix of positive integers representing the height of each unit cell in a 2D elevation map, compute the volume of water it is able to trap after raining.</p><div></div>",
                "<div></div>",
                "<p>&nbsp;</p><div></div>",
                "<div></div>",
                "<p><b>Note:</b></p><div></div>",
                "<div></div>",
                "<p>Both <i>m</i> and <i>n</i> are less than 110. The height of each unit cell is greater than 0 and is less than 20,000.</p><div></div>",
                "<div></div>",
                "<p>&nbsp;</p><div></div>",
                "<div></div>",
                "<p><b>Example:</b></p><div></div>",
                "<div></div>",
                "<pre><div></div>",
                "Given the following 3x6 height map:<div></div>",
                "[<div></div>",
                "  [1,4,3,1,3,2],<div></div>",
                "  [3,2,1,3,2,4],<div></div>",
                "  [2,3,3,2,3,1]<div></div>",
                "]<div></div>",
                "<div></div>",
                "Return 4.<div></div>",
                "</pre><div></div>",
                "<div></div>",
                "<p><img src=\"https://assets.leetcode.com/uploads/2018/10/13/rainwater_empty.png\" style=\"width: 100%; max-width: 500px;\" /></p><div></div>",
                "<div></div>",
                "<p>The above image represents the elevation map <code>[[1,4,3,1,3,2],[3,2,1,3,2,4],[2,3,3,2,3,1]]</code> before the rain.</p><div></div>",
                "<div></div>",
                "<p>&nbsp;</p><div></div>",
                "<div></div>",
                "<p><img src=\"https://assets.leetcode.com/uploads/2018/10/13/rainwater_fill.png\" style=\"width: 100%; max-width: 500px;\" /></p><div></div>",
                "<div></div>",
                "<p>After the rain, water is trapped between the blocks. The total volume of water trapped is 4.</p><div></div>",
                "<div></div>"
            ],
            "metadata": {}
        },
        {
            "cell_type": "code",
            "metadata": {},
            "execution_count": null,
            "source": "%%writefile trapping_rain_water_ii.py\nclass Solution:\n    def trapRainWater(self, heightMap):\n        \"\"\"\n        :type heightMap: List[List[int]]\n        :rtype: int\n        \"\"\"",
            "outputs": []
        },
        {
            "cell_type": "code",
            "metadata": {},
            "execution_count": null,
            "source": "# submit\n%run ../../cli.py push --method=submit --path=trapping_rain_water_ii.py --clean=True",
            "outputs": []
        }
    ]
}