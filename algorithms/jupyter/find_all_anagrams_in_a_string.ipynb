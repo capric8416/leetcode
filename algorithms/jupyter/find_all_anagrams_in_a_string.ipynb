{
    "nbformat": 4,
    "nbformat_minor": 2,
    "metadata": {
        "kernelspec": {
            "display_name": "Python 3",
            "language": "python",
            "name": "python3"
        },
        "language_info": {
            "codemirror_mode": {
                "name": "ipython",
                "version": 3
            },
            "file_extension": ".py",
            "mimetype": "text/x-python",
            "name": "python",
            "nbconvert_exporter": "python",
            "pygments_lexer": "ipython3",
            "version": "3.7.2"
        }
    },
    "cells": [
        {
            "cell_type": "markdown",
            "source": [
                "<h1>Find All Anagrams in a String</h1>",
                "<p>Given a string <b>s</b> and a <b>non-empty</b> string <b>p</b>, find all the start indices of <b>p</b>'s anagrams in <b>s</b>.</p><div></div>",
                "<div></div>",
                "<p>Strings consists of lowercase English letters only and the length of both strings <b>s</b> and <b>p</b> will not be larger than 20,100.</p><div></div>",
                "<div></div>",
                "<p>The order of output does not matter.</p><div></div>",
                "<div></div>",
                "<p><b>Example 1:</b><div></div>",
                "<pre><div></div>",
                "<b>Input:</b><div></div>",
                "s: \"cbaebabacd\" p: \"abc\"<div></div>",
                "<div></div>",
                "<b>Output:</b><div></div>",
                "[0, 6]<div></div>",
                "<div></div>",
                "<b>Explanation:</b><div></div>",
                "The substring with start index = 0 is \"cba\", which is an anagram of \"abc\".<div></div>",
                "The substring with start index = 6 is \"bac\", which is an anagram of \"abc\".<div></div>",
                "</pre><div></div>",
                "</p><div></div>",
                "<div></div>",
                "<p><b>Example 2:</b><div></div>",
                "<pre><div></div>",
                "<b>Input:</b><div></div>",
                "s: \"abab\" p: \"ab\"<div></div>",
                "<div></div>",
                "<b>Output:</b><div></div>",
                "[0, 1, 2]<div></div>",
                "<div></div>",
                "<b>Explanation:</b><div></div>",
                "The substring with start index = 0 is \"ab\", which is an anagram of \"ab\".<div></div>",
                "The substring with start index = 1 is \"ba\", which is an anagram of \"ab\".<div></div>",
                "The substring with start index = 2 is \"ab\", which is an anagram of \"ab\".<div></div>",
                "</pre><div></div>",
                "</p><div></div>"
            ],
            "metadata": {}
        },
        {
            "cell_type": "code",
            "metadata": {},
            "execution_count": null,
            "source": "%%writefile find_all_anagrams_in_a_string.py\nclass Solution:\n    def findAnagrams(self, s, p):\n        \"\"\"\n        :type s: str\n        :type p: str\n        :rtype: List[int]\n        \"\"\"",
            "outputs": []
        },
        {
            "cell_type": "code",
            "metadata": {},
            "execution_count": null,
            "source": "# submit\n%run ../../cli.py push --method=submit --path=find_all_anagrams_in_a_string.py --clean=True",
            "outputs": []
        }
    ]
}