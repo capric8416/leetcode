{
    "nbformat": 4,
    "nbformat_minor": 2,
    "metadata": {
        "kernelspec": {
            "display_name": "Python 3",
            "language": "python",
            "name": "python3"
        },
        "language_info": {
            "codemirror_mode": {
                "name": "ipython",
                "version": 3
            },
            "file_extension": ".py",
            "mimetype": "text/x-python",
            "name": "python",
            "nbconvert_exporter": "python",
            "pygments_lexer": "ipython3",
            "version": "3.7.2"
        }
    },
    "cells": [
        {
            "cell_type": "markdown",
            "source": [
                "<h1>Ugly Number</h1>",
                "<p>Write a program to check whether a given number is an ugly number.</p><div></div>",
                "<div></div>",
                "<p>Ugly numbers are <strong>positive numbers</strong> whose prime factors only include <code>2, 3, 5</code>.</p><div></div>",
                "<div></div>",
                "<p><strong>Example 1:</strong></p><div></div>",
                "<div></div>",
                "<pre><div></div>",
                "<strong>Input:</strong> 6<div></div>",
                "<strong>Output:</strong> true<div></div>",
                "<strong>Explanation: </strong>6 = 2 &times;&nbsp;3</pre><div></div>",
                "<div></div>",
                "<p><strong>Example 2:</strong></p><div></div>",
                "<div></div>",
                "<pre><div></div>",
                "<strong>Input:</strong> 8<div></div>",
                "<strong>Output:</strong> true<div></div>",
                "<strong>Explanation: </strong>8 = 2 &times; 2 &times;&nbsp;2<div></div>",
                "</pre><div></div>",
                "<div></div>",
                "<p><strong>Example 3:</strong></p><div></div>",
                "<div></div>",
                "<pre><div></div>",
                "<strong>Input:</strong> 14<div></div>",
                "<strong>Output:</strong> false <div></div>",
                "<strong>Explanation: </strong><code>14</code> is not ugly since it includes another prime factor <code>7</code>.<div></div>",
                "</pre><div></div>",
                "<div></div>",
                "<p><strong>Note:</strong></p><div></div>",
                "<div></div>",
                "<ol><div></div>",
                "\t<li><code>1</code> is typically treated as an ugly number.</li><div></div>",
                "\t<li>Input is within the 32-bit signed integer range:&nbsp;[&minus;2<sup>31</sup>,&nbsp; 2<sup>31&nbsp;</sup>&minus; 1].</li><div></div>",
                "</ol><div></div>"
            ],
            "metadata": {}
        },
        {
            "cell_type": "code",
            "metadata": {},
            "execution_count": null,
            "source": "%%writefile ugly_number.py\nclass Solution:\n    def isUgly(self, num):\n        \"\"\"\n        :type num: int\n        :rtype: bool\n        \"\"\"",
            "outputs": []
        },
        {
            "cell_type": "code",
            "metadata": {},
            "execution_count": null,
            "source": "# submit\n%run ../../cli.py push --method=submit --path=ugly_number.py --clean=True",
            "outputs": []
        }
    ]
}