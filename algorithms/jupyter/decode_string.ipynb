{
    "nbformat": 4,
    "nbformat_minor": 2,
    "metadata": {
        "kernelspec": {
            "display_name": "Python 3",
            "language": "python",
            "name": "python3"
        },
        "language_info": {
            "codemirror_mode": {
                "name": "ipython",
                "version": 3
            },
            "file_extension": ".py",
            "mimetype": "text/x-python",
            "name": "python",
            "nbconvert_exporter": "python",
            "pygments_lexer": "ipython3",
            "version": "3.7.2"
        }
    },
    "cells": [
        {
            "cell_type": "markdown",
            "source": [
                "<h1>Decode String</h1>",
                "<p><div></div>",
                "Given an encoded string, return it's decoded string.<div></div>",
                "</p><div></div>",
                "<p><div></div>",
                "The encoding rule is: <code>k[encoded_string]</code>, where the <i>encoded_string</i> inside the square brackets is being repeated exactly <i>k</i> times. Note that <i>k</i> is guaranteed to be a positive integer.</p><div></div>",
                "<div></div>",
                "<p><div></div>",
                "You may assume that the input string is always valid; No extra white spaces, square brackets are well-formed, etc.</p><div></div>",
                "<div></div>",
                "<p>Furthermore, you may assume that the original data does not contain any digits and that digits are only for those repeat numbers, <i>k</i>. For example, there won't be input like <code>3a</code> or <code>2[4]</code>.<div></div>",
                "</p><div></div>",
                "<div></div>",
                "<p><b>Examples:</b><div></div>",
                "<pre><div></div>",
                "s = \"3[a]2[bc]\", return \"aaabcbc\".<div></div>",
                "s = \"3[a2[c]]\", return \"accaccacc\".<div></div>",
                "s = \"2[abc]3[cd]ef\", return \"abcabccdcdcdef\".<div></div>",
                "</pre><div></div>",
                "</p><div></div>"
            ],
            "metadata": {}
        },
        {
            "cell_type": "code",
            "metadata": {},
            "execution_count": null,
            "source": "%%writefile decode_string.py\nclass Solution:\n    def decodeString(self, s):\n        \"\"\"\n        :type s: str\n        :rtype: str\n        \"\"\"",
            "outputs": []
        },
        {
            "cell_type": "code",
            "metadata": {},
            "execution_count": null,
            "source": "# submit\n%run ../../cli.py push --method=submit --path=decode_string.py --clean=True",
            "outputs": []
        }
    ]
}