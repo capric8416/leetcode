{
    "nbformat": 4,
    "nbformat_minor": 2,
    "metadata": {
        "kernelspec": {
            "display_name": "Python 3",
            "language": "python",
            "name": "python3"
        },
        "language_info": {
            "codemirror_mode": {
                "name": "ipython",
                "version": 3
            },
            "file_extension": ".py",
            "mimetype": "text/x-python",
            "name": "python",
            "nbconvert_exporter": "python",
            "pygments_lexer": "ipython3",
            "version": "3.7.2"
        }
    },
    "cells": [
        {
            "cell_type": "markdown",
            "source": [
                "<h1>Path Sum III</h1>",
                "<p>You are given a binary tree in which each node contains an integer value.</p><div></div>",
                "<div></div>",
                "<p>Find the number of paths that sum to a given value.</p><div></div>",
                "<div></div>",
                "<p>The path does not need to start or end at the root or a leaf, but it must go downwards<div></div>",
                "(traveling only from parent nodes to child nodes).</p><div></div>",
                "<div></div>",
                "<p>The tree has no more than 1,000 nodes and the values are in the range -1,000,000 to 1,000,000.<div></div>",
                "<div></div>",
                "<p><b>Example:</b><div></div>",
                "<pre><div></div>",
                "root = [10,5,-3,3,2,null,11,3,-2,null,1], sum = 8<div></div>",
                "<div></div>",
                "      10<div></div>",
                "     /  \\<div></div>",
                "    <b>5</b>   <b>-3</b><div></div>",
                "   <b>/</b> <b>\\</b>    <b>\\</b><div></div>",
                "  <b>3</b>   <b>2</b>   <b>11</b><div></div>",
                " / \\   <b>\\</b><div></div>",
                "3  -2   <b>1</b><div></div>",
                "<div></div>",
                "Return 3. The paths that sum to 8 are:<div></div>",
                "<div></div>",
                "1.  5 -> 3<div></div>",
                "2.  5 -> 2 -> 1<div></div>",
                "3. -3 -> 11<div></div>",
                "</pre><div></div>",
                "</p><div></div>"
            ],
            "metadata": {}
        },
        {
            "cell_type": "code",
            "metadata": {},
            "execution_count": null,
            "source": "%%writefile path_sum_iii.py\n# Definition for a binary tree node.\n# class TreeNode:\n#     def __init__(self, x):\n#         self.val = x\n#         self.left = None\n#         self.right = None\n\nclass Solution:\n    def pathSum(self, root, sum):\n        \"\"\"\n        :type root: TreeNode\n        :type sum: int\n        :rtype: int\n        \"\"\"",
            "outputs": []
        },
        {
            "cell_type": "code",
            "metadata": {},
            "execution_count": null,
            "source": "# submit\n%run ../../cli.py push --method=submit --path=path_sum_iii.py --clean=True",
            "outputs": []
        }
    ]
}