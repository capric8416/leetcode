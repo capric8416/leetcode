{
    "nbformat": 4,
    "nbformat_minor": 2,
    "metadata": {
        "kernelspec": {
            "display_name": "Python 3",
            "language": "python",
            "name": "python3"
        },
        "language_info": {
            "codemirror_mode": {
                "name": "ipython",
                "version": 3
            },
            "file_extension": ".py",
            "mimetype": "text/x-python",
            "name": "python",
            "nbconvert_exporter": "python",
            "pygments_lexer": "ipython3",
            "version": "3.7.2"
        }
    },
    "cells": [
        {
            "cell_type": "markdown",
            "source": [
                "<h1>Minimum Falling Path Sum</h1>",
                "<p>Given a <strong>square</strong> array of integers <code>A</code>, we want the <strong>minimum</strong> sum of a <em>falling path</em> through <code>A</code>.</p><div></div>",
                "<div></div>",
                "<p>A falling path starts at any element in the first row, and chooses one element from each row.&nbsp; The next row&#39;s choice must be in a column that is different from the previous row&#39;s column by at most one.</p><div></div>",
                "<div></div>",
                "<p>&nbsp;</p><div></div>",
                "<div></div>",
                "<p><strong>Example 1:</strong></p><div></div>",
                "<div></div>",
                "<pre><div></div>",
                "<strong>Input: </strong><span id=\"example-input-1-1\">[[1,2,3],[4,5,6],[7,8,9]]</span><div></div>",
                "<strong>Output: </strong><span id=\"example-output-1\">12</span><div></div>",
                "<strong>Explanation: </strong><div></div>",
                "The possible falling paths are:<div></div>",
                "</pre><div></div>",
                "<div></div>",
                "<ul><div></div>",
                "\t<li><code>[1,4,7], [1,4,8], [1,5,7], [1,5,8], [1,5,9]</code></li><div></div>",
                "\t<li><code>[2,4,7], [2,4,8], [2,5,7], [2,5,8], [2,5,9], [2,6,8], [2,6,9]</code></li><div></div>",
                "\t<li><code>[3,5,7], [3,5,8], [3,5,9], [3,6,8], [3,6,9]</code></li><div></div>",
                "</ul><div></div>",
                "<div></div>",
                "<p>The falling path with the smallest sum is <code>[1,4,7]</code>, so the answer is <code>12</code>.</p><div></div>",
                "<div></div>",
                "<p>&nbsp;</p><div></div>",
                "<div></div>",
                "<p><strong>Note:</strong></p><div></div>",
                "<div></div>",
                "<ol><div></div>",
                "\t<li><code>1 &lt;= A.length == A[0].length &lt;= 100</code></li><div></div>",
                "\t<li><code>-100 &lt;= A[i][j] &lt;= 100</code></li><div></div>",
                "</ol><div></div>"
            ],
            "metadata": {}
        },
        {
            "cell_type": "code",
            "metadata": {},
            "execution_count": null,
            "source": "%%writefile minimum_falling_path_sum.py\nclass Solution:\n    def minFallingPathSum(self, A):\n        \"\"\"\n        :type A: List[List[int]]\n        :rtype: int\n        \"\"\"",
            "outputs": []
        },
        {
            "cell_type": "code",
            "metadata": {},
            "execution_count": null,
            "source": "# submit\n%run ../../cli.py push --method=submit --path=minimum_falling_path_sum.py --clean=True",
            "outputs": []
        }
    ]
}