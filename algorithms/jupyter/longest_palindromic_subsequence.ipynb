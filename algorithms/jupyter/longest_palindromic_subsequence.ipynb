{
    "nbformat": 4,
    "nbformat_minor": 2,
    "metadata": {
        "kernelspec": {
            "display_name": "Python 3",
            "language": "python",
            "name": "python3"
        },
        "language_info": {
            "codemirror_mode": {
                "name": "ipython",
                "version": 3
            },
            "file_extension": ".py",
            "mimetype": "text/x-python",
            "name": "python",
            "nbconvert_exporter": "python",
            "pygments_lexer": "ipython3",
            "version": "3.7.2"
        }
    },
    "cells": [
        {
            "cell_type": "markdown",
            "source": [
                "<h1>Longest Palindromic Subsequence</h1>",
                "<p><div></div>",
                "Given a string s, find the longest palindromic subsequence's length in s. You may assume that the maximum length of s is 1000.<div></div>",
                "</p><div></div>",
                "<div></div>",
                "<p><b>Example 1:</b><br><div></div>",
                "Input: <div></div>",
                "<pre><div></div>",
                "\"bbbab\"<div></div>",
                "</pre><div></div>",
                "Output: <div></div>",
                "<pre><div></div>",
                "4<div></div>",
                "</pre><div></div>",
                "One possible longest palindromic subsequence is \"bbbb\".<div></div>",
                "</p><div></div>",
                "<div></div>",
                "<p><b>Example 2:</b><br><div></div>",
                "Input:<div></div>",
                "<pre><div></div>",
                "\"cbbd\"<div></div>",
                "</pre><div></div>",
                "Output:<div></div>",
                "<pre><div></div>",
                "2<div></div>",
                "</pre><div></div>",
                "One possible longest palindromic subsequence is \"bb\".<div></div>",
                "</p><div></div>"
            ],
            "metadata": {}
        },
        {
            "cell_type": "code",
            "metadata": {},
            "execution_count": null,
            "source": "%%writefile longest_palindromic_subsequence.py\nclass Solution:\n    def longestPalindromeSubseq(self, s):\n        \"\"\"\n        :type s: str\n        :rtype: int\n        \"\"\"",
            "outputs": []
        },
        {
            "cell_type": "code",
            "metadata": {},
            "execution_count": null,
            "source": "# submit\n%run ../../cli.py push --method=submit --path=longest_palindromic_subsequence.py --clean=True",
            "outputs": []
        }
    ]
}