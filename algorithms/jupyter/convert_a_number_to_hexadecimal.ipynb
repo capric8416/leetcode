{
    "nbformat": 4,
    "nbformat_minor": 2,
    "metadata": {
        "kernelspec": {
            "display_name": "Python 3",
            "language": "python",
            "name": "python3"
        },
        "language_info": {
            "codemirror_mode": {
                "name": "ipython",
                "version": 3
            },
            "file_extension": ".py",
            "mimetype": "text/x-python",
            "name": "python",
            "nbconvert_exporter": "python",
            "pygments_lexer": "ipython3",
            "version": "3.7.2"
        }
    },
    "cells": [
        {
            "cell_type": "markdown",
            "source": [
                "<h1>Convert a Number to Hexadecimal</h1>",
                "<p><div></div>",
                "Given an integer, write an algorithm to convert it to hexadecimal. For negative integer, <a href=\"https://en.wikipedia.org/wiki/Two%27s_complement\" target=\"_blank\">two\u2019s complement</a> method is used.<div></div>",
                "</p><div></div>",
                "<div></div>",
                "<p><b>Note:</b><div></div>",
                "<ol><div></div>",
                "<li>All letters in hexadecimal (<code>a-f</code>) must be in lowercase.</li><div></div>",
                "<li>The hexadecimal string must not contain extra leading <code>0</code>s. If the number is zero, it is represented by a single zero character <code>'0'</code>; otherwise, the first character in the hexadecimal string will not be the zero character.</li><div></div>",
                "<li>The given number is guaranteed to fit within the range of a 32-bit signed integer.</li><div></div>",
                "<li>You <b>must not use <i>any</i> method provided by the library</b> which converts/formats the number to hex directly.</li><div></div>",
                "</ol><div></div>",
                "</p><div></div>",
                "<div></div>",
                "<p><b>Example 1:</b><div></div>",
                "<pre><div></div>",
                "Input:<div></div>",
                "26<div></div>",
                "<div></div>",
                "Output:<div></div>",
                "\"1a\"<div></div>",
                "</pre><div></div>",
                "</p><div></div>",
                "<div></div>",
                "<p><b>Example 2:</b><div></div>",
                "<pre><div></div>",
                "Input:<div></div>",
                "-1<div></div>",
                "<div></div>",
                "Output:<div></div>",
                "\"ffffffff\"<div></div>",
                "</pre><div></div>",
                "</p><div></div>"
            ],
            "metadata": {}
        },
        {
            "cell_type": "code",
            "metadata": {},
            "execution_count": null,
            "source": "%%writefile convert_a_number_to_hexadecimal.py\nclass Solution:\n    def toHex(self, num):\n        \"\"\"\n        :type num: int\n        :rtype: str\n        \"\"\"",
            "outputs": []
        },
        {
            "cell_type": "code",
            "metadata": {},
            "execution_count": null,
            "source": "# submit\n%run ../../cli.py push --method=submit --path=convert_a_number_to_hexadecimal.py --clean=True",
            "outputs": []
        }
    ]
}