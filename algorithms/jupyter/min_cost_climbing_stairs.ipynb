{
    "nbformat": 4,
    "nbformat_minor": 2,
    "metadata": {
        "kernelspec": {
            "display_name": "Python 3",
            "language": "python",
            "name": "python3"
        },
        "language_info": {
            "codemirror_mode": {
                "name": "ipython",
                "version": 3
            },
            "file_extension": ".py",
            "mimetype": "text/x-python",
            "name": "python",
            "nbconvert_exporter": "python",
            "pygments_lexer": "ipython3",
            "version": "3.7.2"
        }
    },
    "cells": [
        {
            "cell_type": "markdown",
            "source": [
                "<h1>Min Cost Climbing Stairs</h1>",
                "<p><div></div>",
                "On a staircase, the <code>i</code>-th step has some non-negative cost <code>cost[i]</code> assigned (0 indexed).<div></div>",
                "</p><p><div></div>",
                "Once you pay the cost, you can either climb one or two steps. You need to find minimum cost to reach the top of the floor, and you can either start from the step with index 0, or the step with index 1.<div></div>",
                "</p><div></div>",
                "<div></div>",
                "<p><b>Example 1:</b><br /><div></div>",
                "<pre><div></div>",
                "<b>Input:</b> cost = [10, 15, 20]<div></div>",
                "<b>Output:</b> 15<div></div>",
                "<b>Explanation:</b> Cheapest is start on cost[1], pay that cost and go to the top.<div></div>",
                "</pre><div></div>",
                "</p><div></div>",
                "<div></div>",
                "<p><b>Example 2:</b><br /><div></div>",
                "<pre><div></div>",
                "<b>Input:</b> cost = [1, 100, 1, 1, 1, 100, 1, 1, 100, 1]<div></div>",
                "<b>Output:</b> 6<div></div>",
                "<b>Explanation:</b> Cheapest is start on cost[0], and only step on 1s, skipping cost[3].<div></div>",
                "</pre><div></div>",
                "</p><div></div>",
                "<div></div>",
                "<p><b>Note:</b><br><div></div>",
                "<ol><div></div>",
                "<li><code>cost</code> will have a length in the range <code>[2, 1000]</code>.</li><div></div>",
                "<li>Every <code>cost[i]</code> will be an integer in the range <code>[0, 999]</code>.</li><div></div>",
                "</ol><div></div>",
                "</p><div></div>"
            ],
            "metadata": {}
        },
        {
            "cell_type": "code",
            "metadata": {},
            "execution_count": null,
            "source": "%%writefile min_cost_climbing_stairs.py\nclass Solution:\n    def minCostClimbingStairs(self, cost):\n        \"\"\"\n        :type cost: List[int]\n        :rtype: int\n        \"\"\"",
            "outputs": []
        },
        {
            "cell_type": "code",
            "metadata": {},
            "execution_count": null,
            "source": "# submit\n%run ../../cli.py push --method=submit --path=min_cost_climbing_stairs.py --clean=True",
            "outputs": []
        }
    ]
}