{
    "nbformat": 4,
    "nbformat_minor": 2,
    "metadata": {
        "kernelspec": {
            "display_name": "Python 3",
            "language": "python",
            "name": "python3"
        },
        "language_info": {
            "codemirror_mode": {
                "name": "ipython",
                "version": 3
            },
            "file_extension": ".py",
            "mimetype": "text/x-python",
            "name": "python",
            "nbconvert_exporter": "python",
            "pygments_lexer": "ipython3",
            "version": "3.7.2"
        }
    },
    "cells": [
        {
            "cell_type": "markdown",
            "source": [
                "<h1>Univalued Binary Tree</h1>",
                "<p>A binary tree is <em>univalued</em> if every node in the tree has the same value.</p><div></div>",
                "<div></div>",
                "<p>Return <code>true</code>&nbsp;if and only if the given tree is univalued.</p><div></div>",
                "<div></div>",
                "<p>&nbsp;</p><div></div>",
                "<div></div>",
                "<p><strong>Example 1:</strong></p><div></div>",
                "<img alt=\"\" src=\"https://assets.leetcode.com/uploads/2018/12/28/unival_bst_1.png\" style=\"width: 265px; height: 172px;\" /><div></div>",
                "<pre><div></div>",
                "<strong>Input: </strong><span id=\"example-input-1-1\">[1,1,1,1,1,null,1]</span><div></div>",
                "<strong>Output: </strong><span id=\"example-output-1\">true</span><div></div>",
                "</pre><div></div>",
                "<div></div>",
                "<div><div></div>",
                "<p><strong>Example 2:</strong></p><div></div>",
                "<img alt=\"\" src=\"https://assets.leetcode.com/uploads/2018/12/28/unival_bst_2.png\" style=\"width: 198px; height: 169px;\" /><div></div>",
                "<pre><div></div>",
                "<strong>Input: </strong><span id=\"example-input-2-1\">[2,2,2,5,2]</span><div></div>",
                "<strong>Output: </strong><span id=\"example-output-2\">false</span><div></div>",
                "</pre><div></div>",
                "</div><div></div>",
                "<div></div>",
                "<p>&nbsp;</p><div></div>",
                "<div></div>",
                "<p><strong>Note:</strong></p><div></div>",
                "<div></div>",
                "<ol><div></div>",
                "\t<li>The number of nodes in the given tree will be in the range <code>[1, 100]</code>.</li><div></div>",
                "\t<li>Each node&#39;s value will be an integer in the range <code>[0, 99]</code>.</li><div></div>",
                "</ol><div></div>",
                "<div></div>"
            ],
            "metadata": {}
        },
        {
            "cell_type": "code",
            "metadata": {},
            "execution_count": null,
            "source": "%%writefile univalued_binary_tree.py\n# Definition for a binary tree node.\n# class TreeNode:\n#     def __init__(self, x):\n#         self.val = x\n#         self.left = None\n#         self.right = None\n\nclass Solution:\n    def isUnivalTree(self, root):\n        \"\"\"\n        :type root: TreeNode\n        :rtype: bool\n        \"\"\"",
            "outputs": []
        },
        {
            "cell_type": "code",
            "metadata": {},
            "execution_count": null,
            "source": "# submit\n%run ../../cli.py push --method=submit --path=univalued_binary_tree.py --clean=True",
            "outputs": []
        }
    ]
}