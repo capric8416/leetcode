{
    "nbformat": 4,
    "nbformat_minor": 2,
    "metadata": {
        "kernelspec": {
            "display_name": "Python 3",
            "language": "python",
            "name": "python3"
        },
        "language_info": {
            "codemirror_mode": {
                "name": "ipython",
                "version": 3
            },
            "file_extension": ".py",
            "mimetype": "text/x-python",
            "name": "python",
            "nbconvert_exporter": "python",
            "pygments_lexer": "ipython3",
            "version": "3.7.2"
        }
    },
    "cells": [
        {
            "cell_type": "markdown",
            "source": [
                "<h1>Arithmetic Slices</h1>",
                "<p>A sequence of number is called arithmetic if it consists of at least three elements and if the difference between any two consecutive elements is the same.</p><div></div>",
                "<div></div>",
                "<p>For example, these are arithmetic sequence:</p><div></div>",
                "<pre>1, 3, 5, 7, 9<div></div>",
                "7, 7, 7, 7<div></div>",
                "3, -1, -5, -9</pre><div></div>",
                "<div></div>",
                "<p>The following sequence is not arithmetic.</p> <pre>1, 1, 2, 5, 7</pre> <div></div>",
                "<br/><div></div>",
                "<div></div>",
                "<p>A zero-indexed array A consisting of N numbers is given. A slice of that array is any pair of integers (P, Q) such that 0 <= P < Q < N.</p><div></div>",
                "<div></div>",
                "<p>A slice (P, Q) of array A is called arithmetic if the sequence:<br/><div></div>",
                "    A[P], A[p + 1], ..., A[Q - 1], A[Q] is arithmetic. In particular, this means that P + 1 < Q.</p><div></div>",
                "<div></div>",
                "<p>The function should return the number of arithmetic slices in the array A. </p><div></div>",
                "<br/><div></div>",
                "<div></div>",
                "<p><b>Example:</b><div></div>",
                "<pre><div></div>",
                "A = [1, 2, 3, 4]<div></div>",
                "<div></div>",
                "return: 3, for 3 arithmetic slices in A: [1, 2, 3], [2, 3, 4] and [1, 2, 3, 4] itself.<div></div>",
                "</pre><div></div>"
            ],
            "metadata": {}
        },
        {
            "cell_type": "code",
            "metadata": {},
            "execution_count": null,
            "source": "%%writefile arithmetic_slices.py\nclass Solution:\n    def numberOfArithmeticSlices(self, A):\n        \"\"\"\n        :type A: List[int]\n        :rtype: int\n        \"\"\"",
            "outputs": []
        },
        {
            "cell_type": "code",
            "metadata": {},
            "execution_count": null,
            "source": "# submit\n%run ../../cli.py push --method=submit --path=arithmetic_slices.py --clean=True",
            "outputs": []
        }
    ]
}