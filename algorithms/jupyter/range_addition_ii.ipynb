{
    "nbformat": 4,
    "nbformat_minor": 2,
    "metadata": {
        "kernelspec": {
            "display_name": "Python 3",
            "language": "python",
            "name": "python3"
        },
        "language_info": {
            "codemirror_mode": {
                "name": "ipython",
                "version": 3
            },
            "file_extension": ".py",
            "mimetype": "text/x-python",
            "name": "python",
            "nbconvert_exporter": "python",
            "pygments_lexer": "ipython3",
            "version": "3.7.2"
        }
    },
    "cells": [
        {
            "cell_type": "markdown",
            "source": [
                "<h1>Range Addition II</h1>",
                "<p>Given an m * n matrix <b>M</b> initialized with all <b>0</b>'s and several update operations.</p><div></div>",
                "<p>Operations are represented by a 2D array, and each operation is represented by an array with two <b>positive</b> integers <b>a</b> and <b>b</b>, which means <b>M[i][j]</b> should be <b>added by one</b> for all <b>0 <= i < a</b> and <b>0 <= j < b</b>. </p><div></div>",
                "<p>You need to count and return the number of maximum integers in the matrix after performing all the operations.</p><div></div>",
                "<div></div>",
                "<p><b>Example 1:</b><br /><div></div>",
                "<pre><div></div>",
                "<b>Input:</b> <div></div>",
                "m = 3, n = 3<div></div>",
                "operations = [[2,2],[3,3]]<div></div>",
                "<b>Output:</b> 4<div></div>",
                "<b>Explanation:</b> <div></div>",
                "Initially, M = <div></div>",
                "[[0, 0, 0],<div></div>",
                " [0, 0, 0],<div></div>",
                " [0, 0, 0]]<div></div>",
                "<div></div>",
                "After performing [2,2], M = <div></div>",
                "[[1, 1, 0],<div></div>",
                " [1, 1, 0],<div></div>",
                " [0, 0, 0]]<div></div>",
                "<div></div>",
                "After performing [3,3], M = <div></div>",
                "[[2, 2, 1],<div></div>",
                " [2, 2, 1],<div></div>",
                " [1, 1, 1]]<div></div>",
                "<div></div>",
                "So the maximum integer in M is 2, and there are four of it in M. So return 4.<div></div>",
                "</pre><div></div>",
                "</p><div></div>",
                "<div></div>",
                "<p><b>Note:</b><br><div></div>",
                "<ol><div></div>",
                "<li>The range of m and n is [1,40000].</li><div></div>",
                "<li>The range of a is [1,m], and the range of b is [1,n].</li><div></div>",
                "<li>The range of operations size won't exceed 10,000.</li><div></div>",
                "</ol><div></div>",
                "</p><div></div>"
            ],
            "metadata": {}
        },
        {
            "cell_type": "code",
            "metadata": {},
            "execution_count": null,
            "source": "%%writefile range_addition_ii.py\nclass Solution:\n    def maxCount(self, m, n, ops):\n        \"\"\"\n        :type m: int\n        :type n: int\n        :type ops: List[List[int]]\n        :rtype: int\n        \"\"\"",
            "outputs": []
        },
        {
            "cell_type": "code",
            "metadata": {},
            "execution_count": null,
            "source": "# submit\n%run ../../cli.py push --method=submit --path=range_addition_ii.py --clean=True",
            "outputs": []
        }
    ]
}