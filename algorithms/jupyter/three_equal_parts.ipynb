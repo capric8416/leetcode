{
    "nbformat": 4,
    "nbformat_minor": 2,
    "metadata": {
        "kernelspec": {
            "display_name": "Python 3",
            "language": "python",
            "name": "python3"
        },
        "language_info": {
            "codemirror_mode": {
                "name": "ipython",
                "version": 3
            },
            "file_extension": ".py",
            "mimetype": "text/x-python",
            "name": "python",
            "nbconvert_exporter": "python",
            "pygments_lexer": "ipython3",
            "version": "3.7.2"
        }
    },
    "cells": [
        {
            "cell_type": "markdown",
            "source": [
                "<h1>Three Equal Parts</h1>",
                "<p>Given an array <code>A</code> of <code>0</code>s and <code>1</code>s, divide the array into 3 non-empty parts such that all of these parts represent the same binary value.</p><div></div>",
                "<div></div>",
                "<p>If it is possible, return <strong>any</strong> <code>[i, j]</code>&nbsp;with <code>i+1 &lt; j</code>, such that:</p><div></div>",
                "<div></div>",
                "<ul><div></div>",
                "\t<li><code>A[0], A[1], ..., A[i]</code> is the first part;</li><div></div>",
                "\t<li><code>A[i+1], A[i+2], ..., A[j-1]</code> is the second part, and</li><div></div>",
                "\t<li><code>A[j], A[j+1], ..., A[A.length - 1]</code> is the third part.</li><div></div>",
                "\t<li>All three parts have equal binary value.</li><div></div>",
                "</ul><div></div>",
                "<div></div>",
                "<p>If it is not possible, return <code>[-1, -1]</code>.</p><div></div>",
                "<div></div>",
                "<p>Note that the entire part is used when considering what binary value it represents.&nbsp; For example, <code>[1,1,0]</code>&nbsp;represents <code>6</code>&nbsp;in decimal,&nbsp;not <code>3</code>.&nbsp; Also, leading zeros are allowed, so&nbsp;<code>[0,1,1]</code> and <code>[1,1]</code> represent the same value.</p><div></div>",
                "<div></div>",
                "<p>&nbsp;</p><div></div>",
                "<div></div>",
                "<p><strong>Example 1:</strong></p><div></div>",
                "<div></div>",
                "<pre><div></div>",
                "<strong>Input: </strong><span id=\"example-input-1-1\">[1,0,1,0,1]</span><div></div>",
                "<strong>Output: </strong><span id=\"example-output-1\">[0,3]</span><div></div>",
                "</pre><div></div>",
                "<div></div>",
                "<div><div></div>",
                "<p><strong>Example 2:</strong></p><div></div>",
                "<div></div>",
                "<pre><div></div>",
                "<strong>Input: </strong><span id=\"example-input-2-1\">[1,1,0,1,1]</span><div></div>",
                "<strong>Output: </strong><span id=\"example-output-2\">[-1,-1]</span></pre><div></div>",
                "</div><div></div>",
                "<div></div>",
                "<p>&nbsp;</p><div></div>",
                "<div></div>",
                "<p><strong>Note:</strong></p><div></div>",
                "<div></div>",
                "<ol><div></div>",
                "\t<li><code>3 &lt;= A.length &lt;= 30000</code></li><div></div>",
                "\t<li><code>A[i] == 0</code>&nbsp;or <code>A[i] == 1</code></li><div></div>",
                "</ol><div></div>",
                "<div></div>",
                "<div><div></div>",
                "<div>&nbsp;</div><div></div>",
                "</div><div></div>"
            ],
            "metadata": {}
        },
        {
            "cell_type": "code",
            "metadata": {},
            "execution_count": null,
            "source": "%%writefile three_equal_parts.py\nclass Solution:\n    def threeEqualParts(self, A):\n        \"\"\"\n        :type A: List[int]\n        :rtype: List[int]\n        \"\"\"",
            "outputs": []
        },
        {
            "cell_type": "code",
            "metadata": {},
            "execution_count": null,
            "source": "# submit\n%run ../../cli.py push --method=submit --path=three_equal_parts.py --clean=True",
            "outputs": []
        }
    ]
}