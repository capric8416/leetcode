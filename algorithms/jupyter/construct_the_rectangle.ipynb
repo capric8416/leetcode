{
    "nbformat": 4,
    "nbformat_minor": 2,
    "metadata": {
        "kernelspec": {
            "display_name": "Python 3",
            "language": "python",
            "name": "python3"
        },
        "language_info": {
            "codemirror_mode": {
                "name": "ipython",
                "version": 3
            },
            "file_extension": ".py",
            "mimetype": "text/x-python",
            "name": "python",
            "nbconvert_exporter": "python",
            "pygments_lexer": "ipython3",
            "version": "3.7.2"
        }
    },
    "cells": [
        {
            "cell_type": "markdown",
            "source": [
                "<h1>Construct the Rectangle</h1>",
                "<p><div></div>",
                "For a web developer, it is very important to know how to design a web page's size. So, given a specific rectangular web page\u2019s area, your job by now is to design a rectangular web page, whose length L and width W satisfy the following requirements:<pre><div></div>",
                "1. The area of the rectangular web page you designed must equal to the given target area.<div></div>",
                "<br>2. The width W should not be larger than the length L, which means L >= W.<div></div>",
                "<br>3. The difference between length L and width W should be as small as possible.<div></div>",
                "</pre><div></div>",
                "You need to output the length L and the width W of the web page you designed in sequence.<div></div>",
                "</p><div></div>",
                "<div></div>",
                "<div></div>",
                "<p><b>Example:</b><br /><div></div>",
                "<pre><div></div>",
                "<b>Input:</b> 4<div></div>",
                "<b>Output:</b> [2, 2]<div></div>",
                "<b>Explanation:</b> The target area is 4, and all the possible ways to construct it are [1,4], [2,2], [4,1]. <div></div>",
                "But according to requirement 2, [1,4] is illegal; according to requirement 3,  [4,1] is not optimal compared to [2,2]. So the length L is 2, and the width W is 2.<div></div>",
                "</pre><div></div>",
                "</p><div></div>",
                "<div></div>",
                "<p><b>Note:</b><br><div></div>",
                "<ol><div></div>",
                "<li>The given area won't exceed 10,000,000 and is a positive integer</li><div></div>",
                "<li>The web page's width and length you designed must be positive integers.</li><div></div>",
                "</ol><div></div>",
                "</p><div></div>"
            ],
            "metadata": {}
        },
        {
            "cell_type": "code",
            "metadata": {},
            "execution_count": null,
            "source": "%%writefile construct_the_rectangle.py\nclass Solution:\n    def constructRectangle(self, area):\n        \"\"\"\n        :type area: int\n        :rtype: List[int]\n        \"\"\"",
            "outputs": []
        },
        {
            "cell_type": "code",
            "metadata": {},
            "execution_count": null,
            "source": "# submit\n%run ../../cli.py push --method=submit --path=construct_the_rectangle.py --clean=True",
            "outputs": []
        }
    ]
}