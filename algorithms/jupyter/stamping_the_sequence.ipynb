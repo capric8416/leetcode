{
    "nbformat": 4,
    "nbformat_minor": 2,
    "metadata": {
        "kernelspec": {
            "display_name": "Python 3",
            "language": "python",
            "name": "python3"
        },
        "language_info": {
            "codemirror_mode": {
                "name": "ipython",
                "version": 3
            },
            "file_extension": ".py",
            "mimetype": "text/x-python",
            "name": "python",
            "nbconvert_exporter": "python",
            "pygments_lexer": "ipython3",
            "version": "3.7.2"
        }
    },
    "cells": [
        {
            "cell_type": "markdown",
            "source": [
                "<h1>Stamping The Sequence</h1>",
                "<p>You want to form a <code>target</code>&nbsp;string of <strong>lowercase letters</strong>.</p><div></div>",
                "<div></div>",
                "<p>At the beginning, your sequence is <code>target.length</code>&nbsp;<code>&#39;?&#39;</code> marks.&nbsp; You also have a <code>stamp</code>&nbsp;of lowercase letters.</p><div></div>",
                "<div></div>",
                "<p>On each turn, you may place the stamp over the sequence, and replace every letter in the sequence with the corresponding letter from the stamp.&nbsp; You can make up to <code>10 * target.length</code> turns.</p><div></div>",
                "<div></div>",
                "<p>For example, if the initial sequence is <font face=\"monospace\">&quot;?????&quot;</font>, and your stamp is <code>&quot;abc&quot;</code>,&nbsp; then you may make <font face=\"monospace\">&quot;abc??&quot;, &quot;?abc?&quot;, &quot;??abc&quot;&nbsp;</font>in the first turn.&nbsp; (Note that the stamp must be fully contained in the boundaries of the sequence in order to stamp.)</p><div></div>",
                "<div></div>",
                "<p>If the sequence is possible to stamp, then return an array of&nbsp;the index of the left-most letter being stamped at each turn.&nbsp; If the sequence is not possible to stamp, return an empty array.</p><div></div>",
                "<div></div>",
                "<p>For example, if the sequence is <font face=\"monospace\">&quot;ababc&quot;</font>, and the stamp is <code>&quot;abc&quot;</code>, then we could return the answer <code>[0, 2]</code>, corresponding to the moves <font face=\"monospace\">&quot;?????&quot; -&gt; &quot;abc??&quot; -&gt; &quot;ababc&quot;</font>.</p><div></div>",
                "<div></div>",
                "<p>Also, if the sequence is possible to stamp, it is guaranteed it is possible to stamp within <code>10 * target.length</code>&nbsp;moves.&nbsp; Any answers specifying more than this number of moves&nbsp;will not be accepted.</p><div></div>",
                "<div></div>",
                "<p>&nbsp;</p><div></div>",
                "<div></div>",
                "<p><strong>Example 1:</strong></p><div></div>",
                "<div></div>",
                "<pre><div></div>",
                "<strong>Input: </strong>stamp = <span id=\"example-input-1-1\">&quot;abc&quot;</span>, target = <span id=\"example-input-1-2\">&quot;ababc&quot;</span><div></div>",
                "<strong>Output: </strong><span id=\"example-output-1\">[0,2]</span><div></div>",
                "([1,0,2] would also be accepted as an answer, as well as some other answers.)<div></div>",
                "</pre><div></div>",
                "<div></div>",
                "<div><div></div>",
                "<p><strong>Example 2:</strong></p><div></div>",
                "<div></div>",
                "<pre><div></div>",
                "<strong>Input: </strong>stamp = <span id=\"example-input-2-1\">&quot;</span><span id=\"example-input-2-2\">abca</span><span>&quot;</span>, target = <span id=\"example-input-2-2\">&quot;</span><span>aabcaca&quot;</span><div></div>",
                "<strong>Output: </strong><span id=\"example-output-2\">[3,0,1]</span><div></div>",
                "</pre><div></div>",
                "<div></div>",
                "<div><div></div>",
                "<p>&nbsp;</p><div></div>",
                "<div></div>",
                "<p><strong>Note:</strong></p><div></div>",
                "</div><div></div>",
                "</div><div></div>",
                "<div></div>",
                "<ol><div></div>",
                "\t<li><code>1 &lt;= stamp.length &lt;= target.length &lt;= 1000</code></li><div></div>",
                "\t<li><code>stamp</code> and <code>target</code> only contain lowercase letters.</li><div></div>",
                "</ol><div></div>"
            ],
            "metadata": {}
        },
        {
            "cell_type": "code",
            "metadata": {},
            "execution_count": null,
            "source": "%%writefile stamping_the_sequence.py\nclass Solution:\n    def movesToStamp(self, stamp, target):\n        \"\"\"\n        :type stamp: str\n        :type target: str\n        :rtype: List[int]\n        \"\"\"",
            "outputs": []
        },
        {
            "cell_type": "code",
            "metadata": {},
            "execution_count": null,
            "source": "# submit\n%run ../../cli.py push --method=submit --path=stamping_the_sequence.py --clean=True",
            "outputs": []
        }
    ]
}