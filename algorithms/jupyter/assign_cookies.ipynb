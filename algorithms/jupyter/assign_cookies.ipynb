{
    "nbformat": 4,
    "nbformat_minor": 2,
    "metadata": {
        "kernelspec": {
            "display_name": "Python 3",
            "language": "python",
            "name": "python3"
        },
        "language_info": {
            "codemirror_mode": {
                "name": "ipython",
                "version": 3
            },
            "file_extension": ".py",
            "mimetype": "text/x-python",
            "name": "python",
            "nbconvert_exporter": "python",
            "pygments_lexer": "ipython3",
            "version": "3.7.2"
        }
    },
    "cells": [
        {
            "cell_type": "markdown",
            "source": [
                "<h1>Assign Cookies</h1>",
                "<p><div></div>",
                "Assume you are an awesome parent and want to give your children some cookies. But, you should give each child at most one cookie. Each child i has a greed factor g<sub>i</sub>, which is the minimum size of a cookie that the child will be content with; and each cookie j has a size s<sub>j</sub>. If s<sub>j</sub> >= g<sub>i</sub>, we can assign the cookie j to the child i, and the child i will be content. Your goal is to maximize the number of your content children and output the maximum number.<div></div>",
                "</p><div></div>",
                "<div></div>",
                "<p><b>Note:</b><br /><div></div>",
                "You may assume the greed factor is always positive. <br /><div></div>",
                "You cannot assign more than one cookie to one child.<div></div>",
                "</p><div></div>",
                "<div></div>",
                "<p><b>Example 1:</b><br /><div></div>",
                "<pre><div></div>",
                "<b>Input:</b> [1,2,3], [1,1]<div></div>",
                "<div></div>",
                "<b>Output:</b> 1<div></div>",
                "<div></div>",
                "<b>Explanation:</b> You have 3 children and 2 cookies. The greed factors of 3 children are 1, 2, 3. <div></div>",
                "And even though you have 2 cookies, since their size is both 1, you could only make the child whose greed factor is 1 content.<div></div>",
                "You need to output 1.<div></div>",
                "</pre><div></div>",
                "</p><div></div>",
                "<div></div>",
                "<p><b>Example 2:</b><br /><div></div>",
                "<pre><div></div>",
                "<b>Input:</b> [1,2], [1,2,3]<div></div>",
                "<div></div>",
                "<b>Output:</b> 2<div></div>",
                "<div></div>",
                "<b>Explanation:</b> You have 2 children and 3 cookies. The greed factors of 2 children are 1, 2. <div></div>",
                "You have 3 cookies and their sizes are big enough to gratify all of the children, <div></div>",
                "You need to output 2.<div></div>",
                "</pre><div></div>",
                "</p><div></div>"
            ],
            "metadata": {}
        },
        {
            "cell_type": "code",
            "metadata": {},
            "execution_count": null,
            "source": "%%writefile assign_cookies.py\nclass Solution:\n    def findContentChildren(self, g, s):\n        \"\"\"\n        :type g: List[int]\n        :type s: List[int]\n        :rtype: int\n        \"\"\"",
            "outputs": []
        },
        {
            "cell_type": "code",
            "metadata": {},
            "execution_count": null,
            "source": "# submit\n%run ../../cli.py push --method=submit --path=assign_cookies.py --clean=True",
            "outputs": []
        }
    ]
}