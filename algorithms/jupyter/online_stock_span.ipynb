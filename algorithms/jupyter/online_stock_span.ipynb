{
    "nbformat": 4,
    "nbformat_minor": 2,
    "metadata": {
        "kernelspec": {
            "display_name": "Python 3",
            "language": "python",
            "name": "python3"
        },
        "language_info": {
            "codemirror_mode": {
                "name": "ipython",
                "version": 3
            },
            "file_extension": ".py",
            "mimetype": "text/x-python",
            "name": "python",
            "nbconvert_exporter": "python",
            "pygments_lexer": "ipython3",
            "version": "3.7.2"
        }
    },
    "cells": [
        {
            "cell_type": "markdown",
            "source": [
                "<h1>Online Stock Span</h1>",
                "<p>Write a class <code>StockSpanner</code> which collects daily price quotes for some stock, and returns the <em>span</em>&nbsp;of that stock&#39;s price for the current day.</p><div></div>",
                "<div></div>",
                "<p>The span of the stock&#39;s price today&nbsp;is defined as the maximum number of consecutive days (starting from today and going backwards)&nbsp;for which the price of the stock was less than or equal to today&#39;s price.</p><div></div>",
                "<div></div>",
                "<p>For example, if the price of a stock over the next 7 days were <code>[100, 80, 60, 70, 60, 75, 85]</code>, then the stock spans would be <code>[1, 1, 1, 2, 1, 4, 6]</code>.</p><div></div>",
                "<div></div>",
                "<p>&nbsp;</p><div></div>",
                "<div></div>",
                "<div><div></div>",
                "<p><strong>Example 1:</strong></p><div></div>",
                "<div></div>",
                "<pre><div></div>",
                "<strong>Input: </strong><span id=\"example-input-1-1\">[&quot;StockSpanner&quot;,&quot;next&quot;,&quot;next&quot;,&quot;next&quot;,&quot;next&quot;,&quot;next&quot;,&quot;next&quot;,&quot;next&quot;]</span>, <span id=\"example-input-1-2\">[[],[100],[80],[60],[70],[60],[75],[85]]</span><div></div>",
                "<strong>Output: </strong><span id=\"example-output-1\">[null,1,1,1,2,1,4,6]</span><div></div>",
                "<strong>Explanation: </strong><div></div>",
                "First, S = StockSpanner() is initialized.  Then:<div></div>",
                "S.next(100) is called and returns 1,<div></div>",
                "S.next(80) is called and returns 1,<div></div>",
                "S.next(60) is called and returns 1,<div></div>",
                "S.next(70) is called and returns 2,<div></div>",
                "S.next(60) is called and returns 1,<div></div>",
                "S.next(75) is called and returns 4,<div></div>",
                "S.next(85) is called and returns 6.<div></div>",
                "<div></div>",
                "Note that (for example) S.next(75) returned 4, because the last 4 prices<div></div>",
                "(including today&#39;s price of 75) were less than or equal to today&#39;s price.<div></div>",
                "</pre><div></div>",
                "<div></div>",
                "<p>&nbsp;</p><div></div>",
                "<div></div>",
                "<p><strong>Note:</strong></p><div></div>",
                "<div></div>",
                "<ol><div></div>",
                "\t<li>Calls to <code>StockSpanner.next(int price)</code> will have <code>1 &lt;= price &lt;= 10^5</code>.</li><div></div>",
                "\t<li>There will be at most <code>10000</code> calls to <code>StockSpanner.next</code>&nbsp;per test case.</li><div></div>",
                "\t<li>There will be at most <code>150000</code> calls to <code>StockSpanner.next</code> across all test cases.</li><div></div>",
                "\t<li>The total&nbsp;time limit for this problem has been reduced by 75% for&nbsp;C++, and 50% for all other languages.</li><div></div>",
                "</ol><div></div>",
                "</div><div></div>",
                "<div></div>"
            ],
            "metadata": {}
        },
        {
            "cell_type": "code",
            "metadata": {},
            "execution_count": null,
            "source": "%%writefile online_stock_span.py\nclass StockSpanner:\n\n    def __init__(self):\n        \n\n    def next(self, price):\n        \"\"\"\n        :type price: int\n        :rtype: int\n        \"\"\"\n        \n\n\n# Your StockSpanner object will be instantiated and called as such:\n# obj = StockSpanner()\n# param_1 = obj.next(price)",
            "outputs": []
        },
        {
            "cell_type": "code",
            "metadata": {},
            "execution_count": null,
            "source": "# submit\n%run ../../cli.py push --method=submit --path=online_stock_span.py --clean=True",
            "outputs": []
        }
    ]
}