{
    "nbformat": 4,
    "nbformat_minor": 2,
    "metadata": {
        "kernelspec": {
            "display_name": "Python 3",
            "language": "python",
            "name": "python3"
        },
        "language_info": {
            "codemirror_mode": {
                "name": "ipython",
                "version": 3
            },
            "file_extension": ".py",
            "mimetype": "text/x-python",
            "name": "python",
            "nbconvert_exporter": "python",
            "pygments_lexer": "ipython3",
            "version": "3.7.2"
        }
    },
    "cells": [
        {
            "cell_type": "markdown",
            "source": [
                "<h1>Split Array With Same Average</h1>",
                "<p>In a given integer array A, we must move every element of A to either list B or list C. (B and C initially start empty.)</p><div></div>",
                "<div></div>",
                "<p>Return true if and only if after such a move, it is possible that the average value of B is equal to the average value of C, and B and C are both non-empty.</p><div></div>",
                "<div></div>",
                "<pre><div></div>",
                "<strong>Example :</strong><div></div>",
                "<strong>Input:</strong> <div></div>",
                "[1,2,3,4,5,6,7,8]<div></div>",
                "<strong>Output:</strong> true<div></div>",
                "<strong>Explanation: </strong>We can split the array into [1,4,5,8] and [2,3,6,7], and both of them have the average of 4.5.<div></div>",
                "</pre><div></div>",
                "<div></div>",
                "<p><strong>Note:</strong></p><div></div>",
                "<div></div>",
                "<ul><div></div>",
                "\t<li>The length of <code>A</code> will be in the range&nbsp;[1, 30].</li><div></div>",
                "\t<li><code>A[i]</code> will be in the range of <code>[0, 10000]</code>.</li><div></div>",
                "</ul><div></div>",
                "<div></div>",
                "<p>&nbsp;</p><div></div>",
                "<div></div>"
            ],
            "metadata": {}
        },
        {
            "cell_type": "code",
            "metadata": {},
            "execution_count": null,
            "source": "%%writefile split_array_with_same_average.py\nclass Solution:\n    def splitArraySameAverage(self, A):\n        \"\"\"\n        :type A: List[int]\n        :rtype: bool\n        \"\"\"",
            "outputs": []
        },
        {
            "cell_type": "code",
            "metadata": {},
            "execution_count": null,
            "source": "# submit\n%run ../../cli.py push --method=submit --path=split_array_with_same_average.py --clean=True",
            "outputs": []
        }
    ]
}