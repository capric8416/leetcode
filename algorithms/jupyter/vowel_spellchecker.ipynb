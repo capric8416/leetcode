{
    "nbformat": 4,
    "nbformat_minor": 2,
    "metadata": {
        "kernelspec": {
            "display_name": "Python 3",
            "language": "python",
            "name": "python3"
        },
        "language_info": {
            "codemirror_mode": {
                "name": "ipython",
                "version": 3
            },
            "file_extension": ".py",
            "mimetype": "text/x-python",
            "name": "python",
            "nbconvert_exporter": "python",
            "pygments_lexer": "ipython3",
            "version": "3.7.2"
        }
    },
    "cells": [
        {
            "cell_type": "markdown",
            "source": [
                "<h1>Vowel Spellchecker</h1>",
                "<p>Given a&nbsp;<code>wordlist</code>, we want to implement a spellchecker that converts a query word into a correct word.</p><div></div>",
                "<div></div>",
                "<p>For a given <code>query</code> word, the spell checker handles two categories of spelling mistakes:</p><div></div>",
                "<div></div>",
                "<ul><div></div>",
                "\t<li>Capitalization: If the query matches a word in the wordlist (<strong>case-insensitive</strong>), then the query word is returned with the same case as the case in the wordlist.<div></div>",
                "<div></div>",
                "\t<ul><div></div>",
                "\t\t<li>Example: <code>wordlist = [&quot;yellow&quot;]</code>, <code>query = &quot;YellOw&quot;</code>: <code>correct = &quot;yellow&quot;</code></li><div></div>",
                "\t\t<li>Example: <code>wordlist = [&quot;Yellow&quot;]</code>, <code>query = &quot;yellow&quot;</code>: <code>correct = &quot;Yellow&quot;</code></li><div></div>",
                "\t\t<li>Example: <code>wordlist = [&quot;yellow&quot;]</code>, <code>query = &quot;yellow&quot;</code>: <code>correct = &quot;yellow&quot;</code></li><div></div>",
                "\t</ul><div></div>",
                "\t</li><div></div>",
                "\t<li>Vowel Errors: If after replacing the vowels (&#39;a&#39;, &#39;e&#39;, &#39;i&#39;, &#39;o&#39;, &#39;u&#39;) of the query word with any vowel individually, it matches a word in the wordlist (<strong>case-insensitive</strong>), then the query word is returned with the same case as the match in the wordlist.<div></div>",
                "\t<ul><div></div>",
                "\t\t<li>Example: <code>wordlist = [&quot;YellOw&quot;]</code>, <code>query = &quot;yollow&quot;</code>: <code>correct = &quot;YellOw&quot;</code></li><div></div>",
                "\t\t<li>Example: <code>wordlist = [&quot;YellOw&quot;]</code>, <code>query = &quot;yeellow&quot;</code>: <code>correct = &quot;&quot;</code> (no match)</li><div></div>",
                "\t\t<li>Example: <code>wordlist = [&quot;YellOw&quot;]</code>, <code>query = &quot;yllw&quot;</code>: <code>correct = &quot;&quot;</code> (no match)</li><div></div>",
                "\t</ul><div></div>",
                "\t</li><div></div>",
                "</ul><div></div>",
                "<div></div>",
                "<p>In addition, the spell checker operates under the following precedence rules:</p><div></div>",
                "<div></div>",
                "<ul><div></div>",
                "\t<li>When the query exactly matches a word in the wordlist (<strong>case-sensitive</strong>), you should return the same word back.</li><div></div>",
                "\t<li>When the query matches a word up to capitlization, you should return the first such match in the wordlist.</li><div></div>",
                "\t<li>When the query matches a word up to vowel errors, you should return the first such match in the wordlist.</li><div></div>",
                "\t<li>If the query has no matches in the wordlist, you should return the empty string.</li><div></div>",
                "</ul><div></div>",
                "<div></div>",
                "<p>Given some <code>queries</code>, return a&nbsp;list of words <code>answer</code>, where <code>answer[i]</code>&nbsp;is&nbsp;the correct word for <code>query = queries[i]</code>.</p><div></div>",
                "<div></div>",
                "<p>&nbsp;</p><div></div>",
                "<div></div>",
                "<p><strong>Example 1:</strong></p><div></div>",
                "<div></div>",
                "<pre><div></div>",
                "<strong>Input: </strong>wordlist = <span id=\"example-input-1-1\">[&quot;KiTe&quot;,&quot;kite&quot;,&quot;hare&quot;,&quot;Hare&quot;]</span>, queries = <span id=\"example-input-1-2\">[&quot;kite&quot;,&quot;Kite&quot;,&quot;KiTe&quot;,&quot;Hare&quot;,&quot;HARE&quot;,&quot;Hear&quot;,&quot;hear&quot;,&quot;keti&quot;,&quot;keet&quot;,&quot;keto&quot;]</span><div></div>",
                "<strong>Output: </strong><span id=\"example-output-1\">[&quot;kite&quot;,&quot;KiTe&quot;,&quot;KiTe&quot;,&quot;Hare&quot;,&quot;hare&quot;,&quot;&quot;,&quot;&quot;,&quot;KiTe&quot;,&quot;&quot;,&quot;KiTe&quot;]</span></pre><div></div>",
                "<div></div>",
                "<p>&nbsp;</p><div></div>",
                "<div></div>",
                "<p><strong>Note:</strong></p><div></div>",
                "<div></div>",
                "<ul><div></div>",
                "\t<li><code>1 &lt;= wordlist.length &lt;= 5000</code></li><div></div>",
                "\t<li><code>1 &lt;= queries.length &lt;= 5000</code></li><div></div>",
                "\t<li><code>1 &lt;= wordlist[i].length &lt;= 7</code></li><div></div>",
                "\t<li><code>1 &lt;= queries[i].length &lt;= 7</code></li><div></div>",
                "\t<li>All strings in <code>wordlist</code> and <code>queries</code> consist only of <strong>english</strong>&nbsp;letters.</li><div></div>",
                "</ul><div></div>",
                "<div></div>"
            ],
            "metadata": {}
        },
        {
            "cell_type": "code",
            "metadata": {},
            "execution_count": null,
            "source": "%%writefile vowel_spellchecker.py\nclass Solution:\n    def spellchecker(self, wordlist, queries):\n        \"\"\"\n        :type wordlist: List[str]\n        :type queries: List[str]\n        :rtype: List[str]\n        \"\"\"",
            "outputs": []
        },
        {
            "cell_type": "code",
            "metadata": {},
            "execution_count": null,
            "source": "# submit\n%run ../../cli.py push --method=submit --path=vowel_spellchecker.py --clean=True",
            "outputs": []
        }
    ]
}