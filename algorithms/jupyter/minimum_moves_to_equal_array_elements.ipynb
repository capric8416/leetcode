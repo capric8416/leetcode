{
    "nbformat": 4,
    "nbformat_minor": 2,
    "metadata": {
        "kernelspec": {
            "display_name": "Python 3",
            "language": "python",
            "name": "python3"
        },
        "language_info": {
            "codemirror_mode": {
                "name": "ipython",
                "version": 3
            },
            "file_extension": ".py",
            "mimetype": "text/x-python",
            "name": "python",
            "nbconvert_exporter": "python",
            "pygments_lexer": "ipython3",
            "version": "3.7.2"
        }
    },
    "cells": [
        {
            "cell_type": "markdown",
            "source": [
                "<h1>Minimum Moves to Equal Array Elements</h1>",
                "<p>Given a <b>non-empty</b> integer array of size <i>n</i>, find the minimum number of moves required to make all array elements equal, where a move is incrementing <i>n</i> - 1 elements by 1.</p><div></div>",
                "<div></div>",
                "<p><b>Example:</b><div></div>",
                "<pre><div></div>",
                "<b>Input:</b><div></div>",
                "[1,2,3]<div></div>",
                "<div></div>",
                "<b>Output:</b><div></div>",
                "3<div></div>",
                "<div></div>",
                "<b>Explanation:</b><div></div>",
                "Only three moves are needed (remember each move increments two elements):<div></div>",
                "<div></div>",
                "[1,2,3]  =>  [2,3,3]  =>  [3,4,3]  =>  [4,4,4]<div></div>",
                "</pre><div></div>",
                "</p><div></div>"
            ],
            "metadata": {}
        },
        {
            "cell_type": "code",
            "metadata": {},
            "execution_count": null,
            "source": "%%writefile minimum_moves_to_equal_array_elements.py\nclass Solution:\n    def minMoves(self, nums):\n        \"\"\"\n        :type nums: List[int]\n        :rtype: int\n        \"\"\"",
            "outputs": []
        },
        {
            "cell_type": "code",
            "metadata": {},
            "execution_count": null,
            "source": "# submit\n%run ../../cli.py push --method=submit --path=minimum_moves_to_equal_array_elements.py --clean=True",
            "outputs": []
        }
    ]
}