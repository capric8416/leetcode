{
    "nbformat": 4,
    "nbformat_minor": 2,
    "metadata": {
        "kernelspec": {
            "display_name": "Python 3",
            "language": "python",
            "name": "python3"
        },
        "language_info": {
            "codemirror_mode": {
                "name": "ipython",
                "version": 3
            },
            "file_extension": ".py",
            "mimetype": "text/x-python",
            "name": "python",
            "nbconvert_exporter": "python",
            "pygments_lexer": "ipython3",
            "version": "3.7.2"
        }
    },
    "cells": [
        {
            "cell_type": "markdown",
            "source": [
                "<h1>Valid Parentheses</h1>",
                "<p>Given a string containing just the characters <code>&#39;(&#39;</code>, <code>&#39;)&#39;</code>, <code>&#39;{&#39;</code>, <code>&#39;}&#39;</code>, <code>&#39;[&#39;</code> and <code>&#39;]&#39;</code>, determine if the input string is valid.</p><div></div>",
                "<div></div>",
                "<p>An input string is valid if:</p><div></div>",
                "<div></div>",
                "<ol><div></div>",
                "\t<li>Open brackets must be closed by the same type of brackets.</li><div></div>",
                "\t<li>Open brackets must be closed in the correct order.</li><div></div>",
                "</ol><div></div>",
                "<div></div>",
                "<p>Note that an empty string is&nbsp;also considered valid.</p><div></div>",
                "<div></div>",
                "<p><strong>Example 1:</strong></p><div></div>",
                "<div></div>",
                "<pre><div></div>",
                "<strong>Input:</strong> &quot;()&quot;<div></div>",
                "<strong>Output:</strong> true<div></div>",
                "</pre><div></div>",
                "<div></div>",
                "<p><strong>Example 2:</strong></p><div></div>",
                "<div></div>",
                "<pre><div></div>",
                "<strong>Input:</strong> &quot;()[]{}&quot;<div></div>",
                "<strong>Output:</strong> true<div></div>",
                "</pre><div></div>",
                "<div></div>",
                "<p><strong>Example 3:</strong></p><div></div>",
                "<div></div>",
                "<pre><div></div>",
                "<strong>Input:</strong> &quot;(]&quot;<div></div>",
                "<strong>Output:</strong> false<div></div>",
                "</pre><div></div>",
                "<div></div>",
                "<p><strong>Example 4:</strong></p><div></div>",
                "<div></div>",
                "<pre><div></div>",
                "<strong>Input:</strong> &quot;([)]&quot;<div></div>",
                "<strong>Output:</strong> false<div></div>",
                "</pre><div></div>",
                "<div></div>",
                "<p><strong>Example 5:</strong></p><div></div>",
                "<div></div>",
                "<pre><div></div>",
                "<strong>Input:</strong> &quot;{[]}&quot;<div></div>",
                "<strong>Output:</strong> true<div></div>",
                "</pre><div></div>",
                "<div></div>"
            ],
            "metadata": {}
        },
        {
            "cell_type": "code",
            "metadata": {},
            "execution_count": null,
            "source": "%%writefile valid_parentheses.py\nclass Solution:\n    def isValid(self, s):\n        \"\"\"\n        :type s: str\n        :rtype: bool\n        \"\"\"",
            "outputs": []
        },
        {
            "cell_type": "code",
            "metadata": {},
            "execution_count": null,
            "source": "# submit\n%run ../../cli.py push --method=submit --path=valid_parentheses.py --clean=True",
            "outputs": []
        }
    ]
}